{
 "cells": [
  {
   "cell_type": "markdown",
   "metadata": {},
   "source": [
    "# Анализ источников привлечения пользователей игры"
   ]
  },
  {
   "cell_type": "markdown",
   "metadata": {},
   "source": [
    "<b>Ссылка на презентацию:</b> https://drive.google.com/file/d/1ayD1ikGiw2PUWNETmZKTqE0CV7yJHEhl/view?usp=sharing"
   ]
  },
  {
   "cell_type": "markdown",
   "metadata": {},
   "source": [
    "## Введение. "
   ]
  },
  {
   "cell_type": "markdown",
   "metadata": {},
   "source": [
    "В данном проекте предстоит сравнить время завершения уровня игроками в зависимости от способа прохождения. \n",
    "\n",
    "А также мы проанализируем окупаемость пользователей, в зависимости от источников привлечения. \n",
    "\n",
    "Выявленные различия проверим на предмет статистической значимости. "
   ]
  },
  {
   "cell_type": "code",
   "execution_count": 2,
   "metadata": {},
   "outputs": [],
   "source": [
    "import pandas as pd\n",
    "import numpy as np\n",
    "import matplotlib as plt\n",
    "import seaborn as sns\n",
    "%matplotlib inline\n",
    "%config InlineBackend.figure_format='retina'\n",
    "import matplotlib.pyplot as plt\n",
    "\n",
    "from scipy import stats as st\n",
    "\n",
    "import warnings # используется, чтобы не выводить на экран предупреждения\n",
    "warnings.filterwarnings('ignore') "
   ]
  },
  {
   "cell_type": "markdown",
   "metadata": {},
   "source": [
    "Загрузим датасеты. "
   ]
  },
  {
   "cell_type": "code",
   "execution_count": 3,
   "metadata": {},
   "outputs": [],
   "source": [
    "game_actions = pd.read_csv('/datasets/game_actions.csv')\n",
    "\n",
    "ad_costs = pd.read_csv('/datasets/ad_costs.csv')\n",
    "\n",
    "user_source = pd.read_csv('/datasets/user_source.csv')"
   ]
  },
  {
   "cell_type": "markdown",
   "metadata": {},
   "source": [
    "Познакомимся с таблицами: выведем на экран первые 5 строк каждой из них, а также посмотрим общую информацию о таблицах. Проверим на наличие явных дубликатов, изучим пропуски. Преобразуем форматы данных, где это требуется. "
   ]
  },
  {
   "cell_type": "markdown",
   "metadata": {},
   "source": [
    "#### Знакомство с таблицей \"ad_costs\":"
   ]
  },
  {
   "cell_type": "code",
   "execution_count": 4,
   "metadata": {
    "scrolled": true
   },
   "outputs": [
    {
     "data": {
      "text/html": [
       "<div>\n",
       "<style scoped>\n",
       "    .dataframe tbody tr th:only-of-type {\n",
       "        vertical-align: middle;\n",
       "    }\n",
       "\n",
       "    .dataframe tbody tr th {\n",
       "        vertical-align: top;\n",
       "    }\n",
       "\n",
       "    .dataframe thead th {\n",
       "        text-align: right;\n",
       "    }\n",
       "</style>\n",
       "<table border=\"1\" class=\"dataframe\">\n",
       "  <thead>\n",
       "    <tr style=\"text-align: right;\">\n",
       "      <th></th>\n",
       "      <th>source</th>\n",
       "      <th>day</th>\n",
       "      <th>cost</th>\n",
       "    </tr>\n",
       "  </thead>\n",
       "  <tbody>\n",
       "    <tr>\n",
       "      <th>0</th>\n",
       "      <td>facebook_ads</td>\n",
       "      <td>2020-05-03</td>\n",
       "      <td>935.882786</td>\n",
       "    </tr>\n",
       "    <tr>\n",
       "      <th>1</th>\n",
       "      <td>facebook_ads</td>\n",
       "      <td>2020-05-04</td>\n",
       "      <td>548.354480</td>\n",
       "    </tr>\n",
       "    <tr>\n",
       "      <th>2</th>\n",
       "      <td>facebook_ads</td>\n",
       "      <td>2020-05-05</td>\n",
       "      <td>260.185754</td>\n",
       "    </tr>\n",
       "    <tr>\n",
       "      <th>3</th>\n",
       "      <td>facebook_ads</td>\n",
       "      <td>2020-05-06</td>\n",
       "      <td>177.982200</td>\n",
       "    </tr>\n",
       "    <tr>\n",
       "      <th>4</th>\n",
       "      <td>facebook_ads</td>\n",
       "      <td>2020-05-07</td>\n",
       "      <td>111.766796</td>\n",
       "    </tr>\n",
       "  </tbody>\n",
       "</table>\n",
       "</div>"
      ],
      "text/plain": [
       "         source         day        cost\n",
       "0  facebook_ads  2020-05-03  935.882786\n",
       "1  facebook_ads  2020-05-04  548.354480\n",
       "2  facebook_ads  2020-05-05  260.185754\n",
       "3  facebook_ads  2020-05-06  177.982200\n",
       "4  facebook_ads  2020-05-07  111.766796"
      ]
     },
     "execution_count": 4,
     "metadata": {},
     "output_type": "execute_result"
    }
   ],
   "source": [
    "ad_costs.head()"
   ]
  },
  {
   "cell_type": "markdown",
   "metadata": {},
   "source": [
    "Проверим таблицу \"ad_costs\" на наличие явных дубликатов. "
   ]
  },
  {
   "cell_type": "code",
   "execution_count": 5,
   "metadata": {},
   "outputs": [
    {
     "data": {
      "text/plain": [
       "0"
      ]
     },
     "execution_count": 5,
     "metadata": {},
     "output_type": "execute_result"
    }
   ],
   "source": [
    "ad_costs.duplicated().sum()"
   ]
  },
  {
   "cell_type": "code",
   "execution_count": 6,
   "metadata": {},
   "outputs": [
    {
     "name": "stdout",
     "output_type": "stream",
     "text": [
      "<class 'pandas.core.frame.DataFrame'>\n",
      "RangeIndex: 28 entries, 0 to 27\n",
      "Data columns (total 3 columns):\n",
      " #   Column  Non-Null Count  Dtype  \n",
      "---  ------  --------------  -----  \n",
      " 0   source  28 non-null     object \n",
      " 1   day     28 non-null     object \n",
      " 2   cost    28 non-null     float64\n",
      "dtypes: float64(1), object(2)\n",
      "memory usage: 800.0+ bytes\n"
     ]
    }
   ],
   "source": [
    "ad_costs.info()"
   ]
  },
  {
   "cell_type": "markdown",
   "metadata": {},
   "source": [
    "Таблица \"ad_costs\" состоит из 3 столбцов и 28 строк. Пропусков в данных нет. \n",
    "\n",
    "Структура таблицы \"ad_cost.csv\":\n",
    "\n",
    "- `day` - день, в который был совершен клик по объявлению\n",
    "\n",
    "- `source` - источник трафика\n",
    "\n",
    "- `cost` - стоимость кликов"
   ]
  },
  {
   "cell_type": "markdown",
   "metadata": {},
   "source": [
    "Посчитаем суммарные расходы на рекламу для каждого канала привлечения: в дальнейшем нам пригодятся эти данные. "
   ]
  },
  {
   "cell_type": "code",
   "execution_count": 7,
   "metadata": {},
   "outputs": [
    {
     "data": {
      "text/html": [
       "<div>\n",
       "<style scoped>\n",
       "    .dataframe tbody tr th:only-of-type {\n",
       "        vertical-align: middle;\n",
       "    }\n",
       "\n",
       "    .dataframe tbody tr th {\n",
       "        vertical-align: top;\n",
       "    }\n",
       "\n",
       "    .dataframe thead th {\n",
       "        text-align: right;\n",
       "    }\n",
       "</style>\n",
       "<table border=\"1\" class=\"dataframe\">\n",
       "  <thead>\n",
       "    <tr style=\"text-align: right;\">\n",
       "      <th></th>\n",
       "      <th>source</th>\n",
       "      <th>ad_cost</th>\n",
       "    </tr>\n",
       "  </thead>\n",
       "  <tbody>\n",
       "    <tr>\n",
       "      <th>0</th>\n",
       "      <td>facebook_ads</td>\n",
       "      <td>2140.904643</td>\n",
       "    </tr>\n",
       "    <tr>\n",
       "      <th>1</th>\n",
       "      <td>instagram_new_adverts</td>\n",
       "      <td>2161.441691</td>\n",
       "    </tr>\n",
       "    <tr>\n",
       "      <th>2</th>\n",
       "      <td>yandex_direct</td>\n",
       "      <td>2233.111449</td>\n",
       "    </tr>\n",
       "    <tr>\n",
       "      <th>3</th>\n",
       "      <td>youtube_channel_reklama</td>\n",
       "      <td>1068.119204</td>\n",
       "    </tr>\n",
       "  </tbody>\n",
       "</table>\n",
       "</div>"
      ],
      "text/plain": [
       "                    source      ad_cost\n",
       "0             facebook_ads  2140.904643\n",
       "1    instagram_new_adverts  2161.441691\n",
       "2            yandex_direct  2233.111449\n",
       "3  youtube_channel_reklama  1068.119204"
      ]
     },
     "execution_count": 7,
     "metadata": {},
     "output_type": "execute_result"
    }
   ],
   "source": [
    "ad_costs_pivot = ad_costs.pivot_table(index=['source'], values='cost', aggfunc=['sum'])\n",
    "ad_costs_pivot = ad_costs_pivot.reset_index()\n",
    "ad_costs_pivot.columns = ['source', 'ad_cost']\n",
    "ad_costs_pivot"
   ]
  },
  {
   "cell_type": "markdown",
   "metadata": {},
   "source": [
    "#### Знакомство с таблицей \"user_source\":"
   ]
  },
  {
   "cell_type": "code",
   "execution_count": 8,
   "metadata": {},
   "outputs": [
    {
     "data": {
      "text/html": [
       "<div>\n",
       "<style scoped>\n",
       "    .dataframe tbody tr th:only-of-type {\n",
       "        vertical-align: middle;\n",
       "    }\n",
       "\n",
       "    .dataframe tbody tr th {\n",
       "        vertical-align: top;\n",
       "    }\n",
       "\n",
       "    .dataframe thead th {\n",
       "        text-align: right;\n",
       "    }\n",
       "</style>\n",
       "<table border=\"1\" class=\"dataframe\">\n",
       "  <thead>\n",
       "    <tr style=\"text-align: right;\">\n",
       "      <th></th>\n",
       "      <th>user_id</th>\n",
       "      <th>source</th>\n",
       "    </tr>\n",
       "  </thead>\n",
       "  <tbody>\n",
       "    <tr>\n",
       "      <th>0</th>\n",
       "      <td>0001f83c-c6ac-4621-b7f0-8a28b283ac30</td>\n",
       "      <td>facebook_ads</td>\n",
       "    </tr>\n",
       "    <tr>\n",
       "      <th>1</th>\n",
       "      <td>00151b4f-ba38-44a8-a650-d7cf130a0105</td>\n",
       "      <td>yandex_direct</td>\n",
       "    </tr>\n",
       "    <tr>\n",
       "      <th>2</th>\n",
       "      <td>001aaea6-3d14-43f1-8ca8-7f48820f17aa</td>\n",
       "      <td>youtube_channel_reklama</td>\n",
       "    </tr>\n",
       "    <tr>\n",
       "      <th>3</th>\n",
       "      <td>001d39dc-366c-4021-9604-6a3b9ff01e25</td>\n",
       "      <td>instagram_new_adverts</td>\n",
       "    </tr>\n",
       "    <tr>\n",
       "      <th>4</th>\n",
       "      <td>002f508f-67b6-479f-814b-b05f00d4e995</td>\n",
       "      <td>facebook_ads</td>\n",
       "    </tr>\n",
       "  </tbody>\n",
       "</table>\n",
       "</div>"
      ],
      "text/plain": [
       "                                user_id                   source\n",
       "0  0001f83c-c6ac-4621-b7f0-8a28b283ac30             facebook_ads\n",
       "1  00151b4f-ba38-44a8-a650-d7cf130a0105            yandex_direct\n",
       "2  001aaea6-3d14-43f1-8ca8-7f48820f17aa  youtube_channel_reklama\n",
       "3  001d39dc-366c-4021-9604-6a3b9ff01e25    instagram_new_adverts\n",
       "4  002f508f-67b6-479f-814b-b05f00d4e995             facebook_ads"
      ]
     },
     "execution_count": 8,
     "metadata": {},
     "output_type": "execute_result"
    }
   ],
   "source": [
    "user_source.head()"
   ]
  },
  {
   "cell_type": "markdown",
   "metadata": {},
   "source": [
    "Проверим таблицу \"user_source\" на наличие явных дубликатов. "
   ]
  },
  {
   "cell_type": "code",
   "execution_count": 9,
   "metadata": {},
   "outputs": [
    {
     "data": {
      "text/plain": [
       "0"
      ]
     },
     "execution_count": 9,
     "metadata": {},
     "output_type": "execute_result"
    }
   ],
   "source": [
    "user_source.duplicated().sum()"
   ]
  },
  {
   "cell_type": "code",
   "execution_count": 10,
   "metadata": {},
   "outputs": [
    {
     "name": "stdout",
     "output_type": "stream",
     "text": [
      "<class 'pandas.core.frame.DataFrame'>\n",
      "RangeIndex: 13576 entries, 0 to 13575\n",
      "Data columns (total 2 columns):\n",
      " #   Column   Non-Null Count  Dtype \n",
      "---  ------   --------------  ----- \n",
      " 0   user_id  13576 non-null  object\n",
      " 1   source   13576 non-null  object\n",
      "dtypes: object(2)\n",
      "memory usage: 212.2+ KB\n"
     ]
    }
   ],
   "source": [
    "user_source.info()"
   ]
  },
  {
   "cell_type": "markdown",
   "metadata": {},
   "source": [
    "Таблица \"user_source\" состоит из двух столбцов и 13576 строк. Пропусков в данных нет. \n",
    "\n",
    "Стурктура таблицы \"user_source\":\n",
    "\n",
    "- `user_id` - идентификатор пользователя\n",
    "- `source` - источников, с которого пришёл пользователь, установивший приложение"
   ]
  },
  {
   "cell_type": "markdown",
   "metadata": {},
   "source": [
    "#### Знакомство с таблицей \"game_actions\":"
   ]
  },
  {
   "cell_type": "code",
   "execution_count": 11,
   "metadata": {},
   "outputs": [
    {
     "data": {
      "text/html": [
       "<div>\n",
       "<style scoped>\n",
       "    .dataframe tbody tr th:only-of-type {\n",
       "        vertical-align: middle;\n",
       "    }\n",
       "\n",
       "    .dataframe tbody tr th {\n",
       "        vertical-align: top;\n",
       "    }\n",
       "\n",
       "    .dataframe thead th {\n",
       "        text-align: right;\n",
       "    }\n",
       "</style>\n",
       "<table border=\"1\" class=\"dataframe\">\n",
       "  <thead>\n",
       "    <tr style=\"text-align: right;\">\n",
       "      <th></th>\n",
       "      <th>event_datetime</th>\n",
       "      <th>event</th>\n",
       "      <th>building_type</th>\n",
       "      <th>user_id</th>\n",
       "      <th>project_type</th>\n",
       "    </tr>\n",
       "  </thead>\n",
       "  <tbody>\n",
       "    <tr>\n",
       "      <th>0</th>\n",
       "      <td>2020-05-04 00:00:01</td>\n",
       "      <td>building</td>\n",
       "      <td>assembly_shop</td>\n",
       "      <td>55e92310-cb8e-4754-b622-597e124b03de</td>\n",
       "      <td>NaN</td>\n",
       "    </tr>\n",
       "    <tr>\n",
       "      <th>1</th>\n",
       "      <td>2020-05-04 00:00:03</td>\n",
       "      <td>building</td>\n",
       "      <td>assembly_shop</td>\n",
       "      <td>c07b1c10-f477-44dc-81dc-ec82254b1347</td>\n",
       "      <td>NaN</td>\n",
       "    </tr>\n",
       "    <tr>\n",
       "      <th>2</th>\n",
       "      <td>2020-05-04 00:00:16</td>\n",
       "      <td>building</td>\n",
       "      <td>assembly_shop</td>\n",
       "      <td>6edd42cc-e753-4ff6-a947-2107cd560710</td>\n",
       "      <td>NaN</td>\n",
       "    </tr>\n",
       "    <tr>\n",
       "      <th>3</th>\n",
       "      <td>2020-05-04 00:00:16</td>\n",
       "      <td>building</td>\n",
       "      <td>assembly_shop</td>\n",
       "      <td>92c69003-d60a-444a-827f-8cc51bf6bf4c</td>\n",
       "      <td>NaN</td>\n",
       "    </tr>\n",
       "    <tr>\n",
       "      <th>4</th>\n",
       "      <td>2020-05-04 00:00:35</td>\n",
       "      <td>building</td>\n",
       "      <td>assembly_shop</td>\n",
       "      <td>cdc6bb92-0ccb-4490-9866-ef142f09139d</td>\n",
       "      <td>NaN</td>\n",
       "    </tr>\n",
       "  </tbody>\n",
       "</table>\n",
       "</div>"
      ],
      "text/plain": [
       "        event_datetime     event  building_type  \\\n",
       "0  2020-05-04 00:00:01  building  assembly_shop   \n",
       "1  2020-05-04 00:00:03  building  assembly_shop   \n",
       "2  2020-05-04 00:00:16  building  assembly_shop   \n",
       "3  2020-05-04 00:00:16  building  assembly_shop   \n",
       "4  2020-05-04 00:00:35  building  assembly_shop   \n",
       "\n",
       "                                user_id project_type  \n",
       "0  55e92310-cb8e-4754-b622-597e124b03de          NaN  \n",
       "1  c07b1c10-f477-44dc-81dc-ec82254b1347          NaN  \n",
       "2  6edd42cc-e753-4ff6-a947-2107cd560710          NaN  \n",
       "3  92c69003-d60a-444a-827f-8cc51bf6bf4c          NaN  \n",
       "4  cdc6bb92-0ccb-4490-9866-ef142f09139d          NaN  "
      ]
     },
     "execution_count": 11,
     "metadata": {},
     "output_type": "execute_result"
    }
   ],
   "source": [
    "game_actions.head()"
   ]
  },
  {
   "cell_type": "code",
   "execution_count": 12,
   "metadata": {},
   "outputs": [
    {
     "name": "stdout",
     "output_type": "stream",
     "text": [
      "<class 'pandas.core.frame.DataFrame'>\n",
      "RangeIndex: 135640 entries, 0 to 135639\n",
      "Data columns (total 5 columns):\n",
      " #   Column          Non-Null Count   Dtype \n",
      "---  ------          --------------   ----- \n",
      " 0   event_datetime  135640 non-null  object\n",
      " 1   event           135640 non-null  object\n",
      " 2   building_type   127957 non-null  object\n",
      " 3   user_id         135640 non-null  object\n",
      " 4   project_type    1866 non-null    object\n",
      "dtypes: object(5)\n",
      "memory usage: 5.2+ MB\n"
     ]
    }
   ],
   "source": [
    "game_actions.info()"
   ]
  },
  {
   "cell_type": "markdown",
   "metadata": {},
   "source": [
    "Таблица \"game_actions\" содержит информацию о поведении пользователя в игре. Состоит из 5 столбцов и 135640 строк. \n",
    "\n",
    "Структура таблицы \"game_actions\":\n",
    "\n",
    "- `event_datetime` — время события;\n",
    "\n",
    "\n",
    "- `event` — одно из трёх событий:\n",
    "    \n",
    "    1. `building` — объект построен,\n",
    "    \n",
    "    2. `finished_stage_1` — первый уровень завершён,\n",
    "    \n",
    "    3. `project` — проект завершён;\n",
    "\n",
    "\n",
    "- `building_type` — один из трёх типов здания:\n",
    "    1. `assembly_shop` — сборочный цех,\n",
    "    2. `spaceport` — космопорт,\n",
    "    3. `research_center` — исследовательский центр;\n",
    "\n",
    "\n",
    "- `user_id` — идентификатор пользователя;\n",
    "\n",
    "\n",
    "- `project_type` — тип реализованного проекта;\n",
    "\n",
    "Есть пропуски в столбцах building_type и project_type."
   ]
  },
  {
   "cell_type": "markdown",
   "metadata": {},
   "source": [
    "Проверим таблицу \"game_actions\" на наличие явных дубликатов. "
   ]
  },
  {
   "cell_type": "code",
   "execution_count": 13,
   "metadata": {},
   "outputs": [
    {
     "data": {
      "text/plain": [
       "1"
      ]
     },
     "execution_count": 13,
     "metadata": {},
     "output_type": "execute_result"
    }
   ],
   "source": [
    "game_actions.duplicated().sum()"
   ]
  },
  {
   "cell_type": "markdown",
   "metadata": {},
   "source": [
    "## Предварительная обработка данных в таблице \"game_actions\". "
   ]
  },
  {
   "cell_type": "markdown",
   "metadata": {},
   "source": [
    "Независимо от причины появления дубликата, удалим его из таблицы."
   ]
  },
  {
   "cell_type": "code",
   "execution_count": 14,
   "metadata": {},
   "outputs": [
    {
     "name": "stdout",
     "output_type": "stream",
     "text": [
      "Число строк в таблице \"game_actions\" до удаления явных дубликатов: 135640\n",
      "Число строк в таблице \"game_actions\" до удаления явных дубликатов: 135639\n"
     ]
    }
   ],
   "source": [
    "print('Число строк в таблице \"game_actions\" до удаления явных дубликатов:', game_actions.shape[0])\n",
    "game_actions = game_actions.drop_duplicates()\n",
    "print('Число строк в таблице \"game_actions\" до удаления явных дубликатов:', game_actions.shape[0])"
   ]
  },
  {
   "cell_type": "markdown",
   "metadata": {},
   "source": [
    "Определим количество уникальных пользователей в таблице. "
   ]
  },
  {
   "cell_type": "code",
   "execution_count": 15,
   "metadata": {},
   "outputs": [
    {
     "name": "stdout",
     "output_type": "stream",
     "text": [
      "Количество уникальных пользователей: 13576\n"
     ]
    }
   ],
   "source": [
    "print('Количество уникальных пользователей:', game_actions['user_id'].nunique())"
   ]
  },
  {
   "cell_type": "markdown",
   "metadata": {},
   "source": [
    "Разберемся с пропусками. Создадим отдельную таблицу, в которой будут строки из таблицы game_actions с пропусками в столбце building_type. Выведем на экран. "
   ]
  },
  {
   "cell_type": "code",
   "execution_count": 16,
   "metadata": {},
   "outputs": [
    {
     "data": {
      "text/html": [
       "<div>\n",
       "<style scoped>\n",
       "    .dataframe tbody tr th:only-of-type {\n",
       "        vertical-align: middle;\n",
       "    }\n",
       "\n",
       "    .dataframe tbody tr th {\n",
       "        vertical-align: top;\n",
       "    }\n",
       "\n",
       "    .dataframe thead th {\n",
       "        text-align: right;\n",
       "    }\n",
       "</style>\n",
       "<table border=\"1\" class=\"dataframe\">\n",
       "  <thead>\n",
       "    <tr style=\"text-align: right;\">\n",
       "      <th></th>\n",
       "      <th>event_datetime</th>\n",
       "      <th>event</th>\n",
       "      <th>building_type</th>\n",
       "      <th>user_id</th>\n",
       "      <th>project_type</th>\n",
       "    </tr>\n",
       "  </thead>\n",
       "  <tbody>\n",
       "    <tr>\n",
       "      <th>119525</th>\n",
       "      <td>2020-05-16 21:17:44</td>\n",
       "      <td>project</td>\n",
       "      <td>NaN</td>\n",
       "      <td>8b454f0d-d413-45ab-90b4-20efc7b9a9bb</td>\n",
       "      <td>satellite_orbital_assembly</td>\n",
       "    </tr>\n",
       "    <tr>\n",
       "      <th>131287</th>\n",
       "      <td>2020-05-21 04:35:06</td>\n",
       "      <td>project</td>\n",
       "      <td>NaN</td>\n",
       "      <td>5327c125-9d30-474e-a346-444014028201</td>\n",
       "      <td>satellite_orbital_assembly</td>\n",
       "    </tr>\n",
       "    <tr>\n",
       "      <th>131323</th>\n",
       "      <td>2020-05-21 05:04:50</td>\n",
       "      <td>project</td>\n",
       "      <td>NaN</td>\n",
       "      <td>966a5565-f858-40e3-a4e6-92039c1628e0</td>\n",
       "      <td>satellite_orbital_assembly</td>\n",
       "    </tr>\n",
       "    <tr>\n",
       "      <th>131320</th>\n",
       "      <td>2020-05-21 04:58:49</td>\n",
       "      <td>project</td>\n",
       "      <td>NaN</td>\n",
       "      <td>6cc0824f-15d6-4cdf-a99f-768aa90706e0</td>\n",
       "      <td>satellite_orbital_assembly</td>\n",
       "    </tr>\n",
       "    <tr>\n",
       "      <th>126062</th>\n",
       "      <td>2020-05-18 17:01:08</td>\n",
       "      <td>project</td>\n",
       "      <td>NaN</td>\n",
       "      <td>3d8b488a-8b6e-428b-a34c-7dab7f617f61</td>\n",
       "      <td>satellite_orbital_assembly</td>\n",
       "    </tr>\n",
       "    <tr>\n",
       "      <th>...</th>\n",
       "      <td>...</td>\n",
       "      <td>...</td>\n",
       "      <td>...</td>\n",
       "      <td>...</td>\n",
       "      <td>...</td>\n",
       "    </tr>\n",
       "    <tr>\n",
       "      <th>114087</th>\n",
       "      <td>2020-05-15 20:18:22</td>\n",
       "      <td>finished_stage_1</td>\n",
       "      <td>NaN</td>\n",
       "      <td>0ebf4e00-2ab2-481e-b9ce-c57e8c3f40df</td>\n",
       "      <td>NaN</td>\n",
       "    </tr>\n",
       "    <tr>\n",
       "      <th>114076</th>\n",
       "      <td>2020-05-15 20:15:32</td>\n",
       "      <td>finished_stage_1</td>\n",
       "      <td>NaN</td>\n",
       "      <td>598586cd-ebe3-4c37-abb5-fa221293c6e1</td>\n",
       "      <td>NaN</td>\n",
       "    </tr>\n",
       "    <tr>\n",
       "      <th>114072</th>\n",
       "      <td>2020-05-15 20:15:15</td>\n",
       "      <td>finished_stage_1</td>\n",
       "      <td>NaN</td>\n",
       "      <td>48af1220-6e24-4a1b-919d-86dc5af0a5ee</td>\n",
       "      <td>NaN</td>\n",
       "    </tr>\n",
       "    <tr>\n",
       "      <th>114050</th>\n",
       "      <td>2020-05-15 20:09:55</td>\n",
       "      <td>finished_stage_1</td>\n",
       "      <td>NaN</td>\n",
       "      <td>d5417da4-cfcc-470a-8f8b-8f465b4de2ce</td>\n",
       "      <td>NaN</td>\n",
       "    </tr>\n",
       "    <tr>\n",
       "      <th>135639</th>\n",
       "      <td>2020-06-05 12:32:49</td>\n",
       "      <td>finished_stage_1</td>\n",
       "      <td>NaN</td>\n",
       "      <td>f21d179f-1c4b-437e-b9c6-ab1976907195</td>\n",
       "      <td>NaN</td>\n",
       "    </tr>\n",
       "  </tbody>\n",
       "</table>\n",
       "<p>7683 rows × 5 columns</p>\n",
       "</div>"
      ],
      "text/plain": [
       "             event_datetime             event building_type  \\\n",
       "119525  2020-05-16 21:17:44           project           NaN   \n",
       "131287  2020-05-21 04:35:06           project           NaN   \n",
       "131323  2020-05-21 05:04:50           project           NaN   \n",
       "131320  2020-05-21 04:58:49           project           NaN   \n",
       "126062  2020-05-18 17:01:08           project           NaN   \n",
       "...                     ...               ...           ...   \n",
       "114087  2020-05-15 20:18:22  finished_stage_1           NaN   \n",
       "114076  2020-05-15 20:15:32  finished_stage_1           NaN   \n",
       "114072  2020-05-15 20:15:15  finished_stage_1           NaN   \n",
       "114050  2020-05-15 20:09:55  finished_stage_1           NaN   \n",
       "135639  2020-06-05 12:32:49  finished_stage_1           NaN   \n",
       "\n",
       "                                     user_id                project_type  \n",
       "119525  8b454f0d-d413-45ab-90b4-20efc7b9a9bb  satellite_orbital_assembly  \n",
       "131287  5327c125-9d30-474e-a346-444014028201  satellite_orbital_assembly  \n",
       "131323  966a5565-f858-40e3-a4e6-92039c1628e0  satellite_orbital_assembly  \n",
       "131320  6cc0824f-15d6-4cdf-a99f-768aa90706e0  satellite_orbital_assembly  \n",
       "126062  3d8b488a-8b6e-428b-a34c-7dab7f617f61  satellite_orbital_assembly  \n",
       "...                                      ...                         ...  \n",
       "114087  0ebf4e00-2ab2-481e-b9ce-c57e8c3f40df                         NaN  \n",
       "114076  598586cd-ebe3-4c37-abb5-fa221293c6e1                         NaN  \n",
       "114072  48af1220-6e24-4a1b-919d-86dc5af0a5ee                         NaN  \n",
       "114050  d5417da4-cfcc-470a-8f8b-8f465b4de2ce                         NaN  \n",
       "135639  f21d179f-1c4b-437e-b9c6-ab1976907195                         NaN  \n",
       "\n",
       "[7683 rows x 5 columns]"
      ]
     },
     "execution_count": 16,
     "metadata": {},
     "output_type": "execute_result"
    }
   ],
   "source": [
    "game_actions_with_null = game_actions[game_actions['building_type'].isnull()]\n",
    "game_actions_with_null = game_actions_with_null.sort_values(by='event', ascending=False)\n",
    "game_actions_with_null"
   ]
  },
  {
   "cell_type": "markdown",
   "metadata": {},
   "source": [
    "Мы видим, что пропуски в столбце building_type соответствуют значениям project и finished_stage_1 столбца event. Никаких действий с пропусками в столбце building_type предпринимать не требуется, равно как и с пропусками в столбце project_type (данные из этого столбца не будут использованы в дальнейшем анализе)."
   ]
  },
  {
   "cell_type": "markdown",
   "metadata": {},
   "source": [
    "Преобразуем данные в столбце event_datetime в 'datetime', полученные значения запишем в отдельный столбец 'event_dt'. Из столбца 'event_dt' извлечем дату, запишем результат в столбец 'only_date'. \n",
    "\n",
    "Преобразуем данные в столбце only_date в формат \"datetime\". Удалим столбцы event_datetime и event_dt, а также столбец project_type. "
   ]
  },
  {
   "cell_type": "code",
   "execution_count": 17,
   "metadata": {},
   "outputs": [],
   "source": [
    "game_actions['event_dt'] = pd.to_datetime(game_actions['event_datetime']) \n",
    "game_actions['only_date'] = pd.to_datetime(game_actions['event_dt']).dt.date\n",
    "game_actions['only_date'] = pd.to_datetime(game_actions['only_date']) \n",
    "game_actions = game_actions.drop(columns = ['event_datetime', 'event_dt', 'project_type'])"
   ]
  },
  {
   "cell_type": "markdown",
   "metadata": {},
   "source": [
    "## Подготовка данных для сравнения времени завершения уровня игроками в зависимости от способа прохождения. "
   ]
  },
  {
   "cell_type": "markdown",
   "metadata": {},
   "source": [
    "Для дальнейшего анализа нас будут интересовать пользователи, завершившие первый уровень (т.е. пользователи, у которых в столбце event есть значение finished_stage_1). Создадим таблицы с такими пользователями и выведем ее на экран."
   ]
  },
  {
   "cell_type": "code",
   "execution_count": 18,
   "metadata": {},
   "outputs": [
    {
     "data": {
      "text/html": [
       "<div>\n",
       "<style scoped>\n",
       "    .dataframe tbody tr th:only-of-type {\n",
       "        vertical-align: middle;\n",
       "    }\n",
       "\n",
       "    .dataframe tbody tr th {\n",
       "        vertical-align: top;\n",
       "    }\n",
       "\n",
       "    .dataframe thead th {\n",
       "        text-align: right;\n",
       "    }\n",
       "</style>\n",
       "<table border=\"1\" class=\"dataframe\">\n",
       "  <thead>\n",
       "    <tr style=\"text-align: right;\">\n",
       "      <th></th>\n",
       "      <th>event</th>\n",
       "      <th>building_type</th>\n",
       "      <th>user_id</th>\n",
       "      <th>only_date</th>\n",
       "    </tr>\n",
       "  </thead>\n",
       "  <tbody>\n",
       "    <tr>\n",
       "      <th>6659</th>\n",
       "      <td>finished_stage_1</td>\n",
       "      <td>NaN</td>\n",
       "      <td>ced7b368-818f-48f6-9461-2346de0892c5</td>\n",
       "      <td>2020-05-04</td>\n",
       "    </tr>\n",
       "    <tr>\n",
       "      <th>13134</th>\n",
       "      <td>finished_stage_1</td>\n",
       "      <td>NaN</td>\n",
       "      <td>7ef7fc89-2779-46ea-b328-9e5035b83af5</td>\n",
       "      <td>2020-05-05</td>\n",
       "    </tr>\n",
       "    <tr>\n",
       "      <th>15274</th>\n",
       "      <td>finished_stage_1</td>\n",
       "      <td>NaN</td>\n",
       "      <td>70db22b3-c2f4-43bc-94ea-51c8d2904a29</td>\n",
       "      <td>2020-05-05</td>\n",
       "    </tr>\n",
       "    <tr>\n",
       "      <th>16284</th>\n",
       "      <td>finished_stage_1</td>\n",
       "      <td>NaN</td>\n",
       "      <td>903fc9ef-ba97-4b12-9d5c-ac8d602fbd8b</td>\n",
       "      <td>2020-05-05</td>\n",
       "    </tr>\n",
       "    <tr>\n",
       "      <th>19650</th>\n",
       "      <td>finished_stage_1</td>\n",
       "      <td>NaN</td>\n",
       "      <td>58e077ba-feb1-4556-a5a0-d96bd04efa39</td>\n",
       "      <td>2020-05-06</td>\n",
       "    </tr>\n",
       "    <tr>\n",
       "      <th>...</th>\n",
       "      <td>...</td>\n",
       "      <td>...</td>\n",
       "      <td>...</td>\n",
       "      <td>...</td>\n",
       "    </tr>\n",
       "    <tr>\n",
       "      <th>135632</th>\n",
       "      <td>finished_stage_1</td>\n",
       "      <td>NaN</td>\n",
       "      <td>22cce310-fe10-41a2-941b-9c3d63327fea</td>\n",
       "      <td>2020-06-04</td>\n",
       "    </tr>\n",
       "    <tr>\n",
       "      <th>135633</th>\n",
       "      <td>finished_stage_1</td>\n",
       "      <td>NaN</td>\n",
       "      <td>d477dde8-7c22-4f23-9c4f-4ec31a1aa4c8</td>\n",
       "      <td>2020-06-04</td>\n",
       "    </tr>\n",
       "    <tr>\n",
       "      <th>135636</th>\n",
       "      <td>finished_stage_1</td>\n",
       "      <td>NaN</td>\n",
       "      <td>515c1952-99aa-4bca-a7ea-d0449eb5385a</td>\n",
       "      <td>2020-06-05</td>\n",
       "    </tr>\n",
       "    <tr>\n",
       "      <th>135638</th>\n",
       "      <td>finished_stage_1</td>\n",
       "      <td>NaN</td>\n",
       "      <td>32572adb-900f-4b5d-a453-1eb1e6d88d8b</td>\n",
       "      <td>2020-06-05</td>\n",
       "    </tr>\n",
       "    <tr>\n",
       "      <th>135639</th>\n",
       "      <td>finished_stage_1</td>\n",
       "      <td>NaN</td>\n",
       "      <td>f21d179f-1c4b-437e-b9c6-ab1976907195</td>\n",
       "      <td>2020-06-05</td>\n",
       "    </tr>\n",
       "  </tbody>\n",
       "</table>\n",
       "<p>5817 rows × 4 columns</p>\n",
       "</div>"
      ],
      "text/plain": [
       "                   event building_type                               user_id  \\\n",
       "6659    finished_stage_1           NaN  ced7b368-818f-48f6-9461-2346de0892c5   \n",
       "13134   finished_stage_1           NaN  7ef7fc89-2779-46ea-b328-9e5035b83af5   \n",
       "15274   finished_stage_1           NaN  70db22b3-c2f4-43bc-94ea-51c8d2904a29   \n",
       "16284   finished_stage_1           NaN  903fc9ef-ba97-4b12-9d5c-ac8d602fbd8b   \n",
       "19650   finished_stage_1           NaN  58e077ba-feb1-4556-a5a0-d96bd04efa39   \n",
       "...                  ...           ...                                   ...   \n",
       "135632  finished_stage_1           NaN  22cce310-fe10-41a2-941b-9c3d63327fea   \n",
       "135633  finished_stage_1           NaN  d477dde8-7c22-4f23-9c4f-4ec31a1aa4c8   \n",
       "135636  finished_stage_1           NaN  515c1952-99aa-4bca-a7ea-d0449eb5385a   \n",
       "135638  finished_stage_1           NaN  32572adb-900f-4b5d-a453-1eb1e6d88d8b   \n",
       "135639  finished_stage_1           NaN  f21d179f-1c4b-437e-b9c6-ab1976907195   \n",
       "\n",
       "        only_date  \n",
       "6659   2020-05-04  \n",
       "13134  2020-05-05  \n",
       "15274  2020-05-05  \n",
       "16284  2020-05-05  \n",
       "19650  2020-05-06  \n",
       "...           ...  \n",
       "135632 2020-06-04  \n",
       "135633 2020-06-04  \n",
       "135636 2020-06-05  \n",
       "135638 2020-06-05  \n",
       "135639 2020-06-05  \n",
       "\n",
       "[5817 rows x 4 columns]"
      ]
     },
     "execution_count": 18,
     "metadata": {},
     "output_type": "execute_result"
    }
   ],
   "source": [
    "game_actions_finished_stage_1 = game_actions.loc[game_actions.loc[:,'event'] == 'finished_stage_1']\n",
    "game_actions_finished_stage_1"
   ]
  },
  {
   "cell_type": "markdown",
   "metadata": {},
   "source": [
    "Получилась таблица с 5817 строками. Таково количество уникальных пользователей, оставшихся в таблице. Мы потеряли данные о других событиях из столбца event для каждого из оставшихся пользователей. \n",
    "\n",
    "Для восстановления потерянных данных объединим таблицы \"game_actions_finished_stage_1\" и \"game_actions\" по переменной user_id. Полученную таблицу выведем на экран.  "
   ]
  },
  {
   "cell_type": "code",
   "execution_count": 19,
   "metadata": {},
   "outputs": [
    {
     "name": "stdout",
     "output_type": "stream",
     "text": [
      "<class 'pandas.core.frame.DataFrame'>\n",
      "Int64Index: 5817 entries, 6659 to 135639\n",
      "Data columns (total 4 columns):\n",
      " #   Column         Non-Null Count  Dtype         \n",
      "---  ------         --------------  -----         \n",
      " 0   event          5817 non-null   object        \n",
      " 1   building_type  0 non-null      object        \n",
      " 2   user_id        5817 non-null   object        \n",
      " 3   only_date      5817 non-null   datetime64[ns]\n",
      "dtypes: datetime64[ns](1), object(3)\n",
      "memory usage: 227.2+ KB\n"
     ]
    }
   ],
   "source": [
    "game_actions_finished_stage_1.info()"
   ]
  },
  {
   "cell_type": "code",
   "execution_count": 20,
   "metadata": {},
   "outputs": [
    {
     "name": "stdout",
     "output_type": "stream",
     "text": [
      "<class 'pandas.core.frame.DataFrame'>\n",
      "Int64Index: 135639 entries, 0 to 135639\n",
      "Data columns (total 4 columns):\n",
      " #   Column         Non-Null Count   Dtype         \n",
      "---  ------         --------------   -----         \n",
      " 0   event          135639 non-null  object        \n",
      " 1   building_type  127956 non-null  object        \n",
      " 2   user_id        135639 non-null  object        \n",
      " 3   only_date      135639 non-null  datetime64[ns]\n",
      "dtypes: datetime64[ns](1), object(3)\n",
      "memory usage: 5.2+ MB\n"
     ]
    }
   ],
   "source": [
    "game_actions.info()"
   ]
  },
  {
   "cell_type": "code",
   "execution_count": 85,
   "metadata": {},
   "outputs": [
    {
     "data": {
      "text/html": [
       "<div>\n",
       "<style scoped>\n",
       "    .dataframe tbody tr th:only-of-type {\n",
       "        vertical-align: middle;\n",
       "    }\n",
       "\n",
       "    .dataframe tbody tr th {\n",
       "        vertical-align: top;\n",
       "    }\n",
       "\n",
       "    .dataframe thead th {\n",
       "        text-align: right;\n",
       "    }\n",
       "</style>\n",
       "<table border=\"1\" class=\"dataframe\">\n",
       "  <thead>\n",
       "    <tr style=\"text-align: right;\">\n",
       "      <th></th>\n",
       "      <th>event_x</th>\n",
       "      <th>building_type_x</th>\n",
       "      <th>user_id</th>\n",
       "      <th>only_date_x</th>\n",
       "      <th>event_y</th>\n",
       "      <th>building_type_y</th>\n",
       "      <th>only_date_y</th>\n",
       "    </tr>\n",
       "  </thead>\n",
       "  <tbody>\n",
       "    <tr>\n",
       "      <th>0</th>\n",
       "      <td>finished_stage_1</td>\n",
       "      <td>NaN</td>\n",
       "      <td>ced7b368-818f-48f6-9461-2346de0892c5</td>\n",
       "      <td>2020-05-04</td>\n",
       "      <td>building</td>\n",
       "      <td>assembly_shop</td>\n",
       "      <td>2020-05-04</td>\n",
       "    </tr>\n",
       "    <tr>\n",
       "      <th>1</th>\n",
       "      <td>finished_stage_1</td>\n",
       "      <td>NaN</td>\n",
       "      <td>ced7b368-818f-48f6-9461-2346de0892c5</td>\n",
       "      <td>2020-05-04</td>\n",
       "      <td>building</td>\n",
       "      <td>spaceport</td>\n",
       "      <td>2020-05-04</td>\n",
       "    </tr>\n",
       "    <tr>\n",
       "      <th>2</th>\n",
       "      <td>finished_stage_1</td>\n",
       "      <td>NaN</td>\n",
       "      <td>ced7b368-818f-48f6-9461-2346de0892c5</td>\n",
       "      <td>2020-05-04</td>\n",
       "      <td>finished_stage_1</td>\n",
       "      <td>NaN</td>\n",
       "      <td>2020-05-04</td>\n",
       "    </tr>\n",
       "    <tr>\n",
       "      <th>3</th>\n",
       "      <td>finished_stage_1</td>\n",
       "      <td>NaN</td>\n",
       "      <td>7ef7fc89-2779-46ea-b328-9e5035b83af5</td>\n",
       "      <td>2020-05-05</td>\n",
       "      <td>building</td>\n",
       "      <td>assembly_shop</td>\n",
       "      <td>2020-05-04</td>\n",
       "    </tr>\n",
       "    <tr>\n",
       "      <th>4</th>\n",
       "      <td>finished_stage_1</td>\n",
       "      <td>NaN</td>\n",
       "      <td>7ef7fc89-2779-46ea-b328-9e5035b83af5</td>\n",
       "      <td>2020-05-05</td>\n",
       "      <td>building</td>\n",
       "      <td>spaceport</td>\n",
       "      <td>2020-05-04</td>\n",
       "    </tr>\n",
       "    <tr>\n",
       "      <th>...</th>\n",
       "      <td>...</td>\n",
       "      <td>...</td>\n",
       "      <td>...</td>\n",
       "      <td>...</td>\n",
       "      <td>...</td>\n",
       "      <td>...</td>\n",
       "      <td>...</td>\n",
       "    </tr>\n",
       "    <tr>\n",
       "      <th>68464</th>\n",
       "      <td>finished_stage_1</td>\n",
       "      <td>NaN</td>\n",
       "      <td>f21d179f-1c4b-437e-b9c6-ab1976907195</td>\n",
       "      <td>2020-06-05</td>\n",
       "      <td>building</td>\n",
       "      <td>spaceport</td>\n",
       "      <td>2020-05-29</td>\n",
       "    </tr>\n",
       "    <tr>\n",
       "      <th>68465</th>\n",
       "      <td>finished_stage_1</td>\n",
       "      <td>NaN</td>\n",
       "      <td>f21d179f-1c4b-437e-b9c6-ab1976907195</td>\n",
       "      <td>2020-06-05</td>\n",
       "      <td>building</td>\n",
       "      <td>spaceport</td>\n",
       "      <td>2020-05-30</td>\n",
       "    </tr>\n",
       "    <tr>\n",
       "      <th>68466</th>\n",
       "      <td>finished_stage_1</td>\n",
       "      <td>NaN</td>\n",
       "      <td>f21d179f-1c4b-437e-b9c6-ab1976907195</td>\n",
       "      <td>2020-06-05</td>\n",
       "      <td>building</td>\n",
       "      <td>spaceport</td>\n",
       "      <td>2020-06-02</td>\n",
       "    </tr>\n",
       "    <tr>\n",
       "      <th>68467</th>\n",
       "      <td>finished_stage_1</td>\n",
       "      <td>NaN</td>\n",
       "      <td>f21d179f-1c4b-437e-b9c6-ab1976907195</td>\n",
       "      <td>2020-06-05</td>\n",
       "      <td>building</td>\n",
       "      <td>research_center</td>\n",
       "      <td>2020-06-05</td>\n",
       "    </tr>\n",
       "    <tr>\n",
       "      <th>68468</th>\n",
       "      <td>finished_stage_1</td>\n",
       "      <td>NaN</td>\n",
       "      <td>f21d179f-1c4b-437e-b9c6-ab1976907195</td>\n",
       "      <td>2020-06-05</td>\n",
       "      <td>finished_stage_1</td>\n",
       "      <td>NaN</td>\n",
       "      <td>2020-06-05</td>\n",
       "    </tr>\n",
       "  </tbody>\n",
       "</table>\n",
       "<p>68469 rows × 7 columns</p>\n",
       "</div>"
      ],
      "text/plain": [
       "                event_x building_type_x                               user_id  \\\n",
       "0      finished_stage_1             NaN  ced7b368-818f-48f6-9461-2346de0892c5   \n",
       "1      finished_stage_1             NaN  ced7b368-818f-48f6-9461-2346de0892c5   \n",
       "2      finished_stage_1             NaN  ced7b368-818f-48f6-9461-2346de0892c5   \n",
       "3      finished_stage_1             NaN  7ef7fc89-2779-46ea-b328-9e5035b83af5   \n",
       "4      finished_stage_1             NaN  7ef7fc89-2779-46ea-b328-9e5035b83af5   \n",
       "...                 ...             ...                                   ...   \n",
       "68464  finished_stage_1             NaN  f21d179f-1c4b-437e-b9c6-ab1976907195   \n",
       "68465  finished_stage_1             NaN  f21d179f-1c4b-437e-b9c6-ab1976907195   \n",
       "68466  finished_stage_1             NaN  f21d179f-1c4b-437e-b9c6-ab1976907195   \n",
       "68467  finished_stage_1             NaN  f21d179f-1c4b-437e-b9c6-ab1976907195   \n",
       "68468  finished_stage_1             NaN  f21d179f-1c4b-437e-b9c6-ab1976907195   \n",
       "\n",
       "      only_date_x           event_y  building_type_y only_date_y  \n",
       "0      2020-05-04          building    assembly_shop  2020-05-04  \n",
       "1      2020-05-04          building        spaceport  2020-05-04  \n",
       "2      2020-05-04  finished_stage_1              NaN  2020-05-04  \n",
       "3      2020-05-05          building    assembly_shop  2020-05-04  \n",
       "4      2020-05-05          building        spaceport  2020-05-04  \n",
       "...           ...               ...              ...         ...  \n",
       "68464  2020-06-05          building        spaceport  2020-05-29  \n",
       "68465  2020-06-05          building        spaceport  2020-05-30  \n",
       "68466  2020-06-05          building        spaceport  2020-06-02  \n",
       "68467  2020-06-05          building  research_center  2020-06-05  \n",
       "68468  2020-06-05  finished_stage_1              NaN  2020-06-05  \n",
       "\n",
       "[68469 rows x 7 columns]"
      ]
     },
     "execution_count": 85,
     "metadata": {},
     "output_type": "execute_result"
    }
   ],
   "source": [
    "game_actions_finished_stage_1_result = game_actions_finished_stage_1.merge(game_actions, on=['user_id'], how='left')\n",
    "\n",
    "game_actions_finished_stage_1_result"
   ]
  },
  {
   "cell_type": "markdown",
   "metadata": {},
   "source": [
    "Удалим лишние столбцы: 'event_x', 'building_type_x', 'only_date_x'. Результат выведем на экран."
   ]
  },
  {
   "cell_type": "code",
   "execution_count": 86,
   "metadata": {},
   "outputs": [
    {
     "data": {
      "text/html": [
       "<div>\n",
       "<style scoped>\n",
       "    .dataframe tbody tr th:only-of-type {\n",
       "        vertical-align: middle;\n",
       "    }\n",
       "\n",
       "    .dataframe tbody tr th {\n",
       "        vertical-align: top;\n",
       "    }\n",
       "\n",
       "    .dataframe thead th {\n",
       "        text-align: right;\n",
       "    }\n",
       "</style>\n",
       "<table border=\"1\" class=\"dataframe\">\n",
       "  <thead>\n",
       "    <tr style=\"text-align: right;\">\n",
       "      <th></th>\n",
       "      <th>user_id</th>\n",
       "      <th>event</th>\n",
       "      <th>building_type</th>\n",
       "      <th>only_date</th>\n",
       "    </tr>\n",
       "  </thead>\n",
       "  <tbody>\n",
       "    <tr>\n",
       "      <th>0</th>\n",
       "      <td>ced7b368-818f-48f6-9461-2346de0892c5</td>\n",
       "      <td>building</td>\n",
       "      <td>assembly_shop</td>\n",
       "      <td>2020-05-04</td>\n",
       "    </tr>\n",
       "    <tr>\n",
       "      <th>1</th>\n",
       "      <td>ced7b368-818f-48f6-9461-2346de0892c5</td>\n",
       "      <td>building</td>\n",
       "      <td>spaceport</td>\n",
       "      <td>2020-05-04</td>\n",
       "    </tr>\n",
       "    <tr>\n",
       "      <th>2</th>\n",
       "      <td>ced7b368-818f-48f6-9461-2346de0892c5</td>\n",
       "      <td>finished_stage_1</td>\n",
       "      <td>NaN</td>\n",
       "      <td>2020-05-04</td>\n",
       "    </tr>\n",
       "    <tr>\n",
       "      <th>3</th>\n",
       "      <td>7ef7fc89-2779-46ea-b328-9e5035b83af5</td>\n",
       "      <td>building</td>\n",
       "      <td>assembly_shop</td>\n",
       "      <td>2020-05-04</td>\n",
       "    </tr>\n",
       "    <tr>\n",
       "      <th>4</th>\n",
       "      <td>7ef7fc89-2779-46ea-b328-9e5035b83af5</td>\n",
       "      <td>building</td>\n",
       "      <td>spaceport</td>\n",
       "      <td>2020-05-04</td>\n",
       "    </tr>\n",
       "    <tr>\n",
       "      <th>...</th>\n",
       "      <td>...</td>\n",
       "      <td>...</td>\n",
       "      <td>...</td>\n",
       "      <td>...</td>\n",
       "    </tr>\n",
       "    <tr>\n",
       "      <th>68464</th>\n",
       "      <td>f21d179f-1c4b-437e-b9c6-ab1976907195</td>\n",
       "      <td>building</td>\n",
       "      <td>spaceport</td>\n",
       "      <td>2020-05-29</td>\n",
       "    </tr>\n",
       "    <tr>\n",
       "      <th>68465</th>\n",
       "      <td>f21d179f-1c4b-437e-b9c6-ab1976907195</td>\n",
       "      <td>building</td>\n",
       "      <td>spaceport</td>\n",
       "      <td>2020-05-30</td>\n",
       "    </tr>\n",
       "    <tr>\n",
       "      <th>68466</th>\n",
       "      <td>f21d179f-1c4b-437e-b9c6-ab1976907195</td>\n",
       "      <td>building</td>\n",
       "      <td>spaceport</td>\n",
       "      <td>2020-06-02</td>\n",
       "    </tr>\n",
       "    <tr>\n",
       "      <th>68467</th>\n",
       "      <td>f21d179f-1c4b-437e-b9c6-ab1976907195</td>\n",
       "      <td>building</td>\n",
       "      <td>research_center</td>\n",
       "      <td>2020-06-05</td>\n",
       "    </tr>\n",
       "    <tr>\n",
       "      <th>68468</th>\n",
       "      <td>f21d179f-1c4b-437e-b9c6-ab1976907195</td>\n",
       "      <td>finished_stage_1</td>\n",
       "      <td>NaN</td>\n",
       "      <td>2020-06-05</td>\n",
       "    </tr>\n",
       "  </tbody>\n",
       "</table>\n",
       "<p>68469 rows × 4 columns</p>\n",
       "</div>"
      ],
      "text/plain": [
       "                                    user_id             event  \\\n",
       "0      ced7b368-818f-48f6-9461-2346de0892c5          building   \n",
       "1      ced7b368-818f-48f6-9461-2346de0892c5          building   \n",
       "2      ced7b368-818f-48f6-9461-2346de0892c5  finished_stage_1   \n",
       "3      7ef7fc89-2779-46ea-b328-9e5035b83af5          building   \n",
       "4      7ef7fc89-2779-46ea-b328-9e5035b83af5          building   \n",
       "...                                     ...               ...   \n",
       "68464  f21d179f-1c4b-437e-b9c6-ab1976907195          building   \n",
       "68465  f21d179f-1c4b-437e-b9c6-ab1976907195          building   \n",
       "68466  f21d179f-1c4b-437e-b9c6-ab1976907195          building   \n",
       "68467  f21d179f-1c4b-437e-b9c6-ab1976907195          building   \n",
       "68468  f21d179f-1c4b-437e-b9c6-ab1976907195  finished_stage_1   \n",
       "\n",
       "         building_type  only_date  \n",
       "0        assembly_shop 2020-05-04  \n",
       "1            spaceport 2020-05-04  \n",
       "2                  NaN 2020-05-04  \n",
       "3        assembly_shop 2020-05-04  \n",
       "4            spaceport 2020-05-04  \n",
       "...                ...        ...  \n",
       "68464        spaceport 2020-05-29  \n",
       "68465        spaceport 2020-05-30  \n",
       "68466        spaceport 2020-06-02  \n",
       "68467  research_center 2020-06-05  \n",
       "68468              NaN 2020-06-05  \n",
       "\n",
       "[68469 rows x 4 columns]"
      ]
     },
     "execution_count": 86,
     "metadata": {},
     "output_type": "execute_result"
    }
   ],
   "source": [
    "game_actions_finished_stage_1_result = game_actions_finished_stage_1_result.drop(columns = ['event_x', 'building_type_x', 'only_date_x'])\n",
    "\n",
    "game_actions_finished_stage_1_result.columns = ('user_id', 'event', 'building_type', 'only_date')\n",
    "\n",
    "game_actions_finished_stage_1_result"
   ]
  },
  {
   "cell_type": "markdown",
   "metadata": {},
   "source": [
    "Проверим количество уникальных пользователей в таблице: оно должно быть 5817. "
   ]
  },
  {
   "cell_type": "code",
   "execution_count": 87,
   "metadata": {},
   "outputs": [
    {
     "name": "stdout",
     "output_type": "stream",
     "text": [
      "Количество уникальных пользователей: 5817\n"
     ]
    }
   ],
   "source": [
    "print('Количество уникальных пользователей:', game_actions_finished_stage_1_result['user_id'].nunique())"
   ]
  },
  {
   "cell_type": "markdown",
   "metadata": {},
   "source": [
    "Таблица \"game_actions_finished_stage_1_result\" содержит информацию о пользователях, завершивших первый уровень. С помощью этой таблицы мы можем разделить пользователей в зависимости от способа прохождения первого уровня:\n",
    "\n",
    "1) через реализацию проекта (такими будут пользователи, у которых в столбце event есть значение project),\n",
    "\n",
    "2) через победу над первым игроком (такими будут пользователи, у которых в столбце event нет значения project, т.е. все остальные пользователи относительно первой группы)."
   ]
  },
  {
   "cell_type": "markdown",
   "metadata": {},
   "source": [
    "Посмотрим, как часто встречается значение project в столбце event таблицы game_actions_finished_stage_1_result: таким будет количество уникальных пользователей, завершивших первый уровень через реализацию проекта). "
   ]
  },
  {
   "cell_type": "code",
   "execution_count": 88,
   "metadata": {},
   "outputs": [
    {
     "data": {
      "text/plain": [
       "building            60786\n",
       "finished_stage_1     5817\n",
       "project              1866\n",
       "Name: event, dtype: int64"
      ]
     },
     "execution_count": 88,
     "metadata": {},
     "output_type": "execute_result"
    }
   ],
   "source": [
    "game_actions_finished_stage_1_result_values_count = game_actions_finished_stage_1_result['event'].value_counts()\n",
    "game_actions_finished_stage_1_result_values_count"
   ]
  },
  {
   "cell_type": "markdown",
   "metadata": {},
   "source": [
    "Соответственно, количество пользователей, завершивших первый уровень через победу над первым игроком, будет:"
   ]
  },
  {
   "cell_type": "code",
   "execution_count": 89,
   "metadata": {},
   "outputs": [
    {
     "data": {
      "text/plain": [
       "3951"
      ]
     },
     "execution_count": 89,
     "metadata": {},
     "output_type": "execute_result"
    }
   ],
   "source": [
    "game_actions_finished_stage_1_result['user_id'].nunique() - game_actions_finished_stage_1_result['event'].value_counts()['project']"
   ]
  },
  {
   "cell_type": "markdown",
   "metadata": {},
   "source": [
    "Напишем функцию, которая в новом столбце каждой строке присвоит значение project или win в зависимости от значения в столбце event."
   ]
  },
  {
   "cell_type": "code",
   "execution_count": 90,
   "metadata": {},
   "outputs": [
    {
     "data": {
      "text/html": [
       "<div>\n",
       "<style scoped>\n",
       "    .dataframe tbody tr th:only-of-type {\n",
       "        vertical-align: middle;\n",
       "    }\n",
       "\n",
       "    .dataframe tbody tr th {\n",
       "        vertical-align: top;\n",
       "    }\n",
       "\n",
       "    .dataframe thead th {\n",
       "        text-align: right;\n",
       "    }\n",
       "</style>\n",
       "<table border=\"1\" class=\"dataframe\">\n",
       "  <thead>\n",
       "    <tr style=\"text-align: right;\">\n",
       "      <th></th>\n",
       "      <th>user_id</th>\n",
       "      <th>event</th>\n",
       "      <th>building_type</th>\n",
       "      <th>only_date</th>\n",
       "      <th>finish_type</th>\n",
       "    </tr>\n",
       "  </thead>\n",
       "  <tbody>\n",
       "    <tr>\n",
       "      <th>0</th>\n",
       "      <td>ced7b368-818f-48f6-9461-2346de0892c5</td>\n",
       "      <td>building</td>\n",
       "      <td>assembly_shop</td>\n",
       "      <td>2020-05-04</td>\n",
       "      <td>win</td>\n",
       "    </tr>\n",
       "    <tr>\n",
       "      <th>1</th>\n",
       "      <td>ced7b368-818f-48f6-9461-2346de0892c5</td>\n",
       "      <td>building</td>\n",
       "      <td>spaceport</td>\n",
       "      <td>2020-05-04</td>\n",
       "      <td>win</td>\n",
       "    </tr>\n",
       "    <tr>\n",
       "      <th>2</th>\n",
       "      <td>ced7b368-818f-48f6-9461-2346de0892c5</td>\n",
       "      <td>finished_stage_1</td>\n",
       "      <td>NaN</td>\n",
       "      <td>2020-05-04</td>\n",
       "      <td>win</td>\n",
       "    </tr>\n",
       "    <tr>\n",
       "      <th>3</th>\n",
       "      <td>7ef7fc89-2779-46ea-b328-9e5035b83af5</td>\n",
       "      <td>building</td>\n",
       "      <td>assembly_shop</td>\n",
       "      <td>2020-05-04</td>\n",
       "      <td>win</td>\n",
       "    </tr>\n",
       "    <tr>\n",
       "      <th>4</th>\n",
       "      <td>7ef7fc89-2779-46ea-b328-9e5035b83af5</td>\n",
       "      <td>building</td>\n",
       "      <td>spaceport</td>\n",
       "      <td>2020-05-04</td>\n",
       "      <td>win</td>\n",
       "    </tr>\n",
       "    <tr>\n",
       "      <th>...</th>\n",
       "      <td>...</td>\n",
       "      <td>...</td>\n",
       "      <td>...</td>\n",
       "      <td>...</td>\n",
       "      <td>...</td>\n",
       "    </tr>\n",
       "    <tr>\n",
       "      <th>68464</th>\n",
       "      <td>f21d179f-1c4b-437e-b9c6-ab1976907195</td>\n",
       "      <td>building</td>\n",
       "      <td>spaceport</td>\n",
       "      <td>2020-05-29</td>\n",
       "      <td>win</td>\n",
       "    </tr>\n",
       "    <tr>\n",
       "      <th>68465</th>\n",
       "      <td>f21d179f-1c4b-437e-b9c6-ab1976907195</td>\n",
       "      <td>building</td>\n",
       "      <td>spaceport</td>\n",
       "      <td>2020-05-30</td>\n",
       "      <td>win</td>\n",
       "    </tr>\n",
       "    <tr>\n",
       "      <th>68466</th>\n",
       "      <td>f21d179f-1c4b-437e-b9c6-ab1976907195</td>\n",
       "      <td>building</td>\n",
       "      <td>spaceport</td>\n",
       "      <td>2020-06-02</td>\n",
       "      <td>win</td>\n",
       "    </tr>\n",
       "    <tr>\n",
       "      <th>68467</th>\n",
       "      <td>f21d179f-1c4b-437e-b9c6-ab1976907195</td>\n",
       "      <td>building</td>\n",
       "      <td>research_center</td>\n",
       "      <td>2020-06-05</td>\n",
       "      <td>win</td>\n",
       "    </tr>\n",
       "    <tr>\n",
       "      <th>68468</th>\n",
       "      <td>f21d179f-1c4b-437e-b9c6-ab1976907195</td>\n",
       "      <td>finished_stage_1</td>\n",
       "      <td>NaN</td>\n",
       "      <td>2020-06-05</td>\n",
       "      <td>win</td>\n",
       "    </tr>\n",
       "  </tbody>\n",
       "</table>\n",
       "<p>68469 rows × 5 columns</p>\n",
       "</div>"
      ],
      "text/plain": [
       "                                    user_id             event  \\\n",
       "0      ced7b368-818f-48f6-9461-2346de0892c5          building   \n",
       "1      ced7b368-818f-48f6-9461-2346de0892c5          building   \n",
       "2      ced7b368-818f-48f6-9461-2346de0892c5  finished_stage_1   \n",
       "3      7ef7fc89-2779-46ea-b328-9e5035b83af5          building   \n",
       "4      7ef7fc89-2779-46ea-b328-9e5035b83af5          building   \n",
       "...                                     ...               ...   \n",
       "68464  f21d179f-1c4b-437e-b9c6-ab1976907195          building   \n",
       "68465  f21d179f-1c4b-437e-b9c6-ab1976907195          building   \n",
       "68466  f21d179f-1c4b-437e-b9c6-ab1976907195          building   \n",
       "68467  f21d179f-1c4b-437e-b9c6-ab1976907195          building   \n",
       "68468  f21d179f-1c4b-437e-b9c6-ab1976907195  finished_stage_1   \n",
       "\n",
       "         building_type  only_date finish_type  \n",
       "0        assembly_shop 2020-05-04         win  \n",
       "1            spaceport 2020-05-04         win  \n",
       "2                  NaN 2020-05-04         win  \n",
       "3        assembly_shop 2020-05-04         win  \n",
       "4            spaceport 2020-05-04         win  \n",
       "...                ...        ...         ...  \n",
       "68464        spaceport 2020-05-29         win  \n",
       "68465        spaceport 2020-05-30         win  \n",
       "68466        spaceport 2020-06-02         win  \n",
       "68467  research_center 2020-06-05         win  \n",
       "68468              NaN 2020-06-05         win  \n",
       "\n",
       "[68469 rows x 5 columns]"
      ]
     },
     "execution_count": 90,
     "metadata": {},
     "output_type": "execute_result"
    }
   ],
   "source": [
    "def finish_type(row):\n",
    "    if row ['event'] == 'project':\n",
    "        return 'project'\n",
    "    else:\n",
    "        return 'win'\n",
    "\n",
    "game_actions_finished_stage_1_result['finish_type'] = game_actions_finished_stage_1_result.apply(finish_type, axis=1)\n",
    "game_actions_finished_stage_1_result"
   ]
  },
  {
   "cell_type": "markdown",
   "metadata": {},
   "source": [
    "Для определения даты начала использования приложения каждым пользователем, завершившим первый уровень, создадим сводную таблицу. "
   ]
  },
  {
   "cell_type": "code",
   "execution_count": 91,
   "metadata": {},
   "outputs": [
    {
     "data": {
      "text/html": [
       "<div>\n",
       "<style scoped>\n",
       "    .dataframe tbody tr th:only-of-type {\n",
       "        vertical-align: middle;\n",
       "    }\n",
       "\n",
       "    .dataframe tbody tr th {\n",
       "        vertical-align: top;\n",
       "    }\n",
       "\n",
       "    .dataframe thead th {\n",
       "        text-align: right;\n",
       "    }\n",
       "</style>\n",
       "<table border=\"1\" class=\"dataframe\">\n",
       "  <thead>\n",
       "    <tr style=\"text-align: right;\">\n",
       "      <th></th>\n",
       "      <th>user_id</th>\n",
       "      <th>start_date</th>\n",
       "    </tr>\n",
       "  </thead>\n",
       "  <tbody>\n",
       "    <tr>\n",
       "      <th>0</th>\n",
       "      <td>001d39dc-366c-4021-9604-6a3b9ff01e25</td>\n",
       "      <td>2020-05-05</td>\n",
       "    </tr>\n",
       "    <tr>\n",
       "      <th>1</th>\n",
       "      <td>003ee7e8-6356-4286-a715-62f22a18d2a1</td>\n",
       "      <td>2020-05-05</td>\n",
       "    </tr>\n",
       "    <tr>\n",
       "      <th>2</th>\n",
       "      <td>004074f8-251a-4776-922c-8348dca1a2f6</td>\n",
       "      <td>2020-05-04</td>\n",
       "    </tr>\n",
       "    <tr>\n",
       "      <th>3</th>\n",
       "      <td>00464e5e-28ed-4be6-bf44-517ef7b3937b</td>\n",
       "      <td>2020-05-04</td>\n",
       "    </tr>\n",
       "    <tr>\n",
       "      <th>4</th>\n",
       "      <td>0056c007-c082-43cc-bdef-afc49bca4cb9</td>\n",
       "      <td>2020-05-10</td>\n",
       "    </tr>\n",
       "    <tr>\n",
       "      <th>...</th>\n",
       "      <td>...</td>\n",
       "      <td>...</td>\n",
       "    </tr>\n",
       "    <tr>\n",
       "      <th>5812</th>\n",
       "      <td>ffd002f3-3545-423e-8dba-0c6a2d48a3aa</td>\n",
       "      <td>2020-05-06</td>\n",
       "    </tr>\n",
       "    <tr>\n",
       "      <th>5813</th>\n",
       "      <td>ffe810f4-1a1f-464b-924d-6f120b0cb8df</td>\n",
       "      <td>2020-05-04</td>\n",
       "    </tr>\n",
       "    <tr>\n",
       "      <th>5814</th>\n",
       "      <td>ffef4fed-164c-40e1-bde1-3980f76d0fb5</td>\n",
       "      <td>2020-05-04</td>\n",
       "    </tr>\n",
       "    <tr>\n",
       "      <th>5815</th>\n",
       "      <td>fffb626c-5ab6-47c9-8113-2062a2f18494</td>\n",
       "      <td>2020-05-04</td>\n",
       "    </tr>\n",
       "    <tr>\n",
       "      <th>5816</th>\n",
       "      <td>ffff69cc-fec1-4fd3-9f98-93be1112a6b8</td>\n",
       "      <td>2020-05-08</td>\n",
       "    </tr>\n",
       "  </tbody>\n",
       "</table>\n",
       "<p>5817 rows × 2 columns</p>\n",
       "</div>"
      ],
      "text/plain": [
       "                                   user_id start_date\n",
       "0     001d39dc-366c-4021-9604-6a3b9ff01e25 2020-05-05\n",
       "1     003ee7e8-6356-4286-a715-62f22a18d2a1 2020-05-05\n",
       "2     004074f8-251a-4776-922c-8348dca1a2f6 2020-05-04\n",
       "3     00464e5e-28ed-4be6-bf44-517ef7b3937b 2020-05-04\n",
       "4     0056c007-c082-43cc-bdef-afc49bca4cb9 2020-05-10\n",
       "...                                    ...        ...\n",
       "5812  ffd002f3-3545-423e-8dba-0c6a2d48a3aa 2020-05-06\n",
       "5813  ffe810f4-1a1f-464b-924d-6f120b0cb8df 2020-05-04\n",
       "5814  ffef4fed-164c-40e1-bde1-3980f76d0fb5 2020-05-04\n",
       "5815  fffb626c-5ab6-47c9-8113-2062a2f18494 2020-05-04\n",
       "5816  ffff69cc-fec1-4fd3-9f98-93be1112a6b8 2020-05-08\n",
       "\n",
       "[5817 rows x 2 columns]"
      ]
     },
     "execution_count": 91,
     "metadata": {},
     "output_type": "execute_result"
    }
   ],
   "source": [
    "game_actions_finished_stage_1_result_pivot_min = game_actions_finished_stage_1_result.pivot_table(index=['user_id'], values='only_date', aggfunc=['min'])\n",
    "game_actions_finished_stage_1_result_pivot_min = game_actions_finished_stage_1_result_pivot_min.reset_index()\n",
    "game_actions_finished_stage_1_result_pivot_min.columns = ['user_id', 'start_date']\n",
    "game_actions_finished_stage_1_result_pivot_min"
   ]
  },
  {
   "cell_type": "markdown",
   "metadata": {},
   "source": [
    "Сейчас таблица game_actions_finished_stage_1_result содержит все записи о событиях. Отберем только те из них, в которых в столбце event указано finished_stage_1: так в таблице останутся даты завершения первого уровня. "
   ]
  },
  {
   "cell_type": "code",
   "execution_count": 92,
   "metadata": {},
   "outputs": [
    {
     "data": {
      "text/html": [
       "<div>\n",
       "<style scoped>\n",
       "    .dataframe tbody tr th:only-of-type {\n",
       "        vertical-align: middle;\n",
       "    }\n",
       "\n",
       "    .dataframe tbody tr th {\n",
       "        vertical-align: top;\n",
       "    }\n",
       "\n",
       "    .dataframe thead th {\n",
       "        text-align: right;\n",
       "    }\n",
       "</style>\n",
       "<table border=\"1\" class=\"dataframe\">\n",
       "  <thead>\n",
       "    <tr style=\"text-align: right;\">\n",
       "      <th></th>\n",
       "      <th>user_id</th>\n",
       "      <th>event</th>\n",
       "      <th>building_type</th>\n",
       "      <th>only_date</th>\n",
       "      <th>finish_type</th>\n",
       "    </tr>\n",
       "  </thead>\n",
       "  <tbody>\n",
       "    <tr>\n",
       "      <th>2</th>\n",
       "      <td>ced7b368-818f-48f6-9461-2346de0892c5</td>\n",
       "      <td>finished_stage_1</td>\n",
       "      <td>NaN</td>\n",
       "      <td>2020-05-04</td>\n",
       "      <td>win</td>\n",
       "    </tr>\n",
       "    <tr>\n",
       "      <th>5</th>\n",
       "      <td>7ef7fc89-2779-46ea-b328-9e5035b83af5</td>\n",
       "      <td>finished_stage_1</td>\n",
       "      <td>NaN</td>\n",
       "      <td>2020-05-05</td>\n",
       "      <td>win</td>\n",
       "    </tr>\n",
       "    <tr>\n",
       "      <th>8</th>\n",
       "      <td>70db22b3-c2f4-43bc-94ea-51c8d2904a29</td>\n",
       "      <td>finished_stage_1</td>\n",
       "      <td>NaN</td>\n",
       "      <td>2020-05-05</td>\n",
       "      <td>win</td>\n",
       "    </tr>\n",
       "    <tr>\n",
       "      <th>12</th>\n",
       "      <td>903fc9ef-ba97-4b12-9d5c-ac8d602fbd8b</td>\n",
       "      <td>finished_stage_1</td>\n",
       "      <td>NaN</td>\n",
       "      <td>2020-05-05</td>\n",
       "      <td>win</td>\n",
       "    </tr>\n",
       "    <tr>\n",
       "      <th>15</th>\n",
       "      <td>58e077ba-feb1-4556-a5a0-d96bd04efa39</td>\n",
       "      <td>finished_stage_1</td>\n",
       "      <td>NaN</td>\n",
       "      <td>2020-05-06</td>\n",
       "      <td>win</td>\n",
       "    </tr>\n",
       "    <tr>\n",
       "      <th>...</th>\n",
       "      <td>...</td>\n",
       "      <td>...</td>\n",
       "      <td>...</td>\n",
       "      <td>...</td>\n",
       "      <td>...</td>\n",
       "    </tr>\n",
       "    <tr>\n",
       "      <th>68410</th>\n",
       "      <td>22cce310-fe10-41a2-941b-9c3d63327fea</td>\n",
       "      <td>finished_stage_1</td>\n",
       "      <td>NaN</td>\n",
       "      <td>2020-06-04</td>\n",
       "      <td>win</td>\n",
       "    </tr>\n",
       "    <tr>\n",
       "      <th>68425</th>\n",
       "      <td>d477dde8-7c22-4f23-9c4f-4ec31a1aa4c8</td>\n",
       "      <td>finished_stage_1</td>\n",
       "      <td>NaN</td>\n",
       "      <td>2020-06-04</td>\n",
       "      <td>win</td>\n",
       "    </tr>\n",
       "    <tr>\n",
       "      <th>68438</th>\n",
       "      <td>515c1952-99aa-4bca-a7ea-d0449eb5385a</td>\n",
       "      <td>finished_stage_1</td>\n",
       "      <td>NaN</td>\n",
       "      <td>2020-06-05</td>\n",
       "      <td>win</td>\n",
       "    </tr>\n",
       "    <tr>\n",
       "      <th>68455</th>\n",
       "      <td>32572adb-900f-4b5d-a453-1eb1e6d88d8b</td>\n",
       "      <td>finished_stage_1</td>\n",
       "      <td>NaN</td>\n",
       "      <td>2020-06-05</td>\n",
       "      <td>win</td>\n",
       "    </tr>\n",
       "    <tr>\n",
       "      <th>68468</th>\n",
       "      <td>f21d179f-1c4b-437e-b9c6-ab1976907195</td>\n",
       "      <td>finished_stage_1</td>\n",
       "      <td>NaN</td>\n",
       "      <td>2020-06-05</td>\n",
       "      <td>win</td>\n",
       "    </tr>\n",
       "  </tbody>\n",
       "</table>\n",
       "<p>5817 rows × 5 columns</p>\n",
       "</div>"
      ],
      "text/plain": [
       "                                    user_id             event building_type  \\\n",
       "2      ced7b368-818f-48f6-9461-2346de0892c5  finished_stage_1           NaN   \n",
       "5      7ef7fc89-2779-46ea-b328-9e5035b83af5  finished_stage_1           NaN   \n",
       "8      70db22b3-c2f4-43bc-94ea-51c8d2904a29  finished_stage_1           NaN   \n",
       "12     903fc9ef-ba97-4b12-9d5c-ac8d602fbd8b  finished_stage_1           NaN   \n",
       "15     58e077ba-feb1-4556-a5a0-d96bd04efa39  finished_stage_1           NaN   \n",
       "...                                     ...               ...           ...   \n",
       "68410  22cce310-fe10-41a2-941b-9c3d63327fea  finished_stage_1           NaN   \n",
       "68425  d477dde8-7c22-4f23-9c4f-4ec31a1aa4c8  finished_stage_1           NaN   \n",
       "68438  515c1952-99aa-4bca-a7ea-d0449eb5385a  finished_stage_1           NaN   \n",
       "68455  32572adb-900f-4b5d-a453-1eb1e6d88d8b  finished_stage_1           NaN   \n",
       "68468  f21d179f-1c4b-437e-b9c6-ab1976907195  finished_stage_1           NaN   \n",
       "\n",
       "       only_date finish_type  \n",
       "2     2020-05-04         win  \n",
       "5     2020-05-05         win  \n",
       "8     2020-05-05         win  \n",
       "12    2020-05-05         win  \n",
       "15    2020-05-06         win  \n",
       "...          ...         ...  \n",
       "68410 2020-06-04         win  \n",
       "68425 2020-06-04         win  \n",
       "68438 2020-06-05         win  \n",
       "68455 2020-06-05         win  \n",
       "68468 2020-06-05         win  \n",
       "\n",
       "[5817 rows x 5 columns]"
      ]
     },
     "execution_count": 92,
     "metadata": {},
     "output_type": "execute_result"
    }
   ],
   "source": [
    "game_actions_finished_stage_1_result_finish = game_actions_finished_stage_1_result.loc[game_actions_finished_stage_1_result.loc[:,'event'] == 'finished_stage_1']\n",
    "\n",
    "game_actions_finished_stage_1_result_finish"
   ]
  },
  {
   "cell_type": "markdown",
   "metadata": {},
   "source": [
    "Полученную таблицу объединим с таблицей game_actions_finished_stage_1_result_pivot_min (она содержит даты начала использования приложения). Столбец only_date переименуем в finish_date - это будет дата завершения уровня. "
   ]
  },
  {
   "cell_type": "code",
   "execution_count": 93,
   "metadata": {},
   "outputs": [
    {
     "data": {
      "text/html": [
       "<div>\n",
       "<style scoped>\n",
       "    .dataframe tbody tr th:only-of-type {\n",
       "        vertical-align: middle;\n",
       "    }\n",
       "\n",
       "    .dataframe tbody tr th {\n",
       "        vertical-align: top;\n",
       "    }\n",
       "\n",
       "    .dataframe thead th {\n",
       "        text-align: right;\n",
       "    }\n",
       "</style>\n",
       "<table border=\"1\" class=\"dataframe\">\n",
       "  <thead>\n",
       "    <tr style=\"text-align: right;\">\n",
       "      <th></th>\n",
       "      <th>user_id</th>\n",
       "      <th>event</th>\n",
       "      <th>building_type</th>\n",
       "      <th>finish_date</th>\n",
       "      <th>finish_type</th>\n",
       "      <th>start_date</th>\n",
       "    </tr>\n",
       "  </thead>\n",
       "  <tbody>\n",
       "    <tr>\n",
       "      <th>0</th>\n",
       "      <td>ced7b368-818f-48f6-9461-2346de0892c5</td>\n",
       "      <td>finished_stage_1</td>\n",
       "      <td>NaN</td>\n",
       "      <td>2020-05-04</td>\n",
       "      <td>win</td>\n",
       "      <td>2020-05-04</td>\n",
       "    </tr>\n",
       "    <tr>\n",
       "      <th>1</th>\n",
       "      <td>7ef7fc89-2779-46ea-b328-9e5035b83af5</td>\n",
       "      <td>finished_stage_1</td>\n",
       "      <td>NaN</td>\n",
       "      <td>2020-05-05</td>\n",
       "      <td>win</td>\n",
       "      <td>2020-05-04</td>\n",
       "    </tr>\n",
       "    <tr>\n",
       "      <th>2</th>\n",
       "      <td>70db22b3-c2f4-43bc-94ea-51c8d2904a29</td>\n",
       "      <td>finished_stage_1</td>\n",
       "      <td>NaN</td>\n",
       "      <td>2020-05-05</td>\n",
       "      <td>win</td>\n",
       "      <td>2020-05-04</td>\n",
       "    </tr>\n",
       "    <tr>\n",
       "      <th>3</th>\n",
       "      <td>903fc9ef-ba97-4b12-9d5c-ac8d602fbd8b</td>\n",
       "      <td>finished_stage_1</td>\n",
       "      <td>NaN</td>\n",
       "      <td>2020-05-05</td>\n",
       "      <td>win</td>\n",
       "      <td>2020-05-04</td>\n",
       "    </tr>\n",
       "    <tr>\n",
       "      <th>4</th>\n",
       "      <td>58e077ba-feb1-4556-a5a0-d96bd04efa39</td>\n",
       "      <td>finished_stage_1</td>\n",
       "      <td>NaN</td>\n",
       "      <td>2020-05-06</td>\n",
       "      <td>win</td>\n",
       "      <td>2020-05-04</td>\n",
       "    </tr>\n",
       "    <tr>\n",
       "      <th>...</th>\n",
       "      <td>...</td>\n",
       "      <td>...</td>\n",
       "      <td>...</td>\n",
       "      <td>...</td>\n",
       "      <td>...</td>\n",
       "      <td>...</td>\n",
       "    </tr>\n",
       "    <tr>\n",
       "      <th>5812</th>\n",
       "      <td>22cce310-fe10-41a2-941b-9c3d63327fea</td>\n",
       "      <td>finished_stage_1</td>\n",
       "      <td>NaN</td>\n",
       "      <td>2020-06-04</td>\n",
       "      <td>win</td>\n",
       "      <td>2020-05-04</td>\n",
       "    </tr>\n",
       "    <tr>\n",
       "      <th>5813</th>\n",
       "      <td>d477dde8-7c22-4f23-9c4f-4ec31a1aa4c8</td>\n",
       "      <td>finished_stage_1</td>\n",
       "      <td>NaN</td>\n",
       "      <td>2020-06-04</td>\n",
       "      <td>win</td>\n",
       "      <td>2020-05-07</td>\n",
       "    </tr>\n",
       "    <tr>\n",
       "      <th>5814</th>\n",
       "      <td>515c1952-99aa-4bca-a7ea-d0449eb5385a</td>\n",
       "      <td>finished_stage_1</td>\n",
       "      <td>NaN</td>\n",
       "      <td>2020-06-05</td>\n",
       "      <td>win</td>\n",
       "      <td>2020-05-07</td>\n",
       "    </tr>\n",
       "    <tr>\n",
       "      <th>5815</th>\n",
       "      <td>32572adb-900f-4b5d-a453-1eb1e6d88d8b</td>\n",
       "      <td>finished_stage_1</td>\n",
       "      <td>NaN</td>\n",
       "      <td>2020-06-05</td>\n",
       "      <td>win</td>\n",
       "      <td>2020-05-07</td>\n",
       "    </tr>\n",
       "    <tr>\n",
       "      <th>5816</th>\n",
       "      <td>f21d179f-1c4b-437e-b9c6-ab1976907195</td>\n",
       "      <td>finished_stage_1</td>\n",
       "      <td>NaN</td>\n",
       "      <td>2020-06-05</td>\n",
       "      <td>win</td>\n",
       "      <td>2020-05-06</td>\n",
       "    </tr>\n",
       "  </tbody>\n",
       "</table>\n",
       "<p>5817 rows × 6 columns</p>\n",
       "</div>"
      ],
      "text/plain": [
       "                                   user_id             event building_type  \\\n",
       "0     ced7b368-818f-48f6-9461-2346de0892c5  finished_stage_1           NaN   \n",
       "1     7ef7fc89-2779-46ea-b328-9e5035b83af5  finished_stage_1           NaN   \n",
       "2     70db22b3-c2f4-43bc-94ea-51c8d2904a29  finished_stage_1           NaN   \n",
       "3     903fc9ef-ba97-4b12-9d5c-ac8d602fbd8b  finished_stage_1           NaN   \n",
       "4     58e077ba-feb1-4556-a5a0-d96bd04efa39  finished_stage_1           NaN   \n",
       "...                                    ...               ...           ...   \n",
       "5812  22cce310-fe10-41a2-941b-9c3d63327fea  finished_stage_1           NaN   \n",
       "5813  d477dde8-7c22-4f23-9c4f-4ec31a1aa4c8  finished_stage_1           NaN   \n",
       "5814  515c1952-99aa-4bca-a7ea-d0449eb5385a  finished_stage_1           NaN   \n",
       "5815  32572adb-900f-4b5d-a453-1eb1e6d88d8b  finished_stage_1           NaN   \n",
       "5816  f21d179f-1c4b-437e-b9c6-ab1976907195  finished_stage_1           NaN   \n",
       "\n",
       "     finish_date finish_type start_date  \n",
       "0     2020-05-04         win 2020-05-04  \n",
       "1     2020-05-05         win 2020-05-04  \n",
       "2     2020-05-05         win 2020-05-04  \n",
       "3     2020-05-05         win 2020-05-04  \n",
       "4     2020-05-06         win 2020-05-04  \n",
       "...          ...         ...        ...  \n",
       "5812  2020-06-04         win 2020-05-04  \n",
       "5813  2020-06-04         win 2020-05-07  \n",
       "5814  2020-06-05         win 2020-05-07  \n",
       "5815  2020-06-05         win 2020-05-07  \n",
       "5816  2020-06-05         win 2020-05-06  \n",
       "\n",
       "[5817 rows x 6 columns]"
      ]
     },
     "execution_count": 93,
     "metadata": {},
     "output_type": "execute_result"
    }
   ],
   "source": [
    "game_actions_finished_stage_1_result_merged = game_actions_finished_stage_1_result_finish.merge(game_actions_finished_stage_1_result_pivot_min, on=['user_id'], how='inner')\n",
    "\n",
    "    game_actions_finished_stage_1_result_merged.rename(columns={'only_date': 'finish_date'}, inplace=True)\n",
    "\n",
    "game_actions_finished_stage_1_result_merged"
   ]
  },
  {
   "cell_type": "markdown",
   "metadata": {},
   "source": [
    "Удалим лишние столбцы: 'finish_type', 'event', 'building_type'."
   ]
  },
  {
   "cell_type": "code",
   "execution_count": 94,
   "metadata": {},
   "outputs": [
    {
     "data": {
      "text/html": [
       "<div>\n",
       "<style scoped>\n",
       "    .dataframe tbody tr th:only-of-type {\n",
       "        vertical-align: middle;\n",
       "    }\n",
       "\n",
       "    .dataframe tbody tr th {\n",
       "        vertical-align: top;\n",
       "    }\n",
       "\n",
       "    .dataframe thead th {\n",
       "        text-align: right;\n",
       "    }\n",
       "</style>\n",
       "<table border=\"1\" class=\"dataframe\">\n",
       "  <thead>\n",
       "    <tr style=\"text-align: right;\">\n",
       "      <th></th>\n",
       "      <th>user_id</th>\n",
       "      <th>finish_date</th>\n",
       "      <th>start_date</th>\n",
       "    </tr>\n",
       "  </thead>\n",
       "  <tbody>\n",
       "    <tr>\n",
       "      <th>0</th>\n",
       "      <td>ced7b368-818f-48f6-9461-2346de0892c5</td>\n",
       "      <td>2020-05-04</td>\n",
       "      <td>2020-05-04</td>\n",
       "    </tr>\n",
       "    <tr>\n",
       "      <th>1</th>\n",
       "      <td>7ef7fc89-2779-46ea-b328-9e5035b83af5</td>\n",
       "      <td>2020-05-05</td>\n",
       "      <td>2020-05-04</td>\n",
       "    </tr>\n",
       "    <tr>\n",
       "      <th>2</th>\n",
       "      <td>70db22b3-c2f4-43bc-94ea-51c8d2904a29</td>\n",
       "      <td>2020-05-05</td>\n",
       "      <td>2020-05-04</td>\n",
       "    </tr>\n",
       "    <tr>\n",
       "      <th>3</th>\n",
       "      <td>903fc9ef-ba97-4b12-9d5c-ac8d602fbd8b</td>\n",
       "      <td>2020-05-05</td>\n",
       "      <td>2020-05-04</td>\n",
       "    </tr>\n",
       "    <tr>\n",
       "      <th>4</th>\n",
       "      <td>58e077ba-feb1-4556-a5a0-d96bd04efa39</td>\n",
       "      <td>2020-05-06</td>\n",
       "      <td>2020-05-04</td>\n",
       "    </tr>\n",
       "    <tr>\n",
       "      <th>...</th>\n",
       "      <td>...</td>\n",
       "      <td>...</td>\n",
       "      <td>...</td>\n",
       "    </tr>\n",
       "    <tr>\n",
       "      <th>5812</th>\n",
       "      <td>22cce310-fe10-41a2-941b-9c3d63327fea</td>\n",
       "      <td>2020-06-04</td>\n",
       "      <td>2020-05-04</td>\n",
       "    </tr>\n",
       "    <tr>\n",
       "      <th>5813</th>\n",
       "      <td>d477dde8-7c22-4f23-9c4f-4ec31a1aa4c8</td>\n",
       "      <td>2020-06-04</td>\n",
       "      <td>2020-05-07</td>\n",
       "    </tr>\n",
       "    <tr>\n",
       "      <th>5814</th>\n",
       "      <td>515c1952-99aa-4bca-a7ea-d0449eb5385a</td>\n",
       "      <td>2020-06-05</td>\n",
       "      <td>2020-05-07</td>\n",
       "    </tr>\n",
       "    <tr>\n",
       "      <th>5815</th>\n",
       "      <td>32572adb-900f-4b5d-a453-1eb1e6d88d8b</td>\n",
       "      <td>2020-06-05</td>\n",
       "      <td>2020-05-07</td>\n",
       "    </tr>\n",
       "    <tr>\n",
       "      <th>5816</th>\n",
       "      <td>f21d179f-1c4b-437e-b9c6-ab1976907195</td>\n",
       "      <td>2020-06-05</td>\n",
       "      <td>2020-05-06</td>\n",
       "    </tr>\n",
       "  </tbody>\n",
       "</table>\n",
       "<p>5817 rows × 3 columns</p>\n",
       "</div>"
      ],
      "text/plain": [
       "                                   user_id finish_date start_date\n",
       "0     ced7b368-818f-48f6-9461-2346de0892c5  2020-05-04 2020-05-04\n",
       "1     7ef7fc89-2779-46ea-b328-9e5035b83af5  2020-05-05 2020-05-04\n",
       "2     70db22b3-c2f4-43bc-94ea-51c8d2904a29  2020-05-05 2020-05-04\n",
       "3     903fc9ef-ba97-4b12-9d5c-ac8d602fbd8b  2020-05-05 2020-05-04\n",
       "4     58e077ba-feb1-4556-a5a0-d96bd04efa39  2020-05-06 2020-05-04\n",
       "...                                    ...         ...        ...\n",
       "5812  22cce310-fe10-41a2-941b-9c3d63327fea  2020-06-04 2020-05-04\n",
       "5813  d477dde8-7c22-4f23-9c4f-4ec31a1aa4c8  2020-06-04 2020-05-07\n",
       "5814  515c1952-99aa-4bca-a7ea-d0449eb5385a  2020-06-05 2020-05-07\n",
       "5815  32572adb-900f-4b5d-a453-1eb1e6d88d8b  2020-06-05 2020-05-07\n",
       "5816  f21d179f-1c4b-437e-b9c6-ab1976907195  2020-06-05 2020-05-06\n",
       "\n",
       "[5817 rows x 3 columns]"
      ]
     },
     "execution_count": 94,
     "metadata": {},
     "output_type": "execute_result"
    }
   ],
   "source": [
    "game_actions_finished_stage_1_result_merged = game_actions_finished_stage_1_result_merged.drop(columns = ['finish_type', 'event', 'building_type']) \n",
    "game_actions_finished_stage_1_result_merged"
   ]
  },
  {
   "cell_type": "markdown",
   "metadata": {},
   "source": [
    "Сейчас таблица game_actions_finished_stage_1_result_merged содержит информацию о 5817 уникальных пользователях, завершивших первый уровень, а именно их идентификатор и даты начала и завершения первого уровня. Для каждого пользователя необходимо добавить информацию о способе прохождения. \n",
    "\n",
    "Для этого полученную таблицу game_actions_finished_stage_1_result_merged объединим с таблицей game_actions_finished_stage_1_result (для нас представляет интерес столбец event)."
   ]
  },
  {
   "cell_type": "code",
   "execution_count": 95,
   "metadata": {},
   "outputs": [
    {
     "data": {
      "text/html": [
       "<div>\n",
       "<style scoped>\n",
       "    .dataframe tbody tr th:only-of-type {\n",
       "        vertical-align: middle;\n",
       "    }\n",
       "\n",
       "    .dataframe tbody tr th {\n",
       "        vertical-align: top;\n",
       "    }\n",
       "\n",
       "    .dataframe thead th {\n",
       "        text-align: right;\n",
       "    }\n",
       "</style>\n",
       "<table border=\"1\" class=\"dataframe\">\n",
       "  <thead>\n",
       "    <tr style=\"text-align: right;\">\n",
       "      <th></th>\n",
       "      <th>user_id</th>\n",
       "      <th>finish_date</th>\n",
       "      <th>start_date</th>\n",
       "      <th>event</th>\n",
       "      <th>building_type</th>\n",
       "      <th>only_date</th>\n",
       "      <th>finish_type</th>\n",
       "    </tr>\n",
       "  </thead>\n",
       "  <tbody>\n",
       "    <tr>\n",
       "      <th>0</th>\n",
       "      <td>ced7b368-818f-48f6-9461-2346de0892c5</td>\n",
       "      <td>2020-05-04</td>\n",
       "      <td>2020-05-04</td>\n",
       "      <td>building</td>\n",
       "      <td>assembly_shop</td>\n",
       "      <td>2020-05-04</td>\n",
       "      <td>win</td>\n",
       "    </tr>\n",
       "    <tr>\n",
       "      <th>1</th>\n",
       "      <td>ced7b368-818f-48f6-9461-2346de0892c5</td>\n",
       "      <td>2020-05-04</td>\n",
       "      <td>2020-05-04</td>\n",
       "      <td>building</td>\n",
       "      <td>spaceport</td>\n",
       "      <td>2020-05-04</td>\n",
       "      <td>win</td>\n",
       "    </tr>\n",
       "    <tr>\n",
       "      <th>2</th>\n",
       "      <td>ced7b368-818f-48f6-9461-2346de0892c5</td>\n",
       "      <td>2020-05-04</td>\n",
       "      <td>2020-05-04</td>\n",
       "      <td>finished_stage_1</td>\n",
       "      <td>NaN</td>\n",
       "      <td>2020-05-04</td>\n",
       "      <td>win</td>\n",
       "    </tr>\n",
       "    <tr>\n",
       "      <th>3</th>\n",
       "      <td>7ef7fc89-2779-46ea-b328-9e5035b83af5</td>\n",
       "      <td>2020-05-05</td>\n",
       "      <td>2020-05-04</td>\n",
       "      <td>building</td>\n",
       "      <td>assembly_shop</td>\n",
       "      <td>2020-05-04</td>\n",
       "      <td>win</td>\n",
       "    </tr>\n",
       "    <tr>\n",
       "      <th>4</th>\n",
       "      <td>7ef7fc89-2779-46ea-b328-9e5035b83af5</td>\n",
       "      <td>2020-05-05</td>\n",
       "      <td>2020-05-04</td>\n",
       "      <td>building</td>\n",
       "      <td>spaceport</td>\n",
       "      <td>2020-05-04</td>\n",
       "      <td>win</td>\n",
       "    </tr>\n",
       "    <tr>\n",
       "      <th>...</th>\n",
       "      <td>...</td>\n",
       "      <td>...</td>\n",
       "      <td>...</td>\n",
       "      <td>...</td>\n",
       "      <td>...</td>\n",
       "      <td>...</td>\n",
       "      <td>...</td>\n",
       "    </tr>\n",
       "    <tr>\n",
       "      <th>68464</th>\n",
       "      <td>f21d179f-1c4b-437e-b9c6-ab1976907195</td>\n",
       "      <td>2020-06-05</td>\n",
       "      <td>2020-05-06</td>\n",
       "      <td>building</td>\n",
       "      <td>spaceport</td>\n",
       "      <td>2020-05-29</td>\n",
       "      <td>win</td>\n",
       "    </tr>\n",
       "    <tr>\n",
       "      <th>68465</th>\n",
       "      <td>f21d179f-1c4b-437e-b9c6-ab1976907195</td>\n",
       "      <td>2020-06-05</td>\n",
       "      <td>2020-05-06</td>\n",
       "      <td>building</td>\n",
       "      <td>spaceport</td>\n",
       "      <td>2020-05-30</td>\n",
       "      <td>win</td>\n",
       "    </tr>\n",
       "    <tr>\n",
       "      <th>68466</th>\n",
       "      <td>f21d179f-1c4b-437e-b9c6-ab1976907195</td>\n",
       "      <td>2020-06-05</td>\n",
       "      <td>2020-05-06</td>\n",
       "      <td>building</td>\n",
       "      <td>spaceport</td>\n",
       "      <td>2020-06-02</td>\n",
       "      <td>win</td>\n",
       "    </tr>\n",
       "    <tr>\n",
       "      <th>68467</th>\n",
       "      <td>f21d179f-1c4b-437e-b9c6-ab1976907195</td>\n",
       "      <td>2020-06-05</td>\n",
       "      <td>2020-05-06</td>\n",
       "      <td>building</td>\n",
       "      <td>research_center</td>\n",
       "      <td>2020-06-05</td>\n",
       "      <td>win</td>\n",
       "    </tr>\n",
       "    <tr>\n",
       "      <th>68468</th>\n",
       "      <td>f21d179f-1c4b-437e-b9c6-ab1976907195</td>\n",
       "      <td>2020-06-05</td>\n",
       "      <td>2020-05-06</td>\n",
       "      <td>finished_stage_1</td>\n",
       "      <td>NaN</td>\n",
       "      <td>2020-06-05</td>\n",
       "      <td>win</td>\n",
       "    </tr>\n",
       "  </tbody>\n",
       "</table>\n",
       "<p>68469 rows × 7 columns</p>\n",
       "</div>"
      ],
      "text/plain": [
       "                                    user_id finish_date start_date  \\\n",
       "0      ced7b368-818f-48f6-9461-2346de0892c5  2020-05-04 2020-05-04   \n",
       "1      ced7b368-818f-48f6-9461-2346de0892c5  2020-05-04 2020-05-04   \n",
       "2      ced7b368-818f-48f6-9461-2346de0892c5  2020-05-04 2020-05-04   \n",
       "3      7ef7fc89-2779-46ea-b328-9e5035b83af5  2020-05-05 2020-05-04   \n",
       "4      7ef7fc89-2779-46ea-b328-9e5035b83af5  2020-05-05 2020-05-04   \n",
       "...                                     ...         ...        ...   \n",
       "68464  f21d179f-1c4b-437e-b9c6-ab1976907195  2020-06-05 2020-05-06   \n",
       "68465  f21d179f-1c4b-437e-b9c6-ab1976907195  2020-06-05 2020-05-06   \n",
       "68466  f21d179f-1c4b-437e-b9c6-ab1976907195  2020-06-05 2020-05-06   \n",
       "68467  f21d179f-1c4b-437e-b9c6-ab1976907195  2020-06-05 2020-05-06   \n",
       "68468  f21d179f-1c4b-437e-b9c6-ab1976907195  2020-06-05 2020-05-06   \n",
       "\n",
       "                  event    building_type  only_date finish_type  \n",
       "0              building    assembly_shop 2020-05-04         win  \n",
       "1              building        spaceport 2020-05-04         win  \n",
       "2      finished_stage_1              NaN 2020-05-04         win  \n",
       "3              building    assembly_shop 2020-05-04         win  \n",
       "4              building        spaceport 2020-05-04         win  \n",
       "...                 ...              ...        ...         ...  \n",
       "68464          building        spaceport 2020-05-29         win  \n",
       "68465          building        spaceport 2020-05-30         win  \n",
       "68466          building        spaceport 2020-06-02         win  \n",
       "68467          building  research_center 2020-06-05         win  \n",
       "68468  finished_stage_1              NaN 2020-06-05         win  \n",
       "\n",
       "[68469 rows x 7 columns]"
      ]
     },
     "execution_count": 95,
     "metadata": {},
     "output_type": "execute_result"
    }
   ],
   "source": [
    "game_actions_finished_stage_1_result_merged_final = game_actions_finished_stage_1_result_merged.merge(game_actions_finished_stage_1_result, on=['user_id'], how='left')\n",
    "game_actions_finished_stage_1_result_merged_final"
   ]
  },
  {
   "cell_type": "markdown",
   "metadata": {},
   "source": [
    "В полученной таблице оставим только те строки, где в столбце event указано finished_stage_1. Удалим лишние столбцы. "
   ]
  },
  {
   "cell_type": "code",
   "execution_count": 96,
   "metadata": {},
   "outputs": [
    {
     "data": {
      "text/html": [
       "<div>\n",
       "<style scoped>\n",
       "    .dataframe tbody tr th:only-of-type {\n",
       "        vertical-align: middle;\n",
       "    }\n",
       "\n",
       "    .dataframe tbody tr th {\n",
       "        vertical-align: top;\n",
       "    }\n",
       "\n",
       "    .dataframe thead th {\n",
       "        text-align: right;\n",
       "    }\n",
       "</style>\n",
       "<table border=\"1\" class=\"dataframe\">\n",
       "  <thead>\n",
       "    <tr style=\"text-align: right;\">\n",
       "      <th></th>\n",
       "      <th>user_id</th>\n",
       "      <th>finish_date</th>\n",
       "      <th>start_date</th>\n",
       "      <th>event</th>\n",
       "    </tr>\n",
       "  </thead>\n",
       "  <tbody>\n",
       "    <tr>\n",
       "      <th>2</th>\n",
       "      <td>ced7b368-818f-48f6-9461-2346de0892c5</td>\n",
       "      <td>2020-05-04</td>\n",
       "      <td>2020-05-04</td>\n",
       "      <td>finished_stage_1</td>\n",
       "    </tr>\n",
       "    <tr>\n",
       "      <th>5</th>\n",
       "      <td>7ef7fc89-2779-46ea-b328-9e5035b83af5</td>\n",
       "      <td>2020-05-05</td>\n",
       "      <td>2020-05-04</td>\n",
       "      <td>finished_stage_1</td>\n",
       "    </tr>\n",
       "    <tr>\n",
       "      <th>8</th>\n",
       "      <td>70db22b3-c2f4-43bc-94ea-51c8d2904a29</td>\n",
       "      <td>2020-05-05</td>\n",
       "      <td>2020-05-04</td>\n",
       "      <td>finished_stage_1</td>\n",
       "    </tr>\n",
       "    <tr>\n",
       "      <th>12</th>\n",
       "      <td>903fc9ef-ba97-4b12-9d5c-ac8d602fbd8b</td>\n",
       "      <td>2020-05-05</td>\n",
       "      <td>2020-05-04</td>\n",
       "      <td>finished_stage_1</td>\n",
       "    </tr>\n",
       "    <tr>\n",
       "      <th>15</th>\n",
       "      <td>58e077ba-feb1-4556-a5a0-d96bd04efa39</td>\n",
       "      <td>2020-05-06</td>\n",
       "      <td>2020-05-04</td>\n",
       "      <td>finished_stage_1</td>\n",
       "    </tr>\n",
       "    <tr>\n",
       "      <th>...</th>\n",
       "      <td>...</td>\n",
       "      <td>...</td>\n",
       "      <td>...</td>\n",
       "      <td>...</td>\n",
       "    </tr>\n",
       "    <tr>\n",
       "      <th>68410</th>\n",
       "      <td>22cce310-fe10-41a2-941b-9c3d63327fea</td>\n",
       "      <td>2020-06-04</td>\n",
       "      <td>2020-05-04</td>\n",
       "      <td>finished_stage_1</td>\n",
       "    </tr>\n",
       "    <tr>\n",
       "      <th>68425</th>\n",
       "      <td>d477dde8-7c22-4f23-9c4f-4ec31a1aa4c8</td>\n",
       "      <td>2020-06-04</td>\n",
       "      <td>2020-05-07</td>\n",
       "      <td>finished_stage_1</td>\n",
       "    </tr>\n",
       "    <tr>\n",
       "      <th>68438</th>\n",
       "      <td>515c1952-99aa-4bca-a7ea-d0449eb5385a</td>\n",
       "      <td>2020-06-05</td>\n",
       "      <td>2020-05-07</td>\n",
       "      <td>finished_stage_1</td>\n",
       "    </tr>\n",
       "    <tr>\n",
       "      <th>68455</th>\n",
       "      <td>32572adb-900f-4b5d-a453-1eb1e6d88d8b</td>\n",
       "      <td>2020-06-05</td>\n",
       "      <td>2020-05-07</td>\n",
       "      <td>finished_stage_1</td>\n",
       "    </tr>\n",
       "    <tr>\n",
       "      <th>68468</th>\n",
       "      <td>f21d179f-1c4b-437e-b9c6-ab1976907195</td>\n",
       "      <td>2020-06-05</td>\n",
       "      <td>2020-05-06</td>\n",
       "      <td>finished_stage_1</td>\n",
       "    </tr>\n",
       "  </tbody>\n",
       "</table>\n",
       "<p>5817 rows × 4 columns</p>\n",
       "</div>"
      ],
      "text/plain": [
       "                                    user_id finish_date start_date  \\\n",
       "2      ced7b368-818f-48f6-9461-2346de0892c5  2020-05-04 2020-05-04   \n",
       "5      7ef7fc89-2779-46ea-b328-9e5035b83af5  2020-05-05 2020-05-04   \n",
       "8      70db22b3-c2f4-43bc-94ea-51c8d2904a29  2020-05-05 2020-05-04   \n",
       "12     903fc9ef-ba97-4b12-9d5c-ac8d602fbd8b  2020-05-05 2020-05-04   \n",
       "15     58e077ba-feb1-4556-a5a0-d96bd04efa39  2020-05-06 2020-05-04   \n",
       "...                                     ...         ...        ...   \n",
       "68410  22cce310-fe10-41a2-941b-9c3d63327fea  2020-06-04 2020-05-04   \n",
       "68425  d477dde8-7c22-4f23-9c4f-4ec31a1aa4c8  2020-06-04 2020-05-07   \n",
       "68438  515c1952-99aa-4bca-a7ea-d0449eb5385a  2020-06-05 2020-05-07   \n",
       "68455  32572adb-900f-4b5d-a453-1eb1e6d88d8b  2020-06-05 2020-05-07   \n",
       "68468  f21d179f-1c4b-437e-b9c6-ab1976907195  2020-06-05 2020-05-06   \n",
       "\n",
       "                  event  \n",
       "2      finished_stage_1  \n",
       "5      finished_stage_1  \n",
       "8      finished_stage_1  \n",
       "12     finished_stage_1  \n",
       "15     finished_stage_1  \n",
       "...                 ...  \n",
       "68410  finished_stage_1  \n",
       "68425  finished_stage_1  \n",
       "68438  finished_stage_1  \n",
       "68455  finished_stage_1  \n",
       "68468  finished_stage_1  \n",
       "\n",
       "[5817 rows x 4 columns]"
      ]
     },
     "execution_count": 96,
     "metadata": {},
     "output_type": "execute_result"
    }
   ],
   "source": [
    "game_actions_finished_stage_1_result_merged_final = game_actions_finished_stage_1_result_merged_final.loc[game_actions_finished_stage_1_result_merged_final.loc[:,'event'] == 'finished_stage_1']\n",
    "\n",
    "game_actions_finished_stage_1_result_merged_final = game_actions_finished_stage_1_result_merged_final.drop(columns = ['finish_type', 'only_date', 'building_type']) \n",
    "\n",
    "game_actions_finished_stage_1_result_merged_final"
   ]
  },
  {
   "cell_type": "markdown",
   "metadata": {},
   "source": [
    "Отберем из таблицы game_actions_finished_stage_1_result только те записи, в которых в столбце finish_type указано project. "
   ]
  },
  {
   "cell_type": "code",
   "execution_count": 97,
   "metadata": {
    "scrolled": false
   },
   "outputs": [
    {
     "data": {
      "text/html": [
       "<div>\n",
       "<style scoped>\n",
       "    .dataframe tbody tr th:only-of-type {\n",
       "        vertical-align: middle;\n",
       "    }\n",
       "\n",
       "    .dataframe tbody tr th {\n",
       "        vertical-align: top;\n",
       "    }\n",
       "\n",
       "    .dataframe thead th {\n",
       "        text-align: right;\n",
       "    }\n",
       "</style>\n",
       "<table border=\"1\" class=\"dataframe\">\n",
       "  <thead>\n",
       "    <tr style=\"text-align: right;\">\n",
       "      <th></th>\n",
       "      <th>user_id</th>\n",
       "      <th>event</th>\n",
       "      <th>building_type</th>\n",
       "      <th>only_date</th>\n",
       "      <th>finish_type</th>\n",
       "    </tr>\n",
       "  </thead>\n",
       "  <tbody>\n",
       "    <tr>\n",
       "      <th>646</th>\n",
       "      <td>9e57e5bb-49f4-4efb-991c-747d7a88e446</td>\n",
       "      <td>project</td>\n",
       "      <td>NaN</td>\n",
       "      <td>2020-05-10</td>\n",
       "      <td>project</td>\n",
       "    </tr>\n",
       "    <tr>\n",
       "      <th>949</th>\n",
       "      <td>e3c66498-9d45-4000-9392-f81e6796e7da</td>\n",
       "      <td>project</td>\n",
       "      <td>NaN</td>\n",
       "      <td>2020-05-08</td>\n",
       "      <td>project</td>\n",
       "    </tr>\n",
       "    <tr>\n",
       "      <th>1079</th>\n",
       "      <td>a4491c86-c498-4f74-a56e-65c136d0e9a1</td>\n",
       "      <td>project</td>\n",
       "      <td>NaN</td>\n",
       "      <td>2020-05-09</td>\n",
       "      <td>project</td>\n",
       "    </tr>\n",
       "    <tr>\n",
       "      <th>1794</th>\n",
       "      <td>9f63fad6-17b0-493f-938b-8d19e6d6c38c</td>\n",
       "      <td>project</td>\n",
       "      <td>NaN</td>\n",
       "      <td>2020-05-10</td>\n",
       "      <td>project</td>\n",
       "    </tr>\n",
       "    <tr>\n",
       "      <th>2256</th>\n",
       "      <td>ee21905b-ab5a-44c6-9196-e5c9f8fada19</td>\n",
       "      <td>project</td>\n",
       "      <td>NaN</td>\n",
       "      <td>2020-05-11</td>\n",
       "      <td>project</td>\n",
       "    </tr>\n",
       "    <tr>\n",
       "      <th>...</th>\n",
       "      <td>...</td>\n",
       "      <td>...</td>\n",
       "      <td>...</td>\n",
       "      <td>...</td>\n",
       "      <td>...</td>\n",
       "    </tr>\n",
       "    <tr>\n",
       "      <th>68304</th>\n",
       "      <td>9df154c3-fb77-4f8a-a281-0457c0b11cec</td>\n",
       "      <td>project</td>\n",
       "      <td>NaN</td>\n",
       "      <td>2020-05-29</td>\n",
       "      <td>project</td>\n",
       "    </tr>\n",
       "    <tr>\n",
       "      <th>68322</th>\n",
       "      <td>9d98001c-7e14-40d7-896e-46b3047365fd</td>\n",
       "      <td>project</td>\n",
       "      <td>NaN</td>\n",
       "      <td>2020-06-02</td>\n",
       "      <td>project</td>\n",
       "    </tr>\n",
       "    <tr>\n",
       "      <th>68346</th>\n",
       "      <td>82e46f34-e243-4728-8e20-2e171fc33ea4</td>\n",
       "      <td>project</td>\n",
       "      <td>NaN</td>\n",
       "      <td>2020-06-02</td>\n",
       "      <td>project</td>\n",
       "    </tr>\n",
       "    <tr>\n",
       "      <th>68396</th>\n",
       "      <td>fe032991-71e0-48c5-889f-4c3805ba4c9b</td>\n",
       "      <td>project</td>\n",
       "      <td>NaN</td>\n",
       "      <td>2020-06-03</td>\n",
       "      <td>project</td>\n",
       "    </tr>\n",
       "    <tr>\n",
       "      <th>68424</th>\n",
       "      <td>d477dde8-7c22-4f23-9c4f-4ec31a1aa4c8</td>\n",
       "      <td>project</td>\n",
       "      <td>NaN</td>\n",
       "      <td>2020-06-04</td>\n",
       "      <td>project</td>\n",
       "    </tr>\n",
       "  </tbody>\n",
       "</table>\n",
       "<p>1866 rows × 5 columns</p>\n",
       "</div>"
      ],
      "text/plain": [
       "                                    user_id    event building_type  only_date  \\\n",
       "646    9e57e5bb-49f4-4efb-991c-747d7a88e446  project           NaN 2020-05-10   \n",
       "949    e3c66498-9d45-4000-9392-f81e6796e7da  project           NaN 2020-05-08   \n",
       "1079   a4491c86-c498-4f74-a56e-65c136d0e9a1  project           NaN 2020-05-09   \n",
       "1794   9f63fad6-17b0-493f-938b-8d19e6d6c38c  project           NaN 2020-05-10   \n",
       "2256   ee21905b-ab5a-44c6-9196-e5c9f8fada19  project           NaN 2020-05-11   \n",
       "...                                     ...      ...           ...        ...   \n",
       "68304  9df154c3-fb77-4f8a-a281-0457c0b11cec  project           NaN 2020-05-29   \n",
       "68322  9d98001c-7e14-40d7-896e-46b3047365fd  project           NaN 2020-06-02   \n",
       "68346  82e46f34-e243-4728-8e20-2e171fc33ea4  project           NaN 2020-06-02   \n",
       "68396  fe032991-71e0-48c5-889f-4c3805ba4c9b  project           NaN 2020-06-03   \n",
       "68424  d477dde8-7c22-4f23-9c4f-4ec31a1aa4c8  project           NaN 2020-06-04   \n",
       "\n",
       "      finish_type  \n",
       "646       project  \n",
       "949       project  \n",
       "1079      project  \n",
       "1794      project  \n",
       "2256      project  \n",
       "...           ...  \n",
       "68304     project  \n",
       "68322     project  \n",
       "68346     project  \n",
       "68396     project  \n",
       "68424     project  \n",
       "\n",
       "[1866 rows x 5 columns]"
      ]
     },
     "execution_count": 97,
     "metadata": {},
     "output_type": "execute_result"
    }
   ],
   "source": [
    "game_actions_finished_stage_1_result_project = game_actions_finished_stage_1_result.loc[game_actions_finished_stage_1_result.loc[:,'finish_type'] == 'project']\n",
    "game_actions_finished_stage_1_result_project"
   ]
  },
  {
   "cell_type": "markdown",
   "metadata": {},
   "source": [
    "Объединим полученную таблицу и таблицу game_actions_finished_stage_1_result_merged_final, удалим лишние столбцы, а пропущенные значения в столбце finish_type заменим на значение \"win\" (так обозначим тех пользователей, которые завершили уровень через победу над первым игроком). "
   ]
  },
  {
   "cell_type": "code",
   "execution_count": 98,
   "metadata": {},
   "outputs": [
    {
     "data": {
      "text/plain": [
       "win        3951\n",
       "project    1866\n",
       "Name: finish_type, dtype: int64"
      ]
     },
     "execution_count": 98,
     "metadata": {},
     "output_type": "execute_result"
    }
   ],
   "source": [
    "for_1_hyp = game_actions_finished_stage_1_result_merged_final.merge(game_actions_finished_stage_1_result_project, on=['user_id'], how='left')\n",
    "for_1_hyp = for_1_hyp.drop(columns = ['event_x', 'event_y', 'building_type', 'only_date'])\n",
    "for_1_hyp['finish_type'] = for_1_hyp['finish_type'].fillna('win')\n",
    "for_1_hyp['finish_type'].value_counts()"
   ]
  },
  {
   "cell_type": "markdown",
   "metadata": {},
   "source": [
    "Мы видим, что количество игроков со значениями win и project в столбце finish_type соответствует выполненным ранее расчетам. \n",
    "\n",
    "Выведем на экран полученную таблицу. "
   ]
  },
  {
   "cell_type": "code",
   "execution_count": 99,
   "metadata": {},
   "outputs": [
    {
     "data": {
      "text/html": [
       "<div>\n",
       "<style scoped>\n",
       "    .dataframe tbody tr th:only-of-type {\n",
       "        vertical-align: middle;\n",
       "    }\n",
       "\n",
       "    .dataframe tbody tr th {\n",
       "        vertical-align: top;\n",
       "    }\n",
       "\n",
       "    .dataframe thead th {\n",
       "        text-align: right;\n",
       "    }\n",
       "</style>\n",
       "<table border=\"1\" class=\"dataframe\">\n",
       "  <thead>\n",
       "    <tr style=\"text-align: right;\">\n",
       "      <th></th>\n",
       "      <th>user_id</th>\n",
       "      <th>finish_date</th>\n",
       "      <th>start_date</th>\n",
       "      <th>finish_type</th>\n",
       "    </tr>\n",
       "  </thead>\n",
       "  <tbody>\n",
       "    <tr>\n",
       "      <th>0</th>\n",
       "      <td>ced7b368-818f-48f6-9461-2346de0892c5</td>\n",
       "      <td>2020-05-04</td>\n",
       "      <td>2020-05-04</td>\n",
       "      <td>win</td>\n",
       "    </tr>\n",
       "    <tr>\n",
       "      <th>1</th>\n",
       "      <td>7ef7fc89-2779-46ea-b328-9e5035b83af5</td>\n",
       "      <td>2020-05-05</td>\n",
       "      <td>2020-05-04</td>\n",
       "      <td>win</td>\n",
       "    </tr>\n",
       "    <tr>\n",
       "      <th>2</th>\n",
       "      <td>70db22b3-c2f4-43bc-94ea-51c8d2904a29</td>\n",
       "      <td>2020-05-05</td>\n",
       "      <td>2020-05-04</td>\n",
       "      <td>win</td>\n",
       "    </tr>\n",
       "    <tr>\n",
       "      <th>3</th>\n",
       "      <td>903fc9ef-ba97-4b12-9d5c-ac8d602fbd8b</td>\n",
       "      <td>2020-05-05</td>\n",
       "      <td>2020-05-04</td>\n",
       "      <td>win</td>\n",
       "    </tr>\n",
       "    <tr>\n",
       "      <th>4</th>\n",
       "      <td>58e077ba-feb1-4556-a5a0-d96bd04efa39</td>\n",
       "      <td>2020-05-06</td>\n",
       "      <td>2020-05-04</td>\n",
       "      <td>win</td>\n",
       "    </tr>\n",
       "    <tr>\n",
       "      <th>...</th>\n",
       "      <td>...</td>\n",
       "      <td>...</td>\n",
       "      <td>...</td>\n",
       "      <td>...</td>\n",
       "    </tr>\n",
       "    <tr>\n",
       "      <th>5812</th>\n",
       "      <td>22cce310-fe10-41a2-941b-9c3d63327fea</td>\n",
       "      <td>2020-06-04</td>\n",
       "      <td>2020-05-04</td>\n",
       "      <td>win</td>\n",
       "    </tr>\n",
       "    <tr>\n",
       "      <th>5813</th>\n",
       "      <td>d477dde8-7c22-4f23-9c4f-4ec31a1aa4c8</td>\n",
       "      <td>2020-06-04</td>\n",
       "      <td>2020-05-07</td>\n",
       "      <td>project</td>\n",
       "    </tr>\n",
       "    <tr>\n",
       "      <th>5814</th>\n",
       "      <td>515c1952-99aa-4bca-a7ea-d0449eb5385a</td>\n",
       "      <td>2020-06-05</td>\n",
       "      <td>2020-05-07</td>\n",
       "      <td>win</td>\n",
       "    </tr>\n",
       "    <tr>\n",
       "      <th>5815</th>\n",
       "      <td>32572adb-900f-4b5d-a453-1eb1e6d88d8b</td>\n",
       "      <td>2020-06-05</td>\n",
       "      <td>2020-05-07</td>\n",
       "      <td>win</td>\n",
       "    </tr>\n",
       "    <tr>\n",
       "      <th>5816</th>\n",
       "      <td>f21d179f-1c4b-437e-b9c6-ab1976907195</td>\n",
       "      <td>2020-06-05</td>\n",
       "      <td>2020-05-06</td>\n",
       "      <td>win</td>\n",
       "    </tr>\n",
       "  </tbody>\n",
       "</table>\n",
       "<p>5817 rows × 4 columns</p>\n",
       "</div>"
      ],
      "text/plain": [
       "                                   user_id finish_date start_date finish_type\n",
       "0     ced7b368-818f-48f6-9461-2346de0892c5  2020-05-04 2020-05-04         win\n",
       "1     7ef7fc89-2779-46ea-b328-9e5035b83af5  2020-05-05 2020-05-04         win\n",
       "2     70db22b3-c2f4-43bc-94ea-51c8d2904a29  2020-05-05 2020-05-04         win\n",
       "3     903fc9ef-ba97-4b12-9d5c-ac8d602fbd8b  2020-05-05 2020-05-04         win\n",
       "4     58e077ba-feb1-4556-a5a0-d96bd04efa39  2020-05-06 2020-05-04         win\n",
       "...                                    ...         ...        ...         ...\n",
       "5812  22cce310-fe10-41a2-941b-9c3d63327fea  2020-06-04 2020-05-04         win\n",
       "5813  d477dde8-7c22-4f23-9c4f-4ec31a1aa4c8  2020-06-04 2020-05-07     project\n",
       "5814  515c1952-99aa-4bca-a7ea-d0449eb5385a  2020-06-05 2020-05-07         win\n",
       "5815  32572adb-900f-4b5d-a453-1eb1e6d88d8b  2020-06-05 2020-05-07         win\n",
       "5816  f21d179f-1c4b-437e-b9c6-ab1976907195  2020-06-05 2020-05-06         win\n",
       "\n",
       "[5817 rows x 4 columns]"
      ]
     },
     "execution_count": 99,
     "metadata": {},
     "output_type": "execute_result"
    }
   ],
   "source": [
    "for_1_hyp"
   ]
  },
  {
   "cell_type": "markdown",
   "metadata": {},
   "source": [
    "Рассчитаем время прохождения первого уровня. Полученное значение поместим в столбец time. Преобразуем формат данных в столбце time в integer. Полученные целочисленные значения в столбце time увеличим на 1 (это нужно сделать, чтобы первый день завершения уровня считать как 1 день, а не 0). \n",
    "\n",
    "Удалим лишние столбцы из таблицы. "
   ]
  },
  {
   "cell_type": "code",
   "execution_count": 100,
   "metadata": {},
   "outputs": [
    {
     "data": {
      "text/html": [
       "<div>\n",
       "<style scoped>\n",
       "    .dataframe tbody tr th:only-of-type {\n",
       "        vertical-align: middle;\n",
       "    }\n",
       "\n",
       "    .dataframe tbody tr th {\n",
       "        vertical-align: top;\n",
       "    }\n",
       "\n",
       "    .dataframe thead th {\n",
       "        text-align: right;\n",
       "    }\n",
       "</style>\n",
       "<table border=\"1\" class=\"dataframe\">\n",
       "  <thead>\n",
       "    <tr style=\"text-align: right;\">\n",
       "      <th></th>\n",
       "      <th>user_id</th>\n",
       "      <th>finish_type</th>\n",
       "      <th>time</th>\n",
       "    </tr>\n",
       "  </thead>\n",
       "  <tbody>\n",
       "    <tr>\n",
       "      <th>0</th>\n",
       "      <td>ced7b368-818f-48f6-9461-2346de0892c5</td>\n",
       "      <td>win</td>\n",
       "      <td>1</td>\n",
       "    </tr>\n",
       "    <tr>\n",
       "      <th>1</th>\n",
       "      <td>7ef7fc89-2779-46ea-b328-9e5035b83af5</td>\n",
       "      <td>win</td>\n",
       "      <td>2</td>\n",
       "    </tr>\n",
       "    <tr>\n",
       "      <th>2</th>\n",
       "      <td>70db22b3-c2f4-43bc-94ea-51c8d2904a29</td>\n",
       "      <td>win</td>\n",
       "      <td>2</td>\n",
       "    </tr>\n",
       "    <tr>\n",
       "      <th>3</th>\n",
       "      <td>903fc9ef-ba97-4b12-9d5c-ac8d602fbd8b</td>\n",
       "      <td>win</td>\n",
       "      <td>2</td>\n",
       "    </tr>\n",
       "    <tr>\n",
       "      <th>4</th>\n",
       "      <td>58e077ba-feb1-4556-a5a0-d96bd04efa39</td>\n",
       "      <td>win</td>\n",
       "      <td>3</td>\n",
       "    </tr>\n",
       "    <tr>\n",
       "      <th>...</th>\n",
       "      <td>...</td>\n",
       "      <td>...</td>\n",
       "      <td>...</td>\n",
       "    </tr>\n",
       "    <tr>\n",
       "      <th>5812</th>\n",
       "      <td>22cce310-fe10-41a2-941b-9c3d63327fea</td>\n",
       "      <td>win</td>\n",
       "      <td>32</td>\n",
       "    </tr>\n",
       "    <tr>\n",
       "      <th>5813</th>\n",
       "      <td>d477dde8-7c22-4f23-9c4f-4ec31a1aa4c8</td>\n",
       "      <td>project</td>\n",
       "      <td>29</td>\n",
       "    </tr>\n",
       "    <tr>\n",
       "      <th>5814</th>\n",
       "      <td>515c1952-99aa-4bca-a7ea-d0449eb5385a</td>\n",
       "      <td>win</td>\n",
       "      <td>30</td>\n",
       "    </tr>\n",
       "    <tr>\n",
       "      <th>5815</th>\n",
       "      <td>32572adb-900f-4b5d-a453-1eb1e6d88d8b</td>\n",
       "      <td>win</td>\n",
       "      <td>30</td>\n",
       "    </tr>\n",
       "    <tr>\n",
       "      <th>5816</th>\n",
       "      <td>f21d179f-1c4b-437e-b9c6-ab1976907195</td>\n",
       "      <td>win</td>\n",
       "      <td>31</td>\n",
       "    </tr>\n",
       "  </tbody>\n",
       "</table>\n",
       "<p>5817 rows × 3 columns</p>\n",
       "</div>"
      ],
      "text/plain": [
       "                                   user_id finish_type  time\n",
       "0     ced7b368-818f-48f6-9461-2346de0892c5         win     1\n",
       "1     7ef7fc89-2779-46ea-b328-9e5035b83af5         win     2\n",
       "2     70db22b3-c2f4-43bc-94ea-51c8d2904a29         win     2\n",
       "3     903fc9ef-ba97-4b12-9d5c-ac8d602fbd8b         win     2\n",
       "4     58e077ba-feb1-4556-a5a0-d96bd04efa39         win     3\n",
       "...                                    ...         ...   ...\n",
       "5812  22cce310-fe10-41a2-941b-9c3d63327fea         win    32\n",
       "5813  d477dde8-7c22-4f23-9c4f-4ec31a1aa4c8     project    29\n",
       "5814  515c1952-99aa-4bca-a7ea-d0449eb5385a         win    30\n",
       "5815  32572adb-900f-4b5d-a453-1eb1e6d88d8b         win    30\n",
       "5816  f21d179f-1c4b-437e-b9c6-ab1976907195         win    31\n",
       "\n",
       "[5817 rows x 3 columns]"
      ]
     },
     "execution_count": 100,
     "metadata": {},
     "output_type": "execute_result"
    }
   ],
   "source": [
    "for_1_hyp['time'] = for_1_hyp['finish_date'] - for_1_hyp['start_date']\n",
    "for_1_hyp['time'] = pd.to_numeric(for_1_hyp['time'].dt.days, downcast='integer')\n",
    "for_1_hyp['time'] = for_1_hyp['time'] + 1\n",
    "for_1_hyp = for_1_hyp.drop(columns = ['finish_date', 'start_date']) \n",
    "for_1_hyp"
   ]
  },
  {
   "cell_type": "markdown",
   "metadata": {},
   "source": [
    "<b>Данные из таблицы for_1_hyp будут использованы для сравнения времени завершения первого уровня в зависимости от способа прохождения.</b> \n",
    "\n",
    "Сейчас посмотрим, как отличаются средние значения времени прохождения первого уровня в зависимости от способа прохождения. "
   ]
  },
  {
   "cell_type": "code",
   "execution_count": 101,
   "metadata": {},
   "outputs": [
    {
     "data": {
      "text/html": [
       "<div>\n",
       "<style scoped>\n",
       "    .dataframe tbody tr th:only-of-type {\n",
       "        vertical-align: middle;\n",
       "    }\n",
       "\n",
       "    .dataframe tbody tr th {\n",
       "        vertical-align: top;\n",
       "    }\n",
       "\n",
       "    .dataframe thead th {\n",
       "        text-align: right;\n",
       "    }\n",
       "</style>\n",
       "<table border=\"1\" class=\"dataframe\">\n",
       "  <thead>\n",
       "    <tr style=\"text-align: right;\">\n",
       "      <th></th>\n",
       "      <th>finish_type</th>\n",
       "      <th>mean_time</th>\n",
       "    </tr>\n",
       "  </thead>\n",
       "  <tbody>\n",
       "    <tr>\n",
       "      <th>0</th>\n",
       "      <td>project</td>\n",
       "      <td>14.4</td>\n",
       "    </tr>\n",
       "    <tr>\n",
       "      <th>1</th>\n",
       "      <td>win</td>\n",
       "      <td>12.1</td>\n",
       "    </tr>\n",
       "  </tbody>\n",
       "</table>\n",
       "</div>"
      ],
      "text/plain": [
       "  finish_type  mean_time\n",
       "0     project       14.4\n",
       "1         win       12.1"
      ]
     },
     "execution_count": 101,
     "metadata": {},
     "output_type": "execute_result"
    }
   ],
   "source": [
    "for_1_hyp_pivot = for_1_hyp.pivot_table(index=['finish_type'], values='time', aggfunc=['mean'])\n",
    "for_1_hyp_pivot = for_1_hyp_pivot.reset_index()\n",
    "for_1_hyp_pivot.columns = ['finish_type', 'mean_time']\n",
    "for_1_hyp_pivot['mean_time'] = np.round(for_1_hyp_pivot['mean_time'], decimals = 1)\n",
    "for_1_hyp_pivot"
   ]
  },
  {
   "cell_type": "markdown",
   "metadata": {},
   "source": [
    "<b>Среднее время прохождения первого уровня через победу над первым игроком меньше, чем через реализацию проекта.</b>\n",
    "\n",
    "В разделе \"Проверка гипотез\" мы узнаем, является ли это различие статистически значимым. "
   ]
  },
  {
   "cell_type": "markdown",
   "metadata": {},
   "source": [
    "## Анализ времени прохождения уровня."
   ]
  },
  {
   "cell_type": "markdown",
   "metadata": {},
   "source": [
    "Построим гистограмму с частотным распределением данных по переменной \"time\" (\"Количество дней на прохождение уровня\"), с учетом выбранного способа прохождения."
   ]
  },
  {
   "cell_type": "code",
   "execution_count": 102,
   "metadata": {
    "scrolled": true
   },
   "outputs": [
    {
     "data": {
      "image/png": "[encoded data removed]",
      "text/plain": [
       "<Figure size 1080x360 with 1 Axes>"
      ]
     },
     "metadata": {
      "image/png": {
       "height": 323,
       "width": 898
      },
      "needs_background": "light"
     },
     "output_type": "display_data"
    }
   ],
   "source": [
    "plt.figure(figsize=(15, 5))\n",
    "sns.histplot(x=\"time\", data=for_1_hyp, hue=\"finish_type\", element=\"step\", bins=15)\n",
    "plt.xlabel('Количество дней на прохождение уровня', fontsize = 18)\n",
    "plt.ylabel ('Количество пользователей', fontsize = 18)\n",
    "plt.legend(['project', 'win'], fontsize=20)\n",
    "plt.show();"
   ]
  },
  {
   "cell_type": "markdown",
   "metadata": {},
   "source": [
    "Для каждого способа прохождения уровня характерной длительностью прохождения является интервал от 10 до 15 дней. "
   ]
  },
  {
   "cell_type": "markdown",
   "metadata": {},
   "source": [
    "Проверим, есть ли аномальные значения в столбце 'time' в каждой из двух групп пользователей в зависимости от способа прохождения.\n",
    "\n",
    "Сначала создадим два отдельных массива. "
   ]
  },
  {
   "cell_type": "code",
   "execution_count": 103,
   "metadata": {},
   "outputs": [],
   "source": [
    "for_1_hyp_win = for_1_hyp.loc[for_1_hyp.loc[:,'finish_type'] == 'win']\n",
    "for_1_hyp_project = for_1_hyp.loc[for_1_hyp.loc[:,'finish_type'] == 'project']"
   ]
  },
  {
   "cell_type": "code",
   "execution_count": 104,
   "metadata": {},
   "outputs": [
    {
     "data": {
      "image/png": "[encoded data removed]",
      "text/plain": [
       "<Figure size 720x432 with 1 Axes>"
      ]
     },
     "metadata": {
      "image/png": {
       "height": 380,
       "width": 611
      },
      "needs_background": "light"
     },
     "output_type": "display_data"
    }
   ],
   "source": [
    "plt.figure(figsize=(10, 6))\n",
    "for_1_hyp_win.boxplot(column = 'time')\n",
    "plt.xticks([])\n",
    "plt.ylim(0, 50)\n",
    "plt.title('Способ прохождения: победа над первым игроком', fontsize=18)\n",
    "plt.xlabel(' ', fontsize=16)\n",
    "plt.ylabel('Количество дней на прохождение', fontsize=16);"
   ]
  },
  {
   "cell_type": "code",
   "execution_count": 105,
   "metadata": {},
   "outputs": [
    {
     "data": {
      "image/png": "[encoded data removed]",
      "text/plain": [
       "<Figure size 720x432 with 1 Axes>"
      ]
     },
     "metadata": {
      "image/png": {
       "height": 380,
       "width": 611
      },
      "needs_background": "light"
     },
     "output_type": "display_data"
    }
   ],
   "source": [
    "plt.figure(figsize=(10, 6))\n",
    "for_1_hyp_project.boxplot(column = 'time')\n",
    "plt.xticks([])\n",
    "plt.ylim(0, 35)\n",
    "plt.title('Способ прохождения: реализация проекта', fontsize=18)\n",
    "plt.xlabel(' ', fontsize=16)\n",
    "plt.ylabel('Количество дней на прохождение', fontsize=16);"
   ]
  },
  {
   "cell_type": "markdown",
   "metadata": {},
   "source": [
    "Значения за пределами верхнего и нижнего \"усов\" распределены равномерно и близко к \"усам\", поэтому считать их выбросами нельзя: все наблюдения оставляем. "
   ]
  },
  {
   "cell_type": "markdown",
   "metadata": {},
   "source": [
    "##  Анализ окупаемости пользователей, в зависимости от источников их привлечения."
   ]
  },
  {
   "cell_type": "markdown",
   "metadata": {},
   "source": [
    "### Оценка окупаемости каналов привлечения."
   ]
  },
  {
   "cell_type": "markdown",
   "metadata": {},
   "source": [
    "Создадим функцию, которая в новом столбце building_count каждой строке таблицы game_actions присвоит значение \"0\" или \"1\" в зависимости от значения в столбце event (1, если event = building, 0 - в остальных случаях). \n",
    "\n",
    "Затем создадим сводную таблицу, в которой посчитаем сумму значений в столбце building_count для каждого уникального user_id: таким образом узнаем частоту показа рекламы на экране с выбором типа объекта для постройки. "
   ]
  },
  {
   "cell_type": "code",
   "execution_count": 106,
   "metadata": {},
   "outputs": [
    {
     "data": {
      "text/html": [
       "<div>\n",
       "<style scoped>\n",
       "    .dataframe tbody tr th:only-of-type {\n",
       "        vertical-align: middle;\n",
       "    }\n",
       "\n",
       "    .dataframe tbody tr th {\n",
       "        vertical-align: top;\n",
       "    }\n",
       "\n",
       "    .dataframe thead th {\n",
       "        text-align: right;\n",
       "    }\n",
       "</style>\n",
       "<table border=\"1\" class=\"dataframe\">\n",
       "  <thead>\n",
       "    <tr style=\"text-align: right;\">\n",
       "      <th></th>\n",
       "      <th>event</th>\n",
       "      <th>building_type</th>\n",
       "      <th>user_id</th>\n",
       "      <th>only_date</th>\n",
       "      <th>building_count</th>\n",
       "    </tr>\n",
       "  </thead>\n",
       "  <tbody>\n",
       "    <tr>\n",
       "      <th>0</th>\n",
       "      <td>building</td>\n",
       "      <td>assembly_shop</td>\n",
       "      <td>55e92310-cb8e-4754-b622-597e124b03de</td>\n",
       "      <td>2020-05-04</td>\n",
       "      <td>1</td>\n",
       "    </tr>\n",
       "    <tr>\n",
       "      <th>1</th>\n",
       "      <td>building</td>\n",
       "      <td>assembly_shop</td>\n",
       "      <td>c07b1c10-f477-44dc-81dc-ec82254b1347</td>\n",
       "      <td>2020-05-04</td>\n",
       "      <td>1</td>\n",
       "    </tr>\n",
       "    <tr>\n",
       "      <th>2</th>\n",
       "      <td>building</td>\n",
       "      <td>assembly_shop</td>\n",
       "      <td>6edd42cc-e753-4ff6-a947-2107cd560710</td>\n",
       "      <td>2020-05-04</td>\n",
       "      <td>1</td>\n",
       "    </tr>\n",
       "    <tr>\n",
       "      <th>3</th>\n",
       "      <td>building</td>\n",
       "      <td>assembly_shop</td>\n",
       "      <td>92c69003-d60a-444a-827f-8cc51bf6bf4c</td>\n",
       "      <td>2020-05-04</td>\n",
       "      <td>1</td>\n",
       "    </tr>\n",
       "    <tr>\n",
       "      <th>4</th>\n",
       "      <td>building</td>\n",
       "      <td>assembly_shop</td>\n",
       "      <td>cdc6bb92-0ccb-4490-9866-ef142f09139d</td>\n",
       "      <td>2020-05-04</td>\n",
       "      <td>1</td>\n",
       "    </tr>\n",
       "    <tr>\n",
       "      <th>...</th>\n",
       "      <td>...</td>\n",
       "      <td>...</td>\n",
       "      <td>...</td>\n",
       "      <td>...</td>\n",
       "      <td>...</td>\n",
       "    </tr>\n",
       "    <tr>\n",
       "      <th>135635</th>\n",
       "      <td>building</td>\n",
       "      <td>research_center</td>\n",
       "      <td>f21d179f-1c4b-437e-b9c6-ab1976907195</td>\n",
       "      <td>2020-06-05</td>\n",
       "      <td>1</td>\n",
       "    </tr>\n",
       "    <tr>\n",
       "      <th>135636</th>\n",
       "      <td>finished_stage_1</td>\n",
       "      <td>NaN</td>\n",
       "      <td>515c1952-99aa-4bca-a7ea-d0449eb5385a</td>\n",
       "      <td>2020-06-05</td>\n",
       "      <td>0</td>\n",
       "    </tr>\n",
       "    <tr>\n",
       "      <th>135637</th>\n",
       "      <td>building</td>\n",
       "      <td>research_center</td>\n",
       "      <td>ed3e7d02-8a96-4be7-9998-e9813ff9c316</td>\n",
       "      <td>2020-06-05</td>\n",
       "      <td>1</td>\n",
       "    </tr>\n",
       "    <tr>\n",
       "      <th>135638</th>\n",
       "      <td>finished_stage_1</td>\n",
       "      <td>NaN</td>\n",
       "      <td>32572adb-900f-4b5d-a453-1eb1e6d88d8b</td>\n",
       "      <td>2020-06-05</td>\n",
       "      <td>0</td>\n",
       "    </tr>\n",
       "    <tr>\n",
       "      <th>135639</th>\n",
       "      <td>finished_stage_1</td>\n",
       "      <td>NaN</td>\n",
       "      <td>f21d179f-1c4b-437e-b9c6-ab1976907195</td>\n",
       "      <td>2020-06-05</td>\n",
       "      <td>0</td>\n",
       "    </tr>\n",
       "  </tbody>\n",
       "</table>\n",
       "<p>135639 rows × 5 columns</p>\n",
       "</div>"
      ],
      "text/plain": [
       "                   event    building_type  \\\n",
       "0               building    assembly_shop   \n",
       "1               building    assembly_shop   \n",
       "2               building    assembly_shop   \n",
       "3               building    assembly_shop   \n",
       "4               building    assembly_shop   \n",
       "...                  ...              ...   \n",
       "135635          building  research_center   \n",
       "135636  finished_stage_1              NaN   \n",
       "135637          building  research_center   \n",
       "135638  finished_stage_1              NaN   \n",
       "135639  finished_stage_1              NaN   \n",
       "\n",
       "                                     user_id  only_date  building_count  \n",
       "0       55e92310-cb8e-4754-b622-597e124b03de 2020-05-04               1  \n",
       "1       c07b1c10-f477-44dc-81dc-ec82254b1347 2020-05-04               1  \n",
       "2       6edd42cc-e753-4ff6-a947-2107cd560710 2020-05-04               1  \n",
       "3       92c69003-d60a-444a-827f-8cc51bf6bf4c 2020-05-04               1  \n",
       "4       cdc6bb92-0ccb-4490-9866-ef142f09139d 2020-05-04               1  \n",
       "...                                      ...        ...             ...  \n",
       "135635  f21d179f-1c4b-437e-b9c6-ab1976907195 2020-06-05               1  \n",
       "135636  515c1952-99aa-4bca-a7ea-d0449eb5385a 2020-06-05               0  \n",
       "135637  ed3e7d02-8a96-4be7-9998-e9813ff9c316 2020-06-05               1  \n",
       "135638  32572adb-900f-4b5d-a453-1eb1e6d88d8b 2020-06-05               0  \n",
       "135639  f21d179f-1c4b-437e-b9c6-ab1976907195 2020-06-05               0  \n",
       "\n",
       "[135639 rows x 5 columns]"
      ]
     },
     "execution_count": 106,
     "metadata": {},
     "output_type": "execute_result"
    }
   ],
   "source": [
    "def building(row):\n",
    "    if row ['event'] == 'building':\n",
    "        return 1\n",
    "    else:\n",
    "        return 0\n",
    "\n",
    "game_actions['building_count'] = game_actions.apply(building, axis=1)\n",
    "game_actions"
   ]
  },
  {
   "cell_type": "code",
   "execution_count": 107,
   "metadata": {},
   "outputs": [
    {
     "data": {
      "text/html": [
       "<div>\n",
       "<style scoped>\n",
       "    .dataframe tbody tr th:only-of-type {\n",
       "        vertical-align: middle;\n",
       "    }\n",
       "\n",
       "    .dataframe tbody tr th {\n",
       "        vertical-align: top;\n",
       "    }\n",
       "\n",
       "    .dataframe thead th {\n",
       "        text-align: right;\n",
       "    }\n",
       "</style>\n",
       "<table border=\"1\" class=\"dataframe\">\n",
       "  <thead>\n",
       "    <tr style=\"text-align: right;\">\n",
       "      <th></th>\n",
       "      <th>user_id</th>\n",
       "      <th>ad_shows_count</th>\n",
       "    </tr>\n",
       "  </thead>\n",
       "  <tbody>\n",
       "    <tr>\n",
       "      <th>0</th>\n",
       "      <td>0001f83c-c6ac-4621-b7f0-8a28b283ac30</td>\n",
       "      <td>13</td>\n",
       "    </tr>\n",
       "    <tr>\n",
       "      <th>1</th>\n",
       "      <td>00151b4f-ba38-44a8-a650-d7cf130a0105</td>\n",
       "      <td>9</td>\n",
       "    </tr>\n",
       "    <tr>\n",
       "      <th>2</th>\n",
       "      <td>001aaea6-3d14-43f1-8ca8-7f48820f17aa</td>\n",
       "      <td>4</td>\n",
       "    </tr>\n",
       "    <tr>\n",
       "      <th>3</th>\n",
       "      <td>001d39dc-366c-4021-9604-6a3b9ff01e25</td>\n",
       "      <td>8</td>\n",
       "    </tr>\n",
       "    <tr>\n",
       "      <th>4</th>\n",
       "      <td>002f508f-67b6-479f-814b-b05f00d4e995</td>\n",
       "      <td>12</td>\n",
       "    </tr>\n",
       "    <tr>\n",
       "      <th>...</th>\n",
       "      <td>...</td>\n",
       "      <td>...</td>\n",
       "    </tr>\n",
       "    <tr>\n",
       "      <th>13571</th>\n",
       "      <td>ffef4fed-164c-40e1-bde1-3980f76d0fb5</td>\n",
       "      <td>9</td>\n",
       "    </tr>\n",
       "    <tr>\n",
       "      <th>13572</th>\n",
       "      <td>fffab3da-da0e-4e30-ae62-10d0a2e24a4e</td>\n",
       "      <td>16</td>\n",
       "    </tr>\n",
       "    <tr>\n",
       "      <th>13573</th>\n",
       "      <td>fffb626c-5ab6-47c9-8113-2062a2f18494</td>\n",
       "      <td>9</td>\n",
       "    </tr>\n",
       "    <tr>\n",
       "      <th>13574</th>\n",
       "      <td>ffff194a-56b7-4c12-860d-3485242ae7f5</td>\n",
       "      <td>7</td>\n",
       "    </tr>\n",
       "    <tr>\n",
       "      <th>13575</th>\n",
       "      <td>ffff69cc-fec1-4fd3-9f98-93be1112a6b8</td>\n",
       "      <td>12</td>\n",
       "    </tr>\n",
       "  </tbody>\n",
       "</table>\n",
       "<p>13576 rows × 2 columns</p>\n",
       "</div>"
      ],
      "text/plain": [
       "                                    user_id  ad_shows_count\n",
       "0      0001f83c-c6ac-4621-b7f0-8a28b283ac30              13\n",
       "1      00151b4f-ba38-44a8-a650-d7cf130a0105               9\n",
       "2      001aaea6-3d14-43f1-8ca8-7f48820f17aa               4\n",
       "3      001d39dc-366c-4021-9604-6a3b9ff01e25               8\n",
       "4      002f508f-67b6-479f-814b-b05f00d4e995              12\n",
       "...                                     ...             ...\n",
       "13571  ffef4fed-164c-40e1-bde1-3980f76d0fb5               9\n",
       "13572  fffab3da-da0e-4e30-ae62-10d0a2e24a4e              16\n",
       "13573  fffb626c-5ab6-47c9-8113-2062a2f18494               9\n",
       "13574  ffff194a-56b7-4c12-860d-3485242ae7f5               7\n",
       "13575  ffff69cc-fec1-4fd3-9f98-93be1112a6b8              12\n",
       "\n",
       "[13576 rows x 2 columns]"
      ]
     },
     "execution_count": 107,
     "metadata": {},
     "output_type": "execute_result"
    }
   ],
   "source": [
    "game_actions_pivot = game_actions.pivot_table(index=['user_id'], values='building_count', aggfunc=['sum'])\n",
    "game_actions_pivot = game_actions_pivot.reset_index()\n",
    "game_actions_pivot.columns = ['user_id', 'ad_shows_count']\n",
    "game_actions_pivot"
   ]
  },
  {
   "cell_type": "markdown",
   "metadata": {},
   "source": [
    "Объединим таблицу \"game_actions_pivot\" с таблицей \"user_source\". "
   ]
  },
  {
   "cell_type": "code",
   "execution_count": 108,
   "metadata": {},
   "outputs": [
    {
     "data": {
      "text/html": [
       "<div>\n",
       "<style scoped>\n",
       "    .dataframe tbody tr th:only-of-type {\n",
       "        vertical-align: middle;\n",
       "    }\n",
       "\n",
       "    .dataframe tbody tr th {\n",
       "        vertical-align: top;\n",
       "    }\n",
       "\n",
       "    .dataframe thead th {\n",
       "        text-align: right;\n",
       "    }\n",
       "</style>\n",
       "<table border=\"1\" class=\"dataframe\">\n",
       "  <thead>\n",
       "    <tr style=\"text-align: right;\">\n",
       "      <th></th>\n",
       "      <th>user_id</th>\n",
       "      <th>ad_shows_count</th>\n",
       "      <th>source</th>\n",
       "    </tr>\n",
       "  </thead>\n",
       "  <tbody>\n",
       "    <tr>\n",
       "      <th>0</th>\n",
       "      <td>0001f83c-c6ac-4621-b7f0-8a28b283ac30</td>\n",
       "      <td>13</td>\n",
       "      <td>facebook_ads</td>\n",
       "    </tr>\n",
       "    <tr>\n",
       "      <th>1</th>\n",
       "      <td>00151b4f-ba38-44a8-a650-d7cf130a0105</td>\n",
       "      <td>9</td>\n",
       "      <td>yandex_direct</td>\n",
       "    </tr>\n",
       "    <tr>\n",
       "      <th>2</th>\n",
       "      <td>001aaea6-3d14-43f1-8ca8-7f48820f17aa</td>\n",
       "      <td>4</td>\n",
       "      <td>youtube_channel_reklama</td>\n",
       "    </tr>\n",
       "    <tr>\n",
       "      <th>3</th>\n",
       "      <td>001d39dc-366c-4021-9604-6a3b9ff01e25</td>\n",
       "      <td>8</td>\n",
       "      <td>instagram_new_adverts</td>\n",
       "    </tr>\n",
       "    <tr>\n",
       "      <th>4</th>\n",
       "      <td>002f508f-67b6-479f-814b-b05f00d4e995</td>\n",
       "      <td>12</td>\n",
       "      <td>facebook_ads</td>\n",
       "    </tr>\n",
       "    <tr>\n",
       "      <th>...</th>\n",
       "      <td>...</td>\n",
       "      <td>...</td>\n",
       "      <td>...</td>\n",
       "    </tr>\n",
       "    <tr>\n",
       "      <th>13571</th>\n",
       "      <td>ffef4fed-164c-40e1-bde1-3980f76d0fb5</td>\n",
       "      <td>9</td>\n",
       "      <td>instagram_new_adverts</td>\n",
       "    </tr>\n",
       "    <tr>\n",
       "      <th>13572</th>\n",
       "      <td>fffab3da-da0e-4e30-ae62-10d0a2e24a4e</td>\n",
       "      <td>16</td>\n",
       "      <td>facebook_ads</td>\n",
       "    </tr>\n",
       "    <tr>\n",
       "      <th>13573</th>\n",
       "      <td>fffb626c-5ab6-47c9-8113-2062a2f18494</td>\n",
       "      <td>9</td>\n",
       "      <td>yandex_direct</td>\n",
       "    </tr>\n",
       "    <tr>\n",
       "      <th>13574</th>\n",
       "      <td>ffff194a-56b7-4c12-860d-3485242ae7f5</td>\n",
       "      <td>7</td>\n",
       "      <td>instagram_new_adverts</td>\n",
       "    </tr>\n",
       "    <tr>\n",
       "      <th>13575</th>\n",
       "      <td>ffff69cc-fec1-4fd3-9f98-93be1112a6b8</td>\n",
       "      <td>12</td>\n",
       "      <td>facebook_ads</td>\n",
       "    </tr>\n",
       "  </tbody>\n",
       "</table>\n",
       "<p>13576 rows × 3 columns</p>\n",
       "</div>"
      ],
      "text/plain": [
       "                                    user_id  ad_shows_count  \\\n",
       "0      0001f83c-c6ac-4621-b7f0-8a28b283ac30              13   \n",
       "1      00151b4f-ba38-44a8-a650-d7cf130a0105               9   \n",
       "2      001aaea6-3d14-43f1-8ca8-7f48820f17aa               4   \n",
       "3      001d39dc-366c-4021-9604-6a3b9ff01e25               8   \n",
       "4      002f508f-67b6-479f-814b-b05f00d4e995              12   \n",
       "...                                     ...             ...   \n",
       "13571  ffef4fed-164c-40e1-bde1-3980f76d0fb5               9   \n",
       "13572  fffab3da-da0e-4e30-ae62-10d0a2e24a4e              16   \n",
       "13573  fffb626c-5ab6-47c9-8113-2062a2f18494               9   \n",
       "13574  ffff194a-56b7-4c12-860d-3485242ae7f5               7   \n",
       "13575  ffff69cc-fec1-4fd3-9f98-93be1112a6b8              12   \n",
       "\n",
       "                        source  \n",
       "0                 facebook_ads  \n",
       "1                yandex_direct  \n",
       "2      youtube_channel_reklama  \n",
       "3        instagram_new_adverts  \n",
       "4                 facebook_ads  \n",
       "...                        ...  \n",
       "13571    instagram_new_adverts  \n",
       "13572             facebook_ads  \n",
       "13573            yandex_direct  \n",
       "13574    instagram_new_adverts  \n",
       "13575             facebook_ads  \n",
       "\n",
       "[13576 rows x 3 columns]"
      ]
     },
     "execution_count": 108,
     "metadata": {},
     "output_type": "execute_result"
    }
   ],
   "source": [
    "for_2_hyp = game_actions_pivot.merge(user_source, on=['user_id'], how='left')\n",
    "for_2_hyp"
   ]
  },
  {
   "cell_type": "markdown",
   "metadata": {},
   "source": [
    "Построим сводную таблицу, в которой покажем суммарное количество показов рекламы пользователям, в зависимости от канала их привлечения. "
   ]
  },
  {
   "cell_type": "code",
   "execution_count": 109,
   "metadata": {},
   "outputs": [
    {
     "data": {
      "text/html": [
       "<div>\n",
       "<style scoped>\n",
       "    .dataframe tbody tr th:only-of-type {\n",
       "        vertical-align: middle;\n",
       "    }\n",
       "\n",
       "    .dataframe tbody tr th {\n",
       "        vertical-align: top;\n",
       "    }\n",
       "\n",
       "    .dataframe thead th {\n",
       "        text-align: right;\n",
       "    }\n",
       "</style>\n",
       "<table border=\"1\" class=\"dataframe\">\n",
       "  <thead>\n",
       "    <tr style=\"text-align: right;\">\n",
       "      <th></th>\n",
       "      <th>source</th>\n",
       "      <th>total_ad_shows_count</th>\n",
       "    </tr>\n",
       "  </thead>\n",
       "  <tbody>\n",
       "    <tr>\n",
       "      <th>0</th>\n",
       "      <td>facebook_ads</td>\n",
       "      <td>26131</td>\n",
       "    </tr>\n",
       "    <tr>\n",
       "      <th>1</th>\n",
       "      <td>instagram_new_adverts</td>\n",
       "      <td>31815</td>\n",
       "    </tr>\n",
       "    <tr>\n",
       "      <th>2</th>\n",
       "      <td>yandex_direct</td>\n",
       "      <td>45032</td>\n",
       "    </tr>\n",
       "    <tr>\n",
       "      <th>3</th>\n",
       "      <td>youtube_channel_reklama</td>\n",
       "      <td>24978</td>\n",
       "    </tr>\n",
       "  </tbody>\n",
       "</table>\n",
       "</div>"
      ],
      "text/plain": [
       "                    source  total_ad_shows_count\n",
       "0             facebook_ads                 26131\n",
       "1    instagram_new_adverts                 31815\n",
       "2            yandex_direct                 45032\n",
       "3  youtube_channel_reklama                 24978"
      ]
     },
     "execution_count": 109,
     "metadata": {},
     "output_type": "execute_result"
    }
   ],
   "source": [
    "for_2_hyp_pivot_1 = for_2_hyp.pivot_table(index=['source'], values='ad_shows_count', aggfunc=['sum'])\n",
    "for_2_hyp_pivot_1 = for_2_hyp_pivot_1.reset_index()\n",
    "for_2_hyp_pivot_1.columns = ['source', 'total_ad_shows_count']\n",
    "for_2_hyp_pivot_1"
   ]
  },
  {
   "cell_type": "markdown",
   "metadata": {},
   "source": [
    "Объединим таблицы for_2_hyp_pivot_1 и ad_costs_pivot."
   ]
  },
  {
   "cell_type": "code",
   "execution_count": 110,
   "metadata": {},
   "outputs": [
    {
     "data": {
      "text/html": [
       "<div>\n",
       "<style scoped>\n",
       "    .dataframe tbody tr th:only-of-type {\n",
       "        vertical-align: middle;\n",
       "    }\n",
       "\n",
       "    .dataframe tbody tr th {\n",
       "        vertical-align: top;\n",
       "    }\n",
       "\n",
       "    .dataframe thead th {\n",
       "        text-align: right;\n",
       "    }\n",
       "</style>\n",
       "<table border=\"1\" class=\"dataframe\">\n",
       "  <thead>\n",
       "    <tr style=\"text-align: right;\">\n",
       "      <th></th>\n",
       "      <th>source</th>\n",
       "      <th>total_ad_shows_count</th>\n",
       "      <th>ad_cost</th>\n",
       "    </tr>\n",
       "  </thead>\n",
       "  <tbody>\n",
       "    <tr>\n",
       "      <th>0</th>\n",
       "      <td>facebook_ads</td>\n",
       "      <td>26131</td>\n",
       "      <td>2140.904643</td>\n",
       "    </tr>\n",
       "    <tr>\n",
       "      <th>1</th>\n",
       "      <td>instagram_new_adverts</td>\n",
       "      <td>31815</td>\n",
       "      <td>2161.441691</td>\n",
       "    </tr>\n",
       "    <tr>\n",
       "      <th>2</th>\n",
       "      <td>yandex_direct</td>\n",
       "      <td>45032</td>\n",
       "      <td>2233.111449</td>\n",
       "    </tr>\n",
       "    <tr>\n",
       "      <th>3</th>\n",
       "      <td>youtube_channel_reklama</td>\n",
       "      <td>24978</td>\n",
       "      <td>1068.119204</td>\n",
       "    </tr>\n",
       "  </tbody>\n",
       "</table>\n",
       "</div>"
      ],
      "text/plain": [
       "                    source  total_ad_shows_count      ad_cost\n",
       "0             facebook_ads                 26131  2140.904643\n",
       "1    instagram_new_adverts                 31815  2161.441691\n",
       "2            yandex_direct                 45032  2233.111449\n",
       "3  youtube_channel_reklama                 24978  1068.119204"
      ]
     },
     "execution_count": 110,
     "metadata": {},
     "output_type": "execute_result"
    }
   ],
   "source": [
    "for_2_hyp_pivot_merged = for_2_hyp_pivot_1.merge(ad_costs_pivot, on=['source'], how='inner')\n",
    "for_2_hyp_pivot_merged"
   ]
  },
  {
   "cell_type": "markdown",
   "metadata": {},
   "source": [
    "Нам известно, что доход от одного показа рекламы составляет 0,07. Рассчитаем суммарный доход от пользователей, в зависимости от канала их привлечения, а также разницу между доходом и суммарной стоимостью привлечения для каждого источника. "
   ]
  },
  {
   "cell_type": "code",
   "execution_count": 111,
   "metadata": {},
   "outputs": [
    {
     "data": {
      "text/html": [
       "<div>\n",
       "<style scoped>\n",
       "    .dataframe tbody tr th:only-of-type {\n",
       "        vertical-align: middle;\n",
       "    }\n",
       "\n",
       "    .dataframe tbody tr th {\n",
       "        vertical-align: top;\n",
       "    }\n",
       "\n",
       "    .dataframe thead th {\n",
       "        text-align: right;\n",
       "    }\n",
       "</style>\n",
       "<table border=\"1\" class=\"dataframe\">\n",
       "  <thead>\n",
       "    <tr style=\"text-align: right;\">\n",
       "      <th></th>\n",
       "      <th>source</th>\n",
       "      <th>total_ad_shows_count</th>\n",
       "      <th>ad_cost</th>\n",
       "      <th>profit</th>\n",
       "      <th>difference</th>\n",
       "    </tr>\n",
       "  </thead>\n",
       "  <tbody>\n",
       "    <tr>\n",
       "      <th>0</th>\n",
       "      <td>facebook_ads</td>\n",
       "      <td>26131</td>\n",
       "      <td>2140.904643</td>\n",
       "      <td>1829.17</td>\n",
       "      <td>-311.734643</td>\n",
       "    </tr>\n",
       "    <tr>\n",
       "      <th>1</th>\n",
       "      <td>instagram_new_adverts</td>\n",
       "      <td>31815</td>\n",
       "      <td>2161.441691</td>\n",
       "      <td>2227.05</td>\n",
       "      <td>65.608309</td>\n",
       "    </tr>\n",
       "    <tr>\n",
       "      <th>2</th>\n",
       "      <td>yandex_direct</td>\n",
       "      <td>45032</td>\n",
       "      <td>2233.111449</td>\n",
       "      <td>3152.24</td>\n",
       "      <td>919.128551</td>\n",
       "    </tr>\n",
       "    <tr>\n",
       "      <th>3</th>\n",
       "      <td>youtube_channel_reklama</td>\n",
       "      <td>24978</td>\n",
       "      <td>1068.119204</td>\n",
       "      <td>1748.46</td>\n",
       "      <td>680.340796</td>\n",
       "    </tr>\n",
       "  </tbody>\n",
       "</table>\n",
       "</div>"
      ],
      "text/plain": [
       "                    source  total_ad_shows_count      ad_cost   profit  \\\n",
       "0             facebook_ads                 26131  2140.904643  1829.17   \n",
       "1    instagram_new_adverts                 31815  2161.441691  2227.05   \n",
       "2            yandex_direct                 45032  2233.111449  3152.24   \n",
       "3  youtube_channel_reklama                 24978  1068.119204  1748.46   \n",
       "\n",
       "   difference  \n",
       "0 -311.734643  \n",
       "1   65.608309  \n",
       "2  919.128551  \n",
       "3  680.340796  "
      ]
     },
     "execution_count": 111,
     "metadata": {},
     "output_type": "execute_result"
    }
   ],
   "source": [
    "profit_for_one = 0.07\n",
    "for_2_hyp_pivot_merged['profit'] = for_2_hyp_pivot_merged['total_ad_shows_count'] * profit_for_one\n",
    "for_2_hyp_pivot_merged['difference'] = for_2_hyp_pivot_merged['profit'] - for_2_hyp_pivot_merged['ad_cost'] \n",
    "for_2_hyp_pivot_merged"
   ]
  },
  {
   "cell_type": "markdown",
   "metadata": {},
   "source": [
    "Основываясь на имеющихся в нашем распоряжении данных обо всех пользователях, установивших приложение, можно сделать вывод о том, что за исследуемый период <b>реклама в facebook_ads не окупилась</b>. Лучше всего окупились расходы на привлечение из yandex_direct. \n",
    "\n"
   ]
  },
  {
   "cell_type": "markdown",
   "metadata": {},
   "source": [
    "### Оценка окупаемость игроков, в зависимости от каналов привлечения. "
   ]
  },
  {
   "cell_type": "markdown",
   "metadata": {},
   "source": [
    "Добавим в таблицу for_2_hyp_pivot_merged данные о количестве пользователей, привлечененных с помощью каждого из каналов, а также прибыль, которую, в среднем, приносит каждый пользователь. "
   ]
  },
  {
   "cell_type": "code",
   "execution_count": 112,
   "metadata": {},
   "outputs": [
    {
     "data": {
      "text/html": [
       "<div>\n",
       "<style scoped>\n",
       "    .dataframe tbody tr th:only-of-type {\n",
       "        vertical-align: middle;\n",
       "    }\n",
       "\n",
       "    .dataframe tbody tr th {\n",
       "        vertical-align: top;\n",
       "    }\n",
       "\n",
       "    .dataframe thead th {\n",
       "        text-align: right;\n",
       "    }\n",
       "</style>\n",
       "<table border=\"1\" class=\"dataframe\">\n",
       "  <thead>\n",
       "    <tr style=\"text-align: right;\">\n",
       "      <th></th>\n",
       "      <th>source</th>\n",
       "      <th>total_ad_shows_count</th>\n",
       "      <th>ad_cost</th>\n",
       "      <th>profit</th>\n",
       "      <th>difference</th>\n",
       "      <th>count_users</th>\n",
       "      <th>difference_per_user</th>\n",
       "    </tr>\n",
       "  </thead>\n",
       "  <tbody>\n",
       "    <tr>\n",
       "      <th>3</th>\n",
       "      <td>youtube_channel_reklama</td>\n",
       "      <td>24978</td>\n",
       "      <td>1068.119204</td>\n",
       "      <td>1748.46</td>\n",
       "      <td>680.340796</td>\n",
       "      <td>2686</td>\n",
       "      <td>0.253291</td>\n",
       "    </tr>\n",
       "    <tr>\n",
       "      <th>2</th>\n",
       "      <td>yandex_direct</td>\n",
       "      <td>45032</td>\n",
       "      <td>2233.111449</td>\n",
       "      <td>3152.24</td>\n",
       "      <td>919.128551</td>\n",
       "      <td>4817</td>\n",
       "      <td>0.190809</td>\n",
       "    </tr>\n",
       "    <tr>\n",
       "      <th>1</th>\n",
       "      <td>instagram_new_adverts</td>\n",
       "      <td>31815</td>\n",
       "      <td>2161.441691</td>\n",
       "      <td>2227.05</td>\n",
       "      <td>65.608309</td>\n",
       "      <td>3347</td>\n",
       "      <td>0.019602</td>\n",
       "    </tr>\n",
       "    <tr>\n",
       "      <th>0</th>\n",
       "      <td>facebook_ads</td>\n",
       "      <td>26131</td>\n",
       "      <td>2140.904643</td>\n",
       "      <td>1829.17</td>\n",
       "      <td>-311.734643</td>\n",
       "      <td>2726</td>\n",
       "      <td>-0.114356</td>\n",
       "    </tr>\n",
       "  </tbody>\n",
       "</table>\n",
       "</div>"
      ],
      "text/plain": [
       "                    source  total_ad_shows_count      ad_cost   profit  \\\n",
       "3  youtube_channel_reklama                 24978  1068.119204  1748.46   \n",
       "2            yandex_direct                 45032  2233.111449  3152.24   \n",
       "1    instagram_new_adverts                 31815  2161.441691  2227.05   \n",
       "0             facebook_ads                 26131  2140.904643  1829.17   \n",
       "\n",
       "   difference  count_users  difference_per_user  \n",
       "3  680.340796         2686             0.253291  \n",
       "2  919.128551         4817             0.190809  \n",
       "1   65.608309         3347             0.019602  \n",
       "0 -311.734643         2726            -0.114356  "
      ]
     },
     "execution_count": 112,
     "metadata": {},
     "output_type": "execute_result"
    }
   ],
   "source": [
    "user_source_values_count = user_source['source'].value_counts()\n",
    "\n",
    " \n",
    "user_source_values_count = pd.DataFrame(user_source_values_count)  \n",
    "\n",
    "user_source_values_count = user_source_values_count.reset_index()\n",
    "user_source_values_count.columns = ['source', 'count_users']\n",
    "\n",
    "\n",
    "for_2_hyp_pivot_merged_merged = for_2_hyp_pivot_merged.merge(user_source_values_count, on=['source'], how='inner')\n",
    "\n",
    "for_2_hyp_pivot_merged_merged['difference_per_user'] = for_2_hyp_pivot_merged_merged['difference'] / for_2_hyp_pivot_merged_merged['count_users']\n",
    "\n",
    "\n",
    "\n",
    "for_2_hyp_pivot_merged_merged = for_2_hyp_pivot_merged_merged.sort_values(by='difference_per_user', ascending=False)\n",
    "for_2_hyp_pivot_merged_merged"
   ]
  },
  {
   "cell_type": "markdown",
   "metadata": {},
   "source": [
    "<b>Наибольшая средняя прибыльность у игроков, привлеченных из youtube_channel_reklama, на втором месте - yandex_direct.</b> "
   ]
  },
  {
   "cell_type": "markdown",
   "metadata": {},
   "source": [
    "#### Подготовка данных для сравнения средних значений прибыли от пользователя, в зависимости от канала привлечения: из youtube_channel_reklama или из yandex_direct. "
   ]
  },
  {
   "cell_type": "markdown",
   "metadata": {},
   "source": [
    "Рассчитаем среднюю стоимость привлечения одного игрока, в зависимости от источника. "
   ]
  },
  {
   "cell_type": "code",
   "execution_count": 113,
   "metadata": {},
   "outputs": [
    {
     "data": {
      "text/html": [
       "<div>\n",
       "<style scoped>\n",
       "    .dataframe tbody tr th:only-of-type {\n",
       "        vertical-align: middle;\n",
       "    }\n",
       "\n",
       "    .dataframe tbody tr th {\n",
       "        vertical-align: top;\n",
       "    }\n",
       "\n",
       "    .dataframe thead th {\n",
       "        text-align: right;\n",
       "    }\n",
       "</style>\n",
       "<table border=\"1\" class=\"dataframe\">\n",
       "  <thead>\n",
       "    <tr style=\"text-align: right;\">\n",
       "      <th></th>\n",
       "      <th>source</th>\n",
       "      <th>total_ad_shows_count</th>\n",
       "      <th>ad_cost</th>\n",
       "      <th>profit</th>\n",
       "      <th>difference</th>\n",
       "      <th>count_users</th>\n",
       "      <th>difference_per_user</th>\n",
       "      <th>mean_cost</th>\n",
       "    </tr>\n",
       "  </thead>\n",
       "  <tbody>\n",
       "    <tr>\n",
       "      <th>3</th>\n",
       "      <td>youtube_channel_reklama</td>\n",
       "      <td>24978</td>\n",
       "      <td>1068.119204</td>\n",
       "      <td>1748.46</td>\n",
       "      <td>680.340796</td>\n",
       "      <td>2686</td>\n",
       "      <td>0.253291</td>\n",
       "      <td>0.397662</td>\n",
       "    </tr>\n",
       "    <tr>\n",
       "      <th>2</th>\n",
       "      <td>yandex_direct</td>\n",
       "      <td>45032</td>\n",
       "      <td>2233.111449</td>\n",
       "      <td>3152.24</td>\n",
       "      <td>919.128551</td>\n",
       "      <td>4817</td>\n",
       "      <td>0.190809</td>\n",
       "      <td>0.463590</td>\n",
       "    </tr>\n",
       "    <tr>\n",
       "      <th>1</th>\n",
       "      <td>instagram_new_adverts</td>\n",
       "      <td>31815</td>\n",
       "      <td>2161.441691</td>\n",
       "      <td>2227.05</td>\n",
       "      <td>65.608309</td>\n",
       "      <td>3347</td>\n",
       "      <td>0.019602</td>\n",
       "      <td>0.645785</td>\n",
       "    </tr>\n",
       "    <tr>\n",
       "      <th>0</th>\n",
       "      <td>facebook_ads</td>\n",
       "      <td>26131</td>\n",
       "      <td>2140.904643</td>\n",
       "      <td>1829.17</td>\n",
       "      <td>-311.734643</td>\n",
       "      <td>2726</td>\n",
       "      <td>-0.114356</td>\n",
       "      <td>0.785365</td>\n",
       "    </tr>\n",
       "  </tbody>\n",
       "</table>\n",
       "</div>"
      ],
      "text/plain": [
       "                    source  total_ad_shows_count      ad_cost   profit  \\\n",
       "3  youtube_channel_reklama                 24978  1068.119204  1748.46   \n",
       "2            yandex_direct                 45032  2233.111449  3152.24   \n",
       "1    instagram_new_adverts                 31815  2161.441691  2227.05   \n",
       "0             facebook_ads                 26131  2140.904643  1829.17   \n",
       "\n",
       "   difference  count_users  difference_per_user  mean_cost  \n",
       "3  680.340796         2686             0.253291   0.397662  \n",
       "2  919.128551         4817             0.190809   0.463590  \n",
       "1   65.608309         3347             0.019602   0.645785  \n",
       "0 -311.734643         2726            -0.114356   0.785365  "
      ]
     },
     "execution_count": 113,
     "metadata": {},
     "output_type": "execute_result"
    }
   ],
   "source": [
    "for_2_hyp_pivot_merged_merged['mean_cost'] = for_2_hyp_pivot_merged_merged['ad_cost'] / for_2_hyp_pivot_merged_merged['count_users']\n",
    "\n",
    "for_2_hyp_pivot_merged_merged"
   ]
  },
  {
   "cell_type": "markdown",
   "metadata": {},
   "source": [
    "Объединим таблицы for_2_hyp и for_2_hyp_pivot_merged_merged, удалим лишние столбцы. Так мы получим таблицу, в которой будут содержаться данные о стоимости привлечения каждого пользователя, в зависимости от канала, а также количество переходов на экран с выбором типа объекта для постройки."
   ]
  },
  {
   "cell_type": "code",
   "execution_count": 114,
   "metadata": {},
   "outputs": [
    {
     "data": {
      "text/html": [
       "<div>\n",
       "<style scoped>\n",
       "    .dataframe tbody tr th:only-of-type {\n",
       "        vertical-align: middle;\n",
       "    }\n",
       "\n",
       "    .dataframe tbody tr th {\n",
       "        vertical-align: top;\n",
       "    }\n",
       "\n",
       "    .dataframe thead th {\n",
       "        text-align: right;\n",
       "    }\n",
       "</style>\n",
       "<table border=\"1\" class=\"dataframe\">\n",
       "  <thead>\n",
       "    <tr style=\"text-align: right;\">\n",
       "      <th></th>\n",
       "      <th>user_id</th>\n",
       "      <th>source</th>\n",
       "      <th>ad_shows_count</th>\n",
       "      <th>mean_cost</th>\n",
       "    </tr>\n",
       "  </thead>\n",
       "  <tbody>\n",
       "    <tr>\n",
       "      <th>0</th>\n",
       "      <td>0001f83c-c6ac-4621-b7f0-8a28b283ac30</td>\n",
       "      <td>facebook_ads</td>\n",
       "      <td>13</td>\n",
       "      <td>0.785365</td>\n",
       "    </tr>\n",
       "    <tr>\n",
       "      <th>1</th>\n",
       "      <td>00151b4f-ba38-44a8-a650-d7cf130a0105</td>\n",
       "      <td>yandex_direct</td>\n",
       "      <td>9</td>\n",
       "      <td>0.463590</td>\n",
       "    </tr>\n",
       "    <tr>\n",
       "      <th>2</th>\n",
       "      <td>001aaea6-3d14-43f1-8ca8-7f48820f17aa</td>\n",
       "      <td>youtube_channel_reklama</td>\n",
       "      <td>4</td>\n",
       "      <td>0.397662</td>\n",
       "    </tr>\n",
       "    <tr>\n",
       "      <th>3</th>\n",
       "      <td>001d39dc-366c-4021-9604-6a3b9ff01e25</td>\n",
       "      <td>instagram_new_adverts</td>\n",
       "      <td>8</td>\n",
       "      <td>0.645785</td>\n",
       "    </tr>\n",
       "    <tr>\n",
       "      <th>4</th>\n",
       "      <td>002f508f-67b6-479f-814b-b05f00d4e995</td>\n",
       "      <td>facebook_ads</td>\n",
       "      <td>12</td>\n",
       "      <td>0.785365</td>\n",
       "    </tr>\n",
       "    <tr>\n",
       "      <th>...</th>\n",
       "      <td>...</td>\n",
       "      <td>...</td>\n",
       "      <td>...</td>\n",
       "      <td>...</td>\n",
       "    </tr>\n",
       "    <tr>\n",
       "      <th>13571</th>\n",
       "      <td>ffef4fed-164c-40e1-bde1-3980f76d0fb5</td>\n",
       "      <td>instagram_new_adverts</td>\n",
       "      <td>9</td>\n",
       "      <td>0.645785</td>\n",
       "    </tr>\n",
       "    <tr>\n",
       "      <th>13572</th>\n",
       "      <td>fffab3da-da0e-4e30-ae62-10d0a2e24a4e</td>\n",
       "      <td>facebook_ads</td>\n",
       "      <td>16</td>\n",
       "      <td>0.785365</td>\n",
       "    </tr>\n",
       "    <tr>\n",
       "      <th>13573</th>\n",
       "      <td>fffb626c-5ab6-47c9-8113-2062a2f18494</td>\n",
       "      <td>yandex_direct</td>\n",
       "      <td>9</td>\n",
       "      <td>0.463590</td>\n",
       "    </tr>\n",
       "    <tr>\n",
       "      <th>13574</th>\n",
       "      <td>ffff194a-56b7-4c12-860d-3485242ae7f5</td>\n",
       "      <td>instagram_new_adverts</td>\n",
       "      <td>7</td>\n",
       "      <td>0.645785</td>\n",
       "    </tr>\n",
       "    <tr>\n",
       "      <th>13575</th>\n",
       "      <td>ffff69cc-fec1-4fd3-9f98-93be1112a6b8</td>\n",
       "      <td>facebook_ads</td>\n",
       "      <td>12</td>\n",
       "      <td>0.785365</td>\n",
       "    </tr>\n",
       "  </tbody>\n",
       "</table>\n",
       "<p>13576 rows × 4 columns</p>\n",
       "</div>"
      ],
      "text/plain": [
       "                                    user_id                   source  \\\n",
       "0      0001f83c-c6ac-4621-b7f0-8a28b283ac30             facebook_ads   \n",
       "1      00151b4f-ba38-44a8-a650-d7cf130a0105            yandex_direct   \n",
       "2      001aaea6-3d14-43f1-8ca8-7f48820f17aa  youtube_channel_reklama   \n",
       "3      001d39dc-366c-4021-9604-6a3b9ff01e25    instagram_new_adverts   \n",
       "4      002f508f-67b6-479f-814b-b05f00d4e995             facebook_ads   \n",
       "...                                     ...                      ...   \n",
       "13571  ffef4fed-164c-40e1-bde1-3980f76d0fb5    instagram_new_adverts   \n",
       "13572  fffab3da-da0e-4e30-ae62-10d0a2e24a4e             facebook_ads   \n",
       "13573  fffb626c-5ab6-47c9-8113-2062a2f18494            yandex_direct   \n",
       "13574  ffff194a-56b7-4c12-860d-3485242ae7f5    instagram_new_adverts   \n",
       "13575  ffff69cc-fec1-4fd3-9f98-93be1112a6b8             facebook_ads   \n",
       "\n",
       "       ad_shows_count  mean_cost  \n",
       "0                  13   0.785365  \n",
       "1                   9   0.463590  \n",
       "2                   4   0.397662  \n",
       "3                   8   0.645785  \n",
       "4                  12   0.785365  \n",
       "...               ...        ...  \n",
       "13571               9   0.645785  \n",
       "13572              16   0.785365  \n",
       "13573               9   0.463590  \n",
       "13574               7   0.645785  \n",
       "13575              12   0.785365  \n",
       "\n",
       "[13576 rows x 4 columns]"
      ]
     },
     "execution_count": 114,
     "metadata": {},
     "output_type": "execute_result"
    }
   ],
   "source": [
    "for_2_hyp_merged = for_2_hyp.merge(for_2_hyp_pivot_merged_merged, on=['source'], how='left')\n",
    "\n",
    "for_2_hyp_merged = for_2_hyp_merged.loc[:, ['user_id', 'source', 'ad_shows_count', 'mean_cost']]\n",
    "for_2_hyp_merged"
   ]
  },
  {
   "cell_type": "markdown",
   "metadata": {},
   "source": [
    "Теперь мы можем рассчитать прибыль от каждого игрока. "
   ]
  },
  {
   "cell_type": "code",
   "execution_count": 115,
   "metadata": {},
   "outputs": [
    {
     "data": {
      "text/html": [
       "<div>\n",
       "<style scoped>\n",
       "    .dataframe tbody tr th:only-of-type {\n",
       "        vertical-align: middle;\n",
       "    }\n",
       "\n",
       "    .dataframe tbody tr th {\n",
       "        vertical-align: top;\n",
       "    }\n",
       "\n",
       "    .dataframe thead th {\n",
       "        text-align: right;\n",
       "    }\n",
       "</style>\n",
       "<table border=\"1\" class=\"dataframe\">\n",
       "  <thead>\n",
       "    <tr style=\"text-align: right;\">\n",
       "      <th></th>\n",
       "      <th>user_id</th>\n",
       "      <th>source</th>\n",
       "      <th>ad_shows_count</th>\n",
       "      <th>mean_cost</th>\n",
       "      <th>profit</th>\n",
       "    </tr>\n",
       "  </thead>\n",
       "  <tbody>\n",
       "    <tr>\n",
       "      <th>0</th>\n",
       "      <td>0001f83c-c6ac-4621-b7f0-8a28b283ac30</td>\n",
       "      <td>facebook_ads</td>\n",
       "      <td>13</td>\n",
       "      <td>0.785365</td>\n",
       "      <td>0.124635</td>\n",
       "    </tr>\n",
       "    <tr>\n",
       "      <th>1</th>\n",
       "      <td>00151b4f-ba38-44a8-a650-d7cf130a0105</td>\n",
       "      <td>yandex_direct</td>\n",
       "      <td>9</td>\n",
       "      <td>0.463590</td>\n",
       "      <td>0.166410</td>\n",
       "    </tr>\n",
       "    <tr>\n",
       "      <th>2</th>\n",
       "      <td>001aaea6-3d14-43f1-8ca8-7f48820f17aa</td>\n",
       "      <td>youtube_channel_reklama</td>\n",
       "      <td>4</td>\n",
       "      <td>0.397662</td>\n",
       "      <td>-0.117662</td>\n",
       "    </tr>\n",
       "    <tr>\n",
       "      <th>3</th>\n",
       "      <td>001d39dc-366c-4021-9604-6a3b9ff01e25</td>\n",
       "      <td>instagram_new_adverts</td>\n",
       "      <td>8</td>\n",
       "      <td>0.645785</td>\n",
       "      <td>-0.085785</td>\n",
       "    </tr>\n",
       "    <tr>\n",
       "      <th>4</th>\n",
       "      <td>002f508f-67b6-479f-814b-b05f00d4e995</td>\n",
       "      <td>facebook_ads</td>\n",
       "      <td>12</td>\n",
       "      <td>0.785365</td>\n",
       "      <td>0.054635</td>\n",
       "    </tr>\n",
       "    <tr>\n",
       "      <th>...</th>\n",
       "      <td>...</td>\n",
       "      <td>...</td>\n",
       "      <td>...</td>\n",
       "      <td>...</td>\n",
       "      <td>...</td>\n",
       "    </tr>\n",
       "    <tr>\n",
       "      <th>13571</th>\n",
       "      <td>ffef4fed-164c-40e1-bde1-3980f76d0fb5</td>\n",
       "      <td>instagram_new_adverts</td>\n",
       "      <td>9</td>\n",
       "      <td>0.645785</td>\n",
       "      <td>-0.015785</td>\n",
       "    </tr>\n",
       "    <tr>\n",
       "      <th>13572</th>\n",
       "      <td>fffab3da-da0e-4e30-ae62-10d0a2e24a4e</td>\n",
       "      <td>facebook_ads</td>\n",
       "      <td>16</td>\n",
       "      <td>0.785365</td>\n",
       "      <td>0.334635</td>\n",
       "    </tr>\n",
       "    <tr>\n",
       "      <th>13573</th>\n",
       "      <td>fffb626c-5ab6-47c9-8113-2062a2f18494</td>\n",
       "      <td>yandex_direct</td>\n",
       "      <td>9</td>\n",
       "      <td>0.463590</td>\n",
       "      <td>0.166410</td>\n",
       "    </tr>\n",
       "    <tr>\n",
       "      <th>13574</th>\n",
       "      <td>ffff194a-56b7-4c12-860d-3485242ae7f5</td>\n",
       "      <td>instagram_new_adverts</td>\n",
       "      <td>7</td>\n",
       "      <td>0.645785</td>\n",
       "      <td>-0.155785</td>\n",
       "    </tr>\n",
       "    <tr>\n",
       "      <th>13575</th>\n",
       "      <td>ffff69cc-fec1-4fd3-9f98-93be1112a6b8</td>\n",
       "      <td>facebook_ads</td>\n",
       "      <td>12</td>\n",
       "      <td>0.785365</td>\n",
       "      <td>0.054635</td>\n",
       "    </tr>\n",
       "  </tbody>\n",
       "</table>\n",
       "<p>13576 rows × 5 columns</p>\n",
       "</div>"
      ],
      "text/plain": [
       "                                    user_id                   source  \\\n",
       "0      0001f83c-c6ac-4621-b7f0-8a28b283ac30             facebook_ads   \n",
       "1      00151b4f-ba38-44a8-a650-d7cf130a0105            yandex_direct   \n",
       "2      001aaea6-3d14-43f1-8ca8-7f48820f17aa  youtube_channel_reklama   \n",
       "3      001d39dc-366c-4021-9604-6a3b9ff01e25    instagram_new_adverts   \n",
       "4      002f508f-67b6-479f-814b-b05f00d4e995             facebook_ads   \n",
       "...                                     ...                      ...   \n",
       "13571  ffef4fed-164c-40e1-bde1-3980f76d0fb5    instagram_new_adverts   \n",
       "13572  fffab3da-da0e-4e30-ae62-10d0a2e24a4e             facebook_ads   \n",
       "13573  fffb626c-5ab6-47c9-8113-2062a2f18494            yandex_direct   \n",
       "13574  ffff194a-56b7-4c12-860d-3485242ae7f5    instagram_new_adverts   \n",
       "13575  ffff69cc-fec1-4fd3-9f98-93be1112a6b8             facebook_ads   \n",
       "\n",
       "       ad_shows_count  mean_cost    profit  \n",
       "0                  13   0.785365  0.124635  \n",
       "1                   9   0.463590  0.166410  \n",
       "2                   4   0.397662 -0.117662  \n",
       "3                   8   0.645785 -0.085785  \n",
       "4                  12   0.785365  0.054635  \n",
       "...               ...        ...       ...  \n",
       "13571               9   0.645785 -0.015785  \n",
       "13572              16   0.785365  0.334635  \n",
       "13573               9   0.463590  0.166410  \n",
       "13574               7   0.645785 -0.155785  \n",
       "13575              12   0.785365  0.054635  \n",
       "\n",
       "[13576 rows x 5 columns]"
      ]
     },
     "execution_count": 115,
     "metadata": {},
     "output_type": "execute_result"
    }
   ],
   "source": [
    "for_2_hyp_merged['profit'] = (for_2_hyp_merged['ad_shows_count'] * profit_for_one) - for_2_hyp_merged['mean_cost']\n",
    "for_2_hyp_merged"
   ]
  },
  {
   "cell_type": "markdown",
   "metadata": {},
   "source": [
    "Оставим в таблице только данные о пользователях, привлеченных из yandex_direct и из youtube_channel_reklama. "
   ]
  },
  {
   "cell_type": "code",
   "execution_count": 116,
   "metadata": {},
   "outputs": [
    {
     "data": {
      "text/html": [
       "<div>\n",
       "<style scoped>\n",
       "    .dataframe tbody tr th:only-of-type {\n",
       "        vertical-align: middle;\n",
       "    }\n",
       "\n",
       "    .dataframe tbody tr th {\n",
       "        vertical-align: top;\n",
       "    }\n",
       "\n",
       "    .dataframe thead th {\n",
       "        text-align: right;\n",
       "    }\n",
       "</style>\n",
       "<table border=\"1\" class=\"dataframe\">\n",
       "  <thead>\n",
       "    <tr style=\"text-align: right;\">\n",
       "      <th></th>\n",
       "      <th>user_id</th>\n",
       "      <th>source</th>\n",
       "      <th>ad_shows_count</th>\n",
       "      <th>mean_cost</th>\n",
       "      <th>profit</th>\n",
       "    </tr>\n",
       "  </thead>\n",
       "  <tbody>\n",
       "    <tr>\n",
       "      <th>1</th>\n",
       "      <td>00151b4f-ba38-44a8-a650-d7cf130a0105</td>\n",
       "      <td>yandex_direct</td>\n",
       "      <td>9</td>\n",
       "      <td>0.463590</td>\n",
       "      <td>0.166410</td>\n",
       "    </tr>\n",
       "    <tr>\n",
       "      <th>2</th>\n",
       "      <td>001aaea6-3d14-43f1-8ca8-7f48820f17aa</td>\n",
       "      <td>youtube_channel_reklama</td>\n",
       "      <td>4</td>\n",
       "      <td>0.397662</td>\n",
       "      <td>-0.117662</td>\n",
       "    </tr>\n",
       "    <tr>\n",
       "      <th>5</th>\n",
       "      <td>003b80c6-4164-4157-bb2a-03d0181d39c4</td>\n",
       "      <td>yandex_direct</td>\n",
       "      <td>14</td>\n",
       "      <td>0.463590</td>\n",
       "      <td>0.516410</td>\n",
       "    </tr>\n",
       "    <tr>\n",
       "      <th>9</th>\n",
       "      <td>00464e5e-28ed-4be6-bf44-517ef7b3937b</td>\n",
       "      <td>yandex_direct</td>\n",
       "      <td>8</td>\n",
       "      <td>0.463590</td>\n",
       "      <td>0.096410</td>\n",
       "    </tr>\n",
       "    <tr>\n",
       "      <th>11</th>\n",
       "      <td>005ff87b-b475-4da7-862e-57ab91adbff4</td>\n",
       "      <td>youtube_channel_reklama</td>\n",
       "      <td>9</td>\n",
       "      <td>0.397662</td>\n",
       "      <td>0.232338</td>\n",
       "    </tr>\n",
       "    <tr>\n",
       "      <th>...</th>\n",
       "      <td>...</td>\n",
       "      <td>...</td>\n",
       "      <td>...</td>\n",
       "      <td>...</td>\n",
       "      <td>...</td>\n",
       "    </tr>\n",
       "    <tr>\n",
       "      <th>13567</th>\n",
       "      <td>ffcf62ae-0992-47ea-a010-2667ee0e7f23</td>\n",
       "      <td>yandex_direct</td>\n",
       "      <td>10</td>\n",
       "      <td>0.463590</td>\n",
       "      <td>0.236410</td>\n",
       "    </tr>\n",
       "    <tr>\n",
       "      <th>13568</th>\n",
       "      <td>ffd002f3-3545-423e-8dba-0c6a2d48a3aa</td>\n",
       "      <td>yandex_direct</td>\n",
       "      <td>7</td>\n",
       "      <td>0.463590</td>\n",
       "      <td>0.026410</td>\n",
       "    </tr>\n",
       "    <tr>\n",
       "      <th>13569</th>\n",
       "      <td>ffd3469d-fb9e-49d8-84fe-c1a1aaf4b3b7</td>\n",
       "      <td>yandex_direct</td>\n",
       "      <td>11</td>\n",
       "      <td>0.463590</td>\n",
       "      <td>0.306410</td>\n",
       "    </tr>\n",
       "    <tr>\n",
       "      <th>13570</th>\n",
       "      <td>ffe810f4-1a1f-464b-924d-6f120b0cb8df</td>\n",
       "      <td>youtube_channel_reklama</td>\n",
       "      <td>16</td>\n",
       "      <td>0.397662</td>\n",
       "      <td>0.722338</td>\n",
       "    </tr>\n",
       "    <tr>\n",
       "      <th>13573</th>\n",
       "      <td>fffb626c-5ab6-47c9-8113-2062a2f18494</td>\n",
       "      <td>yandex_direct</td>\n",
       "      <td>9</td>\n",
       "      <td>0.463590</td>\n",
       "      <td>0.166410</td>\n",
       "    </tr>\n",
       "  </tbody>\n",
       "</table>\n",
       "<p>7503 rows × 5 columns</p>\n",
       "</div>"
      ],
      "text/plain": [
       "                                    user_id                   source  \\\n",
       "1      00151b4f-ba38-44a8-a650-d7cf130a0105            yandex_direct   \n",
       "2      001aaea6-3d14-43f1-8ca8-7f48820f17aa  youtube_channel_reklama   \n",
       "5      003b80c6-4164-4157-bb2a-03d0181d39c4            yandex_direct   \n",
       "9      00464e5e-28ed-4be6-bf44-517ef7b3937b            yandex_direct   \n",
       "11     005ff87b-b475-4da7-862e-57ab91adbff4  youtube_channel_reklama   \n",
       "...                                     ...                      ...   \n",
       "13567  ffcf62ae-0992-47ea-a010-2667ee0e7f23            yandex_direct   \n",
       "13568  ffd002f3-3545-423e-8dba-0c6a2d48a3aa            yandex_direct   \n",
       "13569  ffd3469d-fb9e-49d8-84fe-c1a1aaf4b3b7            yandex_direct   \n",
       "13570  ffe810f4-1a1f-464b-924d-6f120b0cb8df  youtube_channel_reklama   \n",
       "13573  fffb626c-5ab6-47c9-8113-2062a2f18494            yandex_direct   \n",
       "\n",
       "       ad_shows_count  mean_cost    profit  \n",
       "1                   9   0.463590  0.166410  \n",
       "2                   4   0.397662 -0.117662  \n",
       "5                  14   0.463590  0.516410  \n",
       "9                   8   0.463590  0.096410  \n",
       "11                  9   0.397662  0.232338  \n",
       "...               ...        ...       ...  \n",
       "13567              10   0.463590  0.236410  \n",
       "13568               7   0.463590  0.026410  \n",
       "13569              11   0.463590  0.306410  \n",
       "13570              16   0.397662  0.722338  \n",
       "13573               9   0.463590  0.166410  \n",
       "\n",
       "[7503 rows x 5 columns]"
      ]
     },
     "execution_count": 116,
     "metadata": {},
     "output_type": "execute_result"
    }
   ],
   "source": [
    "for_2_hyp_merged = for_2_hyp_merged.loc[~for_2_hyp_merged['source'].isin(['facebook_ads', 'instagram_new_adverts'])]\n",
    "\n",
    "for_2_hyp_merged"
   ]
  },
  {
   "cell_type": "markdown",
   "metadata": {},
   "source": [
    "Построим гистограмму с частотным распределением данных по переменной \"profit\", с учетом канала привлечения."
   ]
  },
  {
   "cell_type": "code",
   "execution_count": 117,
   "metadata": {},
   "outputs": [
    {
     "data": {
      "image/png": "[encoded data removed]",
      "text/plain": [
       "<Figure size 1080x360 with 1 Axes>"
      ]
     },
     "metadata": {
      "image/png": {
       "height": 324,
       "width": 898
      },
      "needs_background": "light"
     },
     "output_type": "display_data"
    }
   ],
   "source": [
    "plt.figure(figsize=(15, 5))\n",
    "sns.histplot(x=\"profit\", data=for_2_hyp_merged, hue=\"source\", element=\"step\", bins=20)\n",
    "plt.xlabel('Прибыль от игрока', fontsize = 18)\n",
    "plt.ylabel ('Количество пользователей', fontsize = 18)\n",
    "plt.legend(['youtube_channel_reklama', 'yandex_direct'], fontsize=20)\n",
    "plt.show();"
   ]
  },
  {
   "cell_type": "markdown",
   "metadata": {},
   "source": [
    "Оба распределения не выглядят, как нормальные: есть два пиковых значения. Поэтому при проверке статистической значимости различий средних прибылей дисперсии будем считать не равными. "
   ]
  },
  {
   "cell_type": "markdown",
   "metadata": {},
   "source": [
    "### Сравнение среднего количества событий \"building\" в зависимости от источника, с которого пришёл пользователь, завершивший первый уровень."
   ]
  },
  {
   "cell_type": "markdown",
   "metadata": {},
   "source": [
    "Применим функцию building к таблице game_actions_finished_stage_1_result."
   ]
  },
  {
   "cell_type": "code",
   "execution_count": 118,
   "metadata": {},
   "outputs": [
    {
     "data": {
      "text/html": [
       "<div>\n",
       "<style scoped>\n",
       "    .dataframe tbody tr th:only-of-type {\n",
       "        vertical-align: middle;\n",
       "    }\n",
       "\n",
       "    .dataframe tbody tr th {\n",
       "        vertical-align: top;\n",
       "    }\n",
       "\n",
       "    .dataframe thead th {\n",
       "        text-align: right;\n",
       "    }\n",
       "</style>\n",
       "<table border=\"1\" class=\"dataframe\">\n",
       "  <thead>\n",
       "    <tr style=\"text-align: right;\">\n",
       "      <th></th>\n",
       "      <th>user_id</th>\n",
       "      <th>event</th>\n",
       "      <th>building_type</th>\n",
       "      <th>only_date</th>\n",
       "      <th>finish_type</th>\n",
       "      <th>building_count</th>\n",
       "    </tr>\n",
       "  </thead>\n",
       "  <tbody>\n",
       "    <tr>\n",
       "      <th>0</th>\n",
       "      <td>ced7b368-818f-48f6-9461-2346de0892c5</td>\n",
       "      <td>building</td>\n",
       "      <td>assembly_shop</td>\n",
       "      <td>2020-05-04</td>\n",
       "      <td>win</td>\n",
       "      <td>1</td>\n",
       "    </tr>\n",
       "    <tr>\n",
       "      <th>1</th>\n",
       "      <td>ced7b368-818f-48f6-9461-2346de0892c5</td>\n",
       "      <td>building</td>\n",
       "      <td>spaceport</td>\n",
       "      <td>2020-05-04</td>\n",
       "      <td>win</td>\n",
       "      <td>1</td>\n",
       "    </tr>\n",
       "    <tr>\n",
       "      <th>2</th>\n",
       "      <td>ced7b368-818f-48f6-9461-2346de0892c5</td>\n",
       "      <td>finished_stage_1</td>\n",
       "      <td>NaN</td>\n",
       "      <td>2020-05-04</td>\n",
       "      <td>win</td>\n",
       "      <td>0</td>\n",
       "    </tr>\n",
       "    <tr>\n",
       "      <th>3</th>\n",
       "      <td>7ef7fc89-2779-46ea-b328-9e5035b83af5</td>\n",
       "      <td>building</td>\n",
       "      <td>assembly_shop</td>\n",
       "      <td>2020-05-04</td>\n",
       "      <td>win</td>\n",
       "      <td>1</td>\n",
       "    </tr>\n",
       "    <tr>\n",
       "      <th>4</th>\n",
       "      <td>7ef7fc89-2779-46ea-b328-9e5035b83af5</td>\n",
       "      <td>building</td>\n",
       "      <td>spaceport</td>\n",
       "      <td>2020-05-04</td>\n",
       "      <td>win</td>\n",
       "      <td>1</td>\n",
       "    </tr>\n",
       "    <tr>\n",
       "      <th>...</th>\n",
       "      <td>...</td>\n",
       "      <td>...</td>\n",
       "      <td>...</td>\n",
       "      <td>...</td>\n",
       "      <td>...</td>\n",
       "      <td>...</td>\n",
       "    </tr>\n",
       "    <tr>\n",
       "      <th>68464</th>\n",
       "      <td>f21d179f-1c4b-437e-b9c6-ab1976907195</td>\n",
       "      <td>building</td>\n",
       "      <td>spaceport</td>\n",
       "      <td>2020-05-29</td>\n",
       "      <td>win</td>\n",
       "      <td>1</td>\n",
       "    </tr>\n",
       "    <tr>\n",
       "      <th>68465</th>\n",
       "      <td>f21d179f-1c4b-437e-b9c6-ab1976907195</td>\n",
       "      <td>building</td>\n",
       "      <td>spaceport</td>\n",
       "      <td>2020-05-30</td>\n",
       "      <td>win</td>\n",
       "      <td>1</td>\n",
       "    </tr>\n",
       "    <tr>\n",
       "      <th>68466</th>\n",
       "      <td>f21d179f-1c4b-437e-b9c6-ab1976907195</td>\n",
       "      <td>building</td>\n",
       "      <td>spaceport</td>\n",
       "      <td>2020-06-02</td>\n",
       "      <td>win</td>\n",
       "      <td>1</td>\n",
       "    </tr>\n",
       "    <tr>\n",
       "      <th>68467</th>\n",
       "      <td>f21d179f-1c4b-437e-b9c6-ab1976907195</td>\n",
       "      <td>building</td>\n",
       "      <td>research_center</td>\n",
       "      <td>2020-06-05</td>\n",
       "      <td>win</td>\n",
       "      <td>1</td>\n",
       "    </tr>\n",
       "    <tr>\n",
       "      <th>68468</th>\n",
       "      <td>f21d179f-1c4b-437e-b9c6-ab1976907195</td>\n",
       "      <td>finished_stage_1</td>\n",
       "      <td>NaN</td>\n",
       "      <td>2020-06-05</td>\n",
       "      <td>win</td>\n",
       "      <td>0</td>\n",
       "    </tr>\n",
       "  </tbody>\n",
       "</table>\n",
       "<p>68469 rows × 6 columns</p>\n",
       "</div>"
      ],
      "text/plain": [
       "                                    user_id             event  \\\n",
       "0      ced7b368-818f-48f6-9461-2346de0892c5          building   \n",
       "1      ced7b368-818f-48f6-9461-2346de0892c5          building   \n",
       "2      ced7b368-818f-48f6-9461-2346de0892c5  finished_stage_1   \n",
       "3      7ef7fc89-2779-46ea-b328-9e5035b83af5          building   \n",
       "4      7ef7fc89-2779-46ea-b328-9e5035b83af5          building   \n",
       "...                                     ...               ...   \n",
       "68464  f21d179f-1c4b-437e-b9c6-ab1976907195          building   \n",
       "68465  f21d179f-1c4b-437e-b9c6-ab1976907195          building   \n",
       "68466  f21d179f-1c4b-437e-b9c6-ab1976907195          building   \n",
       "68467  f21d179f-1c4b-437e-b9c6-ab1976907195          building   \n",
       "68468  f21d179f-1c4b-437e-b9c6-ab1976907195  finished_stage_1   \n",
       "\n",
       "         building_type  only_date finish_type  building_count  \n",
       "0        assembly_shop 2020-05-04         win               1  \n",
       "1            spaceport 2020-05-04         win               1  \n",
       "2                  NaN 2020-05-04         win               0  \n",
       "3        assembly_shop 2020-05-04         win               1  \n",
       "4            spaceport 2020-05-04         win               1  \n",
       "...                ...        ...         ...             ...  \n",
       "68464        spaceport 2020-05-29         win               1  \n",
       "68465        spaceport 2020-05-30         win               1  \n",
       "68466        spaceport 2020-06-02         win               1  \n",
       "68467  research_center 2020-06-05         win               1  \n",
       "68468              NaN 2020-06-05         win               0  \n",
       "\n",
       "[68469 rows x 6 columns]"
      ]
     },
     "execution_count": 118,
     "metadata": {},
     "output_type": "execute_result"
    }
   ],
   "source": [
    "game_actions_finished_stage_1_result['building_count'] = game_actions_finished_stage_1_result.apply(building, axis=1)\n",
    "game_actions_finished_stage_1_result"
   ]
  },
  {
   "cell_type": "markdown",
   "metadata": {},
   "source": [
    "Объединим таблицу game_actions_finished_stage_1_result с таблицей \"user_source\"."
   ]
  },
  {
   "cell_type": "code",
   "execution_count": 119,
   "metadata": {},
   "outputs": [
    {
     "data": {
      "text/html": [
       "<div>\n",
       "<style scoped>\n",
       "    .dataframe tbody tr th:only-of-type {\n",
       "        vertical-align: middle;\n",
       "    }\n",
       "\n",
       "    .dataframe tbody tr th {\n",
       "        vertical-align: top;\n",
       "    }\n",
       "\n",
       "    .dataframe thead th {\n",
       "        text-align: right;\n",
       "    }\n",
       "</style>\n",
       "<table border=\"1\" class=\"dataframe\">\n",
       "  <thead>\n",
       "    <tr style=\"text-align: right;\">\n",
       "      <th></th>\n",
       "      <th>user_id</th>\n",
       "      <th>event</th>\n",
       "      <th>building_type</th>\n",
       "      <th>only_date</th>\n",
       "      <th>finish_type</th>\n",
       "      <th>building_count</th>\n",
       "      <th>source</th>\n",
       "    </tr>\n",
       "  </thead>\n",
       "  <tbody>\n",
       "    <tr>\n",
       "      <th>0</th>\n",
       "      <td>ced7b368-818f-48f6-9461-2346de0892c5</td>\n",
       "      <td>building</td>\n",
       "      <td>assembly_shop</td>\n",
       "      <td>2020-05-04</td>\n",
       "      <td>win</td>\n",
       "      <td>1</td>\n",
       "      <td>instagram_new_adverts</td>\n",
       "    </tr>\n",
       "    <tr>\n",
       "      <th>1</th>\n",
       "      <td>ced7b368-818f-48f6-9461-2346de0892c5</td>\n",
       "      <td>building</td>\n",
       "      <td>spaceport</td>\n",
       "      <td>2020-05-04</td>\n",
       "      <td>win</td>\n",
       "      <td>1</td>\n",
       "      <td>instagram_new_adverts</td>\n",
       "    </tr>\n",
       "    <tr>\n",
       "      <th>2</th>\n",
       "      <td>ced7b368-818f-48f6-9461-2346de0892c5</td>\n",
       "      <td>finished_stage_1</td>\n",
       "      <td>NaN</td>\n",
       "      <td>2020-05-04</td>\n",
       "      <td>win</td>\n",
       "      <td>0</td>\n",
       "      <td>instagram_new_adverts</td>\n",
       "    </tr>\n",
       "    <tr>\n",
       "      <th>3</th>\n",
       "      <td>7ef7fc89-2779-46ea-b328-9e5035b83af5</td>\n",
       "      <td>building</td>\n",
       "      <td>assembly_shop</td>\n",
       "      <td>2020-05-04</td>\n",
       "      <td>win</td>\n",
       "      <td>1</td>\n",
       "      <td>facebook_ads</td>\n",
       "    </tr>\n",
       "    <tr>\n",
       "      <th>4</th>\n",
       "      <td>7ef7fc89-2779-46ea-b328-9e5035b83af5</td>\n",
       "      <td>building</td>\n",
       "      <td>spaceport</td>\n",
       "      <td>2020-05-04</td>\n",
       "      <td>win</td>\n",
       "      <td>1</td>\n",
       "      <td>facebook_ads</td>\n",
       "    </tr>\n",
       "    <tr>\n",
       "      <th>...</th>\n",
       "      <td>...</td>\n",
       "      <td>...</td>\n",
       "      <td>...</td>\n",
       "      <td>...</td>\n",
       "      <td>...</td>\n",
       "      <td>...</td>\n",
       "      <td>...</td>\n",
       "    </tr>\n",
       "    <tr>\n",
       "      <th>68464</th>\n",
       "      <td>f21d179f-1c4b-437e-b9c6-ab1976907195</td>\n",
       "      <td>building</td>\n",
       "      <td>spaceport</td>\n",
       "      <td>2020-05-29</td>\n",
       "      <td>win</td>\n",
       "      <td>1</td>\n",
       "      <td>instagram_new_adverts</td>\n",
       "    </tr>\n",
       "    <tr>\n",
       "      <th>68465</th>\n",
       "      <td>f21d179f-1c4b-437e-b9c6-ab1976907195</td>\n",
       "      <td>building</td>\n",
       "      <td>spaceport</td>\n",
       "      <td>2020-05-30</td>\n",
       "      <td>win</td>\n",
       "      <td>1</td>\n",
       "      <td>instagram_new_adverts</td>\n",
       "    </tr>\n",
       "    <tr>\n",
       "      <th>68466</th>\n",
       "      <td>f21d179f-1c4b-437e-b9c6-ab1976907195</td>\n",
       "      <td>building</td>\n",
       "      <td>spaceport</td>\n",
       "      <td>2020-06-02</td>\n",
       "      <td>win</td>\n",
       "      <td>1</td>\n",
       "      <td>instagram_new_adverts</td>\n",
       "    </tr>\n",
       "    <tr>\n",
       "      <th>68467</th>\n",
       "      <td>f21d179f-1c4b-437e-b9c6-ab1976907195</td>\n",
       "      <td>building</td>\n",
       "      <td>research_center</td>\n",
       "      <td>2020-06-05</td>\n",
       "      <td>win</td>\n",
       "      <td>1</td>\n",
       "      <td>instagram_new_adverts</td>\n",
       "    </tr>\n",
       "    <tr>\n",
       "      <th>68468</th>\n",
       "      <td>f21d179f-1c4b-437e-b9c6-ab1976907195</td>\n",
       "      <td>finished_stage_1</td>\n",
       "      <td>NaN</td>\n",
       "      <td>2020-06-05</td>\n",
       "      <td>win</td>\n",
       "      <td>0</td>\n",
       "      <td>instagram_new_adverts</td>\n",
       "    </tr>\n",
       "  </tbody>\n",
       "</table>\n",
       "<p>68469 rows × 7 columns</p>\n",
       "</div>"
      ],
      "text/plain": [
       "                                    user_id             event  \\\n",
       "0      ced7b368-818f-48f6-9461-2346de0892c5          building   \n",
       "1      ced7b368-818f-48f6-9461-2346de0892c5          building   \n",
       "2      ced7b368-818f-48f6-9461-2346de0892c5  finished_stage_1   \n",
       "3      7ef7fc89-2779-46ea-b328-9e5035b83af5          building   \n",
       "4      7ef7fc89-2779-46ea-b328-9e5035b83af5          building   \n",
       "...                                     ...               ...   \n",
       "68464  f21d179f-1c4b-437e-b9c6-ab1976907195          building   \n",
       "68465  f21d179f-1c4b-437e-b9c6-ab1976907195          building   \n",
       "68466  f21d179f-1c4b-437e-b9c6-ab1976907195          building   \n",
       "68467  f21d179f-1c4b-437e-b9c6-ab1976907195          building   \n",
       "68468  f21d179f-1c4b-437e-b9c6-ab1976907195  finished_stage_1   \n",
       "\n",
       "         building_type  only_date finish_type  building_count  \\\n",
       "0        assembly_shop 2020-05-04         win               1   \n",
       "1            spaceport 2020-05-04         win               1   \n",
       "2                  NaN 2020-05-04         win               0   \n",
       "3        assembly_shop 2020-05-04         win               1   \n",
       "4            spaceport 2020-05-04         win               1   \n",
       "...                ...        ...         ...             ...   \n",
       "68464        spaceport 2020-05-29         win               1   \n",
       "68465        spaceport 2020-05-30         win               1   \n",
       "68466        spaceport 2020-06-02         win               1   \n",
       "68467  research_center 2020-06-05         win               1   \n",
       "68468              NaN 2020-06-05         win               0   \n",
       "\n",
       "                      source  \n",
       "0      instagram_new_adverts  \n",
       "1      instagram_new_adverts  \n",
       "2      instagram_new_adverts  \n",
       "3               facebook_ads  \n",
       "4               facebook_ads  \n",
       "...                      ...  \n",
       "68464  instagram_new_adverts  \n",
       "68465  instagram_new_adverts  \n",
       "68466  instagram_new_adverts  \n",
       "68467  instagram_new_adverts  \n",
       "68468  instagram_new_adverts  \n",
       "\n",
       "[68469 rows x 7 columns]"
      ]
     },
     "execution_count": 119,
     "metadata": {},
     "output_type": "execute_result"
    }
   ],
   "source": [
    "for_2_hyp_2 = game_actions_finished_stage_1_result.merge(user_source, on=['user_id'], how='left')\n",
    "for_2_hyp_2"
   ]
  },
  {
   "cell_type": "markdown",
   "metadata": {},
   "source": [
    "Построим сводную таблицу, в которой покажем суммарное количество событий building, в зависимости от канала их привлечения. Затем на основе полученной таблицы рассчитаем среднее количество событий building на одного пользователя в зависимости от канала привлечения.  "
   ]
  },
  {
   "cell_type": "code",
   "execution_count": 120,
   "metadata": {},
   "outputs": [
    {
     "data": {
      "text/html": [
       "<div>\n",
       "<style scoped>\n",
       "    .dataframe tbody tr th:only-of-type {\n",
       "        vertical-align: middle;\n",
       "    }\n",
       "\n",
       "    .dataframe tbody tr th {\n",
       "        vertical-align: top;\n",
       "    }\n",
       "\n",
       "    .dataframe thead th {\n",
       "        text-align: right;\n",
       "    }\n",
       "</style>\n",
       "<table border=\"1\" class=\"dataframe\">\n",
       "  <thead>\n",
       "    <tr style=\"text-align: right;\">\n",
       "      <th></th>\n",
       "      <th>user_id</th>\n",
       "      <th>source</th>\n",
       "      <th>total_ad_shows</th>\n",
       "    </tr>\n",
       "  </thead>\n",
       "  <tbody>\n",
       "    <tr>\n",
       "      <th>0</th>\n",
       "      <td>001d39dc-366c-4021-9604-6a3b9ff01e25</td>\n",
       "      <td>instagram_new_adverts</td>\n",
       "      <td>8</td>\n",
       "    </tr>\n",
       "    <tr>\n",
       "      <th>1</th>\n",
       "      <td>003ee7e8-6356-4286-a715-62f22a18d2a1</td>\n",
       "      <td>instagram_new_adverts</td>\n",
       "      <td>8</td>\n",
       "    </tr>\n",
       "    <tr>\n",
       "      <th>2</th>\n",
       "      <td>004074f8-251a-4776-922c-8348dca1a2f6</td>\n",
       "      <td>facebook_ads</td>\n",
       "      <td>12</td>\n",
       "    </tr>\n",
       "    <tr>\n",
       "      <th>3</th>\n",
       "      <td>00464e5e-28ed-4be6-bf44-517ef7b3937b</td>\n",
       "      <td>yandex_direct</td>\n",
       "      <td>8</td>\n",
       "    </tr>\n",
       "    <tr>\n",
       "      <th>4</th>\n",
       "      <td>0056c007-c082-43cc-bdef-afc49bca4cb9</td>\n",
       "      <td>instagram_new_adverts</td>\n",
       "      <td>3</td>\n",
       "    </tr>\n",
       "    <tr>\n",
       "      <th>...</th>\n",
       "      <td>...</td>\n",
       "      <td>...</td>\n",
       "      <td>...</td>\n",
       "    </tr>\n",
       "    <tr>\n",
       "      <th>5812</th>\n",
       "      <td>ffd002f3-3545-423e-8dba-0c6a2d48a3aa</td>\n",
       "      <td>yandex_direct</td>\n",
       "      <td>7</td>\n",
       "    </tr>\n",
       "    <tr>\n",
       "      <th>5813</th>\n",
       "      <td>ffe810f4-1a1f-464b-924d-6f120b0cb8df</td>\n",
       "      <td>youtube_channel_reklama</td>\n",
       "      <td>16</td>\n",
       "    </tr>\n",
       "    <tr>\n",
       "      <th>5814</th>\n",
       "      <td>ffef4fed-164c-40e1-bde1-3980f76d0fb5</td>\n",
       "      <td>instagram_new_adverts</td>\n",
       "      <td>9</td>\n",
       "    </tr>\n",
       "    <tr>\n",
       "      <th>5815</th>\n",
       "      <td>fffb626c-5ab6-47c9-8113-2062a2f18494</td>\n",
       "      <td>yandex_direct</td>\n",
       "      <td>9</td>\n",
       "    </tr>\n",
       "    <tr>\n",
       "      <th>5816</th>\n",
       "      <td>ffff69cc-fec1-4fd3-9f98-93be1112a6b8</td>\n",
       "      <td>facebook_ads</td>\n",
       "      <td>12</td>\n",
       "    </tr>\n",
       "  </tbody>\n",
       "</table>\n",
       "<p>5817 rows × 3 columns</p>\n",
       "</div>"
      ],
      "text/plain": [
       "                                   user_id                   source  \\\n",
       "0     001d39dc-366c-4021-9604-6a3b9ff01e25    instagram_new_adverts   \n",
       "1     003ee7e8-6356-4286-a715-62f22a18d2a1    instagram_new_adverts   \n",
       "2     004074f8-251a-4776-922c-8348dca1a2f6             facebook_ads   \n",
       "3     00464e5e-28ed-4be6-bf44-517ef7b3937b            yandex_direct   \n",
       "4     0056c007-c082-43cc-bdef-afc49bca4cb9    instagram_new_adverts   \n",
       "...                                    ...                      ...   \n",
       "5812  ffd002f3-3545-423e-8dba-0c6a2d48a3aa            yandex_direct   \n",
       "5813  ffe810f4-1a1f-464b-924d-6f120b0cb8df  youtube_channel_reklama   \n",
       "5814  ffef4fed-164c-40e1-bde1-3980f76d0fb5    instagram_new_adverts   \n",
       "5815  fffb626c-5ab6-47c9-8113-2062a2f18494            yandex_direct   \n",
       "5816  ffff69cc-fec1-4fd3-9f98-93be1112a6b8             facebook_ads   \n",
       "\n",
       "      total_ad_shows  \n",
       "0                  8  \n",
       "1                  8  \n",
       "2                 12  \n",
       "3                  8  \n",
       "4                  3  \n",
       "...              ...  \n",
       "5812               7  \n",
       "5813              16  \n",
       "5814               9  \n",
       "5815               9  \n",
       "5816              12  \n",
       "\n",
       "[5817 rows x 3 columns]"
      ]
     },
     "execution_count": 120,
     "metadata": {},
     "output_type": "execute_result"
    }
   ],
   "source": [
    "for_2_hyp_2_pivot = for_2_hyp_2.pivot_table(index=['user_id', 'source'], values='building_count', aggfunc=['sum'])\n",
    "for_2_hyp_2_pivot = for_2_hyp_2_pivot.reset_index()\n",
    "for_2_hyp_2_pivot.columns = ['user_id', 'source', 'total_ad_shows']\n",
    "for_2_hyp_2_pivot"
   ]
  },
  {
   "cell_type": "code",
   "execution_count": 121,
   "metadata": {},
   "outputs": [
    {
     "data": {
      "text/html": [
       "<div>\n",
       "<style scoped>\n",
       "    .dataframe tbody tr th:only-of-type {\n",
       "        vertical-align: middle;\n",
       "    }\n",
       "\n",
       "    .dataframe tbody tr th {\n",
       "        vertical-align: top;\n",
       "    }\n",
       "\n",
       "    .dataframe thead th {\n",
       "        text-align: right;\n",
       "    }\n",
       "</style>\n",
       "<table border=\"1\" class=\"dataframe\">\n",
       "  <thead>\n",
       "    <tr style=\"text-align: right;\">\n",
       "      <th></th>\n",
       "      <th>source</th>\n",
       "      <th>mean_ad_shows</th>\n",
       "    </tr>\n",
       "  </thead>\n",
       "  <tbody>\n",
       "    <tr>\n",
       "      <th>0</th>\n",
       "      <td>facebook_ads</td>\n",
       "      <td>10.5</td>\n",
       "    </tr>\n",
       "    <tr>\n",
       "      <th>1</th>\n",
       "      <td>instagram_new_adverts</td>\n",
       "      <td>10.5</td>\n",
       "    </tr>\n",
       "    <tr>\n",
       "      <th>2</th>\n",
       "      <td>yandex_direct</td>\n",
       "      <td>10.4</td>\n",
       "    </tr>\n",
       "    <tr>\n",
       "      <th>3</th>\n",
       "      <td>youtube_channel_reklama</td>\n",
       "      <td>10.5</td>\n",
       "    </tr>\n",
       "  </tbody>\n",
       "</table>\n",
       "</div>"
      ],
      "text/plain": [
       "                    source  mean_ad_shows\n",
       "0             facebook_ads           10.5\n",
       "1    instagram_new_adverts           10.5\n",
       "2            yandex_direct           10.4\n",
       "3  youtube_channel_reklama           10.5"
      ]
     },
     "execution_count": 121,
     "metadata": {},
     "output_type": "execute_result"
    }
   ],
   "source": [
    "for_2_hyp_2_pivot_2 = for_2_hyp_2_pivot.pivot_table(index=['source'], values='total_ad_shows', aggfunc=['mean'])\n",
    "for_2_hyp_2_pivot_2 = for_2_hyp_2_pivot_2.reset_index()\n",
    "for_2_hyp_2_pivot_2.columns = ['source', 'mean_ad_shows']\n",
    "for_2_hyp_2_pivot_2['mean_ad_shows'] = np.round(for_2_hyp_2_pivot_2['mean_ad_shows'], decimals = 1)\n",
    "for_2_hyp_2_pivot_2"
   ]
  },
  {
   "cell_type": "markdown",
   "metadata": {},
   "source": [
    "<b>Среднее количество событий building для завершивших первый уровень пользователей, привлеченных из yandex_direct, совсем незначительно уступает остальным каналам привлечения.</b> "
   ]
  },
  {
   "cell_type": "markdown",
   "metadata": {},
   "source": [
    "Построим гистограмму с частотным распределением данных по переменной \"total_ad_shows\" (\"Количество переходов на экран с выбором типа объекта для постройки\"), с учетом канала привлечения игрока."
   ]
  },
  {
   "cell_type": "code",
   "execution_count": 122,
   "metadata": {},
   "outputs": [
    {
     "data": {
      "text/html": [
       "<div>\n",
       "<style scoped>\n",
       "    .dataframe tbody tr th:only-of-type {\n",
       "        vertical-align: middle;\n",
       "    }\n",
       "\n",
       "    .dataframe tbody tr th {\n",
       "        vertical-align: top;\n",
       "    }\n",
       "\n",
       "    .dataframe thead th {\n",
       "        text-align: right;\n",
       "    }\n",
       "</style>\n",
       "<table border=\"1\" class=\"dataframe\">\n",
       "  <thead>\n",
       "    <tr style=\"text-align: right;\">\n",
       "      <th></th>\n",
       "      <th>user_id</th>\n",
       "      <th>source</th>\n",
       "      <th>total_ad_shows</th>\n",
       "      <th>channel</th>\n",
       "    </tr>\n",
       "  </thead>\n",
       "  <tbody>\n",
       "    <tr>\n",
       "      <th>0</th>\n",
       "      <td>001d39dc-366c-4021-9604-6a3b9ff01e25</td>\n",
       "      <td>instagram_new_adverts</td>\n",
       "      <td>8</td>\n",
       "      <td>other</td>\n",
       "    </tr>\n",
       "    <tr>\n",
       "      <th>1</th>\n",
       "      <td>003ee7e8-6356-4286-a715-62f22a18d2a1</td>\n",
       "      <td>instagram_new_adverts</td>\n",
       "      <td>8</td>\n",
       "      <td>other</td>\n",
       "    </tr>\n",
       "    <tr>\n",
       "      <th>2</th>\n",
       "      <td>004074f8-251a-4776-922c-8348dca1a2f6</td>\n",
       "      <td>facebook_ads</td>\n",
       "      <td>12</td>\n",
       "      <td>other</td>\n",
       "    </tr>\n",
       "    <tr>\n",
       "      <th>3</th>\n",
       "      <td>00464e5e-28ed-4be6-bf44-517ef7b3937b</td>\n",
       "      <td>yandex_direct</td>\n",
       "      <td>8</td>\n",
       "      <td>yandex_direct</td>\n",
       "    </tr>\n",
       "    <tr>\n",
       "      <th>4</th>\n",
       "      <td>0056c007-c082-43cc-bdef-afc49bca4cb9</td>\n",
       "      <td>instagram_new_adverts</td>\n",
       "      <td>3</td>\n",
       "      <td>other</td>\n",
       "    </tr>\n",
       "    <tr>\n",
       "      <th>...</th>\n",
       "      <td>...</td>\n",
       "      <td>...</td>\n",
       "      <td>...</td>\n",
       "      <td>...</td>\n",
       "    </tr>\n",
       "    <tr>\n",
       "      <th>5812</th>\n",
       "      <td>ffd002f3-3545-423e-8dba-0c6a2d48a3aa</td>\n",
       "      <td>yandex_direct</td>\n",
       "      <td>7</td>\n",
       "      <td>yandex_direct</td>\n",
       "    </tr>\n",
       "    <tr>\n",
       "      <th>5813</th>\n",
       "      <td>ffe810f4-1a1f-464b-924d-6f120b0cb8df</td>\n",
       "      <td>youtube_channel_reklama</td>\n",
       "      <td>16</td>\n",
       "      <td>other</td>\n",
       "    </tr>\n",
       "    <tr>\n",
       "      <th>5814</th>\n",
       "      <td>ffef4fed-164c-40e1-bde1-3980f76d0fb5</td>\n",
       "      <td>instagram_new_adverts</td>\n",
       "      <td>9</td>\n",
       "      <td>other</td>\n",
       "    </tr>\n",
       "    <tr>\n",
       "      <th>5815</th>\n",
       "      <td>fffb626c-5ab6-47c9-8113-2062a2f18494</td>\n",
       "      <td>yandex_direct</td>\n",
       "      <td>9</td>\n",
       "      <td>yandex_direct</td>\n",
       "    </tr>\n",
       "    <tr>\n",
       "      <th>5816</th>\n",
       "      <td>ffff69cc-fec1-4fd3-9f98-93be1112a6b8</td>\n",
       "      <td>facebook_ads</td>\n",
       "      <td>12</td>\n",
       "      <td>other</td>\n",
       "    </tr>\n",
       "  </tbody>\n",
       "</table>\n",
       "<p>5817 rows × 4 columns</p>\n",
       "</div>"
      ],
      "text/plain": [
       "                                   user_id                   source  \\\n",
       "0     001d39dc-366c-4021-9604-6a3b9ff01e25    instagram_new_adverts   \n",
       "1     003ee7e8-6356-4286-a715-62f22a18d2a1    instagram_new_adverts   \n",
       "2     004074f8-251a-4776-922c-8348dca1a2f6             facebook_ads   \n",
       "3     00464e5e-28ed-4be6-bf44-517ef7b3937b            yandex_direct   \n",
       "4     0056c007-c082-43cc-bdef-afc49bca4cb9    instagram_new_adverts   \n",
       "...                                    ...                      ...   \n",
       "5812  ffd002f3-3545-423e-8dba-0c6a2d48a3aa            yandex_direct   \n",
       "5813  ffe810f4-1a1f-464b-924d-6f120b0cb8df  youtube_channel_reklama   \n",
       "5814  ffef4fed-164c-40e1-bde1-3980f76d0fb5    instagram_new_adverts   \n",
       "5815  fffb626c-5ab6-47c9-8113-2062a2f18494            yandex_direct   \n",
       "5816  ffff69cc-fec1-4fd3-9f98-93be1112a6b8             facebook_ads   \n",
       "\n",
       "      total_ad_shows        channel  \n",
       "0                  8          other  \n",
       "1                  8          other  \n",
       "2                 12          other  \n",
       "3                  8  yandex_direct  \n",
       "4                  3          other  \n",
       "...              ...            ...  \n",
       "5812               7  yandex_direct  \n",
       "5813              16          other  \n",
       "5814               9          other  \n",
       "5815               9  yandex_direct  \n",
       "5816              12          other  \n",
       "\n",
       "[5817 rows x 4 columns]"
      ]
     },
     "execution_count": 122,
     "metadata": {},
     "output_type": "execute_result"
    }
   ],
   "source": [
    "def channel(row):\n",
    "    if row ['source'] == 'yandex_direct':\n",
    "        return 'yandex_direct'\n",
    "    else:\n",
    "        return 'other'\n",
    "\n",
    "for_2_hyp_2_pivot['channel'] = for_2_hyp_2_pivot.apply(channel, axis=1)\n",
    "for_2_hyp_2_pivot"
   ]
  },
  {
   "cell_type": "code",
   "execution_count": 123,
   "metadata": {},
   "outputs": [
    {
     "data": {
      "image/png": "[encoded data removed]",
      "text/plain": [
       "<Figure size 1440x360 with 1 Axes>"
      ]
     },
     "metadata": {
      "image/png": {
       "height": 324,
       "width": 1177
      },
      "needs_background": "light"
     },
     "output_type": "display_data"
    }
   ],
   "source": [
    "plt.figure(figsize=(20, 5))\n",
    "sns.histplot(x=\"total_ad_shows\", data=for_2_hyp_2_pivot, hue=\"channel\", element=\"step\", bins=18)\n",
    "plt.xlabel('Количество переходов на экран с выбором типа объекта для постройки', fontsize = 18)\n",
    "plt.ylabel ('Количество пользователей', fontsize = 18)\n",
    "plt.legend(['yandex_direct', 'other'], fontsize=20)\n",
    "plt.show();"
   ]
  },
  {
   "cell_type": "markdown",
   "metadata": {},
   "source": [
    "Выразительных различий в форме распределения переменной \"total_ad_shows\" в зависимости от канала привлечения не выявлено. Типичное количество переходов на экран с выбором типа объекта постройки: от 9 до 13.  "
   ]
  },
  {
   "cell_type": "code",
   "execution_count": 124,
   "metadata": {},
   "outputs": [],
   "source": [
    "for_2_hyp_2_pivot_yandex = for_2_hyp_2_pivot.loc[for_2_hyp_2_pivot.loc[:,'source'] == 'yandex_direct']\n",
    "for_2_hyp_2_pivot_other = for_2_hyp_2_pivot.loc[for_2_hyp_2_pivot.loc[:,'source'] != 'yandex_direct']"
   ]
  },
  {
   "cell_type": "code",
   "execution_count": 125,
   "metadata": {},
   "outputs": [
    {
     "name": "stdout",
     "output_type": "stream",
     "text": [
      "Среднее количество переходов для игроков из yandex_direct: 10.4\n",
      "Среднее количество переходов для игроков из other 10.5\n"
     ]
    }
   ],
   "source": [
    "print('Среднее количество переходов для игроков из yandex_direct:', for_2_hyp_2_pivot_yandex['total_ad_shows'].mean().round(decimals=1))\n",
    "print('Среднее количество переходов для игроков из other', for_2_hyp_2_pivot_other['total_ad_shows'].mean().round(decimals=1))"
   ]
  },
  {
   "cell_type": "markdown",
   "metadata": {},
   "source": [
    "Все выглядит так, что проверять статистическую значимость различия в среднем количестве переходов на экран с выбором типа объекта для постройки для игроков, привлеченных из yandex_direct и других каналов, нет необходимости в связи с очевидным отсуствием такого различия. "
   ]
  },
  {
   "cell_type": "markdown",
   "metadata": {},
   "source": [
    "## Проверка гипотез. "
   ]
  },
  {
   "cell_type": "markdown",
   "metadata": {},
   "source": [
    "### Проверка гипотезы о равенстве времени прохождения уровня. "
   ]
  },
  {
   "cell_type": "markdown",
   "metadata": {},
   "source": [
    "Мы определили, что, в среднем, для завершения уровня через победу над первым игроком необходимо 12 дней. А для завершения уровня через реализацию проекта, в среднем, необходимо 14 дней.\n",
    "\n",
    "Нам предстоит проверить гипотезу о равенстве средних в двух независимых выборках.\n",
    "\n",
    "Проверять гипотезу будем методом scipy.stats.ttest_ind (array1, array2, equal_var). Проверять гипотезы будем при alpha = 0,05.\n",
    "\n",
    "<b>Сформулируем гипотезы.</b>\n",
    "\n",
    "Нулевая гипотеза: среднее количество дней, необходимое на завершение уровня через победу над первым игроком и через реализацию проекта, не отличается.\n",
    "\n",
    "Альтернативная гипотеза: среднее количество дней, необходимое на завершение уровня через победу над первым игроком и через реализацию проекта, отличается.\n",
    "\n",
    "Дисперсии в выборках будем считать равными. "
   ]
  },
  {
   "cell_type": "code",
   "execution_count": 126,
   "metadata": {},
   "outputs": [
    {
     "name": "stdout",
     "output_type": "stream",
     "text": [
      "p-значение: 4.363370007994992e-96\n",
      "Отвергаем нулевую гипотезу\n"
     ]
    }
   ],
   "source": [
    "for_1_hyp_win = for_1_hyp_win['time']\n",
    "for_1_hyp_project = for_1_hyp_project['time']\n",
    "\n",
    "alpha = 0.05\n",
    "\n",
    "result = st.stats.ttest_ind(for_1_hyp_win, for_1_hyp_project)\n",
    "\n",
    "print('p-значение:', result.pvalue)\n",
    "\n",
    "if result.pvalue < alpha:\n",
    "    print(\"Отвергаем нулевую гипотезу\")\n",
    "else:\n",
    "    print(\"Не получилось отвергнуть нулевую гипотезу\") "
   ]
  },
  {
   "cell_type": "code",
   "execution_count": 127,
   "metadata": {},
   "outputs": [
    {
     "name": "stdout",
     "output_type": "stream",
     "text": [
      "Отношение числа игроков, выбравших более быструю стратегию прохождения игры, к числу игроков, выбравших более медленную стратегию: 2.117363344051447\n"
     ]
    }
   ],
   "source": [
    "print('Отношение числа игроков, выбравших более быструю стратегию прохождения игры, к числу игроков, выбравших более медленную стратегию:',for_1_hyp_win.shape[0] / for_1_hyp_project.shape[0])"
   ]
  },
  {
   "cell_type": "code",
   "execution_count": 128,
   "metadata": {},
   "outputs": [
    {
     "data": {
      "text/plain": [
       "1866"
      ]
     },
     "execution_count": 128,
     "metadata": {},
     "output_type": "execute_result"
    }
   ],
   "source": [
    "for_1_hyp_project.shape[0]"
   ]
  },
  {
   "cell_type": "markdown",
   "metadata": {},
   "source": [
    "Средние двух генеральных совокупностей не равны: принимаем альтернативную гипотезу о том, что среднее количество дней, необходимое на завершение уровня через победу над первым игроком и через реализацию проекта, отличается.\n",
    "\n",
    "Выявлено, что в игре есть более популярная быстрая стратегия прохождения - через победу на первым игроком. Пользователи в два раза чаще выбирают эту стратегию. \n",
    "\n",
    "<b>Баланс в игре нарушен.</b> "
   ]
  },
  {
   "cell_type": "markdown",
   "metadata": {},
   "source": [
    "### Проверка гипотезы о равенстве прибыли, полученной от пользователей, привлеченных с помощью yandex_direct и youtube_channel_reklama."
   ]
  },
  {
   "cell_type": "markdown",
   "metadata": {},
   "source": [
    "Ранее мы определили, что средняя прибыль на одного пользователя, привлеченного из youtube_channel_reklama, составляет 0,25, а на привлеченного из yandex_direct - 0,19. \n",
    "\n",
    "Теперь проверим гипотезу о равенстве средних прибылей от пользователей, привлеченных из yandex_direct и из youtube_channel_reklama.\n",
    "\n",
    "Предстоит проверить гипотезу о равенстве средних в двух независимых выборках.\n",
    "\n",
    "Проверять гипотезу будем методом scipy.stats.ttest_ind (array1, array2, equal_var). Проверять гипотезы будем при alpha = 0,05."
   ]
  },
  {
   "cell_type": "markdown",
   "metadata": {},
   "source": [
    "<b>Сформулируем гипотезы.</b>\n",
    "\n",
    "Нулевая гипотеза: средняя прибыль, полученная от пользователей, привлеченных с помощью yandex_direct и youtube_channel_reklama, не отличается.\n",
    "\n",
    "Альтернативная гипотеза: средняя прибыль, полученная от пользователей, привлеченных с помощью yandex_direct и youtube_channel_reklama, отличается.\n",
    "\n",
    "Дисперсии в выборках будем считать неравными."
   ]
  },
  {
   "cell_type": "code",
   "execution_count": 129,
   "metadata": {},
   "outputs": [],
   "source": [
    "for_2_hyp_merged_yandex = for_2_hyp_merged.loc[for_2_hyp_merged.loc[:,'source'] == 'yandex_direct']\n",
    "for_2_hyp_merged_youtube = for_2_hyp_merged.loc[for_2_hyp_merged.loc[:,'source'] == 'youtube_channel_reklama']"
   ]
  },
  {
   "cell_type": "code",
   "execution_count": 130,
   "metadata": {},
   "outputs": [
    {
     "name": "stdout",
     "output_type": "stream",
     "text": [
      "p-значение: 1.6920453213139284e-21\n",
      "Отвергаем нулевую гипотезу\n"
     ]
    }
   ],
   "source": [
    "for_2_hyp_merged_yandex = for_2_hyp_merged_yandex['profit']\n",
    "for_2_hyp_merged_youtube = for_2_hyp_merged_youtube['profit']\n",
    "\n",
    "alpha = 0.05\n",
    "\n",
    "result = st.stats.ttest_ind(for_2_hyp_merged_yandex, for_2_hyp_merged_youtube, equal_var = False)\n",
    "\n",
    "print('p-значение:', result.pvalue)\n",
    "\n",
    "if result.pvalue < alpha:\n",
    "    print(\"Отвергаем нулевую гипотезу\")\n",
    "else:\n",
    "    print(\"Не получилось отвергнуть нулевую гипотезу\") "
   ]
  },
  {
   "cell_type": "markdown",
   "metadata": {},
   "source": [
    "\n",
    "Средние двух генеральных совокупностей не равны: принимаем альтернативную гипотезу о том, что средняя прибыль, полученная от игроков, привлеченных из yandex_direct и youtube_channel_reklama, отличается.\n",
    "\n",
    "<b>Таким образом, мы можем ранжировать рекламные каналы с точки зрения средней прибыльности игроков, которых они привлекают:</b>\n",
    "\n",
    "1) youtube_channel_reklama (0,25)\n",
    "\n",
    "2) yandex_direct (0,19)\n",
    "\n",
    "3) instagram_new_adverts (0,02)\n",
    "\n",
    "4) facebook_ads (-0,11)"
   ]
  },
  {
   "cell_type": "markdown",
   "metadata": {},
   "source": [
    "### Проверка гипотезы о равенстве среднего количества переходов на экран с выбором типа объекта постройки в зависимости от способа прохождения уровня."
   ]
  },
  {
   "cell_type": "markdown",
   "metadata": {},
   "source": [
    "Объединим таблицы for_2_hyp_2_pivot и for_1_hyp, удалим лишние столбцы. "
   ]
  },
  {
   "cell_type": "code",
   "execution_count": 131,
   "metadata": {},
   "outputs": [
    {
     "data": {
      "text/html": [
       "<div>\n",
       "<style scoped>\n",
       "    .dataframe tbody tr th:only-of-type {\n",
       "        vertical-align: middle;\n",
       "    }\n",
       "\n",
       "    .dataframe tbody tr th {\n",
       "        vertical-align: top;\n",
       "    }\n",
       "\n",
       "    .dataframe thead th {\n",
       "        text-align: right;\n",
       "    }\n",
       "</style>\n",
       "<table border=\"1\" class=\"dataframe\">\n",
       "  <thead>\n",
       "    <tr style=\"text-align: right;\">\n",
       "      <th></th>\n",
       "      <th>user_id</th>\n",
       "      <th>total_ad_shows</th>\n",
       "      <th>finish_type</th>\n",
       "    </tr>\n",
       "  </thead>\n",
       "  <tbody>\n",
       "    <tr>\n",
       "      <th>0</th>\n",
       "      <td>001d39dc-366c-4021-9604-6a3b9ff01e25</td>\n",
       "      <td>8</td>\n",
       "      <td>win</td>\n",
       "    </tr>\n",
       "    <tr>\n",
       "      <th>1</th>\n",
       "      <td>003ee7e8-6356-4286-a715-62f22a18d2a1</td>\n",
       "      <td>8</td>\n",
       "      <td>win</td>\n",
       "    </tr>\n",
       "    <tr>\n",
       "      <th>2</th>\n",
       "      <td>004074f8-251a-4776-922c-8348dca1a2f6</td>\n",
       "      <td>12</td>\n",
       "      <td>win</td>\n",
       "    </tr>\n",
       "    <tr>\n",
       "      <th>3</th>\n",
       "      <td>00464e5e-28ed-4be6-bf44-517ef7b3937b</td>\n",
       "      <td>8</td>\n",
       "      <td>win</td>\n",
       "    </tr>\n",
       "    <tr>\n",
       "      <th>4</th>\n",
       "      <td>0056c007-c082-43cc-bdef-afc49bca4cb9</td>\n",
       "      <td>3</td>\n",
       "      <td>win</td>\n",
       "    </tr>\n",
       "    <tr>\n",
       "      <th>...</th>\n",
       "      <td>...</td>\n",
       "      <td>...</td>\n",
       "      <td>...</td>\n",
       "    </tr>\n",
       "    <tr>\n",
       "      <th>5812</th>\n",
       "      <td>ffd002f3-3545-423e-8dba-0c6a2d48a3aa</td>\n",
       "      <td>7</td>\n",
       "      <td>win</td>\n",
       "    </tr>\n",
       "    <tr>\n",
       "      <th>5813</th>\n",
       "      <td>ffe810f4-1a1f-464b-924d-6f120b0cb8df</td>\n",
       "      <td>16</td>\n",
       "      <td>win</td>\n",
       "    </tr>\n",
       "    <tr>\n",
       "      <th>5814</th>\n",
       "      <td>ffef4fed-164c-40e1-bde1-3980f76d0fb5</td>\n",
       "      <td>9</td>\n",
       "      <td>win</td>\n",
       "    </tr>\n",
       "    <tr>\n",
       "      <th>5815</th>\n",
       "      <td>fffb626c-5ab6-47c9-8113-2062a2f18494</td>\n",
       "      <td>9</td>\n",
       "      <td>win</td>\n",
       "    </tr>\n",
       "    <tr>\n",
       "      <th>5816</th>\n",
       "      <td>ffff69cc-fec1-4fd3-9f98-93be1112a6b8</td>\n",
       "      <td>12</td>\n",
       "      <td>project</td>\n",
       "    </tr>\n",
       "  </tbody>\n",
       "</table>\n",
       "<p>5817 rows × 3 columns</p>\n",
       "</div>"
      ],
      "text/plain": [
       "                                   user_id  total_ad_shows finish_type\n",
       "0     001d39dc-366c-4021-9604-6a3b9ff01e25               8         win\n",
       "1     003ee7e8-6356-4286-a715-62f22a18d2a1               8         win\n",
       "2     004074f8-251a-4776-922c-8348dca1a2f6              12         win\n",
       "3     00464e5e-28ed-4be6-bf44-517ef7b3937b               8         win\n",
       "4     0056c007-c082-43cc-bdef-afc49bca4cb9               3         win\n",
       "...                                    ...             ...         ...\n",
       "5812  ffd002f3-3545-423e-8dba-0c6a2d48a3aa               7         win\n",
       "5813  ffe810f4-1a1f-464b-924d-6f120b0cb8df              16         win\n",
       "5814  ffef4fed-164c-40e1-bde1-3980f76d0fb5               9         win\n",
       "5815  fffb626c-5ab6-47c9-8113-2062a2f18494               9         win\n",
       "5816  ffff69cc-fec1-4fd3-9f98-93be1112a6b8              12     project\n",
       "\n",
       "[5817 rows x 3 columns]"
      ]
     },
     "execution_count": 131,
     "metadata": {},
     "output_type": "execute_result"
    }
   ],
   "source": [
    "for_3_hyp = for_2_hyp_2_pivot.merge(for_1_hyp, on=['user_id'], how='inner')\n",
    "\n",
    "for_3_hyp = for_3_hyp.drop(columns = ['source', 'channel', 'time'])\n",
    "\n",
    "for_3_hyp"
   ]
  },
  {
   "cell_type": "code",
   "execution_count": null,
   "metadata": {},
   "outputs": [],
   "source": [
    "for_3_hyp.to_excel('Final_projecte.xlsx')"
   ]
  },
  {
   "cell_type": "markdown",
   "metadata": {},
   "source": [
    "Рассчитаем среднее значения количества переходов, в зависимости от способа прохождения. "
   ]
  },
  {
   "cell_type": "code",
   "execution_count": 65,
   "metadata": {},
   "outputs": [
    {
     "data": {
      "text/html": [
       "<div>\n",
       "<style scoped>\n",
       "    .dataframe tbody tr th:only-of-type {\n",
       "        vertical-align: middle;\n",
       "    }\n",
       "\n",
       "    .dataframe tbody tr th {\n",
       "        vertical-align: top;\n",
       "    }\n",
       "\n",
       "    .dataframe thead th {\n",
       "        text-align: right;\n",
       "    }\n",
       "</style>\n",
       "<table border=\"1\" class=\"dataframe\">\n",
       "  <thead>\n",
       "    <tr style=\"text-align: right;\">\n",
       "      <th></th>\n",
       "      <th>finish_type</th>\n",
       "      <th>mean_count_ad_shows</th>\n",
       "    </tr>\n",
       "  </thead>\n",
       "  <tbody>\n",
       "    <tr>\n",
       "      <th>0</th>\n",
       "      <td>project</td>\n",
       "      <td>12.647910</td>\n",
       "    </tr>\n",
       "    <tr>\n",
       "      <th>1</th>\n",
       "      <td>win</td>\n",
       "      <td>9.411541</td>\n",
       "    </tr>\n",
       "  </tbody>\n",
       "</table>\n",
       "</div>"
      ],
      "text/plain": [
       "  finish_type  mean_count_ad_shows\n",
       "0     project            12.647910\n",
       "1         win             9.411541"
      ]
     },
     "execution_count": 65,
     "metadata": {},
     "output_type": "execute_result"
    }
   ],
   "source": [
    "for_3_hyp_pivot = for_3_hyp.pivot_table(index=['finish_type'], values='total_ad_shows', aggfunc=['mean'])\n",
    "for_3_hyp_pivot = for_3_hyp_pivot.reset_index()\n",
    "for_3_hyp_pivot.columns = ['finish_type', 'mean_count_ad_shows']\n",
    "for_3_hyp_pivot"
   ]
  },
  {
   "cell_type": "markdown",
   "metadata": {},
   "source": [
    "Построим гистограмму с частотным распределением данных по переменной \"total_ad_shows\" (\"Количество переходов на экран с выбором типа объекта для постройки\"), с учетом способа завершения уровня."
   ]
  },
  {
   "cell_type": "code",
   "execution_count": 66,
   "metadata": {},
   "outputs": [
    {
     "data": {
      "image/png": "[encoded data removed]",
      "text/plain": [
       "<Figure size 1440x576 with 1 Axes>"
      ]
     },
     "metadata": {
      "image/png": {
       "height": 487,
       "width": 1177
      },
      "needs_background": "light"
     },
     "output_type": "display_data"
    }
   ],
   "source": [
    "plt.figure(figsize=(20, 8))\n",
    "sns.histplot(x=\"total_ad_shows\", data=for_3_hyp, hue=\"finish_type\", element=\"step\", bins=18)\n",
    "plt.xlabel('Количество переходов на экран с выбором типа объекта для постройки', fontsize = 18)\n",
    "plt.ylabel ('Количество пользователей', fontsize = 18)\n",
    "plt.legend(['project', 'win'], fontsize=20)\n",
    "plt.show();"
   ]
  },
  {
   "cell_type": "markdown",
   "metadata": {},
   "source": [
    "В среднем, количество переходов на экран с выбором типа объекта постройки меньше при завершении уровня через победу над первым игроком, чем через реализацию проекта (9,4 против 12,6 соответственно). "
   ]
  },
  {
   "cell_type": "code",
   "execution_count": 67,
   "metadata": {
    "scrolled": true
   },
   "outputs": [
    {
     "name": "stdout",
     "output_type": "stream",
     "text": [
      "p-значение: 0.0\n",
      "Отвергаем нулевую гипотезу\n"
     ]
    }
   ],
   "source": [
    "for_3_hyp_project = for_3_hyp.loc[for_3_hyp.loc[:,'finish_type'] == 'project']\n",
    "for_3_hyp_win = for_3_hyp.loc[for_3_hyp.loc[:,'finish_type'] == 'win']\n",
    "\n",
    "for_3_hyp_project = for_3_hyp_project['total_ad_shows']\n",
    "for_3_hyp_win = for_3_hyp_win['total_ad_shows']\n",
    "\n",
    "alpha = 0.05\n",
    "\n",
    "result = st.stats.ttest_ind(for_3_hyp_project, for_3_hyp_win)\n",
    "\n",
    "print('p-значение:', result.pvalue)\n",
    "\n",
    "if result.pvalue < alpha:\n",
    "    print(\"Отвергаем нулевую гипотезу\")\n",
    "else:\n",
    "    print(\"Не получилось отвергнуть нулевую гипотезу\") "
   ]
  },
  {
   "cell_type": "markdown",
   "metadata": {},
   "source": [
    "Средние двух генеральных совокупностей не равны: принимаем альтернативную гипотезу о том, что, в среднем, количество переходов на экран с выбором типа объекта постройки отличается в зависимости от способа завершения уровня."
   ]
  },
  {
   "cell_type": "markdown",
   "metadata": {},
   "source": [
    "## Выводы. "
   ]
  },
  {
   "cell_type": "markdown",
   "metadata": {},
   "source": [
    "Было выявлено, что, в среднем, для завершения уровня через победу над первым игроком необходимо 12 дней, а для завершения уровня через реализацию проекта, в среднем, необходимо 14 дней. Данное различие является статистически значимым. Игроки в два раза чаще выбирают более быструю стратегию. Более того, при завершении уровня через победу над первым игроком пользователи значительно в меньшем количестве (9,4 против 12,6) совершают переход на экран с выбором типа объекта постройки, соответственно, окупаемость этой стратегии будет существенно ниже.  \n",
    "\n",
    "Также мы увидели, что можно ранжировать каналы привлечения пользователей в зависимости от средней прибыльности каждого из них. Так, наиболее прибыльными являются игроки, привлеченные из youtube_channel_reklama (0,25) и yandex_direct (0,19). Пользователи, привлеченные из instagram_new_adverts, находятся на уровне окупаемости (0,02). Пользователи из facebook_ads за исследуемый период не окупаются (-0,11). \n",
    "\n",
    "Обнаружен низкоэффективных источник - facebook_ads. Вложения в этот рекламный канал не окупаются. \n",
    "\n",
    "Не обнаружено различий в среднем количестве переходов на экран с выбором типа объекта постройки для завершивших первый уровень пользователей: для yandex_direct этот показатель составляет 10,4, для всех остальных каналов - 10,5."
   ]
  }
 ],
 "metadata": {
  "ExecuteTimeLog": [
   {
    "duration": 361,
    "start_time": "2022-07-25T07:11:38.508Z"
   },
   {
    "duration": 529,
    "start_time": "2022-07-25T07:15:46.628Z"
   },
   {
    "duration": 318,
    "start_time": "2022-07-25T07:16:35.775Z"
   },
   {
    "duration": 8,
    "start_time": "2022-07-25T07:16:54.977Z"
   },
   {
    "duration": 8,
    "start_time": "2022-07-25T07:17:22.416Z"
   },
   {
    "duration": 7,
    "start_time": "2022-07-25T07:17:23.425Z"
   },
   {
    "duration": 34,
    "start_time": "2022-07-25T07:20:19.903Z"
   },
   {
    "duration": 9,
    "start_time": "2022-07-25T07:22:29.394Z"
   },
   {
    "duration": 11,
    "start_time": "2022-07-25T07:27:43.741Z"
   },
   {
    "duration": 77,
    "start_time": "2022-07-25T07:37:25.302Z"
   },
   {
    "duration": 83,
    "start_time": "2022-07-25T07:37:49.445Z"
   },
   {
    "duration": 74,
    "start_time": "2022-07-25T07:41:17.757Z"
   },
   {
    "duration": 11,
    "start_time": "2022-07-25T07:42:37.253Z"
   },
   {
    "duration": 587,
    "start_time": "2022-07-25T07:53:27.918Z"
   },
   {
    "duration": 156,
    "start_time": "2022-07-25T07:53:39.445Z"
   },
   {
    "duration": 37,
    "start_time": "2022-07-25T08:02:12.503Z"
   },
   {
    "duration": 20,
    "start_time": "2022-07-25T08:02:18.005Z"
   },
   {
    "duration": 22,
    "start_time": "2022-07-25T08:03:20.304Z"
   },
   {
    "duration": 26,
    "start_time": "2022-07-25T08:03:32.170Z"
   },
   {
    "duration": 24,
    "start_time": "2022-07-25T08:05:03.067Z"
   },
   {
    "duration": 26,
    "start_time": "2022-07-25T08:05:10.743Z"
   },
   {
    "duration": 39,
    "start_time": "2022-07-25T08:09:34.449Z"
   },
   {
    "duration": 87,
    "start_time": "2022-07-25T08:12:28.352Z"
   },
   {
    "duration": 35,
    "start_time": "2022-07-25T08:12:32.983Z"
   },
   {
    "duration": 15,
    "start_time": "2022-07-25T08:12:44.546Z"
   },
   {
    "duration": 2,
    "start_time": "2022-07-25T08:12:50.566Z"
   },
   {
    "duration": 267,
    "start_time": "2022-07-25T08:12:50.570Z"
   },
   {
    "duration": 8,
    "start_time": "2022-07-25T08:12:50.839Z"
   },
   {
    "duration": 38,
    "start_time": "2022-07-25T08:12:50.849Z"
   },
   {
    "duration": 21,
    "start_time": "2022-07-25T08:12:50.889Z"
   },
   {
    "duration": 96,
    "start_time": "2022-07-25T08:12:50.912Z"
   },
   {
    "duration": 41,
    "start_time": "2022-07-25T08:12:51.009Z"
   },
   {
    "duration": 14,
    "start_time": "2022-07-25T08:12:51.052Z"
   },
   {
    "duration": 3,
    "start_time": "2022-07-25T08:14:28.502Z"
   },
   {
    "duration": 266,
    "start_time": "2022-07-25T08:14:28.506Z"
   },
   {
    "duration": 9,
    "start_time": "2022-07-25T08:14:28.774Z"
   },
   {
    "duration": 36,
    "start_time": "2022-07-25T08:14:28.784Z"
   },
   {
    "duration": 24,
    "start_time": "2022-07-25T08:14:28.822Z"
   },
   {
    "duration": 98,
    "start_time": "2022-07-25T08:14:28.848Z"
   },
   {
    "duration": 52,
    "start_time": "2022-07-25T08:14:28.948Z"
   },
   {
    "duration": 65,
    "start_time": "2022-07-25T08:15:28.756Z"
   },
   {
    "duration": 77,
    "start_time": "2022-07-25T08:15:32.387Z"
   },
   {
    "duration": 34,
    "start_time": "2022-07-25T08:15:34.838Z"
   },
   {
    "duration": 14,
    "start_time": "2022-07-25T08:15:42.801Z"
   },
   {
    "duration": 73,
    "start_time": "2022-07-25T08:17:39.436Z"
   },
   {
    "duration": 86,
    "start_time": "2022-07-25T08:17:55.839Z"
   },
   {
    "duration": 52,
    "start_time": "2022-07-25T08:17:58.911Z"
   },
   {
    "duration": 832,
    "start_time": "2022-07-25T08:19:06.944Z"
   },
   {
    "duration": 2,
    "start_time": "2022-07-25T08:19:15.858Z"
   },
   {
    "duration": 271,
    "start_time": "2022-07-25T08:19:15.862Z"
   },
   {
    "duration": 9,
    "start_time": "2022-07-25T08:19:16.134Z"
   },
   {
    "duration": 40,
    "start_time": "2022-07-25T08:19:16.145Z"
   },
   {
    "duration": 40,
    "start_time": "2022-07-25T08:19:16.187Z"
   },
   {
    "duration": 90,
    "start_time": "2022-07-25T08:19:16.229Z"
   },
   {
    "duration": 25,
    "start_time": "2022-07-25T08:19:16.320Z"
   },
   {
    "duration": 11,
    "start_time": "2022-07-25T08:19:31.769Z"
   },
   {
    "duration": 3,
    "start_time": "2022-07-25T08:19:39.024Z"
   },
   {
    "duration": 283,
    "start_time": "2022-07-25T08:19:39.028Z"
   },
   {
    "duration": 9,
    "start_time": "2022-07-25T08:19:39.313Z"
   },
   {
    "duration": 39,
    "start_time": "2022-07-25T08:19:39.324Z"
   },
   {
    "duration": 21,
    "start_time": "2022-07-25T08:19:39.364Z"
   },
   {
    "duration": 99,
    "start_time": "2022-07-25T08:19:39.387Z"
   },
   {
    "duration": 27,
    "start_time": "2022-07-25T08:19:39.488Z"
   },
   {
    "duration": 13,
    "start_time": "2022-07-25T08:19:39.516Z"
   },
   {
    "duration": 39,
    "start_time": "2022-07-25T08:29:40.297Z"
   },
   {
    "duration": 40,
    "start_time": "2022-07-25T08:30:18.637Z"
   },
   {
    "duration": 3,
    "start_time": "2022-07-25T08:30:28.037Z"
   },
   {
    "duration": 275,
    "start_time": "2022-07-25T08:30:28.041Z"
   },
   {
    "duration": 8,
    "start_time": "2022-07-25T08:30:28.318Z"
   },
   {
    "duration": 76,
    "start_time": "2022-07-25T08:30:28.327Z"
   },
   {
    "duration": 73,
    "start_time": "2022-07-25T08:31:24.151Z"
   },
   {
    "duration": 33,
    "start_time": "2022-07-25T08:31:27.688Z"
   },
   {
    "duration": 3,
    "start_time": "2022-07-25T08:32:18.321Z"
   },
   {
    "duration": 278,
    "start_time": "2022-07-25T08:32:18.326Z"
   },
   {
    "duration": 9,
    "start_time": "2022-07-25T08:32:18.606Z"
   },
   {
    "duration": 82,
    "start_time": "2022-07-25T08:32:18.616Z"
   },
   {
    "duration": 79,
    "start_time": "2022-07-25T08:32:18.700Z"
   },
   {
    "duration": 31,
    "start_time": "2022-07-25T08:32:18.781Z"
   },
   {
    "duration": 40,
    "start_time": "2022-07-25T08:32:18.813Z"
   },
   {
    "duration": 111,
    "start_time": "2022-07-25T08:32:18.855Z"
   },
   {
    "duration": 30,
    "start_time": "2022-07-25T08:32:18.969Z"
   },
   {
    "duration": 24,
    "start_time": "2022-07-25T08:32:19.001Z"
   },
   {
    "duration": 20,
    "start_time": "2022-07-25T08:32:19.027Z"
   },
   {
    "duration": 12,
    "start_time": "2022-07-25T08:32:19.049Z"
   },
   {
    "duration": 3,
    "start_time": "2022-07-25T08:32:55.962Z"
   },
   {
    "duration": 264,
    "start_time": "2022-07-25T08:32:55.967Z"
   },
   {
    "duration": 7,
    "start_time": "2022-07-25T08:32:56.233Z"
   },
   {
    "duration": 78,
    "start_time": "2022-07-25T08:32:56.241Z"
   },
   {
    "duration": 72,
    "start_time": "2022-07-25T08:32:56.321Z"
   },
   {
    "duration": 31,
    "start_time": "2022-07-25T08:32:56.395Z"
   },
   {
    "duration": 32,
    "start_time": "2022-07-25T08:32:56.428Z"
   },
   {
    "duration": 142,
    "start_time": "2022-07-25T08:32:56.461Z"
   },
   {
    "duration": 23,
    "start_time": "2022-07-25T08:32:56.604Z"
   },
   {
    "duration": 24,
    "start_time": "2022-07-25T08:32:56.628Z"
   },
   {
    "duration": 21,
    "start_time": "2022-07-25T08:32:56.654Z"
   },
   {
    "duration": 18,
    "start_time": "2022-07-25T08:32:56.676Z"
   },
   {
    "duration": 23,
    "start_time": "2022-07-25T08:32:56.696Z"
   },
   {
    "duration": 22,
    "start_time": "2022-07-25T08:32:56.721Z"
   },
   {
    "duration": 19,
    "start_time": "2022-07-25T08:32:56.745Z"
   },
   {
    "duration": 3,
    "start_time": "2022-07-25T08:33:28.457Z"
   },
   {
    "duration": 252,
    "start_time": "2022-07-25T08:33:28.463Z"
   },
   {
    "duration": 7,
    "start_time": "2022-07-25T08:33:28.718Z"
   },
   {
    "duration": 66,
    "start_time": "2022-07-25T08:33:28.727Z"
   },
   {
    "duration": 88,
    "start_time": "2022-07-25T08:33:28.794Z"
   },
   {
    "duration": 39,
    "start_time": "2022-07-25T08:33:28.884Z"
   },
   {
    "duration": 43,
    "start_time": "2022-07-25T08:33:28.925Z"
   },
   {
    "duration": 126,
    "start_time": "2022-07-25T08:33:28.970Z"
   },
   {
    "duration": 25,
    "start_time": "2022-07-25T08:33:29.097Z"
   },
   {
    "duration": 22,
    "start_time": "2022-07-25T08:33:29.124Z"
   },
   {
    "duration": 7,
    "start_time": "2022-07-25T08:33:29.148Z"
   },
   {
    "duration": 13,
    "start_time": "2022-07-25T08:33:29.156Z"
   },
   {
    "duration": 32,
    "start_time": "2022-07-25T08:33:29.171Z"
   },
   {
    "duration": 9,
    "start_time": "2022-07-25T08:33:29.204Z"
   },
   {
    "duration": 10,
    "start_time": "2022-07-25T08:33:29.215Z"
   },
   {
    "duration": 8,
    "start_time": "2022-07-25T08:33:29.227Z"
   },
   {
    "duration": 3,
    "start_time": "2022-07-25T08:34:55.081Z"
   },
   {
    "duration": 280,
    "start_time": "2022-07-25T08:34:55.086Z"
   },
   {
    "duration": 8,
    "start_time": "2022-07-25T08:34:55.368Z"
   },
   {
    "duration": 82,
    "start_time": "2022-07-25T08:34:55.378Z"
   },
   {
    "duration": 76,
    "start_time": "2022-07-25T08:34:55.462Z"
   },
   {
    "duration": 33,
    "start_time": "2022-07-25T08:34:55.545Z"
   },
   {
    "duration": 34,
    "start_time": "2022-07-25T08:34:55.579Z"
   },
   {
    "duration": 3,
    "start_time": "2022-07-25T08:40:22.832Z"
   },
   {
    "duration": 270,
    "start_time": "2022-07-25T08:40:22.837Z"
   },
   {
    "duration": 9,
    "start_time": "2022-07-25T08:40:23.109Z"
   },
   {
    "duration": 71,
    "start_time": "2022-07-25T08:40:23.119Z"
   },
   {
    "duration": 75,
    "start_time": "2022-07-25T08:40:23.193Z"
   },
   {
    "duration": 33,
    "start_time": "2022-07-25T08:40:23.269Z"
   },
   {
    "duration": 43,
    "start_time": "2022-07-25T08:40:23.303Z"
   },
   {
    "duration": 21,
    "start_time": "2022-07-25T08:40:23.348Z"
   },
   {
    "duration": 101,
    "start_time": "2022-07-25T08:40:23.371Z"
   },
   {
    "duration": 26,
    "start_time": "2022-07-25T08:40:23.473Z"
   },
   {
    "duration": 51,
    "start_time": "2022-07-25T08:40:53.690Z"
   },
   {
    "duration": 29,
    "start_time": "2022-07-25T08:41:03.642Z"
   },
   {
    "duration": 14,
    "start_time": "2022-07-25T08:41:26.112Z"
   },
   {
    "duration": 13,
    "start_time": "2022-07-25T08:42:08.005Z"
   },
   {
    "duration": 24,
    "start_time": "2022-07-25T08:42:17.164Z"
   },
   {
    "duration": 3,
    "start_time": "2022-07-25T08:42:21.664Z"
   },
   {
    "duration": 272,
    "start_time": "2022-07-25T08:42:21.669Z"
   },
   {
    "duration": 9,
    "start_time": "2022-07-25T08:42:21.943Z"
   },
   {
    "duration": 84,
    "start_time": "2022-07-25T08:42:21.953Z"
   },
   {
    "duration": 85,
    "start_time": "2022-07-25T08:42:22.045Z"
   },
   {
    "duration": 48,
    "start_time": "2022-07-25T08:42:22.132Z"
   },
   {
    "duration": 47,
    "start_time": "2022-07-25T08:42:22.181Z"
   },
   {
    "duration": 33,
    "start_time": "2022-07-25T08:42:22.231Z"
   },
   {
    "duration": 99,
    "start_time": "2022-07-25T08:42:22.265Z"
   },
   {
    "duration": 11,
    "start_time": "2022-07-25T08:42:22.366Z"
   },
   {
    "duration": 32,
    "start_time": "2022-07-25T08:42:22.379Z"
   },
   {
    "duration": 10,
    "start_time": "2022-07-25T08:45:00.097Z"
   },
   {
    "duration": 18,
    "start_time": "2022-07-25T08:45:07.952Z"
   },
   {
    "duration": 6,
    "start_time": "2022-07-25T08:46:41.249Z"
   },
   {
    "duration": 47,
    "start_time": "2022-07-25T08:49:38.080Z"
   },
   {
    "duration": 18,
    "start_time": "2022-07-25T08:49:40.414Z"
   },
   {
    "duration": 34,
    "start_time": "2022-07-25T08:50:26.052Z"
   },
   {
    "duration": 17,
    "start_time": "2022-07-25T08:50:28.359Z"
   },
   {
    "duration": 18,
    "start_time": "2022-07-25T08:50:59.000Z"
   },
   {
    "duration": 57,
    "start_time": "2022-07-25T08:51:07.467Z"
   },
   {
    "duration": 3,
    "start_time": "2022-07-25T08:51:11.048Z"
   },
   {
    "duration": 257,
    "start_time": "2022-07-25T08:51:11.052Z"
   },
   {
    "duration": 8,
    "start_time": "2022-07-25T08:51:11.311Z"
   },
   {
    "duration": 72,
    "start_time": "2022-07-25T08:51:11.320Z"
   },
   {
    "duration": 78,
    "start_time": "2022-07-25T08:51:11.394Z"
   },
   {
    "duration": 36,
    "start_time": "2022-07-25T08:51:11.474Z"
   },
   {
    "duration": 42,
    "start_time": "2022-07-25T08:51:11.512Z"
   },
   {
    "duration": 21,
    "start_time": "2022-07-25T08:51:11.556Z"
   },
   {
    "duration": 104,
    "start_time": "2022-07-25T08:51:11.579Z"
   },
   {
    "duration": 18,
    "start_time": "2022-07-25T08:51:11.684Z"
   },
   {
    "duration": 60,
    "start_time": "2022-07-25T08:51:11.704Z"
   },
   {
    "duration": 15,
    "start_time": "2022-07-25T08:51:11.765Z"
   },
   {
    "duration": 29,
    "start_time": "2022-07-25T08:51:11.782Z"
   },
   {
    "duration": 28,
    "start_time": "2022-07-25T08:51:33.359Z"
   },
   {
    "duration": 14,
    "start_time": "2022-07-25T08:51:35.682Z"
   },
   {
    "duration": 2,
    "start_time": "2022-07-25T08:51:43.043Z"
   },
   {
    "duration": 256,
    "start_time": "2022-07-25T08:51:43.052Z"
   },
   {
    "duration": 8,
    "start_time": "2022-07-25T08:51:43.310Z"
   },
   {
    "duration": 72,
    "start_time": "2022-07-25T08:51:43.320Z"
   },
   {
    "duration": 79,
    "start_time": "2022-07-25T08:51:43.394Z"
   },
   {
    "duration": 39,
    "start_time": "2022-07-25T08:51:43.475Z"
   },
   {
    "duration": 40,
    "start_time": "2022-07-25T08:51:43.516Z"
   },
   {
    "duration": 20,
    "start_time": "2022-07-25T08:51:43.558Z"
   },
   {
    "duration": 101,
    "start_time": "2022-07-25T08:51:43.580Z"
   },
   {
    "duration": 18,
    "start_time": "2022-07-25T08:51:43.683Z"
   },
   {
    "duration": 44,
    "start_time": "2022-07-25T08:51:43.704Z"
   },
   {
    "duration": 15,
    "start_time": "2022-07-25T08:51:43.750Z"
   },
   {
    "duration": 13,
    "start_time": "2022-07-25T08:51:43.767Z"
   },
   {
    "duration": 15,
    "start_time": "2022-07-25T08:51:52.968Z"
   },
   {
    "duration": 2,
    "start_time": "2022-07-25T08:52:29.889Z"
   },
   {
    "duration": 272,
    "start_time": "2022-07-25T08:52:29.893Z"
   },
   {
    "duration": 9,
    "start_time": "2022-07-25T08:52:30.167Z"
   },
   {
    "duration": 77,
    "start_time": "2022-07-25T08:52:30.178Z"
   },
   {
    "duration": 77,
    "start_time": "2022-07-25T08:52:30.257Z"
   },
   {
    "duration": 34,
    "start_time": "2022-07-25T08:52:30.345Z"
   },
   {
    "duration": 30,
    "start_time": "2022-07-25T08:52:30.380Z"
   },
   {
    "duration": 34,
    "start_time": "2022-07-25T08:52:30.412Z"
   },
   {
    "duration": 86,
    "start_time": "2022-07-25T08:52:30.449Z"
   },
   {
    "duration": 18,
    "start_time": "2022-07-25T08:52:30.546Z"
   },
   {
    "duration": 42,
    "start_time": "2022-07-25T08:52:30.565Z"
   },
   {
    "duration": 14,
    "start_time": "2022-07-25T08:52:30.609Z"
   },
   {
    "duration": 28,
    "start_time": "2022-07-25T08:52:30.625Z"
   },
   {
    "duration": 33,
    "start_time": "2022-07-25T08:52:30.655Z"
   },
   {
    "duration": 12,
    "start_time": "2022-07-25T08:54:28.984Z"
   },
   {
    "duration": 13,
    "start_time": "2022-07-25T08:55:04.131Z"
   },
   {
    "duration": 3,
    "start_time": "2022-07-25T08:55:11.769Z"
   },
   {
    "duration": 270,
    "start_time": "2022-07-25T08:55:11.774Z"
   },
   {
    "duration": 9,
    "start_time": "2022-07-25T08:55:12.046Z"
   },
   {
    "duration": 81,
    "start_time": "2022-07-25T08:55:12.057Z"
   },
   {
    "duration": 79,
    "start_time": "2022-07-25T08:55:12.146Z"
   },
   {
    "duration": 42,
    "start_time": "2022-07-25T08:55:12.227Z"
   },
   {
    "duration": 25,
    "start_time": "2022-07-25T08:55:12.271Z"
   },
   {
    "duration": 19,
    "start_time": "2022-07-25T08:55:12.298Z"
   },
   {
    "duration": 106,
    "start_time": "2022-07-25T08:55:12.320Z"
   },
   {
    "duration": 29,
    "start_time": "2022-07-25T08:55:12.428Z"
   },
   {
    "duration": 43,
    "start_time": "2022-07-25T08:55:12.459Z"
   },
   {
    "duration": 15,
    "start_time": "2022-07-25T08:55:12.504Z"
   },
   {
    "duration": 33,
    "start_time": "2022-07-25T08:55:12.520Z"
   },
   {
    "duration": 34,
    "start_time": "2022-07-25T08:55:12.554Z"
   },
   {
    "duration": 34,
    "start_time": "2022-07-25T08:55:12.589Z"
   },
   {
    "duration": 2,
    "start_time": "2022-07-25T08:56:19.573Z"
   },
   {
    "duration": 261,
    "start_time": "2022-07-25T08:56:19.577Z"
   },
   {
    "duration": 8,
    "start_time": "2022-07-25T08:56:19.840Z"
   },
   {
    "duration": 74,
    "start_time": "2022-07-25T08:56:19.849Z"
   },
   {
    "duration": 85,
    "start_time": "2022-07-25T08:56:19.924Z"
   },
   {
    "duration": 44,
    "start_time": "2022-07-25T08:56:20.010Z"
   },
   {
    "duration": 26,
    "start_time": "2022-07-25T08:56:20.056Z"
   },
   {
    "duration": 21,
    "start_time": "2022-07-25T08:56:20.084Z"
   },
   {
    "duration": 152,
    "start_time": "2022-07-25T08:56:20.107Z"
   },
   {
    "duration": 19,
    "start_time": "2022-07-25T08:56:20.261Z"
   },
   {
    "duration": 34,
    "start_time": "2022-07-25T08:56:20.282Z"
   },
   {
    "duration": 31,
    "start_time": "2022-07-25T08:56:20.318Z"
   },
   {
    "duration": 13,
    "start_time": "2022-07-25T08:56:20.351Z"
   },
   {
    "duration": 15,
    "start_time": "2022-07-25T08:56:20.366Z"
   },
   {
    "duration": 19,
    "start_time": "2022-07-25T08:56:20.382Z"
   },
   {
    "duration": 13,
    "start_time": "2022-07-25T08:56:53.229Z"
   },
   {
    "duration": 50,
    "start_time": "2022-07-25T08:58:00.566Z"
   },
   {
    "duration": 73,
    "start_time": "2022-07-25T08:58:05.608Z"
   },
   {
    "duration": 119,
    "start_time": "2022-07-25T08:58:14.790Z"
   },
   {
    "duration": 6,
    "start_time": "2022-07-25T08:58:38.903Z"
   },
   {
    "duration": 14,
    "start_time": "2022-07-25T08:58:41.029Z"
   },
   {
    "duration": 3,
    "start_time": "2022-07-25T08:58:44.838Z"
   },
   {
    "duration": 269,
    "start_time": "2022-07-25T08:58:44.843Z"
   },
   {
    "duration": 10,
    "start_time": "2022-07-25T08:58:45.114Z"
   },
   {
    "duration": 71,
    "start_time": "2022-07-25T08:58:45.126Z"
   },
   {
    "duration": 93,
    "start_time": "2022-07-25T08:58:45.199Z"
   },
   {
    "duration": 35,
    "start_time": "2022-07-25T08:58:45.294Z"
   },
   {
    "duration": 38,
    "start_time": "2022-07-25T08:58:45.331Z"
   },
   {
    "duration": 21,
    "start_time": "2022-07-25T08:58:45.371Z"
   },
   {
    "duration": 118,
    "start_time": "2022-07-25T08:58:45.393Z"
   },
   {
    "duration": 22,
    "start_time": "2022-07-25T08:58:45.513Z"
   },
   {
    "duration": 33,
    "start_time": "2022-07-25T08:58:45.547Z"
   },
   {
    "duration": 15,
    "start_time": "2022-07-25T08:58:45.581Z"
   },
   {
    "duration": 14,
    "start_time": "2022-07-25T08:58:45.598Z"
   },
   {
    "duration": 38,
    "start_time": "2022-07-25T08:58:45.615Z"
   },
   {
    "duration": 16,
    "start_time": "2022-07-25T08:58:45.655Z"
   },
   {
    "duration": 13,
    "start_time": "2022-07-25T08:58:45.673Z"
   },
   {
    "duration": 19,
    "start_time": "2022-07-25T08:58:45.688Z"
   },
   {
    "duration": 7,
    "start_time": "2022-07-25T08:58:59.598Z"
   },
   {
    "duration": 2,
    "start_time": "2022-07-25T08:59:08.090Z"
   },
   {
    "duration": 256,
    "start_time": "2022-07-25T08:59:08.094Z"
   },
   {
    "duration": 8,
    "start_time": "2022-07-25T08:59:08.352Z"
   },
   {
    "duration": 70,
    "start_time": "2022-07-25T08:59:08.362Z"
   },
   {
    "duration": 81,
    "start_time": "2022-07-25T08:59:08.434Z"
   },
   {
    "duration": 43,
    "start_time": "2022-07-25T08:59:08.516Z"
   },
   {
    "duration": 26,
    "start_time": "2022-07-25T08:59:08.561Z"
   },
   {
    "duration": 21,
    "start_time": "2022-07-25T08:59:08.589Z"
   },
   {
    "duration": 117,
    "start_time": "2022-07-25T08:59:08.611Z"
   },
   {
    "duration": 27,
    "start_time": "2022-07-25T08:59:08.731Z"
   },
   {
    "duration": 29,
    "start_time": "2022-07-25T08:59:08.760Z"
   },
   {
    "duration": 15,
    "start_time": "2022-07-25T08:59:08.791Z"
   },
   {
    "duration": 39,
    "start_time": "2022-07-25T08:59:08.808Z"
   },
   {
    "duration": 23,
    "start_time": "2022-07-25T08:59:08.848Z"
   },
   {
    "duration": 38,
    "start_time": "2022-07-25T08:59:08.873Z"
   },
   {
    "duration": 4,
    "start_time": "2022-07-25T08:59:08.913Z"
   },
   {
    "duration": 30,
    "start_time": "2022-07-25T08:59:08.919Z"
   },
   {
    "duration": 7,
    "start_time": "2022-07-25T08:59:08.952Z"
   },
   {
    "duration": 3,
    "start_time": "2022-07-25T08:59:52.191Z"
   },
   {
    "duration": 277,
    "start_time": "2022-07-25T08:59:52.198Z"
   },
   {
    "duration": 9,
    "start_time": "2022-07-25T08:59:52.477Z"
   },
   {
    "duration": 71,
    "start_time": "2022-07-25T08:59:52.488Z"
   },
   {
    "duration": 73,
    "start_time": "2022-07-25T08:59:52.561Z"
   },
   {
    "duration": 39,
    "start_time": "2022-07-25T08:59:52.635Z"
   },
   {
    "duration": 30,
    "start_time": "2022-07-25T08:59:52.676Z"
   },
   {
    "duration": 43,
    "start_time": "2022-07-25T08:59:52.708Z"
   },
   {
    "duration": 99,
    "start_time": "2022-07-25T08:59:52.753Z"
   },
   {
    "duration": 18,
    "start_time": "2022-07-25T08:59:52.853Z"
   },
   {
    "duration": 43,
    "start_time": "2022-07-25T08:59:52.872Z"
   },
   {
    "duration": 17,
    "start_time": "2022-07-25T08:59:52.916Z"
   },
   {
    "duration": 36,
    "start_time": "2022-07-25T08:59:52.934Z"
   },
   {
    "duration": 27,
    "start_time": "2022-07-25T08:59:52.972Z"
   },
   {
    "duration": 29,
    "start_time": "2022-07-25T08:59:53.002Z"
   },
   {
    "duration": 32,
    "start_time": "2022-07-25T08:59:53.032Z"
   },
   {
    "duration": 34,
    "start_time": "2022-07-25T08:59:53.065Z"
   },
   {
    "duration": 31,
    "start_time": "2022-07-25T08:59:53.100Z"
   },
   {
    "duration": 31,
    "start_time": "2022-07-25T09:01:48.329Z"
   },
   {
    "duration": 23,
    "start_time": "2022-07-25T09:01:55.040Z"
   },
   {
    "duration": 22,
    "start_time": "2022-07-25T09:02:16.269Z"
   },
   {
    "duration": 10,
    "start_time": "2022-07-25T09:04:12.410Z"
   },
   {
    "duration": 3,
    "start_time": "2022-07-25T09:04:18.534Z"
   },
   {
    "duration": 256,
    "start_time": "2022-07-25T09:04:18.539Z"
   },
   {
    "duration": 8,
    "start_time": "2022-07-25T09:04:18.797Z"
   },
   {
    "duration": 101,
    "start_time": "2022-07-25T09:04:18.806Z"
   },
   {
    "duration": 129,
    "start_time": "2022-07-25T09:04:18.910Z"
   },
   {
    "duration": 46,
    "start_time": "2022-07-25T09:04:19.041Z"
   },
   {
    "duration": 34,
    "start_time": "2022-07-25T09:04:19.090Z"
   },
   {
    "duration": 36,
    "start_time": "2022-07-25T09:04:19.145Z"
   },
   {
    "duration": 105,
    "start_time": "2022-07-25T09:04:19.183Z"
   },
   {
    "duration": 18,
    "start_time": "2022-07-25T09:04:19.290Z"
   },
   {
    "duration": 47,
    "start_time": "2022-07-25T09:04:19.310Z"
   },
   {
    "duration": 16,
    "start_time": "2022-07-25T09:04:19.359Z"
   },
   {
    "duration": 20,
    "start_time": "2022-07-25T09:04:19.377Z"
   },
   {
    "duration": 8,
    "start_time": "2022-07-25T09:04:19.399Z"
   },
   {
    "duration": 13,
    "start_time": "2022-07-25T09:04:19.409Z"
   },
   {
    "duration": 3,
    "start_time": "2022-07-25T09:05:56.788Z"
   },
   {
    "duration": 278,
    "start_time": "2022-07-25T09:05:56.793Z"
   },
   {
    "duration": 9,
    "start_time": "2022-07-25T09:05:57.073Z"
   },
   {
    "duration": 77,
    "start_time": "2022-07-25T09:05:57.084Z"
   },
   {
    "duration": 88,
    "start_time": "2022-07-25T09:05:57.164Z"
   },
   {
    "duration": 34,
    "start_time": "2022-07-25T09:05:57.254Z"
   },
   {
    "duration": 33,
    "start_time": "2022-07-25T09:05:57.290Z"
   },
   {
    "duration": 21,
    "start_time": "2022-07-25T09:05:57.345Z"
   },
   {
    "duration": 117,
    "start_time": "2022-07-25T09:05:57.369Z"
   },
   {
    "duration": 25,
    "start_time": "2022-07-25T09:05:57.488Z"
   },
   {
    "duration": 52,
    "start_time": "2022-07-25T09:05:57.516Z"
   },
   {
    "duration": 15,
    "start_time": "2022-07-25T09:05:57.570Z"
   },
   {
    "duration": 23,
    "start_time": "2022-07-25T09:05:57.587Z"
   },
   {
    "duration": 9,
    "start_time": "2022-07-25T09:05:57.612Z"
   },
   {
    "duration": 32,
    "start_time": "2022-07-25T09:05:57.623Z"
   },
   {
    "duration": 17,
    "start_time": "2022-07-25T09:05:57.657Z"
   },
   {
    "duration": 10,
    "start_time": "2022-07-25T09:09:09.348Z"
   },
   {
    "duration": 12,
    "start_time": "2022-07-25T09:49:11.439Z"
   },
   {
    "duration": 19,
    "start_time": "2022-07-25T09:51:07.007Z"
   },
   {
    "duration": 12,
    "start_time": "2022-07-25T09:52:14.418Z"
   },
   {
    "duration": 3,
    "start_time": "2022-07-25T09:54:23.497Z"
   },
   {
    "duration": 285,
    "start_time": "2022-07-25T09:54:23.517Z"
   },
   {
    "duration": 9,
    "start_time": "2022-07-25T09:54:23.804Z"
   },
   {
    "duration": 99,
    "start_time": "2022-07-25T09:54:23.815Z"
   },
   {
    "duration": 90,
    "start_time": "2022-07-25T09:54:23.916Z"
   },
   {
    "duration": 42,
    "start_time": "2022-07-25T09:54:24.008Z"
   },
   {
    "duration": 30,
    "start_time": "2022-07-25T09:54:24.054Z"
   },
   {
    "duration": 21,
    "start_time": "2022-07-25T09:54:24.086Z"
   },
   {
    "duration": 108,
    "start_time": "2022-07-25T09:54:24.108Z"
   },
   {
    "duration": 28,
    "start_time": "2022-07-25T09:54:24.218Z"
   },
   {
    "duration": 34,
    "start_time": "2022-07-25T09:54:24.248Z"
   },
   {
    "duration": 15,
    "start_time": "2022-07-25T09:54:24.284Z"
   },
   {
    "duration": 29,
    "start_time": "2022-07-25T09:54:24.300Z"
   },
   {
    "duration": 21,
    "start_time": "2022-07-25T09:54:24.330Z"
   },
   {
    "duration": 14,
    "start_time": "2022-07-25T09:54:24.353Z"
   },
   {
    "duration": 20,
    "start_time": "2022-07-25T09:54:24.369Z"
   },
   {
    "duration": 10,
    "start_time": "2022-07-25T09:54:38.087Z"
   },
   {
    "duration": 8,
    "start_time": "2022-07-25T09:57:20.643Z"
   },
   {
    "duration": 3,
    "start_time": "2022-07-25T09:57:35.777Z"
   },
   {
    "duration": 270,
    "start_time": "2022-07-25T09:57:35.788Z"
   },
   {
    "duration": 9,
    "start_time": "2022-07-25T09:57:36.060Z"
   },
   {
    "duration": 84,
    "start_time": "2022-07-25T09:57:36.070Z"
   },
   {
    "duration": 74,
    "start_time": "2022-07-25T09:57:36.156Z"
   },
   {
    "duration": 43,
    "start_time": "2022-07-25T09:57:36.232Z"
   },
   {
    "duration": 36,
    "start_time": "2022-07-25T09:57:36.277Z"
   },
   {
    "duration": 22,
    "start_time": "2022-07-25T09:57:36.314Z"
   },
   {
    "duration": 100,
    "start_time": "2022-07-25T09:57:36.346Z"
   },
   {
    "duration": 18,
    "start_time": "2022-07-25T09:57:36.448Z"
   },
   {
    "duration": 33,
    "start_time": "2022-07-25T09:57:36.469Z"
   },
   {
    "duration": 15,
    "start_time": "2022-07-25T09:57:36.504Z"
   },
   {
    "duration": 41,
    "start_time": "2022-07-25T09:57:36.520Z"
   },
   {
    "duration": 13,
    "start_time": "2022-07-25T09:57:36.563Z"
   },
   {
    "duration": 10,
    "start_time": "2022-07-25T09:57:36.577Z"
   },
   {
    "duration": 27,
    "start_time": "2022-07-25T09:57:36.589Z"
   },
   {
    "duration": 8,
    "start_time": "2022-07-25T09:57:36.618Z"
   },
   {
    "duration": 9,
    "start_time": "2022-07-25T09:57:58.236Z"
   },
   {
    "duration": 11,
    "start_time": "2022-07-25T09:58:04.408Z"
   },
   {
    "duration": 20,
    "start_time": "2022-07-25T09:58:10.696Z"
   },
   {
    "duration": 9,
    "start_time": "2022-07-25T09:58:22.685Z"
   },
   {
    "duration": 11,
    "start_time": "2022-07-25T09:59:07.293Z"
   },
   {
    "duration": 3,
    "start_time": "2022-07-25T09:59:12.133Z"
   },
   {
    "duration": 274,
    "start_time": "2022-07-25T09:59:12.138Z"
   },
   {
    "duration": 9,
    "start_time": "2022-07-25T09:59:12.414Z"
   },
   {
    "duration": 75,
    "start_time": "2022-07-25T09:59:12.425Z"
   },
   {
    "duration": 109,
    "start_time": "2022-07-25T09:59:12.503Z"
   },
   {
    "duration": 42,
    "start_time": "2022-07-25T09:59:12.614Z"
   },
   {
    "duration": 26,
    "start_time": "2022-07-25T09:59:12.658Z"
   },
   {
    "duration": 20,
    "start_time": "2022-07-25T09:59:12.685Z"
   },
   {
    "duration": 113,
    "start_time": "2022-07-25T09:59:12.707Z"
   },
   {
    "duration": 29,
    "start_time": "2022-07-25T09:59:12.822Z"
   },
   {
    "duration": 30,
    "start_time": "2022-07-25T09:59:12.854Z"
   },
   {
    "duration": 14,
    "start_time": "2022-07-25T09:59:12.886Z"
   },
   {
    "duration": 18,
    "start_time": "2022-07-25T09:59:12.901Z"
   },
   {
    "duration": 14,
    "start_time": "2022-07-25T09:59:12.945Z"
   },
   {
    "duration": 15,
    "start_time": "2022-07-25T09:59:12.961Z"
   },
   {
    "duration": 25,
    "start_time": "2022-07-25T09:59:12.978Z"
   },
   {
    "duration": 255,
    "start_time": "2022-07-25T09:59:13.004Z"
   },
   {
    "duration": 8,
    "start_time": "2022-07-25T09:59:25.028Z"
   },
   {
    "duration": 3,
    "start_time": "2022-07-25T09:59:28.391Z"
   },
   {
    "duration": 269,
    "start_time": "2022-07-25T09:59:28.397Z"
   },
   {
    "duration": 8,
    "start_time": "2022-07-25T09:59:28.668Z"
   },
   {
    "duration": 78,
    "start_time": "2022-07-25T09:59:28.678Z"
   },
   {
    "duration": 76,
    "start_time": "2022-07-25T09:59:28.758Z"
   },
   {
    "duration": 47,
    "start_time": "2022-07-25T09:59:28.846Z"
   },
   {
    "duration": 53,
    "start_time": "2022-07-25T09:59:28.897Z"
   },
   {
    "duration": 31,
    "start_time": "2022-07-25T09:59:28.953Z"
   },
   {
    "duration": 178,
    "start_time": "2022-07-25T09:59:28.986Z"
   },
   {
    "duration": 23,
    "start_time": "2022-07-25T09:59:29.166Z"
   },
   {
    "duration": 41,
    "start_time": "2022-07-25T09:59:29.191Z"
   },
   {
    "duration": 27,
    "start_time": "2022-07-25T09:59:29.233Z"
   },
   {
    "duration": 17,
    "start_time": "2022-07-25T09:59:29.262Z"
   },
   {
    "duration": 12,
    "start_time": "2022-07-25T09:59:29.281Z"
   },
   {
    "duration": 10,
    "start_time": "2022-07-25T09:59:29.296Z"
   },
   {
    "duration": 51,
    "start_time": "2022-07-25T09:59:29.308Z"
   },
   {
    "duration": 8,
    "start_time": "2022-07-25T09:59:29.361Z"
   },
   {
    "duration": 3,
    "start_time": "2022-07-25T09:59:39.861Z"
   },
   {
    "duration": 268,
    "start_time": "2022-07-25T09:59:39.866Z"
   },
   {
    "duration": 9,
    "start_time": "2022-07-25T09:59:40.136Z"
   },
   {
    "duration": 78,
    "start_time": "2022-07-25T09:59:40.146Z"
   },
   {
    "duration": 82,
    "start_time": "2022-07-25T09:59:40.227Z"
   },
   {
    "duration": 47,
    "start_time": "2022-07-25T09:59:40.311Z"
   },
   {
    "duration": 33,
    "start_time": "2022-07-25T09:59:40.360Z"
   },
   {
    "duration": 20,
    "start_time": "2022-07-25T09:59:40.395Z"
   },
   {
    "duration": 108,
    "start_time": "2022-07-25T09:59:40.417Z"
   },
   {
    "duration": 40,
    "start_time": "2022-07-25T09:59:40.527Z"
   },
   {
    "duration": 37,
    "start_time": "2022-07-25T09:59:40.571Z"
   },
   {
    "duration": 14,
    "start_time": "2022-07-25T09:59:40.610Z"
   },
   {
    "duration": 40,
    "start_time": "2022-07-25T09:59:40.626Z"
   },
   {
    "duration": 19,
    "start_time": "2022-07-25T09:59:40.668Z"
   },
   {
    "duration": 15,
    "start_time": "2022-07-25T09:59:40.689Z"
   },
   {
    "duration": 47,
    "start_time": "2022-07-25T09:59:40.705Z"
   },
   {
    "duration": 202,
    "start_time": "2022-07-25T09:59:40.754Z"
   },
   {
    "duration": 8,
    "start_time": "2022-07-25T09:59:57.857Z"
   },
   {
    "duration": 2,
    "start_time": "2022-07-25T10:00:01.415Z"
   },
   {
    "duration": 357,
    "start_time": "2022-07-25T10:00:01.448Z"
   },
   {
    "duration": 9,
    "start_time": "2022-07-25T10:00:01.808Z"
   },
   {
    "duration": 115,
    "start_time": "2022-07-25T10:00:01.818Z"
   },
   {
    "duration": 81,
    "start_time": "2022-07-25T10:00:01.935Z"
   },
   {
    "duration": 40,
    "start_time": "2022-07-25T10:00:02.019Z"
   },
   {
    "duration": 36,
    "start_time": "2022-07-25T10:00:02.061Z"
   },
   {
    "duration": 23,
    "start_time": "2022-07-25T10:00:02.100Z"
   },
   {
    "duration": 127,
    "start_time": "2022-07-25T10:00:02.125Z"
   },
   {
    "duration": 20,
    "start_time": "2022-07-25T10:00:02.254Z"
   },
   {
    "duration": 70,
    "start_time": "2022-07-25T10:00:02.275Z"
   },
   {
    "duration": 30,
    "start_time": "2022-07-25T10:00:02.346Z"
   },
   {
    "duration": 60,
    "start_time": "2022-07-25T10:00:02.378Z"
   },
   {
    "duration": 31,
    "start_time": "2022-07-25T10:00:02.440Z"
   },
   {
    "duration": 36,
    "start_time": "2022-07-25T10:00:02.473Z"
   },
   {
    "duration": 45,
    "start_time": "2022-07-25T10:00:02.511Z"
   },
   {
    "duration": 19,
    "start_time": "2022-07-25T10:00:02.557Z"
   },
   {
    "duration": 583,
    "start_time": "2022-07-25T10:07:48.343Z"
   },
   {
    "duration": 604,
    "start_time": "2022-07-25T10:08:00.188Z"
   },
   {
    "duration": 573,
    "start_time": "2022-07-25T10:08:15.088Z"
   },
   {
    "duration": 560,
    "start_time": "2022-07-25T10:09:06.403Z"
   },
   {
    "duration": 8,
    "start_time": "2022-07-25T10:10:28.498Z"
   },
   {
    "duration": 15,
    "start_time": "2022-07-25T10:10:33.712Z"
   },
   {
    "duration": 9,
    "start_time": "2022-07-25T10:10:47.811Z"
   },
   {
    "duration": 593,
    "start_time": "2022-07-25T10:11:00.014Z"
   },
   {
    "duration": 9,
    "start_time": "2022-07-25T10:11:01.771Z"
   },
   {
    "duration": 10,
    "start_time": "2022-07-25T10:11:36.078Z"
   },
   {
    "duration": 9,
    "start_time": "2022-07-25T10:12:43.344Z"
   },
   {
    "duration": 16,
    "start_time": "2022-07-25T10:12:47.853Z"
   },
   {
    "duration": 7,
    "start_time": "2022-07-25T10:13:15.759Z"
   },
   {
    "duration": 13,
    "start_time": "2022-07-25T10:13:19.757Z"
   },
   {
    "duration": 599,
    "start_time": "2022-07-25T10:18:16.675Z"
   },
   {
    "duration": 3,
    "start_time": "2022-07-25T10:18:21.060Z"
   },
   {
    "duration": 296,
    "start_time": "2022-07-25T10:18:21.064Z"
   },
   {
    "duration": 11,
    "start_time": "2022-07-25T10:18:21.362Z"
   },
   {
    "duration": 91,
    "start_time": "2022-07-25T10:18:21.375Z"
   },
   {
    "duration": 94,
    "start_time": "2022-07-25T10:18:21.471Z"
   },
   {
    "duration": 40,
    "start_time": "2022-07-25T10:18:21.571Z"
   },
   {
    "duration": 48,
    "start_time": "2022-07-25T10:18:21.613Z"
   },
   {
    "duration": 35,
    "start_time": "2022-07-25T10:18:21.663Z"
   },
   {
    "duration": 128,
    "start_time": "2022-07-25T10:18:21.699Z"
   },
   {
    "duration": 34,
    "start_time": "2022-07-25T10:18:21.829Z"
   },
   {
    "duration": 42,
    "start_time": "2022-07-25T10:18:21.866Z"
   },
   {
    "duration": 15,
    "start_time": "2022-07-25T10:18:21.910Z"
   },
   {
    "duration": 52,
    "start_time": "2022-07-25T10:18:21.926Z"
   },
   {
    "duration": 19,
    "start_time": "2022-07-25T10:18:21.980Z"
   },
   {
    "duration": 15,
    "start_time": "2022-07-25T10:18:22.001Z"
   },
   {
    "duration": 46,
    "start_time": "2022-07-25T10:18:22.018Z"
   },
   {
    "duration": 10,
    "start_time": "2022-07-25T10:18:22.065Z"
   },
   {
    "duration": 24,
    "start_time": "2022-07-25T10:18:22.077Z"
   },
   {
    "duration": 646,
    "start_time": "2022-07-25T10:18:22.103Z"
   },
   {
    "duration": 403,
    "start_time": "2022-07-25T10:18:34.660Z"
   },
   {
    "duration": 261,
    "start_time": "2022-07-25T10:18:35.065Z"
   },
   {
    "duration": 23,
    "start_time": "2022-07-25T10:18:35.328Z"
   },
   {
    "duration": 90,
    "start_time": "2022-07-25T10:18:35.352Z"
   },
   {
    "duration": 95,
    "start_time": "2022-07-25T10:18:35.443Z"
   },
   {
    "duration": 42,
    "start_time": "2022-07-25T10:18:35.546Z"
   },
   {
    "duration": 27,
    "start_time": "2022-07-25T10:18:35.590Z"
   },
   {
    "duration": 45,
    "start_time": "2022-07-25T10:18:35.619Z"
   },
   {
    "duration": 146,
    "start_time": "2022-07-25T10:18:35.666Z"
   },
   {
    "duration": 18,
    "start_time": "2022-07-25T10:18:35.814Z"
   },
   {
    "duration": 57,
    "start_time": "2022-07-25T10:18:35.834Z"
   },
   {
    "duration": 15,
    "start_time": "2022-07-25T10:18:35.893Z"
   },
   {
    "duration": 50,
    "start_time": "2022-07-25T10:18:35.910Z"
   },
   {
    "duration": 16,
    "start_time": "2022-07-25T10:18:35.965Z"
   },
   {
    "duration": 12,
    "start_time": "2022-07-25T10:18:35.983Z"
   },
   {
    "duration": 27,
    "start_time": "2022-07-25T10:18:35.996Z"
   },
   {
    "duration": 9,
    "start_time": "2022-07-25T10:18:36.024Z"
   },
   {
    "duration": 17,
    "start_time": "2022-07-25T10:18:36.048Z"
   },
   {
    "duration": 615,
    "start_time": "2022-07-25T10:18:36.067Z"
   },
   {
    "duration": 24,
    "start_time": "2022-07-25T10:22:48.573Z"
   },
   {
    "duration": 32,
    "start_time": "2022-07-25T10:22:58.636Z"
   },
   {
    "duration": 34,
    "start_time": "2022-07-25T10:24:07.832Z"
   },
   {
    "duration": 81,
    "start_time": "2022-07-25T10:25:13.096Z"
   },
   {
    "duration": 2,
    "start_time": "2022-07-25T10:25:27.553Z"
   },
   {
    "duration": 268,
    "start_time": "2022-07-25T10:25:27.557Z"
   },
   {
    "duration": 8,
    "start_time": "2022-07-25T10:25:27.827Z"
   },
   {
    "duration": 72,
    "start_time": "2022-07-25T10:25:27.837Z"
   },
   {
    "duration": 86,
    "start_time": "2022-07-25T10:25:27.911Z"
   },
   {
    "duration": 33,
    "start_time": "2022-07-25T10:25:27.999Z"
   },
   {
    "duration": 37,
    "start_time": "2022-07-25T10:25:28.034Z"
   },
   {
    "duration": 20,
    "start_time": "2022-07-25T10:25:28.073Z"
   },
   {
    "duration": 110,
    "start_time": "2022-07-25T10:25:28.095Z"
   },
   {
    "duration": 18,
    "start_time": "2022-07-25T10:25:28.207Z"
   },
   {
    "duration": 44,
    "start_time": "2022-07-25T10:25:28.228Z"
   },
   {
    "duration": 15,
    "start_time": "2022-07-25T10:25:28.274Z"
   },
   {
    "duration": 19,
    "start_time": "2022-07-25T10:25:28.290Z"
   },
   {
    "duration": 12,
    "start_time": "2022-07-25T10:25:28.310Z"
   },
   {
    "duration": 28,
    "start_time": "2022-07-25T10:25:28.324Z"
   },
   {
    "duration": 27,
    "start_time": "2022-07-25T10:25:28.354Z"
   },
   {
    "duration": 9,
    "start_time": "2022-07-25T10:25:28.382Z"
   },
   {
    "duration": 14,
    "start_time": "2022-07-25T10:25:28.393Z"
   },
   {
    "duration": 653,
    "start_time": "2022-07-25T10:25:28.409Z"
   },
   {
    "duration": 38,
    "start_time": "2022-07-25T10:25:29.065Z"
   },
   {
    "duration": 21,
    "start_time": "2022-07-25T10:25:29.105Z"
   },
   {
    "duration": 12,
    "start_time": "2022-07-25T10:26:18.247Z"
   },
   {
    "duration": 25,
    "start_time": "2022-07-25T10:27:08.722Z"
   },
   {
    "duration": 24,
    "start_time": "2022-07-25T10:27:13.642Z"
   },
   {
    "duration": 99,
    "start_time": "2022-07-25T10:27:20.831Z"
   },
   {
    "duration": 26,
    "start_time": "2022-07-25T10:27:28.328Z"
   },
   {
    "duration": 11,
    "start_time": "2022-07-25T10:29:01.846Z"
   },
   {
    "duration": 16,
    "start_time": "2022-07-25T10:29:07.922Z"
   },
   {
    "duration": 31,
    "start_time": "2022-07-25T10:30:19.579Z"
   },
   {
    "duration": 12,
    "start_time": "2022-07-25T10:32:59.291Z"
   },
   {
    "duration": 2,
    "start_time": "2022-07-25T10:33:06.369Z"
   },
   {
    "duration": 259,
    "start_time": "2022-07-25T10:33:06.388Z"
   },
   {
    "duration": 9,
    "start_time": "2022-07-25T10:33:06.649Z"
   },
   {
    "duration": 90,
    "start_time": "2022-07-25T10:33:06.660Z"
   },
   {
    "duration": 76,
    "start_time": "2022-07-25T10:33:06.752Z"
   },
   {
    "duration": 43,
    "start_time": "2022-07-25T10:33:06.830Z"
   },
   {
    "duration": 26,
    "start_time": "2022-07-25T10:33:06.874Z"
   },
   {
    "duration": 47,
    "start_time": "2022-07-25T10:33:06.901Z"
   },
   {
    "duration": 108,
    "start_time": "2022-07-25T10:33:06.950Z"
   },
   {
    "duration": 19,
    "start_time": "2022-07-25T10:33:07.059Z"
   },
   {
    "duration": 33,
    "start_time": "2022-07-25T10:33:07.080Z"
   },
   {
    "duration": 38,
    "start_time": "2022-07-25T10:33:07.115Z"
   },
   {
    "duration": 21,
    "start_time": "2022-07-25T10:33:07.154Z"
   },
   {
    "duration": 14,
    "start_time": "2022-07-25T10:33:07.176Z"
   },
   {
    "duration": 10,
    "start_time": "2022-07-25T10:33:07.193Z"
   },
   {
    "duration": 43,
    "start_time": "2022-07-25T10:33:07.204Z"
   },
   {
    "duration": 8,
    "start_time": "2022-07-25T10:33:07.248Z"
   },
   {
    "duration": 14,
    "start_time": "2022-07-25T10:33:07.258Z"
   },
   {
    "duration": 621,
    "start_time": "2022-07-25T10:33:07.273Z"
   },
   {
    "duration": 33,
    "start_time": "2022-07-25T10:33:07.896Z"
   },
   {
    "duration": 21,
    "start_time": "2022-07-25T10:33:07.932Z"
   },
   {
    "duration": 10,
    "start_time": "2022-07-25T10:33:22.331Z"
   },
   {
    "duration": 10,
    "start_time": "2022-07-25T10:33:49.241Z"
   },
   {
    "duration": 436,
    "start_time": "2022-07-25T10:34:00.965Z"
   },
   {
    "duration": 275,
    "start_time": "2022-07-25T10:34:01.404Z"
   },
   {
    "duration": 16,
    "start_time": "2022-07-25T10:34:01.681Z"
   },
   {
    "duration": 88,
    "start_time": "2022-07-25T10:34:01.699Z"
   },
   {
    "duration": 104,
    "start_time": "2022-07-25T10:34:01.788Z"
   },
   {
    "duration": 36,
    "start_time": "2022-07-25T10:34:01.895Z"
   },
   {
    "duration": 62,
    "start_time": "2022-07-25T10:34:01.932Z"
   },
   {
    "duration": 23,
    "start_time": "2022-07-25T10:34:01.995Z"
   },
   {
    "duration": 142,
    "start_time": "2022-07-25T10:34:02.020Z"
   },
   {
    "duration": 27,
    "start_time": "2022-07-25T10:34:02.165Z"
   },
   {
    "duration": 56,
    "start_time": "2022-07-25T10:34:02.194Z"
   },
   {
    "duration": 17,
    "start_time": "2022-07-25T10:34:02.252Z"
   },
   {
    "duration": 24,
    "start_time": "2022-07-25T10:34:02.270Z"
   },
   {
    "duration": 16,
    "start_time": "2022-07-25T10:34:02.296Z"
   },
   {
    "duration": 37,
    "start_time": "2022-07-25T10:34:02.313Z"
   },
   {
    "duration": 27,
    "start_time": "2022-07-25T10:34:02.352Z"
   },
   {
    "duration": 8,
    "start_time": "2022-07-25T10:34:02.381Z"
   },
   {
    "duration": 16,
    "start_time": "2022-07-25T10:34:02.391Z"
   },
   {
    "duration": 562,
    "start_time": "2022-07-25T10:34:02.409Z"
   },
   {
    "duration": 31,
    "start_time": "2022-07-25T10:34:02.973Z"
   },
   {
    "duration": 10,
    "start_time": "2022-07-25T10:34:03.006Z"
   },
   {
    "duration": 17,
    "start_time": "2022-07-25T10:34:26.642Z"
   },
   {
    "duration": 10,
    "start_time": "2022-07-25T10:35:53.154Z"
   },
   {
    "duration": 10,
    "start_time": "2022-07-25T10:36:28.584Z"
   },
   {
    "duration": 2,
    "start_time": "2022-07-25T10:36:34.526Z"
   },
   {
    "duration": 262,
    "start_time": "2022-07-25T10:36:34.556Z"
   },
   {
    "duration": 9,
    "start_time": "2022-07-25T10:36:34.820Z"
   },
   {
    "duration": 79,
    "start_time": "2022-07-25T10:36:34.830Z"
   },
   {
    "duration": 84,
    "start_time": "2022-07-25T10:36:34.911Z"
   },
   {
    "duration": 33,
    "start_time": "2022-07-25T10:36:34.997Z"
   },
   {
    "duration": 38,
    "start_time": "2022-07-25T10:36:35.032Z"
   },
   {
    "duration": 21,
    "start_time": "2022-07-25T10:36:35.072Z"
   },
   {
    "duration": 110,
    "start_time": "2022-07-25T10:36:35.094Z"
   },
   {
    "duration": 18,
    "start_time": "2022-07-25T10:36:35.206Z"
   },
   {
    "duration": 44,
    "start_time": "2022-07-25T10:36:35.226Z"
   },
   {
    "duration": 16,
    "start_time": "2022-07-25T10:36:35.272Z"
   },
   {
    "duration": 22,
    "start_time": "2022-07-25T10:36:35.289Z"
   },
   {
    "duration": 35,
    "start_time": "2022-07-25T10:36:35.312Z"
   },
   {
    "duration": 10,
    "start_time": "2022-07-25T10:36:35.349Z"
   },
   {
    "duration": 28,
    "start_time": "2022-07-25T10:36:35.361Z"
   },
   {
    "duration": 8,
    "start_time": "2022-07-25T10:36:35.391Z"
   },
   {
    "duration": 13,
    "start_time": "2022-07-25T10:36:35.401Z"
   },
   {
    "duration": 593,
    "start_time": "2022-07-25T10:36:35.416Z"
   },
   {
    "duration": 39,
    "start_time": "2022-07-25T10:36:36.010Z"
   },
   {
    "duration": 8,
    "start_time": "2022-07-25T10:36:36.051Z"
   },
   {
    "duration": 16,
    "start_time": "2022-07-25T10:36:46.407Z"
   },
   {
    "duration": 20,
    "start_time": "2022-07-25T10:36:56.448Z"
   },
   {
    "duration": 3,
    "start_time": "2022-07-25T10:37:59.130Z"
   },
   {
    "duration": 241,
    "start_time": "2022-07-25T10:37:59.135Z"
   },
   {
    "duration": 8,
    "start_time": "2022-07-25T10:37:59.378Z"
   },
   {
    "duration": 74,
    "start_time": "2022-07-25T10:37:59.387Z"
   },
   {
    "duration": 72,
    "start_time": "2022-07-25T10:37:59.463Z"
   },
   {
    "duration": 37,
    "start_time": "2022-07-25T10:37:59.536Z"
   },
   {
    "duration": 25,
    "start_time": "2022-07-25T10:37:59.575Z"
   },
   {
    "duration": 43,
    "start_time": "2022-07-25T10:37:59.602Z"
   },
   {
    "duration": 89,
    "start_time": "2022-07-25T10:37:59.647Z"
   },
   {
    "duration": 24,
    "start_time": "2022-07-25T10:37:59.738Z"
   },
   {
    "duration": 30,
    "start_time": "2022-07-25T10:37:59.764Z"
   },
   {
    "duration": 14,
    "start_time": "2022-07-25T10:37:59.795Z"
   },
   {
    "duration": 42,
    "start_time": "2022-07-25T10:37:59.811Z"
   },
   {
    "duration": 13,
    "start_time": "2022-07-25T10:37:59.855Z"
   },
   {
    "duration": 11,
    "start_time": "2022-07-25T10:37:59.869Z"
   },
   {
    "duration": 21,
    "start_time": "2022-07-25T10:37:59.881Z"
   },
   {
    "duration": 6,
    "start_time": "2022-07-25T10:37:59.904Z"
   },
   {
    "duration": 36,
    "start_time": "2022-07-25T10:37:59.911Z"
   },
   {
    "duration": 558,
    "start_time": "2022-07-25T10:37:59.948Z"
   },
   {
    "duration": 39,
    "start_time": "2022-07-25T10:38:00.507Z"
   },
   {
    "duration": 16,
    "start_time": "2022-07-25T10:38:00.548Z"
   },
   {
    "duration": 40,
    "start_time": "2022-07-25T10:38:00.566Z"
   },
   {
    "duration": 24,
    "start_time": "2022-07-25T10:40:47.692Z"
   },
   {
    "duration": 3,
    "start_time": "2022-07-25T10:41:21.434Z"
   },
   {
    "duration": 283,
    "start_time": "2022-07-25T10:41:21.439Z"
   },
   {
    "duration": 11,
    "start_time": "2022-07-25T10:41:21.724Z"
   },
   {
    "duration": 76,
    "start_time": "2022-07-25T10:41:21.736Z"
   },
   {
    "duration": 78,
    "start_time": "2022-07-25T10:41:21.814Z"
   },
   {
    "duration": 32,
    "start_time": "2022-07-25T10:41:21.893Z"
   },
   {
    "duration": 41,
    "start_time": "2022-07-25T10:41:21.926Z"
   },
   {
    "duration": 21,
    "start_time": "2022-07-25T10:41:21.969Z"
   },
   {
    "duration": 116,
    "start_time": "2022-07-25T10:41:21.992Z"
   },
   {
    "duration": 19,
    "start_time": "2022-07-25T10:41:22.110Z"
   },
   {
    "duration": 46,
    "start_time": "2022-07-25T10:41:22.132Z"
   },
   {
    "duration": 15,
    "start_time": "2022-07-25T10:41:22.180Z"
   },
   {
    "duration": 20,
    "start_time": "2022-07-25T10:41:22.196Z"
   },
   {
    "duration": 31,
    "start_time": "2022-07-25T10:41:22.218Z"
   },
   {
    "duration": 13,
    "start_time": "2022-07-25T10:41:22.250Z"
   },
   {
    "duration": 21,
    "start_time": "2022-07-25T10:41:22.265Z"
   },
   {
    "duration": 7,
    "start_time": "2022-07-25T10:41:22.287Z"
   },
   {
    "duration": 11,
    "start_time": "2022-07-25T10:41:22.296Z"
   },
   {
    "duration": 586,
    "start_time": "2022-07-25T10:41:22.308Z"
   },
   {
    "duration": 30,
    "start_time": "2022-07-25T10:41:22.896Z"
   },
   {
    "duration": 28,
    "start_time": "2022-07-25T10:41:22.928Z"
   },
   {
    "duration": 25,
    "start_time": "2022-07-25T10:41:22.957Z"
   },
   {
    "duration": 5,
    "start_time": "2022-07-25T10:42:14.856Z"
   },
   {
    "duration": 3,
    "start_time": "2022-07-25T10:43:59.394Z"
   },
   {
    "duration": 269,
    "start_time": "2022-07-25T10:43:59.399Z"
   },
   {
    "duration": 9,
    "start_time": "2022-07-25T10:43:59.669Z"
   },
   {
    "duration": 74,
    "start_time": "2022-07-25T10:43:59.679Z"
   },
   {
    "duration": 74,
    "start_time": "2022-07-25T10:43:59.755Z"
   },
   {
    "duration": 42,
    "start_time": "2022-07-25T10:43:59.831Z"
   },
   {
    "duration": 32,
    "start_time": "2022-07-25T10:43:59.875Z"
   },
   {
    "duration": 21,
    "start_time": "2022-07-25T10:43:59.909Z"
   },
   {
    "duration": 100,
    "start_time": "2022-07-25T10:43:59.946Z"
   },
   {
    "duration": 20,
    "start_time": "2022-07-25T10:44:00.048Z"
   },
   {
    "duration": 43,
    "start_time": "2022-07-25T10:44:00.070Z"
   },
   {
    "duration": 32,
    "start_time": "2022-07-25T10:44:00.115Z"
   },
   {
    "duration": 27,
    "start_time": "2022-07-25T10:44:00.149Z"
   },
   {
    "duration": 13,
    "start_time": "2022-07-25T10:44:00.178Z"
   },
   {
    "duration": 14,
    "start_time": "2022-07-25T10:44:00.193Z"
   },
   {
    "duration": 35,
    "start_time": "2022-07-25T10:44:00.208Z"
   },
   {
    "duration": 24,
    "start_time": "2022-07-25T10:44:00.245Z"
   },
   {
    "duration": 45,
    "start_time": "2022-07-25T10:44:00.271Z"
   },
   {
    "duration": 623,
    "start_time": "2022-07-25T10:44:00.318Z"
   },
   {
    "duration": 10,
    "start_time": "2022-07-25T10:44:00.943Z"
   },
   {
    "duration": 3,
    "start_time": "2022-07-25T10:45:53.717Z"
   },
   {
    "duration": 267,
    "start_time": "2022-07-25T10:45:53.721Z"
   },
   {
    "duration": 8,
    "start_time": "2022-07-25T10:45:53.990Z"
   },
   {
    "duration": 72,
    "start_time": "2022-07-25T10:45:54.000Z"
   },
   {
    "duration": 79,
    "start_time": "2022-07-25T10:45:54.074Z"
   },
   {
    "duration": 33,
    "start_time": "2022-07-25T10:45:54.154Z"
   },
   {
    "duration": 26,
    "start_time": "2022-07-25T10:45:54.188Z"
   },
   {
    "duration": 40,
    "start_time": "2022-07-25T10:45:54.215Z"
   },
   {
    "duration": 103,
    "start_time": "2022-07-25T10:45:54.256Z"
   },
   {
    "duration": 17,
    "start_time": "2022-07-25T10:45:54.361Z"
   },
   {
    "duration": 35,
    "start_time": "2022-07-25T10:45:54.380Z"
   },
   {
    "duration": 39,
    "start_time": "2022-07-25T10:45:54.416Z"
   },
   {
    "duration": 21,
    "start_time": "2022-07-25T10:45:54.457Z"
   },
   {
    "duration": 12,
    "start_time": "2022-07-25T10:45:54.481Z"
   },
   {
    "duration": 11,
    "start_time": "2022-07-25T10:45:54.495Z"
   },
   {
    "duration": 42,
    "start_time": "2022-07-25T10:45:54.508Z"
   },
   {
    "duration": 8,
    "start_time": "2022-07-25T10:45:54.551Z"
   },
   {
    "duration": 20,
    "start_time": "2022-07-25T10:45:54.560Z"
   },
   {
    "duration": 579,
    "start_time": "2022-07-25T10:45:54.582Z"
   },
   {
    "duration": 9,
    "start_time": "2022-07-25T10:45:55.163Z"
   },
   {
    "duration": 37,
    "start_time": "2022-07-25T10:45:55.174Z"
   },
   {
    "duration": 15,
    "start_time": "2022-07-25T10:45:55.213Z"
   },
   {
    "duration": 22,
    "start_time": "2022-07-25T10:45:55.247Z"
   },
   {
    "duration": 6,
    "start_time": "2022-07-25T10:45:55.270Z"
   },
   {
    "duration": 14,
    "start_time": "2022-07-25T10:46:42.992Z"
   },
   {
    "duration": 1351,
    "start_time": "2022-07-25T10:47:26.093Z"
   },
   {
    "duration": 6,
    "start_time": "2022-07-25T10:47:39.638Z"
   },
   {
    "duration": 12,
    "start_time": "2022-07-25T10:48:07.264Z"
   },
   {
    "duration": 3,
    "start_time": "2022-07-25T10:48:11.308Z"
   },
   {
    "duration": 252,
    "start_time": "2022-07-25T10:48:11.315Z"
   },
   {
    "duration": 9,
    "start_time": "2022-07-25T10:48:11.569Z"
   },
   {
    "duration": 74,
    "start_time": "2022-07-25T10:48:11.579Z"
   },
   {
    "duration": 76,
    "start_time": "2022-07-25T10:48:11.655Z"
   },
   {
    "duration": 34,
    "start_time": "2022-07-25T10:48:11.745Z"
   },
   {
    "duration": 26,
    "start_time": "2022-07-25T10:48:11.781Z"
   },
   {
    "duration": 41,
    "start_time": "2022-07-25T10:48:11.809Z"
   },
   {
    "duration": 108,
    "start_time": "2022-07-25T10:48:11.853Z"
   },
   {
    "duration": 20,
    "start_time": "2022-07-25T10:48:11.963Z"
   },
   {
    "duration": 34,
    "start_time": "2022-07-25T10:48:11.985Z"
   },
   {
    "duration": 34,
    "start_time": "2022-07-25T10:48:12.021Z"
   },
   {
    "duration": 54,
    "start_time": "2022-07-25T10:48:12.057Z"
   },
   {
    "duration": 15,
    "start_time": "2022-07-25T10:48:12.115Z"
   },
   {
    "duration": 15,
    "start_time": "2022-07-25T10:48:12.135Z"
   },
   {
    "duration": 38,
    "start_time": "2022-07-25T10:48:12.152Z"
   },
   {
    "duration": 19,
    "start_time": "2022-07-25T10:48:12.191Z"
   },
   {
    "duration": 26,
    "start_time": "2022-07-25T10:48:12.212Z"
   },
   {
    "duration": 531,
    "start_time": "2022-07-25T10:48:12.240Z"
   },
   {
    "duration": 9,
    "start_time": "2022-07-25T10:48:12.773Z"
   },
   {
    "duration": 34,
    "start_time": "2022-07-25T10:48:12.783Z"
   },
   {
    "duration": 29,
    "start_time": "2022-07-25T10:48:12.819Z"
   },
   {
    "duration": 19,
    "start_time": "2022-07-25T10:48:12.850Z"
   },
   {
    "duration": 5,
    "start_time": "2022-07-25T10:48:12.871Z"
   },
   {
    "duration": 13,
    "start_time": "2022-07-25T10:48:12.877Z"
   },
   {
    "duration": 802,
    "start_time": "2022-07-25T10:48:12.892Z"
   },
   {
    "duration": 2,
    "start_time": "2022-07-25T10:48:49.560Z"
   },
   {
    "duration": 254,
    "start_time": "2022-07-25T10:48:49.564Z"
   },
   {
    "duration": 7,
    "start_time": "2022-07-25T10:48:49.820Z"
   },
   {
    "duration": 69,
    "start_time": "2022-07-25T10:48:49.829Z"
   },
   {
    "duration": 73,
    "start_time": "2022-07-25T10:48:49.900Z"
   },
   {
    "duration": 33,
    "start_time": "2022-07-25T10:48:49.974Z"
   },
   {
    "duration": 40,
    "start_time": "2022-07-25T10:48:50.008Z"
   },
   {
    "duration": 21,
    "start_time": "2022-07-25T10:48:50.049Z"
   },
   {
    "duration": 102,
    "start_time": "2022-07-25T10:48:50.072Z"
   },
   {
    "duration": 18,
    "start_time": "2022-07-25T10:48:50.175Z"
   },
   {
    "duration": 31,
    "start_time": "2022-07-25T10:48:50.195Z"
   },
   {
    "duration": 32,
    "start_time": "2022-07-25T10:48:50.227Z"
   },
   {
    "duration": 19,
    "start_time": "2022-07-25T10:48:50.261Z"
   },
   {
    "duration": 13,
    "start_time": "2022-07-25T10:48:50.282Z"
   },
   {
    "duration": 11,
    "start_time": "2022-07-25T10:48:50.296Z"
   },
   {
    "duration": 47,
    "start_time": "2022-07-25T10:48:50.309Z"
   },
   {
    "duration": 7,
    "start_time": "2022-07-25T10:48:50.358Z"
   },
   {
    "duration": 15,
    "start_time": "2022-07-25T10:48:50.366Z"
   },
   {
    "duration": 556,
    "start_time": "2022-07-25T10:48:50.383Z"
   },
   {
    "duration": 11,
    "start_time": "2022-07-25T10:48:50.941Z"
   },
   {
    "duration": 32,
    "start_time": "2022-07-25T10:48:50.953Z"
   },
   {
    "duration": 14,
    "start_time": "2022-07-25T10:48:50.987Z"
   },
   {
    "duration": 18,
    "start_time": "2022-07-25T10:48:51.003Z"
   },
   {
    "duration": 25,
    "start_time": "2022-07-25T10:48:51.022Z"
   },
   {
    "duration": 16,
    "start_time": "2022-07-25T10:48:51.048Z"
   },
   {
    "duration": 34,
    "start_time": "2022-07-25T10:50:46.664Z"
   },
   {
    "duration": 430,
    "start_time": "2022-07-25T11:00:47.613Z"
   },
   {
    "duration": 261,
    "start_time": "2022-07-25T11:00:48.046Z"
   },
   {
    "duration": 15,
    "start_time": "2022-07-25T11:00:48.309Z"
   },
   {
    "duration": 77,
    "start_time": "2022-07-25T11:00:48.326Z"
   },
   {
    "duration": 90,
    "start_time": "2022-07-25T11:00:48.405Z"
   },
   {
    "duration": 35,
    "start_time": "2022-07-25T11:00:48.497Z"
   },
   {
    "duration": 29,
    "start_time": "2022-07-25T11:00:48.546Z"
   },
   {
    "duration": 22,
    "start_time": "2022-07-25T11:00:48.577Z"
   },
   {
    "duration": 166,
    "start_time": "2022-07-25T11:00:48.601Z"
   },
   {
    "duration": 19,
    "start_time": "2022-07-25T11:00:48.769Z"
   },
   {
    "duration": 39,
    "start_time": "2022-07-25T11:00:48.790Z"
   },
   {
    "duration": 37,
    "start_time": "2022-07-25T11:00:48.830Z"
   },
   {
    "duration": 39,
    "start_time": "2022-07-25T11:00:48.870Z"
   },
   {
    "duration": 44,
    "start_time": "2022-07-25T11:00:48.911Z"
   },
   {
    "duration": 31,
    "start_time": "2022-07-25T11:00:48.958Z"
   },
   {
    "duration": 42,
    "start_time": "2022-07-25T11:00:48.991Z"
   },
   {
    "duration": 35,
    "start_time": "2022-07-25T11:00:49.036Z"
   },
   {
    "duration": 31,
    "start_time": "2022-07-25T11:00:49.073Z"
   },
   {
    "duration": 602,
    "start_time": "2022-07-25T11:00:49.106Z"
   },
   {
    "duration": 10,
    "start_time": "2022-07-25T11:00:49.709Z"
   },
   {
    "duration": 54,
    "start_time": "2022-07-25T11:00:49.721Z"
   },
   {
    "duration": 16,
    "start_time": "2022-07-25T11:00:49.777Z"
   },
   {
    "duration": 20,
    "start_time": "2022-07-25T11:00:49.795Z"
   },
   {
    "duration": 6,
    "start_time": "2022-07-25T11:00:49.817Z"
   },
   {
    "duration": 14,
    "start_time": "2022-07-25T11:00:49.846Z"
   },
   {
    "duration": 37,
    "start_time": "2022-07-25T11:00:49.862Z"
   },
   {
    "duration": 11,
    "start_time": "2022-07-25T11:01:18.294Z"
   },
   {
    "duration": 11,
    "start_time": "2022-07-25T11:01:37.412Z"
   },
   {
    "duration": 80,
    "start_time": "2022-07-25T11:02:32.532Z"
   },
   {
    "duration": 29,
    "start_time": "2022-07-25T11:03:23.270Z"
   },
   {
    "duration": 9,
    "start_time": "2022-07-25T11:03:29.017Z"
   },
   {
    "duration": 7,
    "start_time": "2022-07-25T11:03:36.349Z"
   },
   {
    "duration": 2,
    "start_time": "2022-07-25T11:04:17.745Z"
   },
   {
    "duration": 269,
    "start_time": "2022-07-25T11:04:17.749Z"
   },
   {
    "duration": 9,
    "start_time": "2022-07-25T11:04:18.019Z"
   },
   {
    "duration": 90,
    "start_time": "2022-07-25T11:04:18.029Z"
   },
   {
    "duration": 113,
    "start_time": "2022-07-25T11:04:18.121Z"
   },
   {
    "duration": 37,
    "start_time": "2022-07-25T11:04:18.245Z"
   },
   {
    "duration": 56,
    "start_time": "2022-07-25T11:04:18.285Z"
   },
   {
    "duration": 20,
    "start_time": "2022-07-25T11:04:18.344Z"
   },
   {
    "duration": 107,
    "start_time": "2022-07-25T11:04:18.367Z"
   },
   {
    "duration": 19,
    "start_time": "2022-07-25T11:04:18.475Z"
   },
   {
    "duration": 36,
    "start_time": "2022-07-25T11:04:18.495Z"
   },
   {
    "duration": 17,
    "start_time": "2022-07-25T11:04:18.546Z"
   },
   {
    "duration": 42,
    "start_time": "2022-07-25T11:04:18.565Z"
   },
   {
    "duration": 13,
    "start_time": "2022-07-25T11:04:18.609Z"
   },
   {
    "duration": 41,
    "start_time": "2022-07-25T11:04:18.624Z"
   },
   {
    "duration": 35,
    "start_time": "2022-07-25T11:04:18.667Z"
   },
   {
    "duration": 16,
    "start_time": "2022-07-25T11:04:18.704Z"
   },
   {
    "duration": 22,
    "start_time": "2022-07-25T11:04:18.721Z"
   },
   {
    "duration": 638,
    "start_time": "2022-07-25T11:04:18.745Z"
   },
   {
    "duration": 10,
    "start_time": "2022-07-25T11:04:19.384Z"
   },
   {
    "duration": 44,
    "start_time": "2022-07-25T11:04:19.395Z"
   },
   {
    "duration": 19,
    "start_time": "2022-07-25T11:04:19.441Z"
   },
   {
    "duration": 21,
    "start_time": "2022-07-25T11:04:19.462Z"
   },
   {
    "duration": 7,
    "start_time": "2022-07-25T11:04:19.486Z"
   },
   {
    "duration": 28,
    "start_time": "2022-07-25T11:04:19.495Z"
   },
   {
    "duration": 389,
    "start_time": "2022-07-25T11:04:47.969Z"
   },
   {
    "duration": 254,
    "start_time": "2022-07-25T11:04:48.360Z"
   },
   {
    "duration": 19,
    "start_time": "2022-07-25T11:04:48.616Z"
   },
   {
    "duration": 78,
    "start_time": "2022-07-25T11:04:48.636Z"
   },
   {
    "duration": 141,
    "start_time": "2022-07-25T11:04:48.717Z"
   },
   {
    "duration": 54,
    "start_time": "2022-07-25T11:04:48.859Z"
   },
   {
    "duration": 43,
    "start_time": "2022-07-25T11:04:48.915Z"
   },
   {
    "duration": 27,
    "start_time": "2022-07-25T11:04:48.960Z"
   },
   {
    "duration": 179,
    "start_time": "2022-07-25T11:04:48.989Z"
   },
   {
    "duration": 25,
    "start_time": "2022-07-25T11:04:49.170Z"
   },
   {
    "duration": 62,
    "start_time": "2022-07-25T11:04:49.197Z"
   },
   {
    "duration": 15,
    "start_time": "2022-07-25T11:04:49.261Z"
   },
   {
    "duration": 25,
    "start_time": "2022-07-25T11:04:49.278Z"
   },
   {
    "duration": 13,
    "start_time": "2022-07-25T11:04:49.306Z"
   },
   {
    "duration": 37,
    "start_time": "2022-07-25T11:04:49.321Z"
   },
   {
    "duration": 43,
    "start_time": "2022-07-25T11:04:49.361Z"
   },
   {
    "duration": 9,
    "start_time": "2022-07-25T11:04:49.406Z"
   },
   {
    "duration": 19,
    "start_time": "2022-07-25T11:04:49.417Z"
   },
   {
    "duration": 518,
    "start_time": "2022-07-25T11:04:49.445Z"
   },
   {
    "duration": 10,
    "start_time": "2022-07-25T11:05:03.218Z"
   },
   {
    "duration": 43,
    "start_time": "2022-07-25T11:06:35.047Z"
   },
   {
    "duration": 16,
    "start_time": "2022-07-25T11:07:03.145Z"
   },
   {
    "duration": 6,
    "start_time": "2022-07-25T11:07:46.711Z"
   },
   {
    "duration": 323,
    "start_time": "2022-07-25T11:08:41.907Z"
   },
   {
    "duration": 88,
    "start_time": "2022-07-25T11:08:56.881Z"
   },
   {
    "duration": 31,
    "start_time": "2022-07-25T11:09:02.343Z"
   },
   {
    "duration": 3,
    "start_time": "2022-07-25T11:10:01.601Z"
   },
   {
    "duration": 327,
    "start_time": "2022-07-25T11:10:01.606Z"
   },
   {
    "duration": 9,
    "start_time": "2022-07-25T11:10:01.935Z"
   },
   {
    "duration": 117,
    "start_time": "2022-07-25T11:10:01.945Z"
   },
   {
    "duration": 100,
    "start_time": "2022-07-25T11:10:02.064Z"
   },
   {
    "duration": 34,
    "start_time": "2022-07-25T11:10:02.166Z"
   },
   {
    "duration": 52,
    "start_time": "2022-07-25T11:10:02.202Z"
   },
   {
    "duration": 33,
    "start_time": "2022-07-25T11:10:02.256Z"
   },
   {
    "duration": 104,
    "start_time": "2022-07-25T11:10:02.291Z"
   },
   {
    "duration": 19,
    "start_time": "2022-07-25T11:10:02.397Z"
   },
   {
    "duration": 49,
    "start_time": "2022-07-25T11:10:02.420Z"
   },
   {
    "duration": 16,
    "start_time": "2022-07-25T11:10:02.471Z"
   },
   {
    "duration": 34,
    "start_time": "2022-07-25T11:10:02.489Z"
   },
   {
    "duration": 27,
    "start_time": "2022-07-25T11:10:02.525Z"
   },
   {
    "duration": 33,
    "start_time": "2022-07-25T11:10:02.553Z"
   },
   {
    "duration": 38,
    "start_time": "2022-07-25T11:10:02.587Z"
   },
   {
    "duration": 19,
    "start_time": "2022-07-25T11:10:02.627Z"
   },
   {
    "duration": 27,
    "start_time": "2022-07-25T11:10:02.647Z"
   },
   {
    "duration": 591,
    "start_time": "2022-07-25T11:10:02.676Z"
   },
   {
    "duration": 10,
    "start_time": "2022-07-25T11:10:03.268Z"
   },
   {
    "duration": 62,
    "start_time": "2022-07-25T11:10:03.280Z"
   },
   {
    "duration": 15,
    "start_time": "2022-07-25T11:10:03.344Z"
   },
   {
    "duration": 6,
    "start_time": "2022-07-25T11:10:46.810Z"
   },
   {
    "duration": 2,
    "start_time": "2022-07-25T11:13:28.858Z"
   },
   {
    "duration": 313,
    "start_time": "2022-07-25T11:13:28.879Z"
   },
   {
    "duration": 9,
    "start_time": "2022-07-25T11:13:29.194Z"
   },
   {
    "duration": 82,
    "start_time": "2022-07-25T11:13:29.204Z"
   },
   {
    "duration": 84,
    "start_time": "2022-07-25T11:13:29.288Z"
   },
   {
    "duration": 32,
    "start_time": "2022-07-25T11:13:29.374Z"
   },
   {
    "duration": 39,
    "start_time": "2022-07-25T11:13:29.408Z"
   },
   {
    "duration": 19,
    "start_time": "2022-07-25T11:13:29.449Z"
   },
   {
    "duration": 109,
    "start_time": "2022-07-25T11:13:29.469Z"
   },
   {
    "duration": 18,
    "start_time": "2022-07-25T11:13:29.580Z"
   },
   {
    "duration": 48,
    "start_time": "2022-07-25T11:13:29.600Z"
   },
   {
    "duration": 14,
    "start_time": "2022-07-25T11:13:29.650Z"
   },
   {
    "duration": 19,
    "start_time": "2022-07-25T11:13:29.666Z"
   },
   {
    "duration": 18,
    "start_time": "2022-07-25T11:13:29.687Z"
   },
   {
    "duration": 41,
    "start_time": "2022-07-25T11:13:29.708Z"
   },
   {
    "duration": 21,
    "start_time": "2022-07-25T11:13:29.751Z"
   },
   {
    "duration": 7,
    "start_time": "2022-07-25T11:13:29.773Z"
   },
   {
    "duration": 12,
    "start_time": "2022-07-25T11:13:29.782Z"
   },
   {
    "duration": 565,
    "start_time": "2022-07-25T11:13:29.796Z"
   },
   {
    "duration": 9,
    "start_time": "2022-07-25T11:13:30.363Z"
   },
   {
    "duration": 36,
    "start_time": "2022-07-25T11:13:30.374Z"
   },
   {
    "duration": 44,
    "start_time": "2022-07-25T11:13:30.412Z"
   },
   {
    "duration": 25,
    "start_time": "2022-07-25T11:13:39.025Z"
   },
   {
    "duration": 8,
    "start_time": "2022-07-25T11:13:44.001Z"
   },
   {
    "duration": 2,
    "start_time": "2022-07-25T11:14:17.359Z"
   },
   {
    "duration": 268,
    "start_time": "2022-07-25T11:14:17.367Z"
   },
   {
    "duration": 8,
    "start_time": "2022-07-25T11:14:17.636Z"
   },
   {
    "duration": 69,
    "start_time": "2022-07-25T11:14:17.646Z"
   },
   {
    "duration": 90,
    "start_time": "2022-07-25T11:14:17.718Z"
   },
   {
    "duration": 38,
    "start_time": "2022-07-25T11:14:17.810Z"
   },
   {
    "duration": 24,
    "start_time": "2022-07-25T11:14:17.850Z"
   },
   {
    "duration": 21,
    "start_time": "2022-07-25T11:14:17.875Z"
   },
   {
    "duration": 115,
    "start_time": "2022-07-25T11:14:17.898Z"
   },
   {
    "duration": 18,
    "start_time": "2022-07-25T11:14:18.015Z"
   },
   {
    "duration": 34,
    "start_time": "2022-07-25T11:14:18.047Z"
   },
   {
    "duration": 14,
    "start_time": "2022-07-25T11:14:18.083Z"
   },
   {
    "duration": 18,
    "start_time": "2022-07-25T11:14:18.098Z"
   },
   {
    "duration": 37,
    "start_time": "2022-07-25T11:14:18.117Z"
   },
   {
    "duration": 9,
    "start_time": "2022-07-25T11:14:18.156Z"
   },
   {
    "duration": 21,
    "start_time": "2022-07-25T11:14:18.166Z"
   },
   {
    "duration": 7,
    "start_time": "2022-07-25T11:14:18.188Z"
   },
   {
    "duration": 17,
    "start_time": "2022-07-25T11:14:18.196Z"
   },
   {
    "duration": 576,
    "start_time": "2022-07-25T11:14:18.215Z"
   },
   {
    "duration": 9,
    "start_time": "2022-07-25T11:14:18.793Z"
   },
   {
    "duration": 42,
    "start_time": "2022-07-25T11:14:18.804Z"
   },
   {
    "duration": 21,
    "start_time": "2022-07-25T11:14:18.848Z"
   },
   {
    "duration": 17,
    "start_time": "2022-07-25T11:14:18.872Z"
   },
   {
    "duration": 2,
    "start_time": "2022-07-25T11:15:30.511Z"
   },
   {
    "duration": 278,
    "start_time": "2022-07-25T11:15:30.515Z"
   },
   {
    "duration": 8,
    "start_time": "2022-07-25T11:15:30.795Z"
   },
   {
    "duration": 84,
    "start_time": "2022-07-25T11:15:30.805Z"
   },
   {
    "duration": 88,
    "start_time": "2022-07-25T11:15:30.891Z"
   },
   {
    "duration": 32,
    "start_time": "2022-07-25T11:15:30.981Z"
   },
   {
    "duration": 46,
    "start_time": "2022-07-25T11:15:31.015Z"
   },
   {
    "duration": 35,
    "start_time": "2022-07-25T11:15:31.063Z"
   },
   {
    "duration": 104,
    "start_time": "2022-07-25T11:15:31.100Z"
   },
   {
    "duration": 20,
    "start_time": "2022-07-25T11:15:31.206Z"
   },
   {
    "duration": 62,
    "start_time": "2022-07-25T11:15:31.227Z"
   },
   {
    "duration": 15,
    "start_time": "2022-07-25T11:15:31.291Z"
   },
   {
    "duration": 33,
    "start_time": "2022-07-25T11:15:31.308Z"
   },
   {
    "duration": 51,
    "start_time": "2022-07-25T11:15:31.343Z"
   },
   {
    "duration": 16,
    "start_time": "2022-07-25T11:15:31.396Z"
   },
   {
    "duration": 38,
    "start_time": "2022-07-25T11:15:31.414Z"
   },
   {
    "duration": 9,
    "start_time": "2022-07-25T11:15:31.453Z"
   },
   {
    "duration": 32,
    "start_time": "2022-07-25T11:15:31.463Z"
   },
   {
    "duration": 601,
    "start_time": "2022-07-25T11:15:31.497Z"
   },
   {
    "duration": 12,
    "start_time": "2022-07-25T11:15:32.101Z"
   },
   {
    "duration": 53,
    "start_time": "2022-07-25T11:15:32.115Z"
   },
   {
    "duration": 16,
    "start_time": "2022-07-25T11:15:32.170Z"
   },
   {
    "duration": 19,
    "start_time": "2022-07-25T11:15:32.187Z"
   },
   {
    "duration": 5,
    "start_time": "2022-07-25T11:15:32.209Z"
   },
   {
    "duration": 40,
    "start_time": "2022-07-25T11:15:32.215Z"
   },
   {
    "duration": 34,
    "start_time": "2022-07-25T11:15:32.257Z"
   },
   {
    "duration": 23,
    "start_time": "2022-07-25T11:15:32.293Z"
   },
   {
    "duration": 30,
    "start_time": "2022-07-25T11:15:32.317Z"
   },
   {
    "duration": 17,
    "start_time": "2022-07-25T11:16:36.603Z"
   },
   {
    "duration": 21,
    "start_time": "2022-07-25T11:17:08.948Z"
   },
   {
    "duration": 3,
    "start_time": "2022-07-25T11:17:14.557Z"
   },
   {
    "duration": 286,
    "start_time": "2022-07-25T11:17:14.562Z"
   },
   {
    "duration": 9,
    "start_time": "2022-07-25T11:17:14.850Z"
   },
   {
    "duration": 76,
    "start_time": "2022-07-25T11:17:14.861Z"
   },
   {
    "duration": 76,
    "start_time": "2022-07-25T11:17:14.945Z"
   },
   {
    "duration": 49,
    "start_time": "2022-07-25T11:17:15.022Z"
   },
   {
    "duration": 27,
    "start_time": "2022-07-25T11:17:15.073Z"
   },
   {
    "duration": 21,
    "start_time": "2022-07-25T11:17:15.101Z"
   },
   {
    "duration": 106,
    "start_time": "2022-07-25T11:17:15.124Z"
   },
   {
    "duration": 28,
    "start_time": "2022-07-25T11:17:15.231Z"
   },
   {
    "duration": 37,
    "start_time": "2022-07-25T11:17:15.260Z"
   },
   {
    "duration": 15,
    "start_time": "2022-07-25T11:17:15.298Z"
   },
   {
    "duration": 50,
    "start_time": "2022-07-25T11:17:15.315Z"
   },
   {
    "duration": 13,
    "start_time": "2022-07-25T11:17:15.368Z"
   },
   {
    "duration": 9,
    "start_time": "2022-07-25T11:17:15.383Z"
   },
   {
    "duration": 20,
    "start_time": "2022-07-25T11:17:15.394Z"
   },
   {
    "duration": 29,
    "start_time": "2022-07-25T11:17:15.416Z"
   },
   {
    "duration": 12,
    "start_time": "2022-07-25T11:17:15.447Z"
   },
   {
    "duration": 572,
    "start_time": "2022-07-25T11:17:15.460Z"
   },
   {
    "duration": 17,
    "start_time": "2022-07-25T11:17:16.034Z"
   },
   {
    "duration": 44,
    "start_time": "2022-07-25T11:17:16.052Z"
   },
   {
    "duration": 16,
    "start_time": "2022-07-25T11:17:16.098Z"
   },
   {
    "duration": 31,
    "start_time": "2022-07-25T11:17:16.115Z"
   },
   {
    "duration": 6,
    "start_time": "2022-07-25T11:17:16.148Z"
   },
   {
    "duration": 18,
    "start_time": "2022-07-25T11:17:16.155Z"
   },
   {
    "duration": 34,
    "start_time": "2022-07-25T11:17:16.175Z"
   },
   {
    "duration": 41,
    "start_time": "2022-07-25T11:17:16.211Z"
   },
   {
    "duration": 3,
    "start_time": "2022-07-25T11:17:45.212Z"
   },
   {
    "duration": 279,
    "start_time": "2022-07-25T11:17:45.217Z"
   },
   {
    "duration": 13,
    "start_time": "2022-07-25T11:17:45.497Z"
   },
   {
    "duration": 77,
    "start_time": "2022-07-25T11:17:45.512Z"
   },
   {
    "duration": 83,
    "start_time": "2022-07-25T11:17:45.590Z"
   },
   {
    "duration": 32,
    "start_time": "2022-07-25T11:17:45.675Z"
   },
   {
    "duration": 37,
    "start_time": "2022-07-25T11:17:45.708Z"
   },
   {
    "duration": 24,
    "start_time": "2022-07-25T11:17:45.747Z"
   },
   {
    "duration": 126,
    "start_time": "2022-07-25T11:17:45.774Z"
   },
   {
    "duration": 22,
    "start_time": "2022-07-25T11:17:45.901Z"
   },
   {
    "duration": 55,
    "start_time": "2022-07-25T11:17:45.925Z"
   },
   {
    "duration": 21,
    "start_time": "2022-07-25T11:17:45.982Z"
   },
   {
    "duration": 22,
    "start_time": "2022-07-25T11:17:46.005Z"
   },
   {
    "duration": 13,
    "start_time": "2022-07-25T11:17:46.046Z"
   },
   {
    "duration": 14,
    "start_time": "2022-07-25T11:17:46.061Z"
   },
   {
    "duration": 26,
    "start_time": "2022-07-25T11:17:46.077Z"
   },
   {
    "duration": 8,
    "start_time": "2022-07-25T11:17:46.104Z"
   },
   {
    "duration": 12,
    "start_time": "2022-07-25T11:17:46.114Z"
   },
   {
    "duration": 524,
    "start_time": "2022-07-25T11:17:46.146Z"
   },
   {
    "duration": 9,
    "start_time": "2022-07-25T11:17:46.672Z"
   },
   {
    "duration": 36,
    "start_time": "2022-07-25T11:17:46.683Z"
   },
   {
    "duration": 31,
    "start_time": "2022-07-25T11:17:46.720Z"
   },
   {
    "duration": 25,
    "start_time": "2022-07-25T11:17:46.753Z"
   },
   {
    "duration": 5,
    "start_time": "2022-07-25T11:17:46.781Z"
   },
   {
    "duration": 18,
    "start_time": "2022-07-25T11:17:46.788Z"
   },
   {
    "duration": 64,
    "start_time": "2022-07-25T11:17:46.808Z"
   },
   {
    "duration": 26,
    "start_time": "2022-07-25T11:17:46.874Z"
   },
   {
    "duration": 6,
    "start_time": "2022-07-25T11:18:11.978Z"
   },
   {
    "duration": 18,
    "start_time": "2022-07-25T11:21:13.655Z"
   },
   {
    "duration": 23,
    "start_time": "2022-07-25T11:23:17.278Z"
   },
   {
    "duration": 19,
    "start_time": "2022-07-25T11:24:57.741Z"
   },
   {
    "duration": 22,
    "start_time": "2022-07-25T11:28:08.285Z"
   },
   {
    "duration": 14,
    "start_time": "2022-07-25T11:28:32.463Z"
   },
   {
    "duration": 17,
    "start_time": "2022-07-25T11:30:07.750Z"
   },
   {
    "duration": 12,
    "start_time": "2022-07-25T11:30:22.868Z"
   },
   {
    "duration": 2,
    "start_time": "2022-07-25T11:31:10.319Z"
   },
   {
    "duration": 270,
    "start_time": "2022-07-25T11:31:10.323Z"
   },
   {
    "duration": 8,
    "start_time": "2022-07-25T11:31:10.595Z"
   },
   {
    "duration": 72,
    "start_time": "2022-07-25T11:31:10.606Z"
   },
   {
    "duration": 83,
    "start_time": "2022-07-25T11:31:10.680Z"
   },
   {
    "duration": 48,
    "start_time": "2022-07-25T11:31:10.765Z"
   },
   {
    "duration": 44,
    "start_time": "2022-07-25T11:31:10.815Z"
   },
   {
    "duration": 23,
    "start_time": "2022-07-25T11:31:10.860Z"
   },
   {
    "duration": 110,
    "start_time": "2022-07-25T11:31:10.884Z"
   },
   {
    "duration": 19,
    "start_time": "2022-07-25T11:31:10.997Z"
   },
   {
    "duration": 45,
    "start_time": "2022-07-25T11:31:11.017Z"
   },
   {
    "duration": 16,
    "start_time": "2022-07-25T11:31:11.063Z"
   },
   {
    "duration": 25,
    "start_time": "2022-07-25T11:31:11.081Z"
   },
   {
    "duration": 14,
    "start_time": "2022-07-25T11:31:11.108Z"
   },
   {
    "duration": 10,
    "start_time": "2022-07-25T11:31:11.146Z"
   },
   {
    "duration": 26,
    "start_time": "2022-07-25T11:31:11.158Z"
   },
   {
    "duration": 11,
    "start_time": "2022-07-25T11:31:11.186Z"
   },
   {
    "duration": 594,
    "start_time": "2022-07-25T11:31:11.198Z"
   },
   {
    "duration": 31,
    "start_time": "2022-07-25T11:31:11.794Z"
   },
   {
    "duration": 30,
    "start_time": "2022-07-25T11:31:11.827Z"
   },
   {
    "duration": 22,
    "start_time": "2022-07-25T11:31:11.859Z"
   },
   {
    "duration": 6,
    "start_time": "2022-07-25T11:31:11.882Z"
   },
   {
    "duration": 18,
    "start_time": "2022-07-25T11:31:11.890Z"
   },
   {
    "duration": 72,
    "start_time": "2022-07-25T11:31:11.911Z"
   },
   {
    "duration": 25,
    "start_time": "2022-07-25T11:31:11.985Z"
   },
   {
    "duration": 16,
    "start_time": "2022-07-25T11:31:12.012Z"
   },
   {
    "duration": 35,
    "start_time": "2022-07-25T11:31:12.029Z"
   },
   {
    "duration": 442,
    "start_time": "2022-07-25T11:31:25.823Z"
   },
   {
    "duration": 269,
    "start_time": "2022-07-25T11:31:26.267Z"
   },
   {
    "duration": 22,
    "start_time": "2022-07-25T11:31:26.538Z"
   },
   {
    "duration": 96,
    "start_time": "2022-07-25T11:31:26.562Z"
   },
   {
    "duration": 94,
    "start_time": "2022-07-25T11:31:26.659Z"
   },
   {
    "duration": 38,
    "start_time": "2022-07-25T11:31:26.755Z"
   },
   {
    "duration": 55,
    "start_time": "2022-07-25T11:31:26.795Z"
   },
   {
    "duration": 36,
    "start_time": "2022-07-25T11:31:26.853Z"
   },
   {
    "duration": 188,
    "start_time": "2022-07-25T11:31:26.891Z"
   },
   {
    "duration": 23,
    "start_time": "2022-07-25T11:31:27.083Z"
   },
   {
    "duration": 112,
    "start_time": "2022-07-25T11:31:27.108Z"
   },
   {
    "duration": 25,
    "start_time": "2022-07-25T11:31:27.222Z"
   },
   {
    "duration": 44,
    "start_time": "2022-07-25T11:31:27.249Z"
   },
   {
    "duration": 48,
    "start_time": "2022-07-25T11:31:27.295Z"
   },
   {
    "duration": 36,
    "start_time": "2022-07-25T11:31:27.345Z"
   },
   {
    "duration": 72,
    "start_time": "2022-07-25T11:31:27.384Z"
   },
   {
    "duration": 25,
    "start_time": "2022-07-25T11:31:27.458Z"
   },
   {
    "duration": 617,
    "start_time": "2022-07-25T11:31:27.485Z"
   },
   {
    "duration": 42,
    "start_time": "2022-07-25T11:31:28.103Z"
   },
   {
    "duration": 23,
    "start_time": "2022-07-25T11:31:28.147Z"
   },
   {
    "duration": 43,
    "start_time": "2022-07-25T11:31:28.171Z"
   },
   {
    "duration": 26,
    "start_time": "2022-07-25T11:31:28.216Z"
   },
   {
    "duration": 46,
    "start_time": "2022-07-25T11:31:28.244Z"
   },
   {
    "duration": 52,
    "start_time": "2022-07-25T11:31:28.292Z"
   },
   {
    "duration": 31,
    "start_time": "2022-07-25T11:31:28.346Z"
   },
   {
    "duration": 37,
    "start_time": "2022-07-25T11:31:28.378Z"
   },
   {
    "duration": 21,
    "start_time": "2022-07-25T11:31:28.417Z"
   },
   {
    "duration": 41,
    "start_time": "2022-07-25T11:31:28.442Z"
   },
   {
    "duration": 3,
    "start_time": "2022-07-25T11:32:30.323Z"
   },
   {
    "duration": 263,
    "start_time": "2022-07-25T11:32:30.354Z"
   },
   {
    "duration": 9,
    "start_time": "2022-07-25T11:32:30.619Z"
   },
   {
    "duration": 105,
    "start_time": "2022-07-25T11:32:30.629Z"
   },
   {
    "duration": 78,
    "start_time": "2022-07-25T11:32:30.736Z"
   },
   {
    "duration": 39,
    "start_time": "2022-07-25T11:32:30.816Z"
   },
   {
    "duration": 47,
    "start_time": "2022-07-25T11:32:30.857Z"
   },
   {
    "duration": 28,
    "start_time": "2022-07-25T11:32:30.906Z"
   },
   {
    "duration": 152,
    "start_time": "2022-07-25T11:32:30.936Z"
   },
   {
    "duration": 19,
    "start_time": "2022-07-25T11:32:31.090Z"
   },
   {
    "duration": 104,
    "start_time": "2022-07-25T11:32:31.111Z"
   },
   {
    "duration": 20,
    "start_time": "2022-07-25T11:32:46.310Z"
   },
   {
    "duration": 14,
    "start_time": "2022-07-25T11:32:50.882Z"
   },
   {
    "duration": 690,
    "start_time": "2022-07-25T11:35:26.224Z"
   },
   {
    "duration": 36,
    "start_time": "2022-07-25T11:36:00.563Z"
   },
   {
    "duration": 27,
    "start_time": "2022-07-25T11:36:23.647Z"
   },
   {
    "duration": 28,
    "start_time": "2022-07-25T11:40:45.050Z"
   },
   {
    "duration": 13,
    "start_time": "2022-07-25T11:42:45.111Z"
   },
   {
    "duration": 3,
    "start_time": "2022-07-25T11:48:02.323Z"
   },
   {
    "duration": 273,
    "start_time": "2022-07-25T11:48:02.343Z"
   },
   {
    "duration": 8,
    "start_time": "2022-07-25T11:48:02.618Z"
   },
   {
    "duration": 73,
    "start_time": "2022-07-25T11:48:02.628Z"
   },
   {
    "duration": 80,
    "start_time": "2022-07-25T11:48:02.702Z"
   },
   {
    "duration": 33,
    "start_time": "2022-07-25T11:48:02.785Z"
   },
   {
    "duration": 40,
    "start_time": "2022-07-25T11:48:02.819Z"
   },
   {
    "duration": 21,
    "start_time": "2022-07-25T11:48:02.861Z"
   },
   {
    "duration": 103,
    "start_time": "2022-07-25T11:48:02.884Z"
   },
   {
    "duration": 18,
    "start_time": "2022-07-25T11:48:02.989Z"
   },
   {
    "duration": 61,
    "start_time": "2022-07-25T11:48:03.008Z"
   },
   {
    "duration": 17,
    "start_time": "2022-07-25T11:48:03.071Z"
   },
   {
    "duration": 14,
    "start_time": "2022-07-25T11:48:03.089Z"
   },
   {
    "duration": 10,
    "start_time": "2022-07-25T11:48:03.104Z"
   },
   {
    "duration": 43,
    "start_time": "2022-07-25T11:48:03.116Z"
   },
   {
    "duration": 11,
    "start_time": "2022-07-25T11:48:03.160Z"
   },
   {
    "duration": 594,
    "start_time": "2022-07-25T11:48:03.173Z"
   },
   {
    "duration": 32,
    "start_time": "2022-07-25T11:48:03.769Z"
   },
   {
    "duration": 15,
    "start_time": "2022-07-25T11:48:03.803Z"
   },
   {
    "duration": 39,
    "start_time": "2022-07-25T11:48:03.820Z"
   },
   {
    "duration": 12,
    "start_time": "2022-07-25T11:48:03.861Z"
   },
   {
    "duration": 42,
    "start_time": "2022-07-25T11:48:03.875Z"
   },
   {
    "duration": 53,
    "start_time": "2022-07-25T11:48:03.919Z"
   },
   {
    "duration": 19,
    "start_time": "2022-07-25T11:48:03.973Z"
   },
   {
    "duration": 23,
    "start_time": "2022-07-25T11:48:03.994Z"
   },
   {
    "duration": 31,
    "start_time": "2022-07-25T11:48:04.019Z"
   },
   {
    "duration": 2,
    "start_time": "2022-07-25T12:01:10.948Z"
   },
   {
    "duration": 312,
    "start_time": "2022-07-25T12:01:10.952Z"
   },
   {
    "duration": 8,
    "start_time": "2022-07-25T12:01:11.266Z"
   },
   {
    "duration": 82,
    "start_time": "2022-07-25T12:01:11.275Z"
   },
   {
    "duration": 89,
    "start_time": "2022-07-25T12:01:11.359Z"
   },
   {
    "duration": 38,
    "start_time": "2022-07-25T12:01:11.449Z"
   },
   {
    "duration": 33,
    "start_time": "2022-07-25T12:01:11.488Z"
   },
   {
    "duration": 45,
    "start_time": "2022-07-25T12:01:11.523Z"
   },
   {
    "duration": 118,
    "start_time": "2022-07-25T12:01:11.570Z"
   },
   {
    "duration": 20,
    "start_time": "2022-07-25T12:01:11.689Z"
   },
   {
    "duration": 60,
    "start_time": "2022-07-25T12:01:11.711Z"
   },
   {
    "duration": 19,
    "start_time": "2022-07-25T12:01:11.773Z"
   },
   {
    "duration": 14,
    "start_time": "2022-07-25T12:01:11.793Z"
   },
   {
    "duration": 38,
    "start_time": "2022-07-25T12:01:11.809Z"
   },
   {
    "duration": 23,
    "start_time": "2022-07-25T12:01:11.848Z"
   },
   {
    "duration": 17,
    "start_time": "2022-07-25T12:01:11.873Z"
   },
   {
    "duration": 606,
    "start_time": "2022-07-25T12:01:11.894Z"
   },
   {
    "duration": 32,
    "start_time": "2022-07-25T12:01:12.501Z"
   },
   {
    "duration": 17,
    "start_time": "2022-07-25T12:01:12.545Z"
   },
   {
    "duration": 19,
    "start_time": "2022-07-25T12:01:12.564Z"
   },
   {
    "duration": 13,
    "start_time": "2022-07-25T12:01:12.585Z"
   },
   {
    "duration": 58,
    "start_time": "2022-07-25T12:01:12.599Z"
   },
   {
    "duration": 24,
    "start_time": "2022-07-25T12:01:12.659Z"
   },
   {
    "duration": 17,
    "start_time": "2022-07-25T12:01:12.685Z"
   },
   {
    "duration": 19,
    "start_time": "2022-07-25T12:01:12.704Z"
   },
   {
    "duration": 13,
    "start_time": "2022-07-25T12:01:12.745Z"
   },
   {
    "duration": 3,
    "start_time": "2022-07-25T12:03:30.008Z"
   },
   {
    "duration": 286,
    "start_time": "2022-07-25T12:03:30.012Z"
   },
   {
    "duration": 8,
    "start_time": "2022-07-25T12:03:30.300Z"
   },
   {
    "duration": 91,
    "start_time": "2022-07-25T12:03:30.310Z"
   },
   {
    "duration": 81,
    "start_time": "2022-07-25T12:03:30.403Z"
   },
   {
    "duration": 32,
    "start_time": "2022-07-25T12:03:30.486Z"
   },
   {
    "duration": 38,
    "start_time": "2022-07-25T12:03:30.519Z"
   },
   {
    "duration": 35,
    "start_time": "2022-07-25T12:03:30.559Z"
   },
   {
    "duration": 111,
    "start_time": "2022-07-25T12:03:30.596Z"
   },
   {
    "duration": 19,
    "start_time": "2022-07-25T12:03:30.708Z"
   },
   {
    "duration": 91,
    "start_time": "2022-07-25T12:03:30.729Z"
   },
   {
    "duration": 17,
    "start_time": "2022-07-25T12:03:30.822Z"
   },
   {
    "duration": 35,
    "start_time": "2022-07-25T12:03:30.841Z"
   },
   {
    "duration": 31,
    "start_time": "2022-07-25T12:03:30.877Z"
   },
   {
    "duration": 38,
    "start_time": "2022-07-25T12:03:30.910Z"
   },
   {
    "duration": 33,
    "start_time": "2022-07-25T12:03:30.950Z"
   },
   {
    "duration": 579,
    "start_time": "2022-07-25T12:03:30.985Z"
   },
   {
    "duration": 30,
    "start_time": "2022-07-25T12:03:31.565Z"
   },
   {
    "duration": 14,
    "start_time": "2022-07-25T12:03:31.597Z"
   },
   {
    "duration": 40,
    "start_time": "2022-07-25T12:03:31.612Z"
   },
   {
    "duration": 18,
    "start_time": "2022-07-25T12:03:31.653Z"
   },
   {
    "duration": 39,
    "start_time": "2022-07-25T12:03:31.672Z"
   },
   {
    "duration": 3,
    "start_time": "2022-07-25T12:03:31.712Z"
   },
   {
    "duration": 34,
    "start_time": "2022-07-25T12:03:31.717Z"
   },
   {
    "duration": 113,
    "start_time": "2022-07-25T12:03:31.753Z"
   },
   {
    "duration": 0,
    "start_time": "2022-07-25T12:03:31.868Z"
   },
   {
    "duration": 3,
    "start_time": "2022-07-25T12:04:23.075Z"
   },
   {
    "duration": 251,
    "start_time": "2022-07-25T12:04:23.082Z"
   },
   {
    "duration": 8,
    "start_time": "2022-07-25T12:04:23.335Z"
   },
   {
    "duration": 73,
    "start_time": "2022-07-25T12:04:23.344Z"
   },
   {
    "duration": 75,
    "start_time": "2022-07-25T12:04:23.419Z"
   },
   {
    "duration": 36,
    "start_time": "2022-07-25T12:04:23.496Z"
   },
   {
    "duration": 25,
    "start_time": "2022-07-25T12:04:23.545Z"
   },
   {
    "duration": 20,
    "start_time": "2022-07-25T12:04:23.572Z"
   },
   {
    "duration": 106,
    "start_time": "2022-07-25T12:04:23.594Z"
   },
   {
    "duration": 19,
    "start_time": "2022-07-25T12:04:23.702Z"
   },
   {
    "duration": 59,
    "start_time": "2022-07-25T12:04:23.724Z"
   },
   {
    "duration": 19,
    "start_time": "2022-07-25T12:04:23.784Z"
   },
   {
    "duration": 13,
    "start_time": "2022-07-25T12:04:23.805Z"
   },
   {
    "duration": 28,
    "start_time": "2022-07-25T12:04:23.819Z"
   },
   {
    "duration": 24,
    "start_time": "2022-07-25T12:04:23.850Z"
   },
   {
    "duration": 14,
    "start_time": "2022-07-25T12:04:23.875Z"
   },
   {
    "duration": 601,
    "start_time": "2022-07-25T12:04:23.891Z"
   },
   {
    "duration": 30,
    "start_time": "2022-07-25T12:04:24.494Z"
   },
   {
    "duration": 25,
    "start_time": "2022-07-25T12:04:24.525Z"
   },
   {
    "duration": 21,
    "start_time": "2022-07-25T12:04:24.552Z"
   },
   {
    "duration": 10,
    "start_time": "2022-07-25T12:04:24.575Z"
   },
   {
    "duration": 42,
    "start_time": "2022-07-25T12:04:24.586Z"
   },
   {
    "duration": 31,
    "start_time": "2022-07-25T12:04:24.640Z"
   },
   {
    "duration": 16,
    "start_time": "2022-07-25T12:04:24.673Z"
   },
   {
    "duration": 15,
    "start_time": "2022-07-25T12:04:24.691Z"
   },
   {
    "duration": 10,
    "start_time": "2022-07-25T12:04:24.708Z"
   },
   {
    "duration": 3,
    "start_time": "2022-07-25T12:08:15.179Z"
   },
   {
    "duration": 307,
    "start_time": "2022-07-25T12:08:15.183Z"
   },
   {
    "duration": 10,
    "start_time": "2022-07-25T12:08:15.492Z"
   },
   {
    "duration": 101,
    "start_time": "2022-07-25T12:08:15.505Z"
   },
   {
    "duration": 88,
    "start_time": "2022-07-25T12:08:15.608Z"
   },
   {
    "duration": 31,
    "start_time": "2022-07-25T12:08:15.698Z"
   },
   {
    "duration": 42,
    "start_time": "2022-07-25T12:08:15.731Z"
   },
   {
    "duration": 35,
    "start_time": "2022-07-25T12:08:15.775Z"
   },
   {
    "duration": 121,
    "start_time": "2022-07-25T12:08:15.813Z"
   },
   {
    "duration": 25,
    "start_time": "2022-07-25T12:08:15.935Z"
   },
   {
    "duration": 56,
    "start_time": "2022-07-25T12:08:15.962Z"
   },
   {
    "duration": 29,
    "start_time": "2022-07-25T12:08:16.020Z"
   },
   {
    "duration": 27,
    "start_time": "2022-07-25T12:08:16.051Z"
   },
   {
    "duration": 9,
    "start_time": "2022-07-25T12:08:16.080Z"
   },
   {
    "duration": 49,
    "start_time": "2022-07-25T12:08:16.091Z"
   },
   {
    "duration": 14,
    "start_time": "2022-07-25T12:08:16.142Z"
   },
   {
    "duration": 646,
    "start_time": "2022-07-25T12:08:16.158Z"
   },
   {
    "duration": 31,
    "start_time": "2022-07-25T12:08:16.805Z"
   },
   {
    "duration": 25,
    "start_time": "2022-07-25T12:08:16.845Z"
   },
   {
    "duration": 20,
    "start_time": "2022-07-25T12:08:16.872Z"
   },
   {
    "duration": 11,
    "start_time": "2022-07-25T12:08:16.894Z"
   },
   {
    "duration": 68,
    "start_time": "2022-07-25T12:08:16.907Z"
   },
   {
    "duration": 3,
    "start_time": "2022-07-25T12:08:16.977Z"
   },
   {
    "duration": 45,
    "start_time": "2022-07-25T12:08:16.982Z"
   },
   {
    "duration": 40,
    "start_time": "2022-07-25T12:08:17.028Z"
   },
   {
    "duration": 0,
    "start_time": "2022-07-25T12:08:17.070Z"
   },
   {
    "duration": 3,
    "start_time": "2022-07-25T12:09:12.282Z"
   },
   {
    "duration": 268,
    "start_time": "2022-07-25T12:09:12.287Z"
   },
   {
    "duration": 9,
    "start_time": "2022-07-25T12:09:12.557Z"
   },
   {
    "duration": 88,
    "start_time": "2022-07-25T12:09:12.568Z"
   },
   {
    "duration": 76,
    "start_time": "2022-07-25T12:09:12.658Z"
   },
   {
    "duration": 48,
    "start_time": "2022-07-25T12:09:12.736Z"
   },
   {
    "duration": 25,
    "start_time": "2022-07-25T12:09:12.786Z"
   },
   {
    "duration": 50,
    "start_time": "2022-07-25T12:09:12.813Z"
   },
   {
    "duration": 141,
    "start_time": "2022-07-25T12:09:12.866Z"
   },
   {
    "duration": 38,
    "start_time": "2022-07-25T12:09:13.009Z"
   },
   {
    "duration": 47,
    "start_time": "2022-07-25T12:09:13.049Z"
   },
   {
    "duration": 17,
    "start_time": "2022-07-25T12:09:13.097Z"
   },
   {
    "duration": 32,
    "start_time": "2022-07-25T12:09:13.116Z"
   },
   {
    "duration": 18,
    "start_time": "2022-07-25T12:09:13.150Z"
   },
   {
    "duration": 25,
    "start_time": "2022-07-25T12:09:13.170Z"
   },
   {
    "duration": 12,
    "start_time": "2022-07-25T12:09:13.197Z"
   },
   {
    "duration": 596,
    "start_time": "2022-07-25T12:09:13.211Z"
   },
   {
    "duration": 30,
    "start_time": "2022-07-25T12:09:13.808Z"
   },
   {
    "duration": 22,
    "start_time": "2022-07-25T12:09:13.847Z"
   },
   {
    "duration": 20,
    "start_time": "2022-07-25T12:09:13.871Z"
   },
   {
    "duration": 11,
    "start_time": "2022-07-25T12:09:13.893Z"
   },
   {
    "duration": 73,
    "start_time": "2022-07-25T12:09:13.905Z"
   },
   {
    "duration": 21,
    "start_time": "2022-07-25T12:09:13.980Z"
   },
   {
    "duration": 14,
    "start_time": "2022-07-25T12:09:14.004Z"
   },
   {
    "duration": 42,
    "start_time": "2022-07-25T12:09:14.020Z"
   },
   {
    "duration": 0,
    "start_time": "2022-07-25T12:09:14.064Z"
   },
   {
    "duration": 16,
    "start_time": "2022-07-25T12:09:44.424Z"
   },
   {
    "duration": 3,
    "start_time": "2022-07-25T12:09:52.109Z"
   },
   {
    "duration": 311,
    "start_time": "2022-07-25T12:09:52.116Z"
   },
   {
    "duration": 9,
    "start_time": "2022-07-25T12:09:52.429Z"
   },
   {
    "duration": 96,
    "start_time": "2022-07-25T12:09:52.440Z"
   },
   {
    "duration": 81,
    "start_time": "2022-07-25T12:09:52.538Z"
   },
   {
    "duration": 51,
    "start_time": "2022-07-25T12:09:52.620Z"
   },
   {
    "duration": 35,
    "start_time": "2022-07-25T12:09:52.673Z"
   },
   {
    "duration": 22,
    "start_time": "2022-07-25T12:09:52.710Z"
   },
   {
    "duration": 113,
    "start_time": "2022-07-25T12:09:52.733Z"
   },
   {
    "duration": 23,
    "start_time": "2022-07-25T12:09:52.849Z"
   },
   {
    "duration": 38,
    "start_time": "2022-07-25T12:09:52.875Z"
   },
   {
    "duration": 46,
    "start_time": "2022-07-25T12:09:52.915Z"
   },
   {
    "duration": 14,
    "start_time": "2022-07-25T12:09:52.963Z"
   },
   {
    "duration": 13,
    "start_time": "2022-07-25T12:09:52.979Z"
   },
   {
    "duration": 32,
    "start_time": "2022-07-25T12:09:52.993Z"
   },
   {
    "duration": 11,
    "start_time": "2022-07-25T12:09:53.027Z"
   },
   {
    "duration": 624,
    "start_time": "2022-07-25T12:09:53.039Z"
   },
   {
    "duration": 33,
    "start_time": "2022-07-25T12:09:53.665Z"
   },
   {
    "duration": 17,
    "start_time": "2022-07-25T12:09:53.699Z"
   },
   {
    "duration": 47,
    "start_time": "2022-07-25T12:09:53.718Z"
   },
   {
    "duration": 11,
    "start_time": "2022-07-25T12:09:53.767Z"
   },
   {
    "duration": 31,
    "start_time": "2022-07-25T12:09:53.780Z"
   },
   {
    "duration": 45,
    "start_time": "2022-07-25T12:09:53.812Z"
   },
   {
    "duration": 16,
    "start_time": "2022-07-25T12:09:53.860Z"
   },
   {
    "duration": 19,
    "start_time": "2022-07-25T12:09:53.877Z"
   },
   {
    "duration": 0,
    "start_time": "2022-07-25T12:09:53.898Z"
   },
   {
    "duration": 3,
    "start_time": "2022-07-25T12:11:06.793Z"
   },
   {
    "duration": 294,
    "start_time": "2022-07-25T12:11:06.798Z"
   },
   {
    "duration": 9,
    "start_time": "2022-07-25T12:11:07.094Z"
   },
   {
    "duration": 84,
    "start_time": "2022-07-25T12:11:07.105Z"
   },
   {
    "duration": 93,
    "start_time": "2022-07-25T12:11:07.191Z"
   },
   {
    "duration": 33,
    "start_time": "2022-07-25T12:11:07.286Z"
   },
   {
    "duration": 48,
    "start_time": "2022-07-25T12:11:07.320Z"
   },
   {
    "duration": 23,
    "start_time": "2022-07-25T12:11:07.370Z"
   },
   {
    "duration": 126,
    "start_time": "2022-07-25T12:11:07.394Z"
   },
   {
    "duration": 26,
    "start_time": "2022-07-25T12:11:07.521Z"
   },
   {
    "duration": 52,
    "start_time": "2022-07-25T12:11:07.550Z"
   },
   {
    "duration": 20,
    "start_time": "2022-07-25T12:11:07.603Z"
   },
   {
    "duration": 37,
    "start_time": "2022-07-25T12:11:07.625Z"
   },
   {
    "duration": 15,
    "start_time": "2022-07-25T12:11:07.663Z"
   },
   {
    "duration": 21,
    "start_time": "2022-07-25T12:11:07.680Z"
   },
   {
    "duration": 10,
    "start_time": "2022-07-25T12:11:07.703Z"
   },
   {
    "duration": 670,
    "start_time": "2022-07-25T12:11:07.715Z"
   },
   {
    "duration": 30,
    "start_time": "2022-07-25T12:11:08.387Z"
   },
   {
    "duration": 34,
    "start_time": "2022-07-25T12:11:08.419Z"
   },
   {
    "duration": 23,
    "start_time": "2022-07-25T12:11:08.455Z"
   },
   {
    "duration": 11,
    "start_time": "2022-07-25T12:11:08.480Z"
   },
   {
    "duration": 54,
    "start_time": "2022-07-25T12:11:08.493Z"
   },
   {
    "duration": 26,
    "start_time": "2022-07-25T12:11:08.549Z"
   },
   {
    "duration": 15,
    "start_time": "2022-07-25T12:11:08.577Z"
   },
   {
    "duration": 18,
    "start_time": "2022-07-25T12:11:14.702Z"
   },
   {
    "duration": 15,
    "start_time": "2022-07-25T12:11:53.281Z"
   },
   {
    "duration": 12,
    "start_time": "2022-07-25T12:11:57.980Z"
   },
   {
    "duration": 2,
    "start_time": "2022-07-25T12:13:30.415Z"
   },
   {
    "duration": 294,
    "start_time": "2022-07-25T12:13:30.423Z"
   },
   {
    "duration": 9,
    "start_time": "2022-07-25T12:13:30.719Z"
   },
   {
    "duration": 89,
    "start_time": "2022-07-25T12:13:30.730Z"
   },
   {
    "duration": 89,
    "start_time": "2022-07-25T12:13:30.820Z"
   },
   {
    "duration": 43,
    "start_time": "2022-07-25T12:13:30.911Z"
   },
   {
    "duration": 42,
    "start_time": "2022-07-25T12:13:30.962Z"
   },
   {
    "duration": 34,
    "start_time": "2022-07-25T12:13:31.005Z"
   },
   {
    "duration": 144,
    "start_time": "2022-07-25T12:13:31.040Z"
   },
   {
    "duration": 19,
    "start_time": "2022-07-25T12:13:31.186Z"
   },
   {
    "duration": 94,
    "start_time": "2022-07-25T12:13:31.207Z"
   },
   {
    "duration": 20,
    "start_time": "2022-07-25T12:13:31.303Z"
   },
   {
    "duration": 45,
    "start_time": "2022-07-25T12:13:31.325Z"
   },
   {
    "duration": 22,
    "start_time": "2022-07-25T12:13:31.372Z"
   },
   {
    "duration": 45,
    "start_time": "2022-07-25T12:13:31.397Z"
   },
   {
    "duration": 33,
    "start_time": "2022-07-25T12:13:31.444Z"
   },
   {
    "duration": 656,
    "start_time": "2022-07-25T12:13:31.479Z"
   },
   {
    "duration": 49,
    "start_time": "2022-07-25T12:13:32.137Z"
   },
   {
    "duration": 19,
    "start_time": "2022-07-25T12:13:32.188Z"
   },
   {
    "duration": 47,
    "start_time": "2022-07-25T12:13:32.209Z"
   },
   {
    "duration": 33,
    "start_time": "2022-07-25T12:13:32.258Z"
   },
   {
    "duration": 32,
    "start_time": "2022-07-25T12:13:32.293Z"
   },
   {
    "duration": 33,
    "start_time": "2022-07-25T12:13:32.326Z"
   },
   {
    "duration": 23,
    "start_time": "2022-07-25T12:13:32.362Z"
   },
   {
    "duration": 19,
    "start_time": "2022-07-25T12:13:32.387Z"
   },
   {
    "duration": 18,
    "start_time": "2022-07-25T12:13:32.407Z"
   },
   {
    "duration": 15,
    "start_time": "2022-07-25T12:15:05.168Z"
   },
   {
    "duration": 20,
    "start_time": "2022-07-25T12:15:18.183Z"
   },
   {
    "duration": 22,
    "start_time": "2022-07-25T12:15:52.202Z"
   },
   {
    "duration": 12,
    "start_time": "2022-07-25T12:16:15.154Z"
   },
   {
    "duration": 13,
    "start_time": "2022-07-25T12:16:32.274Z"
   },
   {
    "duration": 13,
    "start_time": "2022-07-25T12:16:41.543Z"
   },
   {
    "duration": 9,
    "start_time": "2022-07-25T12:18:32.896Z"
   },
   {
    "duration": 12,
    "start_time": "2022-07-25T12:20:44.000Z"
   },
   {
    "duration": 16,
    "start_time": "2022-07-25T12:21:59.064Z"
   },
   {
    "duration": 14,
    "start_time": "2022-07-25T12:22:06.077Z"
   },
   {
    "duration": 15,
    "start_time": "2022-07-25T12:22:22.991Z"
   },
   {
    "duration": 13,
    "start_time": "2022-07-25T12:22:30.912Z"
   },
   {
    "duration": 17,
    "start_time": "2022-07-25T12:24:53.872Z"
   },
   {
    "duration": 16,
    "start_time": "2022-07-25T12:24:58.461Z"
   },
   {
    "duration": 16,
    "start_time": "2022-07-25T12:25:08.277Z"
   },
   {
    "duration": 17,
    "start_time": "2022-07-25T12:25:14.596Z"
   },
   {
    "duration": 6,
    "start_time": "2022-07-25T12:26:20.976Z"
   },
   {
    "duration": 21,
    "start_time": "2022-07-25T12:26:26.679Z"
   },
   {
    "duration": 15,
    "start_time": "2022-07-25T12:28:38.869Z"
   },
   {
    "duration": 377,
    "start_time": "2022-07-25T14:58:44.119Z"
   },
   {
    "duration": 723,
    "start_time": "2022-07-25T14:58:44.498Z"
   },
   {
    "duration": 15,
    "start_time": "2022-07-25T14:58:45.222Z"
   },
   {
    "duration": 83,
    "start_time": "2022-07-25T14:58:45.238Z"
   },
   {
    "duration": 94,
    "start_time": "2022-07-25T14:58:45.323Z"
   },
   {
    "duration": 46,
    "start_time": "2022-07-25T14:58:45.418Z"
   },
   {
    "duration": 32,
    "start_time": "2022-07-25T14:58:45.466Z"
   },
   {
    "duration": 22,
    "start_time": "2022-07-25T14:58:45.500Z"
   },
   {
    "duration": 205,
    "start_time": "2022-07-25T14:58:45.524Z"
   },
   {
    "duration": 17,
    "start_time": "2022-07-25T14:58:45.731Z"
   },
   {
    "duration": 68,
    "start_time": "2022-07-25T14:58:45.750Z"
   },
   {
    "duration": 20,
    "start_time": "2022-07-25T14:58:45.819Z"
   },
   {
    "duration": 32,
    "start_time": "2022-07-25T14:58:45.840Z"
   },
   {
    "duration": 15,
    "start_time": "2022-07-25T14:58:45.877Z"
   },
   {
    "duration": 30,
    "start_time": "2022-07-25T14:58:45.894Z"
   },
   {
    "duration": 12,
    "start_time": "2022-07-25T14:58:45.925Z"
   },
   {
    "duration": 636,
    "start_time": "2022-07-25T14:58:45.939Z"
   },
   {
    "duration": 38,
    "start_time": "2022-07-25T14:58:46.576Z"
   },
   {
    "duration": 16,
    "start_time": "2022-07-25T14:58:46.615Z"
   },
   {
    "duration": 51,
    "start_time": "2022-07-25T14:58:46.632Z"
   },
   {
    "duration": 13,
    "start_time": "2022-07-25T14:58:46.684Z"
   },
   {
    "duration": 45,
    "start_time": "2022-07-25T14:58:46.698Z"
   },
   {
    "duration": 50,
    "start_time": "2022-07-25T14:58:46.745Z"
   },
   {
    "duration": 17,
    "start_time": "2022-07-25T14:58:46.796Z"
   },
   {
    "duration": 19,
    "start_time": "2022-07-25T14:58:46.815Z"
   },
   {
    "duration": 31,
    "start_time": "2022-07-25T14:58:46.836Z"
   },
   {
    "duration": 27,
    "start_time": "2022-07-25T14:58:46.869Z"
   },
   {
    "duration": 13,
    "start_time": "2022-07-25T14:58:46.898Z"
   },
   {
    "duration": 11,
    "start_time": "2022-07-25T14:59:36.057Z"
   },
   {
    "duration": 10,
    "start_time": "2022-07-25T14:59:59.780Z"
   },
   {
    "duration": 93,
    "start_time": "2022-07-25T15:02:03.909Z"
   },
   {
    "duration": 22,
    "start_time": "2022-07-25T15:02:31.681Z"
   },
   {
    "duration": 484,
    "start_time": "2022-07-25T15:03:13.381Z"
   },
   {
    "duration": 2,
    "start_time": "2022-07-25T15:03:25.957Z"
   },
   {
    "duration": 334,
    "start_time": "2022-07-25T15:03:25.964Z"
   },
   {
    "duration": 12,
    "start_time": "2022-07-25T15:03:26.300Z"
   },
   {
    "duration": 120,
    "start_time": "2022-07-25T15:03:26.314Z"
   },
   {
    "duration": 103,
    "start_time": "2022-07-25T15:03:26.436Z"
   },
   {
    "duration": 51,
    "start_time": "2022-07-25T15:03:26.541Z"
   },
   {
    "duration": 72,
    "start_time": "2022-07-25T15:03:26.594Z"
   },
   {
    "duration": 38,
    "start_time": "2022-07-25T15:03:26.668Z"
   },
   {
    "duration": 107,
    "start_time": "2022-07-25T15:03:26.708Z"
   },
   {
    "duration": 17,
    "start_time": "2022-07-25T15:03:26.816Z"
   },
   {
    "duration": 67,
    "start_time": "2022-07-25T15:03:26.835Z"
   },
   {
    "duration": 17,
    "start_time": "2022-07-25T15:03:26.903Z"
   },
   {
    "duration": 12,
    "start_time": "2022-07-25T15:03:26.922Z"
   },
   {
    "duration": 10,
    "start_time": "2022-07-25T15:03:26.935Z"
   },
   {
    "duration": 42,
    "start_time": "2022-07-25T15:03:26.947Z"
   },
   {
    "duration": 11,
    "start_time": "2022-07-25T15:03:26.991Z"
   },
   {
    "duration": 643,
    "start_time": "2022-07-25T15:03:27.003Z"
   },
   {
    "duration": 550,
    "start_time": "2022-07-25T15:03:27.648Z"
   },
   {
    "duration": 3,
    "start_time": "2022-07-25T15:03:39.945Z"
   },
   {
    "duration": 287,
    "start_time": "2022-07-25T15:03:39.950Z"
   },
   {
    "duration": 9,
    "start_time": "2022-07-25T15:03:40.239Z"
   },
   {
    "duration": 79,
    "start_time": "2022-07-25T15:03:40.250Z"
   },
   {
    "duration": 100,
    "start_time": "2022-07-25T15:03:40.331Z"
   },
   {
    "duration": 48,
    "start_time": "2022-07-25T15:03:40.433Z"
   },
   {
    "duration": 30,
    "start_time": "2022-07-25T15:03:40.483Z"
   },
   {
    "duration": 23,
    "start_time": "2022-07-25T15:03:40.515Z"
   },
   {
    "duration": 127,
    "start_time": "2022-07-25T15:03:40.539Z"
   },
   {
    "duration": 28,
    "start_time": "2022-07-25T15:03:40.668Z"
   },
   {
    "duration": 67,
    "start_time": "2022-07-25T15:03:40.698Z"
   },
   {
    "duration": 22,
    "start_time": "2022-07-25T15:03:40.766Z"
   },
   {
    "duration": 15,
    "start_time": "2022-07-25T15:03:40.790Z"
   },
   {
    "duration": 10,
    "start_time": "2022-07-25T15:03:40.807Z"
   },
   {
    "duration": 47,
    "start_time": "2022-07-25T15:03:40.818Z"
   },
   {
    "duration": 13,
    "start_time": "2022-07-25T15:03:40.867Z"
   },
   {
    "duration": 619,
    "start_time": "2022-07-25T15:03:40.883Z"
   },
   {
    "duration": 485,
    "start_time": "2022-07-25T15:03:41.504Z"
   },
   {
    "duration": 3,
    "start_time": "2022-07-25T15:04:14.776Z"
   },
   {
    "duration": 303,
    "start_time": "2022-07-25T15:04:14.780Z"
   },
   {
    "duration": 8,
    "start_time": "2022-07-25T15:04:15.085Z"
   },
   {
    "duration": 86,
    "start_time": "2022-07-25T15:04:15.360Z"
   },
   {
    "duration": 90,
    "start_time": "2022-07-25T15:04:15.448Z"
   },
   {
    "duration": 50,
    "start_time": "2022-07-25T15:04:15.540Z"
   },
   {
    "duration": 26,
    "start_time": "2022-07-25T15:04:15.591Z"
   },
   {
    "duration": 21,
    "start_time": "2022-07-25T15:04:15.619Z"
   },
   {
    "duration": 110,
    "start_time": "2022-07-25T15:04:15.667Z"
   },
   {
    "duration": 19,
    "start_time": "2022-07-25T15:04:15.779Z"
   },
   {
    "duration": 49,
    "start_time": "2022-07-25T15:04:15.799Z"
   },
   {
    "duration": 37,
    "start_time": "2022-07-25T15:04:15.849Z"
   },
   {
    "duration": 14,
    "start_time": "2022-07-25T15:04:15.888Z"
   },
   {
    "duration": 10,
    "start_time": "2022-07-25T15:04:15.903Z"
   },
   {
    "duration": 25,
    "start_time": "2022-07-25T15:04:15.914Z"
   },
   {
    "duration": 38,
    "start_time": "2022-07-25T15:04:15.941Z"
   },
   {
    "duration": 635,
    "start_time": "2022-07-25T15:04:15.981Z"
   },
   {
    "duration": 30,
    "start_time": "2022-07-25T15:04:16.618Z"
   },
   {
    "duration": 2,
    "start_time": "2022-07-25T15:04:36.314Z"
   },
   {
    "duration": 283,
    "start_time": "2022-07-25T15:04:36.318Z"
   },
   {
    "duration": 8,
    "start_time": "2022-07-25T15:04:36.603Z"
   },
   {
    "duration": 87,
    "start_time": "2022-07-25T15:04:36.613Z"
   },
   {
    "duration": 84,
    "start_time": "2022-07-25T15:04:36.702Z"
   },
   {
    "duration": 32,
    "start_time": "2022-07-25T15:04:36.789Z"
   },
   {
    "duration": 47,
    "start_time": "2022-07-25T15:04:36.822Z"
   },
   {
    "duration": 25,
    "start_time": "2022-07-25T15:04:36.871Z"
   },
   {
    "duration": 111,
    "start_time": "2022-07-25T15:04:36.898Z"
   },
   {
    "duration": 18,
    "start_time": "2022-07-25T15:04:37.011Z"
   },
   {
    "duration": 65,
    "start_time": "2022-07-25T15:04:37.031Z"
   },
   {
    "duration": 17,
    "start_time": "2022-07-25T15:04:37.099Z"
   },
   {
    "duration": 13,
    "start_time": "2022-07-25T15:04:37.118Z"
   },
   {
    "duration": 9,
    "start_time": "2022-07-25T15:04:37.132Z"
   },
   {
    "duration": 27,
    "start_time": "2022-07-25T15:04:37.164Z"
   },
   {
    "duration": 10,
    "start_time": "2022-07-25T15:04:37.193Z"
   },
   {
    "duration": 627,
    "start_time": "2022-07-25T15:04:37.204Z"
   },
   {
    "duration": 47,
    "start_time": "2022-07-25T15:04:37.833Z"
   },
   {
    "duration": 16,
    "start_time": "2022-07-25T15:04:37.881Z"
   },
   {
    "duration": 20,
    "start_time": "2022-07-25T15:04:37.898Z"
   },
   {
    "duration": 10,
    "start_time": "2022-07-25T15:04:37.919Z"
   },
   {
    "duration": 67,
    "start_time": "2022-07-25T15:04:37.931Z"
   },
   {
    "duration": 28,
    "start_time": "2022-07-25T15:04:38.000Z"
   },
   {
    "duration": 16,
    "start_time": "2022-07-25T15:04:38.030Z"
   },
   {
    "duration": 20,
    "start_time": "2022-07-25T15:04:38.064Z"
   },
   {
    "duration": 14,
    "start_time": "2022-07-25T15:04:38.086Z"
   },
   {
    "duration": 17,
    "start_time": "2022-07-25T15:04:38.102Z"
   },
   {
    "duration": 12,
    "start_time": "2022-07-25T15:04:38.120Z"
   },
   {
    "duration": 61,
    "start_time": "2022-07-25T15:04:38.133Z"
   },
   {
    "duration": 578,
    "start_time": "2022-07-25T15:07:39.755Z"
   },
   {
    "duration": 30,
    "start_time": "2022-07-25T15:08:41.082Z"
   },
   {
    "duration": 3,
    "start_time": "2022-07-25T15:08:45.479Z"
   },
   {
    "duration": 281,
    "start_time": "2022-07-25T15:08:45.484Z"
   },
   {
    "duration": 10,
    "start_time": "2022-07-25T15:08:45.767Z"
   },
   {
    "duration": 79,
    "start_time": "2022-07-25T15:08:45.779Z"
   },
   {
    "duration": 80,
    "start_time": "2022-07-25T15:08:45.860Z"
   },
   {
    "duration": 50,
    "start_time": "2022-07-25T15:08:45.942Z"
   },
   {
    "duration": 28,
    "start_time": "2022-07-25T15:08:45.994Z"
   },
   {
    "duration": 53,
    "start_time": "2022-07-25T15:08:46.024Z"
   },
   {
    "duration": 154,
    "start_time": "2022-07-25T15:08:46.079Z"
   },
   {
    "duration": 33,
    "start_time": "2022-07-25T15:08:46.235Z"
   },
   {
    "duration": 49,
    "start_time": "2022-07-25T15:08:46.271Z"
   },
   {
    "duration": 17,
    "start_time": "2022-07-25T15:08:46.322Z"
   },
   {
    "duration": 39,
    "start_time": "2022-07-25T15:08:46.341Z"
   },
   {
    "duration": 11,
    "start_time": "2022-07-25T15:08:46.382Z"
   },
   {
    "duration": 24,
    "start_time": "2022-07-25T15:08:46.394Z"
   },
   {
    "duration": 11,
    "start_time": "2022-07-25T15:08:46.420Z"
   },
   {
    "duration": 597,
    "start_time": "2022-07-25T15:08:46.433Z"
   },
   {
    "duration": 41,
    "start_time": "2022-07-25T15:08:47.032Z"
   },
   {
    "duration": 18,
    "start_time": "2022-07-25T15:08:47.076Z"
   },
   {
    "duration": 20,
    "start_time": "2022-07-25T15:08:47.095Z"
   },
   {
    "duration": 10,
    "start_time": "2022-07-25T15:08:47.117Z"
   },
   {
    "duration": 76,
    "start_time": "2022-07-25T15:08:47.129Z"
   },
   {
    "duration": 25,
    "start_time": "2022-07-25T15:08:47.207Z"
   },
   {
    "duration": 15,
    "start_time": "2022-07-25T15:08:47.234Z"
   },
   {
    "duration": 39,
    "start_time": "2022-07-25T15:08:47.251Z"
   },
   {
    "duration": 11,
    "start_time": "2022-07-25T15:08:47.292Z"
   },
   {
    "duration": 21,
    "start_time": "2022-07-25T15:08:47.305Z"
   },
   {
    "duration": 12,
    "start_time": "2022-07-25T15:08:47.329Z"
   },
   {
    "duration": 697,
    "start_time": "2022-07-25T15:08:47.343Z"
   },
   {
    "duration": 35,
    "start_time": "2022-07-25T15:08:48.041Z"
   },
   {
    "duration": 386,
    "start_time": "2022-07-25T15:09:21.005Z"
   },
   {
    "duration": 3,
    "start_time": "2022-07-25T15:09:25.881Z"
   },
   {
    "duration": 301,
    "start_time": "2022-07-25T15:09:25.886Z"
   },
   {
    "duration": 9,
    "start_time": "2022-07-25T15:09:26.190Z"
   },
   {
    "duration": 100,
    "start_time": "2022-07-25T15:09:26.200Z"
   },
   {
    "duration": 106,
    "start_time": "2022-07-25T15:09:26.303Z"
   },
   {
    "duration": 35,
    "start_time": "2022-07-25T15:09:26.410Z"
   },
   {
    "duration": 47,
    "start_time": "2022-07-25T15:09:26.447Z"
   },
   {
    "duration": 22,
    "start_time": "2022-07-25T15:09:26.495Z"
   },
   {
    "duration": 108,
    "start_time": "2022-07-25T15:09:26.519Z"
   },
   {
    "duration": 18,
    "start_time": "2022-07-25T15:09:26.628Z"
   },
   {
    "duration": 61,
    "start_time": "2022-07-25T15:09:26.649Z"
   },
   {
    "duration": 17,
    "start_time": "2022-07-25T15:09:26.712Z"
   },
   {
    "duration": 13,
    "start_time": "2022-07-25T15:09:26.730Z"
   },
   {
    "duration": 19,
    "start_time": "2022-07-25T15:09:26.764Z"
   },
   {
    "duration": 20,
    "start_time": "2022-07-25T15:09:26.784Z"
   },
   {
    "duration": 10,
    "start_time": "2022-07-25T15:09:26.805Z"
   },
   {
    "duration": 630,
    "start_time": "2022-07-25T15:09:26.817Z"
   },
   {
    "duration": 52,
    "start_time": "2022-07-25T15:09:27.449Z"
   },
   {
    "duration": 22,
    "start_time": "2022-07-25T15:09:27.502Z"
   },
   {
    "duration": 25,
    "start_time": "2022-07-25T15:09:27.526Z"
   },
   {
    "duration": 28,
    "start_time": "2022-07-25T15:09:27.553Z"
   },
   {
    "duration": 54,
    "start_time": "2022-07-25T15:09:27.583Z"
   },
   {
    "duration": 45,
    "start_time": "2022-07-25T15:09:27.639Z"
   },
   {
    "duration": 17,
    "start_time": "2022-07-25T15:09:27.686Z"
   },
   {
    "duration": 16,
    "start_time": "2022-07-25T15:09:27.704Z"
   },
   {
    "duration": 13,
    "start_time": "2022-07-25T15:09:27.721Z"
   },
   {
    "duration": 44,
    "start_time": "2022-07-25T15:09:27.736Z"
   },
   {
    "duration": 15,
    "start_time": "2022-07-25T15:09:27.782Z"
   },
   {
    "duration": 645,
    "start_time": "2022-07-25T15:09:27.799Z"
   },
   {
    "duration": 450,
    "start_time": "2022-07-25T15:09:28.446Z"
   },
   {
    "duration": 228,
    "start_time": "2022-07-25T15:09:46.602Z"
   },
   {
    "duration": 33,
    "start_time": "2022-07-25T15:09:52.205Z"
   },
   {
    "duration": 2,
    "start_time": "2022-07-25T15:14:25.208Z"
   },
   {
    "duration": 292,
    "start_time": "2022-07-25T15:14:25.212Z"
   },
   {
    "duration": 8,
    "start_time": "2022-07-25T15:14:25.506Z"
   },
   {
    "duration": 81,
    "start_time": "2022-07-25T15:14:25.515Z"
   },
   {
    "duration": 82,
    "start_time": "2022-07-25T15:14:25.598Z"
   },
   {
    "duration": 33,
    "start_time": "2022-07-25T15:14:25.682Z"
   },
   {
    "duration": 47,
    "start_time": "2022-07-25T15:14:25.717Z"
   },
   {
    "duration": 28,
    "start_time": "2022-07-25T15:14:25.766Z"
   },
   {
    "duration": 114,
    "start_time": "2022-07-25T15:14:25.795Z"
   },
   {
    "duration": 19,
    "start_time": "2022-07-25T15:14:25.911Z"
   },
   {
    "duration": 71,
    "start_time": "2022-07-25T15:14:25.932Z"
   },
   {
    "duration": 20,
    "start_time": "2022-07-25T15:14:26.004Z"
   },
   {
    "duration": 15,
    "start_time": "2022-07-25T15:14:26.027Z"
   },
   {
    "duration": 19,
    "start_time": "2022-07-25T15:14:26.063Z"
   },
   {
    "duration": 22,
    "start_time": "2022-07-25T15:14:26.084Z"
   },
   {
    "duration": 10,
    "start_time": "2022-07-25T15:14:26.108Z"
   },
   {
    "duration": 593,
    "start_time": "2022-07-25T15:14:26.120Z"
   },
   {
    "duration": 30,
    "start_time": "2022-07-25T15:14:26.715Z"
   },
   {
    "duration": 35,
    "start_time": "2022-07-25T15:14:26.747Z"
   },
   {
    "duration": 20,
    "start_time": "2022-07-25T15:14:26.784Z"
   },
   {
    "duration": 12,
    "start_time": "2022-07-25T15:14:26.805Z"
   },
   {
    "duration": 62,
    "start_time": "2022-07-25T15:14:26.818Z"
   },
   {
    "duration": 28,
    "start_time": "2022-07-25T15:14:26.881Z"
   },
   {
    "duration": 16,
    "start_time": "2022-07-25T15:14:26.911Z"
   },
   {
    "duration": 44,
    "start_time": "2022-07-25T15:14:26.929Z"
   },
   {
    "duration": 14,
    "start_time": "2022-07-25T15:14:26.975Z"
   },
   {
    "duration": 16,
    "start_time": "2022-07-25T15:14:26.991Z"
   },
   {
    "duration": 646,
    "start_time": "2022-07-25T15:14:27.009Z"
   },
   {
    "duration": 42,
    "start_time": "2022-07-25T15:14:27.657Z"
   },
   {
    "duration": 3,
    "start_time": "2022-07-25T15:16:08.947Z"
   },
   {
    "duration": 292,
    "start_time": "2022-07-25T15:16:08.954Z"
   },
   {
    "duration": 8,
    "start_time": "2022-07-25T15:16:09.248Z"
   },
   {
    "duration": 22,
    "start_time": "2022-07-25T15:16:09.257Z"
   },
   {
    "duration": 14,
    "start_time": "2022-07-25T15:16:09.282Z"
   },
   {
    "duration": 22,
    "start_time": "2022-07-25T15:16:09.298Z"
   },
   {
    "duration": 13,
    "start_time": "2022-07-25T15:16:09.322Z"
   },
   {
    "duration": 10,
    "start_time": "2022-07-25T15:16:09.336Z"
   },
   {
    "duration": 11,
    "start_time": "2022-07-25T15:16:09.347Z"
   },
   {
    "duration": 112,
    "start_time": "2022-07-25T15:16:09.359Z"
   },
   {
    "duration": 101,
    "start_time": "2022-07-25T15:16:09.475Z"
   },
   {
    "duration": 59,
    "start_time": "2022-07-25T15:16:09.579Z"
   },
   {
    "duration": 48,
    "start_time": "2022-07-25T15:16:09.640Z"
   },
   {
    "duration": 22,
    "start_time": "2022-07-25T15:16:09.689Z"
   },
   {
    "duration": 114,
    "start_time": "2022-07-25T15:16:09.713Z"
   },
   {
    "duration": 19,
    "start_time": "2022-07-25T15:16:09.829Z"
   },
   {
    "duration": 62,
    "start_time": "2022-07-25T15:16:09.850Z"
   },
   {
    "duration": 17,
    "start_time": "2022-07-25T15:16:09.913Z"
   },
   {
    "duration": 37,
    "start_time": "2022-07-25T15:16:09.932Z"
   },
   {
    "duration": 25,
    "start_time": "2022-07-25T15:16:09.972Z"
   },
   {
    "duration": 22,
    "start_time": "2022-07-25T15:16:09.999Z"
   },
   {
    "duration": 14,
    "start_time": "2022-07-25T15:16:10.023Z"
   },
   {
    "duration": 693,
    "start_time": "2022-07-25T15:16:10.039Z"
   },
   {
    "duration": 51,
    "start_time": "2022-07-25T15:16:10.735Z"
   },
   {
    "duration": 21,
    "start_time": "2022-07-25T15:16:10.788Z"
   },
   {
    "duration": 22,
    "start_time": "2022-07-25T15:16:10.812Z"
   },
   {
    "duration": 39,
    "start_time": "2022-07-25T15:16:10.836Z"
   },
   {
    "duration": 36,
    "start_time": "2022-07-25T15:16:10.877Z"
   },
   {
    "duration": 26,
    "start_time": "2022-07-25T15:16:10.917Z"
   },
   {
    "duration": 27,
    "start_time": "2022-07-25T15:16:10.964Z"
   },
   {
    "duration": 19,
    "start_time": "2022-07-25T15:16:10.993Z"
   },
   {
    "duration": 11,
    "start_time": "2022-07-25T15:16:11.013Z"
   },
   {
    "duration": 14,
    "start_time": "2022-07-25T15:16:11.025Z"
   },
   {
    "duration": 647,
    "start_time": "2022-07-25T15:16:11.063Z"
   },
   {
    "duration": 32,
    "start_time": "2022-07-25T15:16:11.711Z"
   },
   {
    "duration": 22,
    "start_time": "2022-07-25T15:20:14.576Z"
   },
   {
    "duration": 17,
    "start_time": "2022-07-25T15:22:51.296Z"
   },
   {
    "duration": 9,
    "start_time": "2022-07-25T15:23:24.518Z"
   },
   {
    "duration": 3,
    "start_time": "2022-07-25T15:25:49.440Z"
   },
   {
    "duration": 252,
    "start_time": "2022-07-25T15:25:49.444Z"
   },
   {
    "duration": 9,
    "start_time": "2022-07-25T15:25:49.697Z"
   },
   {
    "duration": 7,
    "start_time": "2022-07-25T15:25:49.708Z"
   },
   {
    "duration": 14,
    "start_time": "2022-07-25T15:25:49.716Z"
   },
   {
    "duration": 12,
    "start_time": "2022-07-25T15:25:49.732Z"
   },
   {
    "duration": 25,
    "start_time": "2022-07-25T15:26:18.645Z"
   },
   {
    "duration": 16,
    "start_time": "2022-07-25T15:26:38.379Z"
   },
   {
    "duration": 3,
    "start_time": "2022-07-25T15:27:31.711Z"
   },
   {
    "duration": 280,
    "start_time": "2022-07-25T15:27:31.716Z"
   },
   {
    "duration": 8,
    "start_time": "2022-07-25T15:27:31.999Z"
   },
   {
    "duration": 18,
    "start_time": "2022-07-25T15:27:32.009Z"
   },
   {
    "duration": 12,
    "start_time": "2022-07-25T15:27:32.029Z"
   },
   {
    "duration": 24,
    "start_time": "2022-07-25T15:27:32.043Z"
   },
   {
    "duration": 20,
    "start_time": "2022-07-25T15:27:32.068Z"
   },
   {
    "duration": 24,
    "start_time": "2022-07-25T15:27:32.090Z"
   },
   {
    "duration": 13,
    "start_time": "2022-07-25T15:27:32.116Z"
   },
   {
    "duration": 8,
    "start_time": "2022-07-25T15:27:32.131Z"
   },
   {
    "duration": 102,
    "start_time": "2022-07-25T15:27:32.141Z"
   },
   {
    "duration": 83,
    "start_time": "2022-07-25T15:27:32.245Z"
   },
   {
    "duration": 41,
    "start_time": "2022-07-25T15:27:32.330Z"
   },
   {
    "duration": 29,
    "start_time": "2022-07-25T15:27:32.373Z"
   },
   {
    "duration": 34,
    "start_time": "2022-07-25T15:27:32.404Z"
   },
   {
    "duration": 138,
    "start_time": "2022-07-25T15:27:32.465Z"
   },
   {
    "duration": 25,
    "start_time": "2022-07-25T15:27:32.606Z"
   },
   {
    "duration": 74,
    "start_time": "2022-07-25T15:27:32.633Z"
   },
   {
    "duration": 21,
    "start_time": "2022-07-25T15:27:32.708Z"
   },
   {
    "duration": 42,
    "start_time": "2022-07-25T15:27:32.731Z"
   },
   {
    "duration": 16,
    "start_time": "2022-07-25T15:27:32.776Z"
   },
   {
    "duration": 33,
    "start_time": "2022-07-25T15:27:32.795Z"
   },
   {
    "duration": 15,
    "start_time": "2022-07-25T15:27:32.830Z"
   },
   {
    "duration": 587,
    "start_time": "2022-07-25T15:27:32.847Z"
   },
   {
    "duration": 40,
    "start_time": "2022-07-25T15:27:33.435Z"
   },
   {
    "duration": 25,
    "start_time": "2022-07-25T15:27:33.478Z"
   },
   {
    "duration": 21,
    "start_time": "2022-07-25T15:27:33.506Z"
   },
   {
    "duration": 15,
    "start_time": "2022-07-25T15:27:33.529Z"
   },
   {
    "duration": 63,
    "start_time": "2022-07-25T15:27:33.545Z"
   },
   {
    "duration": 27,
    "start_time": "2022-07-25T15:27:33.610Z"
   },
   {
    "duration": 43,
    "start_time": "2022-07-25T15:27:33.638Z"
   },
   {
    "duration": 20,
    "start_time": "2022-07-25T15:27:33.683Z"
   },
   {
    "duration": 14,
    "start_time": "2022-07-25T15:27:33.706Z"
   },
   {
    "duration": 42,
    "start_time": "2022-07-25T15:27:33.722Z"
   },
   {
    "duration": 561,
    "start_time": "2022-07-25T15:27:33.765Z"
   },
   {
    "duration": 39,
    "start_time": "2022-07-25T15:27:34.328Z"
   },
   {
    "duration": 28,
    "start_time": "2022-07-25T15:27:34.368Z"
   },
   {
    "duration": 15,
    "start_time": "2022-07-25T15:27:34.399Z"
   },
   {
    "duration": 9,
    "start_time": "2022-07-25T15:27:51.832Z"
   },
   {
    "duration": 59,
    "start_time": "2022-07-25T15:31:56.398Z"
   },
   {
    "duration": 54,
    "start_time": "2022-07-25T15:32:04.358Z"
   },
   {
    "duration": 3,
    "start_time": "2022-07-25T15:32:15.506Z"
   },
   {
    "duration": 275,
    "start_time": "2022-07-25T15:32:15.514Z"
   },
   {
    "duration": 8,
    "start_time": "2022-07-25T15:32:15.790Z"
   },
   {
    "duration": 12,
    "start_time": "2022-07-25T15:32:15.799Z"
   },
   {
    "duration": 14,
    "start_time": "2022-07-25T15:32:15.813Z"
   },
   {
    "duration": 16,
    "start_time": "2022-07-25T15:32:15.829Z"
   },
   {
    "duration": 17,
    "start_time": "2022-07-25T15:32:15.847Z"
   },
   {
    "duration": 11,
    "start_time": "2022-07-25T15:32:15.865Z"
   },
   {
    "duration": 12,
    "start_time": "2022-07-25T15:32:15.878Z"
   },
   {
    "duration": 10,
    "start_time": "2022-07-25T15:32:15.893Z"
   },
   {
    "duration": 93,
    "start_time": "2022-07-25T15:32:15.905Z"
   },
   {
    "duration": 92,
    "start_time": "2022-07-25T15:32:16.000Z"
   },
   {
    "duration": 34,
    "start_time": "2022-07-25T15:32:16.093Z"
   },
   {
    "duration": 45,
    "start_time": "2022-07-25T15:32:16.128Z"
   },
   {
    "duration": 23,
    "start_time": "2022-07-25T15:32:16.175Z"
   },
   {
    "duration": 168,
    "start_time": "2022-07-25T15:32:16.200Z"
   },
   {
    "duration": 20,
    "start_time": "2022-07-25T15:32:16.370Z"
   },
   {
    "duration": 49,
    "start_time": "2022-07-25T15:32:16.392Z"
   },
   {
    "duration": 39,
    "start_time": "2022-07-25T15:32:16.443Z"
   },
   {
    "duration": 15,
    "start_time": "2022-07-25T15:32:16.484Z"
   },
   {
    "duration": 11,
    "start_time": "2022-07-25T15:32:16.501Z"
   },
   {
    "duration": 22,
    "start_time": "2022-07-25T15:32:16.513Z"
   },
   {
    "duration": 12,
    "start_time": "2022-07-25T15:32:16.564Z"
   },
   {
    "duration": 549,
    "start_time": "2022-07-25T15:32:16.577Z"
   },
   {
    "duration": 37,
    "start_time": "2022-07-25T15:32:17.128Z"
   },
   {
    "duration": 17,
    "start_time": "2022-07-25T15:32:17.166Z"
   },
   {
    "duration": 21,
    "start_time": "2022-07-25T15:32:17.184Z"
   },
   {
    "duration": 10,
    "start_time": "2022-07-25T15:32:17.206Z"
   },
   {
    "duration": 60,
    "start_time": "2022-07-25T15:32:17.220Z"
   },
   {
    "duration": 26,
    "start_time": "2022-07-25T15:32:17.282Z"
   },
   {
    "duration": 15,
    "start_time": "2022-07-25T15:32:17.310Z"
   },
   {
    "duration": 40,
    "start_time": "2022-07-25T15:32:17.327Z"
   },
   {
    "duration": 14,
    "start_time": "2022-07-25T15:32:17.368Z"
   },
   {
    "duration": 15,
    "start_time": "2022-07-25T15:32:17.384Z"
   },
   {
    "duration": 634,
    "start_time": "2022-07-25T15:32:17.400Z"
   },
   {
    "duration": 38,
    "start_time": "2022-07-25T15:32:18.035Z"
   },
   {
    "duration": 18,
    "start_time": "2022-07-25T15:32:18.074Z"
   },
   {
    "duration": 13,
    "start_time": "2022-07-25T15:32:18.093Z"
   },
   {
    "duration": 133,
    "start_time": "2022-07-25T15:32:18.108Z"
   },
   {
    "duration": 10,
    "start_time": "2022-07-25T15:32:25.108Z"
   },
   {
    "duration": 10,
    "start_time": "2022-07-25T15:33:49.348Z"
   },
   {
    "duration": 12,
    "start_time": "2022-07-25T15:34:50.770Z"
   },
   {
    "duration": 16,
    "start_time": "2022-07-25T15:43:22.937Z"
   },
   {
    "duration": 16,
    "start_time": "2022-07-25T15:43:29.934Z"
   },
   {
    "duration": 3,
    "start_time": "2022-07-25T15:43:35.207Z"
   },
   {
    "duration": 272,
    "start_time": "2022-07-25T15:43:35.212Z"
   },
   {
    "duration": 12,
    "start_time": "2022-07-25T15:43:35.487Z"
   },
   {
    "duration": 32,
    "start_time": "2022-07-25T15:43:35.501Z"
   },
   {
    "duration": 13,
    "start_time": "2022-07-25T15:43:35.535Z"
   },
   {
    "duration": 32,
    "start_time": "2022-07-25T15:43:35.551Z"
   },
   {
    "duration": 22,
    "start_time": "2022-07-25T15:43:35.585Z"
   },
   {
    "duration": 12,
    "start_time": "2022-07-25T15:43:35.608Z"
   },
   {
    "duration": 14,
    "start_time": "2022-07-25T15:43:35.621Z"
   },
   {
    "duration": 31,
    "start_time": "2022-07-25T15:43:35.637Z"
   },
   {
    "duration": 92,
    "start_time": "2022-07-25T15:43:35.669Z"
   },
   {
    "duration": 84,
    "start_time": "2022-07-25T15:43:35.762Z"
   },
   {
    "duration": 50,
    "start_time": "2022-07-25T15:43:35.848Z"
   },
   {
    "duration": 33,
    "start_time": "2022-07-25T15:43:35.900Z"
   },
   {
    "duration": 42,
    "start_time": "2022-07-25T15:43:35.937Z"
   },
   {
    "duration": 108,
    "start_time": "2022-07-25T15:43:35.981Z"
   },
   {
    "duration": 19,
    "start_time": "2022-07-25T15:43:36.092Z"
   },
   {
    "duration": 59,
    "start_time": "2022-07-25T15:43:36.113Z"
   },
   {
    "duration": 16,
    "start_time": "2022-07-25T15:43:36.174Z"
   },
   {
    "duration": 13,
    "start_time": "2022-07-25T15:43:36.192Z"
   },
   {
    "duration": 14,
    "start_time": "2022-07-25T15:43:36.206Z"
   },
   {
    "duration": 47,
    "start_time": "2022-07-25T15:43:36.221Z"
   },
   {
    "duration": 10,
    "start_time": "2022-07-25T15:43:36.270Z"
   },
   {
    "duration": 581,
    "start_time": "2022-07-25T15:43:36.281Z"
   },
   {
    "duration": 30,
    "start_time": "2022-07-25T15:43:36.864Z"
   },
   {
    "duration": 14,
    "start_time": "2022-07-25T15:43:36.895Z"
   },
   {
    "duration": 18,
    "start_time": "2022-07-25T15:43:36.911Z"
   },
   {
    "duration": 36,
    "start_time": "2022-07-25T15:43:36.930Z"
   },
   {
    "duration": 34,
    "start_time": "2022-07-25T15:43:36.968Z"
   },
   {
    "duration": 27,
    "start_time": "2022-07-25T15:43:37.003Z"
   },
   {
    "duration": 37,
    "start_time": "2022-07-25T15:43:37.031Z"
   },
   {
    "duration": 14,
    "start_time": "2022-07-25T15:43:37.069Z"
   },
   {
    "duration": 11,
    "start_time": "2022-07-25T15:43:37.084Z"
   },
   {
    "duration": 14,
    "start_time": "2022-07-25T15:43:37.097Z"
   },
   {
    "duration": 608,
    "start_time": "2022-07-25T15:43:37.113Z"
   },
   {
    "duration": 29,
    "start_time": "2022-07-25T15:43:37.723Z"
   },
   {
    "duration": 27,
    "start_time": "2022-07-25T15:43:37.753Z"
   },
   {
    "duration": 14,
    "start_time": "2022-07-25T15:43:37.782Z"
   },
   {
    "duration": 10,
    "start_time": "2022-07-25T15:43:37.797Z"
   },
   {
    "duration": 848,
    "start_time": "2022-07-25T15:43:37.808Z"
   },
   {
    "duration": 15,
    "start_time": "2022-07-25T15:44:29.043Z"
   },
   {
    "duration": 19,
    "start_time": "2022-07-25T15:45:03.862Z"
   },
   {
    "duration": 205,
    "start_time": "2022-07-25T15:48:01.996Z"
   },
   {
    "duration": 3,
    "start_time": "2022-07-25T15:48:08.775Z"
   },
   {
    "duration": 275,
    "start_time": "2022-07-25T15:48:08.781Z"
   },
   {
    "duration": 8,
    "start_time": "2022-07-25T15:48:09.058Z"
   },
   {
    "duration": 7,
    "start_time": "2022-07-25T15:48:09.067Z"
   },
   {
    "duration": 18,
    "start_time": "2022-07-25T15:48:09.077Z"
   },
   {
    "duration": 16,
    "start_time": "2022-07-25T15:48:09.097Z"
   },
   {
    "duration": 6,
    "start_time": "2022-07-25T15:48:09.115Z"
   },
   {
    "duration": 14,
    "start_time": "2022-07-25T15:48:09.122Z"
   },
   {
    "duration": 30,
    "start_time": "2022-07-25T15:48:09.137Z"
   },
   {
    "duration": 13,
    "start_time": "2022-07-25T15:48:09.168Z"
   },
   {
    "duration": 84,
    "start_time": "2022-07-25T15:48:09.184Z"
   },
   {
    "duration": 73,
    "start_time": "2022-07-25T15:48:09.270Z"
   },
   {
    "duration": 41,
    "start_time": "2022-07-25T15:48:09.345Z"
   },
   {
    "duration": 26,
    "start_time": "2022-07-25T15:48:09.388Z"
   },
   {
    "duration": 20,
    "start_time": "2022-07-25T15:48:09.416Z"
   },
   {
    "duration": 133,
    "start_time": "2022-07-25T15:48:09.438Z"
   },
   {
    "duration": 19,
    "start_time": "2022-07-25T15:48:09.573Z"
   },
   {
    "duration": 43,
    "start_time": "2022-07-25T15:48:09.593Z"
   },
   {
    "duration": 41,
    "start_time": "2022-07-25T15:48:09.638Z"
   },
   {
    "duration": 14,
    "start_time": "2022-07-25T15:48:09.681Z"
   },
   {
    "duration": 36,
    "start_time": "2022-07-25T15:48:09.697Z"
   },
   {
    "duration": 26,
    "start_time": "2022-07-25T15:48:09.735Z"
   },
   {
    "duration": 11,
    "start_time": "2022-07-25T15:48:09.763Z"
   },
   {
    "duration": 533,
    "start_time": "2022-07-25T15:48:09.777Z"
   },
   {
    "duration": 31,
    "start_time": "2022-07-25T15:48:10.312Z"
   },
   {
    "duration": 30,
    "start_time": "2022-07-25T15:48:10.344Z"
   },
   {
    "duration": 24,
    "start_time": "2022-07-25T15:48:10.375Z"
   },
   {
    "duration": 11,
    "start_time": "2022-07-25T15:48:10.401Z"
   },
   {
    "duration": 60,
    "start_time": "2022-07-25T15:48:10.413Z"
   },
   {
    "duration": 27,
    "start_time": "2022-07-25T15:48:10.475Z"
   },
   {
    "duration": 18,
    "start_time": "2022-07-25T15:48:10.504Z"
   },
   {
    "duration": 21,
    "start_time": "2022-07-25T15:48:10.524Z"
   },
   {
    "duration": 12,
    "start_time": "2022-07-25T15:48:10.563Z"
   },
   {
    "duration": 18,
    "start_time": "2022-07-25T15:48:10.577Z"
   },
   {
    "duration": 589,
    "start_time": "2022-07-25T15:48:10.596Z"
   },
   {
    "duration": 31,
    "start_time": "2022-07-25T15:48:11.187Z"
   },
   {
    "duration": 19,
    "start_time": "2022-07-25T15:48:11.219Z"
   },
   {
    "duration": 392,
    "start_time": "2022-07-25T15:48:11.240Z"
   },
   {
    "duration": 16,
    "start_time": "2022-07-25T15:48:23.803Z"
   },
   {
    "duration": 3,
    "start_time": "2022-07-25T15:49:11.924Z"
   },
   {
    "duration": 283,
    "start_time": "2022-07-25T15:49:11.929Z"
   },
   {
    "duration": 8,
    "start_time": "2022-07-25T15:49:12.214Z"
   },
   {
    "duration": 11,
    "start_time": "2022-07-25T15:49:12.223Z"
   },
   {
    "duration": 18,
    "start_time": "2022-07-25T15:49:12.236Z"
   },
   {
    "duration": 25,
    "start_time": "2022-07-25T15:49:12.257Z"
   },
   {
    "duration": 20,
    "start_time": "2022-07-25T15:49:12.284Z"
   },
   {
    "duration": 20,
    "start_time": "2022-07-25T15:49:12.306Z"
   },
   {
    "duration": 11,
    "start_time": "2022-07-25T15:49:12.328Z"
   },
   {
    "duration": 18,
    "start_time": "2022-07-25T15:49:12.341Z"
   },
   {
    "duration": 80,
    "start_time": "2022-07-25T15:49:12.362Z"
   },
   {
    "duration": 86,
    "start_time": "2022-07-25T15:49:12.444Z"
   },
   {
    "duration": 52,
    "start_time": "2022-07-25T15:49:12.532Z"
   },
   {
    "duration": 54,
    "start_time": "2022-07-25T15:49:12.585Z"
   },
   {
    "duration": 46,
    "start_time": "2022-07-25T15:49:12.641Z"
   },
   {
    "duration": 159,
    "start_time": "2022-07-25T15:49:12.689Z"
   },
   {
    "duration": 34,
    "start_time": "2022-07-25T15:49:12.851Z"
   },
   {
    "duration": 57,
    "start_time": "2022-07-25T15:49:12.887Z"
   },
   {
    "duration": 44,
    "start_time": "2022-07-25T15:49:12.946Z"
   },
   {
    "duration": 15,
    "start_time": "2022-07-25T15:49:12.994Z"
   },
   {
    "duration": 20,
    "start_time": "2022-07-25T15:49:13.011Z"
   },
   {
    "duration": 48,
    "start_time": "2022-07-25T15:49:13.033Z"
   },
   {
    "duration": 13,
    "start_time": "2022-07-25T15:49:13.083Z"
   },
   {
    "duration": 647,
    "start_time": "2022-07-25T15:49:13.098Z"
   },
   {
    "duration": 40,
    "start_time": "2022-07-25T15:49:13.747Z"
   },
   {
    "duration": 16,
    "start_time": "2022-07-25T15:49:13.788Z"
   },
   {
    "duration": 34,
    "start_time": "2022-07-25T15:49:13.807Z"
   },
   {
    "duration": 33,
    "start_time": "2022-07-25T15:49:13.844Z"
   },
   {
    "duration": 41,
    "start_time": "2022-07-25T15:49:13.879Z"
   },
   {
    "duration": 43,
    "start_time": "2022-07-25T15:49:13.922Z"
   },
   {
    "duration": 19,
    "start_time": "2022-07-25T15:49:13.967Z"
   },
   {
    "duration": 15,
    "start_time": "2022-07-25T15:49:13.988Z"
   },
   {
    "duration": 14,
    "start_time": "2022-07-25T15:49:14.004Z"
   },
   {
    "duration": 47,
    "start_time": "2022-07-25T15:49:14.019Z"
   },
   {
    "duration": 676,
    "start_time": "2022-07-25T15:49:14.068Z"
   },
   {
    "duration": 50,
    "start_time": "2022-07-25T15:49:14.746Z"
   },
   {
    "duration": 20,
    "start_time": "2022-07-25T15:49:14.797Z"
   },
   {
    "duration": 249,
    "start_time": "2022-07-25T15:49:14.819Z"
   },
   {
    "duration": 0,
    "start_time": "2022-07-25T15:49:15.071Z"
   },
   {
    "duration": 16,
    "start_time": "2022-07-25T15:49:30.944Z"
   },
   {
    "duration": 16,
    "start_time": "2022-07-25T15:50:14.185Z"
   },
   {
    "duration": 14,
    "start_time": "2022-07-25T15:50:18.525Z"
   },
   {
    "duration": 20,
    "start_time": "2022-07-25T15:50:21.040Z"
   },
   {
    "duration": 11,
    "start_time": "2022-07-25T15:53:31.484Z"
   },
   {
    "duration": 10,
    "start_time": "2022-07-25T15:54:55.406Z"
   },
   {
    "duration": 11,
    "start_time": "2022-07-25T15:56:17.395Z"
   },
   {
    "duration": 54,
    "start_time": "2022-07-25T16:00:08.767Z"
   },
   {
    "duration": 7,
    "start_time": "2022-07-25T16:00:12.418Z"
   },
   {
    "duration": 8,
    "start_time": "2022-07-25T16:02:19.639Z"
   },
   {
    "duration": 9,
    "start_time": "2022-07-25T16:02:56.131Z"
   },
   {
    "duration": 8,
    "start_time": "2022-07-25T16:03:37.393Z"
   },
   {
    "duration": 8,
    "start_time": "2022-07-25T16:03:43.101Z"
   },
   {
    "duration": 13,
    "start_time": "2022-07-25T16:05:32.700Z"
   },
   {
    "duration": 14,
    "start_time": "2022-07-25T16:05:52.712Z"
   },
   {
    "duration": 12,
    "start_time": "2022-07-25T16:05:57.567Z"
   },
   {
    "duration": 9,
    "start_time": "2022-07-25T16:06:07.352Z"
   },
   {
    "duration": 8,
    "start_time": "2022-07-25T16:06:31.704Z"
   },
   {
    "duration": 12,
    "start_time": "2022-07-25T16:06:34.655Z"
   },
   {
    "duration": 3,
    "start_time": "2022-07-25T16:06:41.174Z"
   },
   {
    "duration": 267,
    "start_time": "2022-07-25T16:06:41.179Z"
   },
   {
    "duration": 8,
    "start_time": "2022-07-25T16:06:41.448Z"
   },
   {
    "duration": 9,
    "start_time": "2022-07-25T16:06:41.457Z"
   },
   {
    "duration": 13,
    "start_time": "2022-07-25T16:06:41.468Z"
   },
   {
    "duration": 15,
    "start_time": "2022-07-25T16:06:41.483Z"
   },
   {
    "duration": 8,
    "start_time": "2022-07-25T16:06:41.500Z"
   },
   {
    "duration": 11,
    "start_time": "2022-07-25T16:06:41.510Z"
   },
   {
    "duration": 10,
    "start_time": "2022-07-25T16:06:41.522Z"
   },
   {
    "duration": 36,
    "start_time": "2022-07-25T16:06:41.534Z"
   },
   {
    "duration": 73,
    "start_time": "2022-07-25T16:06:41.572Z"
   },
   {
    "duration": 90,
    "start_time": "2022-07-25T16:06:41.648Z"
   },
   {
    "duration": 46,
    "start_time": "2022-07-25T16:06:41.740Z"
   },
   {
    "duration": 25,
    "start_time": "2022-07-25T16:06:41.789Z"
   },
   {
    "duration": 21,
    "start_time": "2022-07-25T16:06:41.815Z"
   },
   {
    "duration": 127,
    "start_time": "2022-07-25T16:06:41.837Z"
   },
   {
    "duration": 19,
    "start_time": "2022-07-25T16:06:41.965Z"
   },
   {
    "duration": 43,
    "start_time": "2022-07-25T16:06:41.986Z"
   },
   {
    "duration": 41,
    "start_time": "2022-07-25T16:06:42.031Z"
   },
   {
    "duration": 13,
    "start_time": "2022-07-25T16:06:42.074Z"
   },
   {
    "duration": 15,
    "start_time": "2022-07-25T16:06:42.089Z"
   },
   {
    "duration": 24,
    "start_time": "2022-07-25T16:06:42.106Z"
   },
   {
    "duration": 10,
    "start_time": "2022-07-25T16:06:42.132Z"
   },
   {
    "duration": 618,
    "start_time": "2022-07-25T16:06:42.164Z"
   },
   {
    "duration": 31,
    "start_time": "2022-07-25T16:06:42.784Z"
   },
   {
    "duration": 15,
    "start_time": "2022-07-25T16:06:42.817Z"
   },
   {
    "duration": 40,
    "start_time": "2022-07-25T16:06:42.833Z"
   },
   {
    "duration": 11,
    "start_time": "2022-07-25T16:06:42.875Z"
   },
   {
    "duration": 34,
    "start_time": "2022-07-25T16:06:42.888Z"
   },
   {
    "duration": 48,
    "start_time": "2022-07-25T16:06:42.924Z"
   },
   {
    "duration": 17,
    "start_time": "2022-07-25T16:06:42.974Z"
   },
   {
    "duration": 18,
    "start_time": "2022-07-25T16:06:42.992Z"
   },
   {
    "duration": 12,
    "start_time": "2022-07-25T16:06:43.012Z"
   },
   {
    "duration": 40,
    "start_time": "2022-07-25T16:06:43.025Z"
   },
   {
    "duration": 543,
    "start_time": "2022-07-25T16:06:43.066Z"
   },
   {
    "duration": 28,
    "start_time": "2022-07-25T16:06:43.611Z"
   },
   {
    "duration": 30,
    "start_time": "2022-07-25T16:06:43.640Z"
   },
   {
    "duration": 14,
    "start_time": "2022-07-25T16:06:43.671Z"
   },
   {
    "duration": 8,
    "start_time": "2022-07-25T16:06:43.687Z"
   },
   {
    "duration": 11,
    "start_time": "2022-07-25T16:06:43.698Z"
   },
   {
    "duration": 21,
    "start_time": "2022-07-25T16:06:43.711Z"
   },
   {
    "duration": 35,
    "start_time": "2022-07-25T16:06:43.734Z"
   },
   {
    "duration": 12,
    "start_time": "2022-07-25T16:06:43.771Z"
   },
   {
    "duration": 13,
    "start_time": "2022-07-25T16:11:48.169Z"
   },
   {
    "duration": 8,
    "start_time": "2022-07-25T16:12:39.368Z"
   },
   {
    "duration": 7,
    "start_time": "2022-07-25T16:13:09.875Z"
   },
   {
    "duration": 7,
    "start_time": "2022-07-25T16:13:19.016Z"
   },
   {
    "duration": 7,
    "start_time": "2022-07-25T16:13:23.524Z"
   },
   {
    "duration": 7,
    "start_time": "2022-07-25T16:13:27.340Z"
   },
   {
    "duration": 5,
    "start_time": "2022-07-25T16:14:59.825Z"
   },
   {
    "duration": 10,
    "start_time": "2022-07-25T16:15:06.260Z"
   },
   {
    "duration": 10,
    "start_time": "2022-07-25T16:15:57.454Z"
   },
   {
    "duration": 2,
    "start_time": "2022-07-25T16:16:12.040Z"
   },
   {
    "duration": 270,
    "start_time": "2022-07-25T16:16:12.046Z"
   },
   {
    "duration": 8,
    "start_time": "2022-07-25T16:16:12.318Z"
   },
   {
    "duration": 20,
    "start_time": "2022-07-25T16:16:12.328Z"
   },
   {
    "duration": 14,
    "start_time": "2022-07-25T16:16:12.350Z"
   },
   {
    "duration": 30,
    "start_time": "2022-07-25T16:16:12.366Z"
   },
   {
    "duration": 16,
    "start_time": "2022-07-25T16:16:12.398Z"
   },
   {
    "duration": 13,
    "start_time": "2022-07-25T16:16:12.416Z"
   },
   {
    "duration": 11,
    "start_time": "2022-07-25T16:16:12.431Z"
   },
   {
    "duration": 10,
    "start_time": "2022-07-25T16:16:12.443Z"
   },
   {
    "duration": 83,
    "start_time": "2022-07-25T16:16:12.465Z"
   },
   {
    "duration": 168,
    "start_time": "2022-07-25T16:16:12.563Z"
   },
   {
    "duration": 45,
    "start_time": "2022-07-25T16:16:12.734Z"
   },
   {
    "duration": 25,
    "start_time": "2022-07-25T16:16:12.781Z"
   },
   {
    "duration": 22,
    "start_time": "2022-07-25T16:16:12.808Z"
   },
   {
    "duration": 163,
    "start_time": "2022-07-25T16:16:12.831Z"
   },
   {
    "duration": 19,
    "start_time": "2022-07-25T16:16:12.996Z"
   },
   {
    "duration": 63,
    "start_time": "2022-07-25T16:16:13.017Z"
   },
   {
    "duration": 29,
    "start_time": "2022-07-25T16:16:13.083Z"
   },
   {
    "duration": 14,
    "start_time": "2022-07-25T16:16:13.113Z"
   },
   {
    "duration": 36,
    "start_time": "2022-07-25T16:16:13.128Z"
   },
   {
    "duration": 31,
    "start_time": "2022-07-25T16:16:13.166Z"
   },
   {
    "duration": 11,
    "start_time": "2022-07-25T16:16:13.199Z"
   },
   {
    "duration": 553,
    "start_time": "2022-07-25T16:16:13.211Z"
   },
   {
    "duration": 31,
    "start_time": "2022-07-25T16:16:13.767Z"
   },
   {
    "duration": 16,
    "start_time": "2022-07-25T16:16:13.800Z"
   },
   {
    "duration": 37,
    "start_time": "2022-07-25T16:16:13.818Z"
   },
   {
    "duration": 12,
    "start_time": "2022-07-25T16:16:13.864Z"
   },
   {
    "duration": 33,
    "start_time": "2022-07-25T16:16:13.878Z"
   },
   {
    "duration": 52,
    "start_time": "2022-07-25T16:16:13.913Z"
   },
   {
    "duration": 19,
    "start_time": "2022-07-25T16:16:13.967Z"
   },
   {
    "duration": 32,
    "start_time": "2022-07-25T16:16:13.987Z"
   },
   {
    "duration": 12,
    "start_time": "2022-07-25T16:16:14.021Z"
   },
   {
    "duration": 29,
    "start_time": "2022-07-25T16:16:14.035Z"
   },
   {
    "duration": 601,
    "start_time": "2022-07-25T16:16:14.066Z"
   },
   {
    "duration": 29,
    "start_time": "2022-07-25T16:16:14.669Z"
   },
   {
    "duration": 18,
    "start_time": "2022-07-25T16:16:14.700Z"
   },
   {
    "duration": 22,
    "start_time": "2022-07-25T16:16:14.720Z"
   },
   {
    "duration": 24,
    "start_time": "2022-07-25T16:16:14.743Z"
   },
   {
    "duration": 23,
    "start_time": "2022-07-25T16:16:14.769Z"
   },
   {
    "duration": 26,
    "start_time": "2022-07-25T16:16:14.794Z"
   },
   {
    "duration": 9,
    "start_time": "2022-07-25T16:16:14.822Z"
   },
   {
    "duration": 12,
    "start_time": "2022-07-25T16:16:43.320Z"
   },
   {
    "duration": 10,
    "start_time": "2022-07-25T16:17:08.687Z"
   },
   {
    "duration": 19,
    "start_time": "2022-07-25T16:18:32.756Z"
   },
   {
    "duration": 5,
    "start_time": "2022-07-25T16:18:38.861Z"
   },
   {
    "duration": 276,
    "start_time": "2022-07-25T16:18:38.869Z"
   },
   {
    "duration": 9,
    "start_time": "2022-07-25T16:18:39.147Z"
   },
   {
    "duration": 12,
    "start_time": "2022-07-25T16:18:39.157Z"
   },
   {
    "duration": 14,
    "start_time": "2022-07-25T16:18:39.171Z"
   },
   {
    "duration": 18,
    "start_time": "2022-07-25T16:18:39.186Z"
   },
   {
    "duration": 18,
    "start_time": "2022-07-25T16:18:39.207Z"
   },
   {
    "duration": 15,
    "start_time": "2022-07-25T16:18:39.227Z"
   },
   {
    "duration": 29,
    "start_time": "2022-07-25T16:18:39.244Z"
   },
   {
    "duration": 13,
    "start_time": "2022-07-25T16:18:39.276Z"
   },
   {
    "duration": 107,
    "start_time": "2022-07-25T16:18:39.290Z"
   },
   {
    "duration": 101,
    "start_time": "2022-07-25T16:18:39.399Z"
   },
   {
    "duration": 36,
    "start_time": "2022-07-25T16:18:39.503Z"
   },
   {
    "duration": 43,
    "start_time": "2022-07-25T16:18:39.541Z"
   },
   {
    "duration": 21,
    "start_time": "2022-07-25T16:18:39.585Z"
   },
   {
    "duration": 119,
    "start_time": "2022-07-25T16:18:39.607Z"
   },
   {
    "duration": 18,
    "start_time": "2022-07-25T16:18:39.728Z"
   },
   {
    "duration": 62,
    "start_time": "2022-07-25T16:18:39.748Z"
   },
   {
    "duration": 20,
    "start_time": "2022-07-25T16:18:39.812Z"
   },
   {
    "duration": 30,
    "start_time": "2022-07-25T16:18:39.834Z"
   },
   {
    "duration": 12,
    "start_time": "2022-07-25T16:18:39.866Z"
   },
   {
    "duration": 31,
    "start_time": "2022-07-25T16:18:39.880Z"
   },
   {
    "duration": 11,
    "start_time": "2022-07-25T16:18:39.913Z"
   },
   {
    "duration": 613,
    "start_time": "2022-07-25T16:18:39.925Z"
   },
   {
    "duration": 41,
    "start_time": "2022-07-25T16:18:40.540Z"
   },
   {
    "duration": 17,
    "start_time": "2022-07-25T16:18:40.583Z"
   },
   {
    "duration": 21,
    "start_time": "2022-07-25T16:18:40.601Z"
   },
   {
    "duration": 10,
    "start_time": "2022-07-25T16:18:40.624Z"
   },
   {
    "duration": 38,
    "start_time": "2022-07-25T16:18:40.664Z"
   },
   {
    "duration": 30,
    "start_time": "2022-07-25T16:18:40.705Z"
   },
   {
    "duration": 33,
    "start_time": "2022-07-25T16:18:40.737Z"
   },
   {
    "duration": 16,
    "start_time": "2022-07-25T16:18:40.772Z"
   },
   {
    "duration": 12,
    "start_time": "2022-07-25T16:18:40.791Z"
   },
   {
    "duration": 21,
    "start_time": "2022-07-25T16:18:40.806Z"
   },
   {
    "duration": 630,
    "start_time": "2022-07-25T16:18:40.829Z"
   },
   {
    "duration": 39,
    "start_time": "2022-07-25T16:18:41.464Z"
   },
   {
    "duration": 28,
    "start_time": "2022-07-25T16:18:41.506Z"
   },
   {
    "duration": 40,
    "start_time": "2022-07-25T16:18:41.536Z"
   },
   {
    "duration": 14,
    "start_time": "2022-07-25T16:18:41.578Z"
   },
   {
    "duration": 17,
    "start_time": "2022-07-25T16:18:41.594Z"
   },
   {
    "duration": 50,
    "start_time": "2022-07-25T16:18:41.614Z"
   },
   {
    "duration": 21,
    "start_time": "2022-07-25T16:18:41.666Z"
   },
   {
    "duration": 10,
    "start_time": "2022-07-25T16:19:14.749Z"
   },
   {
    "duration": 12,
    "start_time": "2022-07-25T16:19:32.079Z"
   },
   {
    "duration": 13,
    "start_time": "2022-07-25T16:20:10.828Z"
   },
   {
    "duration": 11,
    "start_time": "2022-07-25T16:21:06.056Z"
   },
   {
    "duration": 18,
    "start_time": "2022-07-25T16:21:13.004Z"
   },
   {
    "duration": 13,
    "start_time": "2022-07-25T16:21:54.639Z"
   },
   {
    "duration": 18,
    "start_time": "2022-07-25T16:22:05.613Z"
   },
   {
    "duration": 16,
    "start_time": "2022-07-25T16:23:00.112Z"
   },
   {
    "duration": 17,
    "start_time": "2022-07-25T16:23:03.620Z"
   },
   {
    "duration": 24,
    "start_time": "2022-07-25T16:24:24.749Z"
   },
   {
    "duration": 23,
    "start_time": "2022-07-25T16:27:54.399Z"
   },
   {
    "duration": 1063,
    "start_time": "2022-07-25T16:31:22.433Z"
   },
   {
    "duration": 943,
    "start_time": "2022-07-25T16:31:36.120Z"
   },
   {
    "duration": 3,
    "start_time": "2022-07-25T16:31:41.374Z"
   },
   {
    "duration": 258,
    "start_time": "2022-07-25T16:31:41.379Z"
   },
   {
    "duration": 7,
    "start_time": "2022-07-25T16:31:41.639Z"
   },
   {
    "duration": 14,
    "start_time": "2022-07-25T16:31:41.648Z"
   },
   {
    "duration": 12,
    "start_time": "2022-07-25T16:31:41.665Z"
   },
   {
    "duration": 26,
    "start_time": "2022-07-25T16:31:41.679Z"
   },
   {
    "duration": 11,
    "start_time": "2022-07-25T16:31:41.707Z"
   },
   {
    "duration": 11,
    "start_time": "2022-07-25T16:31:41.720Z"
   },
   {
    "duration": 10,
    "start_time": "2022-07-25T16:31:41.733Z"
   },
   {
    "duration": 21,
    "start_time": "2022-07-25T16:31:41.744Z"
   },
   {
    "duration": 71,
    "start_time": "2022-07-25T16:31:41.883Z"
   },
   {
    "duration": 75,
    "start_time": "2022-07-25T16:31:41.956Z"
   },
   {
    "duration": 42,
    "start_time": "2022-07-25T16:31:42.033Z"
   },
   {
    "duration": 30,
    "start_time": "2022-07-25T16:31:42.077Z"
   },
   {
    "duration": 21,
    "start_time": "2022-07-25T16:31:42.109Z"
   },
   {
    "duration": 104,
    "start_time": "2022-07-25T16:31:42.132Z"
   },
   {
    "duration": 27,
    "start_time": "2022-07-25T16:31:42.237Z"
   },
   {
    "duration": 43,
    "start_time": "2022-07-25T16:31:42.266Z"
   },
   {
    "duration": 20,
    "start_time": "2022-07-25T16:31:42.316Z"
   },
   {
    "duration": 15,
    "start_time": "2022-07-25T16:31:42.364Z"
   },
   {
    "duration": 10,
    "start_time": "2022-07-25T16:31:42.381Z"
   },
   {
    "duration": 20,
    "start_time": "2022-07-25T16:31:42.393Z"
   },
   {
    "duration": 10,
    "start_time": "2022-07-25T16:31:42.415Z"
   },
   {
    "duration": 615,
    "start_time": "2022-07-25T16:31:42.427Z"
   },
   {
    "duration": 39,
    "start_time": "2022-07-25T16:31:43.044Z"
   },
   {
    "duration": 15,
    "start_time": "2022-07-25T16:31:43.085Z"
   },
   {
    "duration": 20,
    "start_time": "2022-07-25T16:31:43.102Z"
   },
   {
    "duration": 10,
    "start_time": "2022-07-25T16:31:43.125Z"
   },
   {
    "duration": 56,
    "start_time": "2022-07-25T16:31:43.136Z"
   },
   {
    "duration": 27,
    "start_time": "2022-07-25T16:31:43.194Z"
   },
   {
    "duration": 16,
    "start_time": "2022-07-25T16:31:43.223Z"
   },
   {
    "duration": 36,
    "start_time": "2022-07-25T16:31:43.241Z"
   },
   {
    "duration": 11,
    "start_time": "2022-07-25T16:31:43.278Z"
   },
   {
    "duration": 15,
    "start_time": "2022-07-25T16:31:43.291Z"
   },
   {
    "duration": 590,
    "start_time": "2022-07-25T16:31:43.307Z"
   },
   {
    "duration": 29,
    "start_time": "2022-07-25T16:31:43.898Z"
   },
   {
    "duration": 20,
    "start_time": "2022-07-25T16:31:43.928Z"
   },
   {
    "duration": 17,
    "start_time": "2022-07-25T16:31:43.965Z"
   },
   {
    "duration": 9,
    "start_time": "2022-07-25T16:31:43.984Z"
   },
   {
    "duration": 12,
    "start_time": "2022-07-25T16:31:43.995Z"
   },
   {
    "duration": 22,
    "start_time": "2022-07-25T16:31:44.008Z"
   },
   {
    "duration": 1503,
    "start_time": "2022-07-25T16:31:44.031Z"
   },
   {
    "duration": 21,
    "start_time": "2022-07-25T16:32:04.633Z"
   },
   {
    "duration": 25,
    "start_time": "2022-07-25T16:32:20.046Z"
   },
   {
    "duration": 222,
    "start_time": "2022-07-25T16:34:20.602Z"
   },
   {
    "duration": 23,
    "start_time": "2022-07-25T16:34:31.332Z"
   },
   {
    "duration": 26,
    "start_time": "2022-07-25T16:35:18.090Z"
   },
   {
    "duration": 21,
    "start_time": "2022-07-25T16:38:55.635Z"
   },
   {
    "duration": 36,
    "start_time": "2022-07-25T16:39:18.108Z"
   },
   {
    "duration": 8,
    "start_time": "2022-07-25T16:41:39.668Z"
   },
   {
    "duration": 11,
    "start_time": "2022-07-25T16:41:52.716Z"
   },
   {
    "duration": 10,
    "start_time": "2022-07-25T16:42:51.150Z"
   },
   {
    "duration": 11,
    "start_time": "2022-07-25T16:46:34.647Z"
   },
   {
    "duration": 20,
    "start_time": "2022-07-25T16:48:31.153Z"
   },
   {
    "duration": 26,
    "start_time": "2022-07-25T16:49:52.945Z"
   },
   {
    "duration": 57,
    "start_time": "2022-07-25T16:50:18.684Z"
   },
   {
    "duration": 20,
    "start_time": "2022-07-25T16:50:26.145Z"
   },
   {
    "duration": 29,
    "start_time": "2022-07-25T16:50:53.080Z"
   },
   {
    "duration": 21,
    "start_time": "2022-07-25T17:02:35.547Z"
   },
   {
    "duration": 3,
    "start_time": "2022-07-25T17:02:39.563Z"
   },
   {
    "duration": 267,
    "start_time": "2022-07-25T17:02:39.567Z"
   },
   {
    "duration": 7,
    "start_time": "2022-07-25T17:02:39.836Z"
   },
   {
    "duration": 9,
    "start_time": "2022-07-25T17:02:39.846Z"
   },
   {
    "duration": 12,
    "start_time": "2022-07-25T17:02:39.856Z"
   },
   {
    "duration": 30,
    "start_time": "2022-07-25T17:02:39.869Z"
   },
   {
    "duration": 14,
    "start_time": "2022-07-25T17:02:39.901Z"
   },
   {
    "duration": 15,
    "start_time": "2022-07-25T17:02:39.916Z"
   },
   {
    "duration": 10,
    "start_time": "2022-07-25T17:02:39.933Z"
   },
   {
    "duration": 16,
    "start_time": "2022-07-25T17:02:39.946Z"
   },
   {
    "duration": 76,
    "start_time": "2022-07-25T17:02:39.964Z"
   },
   {
    "duration": 87,
    "start_time": "2022-07-25T17:02:40.042Z"
   },
   {
    "duration": 43,
    "start_time": "2022-07-25T17:02:40.131Z"
   },
   {
    "duration": 27,
    "start_time": "2022-07-25T17:02:40.176Z"
   },
   {
    "duration": 22,
    "start_time": "2022-07-25T17:02:40.205Z"
   },
   {
    "duration": 125,
    "start_time": "2022-07-25T17:02:40.229Z"
   },
   {
    "duration": 21,
    "start_time": "2022-07-25T17:02:40.364Z"
   },
   {
    "duration": 47,
    "start_time": "2022-07-25T17:02:40.387Z"
   },
   {
    "duration": 43,
    "start_time": "2022-07-25T17:02:40.436Z"
   },
   {
    "duration": 20,
    "start_time": "2022-07-25T17:02:40.481Z"
   },
   {
    "duration": 18,
    "start_time": "2022-07-25T17:02:40.503Z"
   },
   {
    "duration": 25,
    "start_time": "2022-07-25T17:02:40.523Z"
   },
   {
    "duration": 24,
    "start_time": "2022-07-25T17:02:40.549Z"
   },
   {
    "duration": 607,
    "start_time": "2022-07-25T17:02:40.574Z"
   },
   {
    "duration": 31,
    "start_time": "2022-07-25T17:02:41.182Z"
   },
   {
    "duration": 16,
    "start_time": "2022-07-25T17:02:41.215Z"
   },
   {
    "duration": 42,
    "start_time": "2022-07-25T17:02:41.233Z"
   },
   {
    "duration": 11,
    "start_time": "2022-07-25T17:02:41.279Z"
   },
   {
    "duration": 32,
    "start_time": "2022-07-25T17:02:41.292Z"
   },
   {
    "duration": 48,
    "start_time": "2022-07-25T17:02:41.325Z"
   },
   {
    "duration": 21,
    "start_time": "2022-07-25T17:02:41.374Z"
   },
   {
    "duration": 17,
    "start_time": "2022-07-25T17:02:41.397Z"
   },
   {
    "duration": 11,
    "start_time": "2022-07-25T17:02:41.416Z"
   },
   {
    "duration": 45,
    "start_time": "2022-07-25T17:02:41.429Z"
   },
   {
    "duration": 44,
    "start_time": "2022-07-25T17:02:41.476Z"
   },
   {
    "duration": 630,
    "start_time": "2022-07-25T17:05:12.455Z"
   },
   {
    "duration": 30,
    "start_time": "2022-07-25T17:05:28.970Z"
   },
   {
    "duration": 3,
    "start_time": "2022-07-25T17:07:29.676Z"
   },
   {
    "duration": 272,
    "start_time": "2022-07-25T17:07:29.682Z"
   },
   {
    "duration": 10,
    "start_time": "2022-07-25T17:07:29.957Z"
   },
   {
    "duration": 19,
    "start_time": "2022-07-25T17:07:29.970Z"
   },
   {
    "duration": 12,
    "start_time": "2022-07-25T17:07:29.991Z"
   },
   {
    "duration": 20,
    "start_time": "2022-07-25T17:07:30.005Z"
   },
   {
    "duration": 16,
    "start_time": "2022-07-25T17:07:30.027Z"
   },
   {
    "duration": 31,
    "start_time": "2022-07-25T17:07:30.045Z"
   },
   {
    "duration": 22,
    "start_time": "2022-07-25T17:07:30.079Z"
   },
   {
    "duration": 8,
    "start_time": "2022-07-25T17:07:30.103Z"
   },
   {
    "duration": 84,
    "start_time": "2022-07-25T17:07:30.114Z"
   },
   {
    "duration": 104,
    "start_time": "2022-07-25T17:07:30.200Z"
   },
   {
    "duration": 35,
    "start_time": "2022-07-25T17:07:30.305Z"
   },
   {
    "duration": 52,
    "start_time": "2022-07-25T17:07:30.342Z"
   },
   {
    "duration": 28,
    "start_time": "2022-07-25T17:07:30.396Z"
   },
   {
    "duration": 118,
    "start_time": "2022-07-25T17:07:30.426Z"
   },
   {
    "duration": 34,
    "start_time": "2022-07-25T17:07:30.546Z"
   },
   {
    "duration": 50,
    "start_time": "2022-07-25T17:07:30.582Z"
   },
   {
    "duration": 53,
    "start_time": "2022-07-25T17:07:30.634Z"
   },
   {
    "duration": 18,
    "start_time": "2022-07-25T17:07:30.689Z"
   },
   {
    "duration": 22,
    "start_time": "2022-07-25T17:07:30.709Z"
   },
   {
    "duration": 54,
    "start_time": "2022-07-25T17:07:30.733Z"
   },
   {
    "duration": 13,
    "start_time": "2022-07-25T17:07:30.789Z"
   },
   {
    "duration": 680,
    "start_time": "2022-07-25T17:07:30.803Z"
   },
   {
    "duration": 32,
    "start_time": "2022-07-25T17:07:31.485Z"
   },
   {
    "duration": 16,
    "start_time": "2022-07-25T17:07:31.519Z"
   },
   {
    "duration": 45,
    "start_time": "2022-07-25T17:07:31.537Z"
   },
   {
    "duration": 32,
    "start_time": "2022-07-25T17:07:31.584Z"
   },
   {
    "duration": 35,
    "start_time": "2022-07-25T17:07:31.620Z"
   },
   {
    "duration": 41,
    "start_time": "2022-07-25T17:07:31.657Z"
   },
   {
    "duration": 18,
    "start_time": "2022-07-25T17:07:31.700Z"
   },
   {
    "duration": 23,
    "start_time": "2022-07-25T17:07:31.720Z"
   },
   {
    "duration": 36,
    "start_time": "2022-07-25T17:07:31.745Z"
   },
   {
    "duration": 19,
    "start_time": "2022-07-25T17:07:31.783Z"
   },
   {
    "duration": 3,
    "start_time": "2022-07-25T17:07:31.803Z"
   },
   {
    "duration": 12,
    "start_time": "2022-07-25T17:07:40.454Z"
   },
   {
    "duration": 13,
    "start_time": "2022-07-25T17:08:00.497Z"
   },
   {
    "duration": 1182,
    "start_time": "2022-07-25T17:08:39.409Z"
   },
   {
    "duration": 2,
    "start_time": "2022-07-25T17:09:48.550Z"
   },
   {
    "duration": 278,
    "start_time": "2022-07-25T17:09:48.556Z"
   },
   {
    "duration": 7,
    "start_time": "2022-07-25T17:09:48.837Z"
   },
   {
    "duration": 8,
    "start_time": "2022-07-25T17:09:48.846Z"
   },
   {
    "duration": 10,
    "start_time": "2022-07-25T17:09:48.855Z"
   },
   {
    "duration": 15,
    "start_time": "2022-07-25T17:09:48.867Z"
   },
   {
    "duration": 6,
    "start_time": "2022-07-25T17:09:48.884Z"
   },
   {
    "duration": 12,
    "start_time": "2022-07-25T17:09:48.891Z"
   },
   {
    "duration": 9,
    "start_time": "2022-07-25T17:09:48.904Z"
   },
   {
    "duration": 7,
    "start_time": "2022-07-25T17:09:48.915Z"
   },
   {
    "duration": 91,
    "start_time": "2022-07-25T17:09:48.924Z"
   },
   {
    "duration": 84,
    "start_time": "2022-07-25T17:09:49.017Z"
   },
   {
    "duration": 31,
    "start_time": "2022-07-25T17:09:49.103Z"
   },
   {
    "duration": 39,
    "start_time": "2022-07-25T17:09:49.136Z"
   },
   {
    "duration": 22,
    "start_time": "2022-07-25T17:09:49.178Z"
   },
   {
    "duration": 110,
    "start_time": "2022-07-25T17:09:49.202Z"
   },
   {
    "duration": 19,
    "start_time": "2022-07-25T17:09:49.314Z"
   },
   {
    "duration": 69,
    "start_time": "2022-07-25T17:09:49.335Z"
   },
   {
    "duration": 24,
    "start_time": "2022-07-25T17:09:49.406Z"
   },
   {
    "duration": 31,
    "start_time": "2022-07-25T17:09:49.432Z"
   },
   {
    "duration": 11,
    "start_time": "2022-07-25T17:09:49.465Z"
   },
   {
    "duration": 22,
    "start_time": "2022-07-25T17:09:49.477Z"
   },
   {
    "duration": 11,
    "start_time": "2022-07-25T17:09:49.501Z"
   },
   {
    "duration": 603,
    "start_time": "2022-07-25T17:09:49.513Z"
   },
   {
    "duration": 31,
    "start_time": "2022-07-25T17:09:50.118Z"
   },
   {
    "duration": 25,
    "start_time": "2022-07-25T17:09:50.150Z"
   },
   {
    "duration": 24,
    "start_time": "2022-07-25T17:09:50.176Z"
   },
   {
    "duration": 15,
    "start_time": "2022-07-25T17:09:50.201Z"
   },
   {
    "duration": 54,
    "start_time": "2022-07-25T17:09:50.217Z"
   },
   {
    "duration": 24,
    "start_time": "2022-07-25T17:09:50.273Z"
   },
   {
    "duration": 15,
    "start_time": "2022-07-25T17:09:50.299Z"
   },
   {
    "duration": 21,
    "start_time": "2022-07-25T17:09:50.317Z"
   },
   {
    "duration": 31,
    "start_time": "2022-07-25T17:09:50.364Z"
   },
   {
    "duration": 41,
    "start_time": "2022-07-25T17:09:50.397Z"
   },
   {
    "duration": 1140,
    "start_time": "2022-07-25T17:09:50.440Z"
   },
   {
    "duration": 50,
    "start_time": "2022-07-25T17:09:51.582Z"
   },
   {
    "duration": 47,
    "start_time": "2022-07-25T17:10:12.296Z"
   },
   {
    "duration": 54,
    "start_time": "2022-07-25T17:10:24.516Z"
   },
   {
    "duration": 23,
    "start_time": "2022-07-25T17:11:15.109Z"
   },
   {
    "duration": 18,
    "start_time": "2022-07-25T17:11:51.883Z"
   },
   {
    "duration": 16,
    "start_time": "2022-07-25T17:12:13.758Z"
   },
   {
    "duration": 12,
    "start_time": "2022-07-25T17:12:29.893Z"
   },
   {
    "duration": 853,
    "start_time": "2022-07-25T17:12:54.178Z"
   },
   {
    "duration": 11,
    "start_time": "2022-07-25T17:13:19.551Z"
   },
   {
    "duration": 14,
    "start_time": "2022-07-25T17:21:06.399Z"
   },
   {
    "duration": 570,
    "start_time": "2022-07-25T17:22:18.595Z"
   },
   {
    "duration": 40,
    "start_time": "2022-07-25T17:26:41.743Z"
   },
   {
    "duration": 27,
    "start_time": "2022-07-25T17:28:21.944Z"
   },
   {
    "duration": 37,
    "start_time": "2022-07-25T17:30:34.065Z"
   },
   {
    "duration": 50,
    "start_time": "2022-07-25T17:30:51.344Z"
   },
   {
    "duration": 224,
    "start_time": "2022-07-25T17:31:27.313Z"
   },
   {
    "duration": 42,
    "start_time": "2022-07-25T17:31:33.507Z"
   },
   {
    "duration": 44,
    "start_time": "2022-07-25T17:32:08.642Z"
   },
   {
    "duration": 10,
    "start_time": "2022-07-25T17:33:13.083Z"
   },
   {
    "duration": 43,
    "start_time": "2022-07-25T17:33:31.947Z"
   },
   {
    "duration": 42,
    "start_time": "2022-07-25T17:33:43.446Z"
   },
   {
    "duration": 15,
    "start_time": "2022-07-25T17:33:56.688Z"
   },
   {
    "duration": 40,
    "start_time": "2022-07-25T17:36:31.912Z"
   },
   {
    "duration": 16,
    "start_time": "2022-07-25T17:36:55.244Z"
   },
   {
    "duration": 43,
    "start_time": "2022-07-25T17:37:12.803Z"
   },
   {
    "duration": 17,
    "start_time": "2022-07-25T17:37:16.135Z"
   },
   {
    "duration": 15,
    "start_time": "2022-07-25T17:39:17.597Z"
   },
   {
    "duration": 20,
    "start_time": "2022-07-25T17:42:07.146Z"
   },
   {
    "duration": 3,
    "start_time": "2022-07-25T17:42:12.415Z"
   },
   {
    "duration": 330,
    "start_time": "2022-07-25T17:42:12.421Z"
   },
   {
    "duration": 9,
    "start_time": "2022-07-25T17:42:12.753Z"
   },
   {
    "duration": 11,
    "start_time": "2022-07-25T17:42:12.764Z"
   },
   {
    "duration": 11,
    "start_time": "2022-07-25T17:42:12.777Z"
   },
   {
    "duration": 17,
    "start_time": "2022-07-25T17:42:12.790Z"
   },
   {
    "duration": 7,
    "start_time": "2022-07-25T17:42:12.809Z"
   },
   {
    "duration": 11,
    "start_time": "2022-07-25T17:42:12.818Z"
   },
   {
    "duration": 32,
    "start_time": "2022-07-25T17:42:12.831Z"
   },
   {
    "duration": 8,
    "start_time": "2022-07-25T17:42:12.865Z"
   },
   {
    "duration": 94,
    "start_time": "2022-07-25T17:42:12.874Z"
   },
   {
    "duration": 94,
    "start_time": "2022-07-25T17:42:12.970Z"
   },
   {
    "duration": 33,
    "start_time": "2022-07-25T17:42:13.066Z"
   },
   {
    "duration": 26,
    "start_time": "2022-07-25T17:42:13.101Z"
   },
   {
    "duration": 44,
    "start_time": "2022-07-25T17:42:13.129Z"
   },
   {
    "duration": 102,
    "start_time": "2022-07-25T17:42:13.175Z"
   },
   {
    "duration": 17,
    "start_time": "2022-07-25T17:42:13.279Z"
   },
   {
    "duration": 42,
    "start_time": "2022-07-25T17:42:13.298Z"
   },
   {
    "duration": 38,
    "start_time": "2022-07-25T17:42:13.342Z"
   },
   {
    "duration": 14,
    "start_time": "2022-07-25T17:42:13.382Z"
   },
   {
    "duration": 18,
    "start_time": "2022-07-25T17:42:13.398Z"
   },
   {
    "duration": 47,
    "start_time": "2022-07-25T17:42:13.418Z"
   },
   {
    "duration": 18,
    "start_time": "2022-07-25T17:42:13.467Z"
   },
   {
    "duration": 608,
    "start_time": "2022-07-25T17:42:13.490Z"
   },
   {
    "duration": 34,
    "start_time": "2022-07-25T17:42:14.100Z"
   },
   {
    "duration": 31,
    "start_time": "2022-07-25T17:42:14.136Z"
   },
   {
    "duration": 21,
    "start_time": "2022-07-25T17:42:14.170Z"
   },
   {
    "duration": 12,
    "start_time": "2022-07-25T17:42:14.192Z"
   },
   {
    "duration": 62,
    "start_time": "2022-07-25T17:42:14.205Z"
   },
   {
    "duration": 46,
    "start_time": "2022-07-25T17:42:14.269Z"
   },
   {
    "duration": 20,
    "start_time": "2022-07-25T17:42:14.317Z"
   },
   {
    "duration": 34,
    "start_time": "2022-07-25T17:42:14.339Z"
   },
   {
    "duration": 12,
    "start_time": "2022-07-25T17:42:14.375Z"
   },
   {
    "duration": 20,
    "start_time": "2022-07-25T17:42:14.388Z"
   },
   {
    "duration": 1215,
    "start_time": "2022-07-25T17:42:14.410Z"
   },
   {
    "duration": 55,
    "start_time": "2022-07-25T17:42:15.626Z"
   },
   {
    "duration": 22,
    "start_time": "2022-07-25T17:42:15.684Z"
   },
   {
    "duration": 17,
    "start_time": "2022-07-25T17:42:15.708Z"
   },
   {
    "duration": 10,
    "start_time": "2022-07-25T17:42:15.727Z"
   },
   {
    "duration": 12,
    "start_time": "2022-07-25T17:42:15.764Z"
   },
   {
    "duration": 578,
    "start_time": "2022-07-25T17:42:15.778Z"
   },
   {
    "duration": 37,
    "start_time": "2022-07-25T17:42:16.358Z"
   },
   {
    "duration": 41,
    "start_time": "2022-07-25T17:42:16.397Z"
   },
   {
    "duration": 30,
    "start_time": "2022-07-25T17:42:16.440Z"
   },
   {
    "duration": 51,
    "start_time": "2022-07-25T17:42:49.339Z"
   },
   {
    "duration": 16,
    "start_time": "2022-07-25T17:42:55.099Z"
   },
   {
    "duration": 20,
    "start_time": "2022-07-25T17:45:06.548Z"
   },
   {
    "duration": 3,
    "start_time": "2022-07-25T17:45:12.334Z"
   },
   {
    "duration": 284,
    "start_time": "2022-07-25T17:45:12.339Z"
   },
   {
    "duration": 10,
    "start_time": "2022-07-25T17:45:12.625Z"
   },
   {
    "duration": 18,
    "start_time": "2022-07-25T17:45:12.637Z"
   },
   {
    "duration": 18,
    "start_time": "2022-07-25T17:45:12.658Z"
   },
   {
    "duration": 25,
    "start_time": "2022-07-25T17:45:12.679Z"
   },
   {
    "duration": 15,
    "start_time": "2022-07-25T17:45:12.706Z"
   },
   {
    "duration": 30,
    "start_time": "2022-07-25T17:45:12.724Z"
   },
   {
    "duration": 14,
    "start_time": "2022-07-25T17:45:12.757Z"
   },
   {
    "duration": 24,
    "start_time": "2022-07-25T17:45:12.773Z"
   },
   {
    "duration": 76,
    "start_time": "2022-07-25T17:45:12.799Z"
   },
   {
    "duration": 78,
    "start_time": "2022-07-25T17:45:15.229Z"
   },
   {
    "duration": 34,
    "start_time": "2022-07-25T17:45:15.309Z"
   },
   {
    "duration": 46,
    "start_time": "2022-07-25T17:45:15.345Z"
   },
   {
    "duration": 24,
    "start_time": "2022-07-25T17:45:15.393Z"
   },
   {
    "duration": 114,
    "start_time": "2022-07-25T17:45:15.419Z"
   },
   {
    "duration": 30,
    "start_time": "2022-07-25T17:45:15.535Z"
   },
   {
    "duration": 46,
    "start_time": "2022-07-25T17:45:15.566Z"
   },
   {
    "duration": 18,
    "start_time": "2022-07-25T17:45:15.613Z"
   },
   {
    "duration": 34,
    "start_time": "2022-07-25T17:45:15.633Z"
   },
   {
    "duration": 10,
    "start_time": "2022-07-25T17:45:15.669Z"
   },
   {
    "duration": 39,
    "start_time": "2022-07-25T17:45:15.680Z"
   },
   {
    "duration": 12,
    "start_time": "2022-07-25T17:45:15.720Z"
   },
   {
    "duration": 600,
    "start_time": "2022-07-25T17:45:15.734Z"
   },
   {
    "duration": 40,
    "start_time": "2022-07-25T17:45:16.336Z"
   },
   {
    "duration": 17,
    "start_time": "2022-07-25T17:45:16.377Z"
   },
   {
    "duration": 20,
    "start_time": "2022-07-25T17:45:16.396Z"
   },
   {
    "duration": 11,
    "start_time": "2022-07-25T17:45:16.418Z"
   },
   {
    "duration": 64,
    "start_time": "2022-07-25T17:45:16.430Z"
   },
   {
    "duration": 25,
    "start_time": "2022-07-25T17:45:16.496Z"
   },
   {
    "duration": 16,
    "start_time": "2022-07-25T17:45:16.524Z"
   },
   {
    "duration": 16,
    "start_time": "2022-07-25T17:45:16.563Z"
   },
   {
    "duration": 16,
    "start_time": "2022-07-25T17:45:16.581Z"
   },
   {
    "duration": 15,
    "start_time": "2022-07-25T17:45:16.601Z"
   },
   {
    "duration": 1190,
    "start_time": "2022-07-25T17:45:16.619Z"
   },
   {
    "duration": 58,
    "start_time": "2022-07-25T17:45:17.811Z"
   },
   {
    "duration": 22,
    "start_time": "2022-07-25T17:45:17.872Z"
   },
   {
    "duration": 24,
    "start_time": "2022-07-25T17:45:17.895Z"
   },
   {
    "duration": 10,
    "start_time": "2022-07-25T17:45:17.921Z"
   },
   {
    "duration": 32,
    "start_time": "2022-07-25T17:45:17.933Z"
   },
   {
    "duration": 540,
    "start_time": "2022-07-25T17:45:17.967Z"
   },
   {
    "duration": 34,
    "start_time": "2022-07-25T17:45:18.508Z"
   },
   {
    "duration": 57,
    "start_time": "2022-07-25T17:45:18.544Z"
   },
   {
    "duration": 15,
    "start_time": "2022-07-25T17:45:18.602Z"
   },
   {
    "duration": 3,
    "start_time": "2022-07-25T17:55:59.089Z"
   },
   {
    "duration": 254,
    "start_time": "2022-07-25T17:55:59.110Z"
   },
   {
    "duration": 7,
    "start_time": "2022-07-25T17:55:59.367Z"
   },
   {
    "duration": 10,
    "start_time": "2022-07-25T17:55:59.377Z"
   },
   {
    "duration": 11,
    "start_time": "2022-07-25T17:55:59.390Z"
   },
   {
    "duration": 16,
    "start_time": "2022-07-25T17:55:59.403Z"
   },
   {
    "duration": 14,
    "start_time": "2022-07-25T17:55:59.421Z"
   },
   {
    "duration": 32,
    "start_time": "2022-07-25T17:55:59.436Z"
   },
   {
    "duration": 12,
    "start_time": "2022-07-25T17:55:59.470Z"
   },
   {
    "duration": 11,
    "start_time": "2022-07-25T17:55:59.484Z"
   },
   {
    "duration": 57,
    "start_time": "2022-07-25T17:55:59.497Z"
   },
   {
    "duration": 68,
    "start_time": "2022-07-25T17:55:59.563Z"
   },
   {
    "duration": 91,
    "start_time": "2022-07-25T17:55:59.633Z"
   },
   {
    "duration": 41,
    "start_time": "2022-07-25T17:55:59.726Z"
   },
   {
    "duration": 20,
    "start_time": "2022-07-25T17:55:59.771Z"
   },
   {
    "duration": 108,
    "start_time": "2022-07-25T17:55:59.793Z"
   },
   {
    "duration": 20,
    "start_time": "2022-07-25T17:55:59.902Z"
   },
   {
    "duration": 60,
    "start_time": "2022-07-25T17:55:59.923Z"
   },
   {
    "duration": 17,
    "start_time": "2022-07-25T17:55:59.984Z"
   },
   {
    "duration": 20,
    "start_time": "2022-07-25T17:56:00.003Z"
   },
   {
    "duration": 20,
    "start_time": "2022-07-25T17:56:00.025Z"
   },
   {
    "duration": 21,
    "start_time": "2022-07-25T17:56:00.063Z"
   },
   {
    "duration": 11,
    "start_time": "2022-07-25T17:56:00.086Z"
   },
   {
    "duration": 632,
    "start_time": "2022-07-25T17:56:00.099Z"
   },
   {
    "duration": 44,
    "start_time": "2022-07-25T17:56:00.733Z"
   },
   {
    "duration": 17,
    "start_time": "2022-07-25T17:56:00.779Z"
   },
   {
    "duration": 28,
    "start_time": "2022-07-25T17:56:00.798Z"
   },
   {
    "duration": 17,
    "start_time": "2022-07-25T17:56:00.828Z"
   },
   {
    "duration": 47,
    "start_time": "2022-07-25T17:56:00.847Z"
   },
   {
    "duration": 27,
    "start_time": "2022-07-25T17:56:00.896Z"
   },
   {
    "duration": 40,
    "start_time": "2022-07-25T17:56:00.925Z"
   },
   {
    "duration": 21,
    "start_time": "2022-07-25T17:56:00.967Z"
   },
   {
    "duration": 12,
    "start_time": "2022-07-25T17:56:00.990Z"
   },
   {
    "duration": 25,
    "start_time": "2022-07-25T17:56:01.004Z"
   },
   {
    "duration": 1194,
    "start_time": "2022-07-25T17:56:01.031Z"
   },
   {
    "duration": 54,
    "start_time": "2022-07-25T17:56:02.227Z"
   },
   {
    "duration": 21,
    "start_time": "2022-07-25T17:56:02.283Z"
   },
   {
    "duration": 15,
    "start_time": "2022-07-25T17:56:02.305Z"
   },
   {
    "duration": 11,
    "start_time": "2022-07-25T17:56:02.322Z"
   },
   {
    "duration": 12,
    "start_time": "2022-07-25T17:56:02.363Z"
   },
   {
    "duration": 608,
    "start_time": "2022-07-25T17:56:02.377Z"
   },
   {
    "duration": 37,
    "start_time": "2022-07-25T17:56:02.988Z"
   },
   {
    "duration": 77,
    "start_time": "2022-07-25T17:56:03.028Z"
   },
   {
    "duration": 20,
    "start_time": "2022-07-25T17:56:03.107Z"
   },
   {
    "duration": 16,
    "start_time": "2022-07-25T18:05:50.472Z"
   },
   {
    "duration": 16,
    "start_time": "2022-07-25T18:06:18.688Z"
   },
   {
    "duration": 18,
    "start_time": "2022-07-25T18:07:16.899Z"
   },
   {
    "duration": 17,
    "start_time": "2022-07-25T18:07:29.363Z"
   },
   {
    "duration": 15,
    "start_time": "2022-07-25T18:07:44.345Z"
   },
   {
    "duration": 18,
    "start_time": "2022-07-25T18:07:52.217Z"
   },
   {
    "duration": 18,
    "start_time": "2022-07-25T18:08:16.009Z"
   },
   {
    "duration": 18,
    "start_time": "2022-07-25T18:08:22.096Z"
   },
   {
    "duration": 18,
    "start_time": "2022-07-25T18:09:11.849Z"
   },
   {
    "duration": 1173,
    "start_time": "2022-07-25T18:09:34.299Z"
   },
   {
    "duration": 46,
    "start_time": "2022-07-25T18:09:39.165Z"
   },
   {
    "duration": 21,
    "start_time": "2022-07-25T18:09:44.165Z"
   },
   {
    "duration": 17,
    "start_time": "2022-07-25T18:09:51.206Z"
   },
   {
    "duration": 14,
    "start_time": "2022-07-25T18:10:05.554Z"
   },
   {
    "duration": 594,
    "start_time": "2022-07-25T18:13:57.590Z"
   },
   {
    "duration": 43,
    "start_time": "2022-07-25T18:14:02.508Z"
   },
   {
    "duration": 48,
    "start_time": "2022-07-25T18:14:09.451Z"
   },
   {
    "duration": 17,
    "start_time": "2022-07-25T18:14:13.791Z"
   },
   {
    "duration": 10,
    "start_time": "2022-07-25T18:28:38.366Z"
   },
   {
    "duration": 47,
    "start_time": "2022-07-25T18:30:37.809Z"
   },
   {
    "duration": 13,
    "start_time": "2022-07-25T18:31:57.734Z"
   },
   {
    "duration": 8,
    "start_time": "2022-07-25T18:32:14.593Z"
   },
   {
    "duration": 13,
    "start_time": "2022-07-25T18:32:19.660Z"
   },
   {
    "duration": 14,
    "start_time": "2022-07-25T18:32:26.152Z"
   },
   {
    "duration": 11,
    "start_time": "2022-07-25T18:32:41.754Z"
   },
   {
    "duration": 10,
    "start_time": "2022-07-25T18:34:29.184Z"
   },
   {
    "duration": 2,
    "start_time": "2022-07-25T18:35:44.380Z"
   },
   {
    "duration": 260,
    "start_time": "2022-07-25T18:35:44.384Z"
   },
   {
    "duration": 8,
    "start_time": "2022-07-25T18:35:44.645Z"
   },
   {
    "duration": 8,
    "start_time": "2022-07-25T18:35:44.654Z"
   },
   {
    "duration": 10,
    "start_time": "2022-07-25T18:35:44.664Z"
   },
   {
    "duration": 16,
    "start_time": "2022-07-25T18:35:44.676Z"
   },
   {
    "duration": 12,
    "start_time": "2022-07-25T18:35:44.693Z"
   },
   {
    "duration": 15,
    "start_time": "2022-07-25T18:35:44.706Z"
   },
   {
    "duration": 10,
    "start_time": "2022-07-25T18:35:44.723Z"
   },
   {
    "duration": 29,
    "start_time": "2022-07-25T18:35:44.735Z"
   },
   {
    "duration": 35,
    "start_time": "2022-07-25T18:35:44.765Z"
   },
   {
    "duration": 80,
    "start_time": "2022-07-25T18:35:44.801Z"
   },
   {
    "duration": 85,
    "start_time": "2022-07-25T18:35:44.883Z"
   },
   {
    "duration": 26,
    "start_time": "2022-07-25T18:35:44.971Z"
   },
   {
    "duration": 23,
    "start_time": "2022-07-25T18:35:44.999Z"
   },
   {
    "duration": 113,
    "start_time": "2022-07-25T18:35:45.024Z"
   },
   {
    "duration": 27,
    "start_time": "2022-07-25T18:35:45.138Z"
   },
   {
    "duration": 42,
    "start_time": "2022-07-25T18:35:45.167Z"
   },
   {
    "duration": 19,
    "start_time": "2022-07-25T18:35:45.210Z"
   },
   {
    "duration": 38,
    "start_time": "2022-07-25T18:35:45.230Z"
   },
   {
    "duration": 10,
    "start_time": "2022-07-25T18:35:45.269Z"
   },
   {
    "duration": 23,
    "start_time": "2022-07-25T18:35:45.280Z"
   },
   {
    "duration": 526,
    "start_time": "2022-07-25T18:35:45.305Z"
   },
   {
    "duration": 39,
    "start_time": "2022-07-25T18:35:45.832Z"
   },
   {
    "duration": 16,
    "start_time": "2022-07-25T18:35:45.873Z"
   },
   {
    "duration": 28,
    "start_time": "2022-07-25T18:35:45.891Z"
   },
   {
    "duration": 11,
    "start_time": "2022-07-25T18:35:45.920Z"
   },
   {
    "duration": 49,
    "start_time": "2022-07-25T18:35:45.933Z"
   },
   {
    "duration": 28,
    "start_time": "2022-07-25T18:35:45.983Z"
   },
   {
    "duration": 18,
    "start_time": "2022-07-25T18:35:46.013Z"
   },
   {
    "duration": 44,
    "start_time": "2022-07-25T18:35:46.032Z"
   },
   {
    "duration": 12,
    "start_time": "2022-07-25T18:35:46.078Z"
   },
   {
    "duration": 13,
    "start_time": "2022-07-25T18:35:46.092Z"
   },
   {
    "duration": 16,
    "start_time": "2022-07-25T18:35:46.107Z"
   },
   {
    "duration": 1166,
    "start_time": "2022-07-25T18:35:46.125Z"
   },
   {
    "duration": 48,
    "start_time": "2022-07-25T18:35:47.293Z"
   },
   {
    "duration": 38,
    "start_time": "2022-07-25T18:35:47.343Z"
   },
   {
    "duration": 18,
    "start_time": "2022-07-25T18:35:47.383Z"
   },
   {
    "duration": 11,
    "start_time": "2022-07-25T18:35:47.403Z"
   },
   {
    "duration": 12,
    "start_time": "2022-07-25T18:35:47.416Z"
   },
   {
    "duration": 615,
    "start_time": "2022-07-25T18:35:47.433Z"
   },
   {
    "duration": 38,
    "start_time": "2022-07-25T18:35:48.050Z"
   },
   {
    "duration": 40,
    "start_time": "2022-07-25T18:35:48.090Z"
   },
   {
    "duration": 32,
    "start_time": "2022-07-25T18:35:48.132Z"
   },
   {
    "duration": 11,
    "start_time": "2022-07-25T18:35:48.166Z"
   },
   {
    "duration": 17,
    "start_time": "2022-07-25T18:35:48.178Z"
   },
   {
    "duration": 9,
    "start_time": "2022-07-25T18:35:48.196Z"
   },
   {
    "duration": 6,
    "start_time": "2022-07-25T18:39:08.165Z"
   },
   {
    "duration": 6,
    "start_time": "2022-07-25T18:39:10.348Z"
   },
   {
    "duration": 418,
    "start_time": "2022-07-26T06:18:03.969Z"
   },
   {
    "duration": 684,
    "start_time": "2022-07-26T06:18:04.390Z"
   },
   {
    "duration": 15,
    "start_time": "2022-07-26T06:18:05.076Z"
   },
   {
    "duration": 5,
    "start_time": "2022-07-26T06:18:05.093Z"
   },
   {
    "duration": 29,
    "start_time": "2022-07-26T06:18:05.100Z"
   },
   {
    "duration": 21,
    "start_time": "2022-07-26T06:18:05.131Z"
   },
   {
    "duration": 8,
    "start_time": "2022-07-26T06:18:05.154Z"
   },
   {
    "duration": 13,
    "start_time": "2022-07-26T06:18:05.163Z"
   },
   {
    "duration": 17,
    "start_time": "2022-07-26T06:18:05.181Z"
   },
   {
    "duration": 17,
    "start_time": "2022-07-26T06:18:05.202Z"
   },
   {
    "duration": 69,
    "start_time": "2022-07-26T06:18:05.221Z"
   },
   {
    "duration": 97,
    "start_time": "2022-07-26T06:18:05.292Z"
   },
   {
    "duration": 106,
    "start_time": "2022-07-26T06:18:05.391Z"
   },
   {
    "duration": 27,
    "start_time": "2022-07-26T06:18:05.499Z"
   },
   {
    "duration": 36,
    "start_time": "2022-07-26T06:18:05.527Z"
   },
   {
    "duration": 137,
    "start_time": "2022-07-26T06:18:05.565Z"
   },
   {
    "duration": 18,
    "start_time": "2022-07-26T06:18:05.704Z"
   },
   {
    "duration": 65,
    "start_time": "2022-07-26T06:18:05.723Z"
   },
   {
    "duration": 23,
    "start_time": "2022-07-26T06:18:05.789Z"
   },
   {
    "duration": 13,
    "start_time": "2022-07-26T06:18:05.813Z"
   },
   {
    "duration": 37,
    "start_time": "2022-07-26T06:18:05.827Z"
   },
   {
    "duration": 21,
    "start_time": "2022-07-26T06:18:05.866Z"
   },
   {
    "duration": 609,
    "start_time": "2022-07-26T06:18:05.889Z"
   },
   {
    "duration": 51,
    "start_time": "2022-07-26T06:18:06.500Z"
   },
   {
    "duration": 15,
    "start_time": "2022-07-26T06:18:06.560Z"
   },
   {
    "duration": 46,
    "start_time": "2022-07-26T06:18:06.576Z"
   },
   {
    "duration": 14,
    "start_time": "2022-07-26T06:18:06.624Z"
   },
   {
    "duration": 56,
    "start_time": "2022-07-26T06:18:06.641Z"
   },
   {
    "duration": 26,
    "start_time": "2022-07-26T06:18:06.699Z"
   },
   {
    "duration": 21,
    "start_time": "2022-07-26T06:18:06.727Z"
   },
   {
    "duration": 34,
    "start_time": "2022-07-26T06:18:06.749Z"
   },
   {
    "duration": 34,
    "start_time": "2022-07-26T06:18:06.785Z"
   },
   {
    "duration": 34,
    "start_time": "2022-07-26T06:18:06.821Z"
   },
   {
    "duration": 26,
    "start_time": "2022-07-26T06:18:06.856Z"
   },
   {
    "duration": 1187,
    "start_time": "2022-07-26T06:18:06.884Z"
   },
   {
    "duration": 92,
    "start_time": "2022-07-26T06:18:08.073Z"
   },
   {
    "duration": 31,
    "start_time": "2022-07-26T06:18:08.167Z"
   },
   {
    "duration": 19,
    "start_time": "2022-07-26T06:18:08.200Z"
   },
   {
    "duration": 32,
    "start_time": "2022-07-26T06:18:08.220Z"
   },
   {
    "duration": 33,
    "start_time": "2022-07-26T06:18:08.253Z"
   },
   {
    "duration": 630,
    "start_time": "2022-07-26T06:18:08.288Z"
   },
   {
    "duration": 46,
    "start_time": "2022-07-26T06:18:08.919Z"
   },
   {
    "duration": 44,
    "start_time": "2022-07-26T06:18:08.967Z"
   },
   {
    "duration": 16,
    "start_time": "2022-07-26T06:18:09.013Z"
   },
   {
    "duration": 31,
    "start_time": "2022-07-26T06:18:09.031Z"
   },
   {
    "duration": 12,
    "start_time": "2022-07-26T06:18:09.064Z"
   },
   {
    "duration": 9,
    "start_time": "2022-07-26T06:20:14.609Z"
   },
   {
    "duration": 759,
    "start_time": "2022-07-26T06:22:25.128Z"
   },
   {
    "duration": 266,
    "start_time": "2022-07-26T06:22:25.889Z"
   },
   {
    "duration": 14,
    "start_time": "2022-07-26T06:22:26.156Z"
   },
   {
    "duration": 23,
    "start_time": "2022-07-26T06:22:26.173Z"
   },
   {
    "duration": 39,
    "start_time": "2022-07-26T06:22:26.198Z"
   },
   {
    "duration": 26,
    "start_time": "2022-07-26T06:22:26.238Z"
   },
   {
    "duration": 13,
    "start_time": "2022-07-26T06:22:26.266Z"
   },
   {
    "duration": 50,
    "start_time": "2022-07-26T06:22:26.282Z"
   },
   {
    "duration": 14,
    "start_time": "2022-07-26T06:22:26.334Z"
   },
   {
    "duration": 13,
    "start_time": "2022-07-26T06:22:26.351Z"
   },
   {
    "duration": 60,
    "start_time": "2022-07-26T06:22:26.366Z"
   },
   {
    "duration": 93,
    "start_time": "2022-07-26T06:22:26.428Z"
   },
   {
    "duration": 80,
    "start_time": "2022-07-26T06:22:26.523Z"
   },
   {
    "duration": 24,
    "start_time": "2022-07-26T06:22:26.604Z"
   },
   {
    "duration": 40,
    "start_time": "2022-07-26T06:22:26.629Z"
   },
   {
    "duration": 118,
    "start_time": "2022-07-26T06:22:26.670Z"
   },
   {
    "duration": 18,
    "start_time": "2022-07-26T06:22:26.790Z"
   },
   {
    "duration": 56,
    "start_time": "2022-07-26T06:22:26.809Z"
   },
   {
    "duration": 22,
    "start_time": "2022-07-26T06:22:26.867Z"
   },
   {
    "duration": 13,
    "start_time": "2022-07-26T06:22:26.891Z"
   },
   {
    "duration": 12,
    "start_time": "2022-07-26T06:22:26.905Z"
   },
   {
    "duration": 43,
    "start_time": "2022-07-26T06:22:26.919Z"
   },
   {
    "duration": 617,
    "start_time": "2022-07-26T06:22:26.970Z"
   },
   {
    "duration": 29,
    "start_time": "2022-07-26T06:22:27.589Z"
   },
   {
    "duration": 16,
    "start_time": "2022-07-26T06:22:27.619Z"
   },
   {
    "duration": 42,
    "start_time": "2022-07-26T06:22:27.637Z"
   },
   {
    "duration": 10,
    "start_time": "2022-07-26T06:22:27.680Z"
   },
   {
    "duration": 33,
    "start_time": "2022-07-26T06:22:27.693Z"
   },
   {
    "duration": 46,
    "start_time": "2022-07-26T06:22:27.727Z"
   },
   {
    "duration": 20,
    "start_time": "2022-07-26T06:22:27.774Z"
   },
   {
    "duration": 17,
    "start_time": "2022-07-26T06:22:27.796Z"
   },
   {
    "duration": 11,
    "start_time": "2022-07-26T06:22:27.815Z"
   },
   {
    "duration": 37,
    "start_time": "2022-07-26T06:22:27.827Z"
   },
   {
    "duration": 21,
    "start_time": "2022-07-26T06:22:27.867Z"
   },
   {
    "duration": 1198,
    "start_time": "2022-07-26T06:22:27.889Z"
   },
   {
    "duration": 53,
    "start_time": "2022-07-26T06:22:29.089Z"
   },
   {
    "duration": 34,
    "start_time": "2022-07-26T06:22:29.144Z"
   },
   {
    "duration": 20,
    "start_time": "2022-07-26T06:22:29.180Z"
   },
   {
    "duration": 9,
    "start_time": "2022-07-26T06:22:29.201Z"
   },
   {
    "duration": 13,
    "start_time": "2022-07-26T06:22:29.211Z"
   },
   {
    "duration": 611,
    "start_time": "2022-07-26T06:22:29.226Z"
   },
   {
    "duration": 41,
    "start_time": "2022-07-26T06:22:29.838Z"
   },
   {
    "duration": 42,
    "start_time": "2022-07-26T06:22:29.881Z"
   },
   {
    "duration": 16,
    "start_time": "2022-07-26T06:22:29.925Z"
   },
   {
    "duration": 9,
    "start_time": "2022-07-26T06:22:29.961Z"
   },
   {
    "duration": 9,
    "start_time": "2022-07-26T06:22:29.972Z"
   },
   {
    "duration": 6,
    "start_time": "2022-07-26T06:22:29.982Z"
   },
   {
    "duration": 10,
    "start_time": "2022-07-26T06:26:45.835Z"
   },
   {
    "duration": 274,
    "start_time": "2022-07-26T06:26:45.889Z"
   },
   {
    "duration": 11,
    "start_time": "2022-07-26T06:26:46.165Z"
   },
   {
    "duration": 32,
    "start_time": "2022-07-26T06:26:46.177Z"
   },
   {
    "duration": 42,
    "start_time": "2022-07-26T06:26:46.211Z"
   },
   {
    "duration": 31,
    "start_time": "2022-07-26T06:26:46.256Z"
   },
   {
    "duration": 54,
    "start_time": "2022-07-26T06:26:46.289Z"
   },
   {
    "duration": 34,
    "start_time": "2022-07-26T06:26:46.345Z"
   },
   {
    "duration": 36,
    "start_time": "2022-07-26T06:26:46.381Z"
   },
   {
    "duration": 58,
    "start_time": "2022-07-26T06:26:46.419Z"
   },
   {
    "duration": 78,
    "start_time": "2022-07-26T06:26:46.480Z"
   },
   {
    "duration": 90,
    "start_time": "2022-07-26T06:26:46.560Z"
   },
   {
    "duration": 88,
    "start_time": "2022-07-26T06:26:46.654Z"
   },
   {
    "duration": 44,
    "start_time": "2022-07-26T06:26:46.744Z"
   },
   {
    "duration": 36,
    "start_time": "2022-07-26T06:26:46.792Z"
   },
   {
    "duration": 114,
    "start_time": "2022-07-26T06:26:46.830Z"
   },
   {
    "duration": 28,
    "start_time": "2022-07-26T06:26:46.946Z"
   },
   {
    "duration": 60,
    "start_time": "2022-07-26T06:26:46.976Z"
   },
   {
    "duration": 25,
    "start_time": "2022-07-26T06:26:47.037Z"
   },
   {
    "duration": 21,
    "start_time": "2022-07-26T06:26:47.063Z"
   },
   {
    "duration": 21,
    "start_time": "2022-07-26T06:26:47.085Z"
   },
   {
    "duration": 44,
    "start_time": "2022-07-26T06:26:47.108Z"
   },
   {
    "duration": 650,
    "start_time": "2022-07-26T06:26:47.154Z"
   },
   {
    "duration": 30,
    "start_time": "2022-07-26T06:26:47.806Z"
   },
   {
    "duration": 31,
    "start_time": "2022-07-26T06:26:47.837Z"
   },
   {
    "duration": 59,
    "start_time": "2022-07-26T06:26:47.869Z"
   },
   {
    "duration": 48,
    "start_time": "2022-07-26T06:26:47.930Z"
   },
   {
    "duration": 58,
    "start_time": "2022-07-26T06:26:47.980Z"
   },
   {
    "duration": 28,
    "start_time": "2022-07-26T06:26:48.039Z"
   },
   {
    "duration": 31,
    "start_time": "2022-07-26T06:26:48.070Z"
   },
   {
    "duration": 43,
    "start_time": "2022-07-26T06:26:48.102Z"
   },
   {
    "duration": 47,
    "start_time": "2022-07-26T06:26:48.146Z"
   },
   {
    "duration": 43,
    "start_time": "2022-07-26T06:26:48.194Z"
   },
   {
    "duration": 37,
    "start_time": "2022-07-26T06:26:48.239Z"
   },
   {
    "duration": 127,
    "start_time": "2022-07-26T06:26:48.278Z"
   },
   {
    "duration": 10,
    "start_time": "2022-07-26T06:27:19.317Z"
   },
   {
    "duration": 317,
    "start_time": "2022-07-26T06:27:19.335Z"
   },
   {
    "duration": 10,
    "start_time": "2022-07-26T06:27:19.654Z"
   },
   {
    "duration": 34,
    "start_time": "2022-07-26T06:27:19.666Z"
   },
   {
    "duration": 12,
    "start_time": "2022-07-26T06:27:19.702Z"
   },
   {
    "duration": 19,
    "start_time": "2022-07-26T06:27:19.715Z"
   },
   {
    "duration": 7,
    "start_time": "2022-07-26T06:27:19.736Z"
   },
   {
    "duration": 12,
    "start_time": "2022-07-26T06:27:19.745Z"
   },
   {
    "duration": 12,
    "start_time": "2022-07-26T06:27:19.758Z"
   },
   {
    "duration": 20,
    "start_time": "2022-07-26T06:27:19.772Z"
   },
   {
    "duration": 55,
    "start_time": "2022-07-26T06:27:19.795Z"
   },
   {
    "duration": 88,
    "start_time": "2022-07-26T06:27:19.852Z"
   },
   {
    "duration": 104,
    "start_time": "2022-07-26T06:27:19.942Z"
   },
   {
    "duration": 27,
    "start_time": "2022-07-26T06:27:20.061Z"
   },
   {
    "duration": 20,
    "start_time": "2022-07-26T06:27:20.090Z"
   },
   {
    "duration": 105,
    "start_time": "2022-07-26T06:27:20.112Z"
   },
   {
    "duration": 17,
    "start_time": "2022-07-26T06:27:20.218Z"
   },
   {
    "duration": 51,
    "start_time": "2022-07-26T06:27:20.236Z"
   },
   {
    "duration": 17,
    "start_time": "2022-07-26T06:27:20.288Z"
   },
   {
    "duration": 13,
    "start_time": "2022-07-26T06:27:20.306Z"
   },
   {
    "duration": 9,
    "start_time": "2022-07-26T06:27:20.320Z"
   },
   {
    "duration": 44,
    "start_time": "2022-07-26T06:27:20.330Z"
   },
   {
    "duration": 582,
    "start_time": "2022-07-26T06:27:20.376Z"
   },
   {
    "duration": 31,
    "start_time": "2022-07-26T06:27:20.960Z"
   },
   {
    "duration": 17,
    "start_time": "2022-07-26T06:27:20.995Z"
   },
   {
    "duration": 20,
    "start_time": "2022-07-26T06:27:21.014Z"
   },
   {
    "duration": 12,
    "start_time": "2022-07-26T06:27:21.061Z"
   },
   {
    "duration": 36,
    "start_time": "2022-07-26T06:27:21.075Z"
   },
   {
    "duration": 47,
    "start_time": "2022-07-26T06:27:21.113Z"
   },
   {
    "duration": 18,
    "start_time": "2022-07-26T06:27:21.162Z"
   },
   {
    "duration": 42,
    "start_time": "2022-07-26T06:27:21.181Z"
   },
   {
    "duration": 12,
    "start_time": "2022-07-26T06:27:21.224Z"
   },
   {
    "duration": 14,
    "start_time": "2022-07-26T06:27:21.238Z"
   },
   {
    "duration": 21,
    "start_time": "2022-07-26T06:27:21.253Z"
   },
   {
    "duration": 10,
    "start_time": "2022-07-26T06:27:21.276Z"
   },
   {
    "duration": 10,
    "start_time": "2022-07-26T06:29:11.593Z"
   },
   {
    "duration": 252,
    "start_time": "2022-07-26T06:29:11.613Z"
   },
   {
    "duration": 8,
    "start_time": "2022-07-26T06:29:11.866Z"
   },
   {
    "duration": 8,
    "start_time": "2022-07-26T06:29:11.875Z"
   },
   {
    "duration": 11,
    "start_time": "2022-07-26T06:29:11.884Z"
   },
   {
    "duration": 17,
    "start_time": "2022-07-26T06:29:11.897Z"
   },
   {
    "duration": 8,
    "start_time": "2022-07-26T06:29:11.915Z"
   },
   {
    "duration": 15,
    "start_time": "2022-07-26T06:29:11.925Z"
   },
   {
    "duration": 10,
    "start_time": "2022-07-26T06:29:11.960Z"
   },
   {
    "duration": 11,
    "start_time": "2022-07-26T06:29:11.972Z"
   },
   {
    "duration": 36,
    "start_time": "2022-07-26T06:29:11.985Z"
   },
   {
    "duration": 79,
    "start_time": "2022-07-26T06:29:12.023Z"
   },
   {
    "duration": 77,
    "start_time": "2022-07-26T06:29:12.103Z"
   },
   {
    "duration": 24,
    "start_time": "2022-07-26T06:29:12.181Z"
   },
   {
    "duration": 25,
    "start_time": "2022-07-26T06:29:12.206Z"
   },
   {
    "duration": 104,
    "start_time": "2022-07-26T06:29:12.233Z"
   },
   {
    "duration": 23,
    "start_time": "2022-07-26T06:29:12.338Z"
   },
   {
    "duration": 40,
    "start_time": "2022-07-26T06:29:12.363Z"
   },
   {
    "duration": 17,
    "start_time": "2022-07-26T06:29:12.405Z"
   },
   {
    "duration": 21,
    "start_time": "2022-07-26T06:29:12.423Z"
   },
   {
    "duration": 26,
    "start_time": "2022-07-26T06:29:12.445Z"
   },
   {
    "duration": 40,
    "start_time": "2022-07-26T06:29:12.472Z"
   },
   {
    "duration": 545,
    "start_time": "2022-07-26T06:29:12.514Z"
   },
   {
    "duration": 28,
    "start_time": "2022-07-26T06:29:13.061Z"
   },
   {
    "duration": 15,
    "start_time": "2022-07-26T06:29:13.091Z"
   },
   {
    "duration": 19,
    "start_time": "2022-07-26T06:29:13.107Z"
   },
   {
    "duration": 34,
    "start_time": "2022-07-26T06:29:13.127Z"
   },
   {
    "duration": 32,
    "start_time": "2022-07-26T06:29:13.163Z"
   },
   {
    "duration": 25,
    "start_time": "2022-07-26T06:29:13.198Z"
   },
   {
    "duration": 41,
    "start_time": "2022-07-26T06:29:13.224Z"
   },
   {
    "duration": 15,
    "start_time": "2022-07-26T06:29:13.267Z"
   },
   {
    "duration": 11,
    "start_time": "2022-07-26T06:29:13.283Z"
   },
   {
    "duration": 14,
    "start_time": "2022-07-26T06:29:13.295Z"
   },
   {
    "duration": 15,
    "start_time": "2022-07-26T06:29:13.311Z"
   },
   {
    "duration": 37,
    "start_time": "2022-07-26T06:29:13.327Z"
   },
   {
    "duration": 296,
    "start_time": "2022-07-26T06:34:03.885Z"
   },
   {
    "duration": 10,
    "start_time": "2022-07-26T06:34:26.905Z"
   },
   {
    "duration": 10,
    "start_time": "2022-07-26T06:34:41.454Z"
   },
   {
    "duration": 9,
    "start_time": "2022-07-26T06:34:50.339Z"
   },
   {
    "duration": 10,
    "start_time": "2022-07-26T06:36:13.014Z"
   },
   {
    "duration": 255,
    "start_time": "2022-07-26T06:36:13.034Z"
   },
   {
    "duration": 8,
    "start_time": "2022-07-26T06:36:13.291Z"
   },
   {
    "duration": 13,
    "start_time": "2022-07-26T06:36:13.301Z"
   },
   {
    "duration": 15,
    "start_time": "2022-07-26T06:36:13.315Z"
   },
   {
    "duration": 14,
    "start_time": "2022-07-26T06:36:13.333Z"
   },
   {
    "duration": 14,
    "start_time": "2022-07-26T06:36:13.349Z"
   },
   {
    "duration": 14,
    "start_time": "2022-07-26T06:36:13.365Z"
   },
   {
    "duration": 11,
    "start_time": "2022-07-26T06:36:13.380Z"
   },
   {
    "duration": 11,
    "start_time": "2022-07-26T06:36:13.393Z"
   },
   {
    "duration": 34,
    "start_time": "2022-07-26T06:36:13.406Z"
   },
   {
    "duration": 76,
    "start_time": "2022-07-26T06:36:13.442Z"
   },
   {
    "duration": 88,
    "start_time": "2022-07-26T06:36:13.520Z"
   },
   {
    "duration": 28,
    "start_time": "2022-07-26T06:36:13.609Z"
   },
   {
    "duration": 32,
    "start_time": "2022-07-26T06:36:13.641Z"
   },
   {
    "duration": 98,
    "start_time": "2022-07-26T06:36:13.675Z"
   },
   {
    "duration": 16,
    "start_time": "2022-07-26T06:36:13.775Z"
   },
   {
    "duration": 50,
    "start_time": "2022-07-26T06:36:13.793Z"
   },
   {
    "duration": 29,
    "start_time": "2022-07-26T06:36:13.845Z"
   },
   {
    "duration": 13,
    "start_time": "2022-07-26T06:36:13.875Z"
   },
   {
    "duration": 11,
    "start_time": "2022-07-26T06:36:13.889Z"
   },
   {
    "duration": 23,
    "start_time": "2022-07-26T06:36:13.901Z"
   },
   {
    "duration": 613,
    "start_time": "2022-07-26T06:36:13.925Z"
   },
   {
    "duration": 36,
    "start_time": "2022-07-26T06:36:14.539Z"
   },
   {
    "duration": 16,
    "start_time": "2022-07-26T06:36:14.576Z"
   },
   {
    "duration": 22,
    "start_time": "2022-07-26T06:36:14.593Z"
   },
   {
    "duration": 11,
    "start_time": "2022-07-26T06:36:14.617Z"
   },
   {
    "duration": 65,
    "start_time": "2022-07-26T06:36:14.630Z"
   },
   {
    "duration": 28,
    "start_time": "2022-07-26T06:36:14.697Z"
   },
   {
    "duration": 34,
    "start_time": "2022-07-26T06:36:14.727Z"
   },
   {
    "duration": 16,
    "start_time": "2022-07-26T06:36:14.763Z"
   },
   {
    "duration": 11,
    "start_time": "2022-07-26T06:36:14.780Z"
   },
   {
    "duration": 15,
    "start_time": "2022-07-26T06:36:14.793Z"
   },
   {
    "duration": 18,
    "start_time": "2022-07-26T06:36:14.810Z"
   },
   {
    "duration": 318,
    "start_time": "2022-07-26T06:36:14.829Z"
   },
   {
    "duration": 274,
    "start_time": "2022-07-26T06:37:02.905Z"
   },
   {
    "duration": 278,
    "start_time": "2022-07-26T06:38:37.254Z"
   },
   {
    "duration": 285,
    "start_time": "2022-07-26T06:38:42.413Z"
   },
   {
    "duration": 274,
    "start_time": "2022-07-26T06:38:51.974Z"
   },
   {
    "duration": 299,
    "start_time": "2022-07-26T06:38:57.215Z"
   },
   {
    "duration": 8,
    "start_time": "2022-07-26T06:43:43.237Z"
   },
   {
    "duration": 140,
    "start_time": "2022-07-26T06:43:58.686Z"
   },
   {
    "duration": 131,
    "start_time": "2022-07-26T06:44:10.547Z"
   },
   {
    "duration": 136,
    "start_time": "2022-07-26T06:44:16.666Z"
   },
   {
    "duration": 206,
    "start_time": "2022-07-26T06:45:10.005Z"
   },
   {
    "duration": 166,
    "start_time": "2022-07-26T06:45:15.928Z"
   },
   {
    "duration": 171,
    "start_time": "2022-07-26T06:45:52.414Z"
   },
   {
    "duration": 179,
    "start_time": "2022-07-26T06:46:03.807Z"
   },
   {
    "duration": 224,
    "start_time": "2022-07-26T06:46:08.514Z"
   },
   {
    "duration": 189,
    "start_time": "2022-07-26T06:46:12.774Z"
   },
   {
    "duration": 196,
    "start_time": "2022-07-26T06:46:20.328Z"
   },
   {
    "duration": 284,
    "start_time": "2022-07-26T06:51:15.693Z"
   },
   {
    "duration": 198,
    "start_time": "2022-07-26T06:51:23.933Z"
   },
   {
    "duration": 189,
    "start_time": "2022-07-26T06:51:27.293Z"
   },
   {
    "duration": 187,
    "start_time": "2022-07-26T06:51:59.273Z"
   },
   {
    "duration": 6,
    "start_time": "2022-07-26T06:56:58.943Z"
   },
   {
    "duration": 191,
    "start_time": "2022-07-26T06:57:18.865Z"
   },
   {
    "duration": 185,
    "start_time": "2022-07-26T06:57:37.584Z"
   },
   {
    "duration": 192,
    "start_time": "2022-07-26T06:57:50.104Z"
   },
   {
    "duration": 188,
    "start_time": "2022-07-26T06:58:25.336Z"
   },
   {
    "duration": 191,
    "start_time": "2022-07-26T06:59:28.373Z"
   },
   {
    "duration": 7,
    "start_time": "2022-07-26T06:59:35.987Z"
   },
   {
    "duration": 5,
    "start_time": "2022-07-26T07:02:47.573Z"
   },
   {
    "duration": 4,
    "start_time": "2022-07-26T07:03:11.783Z"
   },
   {
    "duration": 86,
    "start_time": "2022-07-26T07:03:27.452Z"
   },
   {
    "duration": 62,
    "start_time": "2022-07-26T07:03:38.224Z"
   },
   {
    "duration": 4,
    "start_time": "2022-07-26T07:03:50.683Z"
   },
   {
    "duration": 4,
    "start_time": "2022-07-26T07:04:38.883Z"
   },
   {
    "duration": 4,
    "start_time": "2022-07-26T07:04:46.164Z"
   },
   {
    "duration": 5,
    "start_time": "2022-07-26T07:05:30.753Z"
   },
   {
    "duration": 74,
    "start_time": "2022-07-26T07:05:41.684Z"
   },
   {
    "duration": 5,
    "start_time": "2022-07-26T07:05:50.685Z"
   },
   {
    "duration": 10,
    "start_time": "2022-07-26T07:07:07.413Z"
   },
   {
    "duration": 256,
    "start_time": "2022-07-26T07:07:07.425Z"
   },
   {
    "duration": 7,
    "start_time": "2022-07-26T07:07:07.683Z"
   },
   {
    "duration": 12,
    "start_time": "2022-07-26T07:07:07.692Z"
   },
   {
    "duration": 12,
    "start_time": "2022-07-26T07:07:07.706Z"
   },
   {
    "duration": 21,
    "start_time": "2022-07-26T07:07:07.720Z"
   },
   {
    "duration": 13,
    "start_time": "2022-07-26T07:07:07.742Z"
   },
   {
    "duration": 16,
    "start_time": "2022-07-26T07:07:07.756Z"
   },
   {
    "duration": 10,
    "start_time": "2022-07-26T07:07:07.774Z"
   },
   {
    "duration": 16,
    "start_time": "2022-07-26T07:07:07.785Z"
   },
   {
    "duration": 40,
    "start_time": "2022-07-26T07:07:07.803Z"
   },
   {
    "duration": 68,
    "start_time": "2022-07-26T07:07:07.845Z"
   },
   {
    "duration": 89,
    "start_time": "2022-07-26T07:07:07.915Z"
   },
   {
    "duration": 24,
    "start_time": "2022-07-26T07:07:08.006Z"
   },
   {
    "duration": 37,
    "start_time": "2022-07-26T07:07:08.032Z"
   },
   {
    "duration": 174,
    "start_time": "2022-07-26T07:07:08.070Z"
   },
   {
    "duration": 20,
    "start_time": "2022-07-26T07:07:08.246Z"
   },
   {
    "duration": 46,
    "start_time": "2022-07-26T07:07:08.267Z"
   },
   {
    "duration": 16,
    "start_time": "2022-07-26T07:07:08.315Z"
   },
   {
    "duration": 29,
    "start_time": "2022-07-26T07:07:08.333Z"
   },
   {
    "duration": 9,
    "start_time": "2022-07-26T07:07:08.364Z"
   },
   {
    "duration": 20,
    "start_time": "2022-07-26T07:07:08.375Z"
   },
   {
    "duration": 554,
    "start_time": "2022-07-26T07:07:08.396Z"
   },
   {
    "duration": 35,
    "start_time": "2022-07-26T07:07:08.953Z"
   },
   {
    "duration": 16,
    "start_time": "2022-07-26T07:07:08.989Z"
   },
   {
    "duration": 22,
    "start_time": "2022-07-26T07:07:09.007Z"
   },
   {
    "duration": 30,
    "start_time": "2022-07-26T07:07:09.031Z"
   },
   {
    "duration": 31,
    "start_time": "2022-07-26T07:07:09.062Z"
   },
   {
    "duration": 20,
    "start_time": "2022-07-26T07:07:09.094Z"
   },
   {
    "duration": 16,
    "start_time": "2022-07-26T07:07:09.115Z"
   },
   {
    "duration": 39,
    "start_time": "2022-07-26T07:07:09.132Z"
   },
   {
    "duration": 10,
    "start_time": "2022-07-26T07:07:09.173Z"
   },
   {
    "duration": 25,
    "start_time": "2022-07-26T07:07:09.185Z"
   },
   {
    "duration": 16,
    "start_time": "2022-07-26T07:07:09.212Z"
   },
   {
    "duration": 294,
    "start_time": "2022-07-26T07:07:09.230Z"
   },
   {
    "duration": 5,
    "start_time": "2022-07-26T07:07:09.526Z"
   },
   {
    "duration": 197,
    "start_time": "2022-07-26T07:07:09.533Z"
   },
   {
    "duration": 255,
    "start_time": "2022-07-26T07:07:09.732Z"
   },
   {
    "duration": 8,
    "start_time": "2022-07-26T07:07:09.988Z"
   },
   {
    "duration": 18,
    "start_time": "2022-07-26T07:07:09.998Z"
   },
   {
    "duration": 1104,
    "start_time": "2022-07-26T07:07:10.018Z"
   },
   {
    "duration": 48,
    "start_time": "2022-07-26T07:07:11.124Z"
   },
   {
    "duration": 20,
    "start_time": "2022-07-26T07:07:11.174Z"
   },
   {
    "duration": 15,
    "start_time": "2022-07-26T07:07:11.196Z"
   },
   {
    "duration": 9,
    "start_time": "2022-07-26T07:07:11.213Z"
   },
   {
    "duration": 38,
    "start_time": "2022-07-26T07:07:11.223Z"
   },
   {
    "duration": 588,
    "start_time": "2022-07-26T07:07:11.263Z"
   },
   {
    "duration": 33,
    "start_time": "2022-07-26T07:07:11.853Z"
   },
   {
    "duration": 39,
    "start_time": "2022-07-26T07:07:11.887Z"
   },
   {
    "duration": 34,
    "start_time": "2022-07-26T07:07:11.928Z"
   },
   {
    "duration": 342,
    "start_time": "2022-07-26T07:11:45.074Z"
   },
   {
    "duration": 310,
    "start_time": "2022-07-26T07:11:53.985Z"
   },
   {
    "duration": 364,
    "start_time": "2022-07-26T07:12:01.736Z"
   },
   {
    "duration": 352,
    "start_time": "2022-07-26T07:12:13.344Z"
   },
   {
    "duration": 357,
    "start_time": "2022-07-26T07:12:18.764Z"
   },
   {
    "duration": 358,
    "start_time": "2022-07-26T07:12:22.734Z"
   },
   {
    "duration": 346,
    "start_time": "2022-07-26T07:12:27.084Z"
   },
   {
    "duration": 346,
    "start_time": "2022-07-26T07:12:32.113Z"
   },
   {
    "duration": 6,
    "start_time": "2022-07-26T07:20:47.073Z"
   },
   {
    "duration": 602,
    "start_time": "2022-07-26T07:26:44.999Z"
   },
   {
    "duration": 45,
    "start_time": "2022-07-26T07:28:08.430Z"
   },
   {
    "duration": 315,
    "start_time": "2022-07-26T07:28:54.250Z"
   },
   {
    "duration": 328,
    "start_time": "2022-07-26T07:28:59.050Z"
   },
   {
    "duration": 322,
    "start_time": "2022-07-26T07:29:10.830Z"
   },
   {
    "duration": 387,
    "start_time": "2022-07-26T07:29:21.529Z"
   },
   {
    "duration": 8,
    "start_time": "2022-07-26T07:30:26.291Z"
   },
   {
    "duration": 6,
    "start_time": "2022-07-26T07:31:02.394Z"
   },
   {
    "duration": 283,
    "start_time": "2022-07-26T07:31:15.037Z"
   },
   {
    "duration": 318,
    "start_time": "2022-07-26T07:31:38.922Z"
   },
   {
    "duration": 321,
    "start_time": "2022-07-26T07:31:42.918Z"
   },
   {
    "duration": 335,
    "start_time": "2022-07-26T07:31:47.052Z"
   },
   {
    "duration": 327,
    "start_time": "2022-07-26T07:31:51.502Z"
   },
   {
    "duration": 11,
    "start_time": "2022-07-26T07:32:40.570Z"
   },
   {
    "duration": 286,
    "start_time": "2022-07-26T07:32:40.583Z"
   },
   {
    "duration": 8,
    "start_time": "2022-07-26T07:32:40.871Z"
   },
   {
    "duration": 14,
    "start_time": "2022-07-26T07:32:40.881Z"
   },
   {
    "duration": 12,
    "start_time": "2022-07-26T07:32:40.896Z"
   },
   {
    "duration": 20,
    "start_time": "2022-07-26T07:32:40.909Z"
   },
   {
    "duration": 13,
    "start_time": "2022-07-26T07:32:40.931Z"
   },
   {
    "duration": 16,
    "start_time": "2022-07-26T07:32:40.945Z"
   },
   {
    "duration": 11,
    "start_time": "2022-07-26T07:32:40.962Z"
   },
   {
    "duration": 11,
    "start_time": "2022-07-26T07:32:40.975Z"
   },
   {
    "duration": 39,
    "start_time": "2022-07-26T07:32:40.987Z"
   },
   {
    "duration": 87,
    "start_time": "2022-07-26T07:32:41.028Z"
   },
   {
    "duration": 81,
    "start_time": "2022-07-26T07:32:41.116Z"
   },
   {
    "duration": 26,
    "start_time": "2022-07-26T07:32:41.199Z"
   },
   {
    "duration": 36,
    "start_time": "2022-07-26T07:32:41.226Z"
   },
   {
    "duration": 106,
    "start_time": "2022-07-26T07:32:41.263Z"
   },
   {
    "duration": 19,
    "start_time": "2022-07-26T07:32:41.371Z"
   },
   {
    "duration": 49,
    "start_time": "2022-07-26T07:32:41.392Z"
   },
   {
    "duration": 32,
    "start_time": "2022-07-26T07:32:41.442Z"
   },
   {
    "duration": 13,
    "start_time": "2022-07-26T07:32:41.475Z"
   },
   {
    "duration": 10,
    "start_time": "2022-07-26T07:32:41.490Z"
   },
   {
    "duration": 24,
    "start_time": "2022-07-26T07:32:41.502Z"
   },
   {
    "duration": 607,
    "start_time": "2022-07-26T07:32:41.528Z"
   },
   {
    "duration": 35,
    "start_time": "2022-07-26T07:32:42.136Z"
   },
   {
    "duration": 15,
    "start_time": "2022-07-26T07:32:42.172Z"
   },
   {
    "duration": 18,
    "start_time": "2022-07-26T07:32:42.188Z"
   },
   {
    "duration": 10,
    "start_time": "2022-07-26T07:32:42.207Z"
   },
   {
    "duration": 55,
    "start_time": "2022-07-26T07:32:42.220Z"
   },
   {
    "duration": 19,
    "start_time": "2022-07-26T07:32:42.276Z"
   },
   {
    "duration": 16,
    "start_time": "2022-07-26T07:32:42.296Z"
   },
   {
    "duration": 16,
    "start_time": "2022-07-26T07:32:42.313Z"
   },
   {
    "duration": 32,
    "start_time": "2022-07-26T07:32:42.330Z"
   },
   {
    "duration": 16,
    "start_time": "2022-07-26T07:32:42.363Z"
   },
   {
    "duration": 17,
    "start_time": "2022-07-26T07:32:42.381Z"
   },
   {
    "duration": 308,
    "start_time": "2022-07-26T07:32:42.399Z"
   },
   {
    "duration": 6,
    "start_time": "2022-07-26T07:32:42.709Z"
   },
   {
    "duration": 217,
    "start_time": "2022-07-26T07:32:42.717Z"
   },
   {
    "duration": 197,
    "start_time": "2022-07-26T07:32:42.935Z"
   },
   {
    "duration": 8,
    "start_time": "2022-07-26T07:32:43.133Z"
   },
   {
    "duration": 17,
    "start_time": "2022-07-26T07:32:43.143Z"
   },
   {
    "duration": 1175,
    "start_time": "2022-07-26T07:32:43.162Z"
   },
   {
    "duration": 51,
    "start_time": "2022-07-26T07:32:44.339Z"
   },
   {
    "duration": 18,
    "start_time": "2022-07-26T07:32:44.391Z"
   },
   {
    "duration": 14,
    "start_time": "2022-07-26T07:32:44.410Z"
   },
   {
    "duration": 8,
    "start_time": "2022-07-26T07:32:44.426Z"
   },
   {
    "duration": 34,
    "start_time": "2022-07-26T07:32:44.436Z"
   },
   {
    "duration": 609,
    "start_time": "2022-07-26T07:32:44.471Z"
   },
   {
    "duration": 31,
    "start_time": "2022-07-26T07:32:45.082Z"
   },
   {
    "duration": 54,
    "start_time": "2022-07-26T07:32:45.114Z"
   },
   {
    "duration": 17,
    "start_time": "2022-07-26T07:32:45.169Z"
   },
   {
    "duration": 50,
    "start_time": "2022-07-26T07:32:45.187Z"
   },
   {
    "duration": 359,
    "start_time": "2022-07-26T07:32:45.238Z"
   },
   {
    "duration": 6,
    "start_time": "2022-07-26T07:32:45.599Z"
   },
   {
    "duration": 6,
    "start_time": "2022-07-26T07:32:48.252Z"
   },
   {
    "duration": 12,
    "start_time": "2022-07-26T07:33:20.070Z"
   },
   {
    "duration": 186,
    "start_time": "2022-07-26T07:33:34.384Z"
   },
   {
    "duration": 181,
    "start_time": "2022-07-26T07:33:39.742Z"
   },
   {
    "duration": 188,
    "start_time": "2022-07-26T07:33:48.050Z"
   },
   {
    "duration": 188,
    "start_time": "2022-07-26T07:34:58.666Z"
   },
   {
    "duration": 183,
    "start_time": "2022-07-26T07:35:41.298Z"
   },
   {
    "duration": 198,
    "start_time": "2022-07-26T07:35:46.110Z"
   },
   {
    "duration": 174,
    "start_time": "2022-07-26T07:36:28.146Z"
   },
   {
    "duration": 31,
    "start_time": "2022-07-26T07:38:54.626Z"
   },
   {
    "duration": 8,
    "start_time": "2022-07-26T07:39:10.685Z"
   },
   {
    "duration": 189,
    "start_time": "2022-07-26T07:39:29.537Z"
   },
   {
    "duration": 207,
    "start_time": "2022-07-26T07:40:27.885Z"
   },
   {
    "duration": 8,
    "start_time": "2022-07-26T07:40:42.843Z"
   },
   {
    "duration": 5,
    "start_time": "2022-07-26T07:42:19.303Z"
   },
   {
    "duration": 4,
    "start_time": "2022-07-26T07:42:45.218Z"
   },
   {
    "duration": 5,
    "start_time": "2022-07-26T07:42:56.661Z"
   },
   {
    "duration": 5,
    "start_time": "2022-07-26T07:43:12.440Z"
   },
   {
    "duration": 4,
    "start_time": "2022-07-26T07:43:20.863Z"
   },
   {
    "duration": 4,
    "start_time": "2022-07-26T07:43:31.963Z"
   },
   {
    "duration": 4,
    "start_time": "2022-07-26T07:46:23.861Z"
   },
   {
    "duration": 5,
    "start_time": "2022-07-26T07:46:40.234Z"
   },
   {
    "duration": 10,
    "start_time": "2022-07-26T07:46:47.308Z"
   },
   {
    "duration": 266,
    "start_time": "2022-07-26T07:46:47.320Z"
   },
   {
    "duration": 8,
    "start_time": "2022-07-26T07:46:47.587Z"
   },
   {
    "duration": 11,
    "start_time": "2022-07-26T07:46:47.596Z"
   },
   {
    "duration": 13,
    "start_time": "2022-07-26T07:46:47.609Z"
   },
   {
    "duration": 17,
    "start_time": "2022-07-26T07:46:47.624Z"
   },
   {
    "duration": 8,
    "start_time": "2022-07-26T07:46:47.643Z"
   },
   {
    "duration": 13,
    "start_time": "2022-07-26T07:46:47.653Z"
   },
   {
    "duration": 9,
    "start_time": "2022-07-26T07:46:47.669Z"
   },
   {
    "duration": 18,
    "start_time": "2022-07-26T07:46:47.679Z"
   },
   {
    "duration": 34,
    "start_time": "2022-07-26T07:46:47.698Z"
   },
   {
    "duration": 77,
    "start_time": "2022-07-26T07:46:47.733Z"
   },
   {
    "duration": 84,
    "start_time": "2022-07-26T07:46:47.812Z"
   },
   {
    "duration": 25,
    "start_time": "2022-07-26T07:46:47.898Z"
   },
   {
    "duration": 38,
    "start_time": "2022-07-26T07:46:47.925Z"
   },
   {
    "duration": 98,
    "start_time": "2022-07-26T07:46:47.965Z"
   },
   {
    "duration": 18,
    "start_time": "2022-07-26T07:46:48.065Z"
   },
   {
    "duration": 40,
    "start_time": "2022-07-26T07:46:48.085Z"
   },
   {
    "duration": 43,
    "start_time": "2022-07-26T07:46:48.127Z"
   },
   {
    "duration": 13,
    "start_time": "2022-07-26T07:46:48.172Z"
   },
   {
    "duration": 10,
    "start_time": "2022-07-26T07:46:48.186Z"
   },
   {
    "duration": 19,
    "start_time": "2022-07-26T07:46:48.197Z"
   },
   {
    "duration": 603,
    "start_time": "2022-07-26T07:46:48.217Z"
   },
   {
    "duration": 37,
    "start_time": "2022-07-26T07:46:48.824Z"
   },
   {
    "duration": 15,
    "start_time": "2022-07-26T07:46:48.863Z"
   },
   {
    "duration": 30,
    "start_time": "2022-07-26T07:46:48.880Z"
   },
   {
    "duration": 29,
    "start_time": "2022-07-26T07:46:48.912Z"
   },
   {
    "duration": 43,
    "start_time": "2022-07-26T07:46:48.943Z"
   },
   {
    "duration": 19,
    "start_time": "2022-07-26T07:46:48.988Z"
   },
   {
    "duration": 30,
    "start_time": "2022-07-26T07:46:49.009Z"
   },
   {
    "duration": 31,
    "start_time": "2022-07-26T07:46:49.041Z"
   },
   {
    "duration": 39,
    "start_time": "2022-07-26T07:46:49.073Z"
   },
   {
    "duration": 40,
    "start_time": "2022-07-26T07:46:49.114Z"
   },
   {
    "duration": 17,
    "start_time": "2022-07-26T07:46:49.155Z"
   },
   {
    "duration": 292,
    "start_time": "2022-07-26T07:46:49.173Z"
   },
   {
    "duration": 5,
    "start_time": "2022-07-26T07:46:49.466Z"
   },
   {
    "duration": 201,
    "start_time": "2022-07-26T07:46:49.473Z"
   },
   {
    "duration": 192,
    "start_time": "2022-07-26T07:46:49.676Z"
   },
   {
    "duration": 8,
    "start_time": "2022-07-26T07:46:49.869Z"
   },
   {
    "duration": 9,
    "start_time": "2022-07-26T07:46:49.878Z"
   },
   {
    "duration": 1166,
    "start_time": "2022-07-26T07:46:49.889Z"
   },
   {
    "duration": 51,
    "start_time": "2022-07-26T07:46:51.056Z"
   },
   {
    "duration": 19,
    "start_time": "2022-07-26T07:46:51.108Z"
   },
   {
    "duration": 38,
    "start_time": "2022-07-26T07:46:51.128Z"
   },
   {
    "duration": 8,
    "start_time": "2022-07-26T07:46:51.167Z"
   },
   {
    "duration": 19,
    "start_time": "2022-07-26T07:46:51.177Z"
   },
   {
    "duration": 579,
    "start_time": "2022-07-26T07:46:51.198Z"
   },
   {
    "duration": 32,
    "start_time": "2022-07-26T07:46:51.779Z"
   },
   {
    "duration": 51,
    "start_time": "2022-07-26T07:46:51.813Z"
   },
   {
    "duration": 18,
    "start_time": "2022-07-26T07:46:51.866Z"
   },
   {
    "duration": 43,
    "start_time": "2022-07-26T07:46:51.885Z"
   },
   {
    "duration": 332,
    "start_time": "2022-07-26T07:46:51.930Z"
   },
   {
    "duration": 5,
    "start_time": "2022-07-26T07:46:52.264Z"
   },
   {
    "duration": 199,
    "start_time": "2022-07-26T07:46:52.271Z"
   },
   {
    "duration": 184,
    "start_time": "2022-07-26T07:46:52.471Z"
   },
   {
    "duration": 10,
    "start_time": "2022-07-26T07:46:52.656Z"
   },
   {
    "duration": 15,
    "start_time": "2022-07-26T07:46:52.668Z"
   },
   {
    "duration": 17,
    "start_time": "2022-07-26T07:46:52.685Z"
   },
   {
    "duration": 25,
    "start_time": "2022-07-26T07:46:52.703Z"
   },
   {
    "duration": 16,
    "start_time": "2022-07-26T07:46:52.729Z"
   },
   {
    "duration": 11,
    "start_time": "2022-07-26T07:47:43.104Z"
   },
   {
    "duration": 11,
    "start_time": "2022-07-26T07:47:53.204Z"
   },
   {
    "duration": 9,
    "start_time": "2022-07-26T07:49:20.164Z"
   },
   {
    "duration": 9,
    "start_time": "2022-07-26T07:49:27.642Z"
   },
   {
    "duration": 10,
    "start_time": "2022-07-26T08:50:11.712Z"
   },
   {
    "duration": 264,
    "start_time": "2022-07-26T08:50:11.724Z"
   },
   {
    "duration": 8,
    "start_time": "2022-07-26T08:50:11.990Z"
   },
   {
    "duration": 11,
    "start_time": "2022-07-26T08:50:12.000Z"
   },
   {
    "duration": 14,
    "start_time": "2022-07-26T08:50:12.013Z"
   },
   {
    "duration": 15,
    "start_time": "2022-07-26T08:50:12.029Z"
   },
   {
    "duration": 18,
    "start_time": "2022-07-26T08:50:12.045Z"
   },
   {
    "duration": 15,
    "start_time": "2022-07-26T08:50:12.064Z"
   },
   {
    "duration": 10,
    "start_time": "2022-07-26T08:50:12.081Z"
   },
   {
    "duration": 10,
    "start_time": "2022-07-26T08:50:12.094Z"
   },
   {
    "duration": 54,
    "start_time": "2022-07-26T08:50:12.106Z"
   },
   {
    "duration": 63,
    "start_time": "2022-07-26T08:50:12.162Z"
   },
   {
    "duration": 101,
    "start_time": "2022-07-26T08:50:12.227Z"
   },
   {
    "duration": 34,
    "start_time": "2022-07-26T08:50:12.329Z"
   },
   {
    "duration": 20,
    "start_time": "2022-07-26T08:50:12.365Z"
   },
   {
    "duration": 102,
    "start_time": "2022-07-26T08:50:12.387Z"
   },
   {
    "duration": 18,
    "start_time": "2022-07-26T08:50:12.491Z"
   },
   {
    "duration": 58,
    "start_time": "2022-07-26T08:50:12.510Z"
   },
   {
    "duration": 17,
    "start_time": "2022-07-26T08:50:12.569Z"
   },
   {
    "duration": 13,
    "start_time": "2022-07-26T08:50:12.588Z"
   },
   {
    "duration": 12,
    "start_time": "2022-07-26T08:50:12.602Z"
   },
   {
    "duration": 48,
    "start_time": "2022-07-26T08:50:12.615Z"
   },
   {
    "duration": 592,
    "start_time": "2022-07-26T08:50:12.665Z"
   },
   {
    "duration": 29,
    "start_time": "2022-07-26T08:50:13.260Z"
   },
   {
    "duration": 15,
    "start_time": "2022-07-26T08:50:13.291Z"
   },
   {
    "duration": 22,
    "start_time": "2022-07-26T08:50:13.308Z"
   },
   {
    "duration": 37,
    "start_time": "2022-07-26T08:50:13.331Z"
   },
   {
    "duration": 31,
    "start_time": "2022-07-26T08:50:13.371Z"
   },
   {
    "duration": 20,
    "start_time": "2022-07-26T08:50:13.403Z"
   },
   {
    "duration": 16,
    "start_time": "2022-07-26T08:50:13.424Z"
   },
   {
    "duration": 15,
    "start_time": "2022-07-26T08:50:13.461Z"
   },
   {
    "duration": 12,
    "start_time": "2022-07-26T08:50:13.478Z"
   },
   {
    "duration": 14,
    "start_time": "2022-07-26T08:50:13.491Z"
   },
   {
    "duration": 15,
    "start_time": "2022-07-26T08:50:13.506Z"
   },
   {
    "duration": 310,
    "start_time": "2022-07-26T08:50:13.523Z"
   },
   {
    "duration": 5,
    "start_time": "2022-07-26T08:50:13.835Z"
   },
   {
    "duration": 209,
    "start_time": "2022-07-26T08:50:13.841Z"
   },
   {
    "duration": 197,
    "start_time": "2022-07-26T08:50:14.052Z"
   },
   {
    "duration": 13,
    "start_time": "2022-07-26T08:50:14.250Z"
   },
   {
    "duration": 19,
    "start_time": "2022-07-26T08:50:14.265Z"
   },
   {
    "duration": 1217,
    "start_time": "2022-07-26T08:50:14.285Z"
   },
   {
    "duration": 44,
    "start_time": "2022-07-26T08:50:15.504Z"
   },
   {
    "duration": 29,
    "start_time": "2022-07-26T08:50:15.549Z"
   },
   {
    "duration": 15,
    "start_time": "2022-07-26T08:50:15.579Z"
   },
   {
    "duration": 9,
    "start_time": "2022-07-26T08:50:15.595Z"
   },
   {
    "duration": 17,
    "start_time": "2022-07-26T08:50:15.605Z"
   },
   {
    "duration": 541,
    "start_time": "2022-07-26T08:50:15.623Z"
   },
   {
    "duration": 31,
    "start_time": "2022-07-26T08:50:16.166Z"
   },
   {
    "duration": 65,
    "start_time": "2022-07-26T08:50:16.199Z"
   },
   {
    "duration": 17,
    "start_time": "2022-07-26T08:50:16.266Z"
   },
   {
    "duration": 61,
    "start_time": "2022-07-26T08:50:16.285Z"
   },
   {
    "duration": 369,
    "start_time": "2022-07-26T08:50:16.362Z"
   },
   {
    "duration": 8,
    "start_time": "2022-07-26T08:50:16.733Z"
   },
   {
    "duration": 208,
    "start_time": "2022-07-26T08:50:16.742Z"
   },
   {
    "duration": 245,
    "start_time": "2022-07-26T08:50:16.952Z"
   },
   {
    "duration": 9,
    "start_time": "2022-07-26T08:50:17.198Z"
   },
   {
    "duration": 7,
    "start_time": "2022-07-26T08:50:17.209Z"
   },
   {
    "duration": 11,
    "start_time": "2022-07-26T08:50:17.218Z"
   },
   {
    "duration": 12,
    "start_time": "2022-07-26T08:50:17.230Z"
   },
   {
    "duration": 23,
    "start_time": "2022-07-26T08:50:17.243Z"
   },
   {
    "duration": 9,
    "start_time": "2022-07-26T08:51:56.855Z"
   },
   {
    "duration": 3,
    "start_time": "2022-07-26T08:53:32.138Z"
   },
   {
    "duration": 611,
    "start_time": "2022-07-26T08:53:36.713Z"
   },
   {
    "duration": 663,
    "start_time": "2022-07-26T08:53:40.237Z"
   },
   {
    "duration": 5,
    "start_time": "2022-07-26T08:53:58.622Z"
   },
   {
    "duration": 12,
    "start_time": "2022-07-26T08:54:07.827Z"
   },
   {
    "duration": 269,
    "start_time": "2022-07-26T08:54:07.842Z"
   },
   {
    "duration": 7,
    "start_time": "2022-07-26T08:54:08.113Z"
   },
   {
    "duration": 10,
    "start_time": "2022-07-26T08:54:08.122Z"
   },
   {
    "duration": 14,
    "start_time": "2022-07-26T08:54:08.134Z"
   },
   {
    "duration": 16,
    "start_time": "2022-07-26T08:54:08.149Z"
   },
   {
    "duration": 9,
    "start_time": "2022-07-26T08:54:08.167Z"
   },
   {
    "duration": 11,
    "start_time": "2022-07-26T08:54:08.178Z"
   },
   {
    "duration": 10,
    "start_time": "2022-07-26T08:54:08.191Z"
   },
   {
    "duration": 15,
    "start_time": "2022-07-26T08:54:08.202Z"
   },
   {
    "duration": 48,
    "start_time": "2022-07-26T08:54:08.218Z"
   },
   {
    "duration": 63,
    "start_time": "2022-07-26T08:54:08.268Z"
   },
   {
    "duration": 80,
    "start_time": "2022-07-26T08:54:08.333Z"
   },
   {
    "duration": 24,
    "start_time": "2022-07-26T08:54:08.416Z"
   },
   {
    "duration": 34,
    "start_time": "2022-07-26T08:54:08.441Z"
   },
   {
    "duration": 96,
    "start_time": "2022-07-26T08:54:08.476Z"
   },
   {
    "duration": 18,
    "start_time": "2022-07-26T08:54:08.573Z"
   },
   {
    "duration": 41,
    "start_time": "2022-07-26T08:54:08.592Z"
   },
   {
    "duration": 39,
    "start_time": "2022-07-26T08:54:08.634Z"
   },
   {
    "duration": 12,
    "start_time": "2022-07-26T08:54:08.674Z"
   },
   {
    "duration": 12,
    "start_time": "2022-07-26T08:54:08.688Z"
   },
   {
    "duration": 25,
    "start_time": "2022-07-26T08:54:08.701Z"
   },
   {
    "duration": 639,
    "start_time": "2022-07-26T08:54:08.728Z"
   },
   {
    "duration": 29,
    "start_time": "2022-07-26T08:54:09.368Z"
   },
   {
    "duration": 15,
    "start_time": "2022-07-26T08:54:09.399Z"
   },
   {
    "duration": 19,
    "start_time": "2022-07-26T08:54:09.415Z"
   },
   {
    "duration": 33,
    "start_time": "2022-07-26T08:54:09.435Z"
   },
   {
    "duration": 34,
    "start_time": "2022-07-26T08:54:09.470Z"
   },
   {
    "duration": 22,
    "start_time": "2022-07-26T08:54:09.506Z"
   },
   {
    "duration": 35,
    "start_time": "2022-07-26T08:54:09.530Z"
   },
   {
    "duration": 21,
    "start_time": "2022-07-26T08:54:09.566Z"
   },
   {
    "duration": 20,
    "start_time": "2022-07-26T08:54:09.589Z"
   },
   {
    "duration": 54,
    "start_time": "2022-07-26T08:54:09.610Z"
   },
   {
    "duration": 31,
    "start_time": "2022-07-26T08:54:09.665Z"
   },
   {
    "duration": 313,
    "start_time": "2022-07-26T08:54:09.698Z"
   },
   {
    "duration": 5,
    "start_time": "2022-07-26T08:54:10.013Z"
   },
   {
    "duration": 232,
    "start_time": "2022-07-26T08:54:10.020Z"
   },
   {
    "duration": 193,
    "start_time": "2022-07-26T08:54:10.254Z"
   },
   {
    "duration": 15,
    "start_time": "2022-07-26T08:54:10.449Z"
   },
   {
    "duration": 21,
    "start_time": "2022-07-26T08:54:10.465Z"
   },
   {
    "duration": 1108,
    "start_time": "2022-07-26T08:54:10.489Z"
   },
   {
    "duration": 44,
    "start_time": "2022-07-26T08:54:11.598Z"
   },
   {
    "duration": 30,
    "start_time": "2022-07-26T08:54:11.644Z"
   },
   {
    "duration": 15,
    "start_time": "2022-07-26T08:54:11.676Z"
   },
   {
    "duration": 10,
    "start_time": "2022-07-26T08:54:11.693Z"
   },
   {
    "duration": 13,
    "start_time": "2022-07-26T08:54:11.704Z"
   },
   {
    "duration": 636,
    "start_time": "2022-07-26T08:54:11.718Z"
   },
   {
    "duration": 34,
    "start_time": "2022-07-26T08:54:12.355Z"
   },
   {
    "duration": 36,
    "start_time": "2022-07-26T08:54:12.391Z"
   },
   {
    "duration": 32,
    "start_time": "2022-07-26T08:54:12.429Z"
   },
   {
    "duration": 43,
    "start_time": "2022-07-26T08:54:12.463Z"
   },
   {
    "duration": 339,
    "start_time": "2022-07-26T08:54:12.508Z"
   },
   {
    "duration": 12,
    "start_time": "2022-07-26T08:54:12.848Z"
   },
   {
    "duration": 207,
    "start_time": "2022-07-26T08:54:12.862Z"
   },
   {
    "duration": 182,
    "start_time": "2022-07-26T08:54:13.071Z"
   },
   {
    "duration": 8,
    "start_time": "2022-07-26T08:54:13.260Z"
   },
   {
    "duration": 6,
    "start_time": "2022-07-26T08:54:13.270Z"
   },
   {
    "duration": 6,
    "start_time": "2022-07-26T08:54:13.278Z"
   },
   {
    "duration": 6,
    "start_time": "2022-07-26T08:55:17.435Z"
   },
   {
    "duration": 12,
    "start_time": "2022-07-26T08:55:21.273Z"
   },
   {
    "duration": 289,
    "start_time": "2022-07-26T08:55:21.287Z"
   },
   {
    "duration": 8,
    "start_time": "2022-07-26T08:55:21.578Z"
   },
   {
    "duration": 27,
    "start_time": "2022-07-26T08:55:21.588Z"
   },
   {
    "duration": 39,
    "start_time": "2022-07-26T08:55:21.617Z"
   },
   {
    "duration": 30,
    "start_time": "2022-07-26T08:55:21.657Z"
   },
   {
    "duration": 28,
    "start_time": "2022-07-26T08:55:21.689Z"
   },
   {
    "duration": 20,
    "start_time": "2022-07-26T08:55:21.718Z"
   },
   {
    "duration": 20,
    "start_time": "2022-07-26T08:55:21.740Z"
   },
   {
    "duration": 19,
    "start_time": "2022-07-26T08:55:21.763Z"
   },
   {
    "duration": 49,
    "start_time": "2022-07-26T08:55:21.783Z"
   },
   {
    "duration": 88,
    "start_time": "2022-07-26T08:55:21.833Z"
   },
   {
    "duration": 75,
    "start_time": "2022-07-26T08:55:21.923Z"
   },
   {
    "duration": 29,
    "start_time": "2022-07-26T08:55:22.000Z"
   },
   {
    "duration": 40,
    "start_time": "2022-07-26T08:55:22.031Z"
   },
   {
    "duration": 175,
    "start_time": "2022-07-26T08:55:22.072Z"
   },
   {
    "duration": 24,
    "start_time": "2022-07-26T08:55:22.248Z"
   },
   {
    "duration": 46,
    "start_time": "2022-07-26T08:55:22.273Z"
   },
   {
    "duration": 16,
    "start_time": "2022-07-26T08:55:22.321Z"
   },
   {
    "duration": 31,
    "start_time": "2022-07-26T08:55:22.339Z"
   },
   {
    "duration": 12,
    "start_time": "2022-07-26T08:55:22.372Z"
   },
   {
    "duration": 41,
    "start_time": "2022-07-26T08:55:22.385Z"
   },
   {
    "duration": 540,
    "start_time": "2022-07-26T08:55:22.428Z"
   },
   {
    "duration": 30,
    "start_time": "2022-07-26T08:55:22.969Z"
   },
   {
    "duration": 16,
    "start_time": "2022-07-26T08:55:23.000Z"
   },
   {
    "duration": 45,
    "start_time": "2022-07-26T08:55:23.017Z"
   },
   {
    "duration": 29,
    "start_time": "2022-07-26T08:55:23.064Z"
   },
   {
    "duration": 38,
    "start_time": "2022-07-26T08:55:23.097Z"
   },
   {
    "duration": 20,
    "start_time": "2022-07-26T08:55:23.137Z"
   },
   {
    "duration": 22,
    "start_time": "2022-07-26T08:55:23.158Z"
   },
   {
    "duration": 35,
    "start_time": "2022-07-26T08:55:23.181Z"
   },
   {
    "duration": 33,
    "start_time": "2022-07-26T08:55:23.217Z"
   },
   {
    "duration": 33,
    "start_time": "2022-07-26T08:55:23.252Z"
   },
   {
    "duration": 39,
    "start_time": "2022-07-26T08:55:23.287Z"
   },
   {
    "duration": 298,
    "start_time": "2022-07-26T08:55:23.328Z"
   },
   {
    "duration": 7,
    "start_time": "2022-07-26T08:55:23.628Z"
   },
   {
    "duration": 228,
    "start_time": "2022-07-26T08:55:23.636Z"
   },
   {
    "duration": 282,
    "start_time": "2022-07-26T08:55:23.866Z"
   },
   {
    "duration": 15,
    "start_time": "2022-07-26T08:55:24.150Z"
   },
   {
    "duration": 25,
    "start_time": "2022-07-26T08:55:24.166Z"
   },
   {
    "duration": 1218,
    "start_time": "2022-07-26T08:55:24.193Z"
   },
   {
    "duration": 58,
    "start_time": "2022-07-26T08:55:25.413Z"
   },
   {
    "duration": 21,
    "start_time": "2022-07-26T08:55:25.473Z"
   },
   {
    "duration": 17,
    "start_time": "2022-07-26T08:55:25.496Z"
   },
   {
    "duration": 24,
    "start_time": "2022-07-26T08:55:25.514Z"
   },
   {
    "duration": 30,
    "start_time": "2022-07-26T08:55:25.539Z"
   },
   {
    "duration": 628,
    "start_time": "2022-07-26T08:55:25.571Z"
   },
   {
    "duration": 44,
    "start_time": "2022-07-26T08:55:26.201Z"
   },
   {
    "duration": 55,
    "start_time": "2022-07-26T08:55:26.260Z"
   },
   {
    "duration": 22,
    "start_time": "2022-07-26T08:55:26.317Z"
   },
   {
    "duration": 76,
    "start_time": "2022-07-26T08:55:26.341Z"
   },
   {
    "duration": 373,
    "start_time": "2022-07-26T08:55:26.419Z"
   },
   {
    "duration": 7,
    "start_time": "2022-07-26T08:55:26.794Z"
   },
   {
    "duration": 207,
    "start_time": "2022-07-26T08:55:26.802Z"
   },
   {
    "duration": 194,
    "start_time": "2022-07-26T08:55:27.010Z"
   },
   {
    "duration": 8,
    "start_time": "2022-07-26T08:55:27.205Z"
   },
   {
    "duration": 16,
    "start_time": "2022-07-26T08:55:27.215Z"
   },
   {
    "duration": 18,
    "start_time": "2022-07-26T08:55:27.233Z"
   },
   {
    "duration": 10,
    "start_time": "2022-07-26T08:55:37.081Z"
   },
   {
    "duration": 5,
    "start_time": "2022-07-26T08:55:53.992Z"
   },
   {
    "duration": 601,
    "start_time": "2022-07-26T08:56:09.424Z"
   },
   {
    "duration": 11,
    "start_time": "2022-07-26T08:56:17.531Z"
   },
   {
    "duration": 262,
    "start_time": "2022-07-26T08:56:17.544Z"
   },
   {
    "duration": 7,
    "start_time": "2022-07-26T08:56:17.808Z"
   },
   {
    "duration": 7,
    "start_time": "2022-07-26T08:56:17.816Z"
   },
   {
    "duration": 12,
    "start_time": "2022-07-26T08:56:17.824Z"
   },
   {
    "duration": 16,
    "start_time": "2022-07-26T08:56:17.837Z"
   },
   {
    "duration": 7,
    "start_time": "2022-07-26T08:56:17.854Z"
   },
   {
    "duration": 12,
    "start_time": "2022-07-26T08:56:17.863Z"
   },
   {
    "duration": 10,
    "start_time": "2022-07-26T08:56:17.876Z"
   },
   {
    "duration": 14,
    "start_time": "2022-07-26T08:56:17.888Z"
   },
   {
    "duration": 36,
    "start_time": "2022-07-26T08:56:17.903Z"
   },
   {
    "duration": 83,
    "start_time": "2022-07-26T08:56:17.940Z"
   },
   {
    "duration": 80,
    "start_time": "2022-07-26T08:56:18.024Z"
   },
   {
    "duration": 25,
    "start_time": "2022-07-26T08:56:18.105Z"
   },
   {
    "duration": 38,
    "start_time": "2022-07-26T08:56:18.132Z"
   },
   {
    "duration": 92,
    "start_time": "2022-07-26T08:56:18.172Z"
   },
   {
    "duration": 18,
    "start_time": "2022-07-26T08:56:18.266Z"
   },
   {
    "duration": 41,
    "start_time": "2022-07-26T08:56:18.286Z"
   },
   {
    "duration": 44,
    "start_time": "2022-07-26T08:56:18.329Z"
   },
   {
    "duration": 13,
    "start_time": "2022-07-26T08:56:18.375Z"
   },
   {
    "duration": 11,
    "start_time": "2022-07-26T08:56:18.390Z"
   },
   {
    "duration": 21,
    "start_time": "2022-07-26T08:56:18.403Z"
   },
   {
    "duration": 611,
    "start_time": "2022-07-26T08:56:18.426Z"
   },
   {
    "duration": 35,
    "start_time": "2022-07-26T08:56:19.038Z"
   },
   {
    "duration": 16,
    "start_time": "2022-07-26T08:56:19.075Z"
   },
   {
    "duration": 21,
    "start_time": "2022-07-26T08:56:19.092Z"
   },
   {
    "duration": 11,
    "start_time": "2022-07-26T08:56:19.115Z"
   },
   {
    "duration": 56,
    "start_time": "2022-07-26T08:56:19.129Z"
   },
   {
    "duration": 18,
    "start_time": "2022-07-26T08:56:19.187Z"
   },
   {
    "duration": 17,
    "start_time": "2022-07-26T08:56:19.207Z"
   },
   {
    "duration": 43,
    "start_time": "2022-07-26T08:56:19.225Z"
   },
   {
    "duration": 11,
    "start_time": "2022-07-26T08:56:19.269Z"
   },
   {
    "duration": 16,
    "start_time": "2022-07-26T08:56:19.281Z"
   },
   {
    "duration": 16,
    "start_time": "2022-07-26T08:56:19.298Z"
   },
   {
    "duration": 307,
    "start_time": "2022-07-26T08:56:19.315Z"
   },
   {
    "duration": 5,
    "start_time": "2022-07-26T08:56:19.624Z"
   },
   {
    "duration": 208,
    "start_time": "2022-07-26T08:56:19.630Z"
   },
   {
    "duration": 203,
    "start_time": "2022-07-26T08:56:19.839Z"
   },
   {
    "duration": 16,
    "start_time": "2022-07-26T08:56:20.044Z"
   },
   {
    "duration": 4,
    "start_time": "2022-07-26T08:56:20.062Z"
   },
   {
    "duration": 1186,
    "start_time": "2022-07-26T08:56:20.068Z"
   },
   {
    "duration": 41,
    "start_time": "2022-07-26T08:56:21.261Z"
   },
   {
    "duration": 17,
    "start_time": "2022-07-26T08:56:21.304Z"
   },
   {
    "duration": 15,
    "start_time": "2022-07-26T08:56:21.322Z"
   },
   {
    "duration": 29,
    "start_time": "2022-07-26T08:56:21.338Z"
   },
   {
    "duration": 12,
    "start_time": "2022-07-26T08:56:21.368Z"
   },
   {
    "duration": 595,
    "start_time": "2022-07-26T08:56:21.381Z"
   },
   {
    "duration": 31,
    "start_time": "2022-07-26T08:56:21.977Z"
   },
   {
    "duration": 51,
    "start_time": "2022-07-26T08:56:22.010Z"
   },
   {
    "duration": 13,
    "start_time": "2022-07-26T08:56:22.063Z"
   },
   {
    "duration": 42,
    "start_time": "2022-07-26T08:56:22.078Z"
   },
   {
    "duration": 338,
    "start_time": "2022-07-26T08:56:22.122Z"
   },
   {
    "duration": 8,
    "start_time": "2022-07-26T08:56:22.462Z"
   },
   {
    "duration": 206,
    "start_time": "2022-07-26T08:56:22.472Z"
   },
   {
    "duration": 198,
    "start_time": "2022-07-26T08:56:22.679Z"
   },
   {
    "duration": 8,
    "start_time": "2022-07-26T08:56:22.879Z"
   },
   {
    "duration": 9,
    "start_time": "2022-07-26T08:56:22.889Z"
   },
   {
    "duration": 6,
    "start_time": "2022-07-26T08:56:22.900Z"
   },
   {
    "duration": 11,
    "start_time": "2022-07-26T08:57:55.144Z"
   },
   {
    "duration": 273,
    "start_time": "2022-07-26T08:57:55.157Z"
   },
   {
    "duration": 8,
    "start_time": "2022-07-26T08:57:55.432Z"
   },
   {
    "duration": 9,
    "start_time": "2022-07-26T08:57:55.441Z"
   },
   {
    "duration": 9,
    "start_time": "2022-07-26T08:57:55.452Z"
   },
   {
    "duration": 16,
    "start_time": "2022-07-26T08:57:55.463Z"
   },
   {
    "duration": 9,
    "start_time": "2022-07-26T08:57:55.480Z"
   },
   {
    "duration": 12,
    "start_time": "2022-07-26T08:57:55.490Z"
   },
   {
    "duration": 16,
    "start_time": "2022-07-26T08:57:55.503Z"
   },
   {
    "duration": 8,
    "start_time": "2022-07-26T08:57:55.521Z"
   },
   {
    "duration": 54,
    "start_time": "2022-07-26T08:57:55.530Z"
   },
   {
    "duration": 76,
    "start_time": "2022-07-26T08:57:55.585Z"
   },
   {
    "duration": 74,
    "start_time": "2022-07-26T08:57:55.663Z"
   },
   {
    "duration": 40,
    "start_time": "2022-07-26T08:57:55.740Z"
   },
   {
    "duration": 24,
    "start_time": "2022-07-26T08:57:55.782Z"
   },
   {
    "duration": 115,
    "start_time": "2022-07-26T08:57:55.808Z"
   },
   {
    "duration": 20,
    "start_time": "2022-07-26T08:57:55.925Z"
   },
   {
    "duration": 52,
    "start_time": "2022-07-26T08:57:55.947Z"
   },
   {
    "duration": 25,
    "start_time": "2022-07-26T08:57:56.000Z"
   },
   {
    "duration": 14,
    "start_time": "2022-07-26T08:57:56.026Z"
   },
   {
    "duration": 10,
    "start_time": "2022-07-26T08:57:56.060Z"
   },
   {
    "duration": 27,
    "start_time": "2022-07-26T08:57:56.071Z"
   },
   {
    "duration": 682,
    "start_time": "2022-07-26T08:57:56.100Z"
   },
   {
    "duration": 32,
    "start_time": "2022-07-26T08:57:56.784Z"
   },
   {
    "duration": 17,
    "start_time": "2022-07-26T08:57:56.817Z"
   },
   {
    "duration": 38,
    "start_time": "2022-07-26T08:57:56.836Z"
   },
   {
    "duration": 11,
    "start_time": "2022-07-26T08:57:56.876Z"
   },
   {
    "duration": 40,
    "start_time": "2022-07-26T08:57:56.889Z"
   },
   {
    "duration": 34,
    "start_time": "2022-07-26T08:57:56.931Z"
   },
   {
    "duration": 16,
    "start_time": "2022-07-26T08:57:56.966Z"
   },
   {
    "duration": 14,
    "start_time": "2022-07-26T08:57:56.983Z"
   },
   {
    "duration": 12,
    "start_time": "2022-07-26T08:57:56.998Z"
   },
   {
    "duration": 15,
    "start_time": "2022-07-26T08:57:57.011Z"
   },
   {
    "duration": 44,
    "start_time": "2022-07-26T08:57:57.027Z"
   },
   {
    "duration": 293,
    "start_time": "2022-07-26T08:57:57.072Z"
   },
   {
    "duration": 7,
    "start_time": "2022-07-26T08:57:57.366Z"
   },
   {
    "duration": 208,
    "start_time": "2022-07-26T08:57:57.374Z"
   },
   {
    "duration": 204,
    "start_time": "2022-07-26T08:57:57.584Z"
   },
   {
    "duration": 9,
    "start_time": "2022-07-26T08:57:57.790Z"
   },
   {
    "duration": 10,
    "start_time": "2022-07-26T08:57:57.800Z"
   },
   {
    "duration": 1148,
    "start_time": "2022-07-26T08:57:57.814Z"
   },
   {
    "duration": 46,
    "start_time": "2022-07-26T08:57:58.964Z"
   },
   {
    "duration": 19,
    "start_time": "2022-07-26T08:57:59.012Z"
   },
   {
    "duration": 37,
    "start_time": "2022-07-26T08:57:59.033Z"
   },
   {
    "duration": 9,
    "start_time": "2022-07-26T08:57:59.072Z"
   },
   {
    "duration": 92,
    "start_time": "2022-07-26T08:57:59.082Z"
   },
   {
    "duration": 558,
    "start_time": "2022-07-26T08:57:59.175Z"
   },
   {
    "duration": 44,
    "start_time": "2022-07-26T08:57:59.735Z"
   },
   {
    "duration": 48,
    "start_time": "2022-07-26T08:57:59.781Z"
   },
   {
    "duration": 35,
    "start_time": "2022-07-26T08:57:59.831Z"
   },
   {
    "duration": 49,
    "start_time": "2022-07-26T08:57:59.867Z"
   },
   {
    "duration": 370,
    "start_time": "2022-07-26T08:57:59.919Z"
   },
   {
    "duration": 6,
    "start_time": "2022-07-26T08:58:00.291Z"
   },
   {
    "duration": 214,
    "start_time": "2022-07-26T08:58:00.299Z"
   },
   {
    "duration": 194,
    "start_time": "2022-07-26T08:58:00.514Z"
   },
   {
    "duration": 11,
    "start_time": "2022-07-26T08:58:00.710Z"
   },
   {
    "duration": 12,
    "start_time": "2022-07-26T08:58:00.722Z"
   },
   {
    "duration": 25,
    "start_time": "2022-07-26T08:58:00.735Z"
   },
   {
    "duration": 16,
    "start_time": "2022-07-26T08:58:44.078Z"
   },
   {
    "duration": 11,
    "start_time": "2022-07-26T08:58:48.506Z"
   },
   {
    "duration": 280,
    "start_time": "2022-07-26T08:58:48.518Z"
   },
   {
    "duration": 7,
    "start_time": "2022-07-26T08:58:48.800Z"
   },
   {
    "duration": 21,
    "start_time": "2022-07-26T08:58:48.809Z"
   },
   {
    "duration": 26,
    "start_time": "2022-07-26T08:58:48.831Z"
   },
   {
    "duration": 37,
    "start_time": "2022-07-26T08:58:48.859Z"
   },
   {
    "duration": 27,
    "start_time": "2022-07-26T08:58:48.898Z"
   },
   {
    "duration": 19,
    "start_time": "2022-07-26T08:58:48.927Z"
   },
   {
    "duration": 19,
    "start_time": "2022-07-26T08:58:48.948Z"
   },
   {
    "duration": 36,
    "start_time": "2022-07-26T08:58:48.969Z"
   },
   {
    "duration": 114,
    "start_time": "2022-07-26T08:58:49.006Z"
   },
   {
    "duration": 66,
    "start_time": "2022-07-26T08:58:49.121Z"
   },
   {
    "duration": 77,
    "start_time": "2022-07-26T08:58:49.188Z"
   },
   {
    "duration": 26,
    "start_time": "2022-07-26T08:58:49.267Z"
   },
   {
    "duration": 24,
    "start_time": "2022-07-26T08:58:49.295Z"
   },
   {
    "duration": 101,
    "start_time": "2022-07-26T08:58:49.321Z"
   },
   {
    "duration": 17,
    "start_time": "2022-07-26T08:58:49.424Z"
   },
   {
    "duration": 56,
    "start_time": "2022-07-26T08:58:49.443Z"
   },
   {
    "duration": 16,
    "start_time": "2022-07-26T08:58:49.500Z"
   },
   {
    "duration": 20,
    "start_time": "2022-07-26T08:58:49.518Z"
   },
   {
    "duration": 21,
    "start_time": "2022-07-26T08:58:49.540Z"
   },
   {
    "duration": 37,
    "start_time": "2022-07-26T08:58:49.563Z"
   },
   {
    "duration": 531,
    "start_time": "2022-07-26T08:58:49.602Z"
   },
   {
    "duration": 37,
    "start_time": "2022-07-26T08:58:50.137Z"
   },
   {
    "duration": 15,
    "start_time": "2022-07-26T08:58:50.176Z"
   },
   {
    "duration": 44,
    "start_time": "2022-07-26T08:58:50.193Z"
   },
   {
    "duration": 27,
    "start_time": "2022-07-26T08:58:50.239Z"
   },
   {
    "duration": 71,
    "start_time": "2022-07-26T08:58:50.268Z"
   },
   {
    "duration": 20,
    "start_time": "2022-07-26T08:58:50.341Z"
   },
   {
    "duration": 22,
    "start_time": "2022-07-26T08:58:50.363Z"
   },
   {
    "duration": 22,
    "start_time": "2022-07-26T08:58:50.387Z"
   },
   {
    "duration": 24,
    "start_time": "2022-07-26T08:58:50.411Z"
   },
   {
    "duration": 29,
    "start_time": "2022-07-26T08:58:50.437Z"
   },
   {
    "duration": 42,
    "start_time": "2022-07-26T08:58:50.467Z"
   },
   {
    "duration": 313,
    "start_time": "2022-07-26T08:58:50.511Z"
   },
   {
    "duration": 6,
    "start_time": "2022-07-26T08:58:50.826Z"
   },
   {
    "duration": 293,
    "start_time": "2022-07-26T08:58:50.833Z"
   },
   {
    "duration": 212,
    "start_time": "2022-07-26T08:58:51.128Z"
   },
   {
    "duration": 8,
    "start_time": "2022-07-26T08:58:51.343Z"
   },
   {
    "duration": 28,
    "start_time": "2022-07-26T08:58:51.352Z"
   },
   {
    "duration": 1143,
    "start_time": "2022-07-26T08:58:51.382Z"
   },
   {
    "duration": 48,
    "start_time": "2022-07-26T08:58:52.527Z"
   },
   {
    "duration": 19,
    "start_time": "2022-07-26T08:58:52.576Z"
   },
   {
    "duration": 24,
    "start_time": "2022-07-26T08:58:52.596Z"
   },
   {
    "duration": 31,
    "start_time": "2022-07-26T08:58:52.622Z"
   },
   {
    "duration": 31,
    "start_time": "2022-07-26T08:58:52.655Z"
   },
   {
    "duration": 654,
    "start_time": "2022-07-26T08:58:52.687Z"
   },
   {
    "duration": 38,
    "start_time": "2022-07-26T08:58:53.343Z"
   },
   {
    "duration": 41,
    "start_time": "2022-07-26T08:58:53.383Z"
   },
   {
    "duration": 15,
    "start_time": "2022-07-26T08:58:53.426Z"
   },
   {
    "duration": 60,
    "start_time": "2022-07-26T08:58:53.443Z"
   },
   {
    "duration": 360,
    "start_time": "2022-07-26T08:58:53.504Z"
   },
   {
    "duration": 6,
    "start_time": "2022-07-26T08:58:53.865Z"
   },
   {
    "duration": 209,
    "start_time": "2022-07-26T08:58:53.872Z"
   },
   {
    "duration": 177,
    "start_time": "2022-07-26T08:58:54.083Z"
   },
   {
    "duration": 8,
    "start_time": "2022-07-26T08:58:54.262Z"
   },
   {
    "duration": 40,
    "start_time": "2022-07-26T08:58:54.272Z"
   },
   {
    "duration": 26,
    "start_time": "2022-07-26T08:58:54.313Z"
   },
   {
    "duration": 41,
    "start_time": "2022-07-26T08:58:54.340Z"
   },
   {
    "duration": 19,
    "start_time": "2022-07-26T08:58:54.382Z"
   },
   {
    "duration": 26,
    "start_time": "2022-07-26T08:58:54.403Z"
   },
   {
    "duration": 7,
    "start_time": "2022-07-26T09:21:19.899Z"
   },
   {
    "duration": 9,
    "start_time": "2022-07-26T09:24:40.989Z"
   },
   {
    "duration": 8,
    "start_time": "2022-07-26T09:25:02.896Z"
   },
   {
    "duration": 10,
    "start_time": "2022-07-26T09:45:50.700Z"
   },
   {
    "duration": 8,
    "start_time": "2022-07-26T09:51:04.248Z"
   },
   {
    "duration": 9,
    "start_time": "2022-07-26T09:51:20.477Z"
   },
   {
    "duration": 6,
    "start_time": "2022-07-26T09:52:51.589Z"
   },
   {
    "duration": 7,
    "start_time": "2022-07-26T09:53:57.717Z"
   },
   {
    "duration": 13,
    "start_time": "2022-07-26T09:56:12.157Z"
   },
   {
    "duration": 9,
    "start_time": "2022-07-26T09:59:30.682Z"
   },
   {
    "duration": 8,
    "start_time": "2022-07-26T09:59:54.015Z"
   },
   {
    "duration": 10,
    "start_time": "2022-07-26T10:00:14.033Z"
   },
   {
    "duration": 13,
    "start_time": "2022-07-26T10:00:58.754Z"
   },
   {
    "duration": 9,
    "start_time": "2022-07-26T10:01:35.473Z"
   },
   {
    "duration": 25,
    "start_time": "2022-07-26T10:02:29.054Z"
   },
   {
    "duration": 16,
    "start_time": "2022-07-26T10:02:37.332Z"
   },
   {
    "duration": 16,
    "start_time": "2022-07-26T10:02:49.973Z"
   },
   {
    "duration": 15,
    "start_time": "2022-07-26T10:03:13.172Z"
   },
   {
    "duration": 32,
    "start_time": "2022-07-26T10:04:09.362Z"
   },
   {
    "duration": 23,
    "start_time": "2022-07-26T10:05:23.958Z"
   },
   {
    "duration": 17,
    "start_time": "2022-07-26T10:07:21.077Z"
   },
   {
    "duration": 17,
    "start_time": "2022-07-26T10:07:48.074Z"
   },
   {
    "duration": 15,
    "start_time": "2022-07-26T10:11:53.167Z"
   },
   {
    "duration": 293,
    "start_time": "2022-07-26T10:11:53.184Z"
   },
   {
    "duration": 8,
    "start_time": "2022-07-26T10:11:53.478Z"
   },
   {
    "duration": 9,
    "start_time": "2022-07-26T10:11:53.489Z"
   },
   {
    "duration": 10,
    "start_time": "2022-07-26T10:11:53.499Z"
   },
   {
    "duration": 15,
    "start_time": "2022-07-26T10:11:53.510Z"
   },
   {
    "duration": 5,
    "start_time": "2022-07-26T10:11:53.527Z"
   },
   {
    "duration": 36,
    "start_time": "2022-07-26T10:11:53.534Z"
   },
   {
    "duration": 12,
    "start_time": "2022-07-26T10:11:53.573Z"
   },
   {
    "duration": 11,
    "start_time": "2022-07-26T10:11:53.587Z"
   },
   {
    "duration": 35,
    "start_time": "2022-07-26T10:11:53.600Z"
   },
   {
    "duration": 91,
    "start_time": "2022-07-26T10:11:53.636Z"
   },
   {
    "duration": 95,
    "start_time": "2022-07-26T10:11:53.728Z"
   },
   {
    "duration": 37,
    "start_time": "2022-07-26T10:11:53.824Z"
   },
   {
    "duration": 31,
    "start_time": "2022-07-26T10:11:53.863Z"
   },
   {
    "duration": 119,
    "start_time": "2022-07-26T10:11:53.895Z"
   },
   {
    "duration": 19,
    "start_time": "2022-07-26T10:11:54.016Z"
   },
   {
    "duration": 57,
    "start_time": "2022-07-26T10:11:54.036Z"
   },
   {
    "duration": 16,
    "start_time": "2022-07-26T10:11:54.095Z"
   },
   {
    "duration": 12,
    "start_time": "2022-07-26T10:11:54.113Z"
   },
   {
    "duration": 11,
    "start_time": "2022-07-26T10:11:54.127Z"
   },
   {
    "duration": 45,
    "start_time": "2022-07-26T10:11:54.139Z"
   },
   {
    "duration": 645,
    "start_time": "2022-07-26T10:11:54.186Z"
   },
   {
    "duration": 38,
    "start_time": "2022-07-26T10:11:54.833Z"
   },
   {
    "duration": 18,
    "start_time": "2022-07-26T10:11:54.874Z"
   },
   {
    "duration": 19,
    "start_time": "2022-07-26T10:11:54.893Z"
   },
   {
    "duration": 12,
    "start_time": "2022-07-26T10:11:54.914Z"
   },
   {
    "duration": 68,
    "start_time": "2022-07-26T10:11:54.929Z"
   },
   {
    "duration": 21,
    "start_time": "2022-07-26T10:11:54.998Z"
   },
   {
    "duration": 15,
    "start_time": "2022-07-26T10:11:55.021Z"
   },
   {
    "duration": 44,
    "start_time": "2022-07-26T10:11:55.037Z"
   },
   {
    "duration": 11,
    "start_time": "2022-07-26T10:11:55.083Z"
   },
   {
    "duration": 17,
    "start_time": "2022-07-26T10:11:55.096Z"
   },
   {
    "duration": 15,
    "start_time": "2022-07-26T10:11:55.115Z"
   },
   {
    "duration": 354,
    "start_time": "2022-07-26T10:11:55.132Z"
   },
   {
    "duration": 6,
    "start_time": "2022-07-26T10:11:55.488Z"
   },
   {
    "duration": 236,
    "start_time": "2022-07-26T10:11:55.495Z"
   },
   {
    "duration": 225,
    "start_time": "2022-07-26T10:11:55.733Z"
   },
   {
    "duration": 13,
    "start_time": "2022-07-26T10:11:55.960Z"
   },
   {
    "duration": 10,
    "start_time": "2022-07-26T10:11:55.976Z"
   },
   {
    "duration": 1326,
    "start_time": "2022-07-26T10:11:55.988Z"
   },
   {
    "duration": 63,
    "start_time": "2022-07-26T10:11:57.316Z"
   },
   {
    "duration": 20,
    "start_time": "2022-07-26T10:11:57.380Z"
   },
   {
    "duration": 23,
    "start_time": "2022-07-26T10:11:57.402Z"
   },
   {
    "duration": 18,
    "start_time": "2022-07-26T10:11:57.426Z"
   },
   {
    "duration": 20,
    "start_time": "2022-07-26T10:11:57.445Z"
   },
   {
    "duration": 37,
    "start_time": "2022-07-26T10:11:57.466Z"
   },
   {
    "duration": 26,
    "start_time": "2022-07-26T10:16:34.060Z"
   },
   {
    "duration": 11,
    "start_time": "2022-07-26T10:22:13.914Z"
   },
   {
    "duration": 11,
    "start_time": "2022-07-26T10:25:01.656Z"
   },
   {
    "duration": 19,
    "start_time": "2022-07-26T10:25:07.652Z"
   },
   {
    "duration": 10,
    "start_time": "2022-07-26T10:25:56.072Z"
   },
   {
    "duration": 20,
    "start_time": "2022-07-26T10:25:57.973Z"
   },
   {
    "duration": 15,
    "start_time": "2022-07-26T10:26:17.857Z"
   },
   {
    "duration": 18,
    "start_time": "2022-07-26T10:30:30.211Z"
   },
   {
    "duration": 22,
    "start_time": "2022-07-26T10:30:58.001Z"
   },
   {
    "duration": 15,
    "start_time": "2022-07-26T10:34:51.968Z"
   },
   {
    "duration": 16,
    "start_time": "2022-07-26T10:35:23.145Z"
   },
   {
    "duration": 8,
    "start_time": "2022-07-26T10:48:26.754Z"
   },
   {
    "duration": 19,
    "start_time": "2022-07-26T10:48:36.848Z"
   },
   {
    "duration": 292,
    "start_time": "2022-07-26T10:51:20.468Z"
   },
   {
    "duration": 286,
    "start_time": "2022-07-26T10:51:26.721Z"
   },
   {
    "duration": 283,
    "start_time": "2022-07-26T10:51:31.346Z"
   },
   {
    "duration": 272,
    "start_time": "2022-07-26T10:51:39.927Z"
   },
   {
    "duration": 288,
    "start_time": "2022-07-26T10:51:46.697Z"
   },
   {
    "duration": 282,
    "start_time": "2022-07-26T10:51:50.687Z"
   },
   {
    "duration": 288,
    "start_time": "2022-07-26T10:52:09.838Z"
   },
   {
    "duration": 305,
    "start_time": "2022-07-26T10:52:23.466Z"
   },
   {
    "duration": 286,
    "start_time": "2022-07-26T10:52:34.592Z"
   },
   {
    "duration": 400,
    "start_time": "2022-07-26T10:53:59.265Z"
   },
   {
    "duration": 11,
    "start_time": "2022-07-26T10:56:28.115Z"
   },
   {
    "duration": 245,
    "start_time": "2022-07-26T10:56:28.128Z"
   },
   {
    "duration": 8,
    "start_time": "2022-07-26T10:56:28.374Z"
   },
   {
    "duration": 8,
    "start_time": "2022-07-26T10:56:28.384Z"
   },
   {
    "duration": 13,
    "start_time": "2022-07-26T10:56:28.393Z"
   },
   {
    "duration": 17,
    "start_time": "2022-07-26T10:56:28.408Z"
   },
   {
    "duration": 7,
    "start_time": "2022-07-26T10:56:28.427Z"
   },
   {
    "duration": 32,
    "start_time": "2022-07-26T10:56:28.436Z"
   },
   {
    "duration": 10,
    "start_time": "2022-07-26T10:56:28.470Z"
   },
   {
    "duration": 12,
    "start_time": "2022-07-26T10:56:28.481Z"
   },
   {
    "duration": 36,
    "start_time": "2022-07-26T10:56:28.494Z"
   },
   {
    "duration": 86,
    "start_time": "2022-07-26T10:56:28.532Z"
   },
   {
    "duration": 83,
    "start_time": "2022-07-26T10:56:28.619Z"
   },
   {
    "duration": 28,
    "start_time": "2022-07-26T10:56:28.704Z"
   },
   {
    "duration": 38,
    "start_time": "2022-07-26T10:56:28.733Z"
   },
   {
    "duration": 100,
    "start_time": "2022-07-26T10:56:28.773Z"
   },
   {
    "duration": 18,
    "start_time": "2022-07-26T10:56:28.875Z"
   },
   {
    "duration": 45,
    "start_time": "2022-07-26T10:56:28.894Z"
   },
   {
    "duration": 36,
    "start_time": "2022-07-26T10:56:28.940Z"
   },
   {
    "duration": 12,
    "start_time": "2022-07-26T10:56:28.977Z"
   },
   {
    "duration": 10,
    "start_time": "2022-07-26T10:56:28.990Z"
   },
   {
    "duration": 25,
    "start_time": "2022-07-26T10:56:29.002Z"
   },
   {
    "duration": 639,
    "start_time": "2022-07-26T10:56:29.029Z"
   },
   {
    "duration": 33,
    "start_time": "2022-07-26T10:56:29.672Z"
   },
   {
    "duration": 17,
    "start_time": "2022-07-26T10:56:29.707Z"
   },
   {
    "duration": 41,
    "start_time": "2022-07-26T10:56:29.726Z"
   },
   {
    "duration": 12,
    "start_time": "2022-07-26T10:56:29.769Z"
   },
   {
    "duration": 32,
    "start_time": "2022-07-26T10:56:29.782Z"
   },
   {
    "duration": 23,
    "start_time": "2022-07-26T10:56:29.815Z"
   },
   {
    "duration": 17,
    "start_time": "2022-07-26T10:56:29.860Z"
   },
   {
    "duration": 15,
    "start_time": "2022-07-26T10:56:29.878Z"
   },
   {
    "duration": 11,
    "start_time": "2022-07-26T10:56:29.894Z"
   },
   {
    "duration": 16,
    "start_time": "2022-07-26T10:56:29.907Z"
   },
   {
    "duration": 49,
    "start_time": "2022-07-26T10:56:29.925Z"
   },
   {
    "duration": 307,
    "start_time": "2022-07-26T10:56:29.975Z"
   },
   {
    "duration": 7,
    "start_time": "2022-07-26T10:56:30.284Z"
   },
   {
    "duration": 221,
    "start_time": "2022-07-26T10:56:30.293Z"
   },
   {
    "duration": 198,
    "start_time": "2022-07-26T10:56:30.516Z"
   },
   {
    "duration": 9,
    "start_time": "2022-07-26T10:56:30.717Z"
   },
   {
    "duration": 28,
    "start_time": "2022-07-26T10:56:30.727Z"
   },
   {
    "duration": 1134,
    "start_time": "2022-07-26T10:56:30.757Z"
   },
   {
    "duration": 50,
    "start_time": "2022-07-26T10:56:31.893Z"
   },
   {
    "duration": 38,
    "start_time": "2022-07-26T10:56:31.945Z"
   },
   {
    "duration": 31,
    "start_time": "2022-07-26T10:56:31.984Z"
   },
   {
    "duration": 20,
    "start_time": "2022-07-26T10:56:32.017Z"
   },
   {
    "duration": 47,
    "start_time": "2022-07-26T10:56:32.038Z"
   },
   {
    "duration": 25,
    "start_time": "2022-07-26T10:56:32.086Z"
   },
   {
    "duration": 27,
    "start_time": "2022-07-26T10:56:32.113Z"
   },
   {
    "duration": 24,
    "start_time": "2022-07-26T10:56:32.142Z"
   },
   {
    "duration": 13,
    "start_time": "2022-07-26T10:56:32.167Z"
   },
   {
    "duration": 33,
    "start_time": "2022-07-26T10:56:32.181Z"
   },
   {
    "duration": 279,
    "start_time": "2022-07-26T10:56:32.216Z"
   },
   {
    "duration": 602,
    "start_time": "2022-07-26T10:56:32.497Z"
   },
   {
    "duration": 34,
    "start_time": "2022-07-26T10:56:33.100Z"
   },
   {
    "duration": 55,
    "start_time": "2022-07-26T10:56:33.136Z"
   },
   {
    "duration": 16,
    "start_time": "2022-07-26T10:56:33.193Z"
   },
   {
    "duration": 59,
    "start_time": "2022-07-26T10:56:33.211Z"
   },
   {
    "duration": 349,
    "start_time": "2022-07-26T10:56:33.272Z"
   },
   {
    "duration": 7,
    "start_time": "2022-07-26T10:56:33.623Z"
   },
   {
    "duration": 208,
    "start_time": "2022-07-26T10:56:33.632Z"
   },
   {
    "duration": 181,
    "start_time": "2022-07-26T10:56:33.842Z"
   },
   {
    "duration": 8,
    "start_time": "2022-07-26T10:56:34.025Z"
   },
   {
    "duration": 34,
    "start_time": "2022-07-26T10:56:34.035Z"
   },
   {
    "duration": 31,
    "start_time": "2022-07-26T10:56:34.070Z"
   },
   {
    "duration": 26,
    "start_time": "2022-07-26T10:56:34.103Z"
   },
   {
    "duration": 890,
    "start_time": "2022-07-26T10:58:26.868Z"
   },
   {
    "duration": 1031,
    "start_time": "2022-07-26T10:58:42.491Z"
   },
   {
    "duration": 6,
    "start_time": "2022-07-26T11:00:01.814Z"
   },
   {
    "duration": 12,
    "start_time": "2022-07-26T11:00:08.016Z"
   },
   {
    "duration": 7,
    "start_time": "2022-07-26T11:01:16.441Z"
   },
   {
    "duration": 773,
    "start_time": "2022-07-26T11:01:28.440Z"
   },
   {
    "duration": 12,
    "start_time": "2022-07-26T11:01:39.823Z"
   },
   {
    "duration": 260,
    "start_time": "2022-07-26T11:01:39.842Z"
   },
   {
    "duration": 8,
    "start_time": "2022-07-26T11:01:40.103Z"
   },
   {
    "duration": 7,
    "start_time": "2022-07-26T11:01:40.113Z"
   },
   {
    "duration": 14,
    "start_time": "2022-07-26T11:01:40.121Z"
   },
   {
    "duration": 16,
    "start_time": "2022-07-26T11:01:40.137Z"
   },
   {
    "duration": 10,
    "start_time": "2022-07-26T11:01:40.155Z"
   },
   {
    "duration": 13,
    "start_time": "2022-07-26T11:01:40.166Z"
   },
   {
    "duration": 10,
    "start_time": "2022-07-26T11:01:40.181Z"
   },
   {
    "duration": 10,
    "start_time": "2022-07-26T11:01:40.193Z"
   },
   {
    "duration": 32,
    "start_time": "2022-07-26T11:01:40.205Z"
   },
   {
    "duration": 62,
    "start_time": "2022-07-26T11:01:40.283Z"
   },
   {
    "duration": 72,
    "start_time": "2022-07-26T11:01:40.347Z"
   },
   {
    "duration": 25,
    "start_time": "2022-07-26T11:01:40.421Z"
   },
   {
    "duration": 21,
    "start_time": "2022-07-26T11:01:40.460Z"
   },
   {
    "duration": 169,
    "start_time": "2022-07-26T11:01:40.484Z"
   },
   {
    "duration": 18,
    "start_time": "2022-07-26T11:01:40.655Z"
   },
   {
    "duration": 44,
    "start_time": "2022-07-26T11:01:40.675Z"
   },
   {
    "duration": 16,
    "start_time": "2022-07-26T11:01:40.721Z"
   },
   {
    "duration": 31,
    "start_time": "2022-07-26T11:01:40.739Z"
   },
   {
    "duration": 11,
    "start_time": "2022-07-26T11:01:40.771Z"
   },
   {
    "duration": 23,
    "start_time": "2022-07-26T11:01:40.784Z"
   },
   {
    "duration": 636,
    "start_time": "2022-07-26T11:01:40.809Z"
   },
   {
    "duration": 35,
    "start_time": "2022-07-26T11:01:41.446Z"
   },
   {
    "duration": 16,
    "start_time": "2022-07-26T11:01:41.483Z"
   },
   {
    "duration": 20,
    "start_time": "2022-07-26T11:01:41.501Z"
   },
   {
    "duration": 11,
    "start_time": "2022-07-26T11:01:41.522Z"
   },
   {
    "duration": 59,
    "start_time": "2022-07-26T11:01:41.535Z"
   },
   {
    "duration": 72,
    "start_time": "2022-07-26T11:01:41.595Z"
   },
   {
    "duration": 16,
    "start_time": "2022-07-26T11:01:41.668Z"
   },
   {
    "duration": 15,
    "start_time": "2022-07-26T11:01:41.686Z"
   },
   {
    "duration": 65,
    "start_time": "2022-07-26T11:01:41.702Z"
   },
   {
    "duration": 15,
    "start_time": "2022-07-26T11:01:41.768Z"
   },
   {
    "duration": 15,
    "start_time": "2022-07-26T11:01:41.784Z"
   },
   {
    "duration": 401,
    "start_time": "2022-07-26T11:01:41.801Z"
   },
   {
    "duration": 6,
    "start_time": "2022-07-26T11:01:42.204Z"
   },
   {
    "duration": 271,
    "start_time": "2022-07-26T11:01:42.214Z"
   },
   {
    "duration": 201,
    "start_time": "2022-07-26T11:01:42.488Z"
   },
   {
    "duration": 9,
    "start_time": "2022-07-26T11:01:42.692Z"
   },
   {
    "duration": 6,
    "start_time": "2022-07-26T11:01:42.702Z"
   },
   {
    "duration": 1200,
    "start_time": "2022-07-26T11:01:42.710Z"
   },
   {
    "duration": 63,
    "start_time": "2022-07-26T11:01:43.912Z"
   },
   {
    "duration": 23,
    "start_time": "2022-07-26T11:01:43.977Z"
   },
   {
    "duration": 31,
    "start_time": "2022-07-26T11:01:44.002Z"
   },
   {
    "duration": 21,
    "start_time": "2022-07-26T11:01:44.035Z"
   },
   {
    "duration": 12,
    "start_time": "2022-07-26T11:01:44.058Z"
   },
   {
    "duration": 29,
    "start_time": "2022-07-26T11:01:44.072Z"
   },
   {
    "duration": 15,
    "start_time": "2022-07-26T11:01:44.103Z"
   },
   {
    "duration": 23,
    "start_time": "2022-07-26T11:01:44.119Z"
   },
   {
    "duration": 24,
    "start_time": "2022-07-26T11:01:44.144Z"
   },
   {
    "duration": 12,
    "start_time": "2022-07-26T11:01:44.170Z"
   },
   {
    "duration": 308,
    "start_time": "2022-07-26T11:01:44.184Z"
   },
   {
    "duration": 678,
    "start_time": "2022-07-26T11:01:44.494Z"
   },
   {
    "duration": 34,
    "start_time": "2022-07-26T11:01:45.173Z"
   },
   {
    "duration": 57,
    "start_time": "2022-07-26T11:01:45.209Z"
   },
   {
    "duration": 25,
    "start_time": "2022-07-26T11:01:45.268Z"
   },
   {
    "duration": 70,
    "start_time": "2022-07-26T11:01:45.295Z"
   },
   {
    "duration": 363,
    "start_time": "2022-07-26T11:01:45.367Z"
   },
   {
    "duration": 8,
    "start_time": "2022-07-26T11:01:45.731Z"
   },
   {
    "duration": 226,
    "start_time": "2022-07-26T11:01:45.741Z"
   },
   {
    "duration": 196,
    "start_time": "2022-07-26T11:01:45.969Z"
   },
   {
    "duration": 9,
    "start_time": "2022-07-26T11:01:46.168Z"
   },
   {
    "duration": 7,
    "start_time": "2022-07-26T11:01:46.178Z"
   },
   {
    "duration": 8,
    "start_time": "2022-07-26T11:01:46.186Z"
   },
   {
    "duration": 7,
    "start_time": "2022-07-26T11:01:46.195Z"
   },
   {
    "duration": 7,
    "start_time": "2022-07-26T11:01:46.203Z"
   },
   {
    "duration": 13,
    "start_time": "2022-07-26T11:01:57.710Z"
   },
   {
    "duration": 285,
    "start_time": "2022-07-26T11:01:57.725Z"
   },
   {
    "duration": 7,
    "start_time": "2022-07-26T11:01:58.012Z"
   },
   {
    "duration": 8,
    "start_time": "2022-07-26T11:01:58.021Z"
   },
   {
    "duration": 15,
    "start_time": "2022-07-26T11:01:58.031Z"
   },
   {
    "duration": 18,
    "start_time": "2022-07-26T11:01:58.047Z"
   },
   {
    "duration": 11,
    "start_time": "2022-07-26T11:01:58.067Z"
   },
   {
    "duration": 17,
    "start_time": "2022-07-26T11:01:58.079Z"
   },
   {
    "duration": 14,
    "start_time": "2022-07-26T11:01:58.098Z"
   },
   {
    "duration": 14,
    "start_time": "2022-07-26T11:01:58.114Z"
   },
   {
    "duration": 42,
    "start_time": "2022-07-26T11:01:58.130Z"
   },
   {
    "duration": 68,
    "start_time": "2022-07-26T11:01:58.173Z"
   },
   {
    "duration": 74,
    "start_time": "2022-07-26T11:01:58.260Z"
   },
   {
    "duration": 35,
    "start_time": "2022-07-26T11:01:58.335Z"
   },
   {
    "duration": 22,
    "start_time": "2022-07-26T11:01:58.372Z"
   },
   {
    "duration": 110,
    "start_time": "2022-07-26T11:01:58.395Z"
   },
   {
    "duration": 19,
    "start_time": "2022-07-26T11:01:58.507Z"
   },
   {
    "duration": 62,
    "start_time": "2022-07-26T11:01:58.527Z"
   },
   {
    "duration": 19,
    "start_time": "2022-07-26T11:01:58.591Z"
   },
   {
    "duration": 14,
    "start_time": "2022-07-26T11:01:58.611Z"
   },
   {
    "duration": 10,
    "start_time": "2022-07-26T11:01:58.626Z"
   },
   {
    "duration": 40,
    "start_time": "2022-07-26T11:01:58.638Z"
   },
   {
    "duration": 637,
    "start_time": "2022-07-26T11:01:58.680Z"
   },
   {
    "duration": 42,
    "start_time": "2022-07-26T11:01:59.319Z"
   },
   {
    "duration": 17,
    "start_time": "2022-07-26T11:01:59.363Z"
   },
   {
    "duration": 21,
    "start_time": "2022-07-26T11:01:59.381Z"
   },
   {
    "duration": 12,
    "start_time": "2022-07-26T11:01:59.404Z"
   },
   {
    "duration": 61,
    "start_time": "2022-07-26T11:01:59.417Z"
   },
   {
    "duration": 21,
    "start_time": "2022-07-26T11:01:59.480Z"
   },
   {
    "duration": 28,
    "start_time": "2022-07-26T11:01:59.503Z"
   },
   {
    "duration": 28,
    "start_time": "2022-07-26T11:01:59.533Z"
   },
   {
    "duration": 12,
    "start_time": "2022-07-26T11:01:59.563Z"
   },
   {
    "duration": 26,
    "start_time": "2022-07-26T11:01:59.577Z"
   },
   {
    "duration": 24,
    "start_time": "2022-07-26T11:01:59.605Z"
   },
   {
    "duration": 335,
    "start_time": "2022-07-26T11:01:59.632Z"
   },
   {
    "duration": 7,
    "start_time": "2022-07-26T11:01:59.968Z"
   },
   {
    "duration": 240,
    "start_time": "2022-07-26T11:01:59.979Z"
   },
   {
    "duration": 213,
    "start_time": "2022-07-26T11:02:00.221Z"
   },
   {
    "duration": 9,
    "start_time": "2022-07-26T11:02:00.436Z"
   },
   {
    "duration": 15,
    "start_time": "2022-07-26T11:02:00.446Z"
   },
   {
    "duration": 1281,
    "start_time": "2022-07-26T11:02:00.463Z"
   },
   {
    "duration": 65,
    "start_time": "2022-07-26T11:02:01.745Z"
   },
   {
    "duration": 22,
    "start_time": "2022-07-26T11:02:01.812Z"
   },
   {
    "duration": 31,
    "start_time": "2022-07-26T11:02:01.836Z"
   },
   {
    "duration": 13,
    "start_time": "2022-07-26T11:02:01.869Z"
   },
   {
    "duration": 32,
    "start_time": "2022-07-26T11:02:01.883Z"
   },
   {
    "duration": 72,
    "start_time": "2022-07-26T11:02:01.917Z"
   },
   {
    "duration": 47,
    "start_time": "2022-07-26T11:02:01.991Z"
   },
   {
    "duration": 31,
    "start_time": "2022-07-26T11:02:02.039Z"
   },
   {
    "duration": 15,
    "start_time": "2022-07-26T11:02:02.073Z"
   },
   {
    "duration": 19,
    "start_time": "2022-07-26T11:02:02.090Z"
   },
   {
    "duration": 314,
    "start_time": "2022-07-26T11:02:02.110Z"
   },
   {
    "duration": 620,
    "start_time": "2022-07-26T11:02:02.426Z"
   },
   {
    "duration": 37,
    "start_time": "2022-07-26T11:02:03.048Z"
   },
   {
    "duration": 43,
    "start_time": "2022-07-26T11:02:03.087Z"
   },
   {
    "duration": 39,
    "start_time": "2022-07-26T11:02:03.131Z"
   },
   {
    "duration": 48,
    "start_time": "2022-07-26T11:02:03.172Z"
   },
   {
    "duration": 339,
    "start_time": "2022-07-26T11:02:03.221Z"
   },
   {
    "duration": 6,
    "start_time": "2022-07-26T11:02:03.562Z"
   },
   {
    "duration": 207,
    "start_time": "2022-07-26T11:02:03.569Z"
   },
   {
    "duration": 187,
    "start_time": "2022-07-26T11:02:03.777Z"
   },
   {
    "duration": 9,
    "start_time": "2022-07-26T11:02:03.966Z"
   },
   {
    "duration": 9,
    "start_time": "2022-07-26T11:02:03.977Z"
   },
   {
    "duration": 11,
    "start_time": "2022-07-26T11:02:03.987Z"
   },
   {
    "duration": 12,
    "start_time": "2022-07-26T11:02:04.000Z"
   },
   {
    "duration": 6,
    "start_time": "2022-07-26T11:02:04.013Z"
   },
   {
    "duration": 797,
    "start_time": "2022-07-26T11:14:37.447Z"
   },
   {
    "duration": 12,
    "start_time": "2022-07-26T11:14:43.933Z"
   },
   {
    "duration": 270,
    "start_time": "2022-07-26T11:14:43.947Z"
   },
   {
    "duration": 8,
    "start_time": "2022-07-26T11:14:44.218Z"
   },
   {
    "duration": 7,
    "start_time": "2022-07-26T11:14:44.228Z"
   },
   {
    "duration": 12,
    "start_time": "2022-07-26T11:14:44.236Z"
   },
   {
    "duration": 18,
    "start_time": "2022-07-26T11:14:44.250Z"
   },
   {
    "duration": 9,
    "start_time": "2022-07-26T11:14:44.269Z"
   },
   {
    "duration": 14,
    "start_time": "2022-07-26T11:14:44.279Z"
   },
   {
    "duration": 10,
    "start_time": "2022-07-26T11:14:44.294Z"
   },
   {
    "duration": 12,
    "start_time": "2022-07-26T11:14:44.306Z"
   },
   {
    "duration": 53,
    "start_time": "2022-07-26T11:14:44.319Z"
   },
   {
    "duration": 64,
    "start_time": "2022-07-26T11:14:44.373Z"
   },
   {
    "duration": 86,
    "start_time": "2022-07-26T11:14:44.439Z"
   },
   {
    "duration": 36,
    "start_time": "2022-07-26T11:14:44.526Z"
   },
   {
    "duration": 20,
    "start_time": "2022-07-26T11:14:44.564Z"
   },
   {
    "duration": 113,
    "start_time": "2022-07-26T11:14:44.586Z"
   },
   {
    "duration": 19,
    "start_time": "2022-07-26T11:14:44.700Z"
   },
   {
    "duration": 58,
    "start_time": "2022-07-26T11:14:44.721Z"
   },
   {
    "duration": 22,
    "start_time": "2022-07-26T11:14:44.780Z"
   },
   {
    "duration": 13,
    "start_time": "2022-07-26T11:14:44.803Z"
   },
   {
    "duration": 9,
    "start_time": "2022-07-26T11:14:44.818Z"
   },
   {
    "duration": 46,
    "start_time": "2022-07-26T11:14:44.829Z"
   },
   {
    "duration": 624,
    "start_time": "2022-07-26T11:14:44.876Z"
   },
   {
    "duration": 31,
    "start_time": "2022-07-26T11:14:45.502Z"
   },
   {
    "duration": 29,
    "start_time": "2022-07-26T11:14:45.535Z"
   },
   {
    "duration": 20,
    "start_time": "2022-07-26T11:14:45.566Z"
   },
   {
    "duration": 11,
    "start_time": "2022-07-26T11:14:45.587Z"
   },
   {
    "duration": 33,
    "start_time": "2022-07-26T11:14:45.602Z"
   },
   {
    "duration": 21,
    "start_time": "2022-07-26T11:14:45.661Z"
   },
   {
    "duration": 17,
    "start_time": "2022-07-26T11:14:45.684Z"
   },
   {
    "duration": 15,
    "start_time": "2022-07-26T11:14:45.703Z"
   },
   {
    "duration": 12,
    "start_time": "2022-07-26T11:14:45.720Z"
   },
   {
    "duration": 14,
    "start_time": "2022-07-26T11:14:45.762Z"
   },
   {
    "duration": 15,
    "start_time": "2022-07-26T11:14:45.778Z"
   },
   {
    "duration": 299,
    "start_time": "2022-07-26T11:14:45.794Z"
   },
   {
    "duration": 7,
    "start_time": "2022-07-26T11:14:46.094Z"
   },
   {
    "duration": 232,
    "start_time": "2022-07-26T11:14:46.102Z"
   },
   {
    "duration": 241,
    "start_time": "2022-07-26T11:14:46.336Z"
   },
   {
    "duration": 9,
    "start_time": "2022-07-26T11:14:46.578Z"
   },
   {
    "duration": 8,
    "start_time": "2022-07-26T11:14:46.588Z"
   },
   {
    "duration": 1203,
    "start_time": "2022-07-26T11:14:46.598Z"
   },
   {
    "duration": 44,
    "start_time": "2022-07-26T11:14:47.803Z"
   },
   {
    "duration": 30,
    "start_time": "2022-07-26T11:14:47.849Z"
   },
   {
    "duration": 14,
    "start_time": "2022-07-26T11:14:47.881Z"
   },
   {
    "duration": 9,
    "start_time": "2022-07-26T11:14:47.897Z"
   },
   {
    "duration": 24,
    "start_time": "2022-07-26T11:14:47.908Z"
   },
   {
    "duration": 38,
    "start_time": "2022-07-26T11:14:47.933Z"
   },
   {
    "duration": 17,
    "start_time": "2022-07-26T11:14:47.973Z"
   },
   {
    "duration": 21,
    "start_time": "2022-07-26T11:14:47.992Z"
   },
   {
    "duration": 12,
    "start_time": "2022-07-26T11:14:48.014Z"
   },
   {
    "duration": 12,
    "start_time": "2022-07-26T11:14:48.027Z"
   },
   {
    "duration": 306,
    "start_time": "2022-07-26T11:14:48.041Z"
   },
   {
    "duration": 617,
    "start_time": "2022-07-26T11:14:48.349Z"
   },
   {
    "duration": 33,
    "start_time": "2022-07-26T11:14:48.968Z"
   },
   {
    "duration": 40,
    "start_time": "2022-07-26T11:14:49.003Z"
   },
   {
    "duration": 17,
    "start_time": "2022-07-26T11:14:49.061Z"
   },
   {
    "duration": 45,
    "start_time": "2022-07-26T11:14:49.079Z"
   },
   {
    "duration": 353,
    "start_time": "2022-07-26T11:14:49.126Z"
   },
   {
    "duration": 7,
    "start_time": "2022-07-26T11:14:49.481Z"
   },
   {
    "duration": 211,
    "start_time": "2022-07-26T11:14:49.489Z"
   },
   {
    "duration": 199,
    "start_time": "2022-07-26T11:14:49.702Z"
   },
   {
    "duration": 10,
    "start_time": "2022-07-26T11:14:49.903Z"
   },
   {
    "duration": 14,
    "start_time": "2022-07-26T11:14:49.915Z"
   },
   {
    "duration": 10,
    "start_time": "2022-07-26T11:14:49.930Z"
   },
   {
    "duration": 19,
    "start_time": "2022-07-26T11:14:49.941Z"
   },
   {
    "duration": 6,
    "start_time": "2022-07-26T11:14:49.962Z"
   },
   {
    "duration": 12,
    "start_time": "2022-07-26T11:19:17.302Z"
   },
   {
    "duration": 285,
    "start_time": "2022-07-26T11:19:17.316Z"
   },
   {
    "duration": 8,
    "start_time": "2022-07-26T11:19:17.605Z"
   },
   {
    "duration": 7,
    "start_time": "2022-07-26T11:19:17.615Z"
   },
   {
    "duration": 13,
    "start_time": "2022-07-26T11:19:17.623Z"
   },
   {
    "duration": 16,
    "start_time": "2022-07-26T11:19:17.638Z"
   },
   {
    "duration": 11,
    "start_time": "2022-07-26T11:19:17.655Z"
   },
   {
    "duration": 13,
    "start_time": "2022-07-26T11:19:17.667Z"
   },
   {
    "duration": 10,
    "start_time": "2022-07-26T11:19:17.682Z"
   },
   {
    "duration": 15,
    "start_time": "2022-07-26T11:19:17.695Z"
   },
   {
    "duration": 49,
    "start_time": "2022-07-26T11:19:17.711Z"
   },
   {
    "duration": 65,
    "start_time": "2022-07-26T11:19:17.762Z"
   },
   {
    "duration": 89,
    "start_time": "2022-07-26T11:19:17.829Z"
   },
   {
    "duration": 41,
    "start_time": "2022-07-26T11:19:17.920Z"
   },
   {
    "duration": 23,
    "start_time": "2022-07-26T11:19:17.962Z"
   },
   {
    "duration": 122,
    "start_time": "2022-07-26T11:19:17.987Z"
   },
   {
    "duration": 21,
    "start_time": "2022-07-26T11:19:18.111Z"
   },
   {
    "duration": 64,
    "start_time": "2022-07-26T11:19:18.134Z"
   },
   {
    "duration": 18,
    "start_time": "2022-07-26T11:19:18.199Z"
   },
   {
    "duration": 13,
    "start_time": "2022-07-26T11:19:18.218Z"
   },
   {
    "duration": 38,
    "start_time": "2022-07-26T11:19:18.232Z"
   },
   {
    "duration": 27,
    "start_time": "2022-07-26T11:19:18.271Z"
   },
   {
    "duration": 633,
    "start_time": "2022-07-26T11:19:18.299Z"
   },
   {
    "duration": 35,
    "start_time": "2022-07-26T11:19:18.934Z"
   },
   {
    "duration": 17,
    "start_time": "2022-07-26T11:19:18.973Z"
   },
   {
    "duration": 20,
    "start_time": "2022-07-26T11:19:18.992Z"
   },
   {
    "duration": 11,
    "start_time": "2022-07-26T11:19:19.013Z"
   },
   {
    "duration": 62,
    "start_time": "2022-07-26T11:19:19.026Z"
   },
   {
    "duration": 20,
    "start_time": "2022-07-26T11:19:19.090Z"
   },
   {
    "duration": 16,
    "start_time": "2022-07-26T11:19:19.112Z"
   },
   {
    "duration": 37,
    "start_time": "2022-07-26T11:19:19.130Z"
   },
   {
    "duration": 11,
    "start_time": "2022-07-26T11:19:19.169Z"
   },
   {
    "duration": 16,
    "start_time": "2022-07-26T11:19:19.182Z"
   },
   {
    "duration": 15,
    "start_time": "2022-07-26T11:19:19.200Z"
   },
   {
    "duration": 335,
    "start_time": "2022-07-26T11:19:19.218Z"
   },
   {
    "duration": 9,
    "start_time": "2022-07-26T11:19:19.554Z"
   },
   {
    "duration": 231,
    "start_time": "2022-07-26T11:19:19.565Z"
   },
   {
    "duration": 214,
    "start_time": "2022-07-26T11:19:19.798Z"
   },
   {
    "duration": 8,
    "start_time": "2022-07-26T11:19:20.014Z"
   },
   {
    "duration": 19,
    "start_time": "2022-07-26T11:19:20.023Z"
   },
   {
    "duration": 1266,
    "start_time": "2022-07-26T11:19:20.044Z"
   },
   {
    "duration": 49,
    "start_time": "2022-07-26T11:19:21.312Z"
   },
   {
    "duration": 20,
    "start_time": "2022-07-26T11:19:21.363Z"
   },
   {
    "duration": 16,
    "start_time": "2022-07-26T11:19:21.385Z"
   },
   {
    "duration": 9,
    "start_time": "2022-07-26T11:19:21.403Z"
   },
   {
    "duration": 15,
    "start_time": "2022-07-26T11:19:21.414Z"
   },
   {
    "duration": 48,
    "start_time": "2022-07-26T11:19:21.431Z"
   },
   {
    "duration": 14,
    "start_time": "2022-07-26T11:19:21.480Z"
   },
   {
    "duration": 22,
    "start_time": "2022-07-26T11:19:21.496Z"
   },
   {
    "duration": 12,
    "start_time": "2022-07-26T11:19:21.519Z"
   },
   {
    "duration": 37,
    "start_time": "2022-07-26T11:19:21.533Z"
   },
   {
    "duration": 300,
    "start_time": "2022-07-26T11:19:21.571Z"
   },
   {
    "duration": 551,
    "start_time": "2022-07-26T11:19:21.873Z"
   },
   {
    "duration": 38,
    "start_time": "2022-07-26T11:19:22.426Z"
   },
   {
    "duration": 42,
    "start_time": "2022-07-26T11:19:22.465Z"
   },
   {
    "duration": 15,
    "start_time": "2022-07-26T11:19:22.509Z"
   },
   {
    "duration": 61,
    "start_time": "2022-07-26T11:19:22.526Z"
   },
   {
    "duration": 357,
    "start_time": "2022-07-26T11:19:22.589Z"
   },
   {
    "duration": 12,
    "start_time": "2022-07-26T11:19:22.948Z"
   },
   {
    "duration": 278,
    "start_time": "2022-07-26T11:19:22.962Z"
   },
   {
    "duration": 182,
    "start_time": "2022-07-26T11:19:23.242Z"
   },
   {
    "duration": 9,
    "start_time": "2022-07-26T11:19:23.425Z"
   },
   {
    "duration": 8,
    "start_time": "2022-07-26T11:19:23.435Z"
   },
   {
    "duration": 19,
    "start_time": "2022-07-26T11:19:23.444Z"
   },
   {
    "duration": 17,
    "start_time": "2022-07-26T11:19:23.464Z"
   },
   {
    "duration": 12,
    "start_time": "2022-07-26T11:19:23.482Z"
   },
   {
    "duration": 290,
    "start_time": "2022-07-26T11:37:48.879Z"
   },
   {
    "duration": 275,
    "start_time": "2022-07-26T11:37:55.325Z"
   },
   {
    "duration": 317,
    "start_time": "2022-07-26T11:38:34.683Z"
   },
   {
    "duration": 51,
    "start_time": "2022-07-26T13:53:51.088Z"
   },
   {
    "duration": 1277,
    "start_time": "2022-07-26T13:53:57.156Z"
   },
   {
    "duration": 589,
    "start_time": "2022-07-26T13:53:58.435Z"
   },
   {
    "duration": 12,
    "start_time": "2022-07-26T13:53:59.025Z"
   },
   {
    "duration": 4,
    "start_time": "2022-07-26T13:53:59.039Z"
   },
   {
    "duration": 13,
    "start_time": "2022-07-26T13:53:59.045Z"
   },
   {
    "duration": 22,
    "start_time": "2022-07-26T13:53:59.059Z"
   },
   {
    "duration": 7,
    "start_time": "2022-07-26T13:53:59.083Z"
   },
   {
    "duration": 11,
    "start_time": "2022-07-26T13:53:59.091Z"
   },
   {
    "duration": 31,
    "start_time": "2022-07-26T13:53:59.105Z"
   },
   {
    "duration": 8,
    "start_time": "2022-07-26T13:53:59.137Z"
   },
   {
    "duration": 30,
    "start_time": "2022-07-26T13:53:59.147Z"
   },
   {
    "duration": 84,
    "start_time": "2022-07-26T13:53:59.179Z"
   },
   {
    "duration": 80,
    "start_time": "2022-07-26T13:53:59.265Z"
   },
   {
    "duration": 26,
    "start_time": "2022-07-26T13:53:59.349Z"
   },
   {
    "duration": 19,
    "start_time": "2022-07-26T13:53:59.377Z"
   },
   {
    "duration": 124,
    "start_time": "2022-07-26T13:53:59.398Z"
   },
   {
    "duration": 28,
    "start_time": "2022-07-26T13:53:59.524Z"
   },
   {
    "duration": 52,
    "start_time": "2022-07-26T13:53:59.554Z"
   },
   {
    "duration": 42,
    "start_time": "2022-07-26T13:53:59.607Z"
   },
   {
    "duration": 13,
    "start_time": "2022-07-26T13:53:59.650Z"
   },
   {
    "duration": 9,
    "start_time": "2022-07-26T13:53:59.665Z"
   },
   {
    "duration": 25,
    "start_time": "2022-07-26T13:53:59.675Z"
   },
   {
    "duration": 627,
    "start_time": "2022-07-26T13:53:59.702Z"
   },
   {
    "duration": 31,
    "start_time": "2022-07-26T13:54:00.331Z"
   },
   {
    "duration": 16,
    "start_time": "2022-07-26T13:54:00.364Z"
   },
   {
    "duration": 29,
    "start_time": "2022-07-26T13:54:00.382Z"
   },
   {
    "duration": 11,
    "start_time": "2022-07-26T13:54:00.433Z"
   },
   {
    "duration": 39,
    "start_time": "2022-07-26T13:54:00.445Z"
   },
   {
    "duration": 24,
    "start_time": "2022-07-26T13:54:00.486Z"
   },
   {
    "duration": 31,
    "start_time": "2022-07-26T13:54:00.512Z"
   },
   {
    "duration": 15,
    "start_time": "2022-07-26T13:54:00.545Z"
   },
   {
    "duration": 28,
    "start_time": "2022-07-26T13:54:00.562Z"
   },
   {
    "duration": 47,
    "start_time": "2022-07-26T13:54:00.592Z"
   },
   {
    "duration": 38,
    "start_time": "2022-07-26T13:54:00.640Z"
   },
   {
    "duration": 324,
    "start_time": "2022-07-26T13:54:00.679Z"
   },
   {
    "duration": 5,
    "start_time": "2022-07-26T13:54:01.005Z"
   },
   {
    "duration": 262,
    "start_time": "2022-07-26T13:54:01.012Z"
   },
   {
    "duration": 225,
    "start_time": "2022-07-26T13:54:01.275Z"
   },
   {
    "duration": 8,
    "start_time": "2022-07-26T13:54:01.502Z"
   },
   {
    "duration": 17,
    "start_time": "2022-07-26T13:54:01.511Z"
   },
   {
    "duration": 1273,
    "start_time": "2022-07-26T13:54:01.533Z"
   },
   {
    "duration": 49,
    "start_time": "2022-07-26T13:54:02.807Z"
   },
   {
    "duration": 19,
    "start_time": "2022-07-26T13:54:02.858Z"
   },
   {
    "duration": 21,
    "start_time": "2022-07-26T13:54:02.879Z"
   },
   {
    "duration": 9,
    "start_time": "2022-07-26T13:54:02.902Z"
   },
   {
    "duration": 10,
    "start_time": "2022-07-26T13:54:02.933Z"
   },
   {
    "duration": 20,
    "start_time": "2022-07-26T13:54:02.945Z"
   },
   {
    "duration": 12,
    "start_time": "2022-07-26T13:54:02.967Z"
   },
   {
    "duration": 21,
    "start_time": "2022-07-26T13:54:02.980Z"
   },
   {
    "duration": 33,
    "start_time": "2022-07-26T13:54:03.002Z"
   },
   {
    "duration": 12,
    "start_time": "2022-07-26T13:54:03.037Z"
   },
   {
    "duration": 313,
    "start_time": "2022-07-26T13:54:03.051Z"
   },
   {
    "duration": 636,
    "start_time": "2022-07-26T13:54:03.366Z"
   },
   {
    "duration": 42,
    "start_time": "2022-07-26T13:54:04.004Z"
   },
   {
    "duration": 50,
    "start_time": "2022-07-26T13:54:04.047Z"
   },
   {
    "duration": 16,
    "start_time": "2022-07-26T13:54:04.099Z"
   },
   {
    "duration": 49,
    "start_time": "2022-07-26T13:54:04.133Z"
   },
   {
    "duration": 371,
    "start_time": "2022-07-26T13:54:04.183Z"
   },
   {
    "duration": 6,
    "start_time": "2022-07-26T13:54:04.555Z"
   },
   {
    "duration": 214,
    "start_time": "2022-07-26T13:54:04.563Z"
   },
   {
    "duration": 194,
    "start_time": "2022-07-26T13:54:04.779Z"
   },
   {
    "duration": 7,
    "start_time": "2022-07-26T13:54:04.975Z"
   },
   {
    "duration": 5,
    "start_time": "2022-07-26T13:54:04.983Z"
   },
   {
    "duration": 10,
    "start_time": "2022-07-26T13:54:04.990Z"
   },
   {
    "duration": 13,
    "start_time": "2022-07-26T13:54:05.001Z"
   },
   {
    "duration": 6,
    "start_time": "2022-07-26T13:54:05.033Z"
   },
   {
    "duration": 10,
    "start_time": "2022-07-26T13:54:05.041Z"
   },
   {
    "duration": 4,
    "start_time": "2022-07-26T13:55:53.146Z"
   },
   {
    "duration": 1466,
    "start_time": "2022-07-27T07:20:53.783Z"
   },
   {
    "duration": 651,
    "start_time": "2022-07-27T07:20:55.251Z"
   },
   {
    "duration": 13,
    "start_time": "2022-07-27T07:20:55.904Z"
   },
   {
    "duration": 6,
    "start_time": "2022-07-27T07:20:55.919Z"
   },
   {
    "duration": 16,
    "start_time": "2022-07-27T07:20:55.927Z"
   },
   {
    "duration": 21,
    "start_time": "2022-07-27T07:20:55.945Z"
   },
   {
    "duration": 10,
    "start_time": "2022-07-27T07:20:55.969Z"
   },
   {
    "duration": 21,
    "start_time": "2022-07-27T07:20:55.981Z"
   },
   {
    "duration": 32,
    "start_time": "2022-07-27T07:20:56.003Z"
   },
   {
    "duration": 13,
    "start_time": "2022-07-27T07:20:56.039Z"
   },
   {
    "duration": 41,
    "start_time": "2022-07-27T07:20:56.054Z"
   },
   {
    "duration": 96,
    "start_time": "2022-07-27T07:20:56.098Z"
   },
   {
    "duration": 112,
    "start_time": "2022-07-27T07:20:56.196Z"
   },
   {
    "duration": 37,
    "start_time": "2022-07-27T07:20:56.309Z"
   },
   {
    "duration": 21,
    "start_time": "2022-07-27T07:20:56.348Z"
   },
   {
    "duration": 127,
    "start_time": "2022-07-27T07:20:56.371Z"
   },
   {
    "duration": 27,
    "start_time": "2022-07-27T07:20:56.499Z"
   },
   {
    "duration": 59,
    "start_time": "2022-07-27T07:20:56.527Z"
   },
   {
    "duration": 21,
    "start_time": "2022-07-27T07:20:56.588Z"
   },
   {
    "duration": 14,
    "start_time": "2022-07-27T07:20:56.624Z"
   },
   {
    "duration": 10,
    "start_time": "2022-07-27T07:20:56.640Z"
   },
   {
    "duration": 36,
    "start_time": "2022-07-27T07:20:56.652Z"
   },
   {
    "duration": 694,
    "start_time": "2022-07-27T07:20:56.690Z"
   },
   {
    "duration": 38,
    "start_time": "2022-07-27T07:20:57.386Z"
   },
   {
    "duration": 17,
    "start_time": "2022-07-27T07:20:57.426Z"
   },
   {
    "duration": 21,
    "start_time": "2022-07-27T07:20:57.445Z"
   },
   {
    "duration": 13,
    "start_time": "2022-07-27T07:20:57.467Z"
   },
   {
    "duration": 69,
    "start_time": "2022-07-27T07:20:57.483Z"
   },
   {
    "duration": 26,
    "start_time": "2022-07-27T07:20:57.554Z"
   },
   {
    "duration": 17,
    "start_time": "2022-07-27T07:20:57.581Z"
   },
   {
    "duration": 39,
    "start_time": "2022-07-27T07:20:57.599Z"
   },
   {
    "duration": 13,
    "start_time": "2022-07-27T07:20:57.639Z"
   },
   {
    "duration": 25,
    "start_time": "2022-07-27T07:20:57.654Z"
   },
   {
    "duration": 43,
    "start_time": "2022-07-27T07:20:57.681Z"
   },
   {
    "duration": 346,
    "start_time": "2022-07-27T07:20:57.726Z"
   },
   {
    "duration": 5,
    "start_time": "2022-07-27T07:20:58.074Z"
   },
   {
    "duration": 224,
    "start_time": "2022-07-27T07:20:58.081Z"
   },
   {
    "duration": 225,
    "start_time": "2022-07-27T07:20:58.307Z"
   },
   {
    "duration": 9,
    "start_time": "2022-07-27T07:20:58.534Z"
   },
   {
    "duration": 10,
    "start_time": "2022-07-27T07:20:58.545Z"
   },
   {
    "duration": 1334,
    "start_time": "2022-07-27T07:20:58.557Z"
   },
   {
    "duration": 62,
    "start_time": "2022-07-27T07:20:59.893Z"
   },
   {
    "duration": 24,
    "start_time": "2022-07-27T07:20:59.957Z"
   },
   {
    "duration": 17,
    "start_time": "2022-07-27T07:20:59.984Z"
   },
   {
    "duration": 13,
    "start_time": "2022-07-27T07:21:00.024Z"
   },
   {
    "duration": 40,
    "start_time": "2022-07-27T07:21:00.039Z"
   },
   {
    "duration": 34,
    "start_time": "2022-07-27T07:21:00.081Z"
   },
   {
    "duration": 16,
    "start_time": "2022-07-27T07:21:00.117Z"
   },
   {
    "duration": 34,
    "start_time": "2022-07-27T07:21:00.135Z"
   },
   {
    "duration": 30,
    "start_time": "2022-07-27T07:21:00.170Z"
   },
   {
    "duration": 41,
    "start_time": "2022-07-27T07:21:00.202Z"
   },
   {
    "duration": 336,
    "start_time": "2022-07-27T07:21:00.245Z"
   },
   {
    "duration": 702,
    "start_time": "2022-07-27T07:21:00.584Z"
   },
   {
    "duration": 45,
    "start_time": "2022-07-27T07:21:01.287Z"
   },
   {
    "duration": 68,
    "start_time": "2022-07-27T07:21:01.333Z"
   },
   {
    "duration": 18,
    "start_time": "2022-07-27T07:21:01.403Z"
   },
   {
    "duration": 49,
    "start_time": "2022-07-27T07:21:01.422Z"
   },
   {
    "duration": 417,
    "start_time": "2022-07-27T07:21:01.473Z"
   },
   {
    "duration": 8,
    "start_time": "2022-07-27T07:21:01.892Z"
   },
   {
    "duration": 226,
    "start_time": "2022-07-27T07:21:01.901Z"
   },
   {
    "duration": 215,
    "start_time": "2022-07-27T07:21:02.130Z"
   },
   {
    "duration": 11,
    "start_time": "2022-07-27T07:21:02.347Z"
   },
   {
    "duration": 16,
    "start_time": "2022-07-27T07:21:02.360Z"
   },
   {
    "duration": 13,
    "start_time": "2022-07-27T07:21:02.377Z"
   },
   {
    "duration": 30,
    "start_time": "2022-07-27T07:21:02.393Z"
   },
   {
    "duration": 20,
    "start_time": "2022-07-27T07:21:02.427Z"
   },
   {
    "duration": 121,
    "start_time": "2022-07-27T07:36:21.434Z"
   },
   {
    "duration": 1200,
    "start_time": "2022-07-27T07:36:32.528Z"
   },
   {
    "duration": 264,
    "start_time": "2022-07-27T07:36:33.730Z"
   },
   {
    "duration": 12,
    "start_time": "2022-07-27T07:36:33.996Z"
   },
   {
    "duration": 8,
    "start_time": "2022-07-27T07:36:34.010Z"
   },
   {
    "duration": 22,
    "start_time": "2022-07-27T07:36:34.020Z"
   },
   {
    "duration": 23,
    "start_time": "2022-07-27T07:36:34.044Z"
   },
   {
    "duration": 7,
    "start_time": "2022-07-27T07:36:34.070Z"
   },
   {
    "duration": 13,
    "start_time": "2022-07-27T07:36:34.078Z"
   },
   {
    "duration": 13,
    "start_time": "2022-07-27T07:36:34.092Z"
   },
   {
    "duration": 13,
    "start_time": "2022-07-27T07:36:34.126Z"
   },
   {
    "duration": 50,
    "start_time": "2022-07-27T07:36:34.141Z"
   },
   {
    "duration": 100,
    "start_time": "2022-07-27T07:36:34.193Z"
   },
   {
    "duration": 105,
    "start_time": "2022-07-27T07:36:34.295Z"
   },
   {
    "duration": 37,
    "start_time": "2022-07-27T07:36:34.402Z"
   },
   {
    "duration": 22,
    "start_time": "2022-07-27T07:36:34.441Z"
   },
   {
    "duration": 138,
    "start_time": "2022-07-27T07:36:34.465Z"
   },
   {
    "duration": 30,
    "start_time": "2022-07-27T07:36:34.605Z"
   },
   {
    "duration": 52,
    "start_time": "2022-07-27T07:36:34.637Z"
   },
   {
    "duration": 44,
    "start_time": "2022-07-27T07:36:34.691Z"
   },
   {
    "duration": 15,
    "start_time": "2022-07-27T07:36:34.736Z"
   },
   {
    "duration": 12,
    "start_time": "2022-07-27T07:36:34.753Z"
   },
   {
    "duration": 38,
    "start_time": "2022-07-27T07:36:34.766Z"
   },
   {
    "duration": 725,
    "start_time": "2022-07-27T07:36:34.806Z"
   },
   {
    "duration": 39,
    "start_time": "2022-07-27T07:36:35.532Z"
   },
   {
    "duration": 23,
    "start_time": "2022-07-27T07:36:35.573Z"
   },
   {
    "duration": 27,
    "start_time": "2022-07-27T07:36:35.627Z"
   },
   {
    "duration": 14,
    "start_time": "2022-07-27T07:36:35.656Z"
   },
   {
    "duration": 59,
    "start_time": "2022-07-27T07:36:35.674Z"
   },
   {
    "duration": 30,
    "start_time": "2022-07-27T07:36:35.735Z"
   },
   {
    "duration": 25,
    "start_time": "2022-07-27T07:36:35.768Z"
   },
   {
    "duration": 45,
    "start_time": "2022-07-27T07:36:35.795Z"
   },
   {
    "duration": 18,
    "start_time": "2022-07-27T07:36:35.842Z"
   },
   {
    "duration": 21,
    "start_time": "2022-07-27T07:36:35.862Z"
   },
   {
    "duration": 48,
    "start_time": "2022-07-27T07:36:35.885Z"
   },
   {
    "duration": 371,
    "start_time": "2022-07-27T07:36:35.935Z"
   },
   {
    "duration": 17,
    "start_time": "2022-07-27T07:36:36.308Z"
   },
   {
    "duration": 235,
    "start_time": "2022-07-27T07:36:36.327Z"
   },
   {
    "duration": 258,
    "start_time": "2022-07-27T07:36:36.565Z"
   },
   {
    "duration": 9,
    "start_time": "2022-07-27T07:36:36.825Z"
   },
   {
    "duration": 21,
    "start_time": "2022-07-27T07:36:36.836Z"
   },
   {
    "duration": 1328,
    "start_time": "2022-07-27T07:36:36.859Z"
   },
   {
    "duration": 67,
    "start_time": "2022-07-27T07:36:38.188Z"
   },
   {
    "duration": 36,
    "start_time": "2022-07-27T07:36:38.257Z"
   },
   {
    "duration": 34,
    "start_time": "2022-07-27T07:36:38.294Z"
   },
   {
    "duration": 11,
    "start_time": "2022-07-27T07:36:38.330Z"
   },
   {
    "duration": 17,
    "start_time": "2022-07-27T07:36:38.343Z"
   },
   {
    "duration": 33,
    "start_time": "2022-07-27T07:36:38.362Z"
   },
   {
    "duration": 41,
    "start_time": "2022-07-27T07:36:38.398Z"
   },
   {
    "duration": 26,
    "start_time": "2022-07-27T07:36:38.441Z"
   },
   {
    "duration": 16,
    "start_time": "2022-07-27T07:36:38.469Z"
   },
   {
    "duration": 48,
    "start_time": "2022-07-27T07:36:38.487Z"
   },
   {
    "duration": 384,
    "start_time": "2022-07-27T07:36:38.537Z"
   },
   {
    "duration": 766,
    "start_time": "2022-07-27T07:36:38.923Z"
   },
   {
    "duration": 57,
    "start_time": "2022-07-27T07:36:39.691Z"
   },
   {
    "duration": 86,
    "start_time": "2022-07-27T07:36:39.750Z"
   },
   {
    "duration": 26,
    "start_time": "2022-07-27T07:36:39.838Z"
   },
   {
    "duration": 79,
    "start_time": "2022-07-27T07:36:39.866Z"
   },
   {
    "duration": 426,
    "start_time": "2022-07-27T07:36:39.947Z"
   },
   {
    "duration": 8,
    "start_time": "2022-07-27T07:36:40.375Z"
   },
   {
    "duration": 258,
    "start_time": "2022-07-27T07:36:40.385Z"
   },
   {
    "duration": 289,
    "start_time": "2022-07-27T07:36:40.645Z"
   },
   {
    "duration": 12,
    "start_time": "2022-07-27T07:36:40.936Z"
   },
   {
    "duration": 26,
    "start_time": "2022-07-27T07:36:40.951Z"
   },
   {
    "duration": 6,
    "start_time": "2022-07-27T07:36:40.979Z"
   },
   {
    "duration": 10,
    "start_time": "2022-07-27T07:36:40.987Z"
   },
   {
    "duration": 9,
    "start_time": "2022-07-27T07:36:40.999Z"
   },
   {
    "duration": 12,
    "start_time": "2022-07-27T08:19:07.179Z"
   },
   {
    "duration": 289,
    "start_time": "2022-07-27T08:19:07.194Z"
   },
   {
    "duration": 10,
    "start_time": "2022-07-27T08:19:07.485Z"
   },
   {
    "duration": 14,
    "start_time": "2022-07-27T08:19:07.497Z"
   },
   {
    "duration": 14,
    "start_time": "2022-07-27T08:19:07.513Z"
   },
   {
    "duration": 19,
    "start_time": "2022-07-27T08:19:07.530Z"
   },
   {
    "duration": 12,
    "start_time": "2022-07-27T08:19:07.551Z"
   },
   {
    "duration": 13,
    "start_time": "2022-07-27T08:19:07.564Z"
   },
   {
    "duration": 17,
    "start_time": "2022-07-27T08:19:07.578Z"
   },
   {
    "duration": 76,
    "start_time": "2022-07-27T08:19:07.622Z"
   },
   {
    "duration": 63,
    "start_time": "2022-07-27T08:19:07.700Z"
   },
   {
    "duration": 80,
    "start_time": "2022-07-27T08:19:07.765Z"
   },
   {
    "duration": 84,
    "start_time": "2022-07-27T08:19:07.847Z"
   },
   {
    "duration": 44,
    "start_time": "2022-07-27T08:19:07.934Z"
   },
   {
    "duration": 48,
    "start_time": "2022-07-27T08:19:07.980Z"
   },
   {
    "duration": 107,
    "start_time": "2022-07-27T08:19:08.030Z"
   },
   {
    "duration": 19,
    "start_time": "2022-07-27T08:19:08.138Z"
   },
   {
    "duration": 44,
    "start_time": "2022-07-27T08:19:08.159Z"
   },
   {
    "duration": 35,
    "start_time": "2022-07-27T08:19:08.205Z"
   },
   {
    "duration": 27,
    "start_time": "2022-07-27T08:19:08.241Z"
   },
   {
    "duration": 27,
    "start_time": "2022-07-27T08:19:08.269Z"
   },
   {
    "duration": 44,
    "start_time": "2022-07-27T08:19:08.298Z"
   },
   {
    "duration": 672,
    "start_time": "2022-07-27T08:19:08.345Z"
   },
   {
    "duration": 40,
    "start_time": "2022-07-27T08:19:09.024Z"
   },
   {
    "duration": 28,
    "start_time": "2022-07-27T08:19:09.066Z"
   },
   {
    "duration": 50,
    "start_time": "2022-07-27T08:19:09.096Z"
   },
   {
    "duration": 47,
    "start_time": "2022-07-27T08:19:09.148Z"
   },
   {
    "duration": 51,
    "start_time": "2022-07-27T08:19:09.200Z"
   },
   {
    "duration": 28,
    "start_time": "2022-07-27T08:19:09.254Z"
   },
   {
    "duration": 41,
    "start_time": "2022-07-27T08:19:09.284Z"
   },
   {
    "duration": 22,
    "start_time": "2022-07-27T08:19:09.328Z"
   },
   {
    "duration": 16,
    "start_time": "2022-07-27T08:19:09.353Z"
   },
   {
    "duration": 25,
    "start_time": "2022-07-27T08:19:09.371Z"
   },
   {
    "duration": 25,
    "start_time": "2022-07-27T08:19:09.425Z"
   },
   {
    "duration": 342,
    "start_time": "2022-07-27T08:19:09.452Z"
   },
   {
    "duration": 7,
    "start_time": "2022-07-27T08:19:09.797Z"
   },
   {
    "duration": 295,
    "start_time": "2022-07-27T08:19:09.806Z"
   },
   {
    "duration": 223,
    "start_time": "2022-07-27T08:19:10.102Z"
   },
   {
    "duration": 1309,
    "start_time": "2022-07-27T08:19:10.327Z"
   },
   {
    "duration": 49,
    "start_time": "2022-07-27T08:19:11.637Z"
   },
   {
    "duration": 42,
    "start_time": "2022-07-27T08:19:11.688Z"
   },
   {
    "duration": 17,
    "start_time": "2022-07-27T08:19:11.731Z"
   },
   {
    "duration": 10,
    "start_time": "2022-07-27T08:19:11.750Z"
   },
   {
    "duration": 13,
    "start_time": "2022-07-27T08:19:11.762Z"
   },
   {
    "duration": 55,
    "start_time": "2022-07-27T08:19:11.777Z"
   },
   {
    "duration": 17,
    "start_time": "2022-07-27T08:19:11.834Z"
   },
   {
    "duration": 24,
    "start_time": "2022-07-27T08:19:11.853Z"
   },
   {
    "duration": 15,
    "start_time": "2022-07-27T08:19:11.878Z"
   },
   {
    "duration": 42,
    "start_time": "2022-07-27T08:19:11.895Z"
   },
   {
    "duration": 321,
    "start_time": "2022-07-27T08:19:11.939Z"
   },
   {
    "duration": 685,
    "start_time": "2022-07-27T08:19:12.262Z"
   },
   {
    "duration": 40,
    "start_time": "2022-07-27T08:19:12.949Z"
   },
   {
    "duration": 67,
    "start_time": "2022-07-27T08:19:12.990Z"
   },
   {
    "duration": 19,
    "start_time": "2022-07-27T08:19:13.058Z"
   },
   {
    "duration": 66,
    "start_time": "2022-07-27T08:19:13.079Z"
   },
   {
    "duration": 371,
    "start_time": "2022-07-27T08:19:13.147Z"
   },
   {
    "duration": 8,
    "start_time": "2022-07-27T08:19:13.520Z"
   },
   {
    "duration": 11,
    "start_time": "2022-07-27T08:19:13.529Z"
   },
   {
    "duration": 11,
    "start_time": "2022-07-27T08:23:03.317Z"
   },
   {
    "duration": 4,
    "start_time": "2022-07-27T08:23:20.140Z"
   },
   {
    "duration": 1079,
    "start_time": "2022-07-27T08:23:57.755Z"
   },
   {
    "duration": 4,
    "start_time": "2022-07-27T08:25:26.648Z"
   },
   {
    "duration": 11,
    "start_time": "2022-07-27T08:26:36.735Z"
   },
   {
    "duration": 655,
    "start_time": "2022-07-27T08:57:50.745Z"
   },
   {
    "duration": 663,
    "start_time": "2022-07-27T08:57:57.908Z"
   },
   {
    "duration": 11,
    "start_time": "2022-07-27T08:58:16.338Z"
   },
   {
    "duration": 312,
    "start_time": "2022-07-27T08:58:16.351Z"
   },
   {
    "duration": 8,
    "start_time": "2022-07-27T08:58:16.665Z"
   },
   {
    "duration": 11,
    "start_time": "2022-07-27T08:58:16.675Z"
   },
   {
    "duration": 28,
    "start_time": "2022-07-27T08:58:16.688Z"
   },
   {
    "duration": 28,
    "start_time": "2022-07-27T08:58:16.718Z"
   },
   {
    "duration": 23,
    "start_time": "2022-07-27T08:58:16.747Z"
   },
   {
    "duration": 28,
    "start_time": "2022-07-27T08:58:16.772Z"
   },
   {
    "duration": 16,
    "start_time": "2022-07-27T08:58:16.801Z"
   },
   {
    "duration": 42,
    "start_time": "2022-07-27T08:58:16.820Z"
   },
   {
    "duration": 54,
    "start_time": "2022-07-27T08:58:16.864Z"
   },
   {
    "duration": 78,
    "start_time": "2022-07-27T08:58:16.920Z"
   },
   {
    "duration": 83,
    "start_time": "2022-07-27T08:58:17.000Z"
   },
   {
    "duration": 27,
    "start_time": "2022-07-27T08:58:17.084Z"
   },
   {
    "duration": 21,
    "start_time": "2022-07-27T08:58:17.124Z"
   },
   {
    "duration": 112,
    "start_time": "2022-07-27T08:58:17.147Z"
   },
   {
    "duration": 20,
    "start_time": "2022-07-27T08:58:17.260Z"
   },
   {
    "duration": 59,
    "start_time": "2022-07-27T08:58:17.282Z"
   },
   {
    "duration": 19,
    "start_time": "2022-07-27T08:58:17.343Z"
   },
   {
    "duration": 15,
    "start_time": "2022-07-27T08:58:17.364Z"
   },
   {
    "duration": 32,
    "start_time": "2022-07-27T08:58:17.380Z"
   },
   {
    "duration": 37,
    "start_time": "2022-07-27T08:58:17.414Z"
   },
   {
    "duration": 595,
    "start_time": "2022-07-27T08:58:17.452Z"
   },
   {
    "duration": 34,
    "start_time": "2022-07-27T08:58:18.048Z"
   },
   {
    "duration": 17,
    "start_time": "2022-07-27T08:58:18.084Z"
   },
   {
    "duration": 21,
    "start_time": "2022-07-27T08:58:18.123Z"
   },
   {
    "duration": 15,
    "start_time": "2022-07-27T08:58:18.146Z"
   },
   {
    "duration": 42,
    "start_time": "2022-07-27T08:58:18.166Z"
   },
   {
    "duration": 28,
    "start_time": "2022-07-27T08:58:18.223Z"
   },
   {
    "duration": 18,
    "start_time": "2022-07-27T08:58:18.254Z"
   },
   {
    "duration": 16,
    "start_time": "2022-07-27T08:58:18.273Z"
   },
   {
    "duration": 41,
    "start_time": "2022-07-27T08:58:18.290Z"
   },
   {
    "duration": 31,
    "start_time": "2022-07-27T08:58:18.333Z"
   },
   {
    "duration": 28,
    "start_time": "2022-07-27T08:58:18.366Z"
   },
   {
    "duration": 380,
    "start_time": "2022-07-27T08:58:18.395Z"
   },
   {
    "duration": 8,
    "start_time": "2022-07-27T08:58:18.777Z"
   },
   {
    "duration": 250,
    "start_time": "2022-07-27T08:58:18.787Z"
   },
   {
    "duration": 285,
    "start_time": "2022-07-27T08:58:19.039Z"
   },
   {
    "duration": 1252,
    "start_time": "2022-07-27T08:58:19.326Z"
   },
   {
    "duration": 53,
    "start_time": "2022-07-27T08:58:20.580Z"
   },
   {
    "duration": 20,
    "start_time": "2022-07-27T08:58:20.635Z"
   },
   {
    "duration": 17,
    "start_time": "2022-07-27T08:58:20.657Z"
   },
   {
    "duration": 11,
    "start_time": "2022-07-27T08:58:20.675Z"
   },
   {
    "duration": 40,
    "start_time": "2022-07-27T08:58:20.687Z"
   },
   {
    "duration": 22,
    "start_time": "2022-07-27T08:58:20.729Z"
   },
   {
    "duration": 19,
    "start_time": "2022-07-27T08:58:20.753Z"
   },
   {
    "duration": 22,
    "start_time": "2022-07-27T08:58:20.774Z"
   },
   {
    "duration": 35,
    "start_time": "2022-07-27T08:58:20.797Z"
   },
   {
    "duration": 28,
    "start_time": "2022-07-27T08:58:20.834Z"
   },
   {
    "duration": 316,
    "start_time": "2022-07-27T08:58:20.863Z"
   },
   {
    "duration": 688,
    "start_time": "2022-07-27T08:58:21.181Z"
   },
   {
    "duration": 39,
    "start_time": "2022-07-27T08:58:21.870Z"
   },
   {
    "duration": 54,
    "start_time": "2022-07-27T08:58:21.910Z"
   },
   {
    "duration": 17,
    "start_time": "2022-07-27T08:58:21.966Z"
   },
   {
    "duration": 70,
    "start_time": "2022-07-27T08:58:21.984Z"
   },
   {
    "duration": 400,
    "start_time": "2022-07-27T08:58:22.055Z"
   },
   {
    "duration": 8,
    "start_time": "2022-07-27T08:58:22.457Z"
   },
   {
    "duration": 17,
    "start_time": "2022-07-27T08:58:22.467Z"
   },
   {
    "duration": 26,
    "start_time": "2022-07-27T08:58:22.485Z"
   },
   {
    "duration": 25,
    "start_time": "2022-07-27T08:58:22.513Z"
   },
   {
    "duration": 20,
    "start_time": "2022-07-27T08:58:22.540Z"
   },
   {
    "duration": 12,
    "start_time": "2022-07-27T08:58:22.562Z"
   },
   {
    "duration": 24,
    "start_time": "2022-07-27T08:58:22.576Z"
   },
   {
    "duration": 22,
    "start_time": "2022-07-27T08:59:37.621Z"
   },
   {
    "duration": 1333,
    "start_time": "2022-07-27T09:03:19.619Z"
   },
   {
    "duration": 329,
    "start_time": "2022-07-27T09:03:20.954Z"
   },
   {
    "duration": 13,
    "start_time": "2022-07-27T09:03:21.284Z"
   },
   {
    "duration": 9,
    "start_time": "2022-07-27T09:03:21.299Z"
   },
   {
    "duration": 29,
    "start_time": "2022-07-27T09:03:21.310Z"
   },
   {
    "duration": 33,
    "start_time": "2022-07-27T09:03:21.341Z"
   },
   {
    "duration": 12,
    "start_time": "2022-07-27T09:03:21.376Z"
   },
   {
    "duration": 26,
    "start_time": "2022-07-27T09:03:21.390Z"
   },
   {
    "duration": 12,
    "start_time": "2022-07-27T09:03:21.418Z"
   },
   {
    "duration": 33,
    "start_time": "2022-07-27T09:03:21.432Z"
   },
   {
    "duration": 48,
    "start_time": "2022-07-27T09:03:21.466Z"
   },
   {
    "duration": 86,
    "start_time": "2022-07-27T09:03:21.516Z"
   },
   {
    "duration": 91,
    "start_time": "2022-07-27T09:03:21.603Z"
   },
   {
    "duration": 41,
    "start_time": "2022-07-27T09:03:21.698Z"
   },
   {
    "duration": 23,
    "start_time": "2022-07-27T09:03:21.741Z"
   },
   {
    "duration": 128,
    "start_time": "2022-07-27T09:03:21.766Z"
   },
   {
    "duration": 19,
    "start_time": "2022-07-27T09:03:21.896Z"
   },
   {
    "duration": 73,
    "start_time": "2022-07-27T09:03:21.916Z"
   },
   {
    "duration": 21,
    "start_time": "2022-07-27T09:03:21.990Z"
   },
   {
    "duration": 21,
    "start_time": "2022-07-27T09:03:22.013Z"
   },
   {
    "duration": 32,
    "start_time": "2022-07-27T09:03:22.035Z"
   },
   {
    "duration": 49,
    "start_time": "2022-07-27T09:03:22.069Z"
   },
   {
    "duration": 662,
    "start_time": "2022-07-27T09:03:22.120Z"
   },
   {
    "duration": 40,
    "start_time": "2022-07-27T09:03:22.783Z"
   },
   {
    "duration": 17,
    "start_time": "2022-07-27T09:03:22.825Z"
   },
   {
    "duration": 34,
    "start_time": "2022-07-27T09:03:22.844Z"
   },
   {
    "duration": 49,
    "start_time": "2022-07-27T09:03:22.879Z"
   },
   {
    "duration": 86,
    "start_time": "2022-07-27T09:03:22.930Z"
   },
   {
    "duration": 29,
    "start_time": "2022-07-27T09:03:23.017Z"
   },
   {
    "duration": 20,
    "start_time": "2022-07-27T09:03:23.047Z"
   },
   {
    "duration": 29,
    "start_time": "2022-07-27T09:03:23.069Z"
   },
   {
    "duration": 36,
    "start_time": "2022-07-27T09:03:23.100Z"
   },
   {
    "duration": 36,
    "start_time": "2022-07-27T09:03:23.138Z"
   },
   {
    "duration": 44,
    "start_time": "2022-07-27T09:03:23.176Z"
   },
   {
    "duration": 353,
    "start_time": "2022-07-27T09:03:23.222Z"
   },
   {
    "duration": 6,
    "start_time": "2022-07-27T09:03:23.577Z"
   },
   {
    "duration": 232,
    "start_time": "2022-07-27T09:03:23.584Z"
   },
   {
    "duration": 222,
    "start_time": "2022-07-27T09:03:23.818Z"
   },
   {
    "duration": 1251,
    "start_time": "2022-07-27T09:03:24.042Z"
   },
   {
    "duration": 58,
    "start_time": "2022-07-27T09:03:25.295Z"
   },
   {
    "duration": 23,
    "start_time": "2022-07-27T09:03:25.357Z"
   },
   {
    "duration": 17,
    "start_time": "2022-07-27T09:03:25.382Z"
   },
   {
    "duration": 47,
    "start_time": "2022-07-27T09:03:25.401Z"
   },
   {
    "duration": 33,
    "start_time": "2022-07-27T09:03:25.450Z"
   },
   {
    "duration": 50,
    "start_time": "2022-07-27T09:03:25.484Z"
   },
   {
    "duration": 38,
    "start_time": "2022-07-27T09:03:25.536Z"
   },
   {
    "duration": 42,
    "start_time": "2022-07-27T09:03:25.576Z"
   },
   {
    "duration": 16,
    "start_time": "2022-07-27T09:03:25.619Z"
   },
   {
    "duration": 27,
    "start_time": "2022-07-27T09:03:25.637Z"
   },
   {
    "duration": 324,
    "start_time": "2022-07-27T09:03:25.667Z"
   },
   {
    "duration": 669,
    "start_time": "2022-07-27T09:03:25.994Z"
   },
   {
    "duration": 37,
    "start_time": "2022-07-27T09:03:26.665Z"
   },
   {
    "duration": 64,
    "start_time": "2022-07-27T09:03:26.704Z"
   },
   {
    "duration": 18,
    "start_time": "2022-07-27T09:03:26.770Z"
   },
   {
    "duration": 69,
    "start_time": "2022-07-27T09:03:26.790Z"
   },
   {
    "duration": 413,
    "start_time": "2022-07-27T09:03:26.861Z"
   },
   {
    "duration": 9,
    "start_time": "2022-07-27T09:03:27.276Z"
   },
   {
    "duration": 172,
    "start_time": "2022-07-27T09:03:27.287Z"
   },
   {
    "duration": 0,
    "start_time": "2022-07-27T09:03:27.462Z"
   },
   {
    "duration": 0,
    "start_time": "2022-07-27T09:03:27.463Z"
   },
   {
    "duration": 0,
    "start_time": "2022-07-27T09:03:27.465Z"
   },
   {
    "duration": 0,
    "start_time": "2022-07-27T09:03:27.467Z"
   },
   {
    "duration": 5,
    "start_time": "2022-07-27T09:04:12.002Z"
   },
   {
    "duration": 1228,
    "start_time": "2022-07-27T09:04:21.342Z"
   },
   {
    "duration": 266,
    "start_time": "2022-07-27T09:04:22.572Z"
   },
   {
    "duration": 14,
    "start_time": "2022-07-27T09:04:22.840Z"
   },
   {
    "duration": 18,
    "start_time": "2022-07-27T09:04:22.856Z"
   },
   {
    "duration": 15,
    "start_time": "2022-07-27T09:04:22.876Z"
   },
   {
    "duration": 20,
    "start_time": "2022-07-27T09:04:22.892Z"
   },
   {
    "duration": 7,
    "start_time": "2022-07-27T09:04:22.924Z"
   },
   {
    "duration": 21,
    "start_time": "2022-07-27T09:04:22.933Z"
   },
   {
    "duration": 16,
    "start_time": "2022-07-27T09:04:22.956Z"
   },
   {
    "duration": 17,
    "start_time": "2022-07-27T09:04:22.974Z"
   },
   {
    "duration": 51,
    "start_time": "2022-07-27T09:04:22.994Z"
   },
   {
    "duration": 92,
    "start_time": "2022-07-27T09:04:23.047Z"
   },
   {
    "duration": 96,
    "start_time": "2022-07-27T09:04:23.141Z"
   },
   {
    "duration": 28,
    "start_time": "2022-07-27T09:04:23.241Z"
   },
   {
    "duration": 22,
    "start_time": "2022-07-27T09:04:23.271Z"
   },
   {
    "duration": 123,
    "start_time": "2022-07-27T09:04:23.294Z"
   },
   {
    "duration": 19,
    "start_time": "2022-07-27T09:04:23.423Z"
   },
   {
    "duration": 77,
    "start_time": "2022-07-27T09:04:23.443Z"
   },
   {
    "duration": 24,
    "start_time": "2022-07-27T09:04:23.521Z"
   },
   {
    "duration": 14,
    "start_time": "2022-07-27T09:04:23.547Z"
   },
   {
    "duration": 11,
    "start_time": "2022-07-27T09:04:23.563Z"
   },
   {
    "duration": 48,
    "start_time": "2022-07-27T09:04:23.576Z"
   },
   {
    "duration": 657,
    "start_time": "2022-07-27T09:04:23.626Z"
   },
   {
    "duration": 39,
    "start_time": "2022-07-27T09:04:24.285Z"
   },
   {
    "duration": 17,
    "start_time": "2022-07-27T09:04:24.326Z"
   },
   {
    "duration": 36,
    "start_time": "2022-07-27T09:04:24.345Z"
   },
   {
    "duration": 12,
    "start_time": "2022-07-27T09:04:24.383Z"
   },
   {
    "duration": 54,
    "start_time": "2022-07-27T09:04:24.396Z"
   },
   {
    "duration": 27,
    "start_time": "2022-07-27T09:04:24.452Z"
   },
   {
    "duration": 19,
    "start_time": "2022-07-27T09:04:24.480Z"
   },
   {
    "duration": 35,
    "start_time": "2022-07-27T09:04:24.501Z"
   },
   {
    "duration": 11,
    "start_time": "2022-07-27T09:04:24.538Z"
   },
   {
    "duration": 18,
    "start_time": "2022-07-27T09:04:24.551Z"
   },
   {
    "duration": 17,
    "start_time": "2022-07-27T09:04:24.571Z"
   },
   {
    "duration": 360,
    "start_time": "2022-07-27T09:04:24.590Z"
   },
   {
    "duration": 6,
    "start_time": "2022-07-27T09:04:24.953Z"
   },
   {
    "duration": 237,
    "start_time": "2022-07-27T09:04:24.961Z"
   },
   {
    "duration": 227,
    "start_time": "2022-07-27T09:04:25.200Z"
   },
   {
    "duration": 1261,
    "start_time": "2022-07-27T09:04:25.429Z"
   },
   {
    "duration": 59,
    "start_time": "2022-07-27T09:04:26.692Z"
   },
   {
    "duration": 22,
    "start_time": "2022-07-27T09:04:26.755Z"
   },
   {
    "duration": 16,
    "start_time": "2022-07-27T09:04:26.779Z"
   },
   {
    "duration": 34,
    "start_time": "2022-07-27T09:04:26.796Z"
   },
   {
    "duration": 19,
    "start_time": "2022-07-27T09:04:26.831Z"
   },
   {
    "duration": 27,
    "start_time": "2022-07-27T09:04:26.852Z"
   },
   {
    "duration": 27,
    "start_time": "2022-07-27T09:04:26.881Z"
   },
   {
    "duration": 31,
    "start_time": "2022-07-27T09:04:26.909Z"
   },
   {
    "duration": 15,
    "start_time": "2022-07-27T09:04:26.942Z"
   },
   {
    "duration": 46,
    "start_time": "2022-07-27T09:04:26.960Z"
   },
   {
    "duration": 322,
    "start_time": "2022-07-27T09:04:27.008Z"
   },
   {
    "duration": 658,
    "start_time": "2022-07-27T09:04:27.331Z"
   },
   {
    "duration": 46,
    "start_time": "2022-07-27T09:04:27.991Z"
   },
   {
    "duration": 47,
    "start_time": "2022-07-27T09:04:28.039Z"
   },
   {
    "duration": 18,
    "start_time": "2022-07-27T09:04:28.088Z"
   },
   {
    "duration": 55,
    "start_time": "2022-07-27T09:04:28.124Z"
   },
   {
    "duration": 405,
    "start_time": "2022-07-27T09:04:28.181Z"
   },
   {
    "duration": 8,
    "start_time": "2022-07-27T09:04:28.588Z"
   },
   {
    "duration": 11,
    "start_time": "2022-07-27T09:04:28.597Z"
   },
   {
    "duration": 14,
    "start_time": "2022-07-27T09:04:28.610Z"
   },
   {
    "duration": 17,
    "start_time": "2022-07-27T09:04:28.626Z"
   },
   {
    "duration": 11,
    "start_time": "2022-07-27T09:04:28.645Z"
   },
   {
    "duration": 21,
    "start_time": "2022-07-27T09:04:28.657Z"
   },
   {
    "duration": 12,
    "start_time": "2022-07-27T09:11:39.994Z"
   },
   {
    "duration": 13,
    "start_time": "2022-07-27T09:13:19.781Z"
   },
   {
    "duration": 19,
    "start_time": "2022-07-27T09:14:15.163Z"
   },
   {
    "duration": 19,
    "start_time": "2022-07-27T09:15:11.095Z"
   },
   {
    "duration": 18,
    "start_time": "2022-07-27T09:16:21.417Z"
   },
   {
    "duration": 17,
    "start_time": "2022-07-27T09:21:19.865Z"
   },
   {
    "duration": 8,
    "start_time": "2022-07-27T09:24:32.875Z"
   },
   {
    "duration": 9,
    "start_time": "2022-07-27T09:24:40.597Z"
   },
   {
    "duration": 5,
    "start_time": "2022-07-27T09:24:58.563Z"
   },
   {
    "duration": 6,
    "start_time": "2022-07-27T09:25:07.360Z"
   },
   {
    "duration": 7,
    "start_time": "2022-07-27T09:25:24.758Z"
   },
   {
    "duration": 11,
    "start_time": "2022-07-27T09:25:29.726Z"
   },
   {
    "duration": 286,
    "start_time": "2022-07-27T09:25:29.740Z"
   },
   {
    "duration": 8,
    "start_time": "2022-07-27T09:25:30.028Z"
   },
   {
    "duration": 10,
    "start_time": "2022-07-27T09:25:30.038Z"
   },
   {
    "duration": 16,
    "start_time": "2022-07-27T09:25:30.050Z"
   },
   {
    "duration": 30,
    "start_time": "2022-07-27T09:25:30.068Z"
   },
   {
    "duration": 26,
    "start_time": "2022-07-27T09:25:30.099Z"
   },
   {
    "duration": 17,
    "start_time": "2022-07-27T09:25:30.127Z"
   },
   {
    "duration": 21,
    "start_time": "2022-07-27T09:25:30.145Z"
   },
   {
    "duration": 21,
    "start_time": "2022-07-27T09:25:30.169Z"
   },
   {
    "duration": 51,
    "start_time": "2022-07-27T09:25:30.192Z"
   },
   {
    "duration": 83,
    "start_time": "2022-07-27T09:25:30.245Z"
   },
   {
    "duration": 77,
    "start_time": "2022-07-27T09:25:30.329Z"
   },
   {
    "duration": 39,
    "start_time": "2022-07-27T09:25:30.407Z"
   },
   {
    "duration": 25,
    "start_time": "2022-07-27T09:25:30.448Z"
   },
   {
    "duration": 114,
    "start_time": "2022-07-27T09:25:30.475Z"
   },
   {
    "duration": 19,
    "start_time": "2022-07-27T09:25:30.591Z"
   },
   {
    "duration": 68,
    "start_time": "2022-07-27T09:25:30.612Z"
   },
   {
    "duration": 21,
    "start_time": "2022-07-27T09:25:30.682Z"
   },
   {
    "duration": 34,
    "start_time": "2022-07-27T09:25:30.705Z"
   },
   {
    "duration": 38,
    "start_time": "2022-07-27T09:25:30.741Z"
   },
   {
    "duration": 41,
    "start_time": "2022-07-27T09:25:30.781Z"
   },
   {
    "duration": 671,
    "start_time": "2022-07-27T09:25:30.824Z"
   },
   {
    "duration": 41,
    "start_time": "2022-07-27T09:25:31.497Z"
   },
   {
    "duration": 17,
    "start_time": "2022-07-27T09:25:31.539Z"
   },
   {
    "duration": 22,
    "start_time": "2022-07-27T09:25:31.558Z"
   },
   {
    "duration": 11,
    "start_time": "2022-07-27T09:25:31.582Z"
   },
   {
    "duration": 39,
    "start_time": "2022-07-27T09:25:31.622Z"
   },
   {
    "duration": 25,
    "start_time": "2022-07-27T09:25:31.663Z"
   },
   {
    "duration": 37,
    "start_time": "2022-07-27T09:25:31.689Z"
   },
   {
    "duration": 16,
    "start_time": "2022-07-27T09:25:31.728Z"
   },
   {
    "duration": 12,
    "start_time": "2022-07-27T09:25:31.746Z"
   },
   {
    "duration": 26,
    "start_time": "2022-07-27T09:25:31.759Z"
   },
   {
    "duration": 42,
    "start_time": "2022-07-27T09:25:31.786Z"
   },
   {
    "duration": 344,
    "start_time": "2022-07-27T09:25:31.830Z"
   },
   {
    "duration": 7,
    "start_time": "2022-07-27T09:25:32.177Z"
   },
   {
    "duration": 226,
    "start_time": "2022-07-27T09:25:32.186Z"
   },
   {
    "duration": 231,
    "start_time": "2022-07-27T09:25:32.414Z"
   },
   {
    "duration": 1335,
    "start_time": "2022-07-27T09:25:32.647Z"
   },
   {
    "duration": 63,
    "start_time": "2022-07-27T09:25:33.983Z"
   },
   {
    "duration": 22,
    "start_time": "2022-07-27T09:25:34.048Z"
   },
   {
    "duration": 17,
    "start_time": "2022-07-27T09:25:34.072Z"
   },
   {
    "duration": 10,
    "start_time": "2022-07-27T09:25:34.090Z"
   },
   {
    "duration": 18,
    "start_time": "2022-07-27T09:25:34.124Z"
   },
   {
    "duration": 31,
    "start_time": "2022-07-27T09:25:34.143Z"
   },
   {
    "duration": 16,
    "start_time": "2022-07-27T09:25:34.176Z"
   },
   {
    "duration": 25,
    "start_time": "2022-07-27T09:25:34.194Z"
   },
   {
    "duration": 16,
    "start_time": "2022-07-27T09:25:34.221Z"
   },
   {
    "duration": 22,
    "start_time": "2022-07-27T09:25:34.239Z"
   },
   {
    "duration": 320,
    "start_time": "2022-07-27T09:25:34.263Z"
   },
   {
    "duration": 651,
    "start_time": "2022-07-27T09:25:34.585Z"
   },
   {
    "duration": 40,
    "start_time": "2022-07-27T09:25:35.237Z"
   },
   {
    "duration": 71,
    "start_time": "2022-07-27T09:25:35.279Z"
   },
   {
    "duration": 19,
    "start_time": "2022-07-27T09:25:35.352Z"
   },
   {
    "duration": 70,
    "start_time": "2022-07-27T09:25:35.373Z"
   },
   {
    "duration": 379,
    "start_time": "2022-07-27T09:25:35.445Z"
   },
   {
    "duration": 7,
    "start_time": "2022-07-27T09:25:35.825Z"
   },
   {
    "duration": 12,
    "start_time": "2022-07-27T09:25:35.834Z"
   },
   {
    "duration": 14,
    "start_time": "2022-07-27T09:25:35.847Z"
   },
   {
    "duration": 14,
    "start_time": "2022-07-27T09:25:35.862Z"
   },
   {
    "duration": 16,
    "start_time": "2022-07-27T09:25:35.878Z"
   },
   {
    "duration": 7,
    "start_time": "2022-07-27T09:25:35.896Z"
   },
   {
    "duration": 35,
    "start_time": "2022-07-27T09:25:35.904Z"
   },
   {
    "duration": 19,
    "start_time": "2022-07-27T09:25:35.940Z"
   },
   {
    "duration": 6,
    "start_time": "2022-07-27T09:25:38.596Z"
   },
   {
    "duration": 1153,
    "start_time": "2022-07-27T09:32:00.434Z"
   },
   {
    "duration": 265,
    "start_time": "2022-07-27T09:32:01.589Z"
   },
   {
    "duration": 11,
    "start_time": "2022-07-27T09:32:01.856Z"
   },
   {
    "duration": 35,
    "start_time": "2022-07-27T09:32:01.868Z"
   },
   {
    "duration": 19,
    "start_time": "2022-07-27T09:32:01.906Z"
   },
   {
    "duration": 35,
    "start_time": "2022-07-27T09:32:01.927Z"
   },
   {
    "duration": 7,
    "start_time": "2022-07-27T09:32:01.964Z"
   },
   {
    "duration": 22,
    "start_time": "2022-07-27T09:32:01.972Z"
   },
   {
    "duration": 37,
    "start_time": "2022-07-27T09:32:01.996Z"
   },
   {
    "duration": 23,
    "start_time": "2022-07-27T09:32:02.035Z"
   },
   {
    "duration": 51,
    "start_time": "2022-07-27T09:32:02.060Z"
   },
   {
    "duration": 86,
    "start_time": "2022-07-27T09:32:02.112Z"
   },
   {
    "duration": 102,
    "start_time": "2022-07-27T09:32:02.199Z"
   },
   {
    "duration": 37,
    "start_time": "2022-07-27T09:32:02.304Z"
   },
   {
    "duration": 27,
    "start_time": "2022-07-27T09:32:02.343Z"
   },
   {
    "duration": 119,
    "start_time": "2022-07-27T09:32:02.371Z"
   },
   {
    "duration": 19,
    "start_time": "2022-07-27T09:32:02.492Z"
   },
   {
    "duration": 67,
    "start_time": "2022-07-27T09:32:02.513Z"
   },
   {
    "duration": 44,
    "start_time": "2022-07-27T09:32:02.582Z"
   },
   {
    "duration": 15,
    "start_time": "2022-07-27T09:32:02.628Z"
   },
   {
    "duration": 11,
    "start_time": "2022-07-27T09:32:02.645Z"
   },
   {
    "duration": 38,
    "start_time": "2022-07-27T09:32:02.658Z"
   },
   {
    "duration": 649,
    "start_time": "2022-07-27T09:32:02.698Z"
   },
   {
    "duration": 31,
    "start_time": "2022-07-27T09:32:03.349Z"
   },
   {
    "duration": 17,
    "start_time": "2022-07-27T09:32:03.382Z"
   },
   {
    "duration": 22,
    "start_time": "2022-07-27T09:32:03.424Z"
   },
   {
    "duration": 12,
    "start_time": "2022-07-27T09:32:03.447Z"
   },
   {
    "duration": 35,
    "start_time": "2022-07-27T09:32:03.460Z"
   },
   {
    "duration": 49,
    "start_time": "2022-07-27T09:32:03.496Z"
   },
   {
    "duration": 17,
    "start_time": "2022-07-27T09:32:03.546Z"
   },
   {
    "duration": 21,
    "start_time": "2022-07-27T09:32:03.565Z"
   },
   {
    "duration": 36,
    "start_time": "2022-07-27T09:32:03.588Z"
   },
   {
    "duration": 14,
    "start_time": "2022-07-27T09:32:03.627Z"
   },
   {
    "duration": 20,
    "start_time": "2022-07-27T09:32:03.643Z"
   },
   {
    "duration": 339,
    "start_time": "2022-07-27T09:32:03.665Z"
   },
   {
    "duration": 6,
    "start_time": "2022-07-27T09:32:04.006Z"
   },
   {
    "duration": 216,
    "start_time": "2022-07-27T09:32:04.014Z"
   },
   {
    "duration": 218,
    "start_time": "2022-07-27T09:32:04.232Z"
   },
   {
    "duration": 1226,
    "start_time": "2022-07-27T09:32:04.452Z"
   },
   {
    "duration": 61,
    "start_time": "2022-07-27T09:32:05.680Z"
   },
   {
    "duration": 23,
    "start_time": "2022-07-27T09:32:05.745Z"
   },
   {
    "duration": 17,
    "start_time": "2022-07-27T09:32:05.770Z"
   },
   {
    "duration": 10,
    "start_time": "2022-07-27T09:32:05.789Z"
   },
   {
    "duration": 12,
    "start_time": "2022-07-27T09:32:05.823Z"
   },
   {
    "duration": 26,
    "start_time": "2022-07-27T09:32:05.837Z"
   },
   {
    "duration": 20,
    "start_time": "2022-07-27T09:32:05.865Z"
   },
   {
    "duration": 36,
    "start_time": "2022-07-27T09:32:05.887Z"
   },
   {
    "duration": 14,
    "start_time": "2022-07-27T09:32:05.925Z"
   },
   {
    "duration": 14,
    "start_time": "2022-07-27T09:32:05.941Z"
   },
   {
    "duration": 370,
    "start_time": "2022-07-27T09:32:05.957Z"
   },
   {
    "duration": 716,
    "start_time": "2022-07-27T09:32:06.328Z"
   },
   {
    "duration": 43,
    "start_time": "2022-07-27T09:32:07.046Z"
   },
   {
    "duration": 71,
    "start_time": "2022-07-27T09:32:07.091Z"
   },
   {
    "duration": 19,
    "start_time": "2022-07-27T09:32:07.164Z"
   },
   {
    "duration": 82,
    "start_time": "2022-07-27T09:32:07.186Z"
   },
   {
    "duration": 412,
    "start_time": "2022-07-27T09:32:07.270Z"
   },
   {
    "duration": 9,
    "start_time": "2022-07-27T09:32:07.684Z"
   },
   {
    "duration": 14,
    "start_time": "2022-07-27T09:32:07.694Z"
   },
   {
    "duration": 9,
    "start_time": "2022-07-27T09:32:07.710Z"
   },
   {
    "duration": 11,
    "start_time": "2022-07-27T09:32:07.721Z"
   },
   {
    "duration": 12,
    "start_time": "2022-07-27T09:32:07.734Z"
   },
   {
    "duration": 15,
    "start_time": "2022-07-27T09:32:07.748Z"
   },
   {
    "duration": 27,
    "start_time": "2022-07-27T09:32:07.765Z"
   },
   {
    "duration": 18,
    "start_time": "2022-07-27T09:32:07.794Z"
   },
   {
    "duration": 15,
    "start_time": "2022-07-27T09:32:07.822Z"
   },
   {
    "duration": 1233,
    "start_time": "2022-07-27T09:32:42.517Z"
   },
   {
    "duration": 273,
    "start_time": "2022-07-27T09:32:43.752Z"
   },
   {
    "duration": 12,
    "start_time": "2022-07-27T09:32:44.027Z"
   },
   {
    "duration": 5,
    "start_time": "2022-07-27T09:32:44.041Z"
   },
   {
    "duration": 16,
    "start_time": "2022-07-27T09:32:44.048Z"
   },
   {
    "duration": 34,
    "start_time": "2022-07-27T09:32:44.066Z"
   },
   {
    "duration": 7,
    "start_time": "2022-07-27T09:32:44.101Z"
   },
   {
    "duration": 28,
    "start_time": "2022-07-27T09:32:44.109Z"
   },
   {
    "duration": 11,
    "start_time": "2022-07-27T09:32:44.139Z"
   },
   {
    "duration": 18,
    "start_time": "2022-07-27T09:32:44.153Z"
   },
   {
    "duration": 36,
    "start_time": "2022-07-27T09:32:44.172Z"
   },
   {
    "duration": 90,
    "start_time": "2022-07-27T09:32:44.210Z"
   },
   {
    "duration": 101,
    "start_time": "2022-07-27T09:32:44.301Z"
   },
   {
    "duration": 40,
    "start_time": "2022-07-27T09:32:44.404Z"
   },
   {
    "duration": 22,
    "start_time": "2022-07-27T09:32:44.445Z"
   },
   {
    "duration": 122,
    "start_time": "2022-07-27T09:32:44.468Z"
   },
   {
    "duration": 19,
    "start_time": "2022-07-27T09:32:44.592Z"
   },
   {
    "duration": 60,
    "start_time": "2022-07-27T09:32:44.613Z"
   },
   {
    "duration": 21,
    "start_time": "2022-07-27T09:32:44.675Z"
   },
   {
    "duration": 32,
    "start_time": "2022-07-27T09:32:44.698Z"
   },
   {
    "duration": 10,
    "start_time": "2022-07-27T09:32:44.732Z"
   },
   {
    "duration": 24,
    "start_time": "2022-07-27T09:32:44.744Z"
   },
   {
    "duration": 678,
    "start_time": "2022-07-27T09:32:44.770Z"
   },
   {
    "duration": 34,
    "start_time": "2022-07-27T09:32:45.450Z"
   },
   {
    "duration": 17,
    "start_time": "2022-07-27T09:32:45.486Z"
   },
   {
    "duration": 34,
    "start_time": "2022-07-27T09:32:45.505Z"
   },
   {
    "duration": 17,
    "start_time": "2022-07-27T09:32:45.541Z"
   },
   {
    "duration": 38,
    "start_time": "2022-07-27T09:32:45.563Z"
   },
   {
    "duration": 29,
    "start_time": "2022-07-27T09:32:45.623Z"
   },
   {
    "duration": 18,
    "start_time": "2022-07-27T09:32:45.654Z"
   },
   {
    "duration": 17,
    "start_time": "2022-07-27T09:32:45.673Z"
   },
   {
    "duration": 43,
    "start_time": "2022-07-27T09:32:45.692Z"
   },
   {
    "duration": 16,
    "start_time": "2022-07-27T09:32:45.737Z"
   },
   {
    "duration": 18,
    "start_time": "2022-07-27T09:32:45.755Z"
   },
   {
    "duration": 360,
    "start_time": "2022-07-27T09:32:45.775Z"
   },
   {
    "duration": 6,
    "start_time": "2022-07-27T09:32:46.137Z"
   },
   {
    "duration": 243,
    "start_time": "2022-07-27T09:32:46.145Z"
   },
   {
    "duration": 224,
    "start_time": "2022-07-27T09:32:46.390Z"
   },
   {
    "duration": 1215,
    "start_time": "2022-07-27T09:32:46.622Z"
   },
   {
    "duration": 51,
    "start_time": "2022-07-27T09:32:47.839Z"
   },
   {
    "duration": 41,
    "start_time": "2022-07-27T09:32:47.892Z"
   },
   {
    "duration": 17,
    "start_time": "2022-07-27T09:32:47.936Z"
   },
   {
    "duration": 10,
    "start_time": "2022-07-27T09:32:47.955Z"
   },
   {
    "duration": 18,
    "start_time": "2022-07-27T09:32:47.967Z"
   },
   {
    "duration": 41,
    "start_time": "2022-07-27T09:32:47.987Z"
   },
   {
    "duration": 24,
    "start_time": "2022-07-27T09:32:48.030Z"
   },
   {
    "duration": 27,
    "start_time": "2022-07-27T09:32:48.056Z"
   },
   {
    "duration": 16,
    "start_time": "2022-07-27T09:32:48.085Z"
   },
   {
    "duration": 30,
    "start_time": "2022-07-27T09:32:48.103Z"
   },
   {
    "duration": 330,
    "start_time": "2022-07-27T09:32:48.134Z"
   },
   {
    "duration": 736,
    "start_time": "2022-07-27T09:32:48.466Z"
   },
   {
    "duration": 48,
    "start_time": "2022-07-27T09:32:49.204Z"
   },
   {
    "duration": 52,
    "start_time": "2022-07-27T09:32:49.254Z"
   },
   {
    "duration": 19,
    "start_time": "2022-07-27T09:32:49.322Z"
   },
   {
    "duration": 48,
    "start_time": "2022-07-27T09:32:49.343Z"
   },
   {
    "duration": 456,
    "start_time": "2022-07-27T09:32:49.393Z"
   },
   {
    "duration": 7,
    "start_time": "2022-07-27T09:32:49.851Z"
   },
   {
    "duration": 31,
    "start_time": "2022-07-27T09:32:49.860Z"
   },
   {
    "duration": 24,
    "start_time": "2022-07-27T09:32:49.893Z"
   },
   {
    "duration": 15,
    "start_time": "2022-07-27T09:32:49.919Z"
   },
   {
    "duration": 13,
    "start_time": "2022-07-27T09:32:49.936Z"
   },
   {
    "duration": 31,
    "start_time": "2022-07-27T09:32:49.951Z"
   },
   {
    "duration": 43,
    "start_time": "2022-07-27T09:32:49.984Z"
   },
   {
    "duration": 18,
    "start_time": "2022-07-27T09:32:50.028Z"
   },
   {
    "duration": 6,
    "start_time": "2022-07-27T09:32:57.113Z"
   },
   {
    "duration": 12,
    "start_time": "2022-07-27T09:33:03.032Z"
   },
   {
    "duration": 11,
    "start_time": "2022-07-27T09:33:13.116Z"
   },
   {
    "duration": 1199,
    "start_time": "2022-07-27T09:33:28.468Z"
   },
   {
    "duration": 275,
    "start_time": "2022-07-27T09:33:29.669Z"
   },
   {
    "duration": 13,
    "start_time": "2022-07-27T09:33:29.946Z"
   },
   {
    "duration": 20,
    "start_time": "2022-07-27T09:33:29.961Z"
   },
   {
    "duration": 35,
    "start_time": "2022-07-27T09:33:29.985Z"
   },
   {
    "duration": 83,
    "start_time": "2022-07-27T09:33:30.021Z"
   },
   {
    "duration": 37,
    "start_time": "2022-07-27T09:33:30.105Z"
   },
   {
    "duration": 22,
    "start_time": "2022-07-27T09:33:30.143Z"
   },
   {
    "duration": 11,
    "start_time": "2022-07-27T09:33:30.167Z"
   },
   {
    "duration": 27,
    "start_time": "2022-07-27T09:33:30.181Z"
   },
   {
    "duration": 47,
    "start_time": "2022-07-27T09:33:30.210Z"
   },
   {
    "duration": 90,
    "start_time": "2022-07-27T09:33:30.258Z"
   },
   {
    "duration": 106,
    "start_time": "2022-07-27T09:33:30.349Z"
   },
   {
    "duration": 28,
    "start_time": "2022-07-27T09:33:30.457Z"
   },
   {
    "duration": 37,
    "start_time": "2022-07-27T09:33:30.487Z"
   },
   {
    "duration": 110,
    "start_time": "2022-07-27T09:33:30.526Z"
   },
   {
    "duration": 21,
    "start_time": "2022-07-27T09:33:30.637Z"
   },
   {
    "duration": 74,
    "start_time": "2022-07-27T09:33:30.660Z"
   },
   {
    "duration": 24,
    "start_time": "2022-07-27T09:33:30.735Z"
   },
   {
    "duration": 23,
    "start_time": "2022-07-27T09:33:30.761Z"
   },
   {
    "duration": 41,
    "start_time": "2022-07-27T09:33:30.786Z"
   },
   {
    "duration": 46,
    "start_time": "2022-07-27T09:33:30.829Z"
   },
   {
    "duration": 699,
    "start_time": "2022-07-27T09:33:30.877Z"
   },
   {
    "duration": 32,
    "start_time": "2022-07-27T09:33:31.578Z"
   },
   {
    "duration": 18,
    "start_time": "2022-07-27T09:33:31.623Z"
   },
   {
    "duration": 21,
    "start_time": "2022-07-27T09:33:31.642Z"
   },
   {
    "duration": 12,
    "start_time": "2022-07-27T09:33:31.665Z"
   },
   {
    "duration": 63,
    "start_time": "2022-07-27T09:33:31.681Z"
   },
   {
    "duration": 28,
    "start_time": "2022-07-27T09:33:31.745Z"
   },
   {
    "duration": 18,
    "start_time": "2022-07-27T09:33:31.775Z"
   },
   {
    "duration": 38,
    "start_time": "2022-07-27T09:33:31.794Z"
   },
   {
    "duration": 12,
    "start_time": "2022-07-27T09:33:31.834Z"
   },
   {
    "duration": 24,
    "start_time": "2022-07-27T09:33:31.848Z"
   },
   {
    "duration": 37,
    "start_time": "2022-07-27T09:33:31.874Z"
   },
   {
    "duration": 333,
    "start_time": "2022-07-27T09:33:31.913Z"
   },
   {
    "duration": 7,
    "start_time": "2022-07-27T09:33:32.248Z"
   },
   {
    "duration": 228,
    "start_time": "2022-07-27T09:33:32.257Z"
   },
   {
    "duration": 242,
    "start_time": "2022-07-27T09:33:32.487Z"
   },
   {
    "duration": 1240,
    "start_time": "2022-07-27T09:33:32.731Z"
   },
   {
    "duration": 58,
    "start_time": "2022-07-27T09:33:33.972Z"
   },
   {
    "duration": 21,
    "start_time": "2022-07-27T09:33:34.032Z"
   },
   {
    "duration": 26,
    "start_time": "2022-07-27T09:33:34.055Z"
   },
   {
    "duration": 40,
    "start_time": "2022-07-27T09:33:34.082Z"
   },
   {
    "duration": 36,
    "start_time": "2022-07-27T09:33:34.124Z"
   },
   {
    "duration": 34,
    "start_time": "2022-07-27T09:33:34.162Z"
   },
   {
    "duration": 35,
    "start_time": "2022-07-27T09:33:34.197Z"
   },
   {
    "duration": 42,
    "start_time": "2022-07-27T09:33:34.234Z"
   },
   {
    "duration": 22,
    "start_time": "2022-07-27T09:33:34.278Z"
   },
   {
    "duration": 24,
    "start_time": "2022-07-27T09:33:34.301Z"
   },
   {
    "duration": 341,
    "start_time": "2022-07-27T09:33:34.327Z"
   },
   {
    "duration": 669,
    "start_time": "2022-07-27T09:33:34.670Z"
   },
   {
    "duration": 38,
    "start_time": "2022-07-27T09:33:35.341Z"
   },
   {
    "duration": 66,
    "start_time": "2022-07-27T09:33:35.381Z"
   },
   {
    "duration": 17,
    "start_time": "2022-07-27T09:33:35.448Z"
   },
   {
    "duration": 68,
    "start_time": "2022-07-27T09:33:35.467Z"
   },
   {
    "duration": 388,
    "start_time": "2022-07-27T09:33:35.537Z"
   },
   {
    "duration": 17,
    "start_time": "2022-07-27T09:33:35.927Z"
   },
   {
    "duration": 31,
    "start_time": "2022-07-27T09:33:35.946Z"
   },
   {
    "duration": 39,
    "start_time": "2022-07-27T09:33:35.979Z"
   },
   {
    "duration": 32,
    "start_time": "2022-07-27T09:33:36.020Z"
   },
   {
    "duration": 20,
    "start_time": "2022-07-27T09:33:36.054Z"
   },
   {
    "duration": 27,
    "start_time": "2022-07-27T09:33:36.076Z"
   },
   {
    "duration": 33,
    "start_time": "2022-07-27T09:33:36.105Z"
   },
   {
    "duration": 61,
    "start_time": "2022-07-27T09:33:36.140Z"
   },
   {
    "duration": 13,
    "start_time": "2022-07-27T09:33:36.203Z"
   },
   {
    "duration": 1248,
    "start_time": "2022-07-27T09:36:02.339Z"
   },
   {
    "duration": 275,
    "start_time": "2022-07-27T09:36:03.589Z"
   },
   {
    "duration": 13,
    "start_time": "2022-07-27T09:36:03.866Z"
   },
   {
    "duration": 11,
    "start_time": "2022-07-27T09:36:03.881Z"
   },
   {
    "duration": 20,
    "start_time": "2022-07-27T09:36:03.893Z"
   },
   {
    "duration": 32,
    "start_time": "2022-07-27T09:36:03.915Z"
   },
   {
    "duration": 9,
    "start_time": "2022-07-27T09:36:03.949Z"
   },
   {
    "duration": 18,
    "start_time": "2022-07-27T09:36:03.960Z"
   },
   {
    "duration": 17,
    "start_time": "2022-07-27T09:36:03.980Z"
   },
   {
    "duration": 17,
    "start_time": "2022-07-27T09:36:04.000Z"
   },
   {
    "duration": 43,
    "start_time": "2022-07-27T09:36:04.022Z"
   },
   {
    "duration": 106,
    "start_time": "2022-07-27T09:36:04.068Z"
   },
   {
    "duration": 115,
    "start_time": "2022-07-27T09:36:04.175Z"
   },
   {
    "duration": 46,
    "start_time": "2022-07-27T09:36:04.293Z"
   },
   {
    "duration": 24,
    "start_time": "2022-07-27T09:36:04.341Z"
   },
   {
    "duration": 130,
    "start_time": "2022-07-27T09:36:04.367Z"
   },
   {
    "duration": 27,
    "start_time": "2022-07-27T09:36:04.498Z"
   },
   {
    "duration": 58,
    "start_time": "2022-07-27T09:36:04.527Z"
   },
   {
    "duration": 43,
    "start_time": "2022-07-27T09:36:04.587Z"
   },
   {
    "duration": 14,
    "start_time": "2022-07-27T09:36:04.632Z"
   },
   {
    "duration": 24,
    "start_time": "2022-07-27T09:36:04.649Z"
   },
   {
    "duration": 30,
    "start_time": "2022-07-27T09:36:04.675Z"
   },
   {
    "duration": 694,
    "start_time": "2022-07-27T09:36:04.706Z"
   },
   {
    "duration": 45,
    "start_time": "2022-07-27T09:36:05.402Z"
   },
   {
    "duration": 19,
    "start_time": "2022-07-27T09:36:05.449Z"
   },
   {
    "duration": 25,
    "start_time": "2022-07-27T09:36:05.470Z"
   },
   {
    "duration": 33,
    "start_time": "2022-07-27T09:36:05.496Z"
   },
   {
    "duration": 37,
    "start_time": "2022-07-27T09:36:05.533Z"
   },
   {
    "duration": 50,
    "start_time": "2022-07-27T09:36:05.573Z"
   },
   {
    "duration": 19,
    "start_time": "2022-07-27T09:36:05.625Z"
   },
   {
    "duration": 22,
    "start_time": "2022-07-27T09:36:05.646Z"
   },
   {
    "duration": 13,
    "start_time": "2022-07-27T09:36:05.670Z"
   },
   {
    "duration": 40,
    "start_time": "2022-07-27T09:36:05.685Z"
   },
   {
    "duration": 20,
    "start_time": "2022-07-27T09:36:05.727Z"
   },
   {
    "duration": 384,
    "start_time": "2022-07-27T09:36:05.749Z"
   },
   {
    "duration": 6,
    "start_time": "2022-07-27T09:36:06.136Z"
   },
   {
    "duration": 248,
    "start_time": "2022-07-27T09:36:06.144Z"
   },
   {
    "duration": 234,
    "start_time": "2022-07-27T09:36:06.395Z"
   },
   {
    "duration": 1336,
    "start_time": "2022-07-27T09:36:06.630Z"
   },
   {
    "duration": 70,
    "start_time": "2022-07-27T09:36:07.968Z"
   },
   {
    "duration": 24,
    "start_time": "2022-07-27T09:36:08.040Z"
   },
   {
    "duration": 51,
    "start_time": "2022-07-27T09:36:08.066Z"
   },
   {
    "duration": 11,
    "start_time": "2022-07-27T09:36:08.119Z"
   },
   {
    "duration": 21,
    "start_time": "2022-07-27T09:36:08.132Z"
   },
   {
    "duration": 49,
    "start_time": "2022-07-27T09:36:08.154Z"
   },
   {
    "duration": 54,
    "start_time": "2022-07-27T09:36:08.205Z"
   },
   {
    "duration": 31,
    "start_time": "2022-07-27T09:36:08.261Z"
   },
   {
    "duration": 23,
    "start_time": "2022-07-27T09:36:08.294Z"
   },
   {
    "duration": 16,
    "start_time": "2022-07-27T09:36:08.319Z"
   },
   {
    "duration": 350,
    "start_time": "2022-07-27T09:36:08.337Z"
   },
   {
    "duration": 806,
    "start_time": "2022-07-27T09:36:08.689Z"
   },
   {
    "duration": 48,
    "start_time": "2022-07-27T09:36:09.497Z"
   },
   {
    "duration": 56,
    "start_time": "2022-07-27T09:36:09.547Z"
   },
   {
    "duration": 37,
    "start_time": "2022-07-27T09:36:09.604Z"
   },
   {
    "duration": 59,
    "start_time": "2022-07-27T09:36:09.643Z"
   },
   {
    "duration": 430,
    "start_time": "2022-07-27T09:36:09.704Z"
   },
   {
    "duration": 7,
    "start_time": "2022-07-27T09:36:10.136Z"
   },
   {
    "duration": 27,
    "start_time": "2022-07-27T09:36:10.145Z"
   },
   {
    "duration": 22,
    "start_time": "2022-07-27T09:36:10.174Z"
   },
   {
    "duration": 20,
    "start_time": "2022-07-27T09:36:10.198Z"
   },
   {
    "duration": 30,
    "start_time": "2022-07-27T09:36:10.220Z"
   },
   {
    "duration": 15,
    "start_time": "2022-07-27T09:36:10.251Z"
   },
   {
    "duration": 31,
    "start_time": "2022-07-27T09:36:10.269Z"
   },
   {
    "duration": 20,
    "start_time": "2022-07-27T09:36:10.302Z"
   },
   {
    "duration": 9,
    "start_time": "2022-07-27T09:36:10.324Z"
   },
   {
    "duration": 5,
    "start_time": "2022-07-27T11:42:35.308Z"
   },
   {
    "duration": 4,
    "start_time": "2022-07-27T11:43:27.677Z"
   },
   {
    "duration": 10,
    "start_time": "2022-07-27T11:55:46.255Z"
   },
   {
    "duration": 9,
    "start_time": "2022-07-27T11:56:00.554Z"
   },
   {
    "duration": 952,
    "start_time": "2022-07-27T11:56:52.587Z"
   },
   {
    "duration": 13,
    "start_time": "2022-07-27T11:57:04.565Z"
   },
   {
    "duration": 284,
    "start_time": "2022-07-27T11:57:04.583Z"
   },
   {
    "duration": 8,
    "start_time": "2022-07-27T11:57:04.869Z"
   },
   {
    "duration": 21,
    "start_time": "2022-07-27T11:57:04.879Z"
   },
   {
    "duration": 14,
    "start_time": "2022-07-27T11:57:04.902Z"
   },
   {
    "duration": 27,
    "start_time": "2022-07-27T11:57:04.918Z"
   },
   {
    "duration": 12,
    "start_time": "2022-07-27T11:57:04.947Z"
   },
   {
    "duration": 14,
    "start_time": "2022-07-27T11:57:04.961Z"
   },
   {
    "duration": 12,
    "start_time": "2022-07-27T11:57:04.977Z"
   },
   {
    "duration": 13,
    "start_time": "2022-07-27T11:57:04.990Z"
   },
   {
    "duration": 29,
    "start_time": "2022-07-27T11:57:05.005Z"
   },
   {
    "duration": 377,
    "start_time": "2022-07-27T12:15:53.468Z"
   },
   {
    "duration": 352,
    "start_time": "2022-07-27T12:16:23.831Z"
   },
   {
    "duration": 18,
    "start_time": "2022-07-27T12:17:13.358Z"
   },
   {
    "duration": 308,
    "start_time": "2022-07-27T12:17:13.378Z"
   },
   {
    "duration": 9,
    "start_time": "2022-07-27T12:17:13.688Z"
   },
   {
    "duration": 7,
    "start_time": "2022-07-27T12:17:13.699Z"
   },
   {
    "duration": 26,
    "start_time": "2022-07-27T12:17:13.707Z"
   },
   {
    "duration": 18,
    "start_time": "2022-07-27T12:17:13.735Z"
   },
   {
    "duration": 14,
    "start_time": "2022-07-27T12:17:13.755Z"
   },
   {
    "duration": 19,
    "start_time": "2022-07-27T12:17:13.771Z"
   },
   {
    "duration": 11,
    "start_time": "2022-07-27T12:17:13.793Z"
   },
   {
    "duration": 92,
    "start_time": "2022-07-27T12:17:13.805Z"
   },
   {
    "duration": 47,
    "start_time": "2022-07-27T12:17:13.899Z"
   },
   {
    "duration": 83,
    "start_time": "2022-07-27T12:17:13.948Z"
   },
   {
    "duration": 75,
    "start_time": "2022-07-27T12:17:14.033Z"
   },
   {
    "duration": 27,
    "start_time": "2022-07-27T12:17:14.123Z"
   },
   {
    "duration": 21,
    "start_time": "2022-07-27T12:17:14.152Z"
   },
   {
    "duration": 116,
    "start_time": "2022-07-27T12:17:14.175Z"
   },
   {
    "duration": 30,
    "start_time": "2022-07-27T12:17:14.293Z"
   },
   {
    "duration": 45,
    "start_time": "2022-07-27T12:17:14.325Z"
   },
   {
    "duration": 18,
    "start_time": "2022-07-27T12:17:14.372Z"
   },
   {
    "duration": 36,
    "start_time": "2022-07-27T12:17:14.392Z"
   },
   {
    "duration": 10,
    "start_time": "2022-07-27T12:17:14.430Z"
   },
   {
    "duration": 21,
    "start_time": "2022-07-27T12:17:14.442Z"
   },
   {
    "duration": 604,
    "start_time": "2022-07-27T12:17:14.465Z"
   },
   {
    "duration": 33,
    "start_time": "2022-07-27T12:17:15.073Z"
   },
   {
    "duration": 28,
    "start_time": "2022-07-27T12:17:15.108Z"
   },
   {
    "duration": 22,
    "start_time": "2022-07-27T12:17:15.138Z"
   },
   {
    "duration": 16,
    "start_time": "2022-07-27T12:17:15.163Z"
   },
   {
    "duration": 67,
    "start_time": "2022-07-27T12:17:15.181Z"
   },
   {
    "duration": 32,
    "start_time": "2022-07-27T12:17:15.251Z"
   },
   {
    "duration": 40,
    "start_time": "2022-07-27T12:17:15.285Z"
   },
   {
    "duration": 17,
    "start_time": "2022-07-27T12:17:15.326Z"
   },
   {
    "duration": 13,
    "start_time": "2022-07-27T12:17:15.345Z"
   },
   {
    "duration": 16,
    "start_time": "2022-07-27T12:17:15.360Z"
   },
   {
    "duration": 54,
    "start_time": "2022-07-27T12:17:15.377Z"
   },
   {
    "duration": 342,
    "start_time": "2022-07-27T12:17:15.433Z"
   },
   {
    "duration": 7,
    "start_time": "2022-07-27T12:17:15.777Z"
   },
   {
    "duration": 298,
    "start_time": "2022-07-27T12:17:15.786Z"
   },
   {
    "duration": 223,
    "start_time": "2022-07-27T12:17:16.086Z"
   },
   {
    "duration": 1301,
    "start_time": "2022-07-27T12:17:16.311Z"
   },
   {
    "duration": 55,
    "start_time": "2022-07-27T12:17:17.614Z"
   },
   {
    "duration": 21,
    "start_time": "2022-07-27T12:17:17.670Z"
   },
   {
    "duration": 35,
    "start_time": "2022-07-27T12:17:17.693Z"
   },
   {
    "duration": 10,
    "start_time": "2022-07-27T12:17:17.729Z"
   },
   {
    "duration": 15,
    "start_time": "2022-07-27T12:17:17.741Z"
   },
   {
    "duration": 24,
    "start_time": "2022-07-27T12:17:17.758Z"
   },
   {
    "duration": 14,
    "start_time": "2022-07-27T12:17:17.783Z"
   },
   {
    "duration": 44,
    "start_time": "2022-07-27T12:17:17.799Z"
   },
   {
    "duration": 14,
    "start_time": "2022-07-27T12:17:17.845Z"
   },
   {
    "duration": 20,
    "start_time": "2022-07-27T12:17:17.861Z"
   },
   {
    "duration": 355,
    "start_time": "2022-07-27T12:17:17.883Z"
   },
   {
    "duration": 708,
    "start_time": "2022-07-27T12:17:18.240Z"
   },
   {
    "duration": 50,
    "start_time": "2022-07-27T12:17:18.950Z"
   },
   {
    "duration": 69,
    "start_time": "2022-07-27T12:17:19.002Z"
   },
   {
    "duration": 27,
    "start_time": "2022-07-27T12:17:19.073Z"
   },
   {
    "duration": 80,
    "start_time": "2022-07-27T12:17:19.102Z"
   },
   {
    "duration": 376,
    "start_time": "2022-07-27T12:17:19.184Z"
   },
   {
    "duration": 7,
    "start_time": "2022-07-27T12:17:19.562Z"
   },
   {
    "duration": 11,
    "start_time": "2022-07-27T12:17:19.571Z"
   },
   {
    "duration": 8,
    "start_time": "2022-07-27T12:17:19.583Z"
   },
   {
    "duration": 8,
    "start_time": "2022-07-27T12:17:19.592Z"
   },
   {
    "duration": 24,
    "start_time": "2022-07-27T12:17:19.602Z"
   },
   {
    "duration": 11,
    "start_time": "2022-07-27T12:17:19.628Z"
   },
   {
    "duration": 14,
    "start_time": "2022-07-27T12:17:19.641Z"
   },
   {
    "duration": 21,
    "start_time": "2022-07-27T12:17:19.657Z"
   },
   {
    "duration": 43,
    "start_time": "2022-07-27T12:17:19.680Z"
   },
   {
    "duration": 393,
    "start_time": "2022-07-27T12:17:19.725Z"
   },
   {
    "duration": 512,
    "start_time": "2022-07-27T12:17:48.194Z"
   },
   {
    "duration": 441,
    "start_time": "2022-07-27T12:17:55.052Z"
   },
   {
    "duration": 1256,
    "start_time": "2022-07-27T12:34:14.424Z"
   },
   {
    "duration": 278,
    "start_time": "2022-07-27T12:34:15.683Z"
   },
   {
    "duration": 14,
    "start_time": "2022-07-27T12:34:15.964Z"
   },
   {
    "duration": 8,
    "start_time": "2022-07-27T12:34:15.980Z"
   },
   {
    "duration": 21,
    "start_time": "2022-07-27T12:34:15.990Z"
   },
   {
    "duration": 25,
    "start_time": "2022-07-27T12:34:16.013Z"
   },
   {
    "duration": 11,
    "start_time": "2022-07-27T12:34:16.040Z"
   },
   {
    "duration": 38,
    "start_time": "2022-07-27T12:34:16.054Z"
   },
   {
    "duration": 21,
    "start_time": "2022-07-27T12:34:16.094Z"
   },
   {
    "duration": 29,
    "start_time": "2022-07-27T12:34:16.117Z"
   },
   {
    "duration": 53,
    "start_time": "2022-07-27T12:34:16.148Z"
   },
   {
    "duration": 94,
    "start_time": "2022-07-27T12:34:16.203Z"
   },
   {
    "duration": 108,
    "start_time": "2022-07-27T12:34:16.299Z"
   },
   {
    "duration": 43,
    "start_time": "2022-07-27T12:34:16.410Z"
   },
   {
    "duration": 25,
    "start_time": "2022-07-27T12:34:16.455Z"
   },
   {
    "duration": 119,
    "start_time": "2022-07-27T12:34:16.483Z"
   },
   {
    "duration": 27,
    "start_time": "2022-07-27T12:34:16.604Z"
   },
   {
    "duration": 53,
    "start_time": "2022-07-27T12:34:16.633Z"
   },
   {
    "duration": 42,
    "start_time": "2022-07-27T12:34:16.688Z"
   },
   {
    "duration": 15,
    "start_time": "2022-07-27T12:34:16.731Z"
   },
   {
    "duration": 11,
    "start_time": "2022-07-27T12:34:16.748Z"
   },
   {
    "duration": 39,
    "start_time": "2022-07-27T12:34:16.761Z"
   },
   {
    "duration": 685,
    "start_time": "2022-07-27T12:34:16.802Z"
   },
   {
    "duration": 41,
    "start_time": "2022-07-27T12:34:17.488Z"
   },
   {
    "duration": 19,
    "start_time": "2022-07-27T12:34:17.530Z"
   },
   {
    "duration": 23,
    "start_time": "2022-07-27T12:34:17.551Z"
   },
   {
    "duration": 12,
    "start_time": "2022-07-27T12:34:17.576Z"
   },
   {
    "duration": 65,
    "start_time": "2022-07-27T12:34:17.590Z"
   },
   {
    "duration": 29,
    "start_time": "2022-07-27T12:34:17.657Z"
   },
   {
    "duration": 18,
    "start_time": "2022-07-27T12:34:17.687Z"
   },
   {
    "duration": 17,
    "start_time": "2022-07-27T12:34:17.722Z"
   },
   {
    "duration": 13,
    "start_time": "2022-07-27T12:34:17.741Z"
   },
   {
    "duration": 18,
    "start_time": "2022-07-27T12:34:17.756Z"
   },
   {
    "duration": 17,
    "start_time": "2022-07-27T12:34:17.776Z"
   },
   {
    "duration": 353,
    "start_time": "2022-07-27T12:34:17.823Z"
   },
   {
    "duration": 6,
    "start_time": "2022-07-27T12:34:18.177Z"
   },
   {
    "duration": 230,
    "start_time": "2022-07-27T12:34:18.185Z"
   },
   {
    "duration": 227,
    "start_time": "2022-07-27T12:34:18.417Z"
   },
   {
    "duration": 1365,
    "start_time": "2022-07-27T12:34:18.645Z"
   },
   {
    "duration": 61,
    "start_time": "2022-07-27T12:34:20.012Z"
   },
   {
    "duration": 21,
    "start_time": "2022-07-27T12:34:20.077Z"
   },
   {
    "duration": 38,
    "start_time": "2022-07-27T12:34:20.099Z"
   },
   {
    "duration": 11,
    "start_time": "2022-07-27T12:34:20.138Z"
   },
   {
    "duration": 18,
    "start_time": "2022-07-27T12:34:20.150Z"
   },
   {
    "duration": 21,
    "start_time": "2022-07-27T12:34:20.170Z"
   },
   {
    "duration": 40,
    "start_time": "2022-07-27T12:34:20.193Z"
   },
   {
    "duration": 30,
    "start_time": "2022-07-27T12:34:20.235Z"
   },
   {
    "duration": 15,
    "start_time": "2022-07-27T12:34:20.267Z"
   },
   {
    "duration": 14,
    "start_time": "2022-07-27T12:34:20.284Z"
   },
   {
    "duration": 324,
    "start_time": "2022-07-27T12:34:20.299Z"
   },
   {
    "duration": 672,
    "start_time": "2022-07-27T12:34:20.625Z"
   },
   {
    "duration": 44,
    "start_time": "2022-07-27T12:34:21.298Z"
   },
   {
    "duration": 47,
    "start_time": "2022-07-27T12:34:21.344Z"
   },
   {
    "duration": 33,
    "start_time": "2022-07-27T12:34:21.392Z"
   },
   {
    "duration": 49,
    "start_time": "2022-07-27T12:34:21.427Z"
   },
   {
    "duration": 383,
    "start_time": "2022-07-27T12:34:21.478Z"
   },
   {
    "duration": 7,
    "start_time": "2022-07-27T12:34:21.863Z"
   },
   {
    "duration": 7,
    "start_time": "2022-07-27T12:34:21.871Z"
   },
   {
    "duration": 6,
    "start_time": "2022-07-27T12:34:21.880Z"
   },
   {
    "duration": 11,
    "start_time": "2022-07-27T12:34:21.888Z"
   },
   {
    "duration": 6,
    "start_time": "2022-07-27T12:34:21.901Z"
   },
   {
    "duration": 17,
    "start_time": "2022-07-27T12:34:21.909Z"
   },
   {
    "duration": 7,
    "start_time": "2022-07-27T12:34:21.927Z"
   },
   {
    "duration": 20,
    "start_time": "2022-07-27T12:34:21.936Z"
   },
   {
    "duration": 18,
    "start_time": "2022-07-27T12:34:21.957Z"
   },
   {
    "duration": 472,
    "start_time": "2022-07-27T12:34:21.976Z"
   },
   {
    "duration": 9,
    "start_time": "2022-07-27T12:34:22.449Z"
   },
   {
    "duration": 1239,
    "start_time": "2022-07-30T11:39:14.675Z"
   },
   {
    "duration": 620,
    "start_time": "2022-07-30T11:39:15.916Z"
   },
   {
    "duration": 11,
    "start_time": "2022-07-30T11:39:16.538Z"
   },
   {
    "duration": 5,
    "start_time": "2022-07-30T11:39:16.551Z"
   },
   {
    "duration": 12,
    "start_time": "2022-07-30T11:39:16.558Z"
   },
   {
    "duration": 16,
    "start_time": "2022-07-30T11:39:16.572Z"
   },
   {
    "duration": 7,
    "start_time": "2022-07-30T11:39:16.589Z"
   },
   {
    "duration": 41,
    "start_time": "2022-07-30T11:39:16.597Z"
   },
   {
    "duration": 11,
    "start_time": "2022-07-30T11:39:16.640Z"
   },
   {
    "duration": 9,
    "start_time": "2022-07-30T11:39:16.655Z"
   },
   {
    "duration": 34,
    "start_time": "2022-07-30T11:39:16.665Z"
   },
   {
    "duration": 101,
    "start_time": "2022-07-30T11:39:16.701Z"
   },
   {
    "duration": 98,
    "start_time": "2022-07-30T11:39:16.804Z"
   },
   {
    "duration": 37,
    "start_time": "2022-07-30T11:39:16.904Z"
   },
   {
    "duration": 22,
    "start_time": "2022-07-30T11:39:16.943Z"
   },
   {
    "duration": 106,
    "start_time": "2022-07-30T11:39:16.966Z"
   },
   {
    "duration": 17,
    "start_time": "2022-07-30T11:39:17.074Z"
   },
   {
    "duration": 60,
    "start_time": "2022-07-30T11:39:17.093Z"
   },
   {
    "duration": 19,
    "start_time": "2022-07-30T11:39:17.155Z"
   },
   {
    "duration": 13,
    "start_time": "2022-07-30T11:39:17.176Z"
   },
   {
    "duration": 9,
    "start_time": "2022-07-30T11:39:17.191Z"
   },
   {
    "duration": 43,
    "start_time": "2022-07-30T11:39:17.201Z"
   },
   {
    "duration": 575,
    "start_time": "2022-07-30T11:39:17.246Z"
   },
   {
    "duration": 36,
    "start_time": "2022-07-30T11:39:17.823Z"
   },
   {
    "duration": 16,
    "start_time": "2022-07-30T11:39:17.860Z"
   },
   {
    "duration": 24,
    "start_time": "2022-07-30T11:39:17.878Z"
   },
   {
    "duration": 15,
    "start_time": "2022-07-30T11:39:17.903Z"
   },
   {
    "duration": 31,
    "start_time": "2022-07-30T11:39:17.939Z"
   },
   {
    "duration": 24,
    "start_time": "2022-07-30T11:39:17.972Z"
   },
   {
    "duration": 15,
    "start_time": "2022-07-30T11:39:17.998Z"
   },
   {
    "duration": 35,
    "start_time": "2022-07-30T11:39:18.014Z"
   },
   {
    "duration": 14,
    "start_time": "2022-07-30T11:39:18.050Z"
   },
   {
    "duration": 16,
    "start_time": "2022-07-30T11:39:18.065Z"
   },
   {
    "duration": 14,
    "start_time": "2022-07-30T11:39:18.083Z"
   },
   {
    "duration": 322,
    "start_time": "2022-07-30T11:39:18.099Z"
   },
   {
    "duration": 5,
    "start_time": "2022-07-30T11:39:18.423Z"
   },
   {
    "duration": 192,
    "start_time": "2022-07-30T11:39:18.437Z"
   },
   {
    "duration": 204,
    "start_time": "2022-07-30T11:39:18.636Z"
   },
   {
    "duration": 1155,
    "start_time": "2022-07-30T11:39:18.841Z"
   },
   {
    "duration": 52,
    "start_time": "2022-07-30T11:39:19.997Z"
   },
   {
    "duration": 18,
    "start_time": "2022-07-30T11:39:20.051Z"
   },
   {
    "duration": 20,
    "start_time": "2022-07-30T11:39:20.070Z"
   },
   {
    "duration": 17,
    "start_time": "2022-07-30T11:39:20.091Z"
   },
   {
    "duration": 26,
    "start_time": "2022-07-30T11:39:20.110Z"
   },
   {
    "duration": 19,
    "start_time": "2022-07-30T11:39:20.138Z"
   },
   {
    "duration": 29,
    "start_time": "2022-07-30T11:39:20.159Z"
   },
   {
    "duration": 31,
    "start_time": "2022-07-30T11:39:20.189Z"
   },
   {
    "duration": 16,
    "start_time": "2022-07-30T11:39:20.222Z"
   },
   {
    "duration": 14,
    "start_time": "2022-07-30T11:39:20.239Z"
   },
   {
    "duration": 286,
    "start_time": "2022-07-30T11:39:20.254Z"
   },
   {
    "duration": 614,
    "start_time": "2022-07-30T11:39:20.541Z"
   },
   {
    "duration": 31,
    "start_time": "2022-07-30T11:39:21.157Z"
   },
   {
    "duration": 52,
    "start_time": "2022-07-30T11:39:21.190Z"
   },
   {
    "duration": 15,
    "start_time": "2022-07-30T11:39:21.244Z"
   },
   {
    "duration": 44,
    "start_time": "2022-07-30T11:39:21.260Z"
   },
   {
    "duration": 362,
    "start_time": "2022-07-30T11:39:21.305Z"
   },
   {
    "duration": 6,
    "start_time": "2022-07-30T11:39:21.669Z"
   },
   {
    "duration": 20,
    "start_time": "2022-07-30T11:39:21.676Z"
   },
   {
    "duration": 15,
    "start_time": "2022-07-30T11:39:21.697Z"
   },
   {
    "duration": 13,
    "start_time": "2022-07-30T11:39:21.714Z"
   },
   {
    "duration": 19,
    "start_time": "2022-07-30T11:39:21.728Z"
   },
   {
    "duration": 15,
    "start_time": "2022-07-30T11:39:21.748Z"
   },
   {
    "duration": 27,
    "start_time": "2022-07-30T11:39:21.764Z"
   },
   {
    "duration": 34,
    "start_time": "2022-07-30T11:39:21.793Z"
   },
   {
    "duration": 25,
    "start_time": "2022-07-30T11:39:21.829Z"
   },
   {
    "duration": 411,
    "start_time": "2022-07-30T11:39:21.856Z"
   },
   {
    "duration": 11,
    "start_time": "2022-07-30T11:39:22.270Z"
   },
   {
    "duration": 11,
    "start_time": "2022-07-30T11:54:34.443Z"
   },
   {
    "duration": 262,
    "start_time": "2022-07-30T11:54:34.455Z"
   },
   {
    "duration": 9,
    "start_time": "2022-07-30T11:54:34.719Z"
   },
   {
    "duration": 5,
    "start_time": "2022-07-30T11:54:34.736Z"
   },
   {
    "duration": 14,
    "start_time": "2022-07-30T11:54:34.743Z"
   },
   {
    "duration": 19,
    "start_time": "2022-07-30T11:54:34.759Z"
   },
   {
    "duration": 16,
    "start_time": "2022-07-30T11:54:34.780Z"
   },
   {
    "duration": 17,
    "start_time": "2022-07-30T11:54:34.797Z"
   },
   {
    "duration": 29,
    "start_time": "2022-07-30T11:54:34.816Z"
   },
   {
    "duration": 12,
    "start_time": "2022-07-30T11:54:34.848Z"
   },
   {
    "duration": 35,
    "start_time": "2022-07-30T11:54:34.862Z"
   },
   {
    "duration": 88,
    "start_time": "2022-07-30T11:54:34.900Z"
   },
   {
    "duration": 89,
    "start_time": "2022-07-30T11:54:34.990Z"
   },
   {
    "duration": 26,
    "start_time": "2022-07-30T11:54:35.081Z"
   },
   {
    "duration": 40,
    "start_time": "2022-07-30T11:54:35.110Z"
   },
   {
    "duration": 179,
    "start_time": "2022-07-30T11:54:35.152Z"
   },
   {
    "duration": 21,
    "start_time": "2022-07-30T11:54:35.333Z"
   },
   {
    "duration": 45,
    "start_time": "2022-07-30T11:54:35.356Z"
   },
   {
    "duration": 37,
    "start_time": "2022-07-30T11:54:35.403Z"
   },
   {
    "duration": 17,
    "start_time": "2022-07-30T11:54:35.442Z"
   },
   {
    "duration": 16,
    "start_time": "2022-07-30T11:54:35.460Z"
   },
   {
    "duration": 30,
    "start_time": "2022-07-30T11:54:35.478Z"
   },
   {
    "duration": 554,
    "start_time": "2022-07-30T11:54:35.510Z"
   },
   {
    "duration": 31,
    "start_time": "2022-07-30T11:54:36.065Z"
   },
   {
    "duration": 16,
    "start_time": "2022-07-30T11:54:36.098Z"
   },
   {
    "duration": 39,
    "start_time": "2022-07-30T11:54:36.116Z"
   },
   {
    "duration": 11,
    "start_time": "2022-07-30T11:54:36.157Z"
   },
   {
    "duration": 32,
    "start_time": "2022-07-30T11:54:36.172Z"
   },
   {
    "duration": 45,
    "start_time": "2022-07-30T11:54:36.206Z"
   },
   {
    "duration": 16,
    "start_time": "2022-07-30T11:54:36.252Z"
   },
   {
    "duration": 15,
    "start_time": "2022-07-30T11:54:36.270Z"
   },
   {
    "duration": 12,
    "start_time": "2022-07-30T11:54:36.286Z"
   },
   {
    "duration": 45,
    "start_time": "2022-07-30T11:54:36.300Z"
   },
   {
    "duration": 16,
    "start_time": "2022-07-30T11:54:36.347Z"
   },
   {
    "duration": 301,
    "start_time": "2022-07-30T11:54:36.364Z"
   },
   {
    "duration": 6,
    "start_time": "2022-07-30T11:54:36.666Z"
   },
   {
    "duration": 207,
    "start_time": "2022-07-30T11:54:36.673Z"
   },
   {
    "duration": 262,
    "start_time": "2022-07-30T11:54:36.882Z"
   },
   {
    "duration": 1148,
    "start_time": "2022-07-30T11:54:37.146Z"
   },
   {
    "duration": 58,
    "start_time": "2022-07-30T11:54:38.296Z"
   },
   {
    "duration": 21,
    "start_time": "2022-07-30T11:54:38.356Z"
   },
   {
    "duration": 14,
    "start_time": "2022-07-30T11:54:38.379Z"
   },
   {
    "duration": 8,
    "start_time": "2022-07-30T11:54:38.395Z"
   },
   {
    "duration": 37,
    "start_time": "2022-07-30T11:54:38.405Z"
   },
   {
    "duration": 18,
    "start_time": "2022-07-30T11:54:38.444Z"
   },
   {
    "duration": 13,
    "start_time": "2022-07-30T11:54:38.464Z"
   },
   {
    "duration": 20,
    "start_time": "2022-07-30T11:54:38.479Z"
   },
   {
    "duration": 13,
    "start_time": "2022-07-30T11:54:38.500Z"
   },
   {
    "duration": 33,
    "start_time": "2022-07-30T11:54:38.515Z"
   },
   {
    "duration": 310,
    "start_time": "2022-07-30T11:54:38.549Z"
   },
   {
    "duration": 696,
    "start_time": "2022-07-30T11:54:38.861Z"
   },
   {
    "duration": 33,
    "start_time": "2022-07-30T11:54:39.559Z"
   },
   {
    "duration": 56,
    "start_time": "2022-07-30T11:54:39.594Z"
   },
   {
    "duration": 15,
    "start_time": "2022-07-30T11:54:39.651Z"
   },
   {
    "duration": 44,
    "start_time": "2022-07-30T11:54:39.668Z"
   },
   {
    "duration": 349,
    "start_time": "2022-07-30T11:54:39.714Z"
   },
   {
    "duration": 7,
    "start_time": "2022-07-30T11:54:40.065Z"
   },
   {
    "duration": 13,
    "start_time": "2022-07-30T11:54:40.073Z"
   },
   {
    "duration": 8,
    "start_time": "2022-07-30T11:54:40.087Z"
   },
   {
    "duration": 5,
    "start_time": "2022-07-30T11:54:40.096Z"
   },
   {
    "duration": 6,
    "start_time": "2022-07-30T11:54:40.102Z"
   },
   {
    "duration": 27,
    "start_time": "2022-07-30T11:54:40.109Z"
   },
   {
    "duration": 8,
    "start_time": "2022-07-30T11:54:40.139Z"
   },
   {
    "duration": 23,
    "start_time": "2022-07-30T11:54:40.148Z"
   },
   {
    "duration": 50,
    "start_time": "2022-08-04T05:41:08.957Z"
   },
   {
    "duration": 1470,
    "start_time": "2022-08-04T05:41:21.057Z"
   },
   {
    "duration": 899,
    "start_time": "2022-08-04T05:41:22.530Z"
   },
   {
    "duration": 13,
    "start_time": "2022-08-04T05:41:23.431Z"
   },
   {
    "duration": 6,
    "start_time": "2022-08-04T05:41:23.445Z"
   },
   {
    "duration": 29,
    "start_time": "2022-08-04T05:41:23.453Z"
   },
   {
    "duration": 22,
    "start_time": "2022-08-04T05:41:23.484Z"
   },
   {
    "duration": 7,
    "start_time": "2022-08-04T05:41:23.508Z"
   },
   {
    "duration": 15,
    "start_time": "2022-08-04T05:41:23.517Z"
   },
   {
    "duration": 11,
    "start_time": "2022-08-04T05:41:23.534Z"
   },
   {
    "duration": 28,
    "start_time": "2022-08-04T05:41:23.547Z"
   },
   {
    "duration": 56,
    "start_time": "2022-08-04T05:41:23.577Z"
   },
   {
    "duration": 103,
    "start_time": "2022-08-04T05:41:23.635Z"
   },
   {
    "duration": 139,
    "start_time": "2022-08-04T05:41:23.740Z"
   },
   {
    "duration": 29,
    "start_time": "2022-08-04T05:41:23.882Z"
   },
   {
    "duration": 23,
    "start_time": "2022-08-04T05:41:23.913Z"
   },
   {
    "duration": 136,
    "start_time": "2022-08-04T05:41:23.938Z"
   },
   {
    "duration": 21,
    "start_time": "2022-08-04T05:41:24.076Z"
   },
   {
    "duration": 12,
    "start_time": "2022-08-04T05:41:24.099Z"
   },
   {
    "duration": 26,
    "start_time": "2022-08-04T05:41:38.351Z"
   }
  ],
  "kernelspec": {
   "display_name": "Python 3 (ipykernel)",
   "language": "python",
   "name": "python3"
  },
  "language_info": {
   "codemirror_mode": {
    "name": "ipython",
    "version": 3
   },
   "file_extension": ".py",
   "mimetype": "text/x-python",
   "name": "python",
   "nbconvert_exporter": "python",
   "pygments_lexer": "ipython3",
   "version": "3.9.7"
  },
  "toc": {
   "base_numbering": 1,
   "nav_menu": {
    "height": "403.683px",
    "width": "1009.28px"
   },
   "number_sections": true,
   "sideBar": true,
   "skip_h1_title": true,
   "title_cell": "Table of Contents",
   "title_sidebar": "Contents",
   "toc_cell": false,
   "toc_position": {},
   "toc_section_display": true,
   "toc_window_display": false
  }
 },
 "nbformat": 4,
 "nbformat_minor": 2
}
