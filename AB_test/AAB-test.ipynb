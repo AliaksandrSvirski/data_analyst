{
 "cells": [
  {
   "cell_type": "markdown",
   "metadata": {},
   "source": [
    "# Анализ результатов A/A/B-теста."
   ]
  },
  {
   "cell_type": "markdown",
   "metadata": {},
   "source": [
    "### Введение."
   ]
  },
  {
   "cell_type": "markdown",
   "metadata": {},
   "source": [
    "Цель: изучить целесообразность замены шрифтов в приложении. \n",
    "\n",
    "Задачи:\n",
    "\n",
    "- исследовать воронку продаж;\n",
    "- проанализировать результаты А/А/В-теста\n",
    "\n",
    "В нашем распоряжении есть файл с результатами А/А/В-теста. "
   ]
  },
  {
   "cell_type": "code",
   "execution_count": 3,
   "metadata": {},
   "outputs": [],
   "source": [
    "import pandas as pd\n",
    "import matplotlib.pyplot as plt\n",
    "import seaborn as sns\n",
    "import numpy as np\n",
    "from scipy import stats as st\n",
    "import math as mth"
   ]
  },
  {
   "cell_type": "markdown",
   "metadata": {},
   "source": [
    "### Откроем файл c данными и изучим общую информацию о таблице. "
   ]
  },
  {
   "cell_type": "code",
   "execution_count": 4,
   "metadata": {},
   "outputs": [],
   "source": [
    "df = pd.read_csv('logs_exp.csv', sep='\\t')"
   ]
  },
  {
   "cell_type": "code",
   "execution_count": 5,
   "metadata": {
    "scrolled": false
   },
   "outputs": [
    {
     "data": {
      "text/html": [
       "<div>\n",
       "<style scoped>\n",
       "    .dataframe tbody tr th:only-of-type {\n",
       "        vertical-align: middle;\n",
       "    }\n",
       "\n",
       "    .dataframe tbody tr th {\n",
       "        vertical-align: top;\n",
       "    }\n",
       "\n",
       "    .dataframe thead th {\n",
       "        text-align: right;\n",
       "    }\n",
       "</style>\n",
       "<table border=\"1\" class=\"dataframe\">\n",
       "  <thead>\n",
       "    <tr style=\"text-align: right;\">\n",
       "      <th></th>\n",
       "      <th>EventName</th>\n",
       "      <th>DeviceIDHash</th>\n",
       "      <th>EventTimestamp</th>\n",
       "      <th>ExpId</th>\n",
       "    </tr>\n",
       "  </thead>\n",
       "  <tbody>\n",
       "    <tr>\n",
       "      <th>0</th>\n",
       "      <td>MainScreenAppear</td>\n",
       "      <td>4575588528974610257</td>\n",
       "      <td>1564029816</td>\n",
       "      <td>246</td>\n",
       "    </tr>\n",
       "    <tr>\n",
       "      <th>1</th>\n",
       "      <td>MainScreenAppear</td>\n",
       "      <td>7416695313311560658</td>\n",
       "      <td>1564053102</td>\n",
       "      <td>246</td>\n",
       "    </tr>\n",
       "    <tr>\n",
       "      <th>2</th>\n",
       "      <td>PaymentScreenSuccessful</td>\n",
       "      <td>3518123091307005509</td>\n",
       "      <td>1564054127</td>\n",
       "      <td>248</td>\n",
       "    </tr>\n",
       "    <tr>\n",
       "      <th>3</th>\n",
       "      <td>CartScreenAppear</td>\n",
       "      <td>3518123091307005509</td>\n",
       "      <td>1564054127</td>\n",
       "      <td>248</td>\n",
       "    </tr>\n",
       "    <tr>\n",
       "      <th>4</th>\n",
       "      <td>PaymentScreenSuccessful</td>\n",
       "      <td>6217807653094995999</td>\n",
       "      <td>1564055322</td>\n",
       "      <td>248</td>\n",
       "    </tr>\n",
       "    <tr>\n",
       "      <th>...</th>\n",
       "      <td>...</td>\n",
       "      <td>...</td>\n",
       "      <td>...</td>\n",
       "      <td>...</td>\n",
       "    </tr>\n",
       "    <tr>\n",
       "      <th>244121</th>\n",
       "      <td>MainScreenAppear</td>\n",
       "      <td>4599628364049201812</td>\n",
       "      <td>1565212345</td>\n",
       "      <td>247</td>\n",
       "    </tr>\n",
       "    <tr>\n",
       "      <th>244122</th>\n",
       "      <td>MainScreenAppear</td>\n",
       "      <td>5849806612437486590</td>\n",
       "      <td>1565212439</td>\n",
       "      <td>246</td>\n",
       "    </tr>\n",
       "    <tr>\n",
       "      <th>244123</th>\n",
       "      <td>MainScreenAppear</td>\n",
       "      <td>5746969938801999050</td>\n",
       "      <td>1565212483</td>\n",
       "      <td>246</td>\n",
       "    </tr>\n",
       "    <tr>\n",
       "      <th>244124</th>\n",
       "      <td>MainScreenAppear</td>\n",
       "      <td>5746969938801999050</td>\n",
       "      <td>1565212498</td>\n",
       "      <td>246</td>\n",
       "    </tr>\n",
       "    <tr>\n",
       "      <th>244125</th>\n",
       "      <td>OffersScreenAppear</td>\n",
       "      <td>5746969938801999050</td>\n",
       "      <td>1565212517</td>\n",
       "      <td>246</td>\n",
       "    </tr>\n",
       "  </tbody>\n",
       "</table>\n",
       "<p>244126 rows × 4 columns</p>\n",
       "</div>"
      ],
      "text/plain": [
       "                      EventName         DeviceIDHash  EventTimestamp  ExpId\n",
       "0              MainScreenAppear  4575588528974610257      1564029816    246\n",
       "1              MainScreenAppear  7416695313311560658      1564053102    246\n",
       "2       PaymentScreenSuccessful  3518123091307005509      1564054127    248\n",
       "3              CartScreenAppear  3518123091307005509      1564054127    248\n",
       "4       PaymentScreenSuccessful  6217807653094995999      1564055322    248\n",
       "...                         ...                  ...             ...    ...\n",
       "244121         MainScreenAppear  4599628364049201812      1565212345    247\n",
       "244122         MainScreenAppear  5849806612437486590      1565212439    246\n",
       "244123         MainScreenAppear  5746969938801999050      1565212483    246\n",
       "244124         MainScreenAppear  5746969938801999050      1565212498    246\n",
       "244125       OffersScreenAppear  5746969938801999050      1565212517    246\n",
       "\n",
       "[244126 rows x 4 columns]"
      ]
     },
     "execution_count": 5,
     "metadata": {},
     "output_type": "execute_result"
    }
   ],
   "source": [
    "df"
   ]
  },
  {
   "cell_type": "code",
   "execution_count": 4,
   "metadata": {},
   "outputs": [
    {
     "name": "stdout",
     "output_type": "stream",
     "text": [
      "<class 'pandas.core.frame.DataFrame'>\n",
      "RangeIndex: 244126 entries, 0 to 244125\n",
      "Data columns (total 4 columns):\n",
      " #   Column          Non-Null Count   Dtype \n",
      "---  ------          --------------   ----- \n",
      " 0   EventName       244126 non-null  object\n",
      " 1   DeviceIDHash    244126 non-null  int64 \n",
      " 2   EventTimestamp  244126 non-null  int64 \n",
      " 3   ExpId           244126 non-null  int64 \n",
      "dtypes: int64(3), object(1)\n",
      "memory usage: 7.5+ MB\n"
     ]
    }
   ],
   "source": [
    "df.info()"
   ]
  },
  {
   "cell_type": "markdown",
   "metadata": {},
   "source": [
    "Таблица состоит из 244 126 строк и 4 столбцов: \n",
    "\n",
    "- EventName (идентификатор события);\n",
    "- DeviceIDHash (id устройства); \n",
    "- EventTimestamp (дата и время наступления события, записанные в формате timestamp); \n",
    "- ExpId (принадлежность к группе А/А/В-теста, где: 246 и 247 - группы А, т.е. контрольные, 248 - группа В, т.е. экспериментальная). "
   ]
  },
  {
   "cell_type": "markdown",
   "metadata": {},
   "source": [
    "Вывод: мы познакомились с таблицей, изучили общую информацию о данных; изменение форматов, в которых хранятся данные, не требуется. Преобразование данных в столбце 'EventTimestamp' в 'datetime' и 'date' выполним на следующем этапе работы. "
   ]
  },
  {
   "cell_type": "markdown",
   "metadata": {},
   "source": [
    "### Подготовка данных. "
   ]
  },
  {
   "cell_type": "markdown",
   "metadata": {},
   "source": [
    "Преобразуем данные в столбце 'EventTimestamp' в 'datetime', полученные значения запишем в отдельный столбец 'event_dt'. Из столбца 'event_dt' извлечем дату, запишем результат в столбец 'only_date'. "
   ]
  },
  {
   "cell_type": "code",
   "execution_count": 5,
   "metadata": {},
   "outputs": [
    {
     "data": {
      "text/html": [
       "<div>\n",
       "<style scoped>\n",
       "    .dataframe tbody tr th:only-of-type {\n",
       "        vertical-align: middle;\n",
       "    }\n",
       "\n",
       "    .dataframe tbody tr th {\n",
       "        vertical-align: top;\n",
       "    }\n",
       "\n",
       "    .dataframe thead th {\n",
       "        text-align: right;\n",
       "    }\n",
       "</style>\n",
       "<table border=\"1\" class=\"dataframe\">\n",
       "  <thead>\n",
       "    <tr style=\"text-align: right;\">\n",
       "      <th></th>\n",
       "      <th>EventName</th>\n",
       "      <th>DeviceIDHash</th>\n",
       "      <th>EventTimestamp</th>\n",
       "      <th>ExpId</th>\n",
       "      <th>event_dt</th>\n",
       "      <th>only_date</th>\n",
       "    </tr>\n",
       "  </thead>\n",
       "  <tbody>\n",
       "    <tr>\n",
       "      <th>0</th>\n",
       "      <td>MainScreenAppear</td>\n",
       "      <td>4575588528974610257</td>\n",
       "      <td>1564029816</td>\n",
       "      <td>246</td>\n",
       "      <td>2019-07-25 04:43:36</td>\n",
       "      <td>2019-07-25</td>\n",
       "    </tr>\n",
       "    <tr>\n",
       "      <th>1</th>\n",
       "      <td>MainScreenAppear</td>\n",
       "      <td>7416695313311560658</td>\n",
       "      <td>1564053102</td>\n",
       "      <td>246</td>\n",
       "      <td>2019-07-25 11:11:42</td>\n",
       "      <td>2019-07-25</td>\n",
       "    </tr>\n",
       "    <tr>\n",
       "      <th>2</th>\n",
       "      <td>PaymentScreenSuccessful</td>\n",
       "      <td>3518123091307005509</td>\n",
       "      <td>1564054127</td>\n",
       "      <td>248</td>\n",
       "      <td>2019-07-25 11:28:47</td>\n",
       "      <td>2019-07-25</td>\n",
       "    </tr>\n",
       "    <tr>\n",
       "      <th>3</th>\n",
       "      <td>CartScreenAppear</td>\n",
       "      <td>3518123091307005509</td>\n",
       "      <td>1564054127</td>\n",
       "      <td>248</td>\n",
       "      <td>2019-07-25 11:28:47</td>\n",
       "      <td>2019-07-25</td>\n",
       "    </tr>\n",
       "    <tr>\n",
       "      <th>4</th>\n",
       "      <td>PaymentScreenSuccessful</td>\n",
       "      <td>6217807653094995999</td>\n",
       "      <td>1564055322</td>\n",
       "      <td>248</td>\n",
       "      <td>2019-07-25 11:48:42</td>\n",
       "      <td>2019-07-25</td>\n",
       "    </tr>\n",
       "    <tr>\n",
       "      <th>...</th>\n",
       "      <td>...</td>\n",
       "      <td>...</td>\n",
       "      <td>...</td>\n",
       "      <td>...</td>\n",
       "      <td>...</td>\n",
       "      <td>...</td>\n",
       "    </tr>\n",
       "    <tr>\n",
       "      <th>244121</th>\n",
       "      <td>MainScreenAppear</td>\n",
       "      <td>4599628364049201812</td>\n",
       "      <td>1565212345</td>\n",
       "      <td>247</td>\n",
       "      <td>2019-08-07 21:12:25</td>\n",
       "      <td>2019-08-07</td>\n",
       "    </tr>\n",
       "    <tr>\n",
       "      <th>244122</th>\n",
       "      <td>MainScreenAppear</td>\n",
       "      <td>5849806612437486590</td>\n",
       "      <td>1565212439</td>\n",
       "      <td>246</td>\n",
       "      <td>2019-08-07 21:13:59</td>\n",
       "      <td>2019-08-07</td>\n",
       "    </tr>\n",
       "    <tr>\n",
       "      <th>244123</th>\n",
       "      <td>MainScreenAppear</td>\n",
       "      <td>5746969938801999050</td>\n",
       "      <td>1565212483</td>\n",
       "      <td>246</td>\n",
       "      <td>2019-08-07 21:14:43</td>\n",
       "      <td>2019-08-07</td>\n",
       "    </tr>\n",
       "    <tr>\n",
       "      <th>244124</th>\n",
       "      <td>MainScreenAppear</td>\n",
       "      <td>5746969938801999050</td>\n",
       "      <td>1565212498</td>\n",
       "      <td>246</td>\n",
       "      <td>2019-08-07 21:14:58</td>\n",
       "      <td>2019-08-07</td>\n",
       "    </tr>\n",
       "    <tr>\n",
       "      <th>244125</th>\n",
       "      <td>OffersScreenAppear</td>\n",
       "      <td>5746969938801999050</td>\n",
       "      <td>1565212517</td>\n",
       "      <td>246</td>\n",
       "      <td>2019-08-07 21:15:17</td>\n",
       "      <td>2019-08-07</td>\n",
       "    </tr>\n",
       "  </tbody>\n",
       "</table>\n",
       "<p>244126 rows × 6 columns</p>\n",
       "</div>"
      ],
      "text/plain": [
       "                      EventName         DeviceIDHash  EventTimestamp  ExpId  \\\n",
       "0              MainScreenAppear  4575588528974610257      1564029816    246   \n",
       "1              MainScreenAppear  7416695313311560658      1564053102    246   \n",
       "2       PaymentScreenSuccessful  3518123091307005509      1564054127    248   \n",
       "3              CartScreenAppear  3518123091307005509      1564054127    248   \n",
       "4       PaymentScreenSuccessful  6217807653094995999      1564055322    248   \n",
       "...                         ...                  ...             ...    ...   \n",
       "244121         MainScreenAppear  4599628364049201812      1565212345    247   \n",
       "244122         MainScreenAppear  5849806612437486590      1565212439    246   \n",
       "244123         MainScreenAppear  5746969938801999050      1565212483    246   \n",
       "244124         MainScreenAppear  5746969938801999050      1565212498    246   \n",
       "244125       OffersScreenAppear  5746969938801999050      1565212517    246   \n",
       "\n",
       "                  event_dt   only_date  \n",
       "0      2019-07-25 04:43:36  2019-07-25  \n",
       "1      2019-07-25 11:11:42  2019-07-25  \n",
       "2      2019-07-25 11:28:47  2019-07-25  \n",
       "3      2019-07-25 11:28:47  2019-07-25  \n",
       "4      2019-07-25 11:48:42  2019-07-25  \n",
       "...                    ...         ...  \n",
       "244121 2019-08-07 21:12:25  2019-08-07  \n",
       "244122 2019-08-07 21:13:59  2019-08-07  \n",
       "244123 2019-08-07 21:14:43  2019-08-07  \n",
       "244124 2019-08-07 21:14:58  2019-08-07  \n",
       "244125 2019-08-07 21:15:17  2019-08-07  \n",
       "\n",
       "[244126 rows x 6 columns]"
      ]
     },
     "execution_count": 5,
     "metadata": {},
     "output_type": "execute_result"
    }
   ],
   "source": [
    "df['event_dt'] = pd.to_datetime(df['EventTimestamp'], unit='s') # преобразуем данные в столбце 'EventTimestamp' (формат Timestamp) в формат datetime, полученные данные запишем в новый столбец 'event_dt'\n",
    "df['only_date'] = pd.to_datetime(df['event_dt']).dt.date # извлечем из столбца 'event_dt' только дату, запишем в новый в столбец 'only_date'\n",
    "df # выведем таблицу после преобразований на экран"
   ]
  },
  {
   "cell_type": "markdown",
   "metadata": {},
   "source": [
    "Удалим из таблицы столбец 'EventTimestamp'."
   ]
  },
  {
   "cell_type": "code",
   "execution_count": 47,
   "metadata": {},
   "outputs": [],
   "source": [
    "df = df.drop(columns = 'EventTimestamp') "
   ]
  },
  {
   "cell_type": "markdown",
   "metadata": {},
   "source": [
    "Переименуем названия столбцов в таблице. "
   ]
  },
  {
   "cell_type": "code",
   "execution_count": 48,
   "metadata": {},
   "outputs": [],
   "source": [
    "df.columns = ['event_name', 'user_id', 'group', 'date_time', 'date']"
   ]
  },
  {
   "cell_type": "markdown",
   "metadata": {},
   "source": [
    "Проверим таблицу на наличие пропусков. "
   ]
  },
  {
   "cell_type": "code",
   "execution_count": 49,
   "metadata": {},
   "outputs": [
    {
     "data": {
      "text/plain": [
       "event_name    0\n",
       "user_id       0\n",
       "group         0\n",
       "date_time     0\n",
       "date          0\n",
       "dtype: int64"
      ]
     },
     "execution_count": 49,
     "metadata": {},
     "output_type": "execute_result"
    }
   ],
   "source": [
    "df.isna().sum()"
   ]
  },
  {
   "cell_type": "markdown",
   "metadata": {},
   "source": [
    "Пропусков в таблице нет. "
   ]
  },
  {
   "cell_type": "markdown",
   "metadata": {},
   "source": [
    "Проверим таблицу на наличие явных дубликатов. "
   ]
  },
  {
   "cell_type": "code",
   "execution_count": 50,
   "metadata": {},
   "outputs": [
    {
     "data": {
      "text/plain": [
       "413"
      ]
     },
     "execution_count": 50,
     "metadata": {},
     "output_type": "execute_result"
    }
   ],
   "source": [
    "df.duplicated().sum()"
   ]
  },
  {
   "cell_type": "markdown",
   "metadata": {},
   "source": [
    "Наличие дубликатов говорит о том, что были случаи, когда один и тот же пользователь в одну секунду совершал несколько одинаковых действий (например, не получив подтверждения своего действия, сразу же повторял его). Удалим явные дубликаты из таблицы. "
   ]
  },
  {
   "cell_type": "code",
   "execution_count": 51,
   "metadata": {},
   "outputs": [
    {
     "name": "stdout",
     "output_type": "stream",
     "text": [
      "Число строк в таблице до удаления явных дубликатов: 244126\n"
     ]
    }
   ],
   "source": [
    "print('Число строк в таблице до удаления явных дубликатов:', df.shape[0])"
   ]
  },
  {
   "cell_type": "code",
   "execution_count": 52,
   "metadata": {},
   "outputs": [
    {
     "name": "stdout",
     "output_type": "stream",
     "text": [
      "Число строк в таблице после удаления явных дубликатов: 243713\n"
     ]
    }
   ],
   "source": [
    "df = df.drop_duplicates()\n",
    "print('Число строк в таблице после удаления явных дубликатов:', df.shape[0])"
   ]
  },
  {
   "cell_type": "code",
   "execution_count": 53,
   "metadata": {},
   "outputs": [
    {
     "data": {
      "text/plain": [
       "array(['MainScreenAppear', 'PaymentScreenSuccessful', 'CartScreenAppear',\n",
       "       'OffersScreenAppear', 'Tutorial'], dtype=object)"
      ]
     },
     "execution_count": 53,
     "metadata": {},
     "output_type": "execute_result"
    }
   ],
   "source": [
    "df['event_name'].unique()"
   ]
  },
  {
   "cell_type": "markdown",
   "metadata": {},
   "source": [
    "Преобразуем записи значений в столбце 'event_name'. "
   ]
  },
  {
   "cell_type": "code",
   "execution_count": 54,
   "metadata": {},
   "outputs": [],
   "source": [
    "df = df.replace({'event_name' : { 'MainScreenAppear' : 'catalog', 'OffersScreenAppear' : 'offer', 'CartScreenAppear' : 'basket', 'PaymentScreenSuccessful' : 'payment', 'Tutorial' : 'tutorial'}})"
   ]
  },
  {
   "cell_type": "markdown",
   "metadata": {},
   "source": [
    "Выведем на экран обработанную таблицу. "
   ]
  },
  {
   "cell_type": "code",
   "execution_count": 55,
   "metadata": {},
   "outputs": [
    {
     "data": {
      "text/html": [
       "<div>\n",
       "<style scoped>\n",
       "    .dataframe tbody tr th:only-of-type {\n",
       "        vertical-align: middle;\n",
       "    }\n",
       "\n",
       "    .dataframe tbody tr th {\n",
       "        vertical-align: top;\n",
       "    }\n",
       "\n",
       "    .dataframe thead th {\n",
       "        text-align: right;\n",
       "    }\n",
       "</style>\n",
       "<table border=\"1\" class=\"dataframe\">\n",
       "  <thead>\n",
       "    <tr style=\"text-align: right;\">\n",
       "      <th></th>\n",
       "      <th>event_name</th>\n",
       "      <th>user_id</th>\n",
       "      <th>group</th>\n",
       "      <th>date_time</th>\n",
       "      <th>date</th>\n",
       "    </tr>\n",
       "  </thead>\n",
       "  <tbody>\n",
       "    <tr>\n",
       "      <th>0</th>\n",
       "      <td>catalog</td>\n",
       "      <td>4575588528974610257</td>\n",
       "      <td>246</td>\n",
       "      <td>2019-07-25 04:43:36</td>\n",
       "      <td>2019-07-25</td>\n",
       "    </tr>\n",
       "    <tr>\n",
       "      <th>1</th>\n",
       "      <td>catalog</td>\n",
       "      <td>7416695313311560658</td>\n",
       "      <td>246</td>\n",
       "      <td>2019-07-25 11:11:42</td>\n",
       "      <td>2019-07-25</td>\n",
       "    </tr>\n",
       "    <tr>\n",
       "      <th>2</th>\n",
       "      <td>payment</td>\n",
       "      <td>3518123091307005509</td>\n",
       "      <td>248</td>\n",
       "      <td>2019-07-25 11:28:47</td>\n",
       "      <td>2019-07-25</td>\n",
       "    </tr>\n",
       "    <tr>\n",
       "      <th>3</th>\n",
       "      <td>basket</td>\n",
       "      <td>3518123091307005509</td>\n",
       "      <td>248</td>\n",
       "      <td>2019-07-25 11:28:47</td>\n",
       "      <td>2019-07-25</td>\n",
       "    </tr>\n",
       "    <tr>\n",
       "      <th>4</th>\n",
       "      <td>payment</td>\n",
       "      <td>6217807653094995999</td>\n",
       "      <td>248</td>\n",
       "      <td>2019-07-25 11:48:42</td>\n",
       "      <td>2019-07-25</td>\n",
       "    </tr>\n",
       "    <tr>\n",
       "      <th>...</th>\n",
       "      <td>...</td>\n",
       "      <td>...</td>\n",
       "      <td>...</td>\n",
       "      <td>...</td>\n",
       "      <td>...</td>\n",
       "    </tr>\n",
       "    <tr>\n",
       "      <th>244121</th>\n",
       "      <td>catalog</td>\n",
       "      <td>4599628364049201812</td>\n",
       "      <td>247</td>\n",
       "      <td>2019-08-07 21:12:25</td>\n",
       "      <td>2019-08-07</td>\n",
       "    </tr>\n",
       "    <tr>\n",
       "      <th>244122</th>\n",
       "      <td>catalog</td>\n",
       "      <td>5849806612437486590</td>\n",
       "      <td>246</td>\n",
       "      <td>2019-08-07 21:13:59</td>\n",
       "      <td>2019-08-07</td>\n",
       "    </tr>\n",
       "    <tr>\n",
       "      <th>244123</th>\n",
       "      <td>catalog</td>\n",
       "      <td>5746969938801999050</td>\n",
       "      <td>246</td>\n",
       "      <td>2019-08-07 21:14:43</td>\n",
       "      <td>2019-08-07</td>\n",
       "    </tr>\n",
       "    <tr>\n",
       "      <th>244124</th>\n",
       "      <td>catalog</td>\n",
       "      <td>5746969938801999050</td>\n",
       "      <td>246</td>\n",
       "      <td>2019-08-07 21:14:58</td>\n",
       "      <td>2019-08-07</td>\n",
       "    </tr>\n",
       "    <tr>\n",
       "      <th>244125</th>\n",
       "      <td>offer</td>\n",
       "      <td>5746969938801999050</td>\n",
       "      <td>246</td>\n",
       "      <td>2019-08-07 21:15:17</td>\n",
       "      <td>2019-08-07</td>\n",
       "    </tr>\n",
       "  </tbody>\n",
       "</table>\n",
       "<p>243713 rows × 5 columns</p>\n",
       "</div>"
      ],
      "text/plain": [
       "       event_name              user_id  group           date_time        date\n",
       "0         catalog  4575588528974610257    246 2019-07-25 04:43:36  2019-07-25\n",
       "1         catalog  7416695313311560658    246 2019-07-25 11:11:42  2019-07-25\n",
       "2         payment  3518123091307005509    248 2019-07-25 11:28:47  2019-07-25\n",
       "3          basket  3518123091307005509    248 2019-07-25 11:28:47  2019-07-25\n",
       "4         payment  6217807653094995999    248 2019-07-25 11:48:42  2019-07-25\n",
       "...           ...                  ...    ...                 ...         ...\n",
       "244121    catalog  4599628364049201812    247 2019-08-07 21:12:25  2019-08-07\n",
       "244122    catalog  5849806612437486590    246 2019-08-07 21:13:59  2019-08-07\n",
       "244123    catalog  5746969938801999050    246 2019-08-07 21:14:43  2019-08-07\n",
       "244124    catalog  5746969938801999050    246 2019-08-07 21:14:58  2019-08-07\n",
       "244125      offer  5746969938801999050    246 2019-08-07 21:15:17  2019-08-07\n",
       "\n",
       "[243713 rows x 5 columns]"
      ]
     },
     "execution_count": 55,
     "metadata": {},
     "output_type": "execute_result"
    }
   ],
   "source": [
    "df"
   ]
  },
  {
   "cell_type": "markdown",
   "metadata": {},
   "source": [
    "Вывод: мы преобразовали данные в столбце \"EventTimestamp\": получили столбцы date_time и date; переименовали столбцы таблицы, проверили ее на наличие пропусков, избавились от явных дубликатов в таблице; значения в столбце 'event_name' записали строчными буквами. \t"
   ]
  },
  {
   "cell_type": "markdown",
   "metadata": {},
   "source": [
    "### Изучение и проверка данных. "
   ]
  },
  {
   "cell_type": "markdown",
   "metadata": {},
   "source": [
    "Посмотрим, сколько всего событий записаны в таблице."
   ]
  },
  {
   "cell_type": "code",
   "execution_count": 56,
   "metadata": {},
   "outputs": [
    {
     "name": "stdout",
     "output_type": "stream",
     "text": [
      "Количество событий: 243713\n"
     ]
    }
   ],
   "source": [
    "print('Количество событий:', df['event_name'].shape[0])"
   ]
  },
  {
   "cell_type": "markdown",
   "metadata": {},
   "source": [
    "Посмотрим, сколько всего пользователей в таблице. "
   ]
  },
  {
   "cell_type": "code",
   "execution_count": 57,
   "metadata": {},
   "outputs": [
    {
     "name": "stdout",
     "output_type": "stream",
     "text": [
      "Количество пользователей: 7551\n"
     ]
    }
   ],
   "source": [
    "print('Количество пользователей:', df['user_id'].nunique())"
   ]
  },
  {
   "cell_type": "code",
   "execution_count": 58,
   "metadata": {},
   "outputs": [
    {
     "name": "stdout",
     "output_type": "stream",
     "text": [
      "Количество событий, которое, в среднем, приходится на одного пользователя: 32\n"
     ]
    }
   ],
   "source": [
    "count_mean = round(df['event_name'].shape[0] / df['user_id'].nunique())\n",
    "print('Количество событий, которое, в среднем, приходится на одного пользователя:', count_mean)"
   ]
  },
  {
   "cell_type": "markdown",
   "metadata": {},
   "source": [
    "#### Определим, данными за какой период мы располагаем. "
   ]
  },
  {
   "cell_type": "markdown",
   "metadata": {},
   "source": [
    "Найдем минимальную и максимальную даты в столбце 'date'. "
   ]
  },
  {
   "cell_type": "code",
   "execution_count": 59,
   "metadata": {},
   "outputs": [
    {
     "name": "stdout",
     "output_type": "stream",
     "text": [
      "Начало периода: 2019-07-25\n",
      "Конец период 2019-08-07\n"
     ]
    }
   ],
   "source": [
    "print('Начало периода:', df['date'].min())\n",
    "print('Конец период', df['date'].max())"
   ]
  },
  {
   "cell_type": "markdown",
   "metadata": {},
   "source": [
    "Построим гистограмму по дате.\n",
    "\n",
    "Для этого сначала подготовим таблицу, по которой будем строить график. "
   ]
  },
  {
   "cell_type": "code",
   "execution_count": 60,
   "metadata": {},
   "outputs": [
    {
     "data": {
      "text/html": [
       "<div>\n",
       "<style scoped>\n",
       "    .dataframe tbody tr th:only-of-type {\n",
       "        vertical-align: middle;\n",
       "    }\n",
       "\n",
       "    .dataframe tbody tr th {\n",
       "        vertical-align: top;\n",
       "    }\n",
       "\n",
       "    .dataframe thead th {\n",
       "        text-align: right;\n",
       "    }\n",
       "</style>\n",
       "<table border=\"1\" class=\"dataframe\">\n",
       "  <thead>\n",
       "    <tr style=\"text-align: right;\">\n",
       "      <th></th>\n",
       "      <th>date</th>\n",
       "      <th>count</th>\n",
       "    </tr>\n",
       "  </thead>\n",
       "  <tbody>\n",
       "    <tr>\n",
       "      <th>13</th>\n",
       "      <td>2019-07-25</td>\n",
       "      <td>9</td>\n",
       "    </tr>\n",
       "    <tr>\n",
       "      <th>12</th>\n",
       "      <td>2019-07-26</td>\n",
       "      <td>31</td>\n",
       "    </tr>\n",
       "    <tr>\n",
       "      <th>11</th>\n",
       "      <td>2019-07-27</td>\n",
       "      <td>55</td>\n",
       "    </tr>\n",
       "    <tr>\n",
       "      <th>10</th>\n",
       "      <td>2019-07-28</td>\n",
       "      <td>105</td>\n",
       "    </tr>\n",
       "    <tr>\n",
       "      <th>9</th>\n",
       "      <td>2019-07-29</td>\n",
       "      <td>184</td>\n",
       "    </tr>\n",
       "    <tr>\n",
       "      <th>8</th>\n",
       "      <td>2019-07-30</td>\n",
       "      <td>412</td>\n",
       "    </tr>\n",
       "    <tr>\n",
       "      <th>7</th>\n",
       "      <td>2019-07-31</td>\n",
       "      <td>2030</td>\n",
       "    </tr>\n",
       "    <tr>\n",
       "      <th>0</th>\n",
       "      <td>2019-08-01</td>\n",
       "      <td>36141</td>\n",
       "    </tr>\n",
       "    <tr>\n",
       "      <th>3</th>\n",
       "      <td>2019-08-02</td>\n",
       "      <td>35554</td>\n",
       "    </tr>\n",
       "    <tr>\n",
       "      <th>4</th>\n",
       "      <td>2019-08-03</td>\n",
       "      <td>33282</td>\n",
       "    </tr>\n",
       "    <tr>\n",
       "      <th>5</th>\n",
       "      <td>2019-08-04</td>\n",
       "      <td>32968</td>\n",
       "    </tr>\n",
       "    <tr>\n",
       "      <th>1</th>\n",
       "      <td>2019-08-05</td>\n",
       "      <td>36058</td>\n",
       "    </tr>\n",
       "    <tr>\n",
       "      <th>2</th>\n",
       "      <td>2019-08-06</td>\n",
       "      <td>35788</td>\n",
       "    </tr>\n",
       "    <tr>\n",
       "      <th>6</th>\n",
       "      <td>2019-08-07</td>\n",
       "      <td>31096</td>\n",
       "    </tr>\n",
       "  </tbody>\n",
       "</table>\n",
       "</div>"
      ],
      "text/plain": [
       "          date  count\n",
       "13  2019-07-25      9\n",
       "12  2019-07-26     31\n",
       "11  2019-07-27     55\n",
       "10  2019-07-28    105\n",
       "9   2019-07-29    184\n",
       "8   2019-07-30    412\n",
       "7   2019-07-31   2030\n",
       "0   2019-08-01  36141\n",
       "3   2019-08-02  35554\n",
       "4   2019-08-03  33282\n",
       "5   2019-08-04  32968\n",
       "1   2019-08-05  36058\n",
       "2   2019-08-06  35788\n",
       "6   2019-08-07  31096"
      ]
     },
     "execution_count": 60,
     "metadata": {},
     "output_type": "execute_result"
    }
   ],
   "source": [
    "for_barplot = df['date'].value_counts()\n",
    "df_for_barplot = for_barplot.to_frame().reset_index() \n",
    "df_for_barplot.columns = ['date', 'count']\n",
    "df_for_barplot = df_for_barplot.sort_values(by='date', ascending=True)\n",
    "df_for_barplot"
   ]
  },
  {
   "cell_type": "code",
   "execution_count": 61,
   "metadata": {},
   "outputs": [
    {
     "data": {
      "image/png": "[encoded data removed]",
      "text/plain": [
       "<Figure size 1296x432 with 1 Axes>"
      ]
     },
     "metadata": {
      "needs_background": "light"
     },
     "output_type": "display_data"
    }
   ],
   "source": [
    "plt.figure(figsize=(18, 6))\n",
    "sns.barplot(x=\"date\", y=\"count\", data=df_for_barplot, ci=None)\n",
    "plt.title('Частотное распределение событий по дате', fontsize=15)\n",
    "plt.xlabel('Дата', fontsize=15)\n",
    "plt.ylabel('Количество событий', fontsize=15)\n",
    "plt.xticks(np.arange(0, len(df_for_barplot['date']), 1), rotation=45, fontsize=15)\n",
    "plt.yticks(fontsize=15)\n",
    "plt.show()"
   ]
  },
  {
   "cell_type": "markdown",
   "metadata": {},
   "source": [
    "Мы располагаем полными данными за период с 1 по 7 августа. \n",
    "\n",
    "Оставим в таблице только события, произошедшие после 31.07."
   ]
  },
  {
   "cell_type": "code",
   "execution_count": 62,
   "metadata": {},
   "outputs": [
    {
     "name": "stdout",
     "output_type": "stream",
     "text": [
      "Количество событий до удаления старых данных: 243713\n"
     ]
    }
   ],
   "source": [
    "print('Количество событий до удаления старых данных:', df.shape[0])"
   ]
  },
  {
   "cell_type": "markdown",
   "metadata": {},
   "source": [
    "Отфильтруем данные в таблице, предварительно преобразовав формат данных в столбце 'date' - приведем данные к формату 'datetime64'."
   ]
  },
  {
   "cell_type": "code",
   "execution_count": 63,
   "metadata": {},
   "outputs": [],
   "source": [
    "df['date'] = df['date'].astype('datetime64')\n",
    "\n",
    "df_new = df[df['date'] > '2019-07-31'] "
   ]
  },
  {
   "cell_type": "code",
   "execution_count": 64,
   "metadata": {},
   "outputs": [
    {
     "name": "stdout",
     "output_type": "stream",
     "text": [
      "Количество событий после удаления старых данных: 240887\n",
      "Количество пользователей после удаления старых данных: 7534\n"
     ]
    }
   ],
   "source": [
    "print('Количество событий после удаления старых данных:', df_new.shape[0])\n",
    "print('Количество пользователей после удаления старых данных:', df_new['user_id'].nunique())"
   ]
  },
  {
   "cell_type": "markdown",
   "metadata": {},
   "source": [
    "Посчитаем количество и долю событий (в %), которые мы потеряли, удалив старые данные. "
   ]
  },
  {
   "cell_type": "code",
   "execution_count": 65,
   "metadata": {},
   "outputs": [
    {
     "name": "stdout",
     "output_type": "stream",
     "text": [
      "Количество потерянных событий: 2826\n",
      "Доля потерянных событий: 1.2%\n"
     ]
    }
   ],
   "source": [
    "df_lost_count = df.shape[0] - df_new.shape[0]\n",
    "print('Количество потерянных событий:', df_lost_count)\n",
    "\n",
    "df_lost_share = round(df_lost_count/df.shape[0], 3)\n",
    "print('Доля потерянных событий:', f'{df_lost_share:.1%}')"
   ]
  },
  {
   "cell_type": "code",
   "execution_count": 66,
   "metadata": {},
   "outputs": [
    {
     "name": "stdout",
     "output_type": "stream",
     "text": [
      "Количество потерянных пользователей: 17\n",
      "Доля потерянных пользователей: 0.2%\n"
     ]
    }
   ],
   "source": [
    "df_lost_count_user = df['user_id'].nunique() - df_new['user_id'].nunique()\n",
    "print('Количество потерянных пользователей:', df_lost_count_user)\n",
    "\n",
    "df_lost_share_user = round(df_lost_count_user/df['user_id'].nunique(), 3)\n",
    "print('Доля потерянных пользователей:', f'{df_lost_share_user:.1%}')"
   ]
  },
  {
   "cell_type": "markdown",
   "metadata": {},
   "source": [
    "Убедимся, что в таблице остались пользователи из всех трех групп."
   ]
  },
  {
   "cell_type": "code",
   "execution_count": 67,
   "metadata": {},
   "outputs": [
    {
     "data": {
      "text/plain": [
       "248    84563\n",
       "246    79302\n",
       "247    77022\n",
       "Name: group, dtype: int64"
      ]
     },
     "execution_count": 67,
     "metadata": {},
     "output_type": "execute_result"
    }
   ],
   "source": [
    "df_new['group'].value_counts()"
   ]
  },
  {
   "cell_type": "markdown",
   "metadata": {},
   "source": [
    "### Изучение воронки событий. "
   ]
  },
  {
   "cell_type": "markdown",
   "metadata": {},
   "source": [
    "Посмотрим, какие события есть таблице, и как часто они встречаются. Выведем события на экран в порядке убывания частоты, с которой они встречаются. "
   ]
  },
  {
   "cell_type": "code",
   "execution_count": 68,
   "metadata": {},
   "outputs": [
    {
     "data": {
      "text/html": [
       "<div>\n",
       "<style scoped>\n",
       "    .dataframe tbody tr th:only-of-type {\n",
       "        vertical-align: middle;\n",
       "    }\n",
       "\n",
       "    .dataframe tbody tr th {\n",
       "        vertical-align: top;\n",
       "    }\n",
       "\n",
       "    .dataframe thead th {\n",
       "        text-align: right;\n",
       "    }\n",
       "</style>\n",
       "<table border=\"1\" class=\"dataframe\">\n",
       "  <thead>\n",
       "    <tr style=\"text-align: right;\">\n",
       "      <th></th>\n",
       "      <th>event_name</th>\n",
       "      <th>count</th>\n",
       "    </tr>\n",
       "  </thead>\n",
       "  <tbody>\n",
       "    <tr>\n",
       "      <th>0</th>\n",
       "      <td>catalog</td>\n",
       "      <td>117328</td>\n",
       "    </tr>\n",
       "    <tr>\n",
       "      <th>1</th>\n",
       "      <td>offer</td>\n",
       "      <td>46333</td>\n",
       "    </tr>\n",
       "    <tr>\n",
       "      <th>2</th>\n",
       "      <td>basket</td>\n",
       "      <td>42303</td>\n",
       "    </tr>\n",
       "    <tr>\n",
       "      <th>3</th>\n",
       "      <td>payment</td>\n",
       "      <td>33918</td>\n",
       "    </tr>\n",
       "    <tr>\n",
       "      <th>4</th>\n",
       "      <td>tutorial</td>\n",
       "      <td>1005</td>\n",
       "    </tr>\n",
       "  </tbody>\n",
       "</table>\n",
       "</div>"
      ],
      "text/plain": [
       "  event_name   count\n",
       "0    catalog  117328\n",
       "1      offer   46333\n",
       "2     basket   42303\n",
       "3    payment   33918\n",
       "4   tutorial    1005"
      ]
     },
     "execution_count": 68,
     "metadata": {},
     "output_type": "execute_result"
    }
   ],
   "source": [
    "df_new_event_name = df_new['event_name'].value_counts()\n",
    "\n",
    "df_new_event_name = df_new_event_name.to_frame().reset_index() \n",
    "df_new_event_name.columns = ['event_name', 'count']\n",
    "df_new_event_name = df_new_event_name.sort_values(by='count', ascending=False)\n",
    "df_new_event_name"
   ]
  },
  {
   "cell_type": "markdown",
   "metadata": {},
   "source": [
    "Посчитаем, сколько уникальных пользователей совершали каждое из этих событий. Отсортируем события по числу пользователей. "
   ]
  },
  {
   "cell_type": "code",
   "execution_count": 69,
   "metadata": {},
   "outputs": [
    {
     "data": {
      "text/html": [
       "<div>\n",
       "<style scoped>\n",
       "    .dataframe tbody tr th:only-of-type {\n",
       "        vertical-align: middle;\n",
       "    }\n",
       "\n",
       "    .dataframe tbody tr th {\n",
       "        vertical-align: top;\n",
       "    }\n",
       "\n",
       "    .dataframe thead th {\n",
       "        text-align: right;\n",
       "    }\n",
       "</style>\n",
       "<table border=\"1\" class=\"dataframe\">\n",
       "  <thead>\n",
       "    <tr style=\"text-align: right;\">\n",
       "      <th></th>\n",
       "      <th>event_name</th>\n",
       "      <th>users_count</th>\n",
       "    </tr>\n",
       "  </thead>\n",
       "  <tbody>\n",
       "    <tr>\n",
       "      <th>1</th>\n",
       "      <td>catalog</td>\n",
       "      <td>7419</td>\n",
       "    </tr>\n",
       "    <tr>\n",
       "      <th>2</th>\n",
       "      <td>offer</td>\n",
       "      <td>4593</td>\n",
       "    </tr>\n",
       "    <tr>\n",
       "      <th>0</th>\n",
       "      <td>basket</td>\n",
       "      <td>3734</td>\n",
       "    </tr>\n",
       "    <tr>\n",
       "      <th>3</th>\n",
       "      <td>payment</td>\n",
       "      <td>3539</td>\n",
       "    </tr>\n",
       "    <tr>\n",
       "      <th>4</th>\n",
       "      <td>tutorial</td>\n",
       "      <td>840</td>\n",
       "    </tr>\n",
       "  </tbody>\n",
       "</table>\n",
       "</div>"
      ],
      "text/plain": [
       "  event_name  users_count\n",
       "1    catalog         7419\n",
       "2      offer         4593\n",
       "0     basket         3734\n",
       "3    payment         3539\n",
       "4   tutorial          840"
      ]
     },
     "execution_count": 69,
     "metadata": {},
     "output_type": "execute_result"
    }
   ],
   "source": [
    "event_name_count_users = df_new.pivot_table(index=['event_name'], values='user_id', aggfunc=['nunique'])\n",
    "event_name_count_users = event_name_count_users.reset_index()\n",
    "\n",
    "event_name_count_users.columns = ['event_name', 'users_count']\n",
    "\n",
    "\n",
    "event_name_count_users = event_name_count_users.sort_values(by='users_count', ascending=False)\n",
    "\n",
    "event_name_count_users"
   ]
  },
  {
   "cell_type": "markdown",
   "metadata": {},
   "source": [
    "Посчитаем долю пользователей, которые хоть раз совершали каждое событие."
   ]
  },
  {
   "cell_type": "code",
   "execution_count": 70,
   "metadata": {},
   "outputs": [
    {
     "data": {
      "text/html": [
       "<div>\n",
       "<style scoped>\n",
       "    .dataframe tbody tr th:only-of-type {\n",
       "        vertical-align: middle;\n",
       "    }\n",
       "\n",
       "    .dataframe tbody tr th {\n",
       "        vertical-align: top;\n",
       "    }\n",
       "\n",
       "    .dataframe thead th {\n",
       "        text-align: right;\n",
       "    }\n",
       "</style>\n",
       "<table border=\"1\" class=\"dataframe\">\n",
       "  <thead>\n",
       "    <tr style=\"text-align: right;\">\n",
       "      <th></th>\n",
       "      <th>event_name</th>\n",
       "      <th>users_count</th>\n",
       "      <th>share_of_total</th>\n",
       "    </tr>\n",
       "  </thead>\n",
       "  <tbody>\n",
       "    <tr>\n",
       "      <th>1</th>\n",
       "      <td>catalog</td>\n",
       "      <td>7419</td>\n",
       "      <td>0.985</td>\n",
       "    </tr>\n",
       "    <tr>\n",
       "      <th>2</th>\n",
       "      <td>offer</td>\n",
       "      <td>4593</td>\n",
       "      <td>0.610</td>\n",
       "    </tr>\n",
       "    <tr>\n",
       "      <th>0</th>\n",
       "      <td>basket</td>\n",
       "      <td>3734</td>\n",
       "      <td>0.496</td>\n",
       "    </tr>\n",
       "    <tr>\n",
       "      <th>3</th>\n",
       "      <td>payment</td>\n",
       "      <td>3539</td>\n",
       "      <td>0.470</td>\n",
       "    </tr>\n",
       "    <tr>\n",
       "      <th>4</th>\n",
       "      <td>tutorial</td>\n",
       "      <td>840</td>\n",
       "      <td>0.111</td>\n",
       "    </tr>\n",
       "  </tbody>\n",
       "</table>\n",
       "</div>"
      ],
      "text/plain": [
       "  event_name  users_count  share_of_total\n",
       "1    catalog         7419           0.985\n",
       "2      offer         4593           0.610\n",
       "0     basket         3734           0.496\n",
       "3    payment         3539           0.470\n",
       "4   tutorial          840           0.111"
      ]
     },
     "execution_count": 70,
     "metadata": {},
     "output_type": "execute_result"
    }
   ],
   "source": [
    "total_unique_users = df_new['user_id'].nunique()\n",
    "\n",
    "event_name_count_users['share_of_total'] = round((event_name_count_users['users_count'] / total_unique_users), 3)\n",
    "\n",
    "event_name_count_users"
   ]
  },
  {
   "cell_type": "code",
   "execution_count": 71,
   "metadata": {
    "scrolled": true
   },
   "outputs": [
    {
     "data": {
      "text/plain": [
       "7534"
      ]
     },
     "execution_count": 71,
     "metadata": {},
     "output_type": "execute_result"
    }
   ],
   "source": [
    "total_unique_users"
   ]
  },
  {
   "cell_type": "markdown",
   "metadata": {},
   "source": [
    "Мы видим, что общее количество уникальных пользователей равно 7534, а это больше, чем количество уникальных пользователей, выполнивших первое действие в воронке. Видимо, действие tutorial можно было совершить в любой момент, даже до первого действия в воронке. \n",
    "\n",
    "Поэтому создадим строку event_name_total, которая будет содержать данные об общем количестве уникальных пользователей в таблице, и добавим ее в таблицу event_name_count_users."
   ]
  },
  {
   "cell_type": "code",
   "execution_count": 72,
   "metadata": {},
   "outputs": [
    {
     "data": {
      "text/html": [
       "<div>\n",
       "<style scoped>\n",
       "    .dataframe tbody tr th:only-of-type {\n",
       "        vertical-align: middle;\n",
       "    }\n",
       "\n",
       "    .dataframe tbody tr th {\n",
       "        vertical-align: top;\n",
       "    }\n",
       "\n",
       "    .dataframe thead th {\n",
       "        text-align: right;\n",
       "    }\n",
       "</style>\n",
       "<table border=\"1\" class=\"dataframe\">\n",
       "  <thead>\n",
       "    <tr style=\"text-align: right;\">\n",
       "      <th></th>\n",
       "      <th>event_name</th>\n",
       "      <th>users_count</th>\n",
       "      <th>share_of_total</th>\n",
       "    </tr>\n",
       "  </thead>\n",
       "  <tbody>\n",
       "    <tr>\n",
       "      <th>0</th>\n",
       "      <td>total</td>\n",
       "      <td>7534</td>\n",
       "      <td>1.000</td>\n",
       "    </tr>\n",
       "    <tr>\n",
       "      <th>1</th>\n",
       "      <td>catalog</td>\n",
       "      <td>7419</td>\n",
       "      <td>0.985</td>\n",
       "    </tr>\n",
       "    <tr>\n",
       "      <th>2</th>\n",
       "      <td>offer</td>\n",
       "      <td>4593</td>\n",
       "      <td>0.610</td>\n",
       "    </tr>\n",
       "    <tr>\n",
       "      <th>3</th>\n",
       "      <td>basket</td>\n",
       "      <td>3734</td>\n",
       "      <td>0.496</td>\n",
       "    </tr>\n",
       "    <tr>\n",
       "      <th>4</th>\n",
       "      <td>payment</td>\n",
       "      <td>3539</td>\n",
       "      <td>0.470</td>\n",
       "    </tr>\n",
       "    <tr>\n",
       "      <th>5</th>\n",
       "      <td>tutorial</td>\n",
       "      <td>840</td>\n",
       "      <td>0.111</td>\n",
       "    </tr>\n",
       "  </tbody>\n",
       "</table>\n",
       "</div>"
      ],
      "text/plain": [
       "  event_name  users_count  share_of_total\n",
       "0      total         7534           1.000\n",
       "1    catalog         7419           0.985\n",
       "2      offer         4593           0.610\n",
       "3     basket         3734           0.496\n",
       "4    payment         3539           0.470\n",
       "5   tutorial          840           0.111"
      ]
     },
     "execution_count": 72,
     "metadata": {},
     "output_type": "execute_result"
    }
   ],
   "source": [
    "event_name_total = {'event_name':'total','users_count':total_unique_users,'share_of_total':1}\n",
    "event_name_count_users = event_name_count_users.append(event_name_total, ignore_index=True)\n",
    "\n",
    "event_name_count_users = event_name_count_users.sort_values(by='users_count', ascending=False)\n",
    "\n",
    "event_name_count_users = event_name_count_users.reset_index()\n",
    "\n",
    "event_name_count_users = event_name_count_users.drop(columns = ['index'])\n",
    "\n",
    "event_name_count_users"
   ]
  },
  {
   "cell_type": "markdown",
   "metadata": {},
   "source": [
    "Предположим, что события из столбца 'event_name' происходят в следующем порядке. \n",
    "\n",
    "1. total (общее количество уникальных (скачавших приложение) пользователей,\n",
    "2. catalog\t(пользователь увидел главный экран приложения),\n",
    "3. offer\t(пользователь увидел экран с предложением),\n",
    "4. basket\t(пользователь увидел страницу с информацией о способах оплаты),\n",
    "5. payment (пользователь увидел страницу с подтверждением успешной оплаты).\n",
    "\n",
    "Событие 'tutorial' - пользователь обратился к странице с обучающей информацией о приложении. Это событие не укладывается в последовательную цепочку, ведь обратиться к этой странице можно на любом из этапов взаимодействия с приложением. Событие 'tutorial' не будем рассматривать как часть воронки. "
   ]
  },
  {
   "cell_type": "code",
   "execution_count": 73,
   "metadata": {},
   "outputs": [
    {
     "data": {
      "text/html": [
       "<div>\n",
       "<style scoped>\n",
       "    .dataframe tbody tr th:only-of-type {\n",
       "        vertical-align: middle;\n",
       "    }\n",
       "\n",
       "    .dataframe tbody tr th {\n",
       "        vertical-align: top;\n",
       "    }\n",
       "\n",
       "    .dataframe thead th {\n",
       "        text-align: right;\n",
       "    }\n",
       "</style>\n",
       "<table border=\"1\" class=\"dataframe\">\n",
       "  <thead>\n",
       "    <tr style=\"text-align: right;\">\n",
       "      <th></th>\n",
       "      <th>event_name</th>\n",
       "      <th>users_count</th>\n",
       "      <th>share_of_total</th>\n",
       "    </tr>\n",
       "  </thead>\n",
       "  <tbody>\n",
       "    <tr>\n",
       "      <th>0</th>\n",
       "      <td>total</td>\n",
       "      <td>7534</td>\n",
       "      <td>1.000</td>\n",
       "    </tr>\n",
       "    <tr>\n",
       "      <th>1</th>\n",
       "      <td>catalog</td>\n",
       "      <td>7419</td>\n",
       "      <td>0.985</td>\n",
       "    </tr>\n",
       "    <tr>\n",
       "      <th>2</th>\n",
       "      <td>offer</td>\n",
       "      <td>4593</td>\n",
       "      <td>0.610</td>\n",
       "    </tr>\n",
       "    <tr>\n",
       "      <th>3</th>\n",
       "      <td>basket</td>\n",
       "      <td>3734</td>\n",
       "      <td>0.496</td>\n",
       "    </tr>\n",
       "    <tr>\n",
       "      <th>4</th>\n",
       "      <td>payment</td>\n",
       "      <td>3539</td>\n",
       "      <td>0.470</td>\n",
       "    </tr>\n",
       "  </tbody>\n",
       "</table>\n",
       "</div>"
      ],
      "text/plain": [
       "  event_name  users_count  share_of_total\n",
       "0      total         7534           1.000\n",
       "1    catalog         7419           0.985\n",
       "2      offer         4593           0.610\n",
       "3     basket         3734           0.496\n",
       "4    payment         3539           0.470"
      ]
     },
     "execution_count": 73,
     "metadata": {},
     "output_type": "execute_result"
    }
   ],
   "source": [
    "event_name_count_users = event_name_count_users[event_name_count_users['event_name'] != 'tutorial']\n",
    "event_name_count_users"
   ]
  },
  {
   "cell_type": "markdown",
   "metadata": {},
   "source": [
    "Посчитаем, какая доля пользователей проходит на следующий шаг воронки (от числа пользователей на предыдущем): так рассчитаем конверсию в шаг."
   ]
  },
  {
   "cell_type": "code",
   "execution_count": 74,
   "metadata": {},
   "outputs": [
    {
     "data": {
      "text/html": [
       "<div>\n",
       "<style scoped>\n",
       "    .dataframe tbody tr th:only-of-type {\n",
       "        vertical-align: middle;\n",
       "    }\n",
       "\n",
       "    .dataframe tbody tr th {\n",
       "        vertical-align: top;\n",
       "    }\n",
       "\n",
       "    .dataframe thead th {\n",
       "        text-align: right;\n",
       "    }\n",
       "</style>\n",
       "<table border=\"1\" class=\"dataframe\">\n",
       "  <thead>\n",
       "    <tr style=\"text-align: right;\">\n",
       "      <th></th>\n",
       "      <th>event_name</th>\n",
       "      <th>share_of_prev</th>\n",
       "    </tr>\n",
       "  </thead>\n",
       "  <tbody>\n",
       "    <tr>\n",
       "      <th>0</th>\n",
       "      <td>total</td>\n",
       "      <td>1.000</td>\n",
       "    </tr>\n",
       "    <tr>\n",
       "      <th>1</th>\n",
       "      <td>catalog</td>\n",
       "      <td>0.985</td>\n",
       "    </tr>\n",
       "    <tr>\n",
       "      <th>2</th>\n",
       "      <td>offer</td>\n",
       "      <td>0.619</td>\n",
       "    </tr>\n",
       "    <tr>\n",
       "      <th>3</th>\n",
       "      <td>basket</td>\n",
       "      <td>0.813</td>\n",
       "    </tr>\n",
       "    <tr>\n",
       "      <th>4</th>\n",
       "      <td>payment</td>\n",
       "      <td>0.948</td>\n",
       "    </tr>\n",
       "  </tbody>\n",
       "</table>\n",
       "</div>"
      ],
      "text/plain": [
       "  event_name  share_of_prev\n",
       "0      total          1.000\n",
       "1    catalog          0.985\n",
       "2      offer          0.619\n",
       "3     basket          0.813\n",
       "4    payment          0.948"
      ]
     },
     "execution_count": 74,
     "metadata": {},
     "output_type": "execute_result"
    }
   ],
   "source": [
    "stage_0 = event_name_count_users.loc[0, 'users_count'] / event_name_count_users.loc[0, 'users_count']\n",
    "stage_1 = event_name_count_users.loc[1, 'users_count'] / event_name_count_users.loc[0, 'users_count']\n",
    "stage_2 = event_name_count_users.loc[2, 'users_count'] / event_name_count_users.loc[1, 'users_count']\n",
    "stage_3 = event_name_count_users.loc[3, 'users_count'] / event_name_count_users.loc[2, 'users_count']\n",
    "stage_4 = event_name_count_users.loc[4, 'users_count'] / event_name_count_users.loc[3, 'users_count']\n",
    "\n",
    "stages = [stage_0, round((stage_1),3), round((stage_2),3), round((stage_3),3), round((stage_4),3)]\n",
    "names = [event_name_count_users.loc[0, 'event_name'], event_name_count_users.loc[1, 'event_name'], event_name_count_users.loc[2, 'event_name'], event_name_count_users.loc[3, 'event_name'], event_name_count_users.loc[4, 'event_name']]\n",
    "\n",
    "data = {'event_name': names, 'share_of_prev': stages}\n",
    "df_data = pd.DataFrame(data) \n",
    "df_data"
   ]
  },
  {
   "cell_type": "markdown",
   "metadata": {},
   "source": [
    "Объединим таблицы event_name_count_users и df_data."
   ]
  },
  {
   "cell_type": "code",
   "execution_count": 75,
   "metadata": {},
   "outputs": [
    {
     "data": {
      "text/html": [
       "<div>\n",
       "<style scoped>\n",
       "    .dataframe tbody tr th:only-of-type {\n",
       "        vertical-align: middle;\n",
       "    }\n",
       "\n",
       "    .dataframe tbody tr th {\n",
       "        vertical-align: top;\n",
       "    }\n",
       "\n",
       "    .dataframe thead th {\n",
       "        text-align: right;\n",
       "    }\n",
       "</style>\n",
       "<table border=\"1\" class=\"dataframe\">\n",
       "  <thead>\n",
       "    <tr style=\"text-align: right;\">\n",
       "      <th></th>\n",
       "      <th>event_name</th>\n",
       "      <th>users_count</th>\n",
       "      <th>share_of_total</th>\n",
       "      <th>share_of_prev</th>\n",
       "    </tr>\n",
       "  </thead>\n",
       "  <tbody>\n",
       "    <tr>\n",
       "      <th>0</th>\n",
       "      <td>total</td>\n",
       "      <td>7534</td>\n",
       "      <td>1.000</td>\n",
       "      <td>1.000</td>\n",
       "    </tr>\n",
       "    <tr>\n",
       "      <th>1</th>\n",
       "      <td>catalog</td>\n",
       "      <td>7419</td>\n",
       "      <td>0.985</td>\n",
       "      <td>0.985</td>\n",
       "    </tr>\n",
       "    <tr>\n",
       "      <th>2</th>\n",
       "      <td>offer</td>\n",
       "      <td>4593</td>\n",
       "      <td>0.610</td>\n",
       "      <td>0.619</td>\n",
       "    </tr>\n",
       "    <tr>\n",
       "      <th>3</th>\n",
       "      <td>basket</td>\n",
       "      <td>3734</td>\n",
       "      <td>0.496</td>\n",
       "      <td>0.813</td>\n",
       "    </tr>\n",
       "    <tr>\n",
       "      <th>4</th>\n",
       "      <td>payment</td>\n",
       "      <td>3539</td>\n",
       "      <td>0.470</td>\n",
       "      <td>0.948</td>\n",
       "    </tr>\n",
       "  </tbody>\n",
       "</table>\n",
       "</div>"
      ],
      "text/plain": [
       "  event_name  users_count  share_of_total  share_of_prev\n",
       "0      total         7534           1.000          1.000\n",
       "1    catalog         7419           0.985          0.985\n",
       "2      offer         4593           0.610          0.619\n",
       "3     basket         3734           0.496          0.813\n",
       "4    payment         3539           0.470          0.948"
      ]
     },
     "execution_count": 75,
     "metadata": {},
     "output_type": "execute_result"
    }
   ],
   "source": [
    "event_name_count_users = event_name_count_users.merge(df_data, on=['event_name'], how='inner')\n",
    "event_name_count_users"
   ]
  },
  {
   "cell_type": "code",
   "execution_count": 76,
   "metadata": {},
   "outputs": [
    {
     "data": {
      "text/plain": [
       "0.366"
      ]
     },
     "execution_count": 76,
     "metadata": {},
     "output_type": "execute_result"
    }
   ],
   "source": [
    "loss = event_name_count_users.loc[1, 'share_of_prev'] - event_name_count_users.loc[2, 'share_of_prev']\n",
    "loss"
   ]
  },
  {
   "cell_type": "code",
   "execution_count": 77,
   "metadata": {},
   "outputs": [
    {
     "name": "stdout",
     "output_type": "stream",
     "text": [
      "Наибольшее количество пользователей теряется на 2-м шаге: 36.6% от числа тех, кто совершил событие \"catalog\", не совершил событие \"offer\".\n"
     ]
    }
   ],
   "source": [
    "print('Наибольшее количество пользователей теряется на 2-м шаге:', f'{loss:.1%}', 'от числа тех, кто совершил событие \"catalog\", не совершил событие \"offer\".') "
   ]
  },
  {
   "cell_type": "markdown",
   "metadata": {},
   "source": [
    "Посчитаем, какая доля пользователей доходит от события \"catalog\" до \"basket\" (т.е. начинают оплачивать). "
   ]
  },
  {
   "cell_type": "code",
   "execution_count": 78,
   "metadata": {},
   "outputs": [
    {
     "name": "stdout",
     "output_type": "stream",
     "text": [
      "Доля пользователей, которая доходит от первого события до начала оплаты: 0.5\n"
     ]
    }
   ],
   "source": [
    "stage_1_3 = round((event_name_count_users.loc[3, 'users_count'] / event_name_count_users.loc[1, 'users_count']), 2)\n",
    "print('Доля пользователей, которая доходит от первого события до начала оплаты:', stage_1_3)"
   ]
  },
  {
   "cell_type": "markdown",
   "metadata": {},
   "source": [
    "### Изучим результаты эксперимента. "
   ]
  },
  {
   "cell_type": "markdown",
   "metadata": {},
   "source": [
    "Проверим, нет ли в таблице пользователей, которые попали более чем в одну группу. "
   ]
  },
  {
   "cell_type": "code",
   "execution_count": 80,
   "metadata": {},
   "outputs": [
    {
     "name": "stdout",
     "output_type": "stream",
     "text": [
      "Количество пользователей, которые попали более чем в одну группу: 0\n"
     ]
    }
   ],
   "source": [
    "bad_clients = df_new.groupby('user_id').agg({'group' : 'nunique'}).reset_index().query('group>1')['user_id'] # выделили клиентов, попавших более чем в одну группу\n",
    "print('Количество пользователей, которые попали более чем в одну группу:', bad_clients.shape[0])\n",
    "#df_new = df_new.query('user_id not in @bad_clients')"
   ]
  },
  {
   "cell_type": "markdown",
   "metadata": {},
   "source": [
    "Определим, сколько пользователей в каждой группе эксперимента. "
   ]
  },
  {
   "cell_type": "code",
   "execution_count": 38,
   "metadata": {},
   "outputs": [
    {
     "data": {
      "text/plain": [
       "group\n",
       "246    2484\n",
       "247    2513\n",
       "248    2537\n",
       "Name: user_id, dtype: int64"
      ]
     },
     "execution_count": 38,
     "metadata": {},
     "output_type": "execute_result"
    }
   ],
   "source": [
    "groups_count_users = df_new.groupby('group')['user_id'].nunique()\n",
    "groups_count_users"
   ]
  },
  {
   "cell_type": "markdown",
   "metadata": {},
   "source": [
    "В контрольных группах (А и А, или 246 и 247) 2484 и 2513 уникальных пользователей соответственно, а в экспериментальной группе (В) - 2537 пользователей. "
   ]
  },
  {
   "cell_type": "markdown",
   "metadata": {},
   "source": [
    "#### Проверим, есть ли разница между двумя контрольными группами (проанализируем результаты А/А-теста). "
   ]
  },
  {
   "cell_type": "markdown",
   "metadata": {},
   "source": [
    "Для этого выполним ряд предварительных действий, чтобы привести данные в удобный для анализа вид.  \n",
    "\n",
    "Создадим сводную таблицу, состоящую из трех столбцов: событие ('event_name'), принадлежность к группе ('group'), количество пользователей ('users_count'). "
   ]
  },
  {
   "cell_type": "code",
   "execution_count": 39,
   "metadata": {},
   "outputs": [
    {
     "data": {
      "text/html": [
       "<div>\n",
       "<style scoped>\n",
       "    .dataframe tbody tr th:only-of-type {\n",
       "        vertical-align: middle;\n",
       "    }\n",
       "\n",
       "    .dataframe tbody tr th {\n",
       "        vertical-align: top;\n",
       "    }\n",
       "\n",
       "    .dataframe thead th {\n",
       "        text-align: right;\n",
       "    }\n",
       "</style>\n",
       "<table border=\"1\" class=\"dataframe\">\n",
       "  <thead>\n",
       "    <tr style=\"text-align: right;\">\n",
       "      <th></th>\n",
       "      <th>event_name</th>\n",
       "      <th>group</th>\n",
       "      <th>users_count</th>\n",
       "    </tr>\n",
       "  </thead>\n",
       "  <tbody>\n",
       "    <tr>\n",
       "      <th>5</th>\n",
       "      <td>catalog</td>\n",
       "      <td>248</td>\n",
       "      <td>2493</td>\n",
       "    </tr>\n",
       "    <tr>\n",
       "      <th>4</th>\n",
       "      <td>catalog</td>\n",
       "      <td>247</td>\n",
       "      <td>2476</td>\n",
       "    </tr>\n",
       "    <tr>\n",
       "      <th>3</th>\n",
       "      <td>catalog</td>\n",
       "      <td>246</td>\n",
       "      <td>2450</td>\n",
       "    </tr>\n",
       "    <tr>\n",
       "      <th>6</th>\n",
       "      <td>offer</td>\n",
       "      <td>246</td>\n",
       "      <td>1542</td>\n",
       "    </tr>\n",
       "    <tr>\n",
       "      <th>8</th>\n",
       "      <td>offer</td>\n",
       "      <td>248</td>\n",
       "      <td>1531</td>\n",
       "    </tr>\n",
       "    <tr>\n",
       "      <th>7</th>\n",
       "      <td>offer</td>\n",
       "      <td>247</td>\n",
       "      <td>1520</td>\n",
       "    </tr>\n",
       "    <tr>\n",
       "      <th>0</th>\n",
       "      <td>basket</td>\n",
       "      <td>246</td>\n",
       "      <td>1266</td>\n",
       "    </tr>\n",
       "    <tr>\n",
       "      <th>1</th>\n",
       "      <td>basket</td>\n",
       "      <td>247</td>\n",
       "      <td>1238</td>\n",
       "    </tr>\n",
       "    <tr>\n",
       "      <th>2</th>\n",
       "      <td>basket</td>\n",
       "      <td>248</td>\n",
       "      <td>1230</td>\n",
       "    </tr>\n",
       "    <tr>\n",
       "      <th>9</th>\n",
       "      <td>payment</td>\n",
       "      <td>246</td>\n",
       "      <td>1200</td>\n",
       "    </tr>\n",
       "    <tr>\n",
       "      <th>11</th>\n",
       "      <td>payment</td>\n",
       "      <td>248</td>\n",
       "      <td>1181</td>\n",
       "    </tr>\n",
       "    <tr>\n",
       "      <th>10</th>\n",
       "      <td>payment</td>\n",
       "      <td>247</td>\n",
       "      <td>1158</td>\n",
       "    </tr>\n",
       "  </tbody>\n",
       "</table>\n",
       "</div>"
      ],
      "text/plain": [
       "   event_name  group  users_count\n",
       "5     catalog    248         2493\n",
       "4     catalog    247         2476\n",
       "3     catalog    246         2450\n",
       "6       offer    246         1542\n",
       "8       offer    248         1531\n",
       "7       offer    247         1520\n",
       "0      basket    246         1266\n",
       "1      basket    247         1238\n",
       "2      basket    248         1230\n",
       "9     payment    246         1200\n",
       "11    payment    248         1181\n",
       "10    payment    247         1158"
      ]
     },
     "execution_count": 39,
     "metadata": {},
     "output_type": "execute_result"
    }
   ],
   "source": [
    "event_name_count_users_AAB = df_new.pivot_table(index=['event_name', 'group'], values='user_id', aggfunc=['nunique'])\n",
    "event_name_count_users_AAB = event_name_count_users_AAB.reset_index()\n",
    "\n",
    "event_name_count_users_AAB.columns = ['event_name', 'group', 'users_count']\n",
    "\n",
    "\n",
    "event_name_count_users_AAB = event_name_count_users_AAB.sort_values(by='users_count', ascending=False)\n",
    "\n",
    "event_name_count_users_AAB = event_name_count_users_AAB[event_name_count_users_AAB['event_name'] != 'tutorial']\n",
    "\n",
    "event_name_count_users_AAB"
   ]
  },
  {
   "cell_type": "markdown",
   "metadata": {},
   "source": [
    "Получим три отдельные таблицы в зависимости от принадлежности к группе (246, 247 или 248). "
   ]
  },
  {
   "cell_type": "code",
   "execution_count": 40,
   "metadata": {},
   "outputs": [],
   "source": [
    "event_name_count_users_AAB_246 = event_name_count_users_AAB[event_name_count_users_AAB['group'] == 246]\n",
    "event_name_count_users_AAB_247 = event_name_count_users_AAB[event_name_count_users_AAB['group'] == 247]\n",
    "event_name_count_users_AAB_248 = event_name_count_users_AAB[event_name_count_users_AAB['group'] == 248]"
   ]
  },
  {
   "cell_type": "markdown",
   "metadata": {},
   "source": [
    "Объединим три полученные группы по столбцу 'event_name'. Выведем полученную таблицу на экран. "
   ]
  },
  {
   "cell_type": "code",
   "execution_count": 41,
   "metadata": {},
   "outputs": [
    {
     "data": {
      "text/html": [
       "<div>\n",
       "<style scoped>\n",
       "    .dataframe tbody tr th:only-of-type {\n",
       "        vertical-align: middle;\n",
       "    }\n",
       "\n",
       "    .dataframe tbody tr th {\n",
       "        vertical-align: top;\n",
       "    }\n",
       "\n",
       "    .dataframe thead th {\n",
       "        text-align: right;\n",
       "    }\n",
       "</style>\n",
       "<table border=\"1\" class=\"dataframe\">\n",
       "  <thead>\n",
       "    <tr style=\"text-align: right;\">\n",
       "      <th></th>\n",
       "      <th>event_name</th>\n",
       "      <th>group_x</th>\n",
       "      <th>users_count_x</th>\n",
       "      <th>group_y</th>\n",
       "      <th>users_count_y</th>\n",
       "      <th>group</th>\n",
       "      <th>users_count</th>\n",
       "    </tr>\n",
       "  </thead>\n",
       "  <tbody>\n",
       "    <tr>\n",
       "      <th>0</th>\n",
       "      <td>catalog</td>\n",
       "      <td>246</td>\n",
       "      <td>2450</td>\n",
       "      <td>247</td>\n",
       "      <td>2476</td>\n",
       "      <td>248</td>\n",
       "      <td>2493</td>\n",
       "    </tr>\n",
       "    <tr>\n",
       "      <th>1</th>\n",
       "      <td>offer</td>\n",
       "      <td>246</td>\n",
       "      <td>1542</td>\n",
       "      <td>247</td>\n",
       "      <td>1520</td>\n",
       "      <td>248</td>\n",
       "      <td>1531</td>\n",
       "    </tr>\n",
       "    <tr>\n",
       "      <th>2</th>\n",
       "      <td>basket</td>\n",
       "      <td>246</td>\n",
       "      <td>1266</td>\n",
       "      <td>247</td>\n",
       "      <td>1238</td>\n",
       "      <td>248</td>\n",
       "      <td>1230</td>\n",
       "    </tr>\n",
       "    <tr>\n",
       "      <th>3</th>\n",
       "      <td>payment</td>\n",
       "      <td>246</td>\n",
       "      <td>1200</td>\n",
       "      <td>247</td>\n",
       "      <td>1158</td>\n",
       "      <td>248</td>\n",
       "      <td>1181</td>\n",
       "    </tr>\n",
       "  </tbody>\n",
       "</table>\n",
       "</div>"
      ],
      "text/plain": [
       "  event_name  group_x  users_count_x  group_y  users_count_y  group  \\\n",
       "0    catalog      246           2450      247           2476    248   \n",
       "1      offer      246           1542      247           1520    248   \n",
       "2     basket      246           1266      247           1238    248   \n",
       "3    payment      246           1200      247           1158    248   \n",
       "\n",
       "   users_count  \n",
       "0         2493  \n",
       "1         1531  \n",
       "2         1230  \n",
       "3         1181  "
      ]
     },
     "execution_count": 41,
     "metadata": {},
     "output_type": "execute_result"
    }
   ],
   "source": [
    "event_name_count_users_AAB = event_name_count_users_AAB_246.merge(event_name_count_users_AAB_247, on=['event_name'], how='inner')\n",
    "event_name_count_users_AAB = event_name_count_users_AAB.merge(event_name_count_users_AAB_248, on=['event_name'], how='inner')\n",
    "event_name_count_users_AAB"
   ]
  },
  {
   "cell_type": "markdown",
   "metadata": {},
   "source": [
    "Удалим ненужные для анализа столбцы, оставшиеся переименуем. Таким образом мы получим таблицу, удобную для дальнейшей работы. Выведем ее на экран. "
   ]
  },
  {
   "cell_type": "code",
   "execution_count": 42,
   "metadata": {},
   "outputs": [
    {
     "data": {
      "text/html": [
       "<div>\n",
       "<style scoped>\n",
       "    .dataframe tbody tr th:only-of-type {\n",
       "        vertical-align: middle;\n",
       "    }\n",
       "\n",
       "    .dataframe tbody tr th {\n",
       "        vertical-align: top;\n",
       "    }\n",
       "\n",
       "    .dataframe thead th {\n",
       "        text-align: right;\n",
       "    }\n",
       "</style>\n",
       "<table border=\"1\" class=\"dataframe\">\n",
       "  <thead>\n",
       "    <tr style=\"text-align: right;\">\n",
       "      <th></th>\n",
       "      <th>event_name</th>\n",
       "      <th>users_count_246</th>\n",
       "      <th>users_count_247</th>\n",
       "      <th>users_count_248</th>\n",
       "    </tr>\n",
       "  </thead>\n",
       "  <tbody>\n",
       "    <tr>\n",
       "      <th>0</th>\n",
       "      <td>catalog</td>\n",
       "      <td>2450</td>\n",
       "      <td>2476</td>\n",
       "      <td>2493</td>\n",
       "    </tr>\n",
       "    <tr>\n",
       "      <th>1</th>\n",
       "      <td>offer</td>\n",
       "      <td>1542</td>\n",
       "      <td>1520</td>\n",
       "      <td>1531</td>\n",
       "    </tr>\n",
       "    <tr>\n",
       "      <th>2</th>\n",
       "      <td>basket</td>\n",
       "      <td>1266</td>\n",
       "      <td>1238</td>\n",
       "      <td>1230</td>\n",
       "    </tr>\n",
       "    <tr>\n",
       "      <th>3</th>\n",
       "      <td>payment</td>\n",
       "      <td>1200</td>\n",
       "      <td>1158</td>\n",
       "      <td>1181</td>\n",
       "    </tr>\n",
       "  </tbody>\n",
       "</table>\n",
       "</div>"
      ],
      "text/plain": [
       "  event_name  users_count_246  users_count_247  users_count_248\n",
       "0    catalog             2450             2476             2493\n",
       "1      offer             1542             1520             1531\n",
       "2     basket             1266             1238             1230\n",
       "3    payment             1200             1158             1181"
      ]
     },
     "execution_count": 42,
     "metadata": {},
     "output_type": "execute_result"
    }
   ],
   "source": [
    "event_name_count_users_AAB = event_name_count_users_AAB.drop(columns = ['group_x', 'group_y', 'group'])\n",
    "event_name_count_users_AAB.columns = ['event_name', 'users_count_246', 'users_count_247', 'users_count_248']\n",
    "event_name_count_users_AAB"
   ]
  },
  {
   "cell_type": "markdown",
   "metadata": {},
   "source": [
    "А также сформируем и добавим в таблицу строку, которая будет содержать данные об общем количестве уникальных пользователей в каждой группе. "
   ]
  },
  {
   "cell_type": "code",
   "execution_count": 43,
   "metadata": {},
   "outputs": [
    {
     "data": {
      "text/html": [
       "<div>\n",
       "<style scoped>\n",
       "    .dataframe tbody tr th:only-of-type {\n",
       "        vertical-align: middle;\n",
       "    }\n",
       "\n",
       "    .dataframe tbody tr th {\n",
       "        vertical-align: top;\n",
       "    }\n",
       "\n",
       "    .dataframe thead th {\n",
       "        text-align: right;\n",
       "    }\n",
       "</style>\n",
       "<table border=\"1\" class=\"dataframe\">\n",
       "  <thead>\n",
       "    <tr style=\"text-align: right;\">\n",
       "      <th></th>\n",
       "      <th>group</th>\n",
       "      <th>count</th>\n",
       "    </tr>\n",
       "  </thead>\n",
       "  <tbody>\n",
       "    <tr>\n",
       "      <th>0</th>\n",
       "      <td>246</td>\n",
       "      <td>2484</td>\n",
       "    </tr>\n",
       "    <tr>\n",
       "      <th>1</th>\n",
       "      <td>247</td>\n",
       "      <td>2513</td>\n",
       "    </tr>\n",
       "    <tr>\n",
       "      <th>2</th>\n",
       "      <td>248</td>\n",
       "      <td>2537</td>\n",
       "    </tr>\n",
       "  </tbody>\n",
       "</table>\n",
       "</div>"
      ],
      "text/plain": [
       "   group  count\n",
       "0    246   2484\n",
       "1    247   2513\n",
       "2    248   2537"
      ]
     },
     "execution_count": 43,
     "metadata": {},
     "output_type": "execute_result"
    }
   ],
   "source": [
    "df_groups_count_users = groups_count_users.to_frame().reset_index() \n",
    "df_groups_count_users.columns = ['group', 'count']\n",
    "df_groups_count_users"
   ]
  },
  {
   "cell_type": "code",
   "execution_count": 44,
   "metadata": {},
   "outputs": [
    {
     "data": {
      "text/html": [
       "<div>\n",
       "<style scoped>\n",
       "    .dataframe tbody tr th:only-of-type {\n",
       "        vertical-align: middle;\n",
       "    }\n",
       "\n",
       "    .dataframe tbody tr th {\n",
       "        vertical-align: top;\n",
       "    }\n",
       "\n",
       "    .dataframe thead th {\n",
       "        text-align: right;\n",
       "    }\n",
       "</style>\n",
       "<table border=\"1\" class=\"dataframe\">\n",
       "  <thead>\n",
       "    <tr style=\"text-align: right;\">\n",
       "      <th></th>\n",
       "      <th>event_name</th>\n",
       "      <th>users_count_246</th>\n",
       "      <th>users_count_247</th>\n",
       "      <th>users_count_248</th>\n",
       "    </tr>\n",
       "  </thead>\n",
       "  <tbody>\n",
       "    <tr>\n",
       "      <th>0</th>\n",
       "      <td>total</td>\n",
       "      <td>2484</td>\n",
       "      <td>2513</td>\n",
       "      <td>2537</td>\n",
       "    </tr>\n",
       "    <tr>\n",
       "      <th>1</th>\n",
       "      <td>catalog</td>\n",
       "      <td>2450</td>\n",
       "      <td>2476</td>\n",
       "      <td>2493</td>\n",
       "    </tr>\n",
       "    <tr>\n",
       "      <th>2</th>\n",
       "      <td>offer</td>\n",
       "      <td>1542</td>\n",
       "      <td>1520</td>\n",
       "      <td>1531</td>\n",
       "    </tr>\n",
       "    <tr>\n",
       "      <th>3</th>\n",
       "      <td>basket</td>\n",
       "      <td>1266</td>\n",
       "      <td>1238</td>\n",
       "      <td>1230</td>\n",
       "    </tr>\n",
       "    <tr>\n",
       "      <th>4</th>\n",
       "      <td>payment</td>\n",
       "      <td>1200</td>\n",
       "      <td>1158</td>\n",
       "      <td>1181</td>\n",
       "    </tr>\n",
       "  </tbody>\n",
       "</table>\n",
       "</div>"
      ],
      "text/plain": [
       "  event_name  users_count_246  users_count_247  users_count_248\n",
       "0      total             2484             2513             2537\n",
       "1    catalog             2450             2476             2493\n",
       "2      offer             1542             1520             1531\n",
       "3     basket             1266             1238             1230\n",
       "4    payment             1200             1158             1181"
      ]
     },
     "execution_count": 44,
     "metadata": {},
     "output_type": "execute_result"
    }
   ],
   "source": [
    "users_groups_total = {'event_name':'total','users_count_246': df_groups_count_users.loc[0, 'count'],'users_count_247':df_groups_count_users.loc[1, 'count'], 'users_count_248':df_groups_count_users.loc[2, 'count']}\n",
    "event_name_count_users_AAB = event_name_count_users_AAB.append(users_groups_total, ignore_index=True)\n",
    "\n",
    "event_name_count_users_AAB = event_name_count_users_AAB.sort_values(by='users_count_246', ascending=False)\n",
    "\n",
    "event_name_count_users_AAB = event_name_count_users_AAB.reset_index()\n",
    "\n",
    "event_name_count_users_AAB = event_name_count_users_AAB.drop(columns = ['index'])\n",
    "\n",
    "event_name_count_users_AAB"
   ]
  },
  {
   "cell_type": "markdown",
   "metadata": {},
   "source": [
    "#### Напишем функцию для проверки гипотезы о равенстве долей. "
   ]
  },
  {
   "cell_type": "code",
   "execution_count": 45,
   "metadata": {},
   "outputs": [],
   "source": [
    "def differences (base_stage, next_stage):\n",
    "# пропорция успехов в первой группе:\n",
    "    p1 = next_stage[0]/base_stage[0]\n",
    "\n",
    "# пропорция успехов во второй группе:\n",
    "    p2 = next_stage[1]/base_stage[1]\n",
    "\n",
    "# пропорция успехов в комбинированном датасете:\n",
    "    p_combined = (next_stage[0] + next_stage[1]) / (base_stage[0] + base_stage[1])\n",
    "\n",
    "# разница пропорций в датасетах\n",
    "    difference = p1 - p2\n",
    "\n",
    "# считаем статистику в ст.отклонениях стандартного нормального распределения\n",
    "    z_value = difference / mth.sqrt(p_combined * (1 - p_combined) * (1/base_stage[0] + 1/base_stage[1]))\n",
    "\n",
    "# задаем стандартное нормальное распределение (среднее 0, ст.отклонение 1)\n",
    "    distr = st.norm(0, 1)\n",
    "\n",
    "# считаем статистику в ст.отклонениях стандартного нормального распределения\n",
    "    z_value = difference / mth.sqrt(p_combined * (1 - p_combined) * (1 / base_stage[0] + 1 / base_stage[1]))\n",
    "\n",
    "# задаем стандартное нормальное распределение (среднее 0, ст.отклонение 1)\n",
    "    distr = st.norm(0, 1)\n",
    "\n",
    "    p_value = (1 - distr.cdf(abs(z_value))) * 2\n",
    "\n",
    "    print('p-значение: ', p_value) \n",
    "    if p_value < alpha:\n",
    "        print('Отвергаем нулевую гипотезу: между долями есть значимая разница')\n",
    "    else:\n",
    "        print('Не получилось отвергнуть нулевую гипотезу, нет оснований считать доли разными')"
   ]
  },
  {
   "cell_type": "markdown",
   "metadata": {},
   "source": [
    "#### Проверим гипотезы о равенстве долей пользователей на каждом из этапов воронки для двух контрольных групп (246 и 247, т.е. А/А-тест)."
   ]
  },
  {
   "cell_type": "markdown",
   "metadata": {},
   "source": [
    "Сформулируем нулевую и альтернативную гипотезы. \n",
    "\n",
    "Нулевая гипотеза: доли пользователей, выполнивших событие catalog, в группах 246 и 247 не различаются. \n",
    "\n",
    "Альтернативная гипотеза: доли пользователей, выполнивших событие catalog, в группах 246 и 247 различаются. \n",
    "\n",
    "Проверять гипотезу будем на уровне значимости 0,01. "
   ]
  },
  {
   "cell_type": "markdown",
   "metadata": {},
   "source": [
    "Применим функцию для проверки гипотезы о равенстве долей пользователей, выполнивших событие catalog, в группах 246 и 247. "
   ]
  },
  {
   "cell_type": "code",
   "execution_count": 46,
   "metadata": {},
   "outputs": [
    {
     "name": "stdout",
     "output_type": "stream",
     "text": [
      "p-значение:  0.7570597232046099\n",
      "Не получилось отвергнуть нулевую гипотезу, нет оснований считать доли разными\n"
     ]
    }
   ],
   "source": [
    "alpha = .01 # критический уровень статистической значимости\n",
    "base_stage = np.array(event_name_count_users_AAB.loc[0, ['users_count_246', 'users_count_247']])\n",
    "next_stage = np.array(event_name_count_users_AAB.loc[1, ['users_count_246', 'users_count_247']])\n",
    "\n",
    "differences (base_stage, next_stage)"
   ]
  },
  {
   "cell_type": "markdown",
   "metadata": {},
   "source": [
    "Сформулируем нулевую и альтернативную гипотезы. \n",
    "\n",
    "Нулевая гипотеза: доли пользователей, выполнивших событие offer, в группах 246 и 247 не различаются. \n",
    "\n",
    "Альтернативная гипотеза: доли пользователей, выполнивших событие offer, в группах 246 и 247 различаются. \n",
    "\n",
    "Проверять гипотезу будем на уровне значимости 0,01. "
   ]
  },
  {
   "cell_type": "markdown",
   "metadata": {},
   "source": [
    "Применим функцию для проверки гипотезы о равнестве долей пользователей, выполнивших событие offer, в группах 246 и 247. "
   ]
  },
  {
   "cell_type": "code",
   "execution_count": 47,
   "metadata": {
    "scrolled": true
   },
   "outputs": [
    {
     "name": "stdout",
     "output_type": "stream",
     "text": [
      "p-значение:  0.2480954578522181\n",
      "Не получилось отвергнуть нулевую гипотезу, нет оснований считать доли разными\n"
     ]
    }
   ],
   "source": [
    "base_stage = np.array(event_name_count_users_AAB.loc[0, ['users_count_246', 'users_count_247']])\n",
    "next_stage = np.array(event_name_count_users_AAB.loc[2, ['users_count_246', 'users_count_247']])\n",
    "differences (base_stage, next_stage)"
   ]
  },
  {
   "cell_type": "markdown",
   "metadata": {},
   "source": [
    "Сформулируем нулевую и альтернативную гипотезы. \n",
    "\n",
    "Нулевая гипотеза: доли пользователей, выполнивших событие basket, в группах 246 и 247 не различаются. \n",
    "\n",
    "Альтернативная гипотеза: доли пользователей, выполнивших событие basket, в группах 246 и 247 различаются. \n",
    "\n",
    "Проверять гипотезу будем на уровне значимости 0,01. "
   ]
  },
  {
   "cell_type": "markdown",
   "metadata": {},
   "source": [
    "Применим функцию для проверки гипотезы о равнестве долей пользователей, выполнивших событие basket, в группах 246 и 247. "
   ]
  },
  {
   "cell_type": "code",
   "execution_count": 48,
   "metadata": {},
   "outputs": [
    {
     "name": "stdout",
     "output_type": "stream",
     "text": [
      "p-значение:  0.22883372237997213\n",
      "Не получилось отвергнуть нулевую гипотезу, нет оснований считать доли разными\n"
     ]
    }
   ],
   "source": [
    "alpha = .05 # критический уровень статистической значимости\n",
    "base_stage = np.array(event_name_count_users_AAB.loc[0, ['users_count_246', 'users_count_247']])\n",
    "next_stage = np.array(event_name_count_users_AAB.loc[3, ['users_count_246', 'users_count_247']])\n",
    "\n",
    "differences (base_stage, next_stage)"
   ]
  },
  {
   "cell_type": "markdown",
   "metadata": {},
   "source": [
    "Сформулируем нулевую и альтернативную гипотезы. \n",
    "\n",
    "Нулевая гипотеза: доли пользователей, выполнивших событие payment, в группах 246 и 247 не различаются. \n",
    "\n",
    "Альтернативная гипотеза: доли пользователей, выполнивших событие payment, в группах 246 и 247 различаются. \n",
    "\n",
    "Проверять гипотезу будем на уровне значимости 0,01. "
   ]
  },
  {
   "cell_type": "markdown",
   "metadata": {},
   "source": [
    "Применим функцию для проверки гипотезы о равнестве долей пользователей, выполнивших событие payment, в группах 246 и 247. "
   ]
  },
  {
   "cell_type": "code",
   "execution_count": 49,
   "metadata": {},
   "outputs": [
    {
     "name": "stdout",
     "output_type": "stream",
     "text": [
      "p-значение:  0.11456679313141849\n",
      "Не получилось отвергнуть нулевую гипотезу, нет оснований считать доли разными\n"
     ]
    }
   ],
   "source": [
    "alpha = .05 # критический уровень статистической значимости\n",
    "base_stage = np.array(event_name_count_users_AAB.loc[0, ['users_count_246', 'users_count_247']])\n",
    "next_stage = np.array(event_name_count_users_AAB.loc[4, ['users_count_246', 'users_count_247']])\n",
    "\n",
    "differences (base_stage, next_stage)"
   ]
  },
  {
   "cell_type": "markdown",
   "metadata": {},
   "source": [
    "<b>Вывод:</b> поскольку на всех этапах воронки значимых различий в долях между группами 246 и 247, принявшими участие в А/А-тесте, не выявлено, постольку можно говорить о том, что разбиение на группы работает корректно. "
   ]
  },
  {
   "cell_type": "markdown",
   "metadata": {},
   "source": [
    "Теперь сравним результаты в группе 248 (экспериментальная группа В) с каждой из контрольных групп в отдельности (246 и 247) по каждому событию. "
   ]
  },
  {
   "cell_type": "markdown",
   "metadata": {},
   "source": [
    "#### Сравнение результатов в группах 246 и 248. "
   ]
  },
  {
   "cell_type": "markdown",
   "metadata": {},
   "source": [
    "Сформулируем нулевую и альтернативную гипотезы. \n",
    "\n",
    "Нулевая гипотеза: доли пользователей, выполнивших событие catalog, в группах 246 и 248 не различаются. \n",
    "\n",
    "Альтернативная гипотеза: доли пользователей, выполнивших событие catalog, в группах 246 и 248 различаются. \n",
    "\n",
    "Проверять гипотезу будем на уровне значимости 0,01. "
   ]
  },
  {
   "cell_type": "code",
   "execution_count": 50,
   "metadata": {},
   "outputs": [
    {
     "name": "stdout",
     "output_type": "stream",
     "text": [
      "p-значение:  0.2949721933554552\n",
      "Не получилось отвергнуть нулевую гипотезу, нет оснований считать доли разными\n"
     ]
    }
   ],
   "source": [
    "base_stage = np.array(event_name_count_users_AAB.loc[0, ['users_count_246', 'users_count_248']])\n",
    "next_stage = np.array(event_name_count_users_AAB.loc[1, ['users_count_246', 'users_count_248']])\n",
    "\n",
    "differences (base_stage, next_stage)"
   ]
  },
  {
   "cell_type": "markdown",
   "metadata": {},
   "source": [
    "Сформулируем нулевую и альтернативную гипотезы. \n",
    "\n",
    "Нулевая гипотеза: доли пользователей, выполнивших событие offer, в группах 246 и 248 не различаются. \n",
    "\n",
    "Альтернативная гипотеза: доли пользователей, выполнивших событие offer, в группах 246 и 248 различаются. \n",
    "\n",
    "Проверять гипотезу будем на уровне значимости 0,01. "
   ]
  },
  {
   "cell_type": "code",
   "execution_count": 51,
   "metadata": {},
   "outputs": [
    {
     "name": "stdout",
     "output_type": "stream",
     "text": [
      "p-значение:  0.20836205402738917\n",
      "Не получилось отвергнуть нулевую гипотезу, нет оснований считать доли разными\n"
     ]
    }
   ],
   "source": [
    "base_stage = np.array(event_name_count_users_AAB.loc[0, ['users_count_246', 'users_count_248']])\n",
    "next_stage = np.array(event_name_count_users_AAB.loc[2, ['users_count_246', 'users_count_248']])\n",
    "\n",
    "differences (base_stage, next_stage)"
   ]
  },
  {
   "cell_type": "markdown",
   "metadata": {},
   "source": [
    "Сформулируем нулевую и альтернативную гипотезы. \n",
    "\n",
    "Нулевая гипотеза: доли пользователей, выполнивших событие basket, в группах 246 и 248 не различаются. \n",
    "\n",
    "Альтернативная гипотеза: доли пользователей, выполнивших событие basket, в группах 246 и 248 различаются. \n",
    "\n",
    "Проверять гипотезу будем на уровне значимости 0,01. "
   ]
  },
  {
   "cell_type": "code",
   "execution_count": 52,
   "metadata": {
    "scrolled": true
   },
   "outputs": [
    {
     "name": "stdout",
     "output_type": "stream",
     "text": [
      "p-значение:  0.07842923237520116\n",
      "Не получилось отвергнуть нулевую гипотезу, нет оснований считать доли разными\n"
     ]
    }
   ],
   "source": [
    "base_stage = np.array(event_name_count_users_AAB.loc[0, ['users_count_246', 'users_count_248']])\n",
    "next_stage = np.array(event_name_count_users_AAB.loc[3, ['users_count_246', 'users_count_248']])\n",
    "\n",
    "differences (base_stage, next_stage)"
   ]
  },
  {
   "cell_type": "markdown",
   "metadata": {},
   "source": [
    "Сформулируем нулевую и альтернативную гипотезы. \n",
    "\n",
    "Нулевая гипотеза: доли пользователей, выполнивших событие payment, в группах 246 и 248 не различаются. \n",
    "\n",
    "Альтернативная гипотеза: доли пользователей, выполнивших событие payment, в группах 246 и 248 различаются. \n",
    "\n",
    "Проверять гипотезу будем на уровне значимости 0,01. "
   ]
  },
  {
   "cell_type": "code",
   "execution_count": 53,
   "metadata": {},
   "outputs": [
    {
     "name": "stdout",
     "output_type": "stream",
     "text": [
      "p-значение:  0.2122553275697796\n",
      "Не получилось отвергнуть нулевую гипотезу, нет оснований считать доли разными\n"
     ]
    }
   ],
   "source": [
    "base_stage = np.array(event_name_count_users_AAB.loc[0, ['users_count_246', 'users_count_248']])\n",
    "next_stage = np.array(event_name_count_users_AAB.loc[4, ['users_count_246', 'users_count_248']])\n",
    "\n",
    "differences (base_stage, next_stage)"
   ]
  },
  {
   "cell_type": "markdown",
   "metadata": {},
   "source": [
    "<b>Вывод:</b> ни по одному из событий не выявлены значимые различия между группами 246 и 248. "
   ]
  },
  {
   "cell_type": "markdown",
   "metadata": {},
   "source": [
    "#### Сравнение результатов в группах 247 и 248. "
   ]
  },
  {
   "cell_type": "markdown",
   "metadata": {},
   "source": [
    "Сформулируем нулевую и альтернативную гипотезы. \n",
    "\n",
    "Нулевая гипотеза: доли пользователей, выполнивших событие catalog, в группах 247 и 248 не различаются. \n",
    "\n",
    "Альтернативная гипотеза: доли пользователей, выполнивших событие catalog, в группах 247 и 248 различаются. \n",
    "\n",
    "Проверять гипотезу будем на уровне значимости 0,01. "
   ]
  },
  {
   "cell_type": "code",
   "execution_count": 54,
   "metadata": {},
   "outputs": [
    {
     "name": "stdout",
     "output_type": "stream",
     "text": [
      "p-значение:  0.4587053616621515\n",
      "Не получилось отвергнуть нулевую гипотезу, нет оснований считать доли разными\n"
     ]
    }
   ],
   "source": [
    "base_stage = np.array(event_name_count_users_AAB.loc[0, ['users_count_247', 'users_count_248']])\n",
    "next_stage = np.array(event_name_count_users_AAB.loc[1, ['users_count_247', 'users_count_248']])\n",
    "\n",
    "differences (base_stage, next_stage)"
   ]
  },
  {
   "cell_type": "markdown",
   "metadata": {},
   "source": [
    "Сформулируем нулевую и альтернативную гипотезы. \n",
    "\n",
    "Нулевая гипотеза: доли пользователей, выполнивших событие catalog, в группах 247 и 248 не различаются. \n",
    "\n",
    "Альтернативная гипотеза: доли пользователей, выполнивших событие catalog, в группах 247 и 248 различаются. \n",
    "\n",
    "Проверять гипотезу будем на уровне значимости 0,01. "
   ]
  },
  {
   "cell_type": "code",
   "execution_count": 55,
   "metadata": {},
   "outputs": [
    {
     "name": "stdout",
     "output_type": "stream",
     "text": [
      "p-значение:  0.9197817830592261\n",
      "Не получилось отвергнуть нулевую гипотезу, нет оснований считать доли разными\n"
     ]
    }
   ],
   "source": [
    "base_stage = np.array(event_name_count_users_AAB.loc[0, ['users_count_247', 'users_count_248']])\n",
    "next_stage = np.array(event_name_count_users_AAB.loc[2, ['users_count_247', 'users_count_248']])\n",
    "\n",
    "differences (base_stage, next_stage)"
   ]
  },
  {
   "cell_type": "markdown",
   "metadata": {},
   "source": [
    "Сформулируем нулевую и альтернативную гипотезы. \n",
    "\n",
    "Нулевая гипотеза: доли пользователей, выполнивших событие offer, в группах 247 и 248 не различаются. \n",
    "\n",
    "Альтернативная гипотеза: доли пользователей, выполнивших событие offer, в группах 247 и 248 различаются. \n",
    "\n",
    "Проверять гипотезу будем на уровне значимости 0,01. "
   ]
  },
  {
   "cell_type": "code",
   "execution_count": 56,
   "metadata": {},
   "outputs": [
    {
     "name": "stdout",
     "output_type": "stream",
     "text": [
      "p-значение:  0.5786197879539783\n",
      "Не получилось отвергнуть нулевую гипотезу, нет оснований считать доли разными\n"
     ]
    }
   ],
   "source": [
    "base_stage = np.array(event_name_count_users_AAB.loc[0, ['users_count_247', 'users_count_248']])\n",
    "next_stage = np.array(event_name_count_users_AAB.loc[3, ['users_count_247', 'users_count_248']])\n",
    "\n",
    "differences (base_stage, next_stage)"
   ]
  },
  {
   "cell_type": "markdown",
   "metadata": {},
   "source": [
    "Сформулируем нулевую и альтернативную гипотезы. \n",
    "\n",
    "Нулевая гипотеза: доли пользователей, выполнивших событие payment, в группах 247 и 248 не различаются. \n",
    "\n",
    "Альтернативная гипотеза: доли пользователей, выполнивших событие payment, в группах 247 и 248 различаются. \n",
    "\n",
    "Проверять гипотезу будем на уровне значимости 0,01. "
   ]
  },
  {
   "cell_type": "code",
   "execution_count": 57,
   "metadata": {},
   "outputs": [
    {
     "name": "stdout",
     "output_type": "stream",
     "text": [
      "p-значение:  0.7373415053803964\n",
      "Не получилось отвергнуть нулевую гипотезу, нет оснований считать доли разными\n"
     ]
    }
   ],
   "source": [
    "base_stage = np.array(event_name_count_users_AAB.loc[0, ['users_count_247', 'users_count_248']])\n",
    "next_stage = np.array(event_name_count_users_AAB.loc[4, ['users_count_247', 'users_count_248']])\n",
    "\n",
    "differences (base_stage, next_stage)"
   ]
  },
  {
   "cell_type": "markdown",
   "metadata": {},
   "source": [
    "Рассчитаем значения долей для наступления события paymentscreensuccessful в группах 247 и 248."
   ]
  },
  {
   "cell_type": "code",
   "execution_count": 58,
   "metadata": {},
   "outputs": [
    {
     "name": "stdout",
     "output_type": "stream",
     "text": [
      "Доля пользователей, совершивших событие paymentscreensuccessful, в группе 247: 0.81\n",
      "Доля пользователей, совершивших событие paymentscreensuccessful, в группе 248: 0.8\n"
     ]
    }
   ],
   "source": [
    "paymentscreensuccessful_share_247 = event_name_count_users_AAB.loc[3, 'users_count_247'] / event_name_count_users_AAB.loc[2, 'users_count_247']\n",
    "paymentscreensuccessful_share_248 = event_name_count_users_AAB.loc[3, 'users_count_248'] / event_name_count_users_AAB.loc[2, 'users_count_248']\n",
    "print('Доля пользователей, совершивших событие paymentscreensuccessful, в группе 247:', round(paymentscreensuccessful_share_247, 2))\n",
    "print('Доля пользователей, совершивших событие paymentscreensuccessful, в группе 248:', round(paymentscreensuccessful_share_248, 2))"
   ]
  },
  {
   "cell_type": "markdown",
   "metadata": {},
   "source": [
    "<b>Вывод:</b> не выявлены значимые различия между группами 247 и 248."
   ]
  },
  {
   "cell_type": "markdown",
   "metadata": {},
   "source": [
    "#### Сравнение результатов в группах 246+247 и 248. "
   ]
  },
  {
   "cell_type": "code",
   "execution_count": 59,
   "metadata": {
    "scrolled": true
   },
   "outputs": [
    {
     "data": {
      "text/html": [
       "<div>\n",
       "<style scoped>\n",
       "    .dataframe tbody tr th:only-of-type {\n",
       "        vertical-align: middle;\n",
       "    }\n",
       "\n",
       "    .dataframe tbody tr th {\n",
       "        vertical-align: top;\n",
       "    }\n",
       "\n",
       "    .dataframe thead th {\n",
       "        text-align: right;\n",
       "    }\n",
       "</style>\n",
       "<table border=\"1\" class=\"dataframe\">\n",
       "  <thead>\n",
       "    <tr style=\"text-align: right;\">\n",
       "      <th></th>\n",
       "      <th>event_name</th>\n",
       "      <th>users_count_246</th>\n",
       "      <th>users_count_247</th>\n",
       "      <th>users_count_248</th>\n",
       "      <th>users_count_246+247</th>\n",
       "    </tr>\n",
       "  </thead>\n",
       "  <tbody>\n",
       "    <tr>\n",
       "      <th>0</th>\n",
       "      <td>total</td>\n",
       "      <td>2484</td>\n",
       "      <td>2513</td>\n",
       "      <td>2537</td>\n",
       "      <td>4997</td>\n",
       "    </tr>\n",
       "    <tr>\n",
       "      <th>1</th>\n",
       "      <td>catalog</td>\n",
       "      <td>2450</td>\n",
       "      <td>2476</td>\n",
       "      <td>2493</td>\n",
       "      <td>4926</td>\n",
       "    </tr>\n",
       "    <tr>\n",
       "      <th>2</th>\n",
       "      <td>offer</td>\n",
       "      <td>1542</td>\n",
       "      <td>1520</td>\n",
       "      <td>1531</td>\n",
       "      <td>3062</td>\n",
       "    </tr>\n",
       "    <tr>\n",
       "      <th>3</th>\n",
       "      <td>basket</td>\n",
       "      <td>1266</td>\n",
       "      <td>1238</td>\n",
       "      <td>1230</td>\n",
       "      <td>2504</td>\n",
       "    </tr>\n",
       "    <tr>\n",
       "      <th>4</th>\n",
       "      <td>payment</td>\n",
       "      <td>1200</td>\n",
       "      <td>1158</td>\n",
       "      <td>1181</td>\n",
       "      <td>2358</td>\n",
       "    </tr>\n",
       "  </tbody>\n",
       "</table>\n",
       "</div>"
      ],
      "text/plain": [
       "  event_name  users_count_246  users_count_247  users_count_248  \\\n",
       "0      total             2484             2513             2537   \n",
       "1    catalog             2450             2476             2493   \n",
       "2      offer             1542             1520             1531   \n",
       "3     basket             1266             1238             1230   \n",
       "4    payment             1200             1158             1181   \n",
       "\n",
       "   users_count_246+247  \n",
       "0                 4997  \n",
       "1                 4926  \n",
       "2                 3062  \n",
       "3                 2504  \n",
       "4                 2358  "
      ]
     },
     "execution_count": 59,
     "metadata": {},
     "output_type": "execute_result"
    }
   ],
   "source": [
    "event_name_count_users_AAB['users_count_246+247'] = event_name_count_users_AAB['users_count_246'] + event_name_count_users_AAB['users_count_247']\n",
    "event_name_count_users_AAB"
   ]
  },
  {
   "cell_type": "markdown",
   "metadata": {},
   "source": [
    "Сформулируем нулевую и альтернативную гипотезы. \n",
    "\n",
    "Нулевая гипотеза: доли пользователей, выполнивших событие catalog, в группах 246+247 и 248 не различаются. \n",
    "\n",
    "Альтернативная гипотеза: доли пользователей, выполнивших событие catalog, в группах 246+247 и 248 различаются. \n",
    "\n",
    "Проверять гипотезу будем на уровне значимости 0,01."
   ]
  },
  {
   "cell_type": "code",
   "execution_count": 60,
   "metadata": {},
   "outputs": [
    {
     "name": "stdout",
     "output_type": "stream",
     "text": [
      "p-значение:  0.29424526837179577\n",
      "Не получилось отвергнуть нулевую гипотезу, нет оснований считать доли разными\n"
     ]
    }
   ],
   "source": [
    "base_stage = np.array(event_name_count_users_AAB.loc[0, ['users_count_246+247', 'users_count_248']])\n",
    "next_stage = np.array(event_name_count_users_AAB.loc[1, ['users_count_246+247', 'users_count_248']])\n",
    "\n",
    "differences (base_stage, next_stage)"
   ]
  },
  {
   "cell_type": "markdown",
   "metadata": {},
   "source": [
    "Сформулируем нулевую и альтернативную гипотезы. \n",
    "\n",
    "Нулевая гипотеза: доли пользователей, выполнивших событие offer, в группах 246+247 и 248 не различаются. \n",
    "\n",
    "Альтернативная гипотеза: доли пользователей, выполнивших событие offer, в группах 246+247 и 248 различаются. \n",
    "\n",
    "Проверять гипотезу будем на уровне значимости 0,01. "
   ]
  },
  {
   "cell_type": "code",
   "execution_count": 61,
   "metadata": {},
   "outputs": [
    {
     "name": "stdout",
     "output_type": "stream",
     "text": [
      "p-значение:  0.43425549655188256\n",
      "Не получилось отвергнуть нулевую гипотезу, нет оснований считать доли разными\n"
     ]
    }
   ],
   "source": [
    "base_stage = np.array(event_name_count_users_AAB.loc[0, ['users_count_246+247', 'users_count_248']])\n",
    "next_stage = np.array(event_name_count_users_AAB.loc[2, ['users_count_246+247', 'users_count_248']])\n",
    "\n",
    "differences (base_stage, next_stage)"
   ]
  },
  {
   "cell_type": "markdown",
   "metadata": {},
   "source": [
    "Сформулируем нулевую и альтернативную гипотезы. \n",
    "\n",
    "Нулевая гипотеза: доли пользователей, выполнивших событие basket, в группах 246+247 и 248 не различаются. \n",
    "\n",
    "Альтернативная гипотеза: доли пользователей, выполнивших событие basket, в группах 246+247 и 248 различаются. \n",
    "\n",
    "Проверять гипотезу будем на уровне значимости 0,01. "
   ]
  },
  {
   "cell_type": "code",
   "execution_count": 62,
   "metadata": {},
   "outputs": [
    {
     "name": "stdout",
     "output_type": "stream",
     "text": [
      "p-значение:  0.18175875284404386\n",
      "Не получилось отвергнуть нулевую гипотезу, нет оснований считать доли разными\n"
     ]
    }
   ],
   "source": [
    "base_stage = np.array(event_name_count_users_AAB.loc[0, ['users_count_246+247', 'users_count_248']])\n",
    "next_stage = np.array(event_name_count_users_AAB.loc[3, ['users_count_246+247', 'users_count_248']])\n",
    "\n",
    "differences (base_stage, next_stage)"
   ]
  },
  {
   "cell_type": "markdown",
   "metadata": {},
   "source": [
    "Сформулируем нулевую и альтернативную гипотезы. \n",
    "\n",
    "Нулевая гипотеза: доли пользователей, выполнивших событие payment, в группах 246+247 и 248 не различаются. \n",
    "\n",
    "Альтернативная гипотеза: доли пользователей, выполнивших событие payment, в группах 246+247 и 248 различаются. \n",
    "\n",
    "Проверять гипотезу будем на уровне значимости 0,01. "
   ]
  },
  {
   "cell_type": "code",
   "execution_count": 63,
   "metadata": {},
   "outputs": [
    {
     "name": "stdout",
     "output_type": "stream",
     "text": [
      "p-значение:  0.6004294282308704\n",
      "Не получилось отвергнуть нулевую гипотезу, нет оснований считать доли разными\n"
     ]
    }
   ],
   "source": [
    "base_stage = np.array(event_name_count_users_AAB.loc[0, ['users_count_246+247', 'users_count_248']])\n",
    "next_stage = np.array(event_name_count_users_AAB.loc[4, ['users_count_246+247', 'users_count_248']])\n",
    "\n",
    "differences (base_stage, next_stage)"
   ]
  },
  {
   "cell_type": "markdown",
   "metadata": {},
   "source": [
    "<b>Вывод:</b> не выявлены значимые различия между группами 246+247 (общая контрольная группа) и 248 (экспериментальная группа). "
   ]
  },
  {
   "cell_type": "markdown",
   "metadata": {},
   "source": [
    "<b>Общий вывод по проекту:</b> изменение шрифтов в приложении не приводит к изменению продаж. Следовательно, шрифты можно менять, а можно не менять - это не повлияет на продажи. "
   ]
  }
 ],
 "metadata": {
  "ExecuteTimeLog": [
   {
    "duration": 481,
    "start_time": "2022-06-06T09:04:43.894Z"
   },
   {
    "duration": 949,
    "start_time": "2022-06-06T09:04:44.377Z"
   },
   {
    "duration": 16,
    "start_time": "2022-06-06T09:04:48.522Z"
   },
   {
    "duration": 185,
    "start_time": "2022-06-06T09:07:09.872Z"
   },
   {
    "duration": 11,
    "start_time": "2022-06-06T09:07:12.098Z"
   },
   {
    "duration": 22,
    "start_time": "2022-06-06T09:07:38.647Z"
   },
   {
    "duration": 10,
    "start_time": "2022-06-06T09:07:49.339Z"
   },
   {
    "duration": 638,
    "start_time": "2022-06-06T09:09:18.903Z"
   },
   {
    "duration": 10,
    "start_time": "2022-06-06T09:09:29.446Z"
   },
   {
    "duration": 12,
    "start_time": "2022-06-06T09:09:37.679Z"
   },
   {
    "duration": 3,
    "start_time": "2022-06-06T09:09:46.150Z"
   },
   {
    "duration": 168,
    "start_time": "2022-06-06T09:09:46.154Z"
   },
   {
    "duration": 10,
    "start_time": "2022-06-06T09:09:46.323Z"
   },
   {
    "duration": 13,
    "start_time": "2022-06-06T09:09:46.334Z"
   },
   {
    "duration": 10,
    "start_time": "2022-06-06T09:09:46.349Z"
   },
   {
    "duration": 2,
    "start_time": "2022-06-06T09:11:59.852Z"
   },
   {
    "duration": 167,
    "start_time": "2022-06-06T09:11:59.856Z"
   },
   {
    "duration": 10,
    "start_time": "2022-06-06T09:12:00.025Z"
   },
   {
    "duration": 8,
    "start_time": "2022-06-06T09:12:00.041Z"
   },
   {
    "duration": 16,
    "start_time": "2022-06-06T09:12:00.051Z"
   },
   {
    "duration": 3,
    "start_time": "2022-06-06T09:13:49.767Z"
   },
   {
    "duration": 162,
    "start_time": "2022-06-06T09:13:49.771Z"
   },
   {
    "duration": 14,
    "start_time": "2022-06-06T09:13:49.935Z"
   },
   {
    "duration": 129,
    "start_time": "2022-06-06T09:13:49.950Z"
   },
   {
    "duration": 0,
    "start_time": "2022-06-06T09:13:50.081Z"
   },
   {
    "duration": 3,
    "start_time": "2022-06-06T09:14:00.252Z"
   },
   {
    "duration": 180,
    "start_time": "2022-06-06T09:14:00.256Z"
   },
   {
    "duration": 12,
    "start_time": "2022-06-06T09:14:00.437Z"
   },
   {
    "duration": 187,
    "start_time": "2022-06-06T09:14:00.450Z"
   },
   {
    "duration": 0,
    "start_time": "2022-06-06T09:14:00.638Z"
   },
   {
    "duration": 3,
    "start_time": "2022-06-06T09:14:08.733Z"
   },
   {
    "duration": 169,
    "start_time": "2022-06-06T09:14:08.737Z"
   },
   {
    "duration": 10,
    "start_time": "2022-06-06T09:14:08.907Z"
   },
   {
    "duration": 21,
    "start_time": "2022-06-06T09:14:08.919Z"
   },
   {
    "duration": 50,
    "start_time": "2022-06-06T09:14:08.942Z"
   },
   {
    "duration": 3,
    "start_time": "2022-06-06T09:15:59.527Z"
   },
   {
    "duration": 161,
    "start_time": "2022-06-06T09:15:59.534Z"
   },
   {
    "duration": 10,
    "start_time": "2022-06-06T09:15:59.697Z"
   },
   {
    "duration": 23,
    "start_time": "2022-06-06T09:15:59.709Z"
   },
   {
    "duration": 10,
    "start_time": "2022-06-06T09:16:57.232Z"
   },
   {
    "duration": 5,
    "start_time": "2022-06-06T09:17:00.576Z"
   },
   {
    "duration": 1434,
    "start_time": "2022-06-06T09:26:59.452Z"
   },
   {
    "duration": 506,
    "start_time": "2022-06-06T09:27:24.984Z"
   },
   {
    "duration": 494,
    "start_time": "2022-06-06T09:28:05.376Z"
   },
   {
    "duration": 664,
    "start_time": "2022-06-06T09:31:01.544Z"
   },
   {
    "duration": 544,
    "start_time": "2022-06-06T09:37:52.855Z"
   },
   {
    "duration": 704,
    "start_time": "2022-06-06T09:38:32.319Z"
   },
   {
    "duration": 20,
    "start_time": "2022-06-06T09:39:27.395Z"
   },
   {
    "duration": 4,
    "start_time": "2022-06-06T09:39:36.178Z"
   },
   {
    "duration": 171,
    "start_time": "2022-06-06T09:39:36.184Z"
   },
   {
    "duration": 10,
    "start_time": "2022-06-06T09:39:36.357Z"
   },
   {
    "duration": 21,
    "start_time": "2022-06-06T09:39:36.369Z"
   },
   {
    "duration": 7,
    "start_time": "2022-06-06T09:39:36.392Z"
   },
   {
    "duration": 13,
    "start_time": "2022-06-06T09:39:36.401Z"
   },
   {
    "duration": 33,
    "start_time": "2022-06-06T09:39:36.442Z"
   },
   {
    "duration": 110,
    "start_time": "2022-06-06T09:39:50.670Z"
   },
   {
    "duration": 18,
    "start_time": "2022-06-06T09:39:58.572Z"
   },
   {
    "duration": 475,
    "start_time": "2022-06-06T09:42:55.719Z"
   },
   {
    "duration": 167,
    "start_time": "2022-06-06T09:42:56.196Z"
   },
   {
    "duration": 18,
    "start_time": "2022-06-06T09:42:56.365Z"
   },
   {
    "duration": 24,
    "start_time": "2022-06-06T09:42:56.385Z"
   },
   {
    "duration": 205,
    "start_time": "2022-06-06T09:42:56.412Z"
   },
   {
    "duration": 33,
    "start_time": "2022-06-06T09:43:56.425Z"
   },
   {
    "duration": 105,
    "start_time": "2022-06-06T09:44:40.983Z"
   },
   {
    "duration": 24,
    "start_time": "2022-06-06T09:52:16.197Z"
   },
   {
    "duration": 14,
    "start_time": "2022-06-06T09:52:31.452Z"
   },
   {
    "duration": 3,
    "start_time": "2022-06-06T09:52:35.628Z"
   },
   {
    "duration": 172,
    "start_time": "2022-06-06T09:52:35.633Z"
   },
   {
    "duration": 10,
    "start_time": "2022-06-06T09:52:35.807Z"
   },
   {
    "duration": 29,
    "start_time": "2022-06-06T09:52:35.818Z"
   },
   {
    "duration": 102,
    "start_time": "2022-06-06T09:52:35.849Z"
   },
   {
    "duration": 25,
    "start_time": "2022-06-06T09:52:35.952Z"
   },
   {
    "duration": 14,
    "start_time": "2022-06-06T09:52:35.978Z"
   },
   {
    "duration": 206,
    "start_time": "2022-06-06T09:52:35.994Z"
   },
   {
    "duration": 14,
    "start_time": "2022-06-06T09:52:47.758Z"
   },
   {
    "duration": 14,
    "start_time": "2022-06-06T09:52:49.433Z"
   },
   {
    "duration": 3,
    "start_time": "2022-06-06T09:53:54.732Z"
   },
   {
    "duration": 14,
    "start_time": "2022-06-06T09:53:59.554Z"
   },
   {
    "duration": 3,
    "start_time": "2022-06-06T09:54:27.758Z"
   },
   {
    "duration": 219,
    "start_time": "2022-06-06T09:54:27.763Z"
   },
   {
    "duration": 13,
    "start_time": "2022-06-06T09:54:27.985Z"
   },
   {
    "duration": 44,
    "start_time": "2022-06-06T09:54:28.000Z"
   },
   {
    "duration": 103,
    "start_time": "2022-06-06T09:54:28.047Z"
   },
   {
    "duration": 18,
    "start_time": "2022-06-06T09:54:28.152Z"
   },
   {
    "duration": 14,
    "start_time": "2022-06-06T09:54:28.171Z"
   },
   {
    "duration": 17,
    "start_time": "2022-06-06T09:54:28.187Z"
   },
   {
    "duration": 49,
    "start_time": "2022-06-06T09:54:28.206Z"
   },
   {
    "duration": 8,
    "start_time": "2022-06-06T09:54:28.257Z"
   },
   {
    "duration": 3,
    "start_time": "2022-06-06T09:55:54.144Z"
   },
   {
    "duration": 169,
    "start_time": "2022-06-06T09:55:54.149Z"
   },
   {
    "duration": 11,
    "start_time": "2022-06-06T09:55:54.320Z"
   },
   {
    "duration": 21,
    "start_time": "2022-06-06T09:55:54.341Z"
   },
   {
    "duration": 108,
    "start_time": "2022-06-06T09:55:54.364Z"
   },
   {
    "duration": 16,
    "start_time": "2022-06-06T09:55:54.474Z"
   },
   {
    "duration": 14,
    "start_time": "2022-06-06T09:55:54.491Z"
   },
   {
    "duration": 34,
    "start_time": "2022-06-06T09:55:54.507Z"
   },
   {
    "duration": 34,
    "start_time": "2022-06-06T09:55:54.543Z"
   },
   {
    "duration": 106,
    "start_time": "2022-06-06T09:55:54.578Z"
   },
   {
    "duration": 3,
    "start_time": "2022-06-06T09:56:01.751Z"
   },
   {
    "duration": 228,
    "start_time": "2022-06-06T09:56:01.756Z"
   },
   {
    "duration": 16,
    "start_time": "2022-06-06T09:56:01.986Z"
   },
   {
    "duration": 45,
    "start_time": "2022-06-06T09:56:02.004Z"
   },
   {
    "duration": 128,
    "start_time": "2022-06-06T09:56:02.052Z"
   },
   {
    "duration": 19,
    "start_time": "2022-06-06T09:56:02.182Z"
   },
   {
    "duration": 29,
    "start_time": "2022-06-06T09:56:02.204Z"
   },
   {
    "duration": 53,
    "start_time": "2022-06-06T09:56:02.235Z"
   },
   {
    "duration": 78,
    "start_time": "2022-06-06T09:56:02.290Z"
   },
   {
    "duration": 99,
    "start_time": "2022-06-06T09:56:02.370Z"
   },
   {
    "duration": 101,
    "start_time": "2022-06-06T09:56:50.863Z"
   },
   {
    "duration": 86,
    "start_time": "2022-06-06T09:57:07.293Z"
   },
   {
    "duration": 3,
    "start_time": "2022-06-06T09:57:56.813Z"
   },
   {
    "duration": 209,
    "start_time": "2022-06-06T09:57:56.818Z"
   },
   {
    "duration": 11,
    "start_time": "2022-06-06T09:57:57.031Z"
   },
   {
    "duration": 27,
    "start_time": "2022-06-06T09:57:57.044Z"
   },
   {
    "duration": 102,
    "start_time": "2022-06-06T09:57:57.073Z"
   },
   {
    "duration": 15,
    "start_time": "2022-06-06T09:57:57.177Z"
   },
   {
    "duration": 12,
    "start_time": "2022-06-06T09:57:57.194Z"
   },
   {
    "duration": 34,
    "start_time": "2022-06-06T09:57:57.208Z"
   },
   {
    "duration": 40,
    "start_time": "2022-06-06T09:57:57.245Z"
   },
   {
    "duration": 100,
    "start_time": "2022-06-06T09:57:57.287Z"
   },
   {
    "duration": 4,
    "start_time": "2022-06-06T09:57:57.390Z"
   },
   {
    "duration": 107,
    "start_time": "2022-06-06T09:57:57.396Z"
   },
   {
    "duration": 14,
    "start_time": "2022-06-06T09:58:08.317Z"
   },
   {
    "duration": 74,
    "start_time": "2022-06-06T09:58:49.466Z"
   },
   {
    "duration": 89,
    "start_time": "2022-06-06T09:58:59.672Z"
   },
   {
    "duration": 121,
    "start_time": "2022-06-06T09:59:05.410Z"
   },
   {
    "duration": 13,
    "start_time": "2022-06-06T10:01:54.365Z"
   },
   {
    "duration": 33,
    "start_time": "2022-06-06T10:43:05.948Z"
   },
   {
    "duration": 7,
    "start_time": "2022-06-06T10:43:42.060Z"
   },
   {
    "duration": 5,
    "start_time": "2022-06-06T10:44:01.388Z"
   },
   {
    "duration": 3,
    "start_time": "2022-06-06T10:44:22.675Z"
   },
   {
    "duration": 36,
    "start_time": "2022-06-06T10:45:06.087Z"
   },
   {
    "duration": 10,
    "start_time": "2022-06-06T10:45:32.257Z"
   },
   {
    "duration": 7,
    "start_time": "2022-06-06T10:47:26.288Z"
   },
   {
    "duration": 46,
    "start_time": "2022-06-06T10:47:41.422Z"
   },
   {
    "duration": 9,
    "start_time": "2022-06-06T10:48:22.474Z"
   },
   {
    "duration": 18,
    "start_time": "2022-06-06T10:59:51.528Z"
   },
   {
    "duration": 29,
    "start_time": "2022-06-06T11:00:12.490Z"
   },
   {
    "duration": 28,
    "start_time": "2022-06-06T11:00:28.671Z"
   },
   {
    "duration": 30,
    "start_time": "2022-06-06T11:01:17.676Z"
   },
   {
    "duration": 75,
    "start_time": "2022-06-06T11:08:33.439Z"
   },
   {
    "duration": 813,
    "start_time": "2022-06-06T11:09:05.903Z"
   },
   {
    "duration": 169,
    "start_time": "2022-06-06T11:09:06.718Z"
   },
   {
    "duration": 10,
    "start_time": "2022-06-06T11:09:06.889Z"
   },
   {
    "duration": 19,
    "start_time": "2022-06-06T11:09:06.901Z"
   },
   {
    "duration": 105,
    "start_time": "2022-06-06T11:09:06.922Z"
   },
   {
    "duration": 25,
    "start_time": "2022-06-06T11:09:07.029Z"
   },
   {
    "duration": 3,
    "start_time": "2022-06-06T11:09:07.056Z"
   },
   {
    "duration": 27,
    "start_time": "2022-06-06T11:09:07.060Z"
   },
   {
    "duration": 100,
    "start_time": "2022-06-06T11:09:07.089Z"
   },
   {
    "duration": 3,
    "start_time": "2022-06-06T11:09:07.191Z"
   },
   {
    "duration": 94,
    "start_time": "2022-06-06T11:09:07.196Z"
   },
   {
    "duration": 78,
    "start_time": "2022-06-06T11:09:07.292Z"
   },
   {
    "duration": 13,
    "start_time": "2022-06-06T11:09:07.372Z"
   },
   {
    "duration": 5,
    "start_time": "2022-06-06T11:09:07.386Z"
   },
   {
    "duration": 11,
    "start_time": "2022-06-06T11:09:07.393Z"
   },
   {
    "duration": 7,
    "start_time": "2022-06-06T11:09:07.405Z"
   },
   {
    "duration": 51,
    "start_time": "2022-06-06T11:09:07.414Z"
   },
   {
    "duration": 44,
    "start_time": "2022-06-06T11:09:07.467Z"
   },
   {
    "duration": 3,
    "start_time": "2022-06-06T11:09:17.624Z"
   },
   {
    "duration": 161,
    "start_time": "2022-06-06T11:09:17.629Z"
   },
   {
    "duration": 13,
    "start_time": "2022-06-06T11:09:17.792Z"
   },
   {
    "duration": 36,
    "start_time": "2022-06-06T11:09:17.807Z"
   },
   {
    "duration": 118,
    "start_time": "2022-06-06T11:09:17.846Z"
   },
   {
    "duration": 21,
    "start_time": "2022-06-06T11:09:17.966Z"
   },
   {
    "duration": 4,
    "start_time": "2022-06-06T11:09:17.989Z"
   },
   {
    "duration": 57,
    "start_time": "2022-06-06T11:09:17.995Z"
   },
   {
    "duration": 88,
    "start_time": "2022-06-06T11:09:18.054Z"
   },
   {
    "duration": 4,
    "start_time": "2022-06-06T11:09:18.143Z"
   },
   {
    "duration": 96,
    "start_time": "2022-06-06T11:09:18.148Z"
   },
   {
    "duration": 70,
    "start_time": "2022-06-06T11:09:18.246Z"
   },
   {
    "duration": 28,
    "start_time": "2022-06-06T11:09:18.318Z"
   },
   {
    "duration": 6,
    "start_time": "2022-06-06T11:09:18.348Z"
   },
   {
    "duration": 12,
    "start_time": "2022-06-06T11:09:18.355Z"
   },
   {
    "duration": 7,
    "start_time": "2022-06-06T11:09:18.369Z"
   },
   {
    "duration": 30,
    "start_time": "2022-06-06T11:09:18.377Z"
   },
   {
    "duration": 1310,
    "start_time": "2022-06-06T11:09:18.409Z"
   },
   {
    "duration": 1288,
    "start_time": "2022-06-06T11:10:29.144Z"
   },
   {
    "duration": 1393,
    "start_time": "2022-06-06T11:17:07.617Z"
   },
   {
    "duration": 1365,
    "start_time": "2022-06-06T11:18:31.107Z"
   },
   {
    "duration": 147,
    "start_time": "2022-06-06T11:18:42.730Z"
   },
   {
    "duration": 143,
    "start_time": "2022-06-06T11:18:46.769Z"
   },
   {
    "duration": 1325,
    "start_time": "2022-06-06T11:19:08.073Z"
   },
   {
    "duration": 1155,
    "start_time": "2022-06-06T11:21:10.835Z"
   },
   {
    "duration": 167,
    "start_time": "2022-06-06T11:21:11.992Z"
   },
   {
    "duration": 14,
    "start_time": "2022-06-06T11:21:12.161Z"
   },
   {
    "duration": 21,
    "start_time": "2022-06-06T11:21:12.178Z"
   },
   {
    "duration": 117,
    "start_time": "2022-06-06T11:21:12.200Z"
   },
   {
    "duration": 33,
    "start_time": "2022-06-06T11:21:12.318Z"
   },
   {
    "duration": 3,
    "start_time": "2022-06-06T11:21:12.353Z"
   },
   {
    "duration": 28,
    "start_time": "2022-06-06T11:21:12.357Z"
   },
   {
    "duration": 99,
    "start_time": "2022-06-06T11:21:12.386Z"
   },
   {
    "duration": 4,
    "start_time": "2022-06-06T11:21:12.487Z"
   },
   {
    "duration": 102,
    "start_time": "2022-06-06T11:21:12.493Z"
   },
   {
    "duration": 83,
    "start_time": "2022-06-06T11:21:12.598Z"
   },
   {
    "duration": 13,
    "start_time": "2022-06-06T11:21:12.683Z"
   },
   {
    "duration": 6,
    "start_time": "2022-06-06T11:21:12.697Z"
   },
   {
    "duration": 10,
    "start_time": "2022-06-06T11:21:12.704Z"
   },
   {
    "duration": 29,
    "start_time": "2022-06-06T11:21:12.715Z"
   },
   {
    "duration": 29,
    "start_time": "2022-06-06T11:21:12.745Z"
   },
   {
    "duration": 1190,
    "start_time": "2022-06-06T11:22:33.955Z"
   },
   {
    "duration": 179,
    "start_time": "2022-06-06T11:22:35.148Z"
   },
   {
    "duration": 12,
    "start_time": "2022-06-06T11:22:35.329Z"
   },
   {
    "duration": 20,
    "start_time": "2022-06-06T11:22:35.343Z"
   },
   {
    "duration": 113,
    "start_time": "2022-06-06T11:22:35.365Z"
   },
   {
    "duration": 31,
    "start_time": "2022-06-06T11:22:35.480Z"
   },
   {
    "duration": 3,
    "start_time": "2022-06-06T11:22:35.513Z"
   },
   {
    "duration": 43,
    "start_time": "2022-06-06T11:22:35.518Z"
   },
   {
    "duration": 99,
    "start_time": "2022-06-06T11:22:35.562Z"
   },
   {
    "duration": 4,
    "start_time": "2022-06-06T11:22:35.662Z"
   },
   {
    "duration": 114,
    "start_time": "2022-06-06T11:22:35.667Z"
   },
   {
    "duration": 88,
    "start_time": "2022-06-06T11:22:35.782Z"
   },
   {
    "duration": 15,
    "start_time": "2022-06-06T11:22:35.871Z"
   },
   {
    "duration": 5,
    "start_time": "2022-06-06T11:22:35.890Z"
   },
   {
    "duration": 10,
    "start_time": "2022-06-06T11:22:35.897Z"
   },
   {
    "duration": 32,
    "start_time": "2022-06-06T11:22:35.909Z"
   },
   {
    "duration": 31,
    "start_time": "2022-06-06T11:22:35.943Z"
   },
   {
    "duration": 1383,
    "start_time": "2022-06-06T11:23:11.613Z"
   },
   {
    "duration": 1306,
    "start_time": "2022-06-06T11:23:19.777Z"
   },
   {
    "duration": 1191,
    "start_time": "2022-06-06T11:24:11.193Z"
   },
   {
    "duration": 172,
    "start_time": "2022-06-06T11:24:12.386Z"
   },
   {
    "duration": 19,
    "start_time": "2022-06-06T11:24:12.560Z"
   },
   {
    "duration": 22,
    "start_time": "2022-06-06T11:24:12.582Z"
   },
   {
    "duration": 126,
    "start_time": "2022-06-06T11:24:12.606Z"
   },
   {
    "duration": 34,
    "start_time": "2022-06-06T11:24:12.733Z"
   },
   {
    "duration": 3,
    "start_time": "2022-06-06T11:24:12.769Z"
   },
   {
    "duration": 31,
    "start_time": "2022-06-06T11:24:12.774Z"
   },
   {
    "duration": 110,
    "start_time": "2022-06-06T11:24:12.807Z"
   },
   {
    "duration": 3,
    "start_time": "2022-06-06T11:24:12.920Z"
   },
   {
    "duration": 106,
    "start_time": "2022-06-06T11:24:12.924Z"
   },
   {
    "duration": 78,
    "start_time": "2022-06-06T11:24:13.032Z"
   },
   {
    "duration": 13,
    "start_time": "2022-06-06T11:24:13.113Z"
   },
   {
    "duration": 14,
    "start_time": "2022-06-06T11:24:13.128Z"
   },
   {
    "duration": 11,
    "start_time": "2022-06-06T11:24:13.144Z"
   },
   {
    "duration": 7,
    "start_time": "2022-06-06T11:24:13.158Z"
   },
   {
    "duration": 30,
    "start_time": "2022-06-06T11:24:13.167Z"
   },
   {
    "duration": 352,
    "start_time": "2022-06-06T11:24:13.199Z"
   },
   {
    "duration": 29,
    "start_time": "2022-06-06T11:24:59.335Z"
   },
   {
    "duration": 3,
    "start_time": "2022-06-06T11:26:11.748Z"
   },
   {
    "duration": 168,
    "start_time": "2022-06-06T11:26:11.755Z"
   },
   {
    "duration": 10,
    "start_time": "2022-06-06T11:26:11.925Z"
   },
   {
    "duration": 26,
    "start_time": "2022-06-06T11:26:11.942Z"
   },
   {
    "duration": 113,
    "start_time": "2022-06-06T11:26:11.971Z"
   },
   {
    "duration": 21,
    "start_time": "2022-06-06T11:26:12.086Z"
   },
   {
    "duration": 3,
    "start_time": "2022-06-06T11:26:12.109Z"
   },
   {
    "duration": 60,
    "start_time": "2022-06-06T11:26:12.114Z"
   },
   {
    "duration": 91,
    "start_time": "2022-06-06T11:26:12.176Z"
   },
   {
    "duration": 3,
    "start_time": "2022-06-06T11:26:12.269Z"
   },
   {
    "duration": 140,
    "start_time": "2022-06-06T11:26:12.275Z"
   },
   {
    "duration": 76,
    "start_time": "2022-06-06T11:26:12.417Z"
   },
   {
    "duration": 14,
    "start_time": "2022-06-06T11:26:12.494Z"
   },
   {
    "duration": 6,
    "start_time": "2022-06-06T11:26:12.510Z"
   },
   {
    "duration": 28,
    "start_time": "2022-06-06T11:26:12.518Z"
   },
   {
    "duration": 8,
    "start_time": "2022-06-06T11:26:12.548Z"
   },
   {
    "duration": 32,
    "start_time": "2022-06-06T11:26:12.557Z"
   },
   {
    "duration": 69,
    "start_time": "2022-06-06T11:26:12.591Z"
   },
   {
    "duration": 1443,
    "start_time": "2022-06-06T11:26:12.662Z"
   },
   {
    "duration": 45,
    "start_time": "2022-06-06T11:27:48.782Z"
   },
   {
    "duration": 3,
    "start_time": "2022-06-06T11:27:53.589Z"
   },
   {
    "duration": 179,
    "start_time": "2022-06-06T11:27:53.595Z"
   },
   {
    "duration": 10,
    "start_time": "2022-06-06T11:27:53.776Z"
   },
   {
    "duration": 33,
    "start_time": "2022-06-06T11:27:53.789Z"
   },
   {
    "duration": 94,
    "start_time": "2022-06-06T11:27:53.825Z"
   },
   {
    "duration": 27,
    "start_time": "2022-06-06T11:27:53.920Z"
   },
   {
    "duration": 3,
    "start_time": "2022-06-06T11:27:53.949Z"
   },
   {
    "duration": 30,
    "start_time": "2022-06-06T11:27:53.954Z"
   },
   {
    "duration": 100,
    "start_time": "2022-06-06T11:27:53.986Z"
   },
   {
    "duration": 4,
    "start_time": "2022-06-06T11:27:54.088Z"
   },
   {
    "duration": 106,
    "start_time": "2022-06-06T11:27:54.094Z"
   },
   {
    "duration": 78,
    "start_time": "2022-06-06T11:27:54.202Z"
   },
   {
    "duration": 13,
    "start_time": "2022-06-06T11:27:54.281Z"
   },
   {
    "duration": 7,
    "start_time": "2022-06-06T11:27:54.295Z"
   },
   {
    "duration": 9,
    "start_time": "2022-06-06T11:27:54.304Z"
   },
   {
    "duration": 28,
    "start_time": "2022-06-06T11:27:54.315Z"
   },
   {
    "duration": 31,
    "start_time": "2022-06-06T11:27:54.345Z"
   },
   {
    "duration": 30,
    "start_time": "2022-06-06T11:27:54.377Z"
   },
   {
    "duration": 64,
    "start_time": "2022-06-06T11:27:54.409Z"
   },
   {
    "duration": 1401,
    "start_time": "2022-06-06T11:27:54.475Z"
   },
   {
    "duration": 21,
    "start_time": "2022-06-06T11:28:06.216Z"
   },
   {
    "duration": 1438,
    "start_time": "2022-06-06T11:28:12.149Z"
   },
   {
    "duration": 1295,
    "start_time": "2022-06-06T11:31:50.773Z"
   },
   {
    "duration": 3,
    "start_time": "2022-06-06T11:32:13.665Z"
   },
   {
    "duration": 172,
    "start_time": "2022-06-06T11:32:13.670Z"
   },
   {
    "duration": 10,
    "start_time": "2022-06-06T11:32:13.844Z"
   },
   {
    "duration": 22,
    "start_time": "2022-06-06T11:32:13.856Z"
   },
   {
    "duration": 108,
    "start_time": "2022-06-06T11:32:13.880Z"
   },
   {
    "duration": 23,
    "start_time": "2022-06-06T11:32:13.990Z"
   },
   {
    "duration": 4,
    "start_time": "2022-06-06T11:32:14.015Z"
   },
   {
    "duration": 42,
    "start_time": "2022-06-06T11:32:14.020Z"
   },
   {
    "duration": 101,
    "start_time": "2022-06-06T11:32:14.065Z"
   },
   {
    "duration": 4,
    "start_time": "2022-06-06T11:32:14.168Z"
   },
   {
    "duration": 105,
    "start_time": "2022-06-06T11:32:14.174Z"
   },
   {
    "duration": 75,
    "start_time": "2022-06-06T11:32:14.280Z"
   },
   {
    "duration": 13,
    "start_time": "2022-06-06T11:32:14.358Z"
   },
   {
    "duration": 7,
    "start_time": "2022-06-06T11:32:14.372Z"
   },
   {
    "duration": 10,
    "start_time": "2022-06-06T11:32:14.380Z"
   },
   {
    "duration": 9,
    "start_time": "2022-06-06T11:32:14.392Z"
   },
   {
    "duration": 57,
    "start_time": "2022-06-06T11:32:14.402Z"
   },
   {
    "duration": 30,
    "start_time": "2022-06-06T11:32:14.461Z"
   },
   {
    "duration": 62,
    "start_time": "2022-06-06T11:32:14.493Z"
   },
   {
    "duration": 22,
    "start_time": "2022-06-06T11:32:14.557Z"
   },
   {
    "duration": 1214,
    "start_time": "2022-06-06T11:34:17.186Z"
   },
   {
    "duration": 171,
    "start_time": "2022-06-06T11:34:18.402Z"
   },
   {
    "duration": 13,
    "start_time": "2022-06-06T11:34:18.574Z"
   },
   {
    "duration": 20,
    "start_time": "2022-06-06T11:34:18.590Z"
   },
   {
    "duration": 115,
    "start_time": "2022-06-06T11:34:18.612Z"
   },
   {
    "duration": 33,
    "start_time": "2022-06-06T11:34:18.728Z"
   },
   {
    "duration": 3,
    "start_time": "2022-06-06T11:34:18.763Z"
   },
   {
    "duration": 26,
    "start_time": "2022-06-06T11:34:18.768Z"
   },
   {
    "duration": 108,
    "start_time": "2022-06-06T11:34:18.796Z"
   },
   {
    "duration": 4,
    "start_time": "2022-06-06T11:34:18.907Z"
   },
   {
    "duration": 111,
    "start_time": "2022-06-06T11:34:18.912Z"
   },
   {
    "duration": 80,
    "start_time": "2022-06-06T11:34:19.025Z"
   },
   {
    "duration": 14,
    "start_time": "2022-06-06T11:34:19.107Z"
   },
   {
    "duration": 5,
    "start_time": "2022-06-06T11:34:19.122Z"
   },
   {
    "duration": 19,
    "start_time": "2022-06-06T11:34:19.128Z"
   },
   {
    "duration": 9,
    "start_time": "2022-06-06T11:34:19.149Z"
   },
   {
    "duration": 30,
    "start_time": "2022-06-06T11:34:19.160Z"
   },
   {
    "duration": 55,
    "start_time": "2022-06-06T11:34:19.192Z"
   },
   {
    "duration": 46,
    "start_time": "2022-06-06T11:34:19.249Z"
   },
   {
    "duration": 21,
    "start_time": "2022-06-06T11:34:19.297Z"
   },
   {
    "duration": 1105,
    "start_time": "2022-06-06T11:36:03.888Z"
   },
   {
    "duration": 169,
    "start_time": "2022-06-06T11:36:04.995Z"
   },
   {
    "duration": 14,
    "start_time": "2022-06-06T11:36:05.165Z"
   },
   {
    "duration": 29,
    "start_time": "2022-06-06T11:36:05.181Z"
   },
   {
    "duration": 114,
    "start_time": "2022-06-06T11:36:05.212Z"
   },
   {
    "duration": 34,
    "start_time": "2022-06-06T11:36:05.327Z"
   },
   {
    "duration": 4,
    "start_time": "2022-06-06T11:36:05.363Z"
   },
   {
    "duration": 39,
    "start_time": "2022-06-06T11:36:05.369Z"
   },
   {
    "duration": 95,
    "start_time": "2022-06-06T11:36:05.410Z"
   },
   {
    "duration": 3,
    "start_time": "2022-06-06T11:36:05.508Z"
   },
   {
    "duration": 103,
    "start_time": "2022-06-06T11:36:05.513Z"
   },
   {
    "duration": 83,
    "start_time": "2022-06-06T11:36:05.617Z"
   },
   {
    "duration": 12,
    "start_time": "2022-06-06T11:36:05.702Z"
   },
   {
    "duration": 6,
    "start_time": "2022-06-06T11:36:05.716Z"
   },
   {
    "duration": 19,
    "start_time": "2022-06-06T11:36:05.723Z"
   },
   {
    "duration": 12,
    "start_time": "2022-06-06T11:36:05.744Z"
   },
   {
    "duration": 32,
    "start_time": "2022-06-06T11:36:05.758Z"
   },
   {
    "duration": 51,
    "start_time": "2022-06-06T11:36:05.791Z"
   },
   {
    "duration": 2,
    "start_time": "2022-06-06T11:36:05.844Z"
   },
   {
    "duration": 33,
    "start_time": "2022-06-06T11:36:05.847Z"
   },
   {
    "duration": 1140,
    "start_time": "2022-06-06T11:37:15.161Z"
   },
   {
    "duration": 176,
    "start_time": "2022-06-06T11:37:16.302Z"
   },
   {
    "duration": 15,
    "start_time": "2022-06-06T11:37:16.480Z"
   },
   {
    "duration": 44,
    "start_time": "2022-06-06T11:37:16.497Z"
   },
   {
    "duration": 111,
    "start_time": "2022-06-06T11:37:16.545Z"
   },
   {
    "duration": 28,
    "start_time": "2022-06-06T11:37:16.659Z"
   },
   {
    "duration": 3,
    "start_time": "2022-06-06T11:37:16.689Z"
   },
   {
    "duration": 48,
    "start_time": "2022-06-06T11:37:16.694Z"
   },
   {
    "duration": 98,
    "start_time": "2022-06-06T11:37:16.744Z"
   },
   {
    "duration": 3,
    "start_time": "2022-06-06T11:37:16.844Z"
   },
   {
    "duration": 106,
    "start_time": "2022-06-06T11:37:16.848Z"
   },
   {
    "duration": 87,
    "start_time": "2022-06-06T11:37:16.956Z"
   },
   {
    "duration": 13,
    "start_time": "2022-06-06T11:37:17.045Z"
   },
   {
    "duration": 4,
    "start_time": "2022-06-06T11:37:17.061Z"
   },
   {
    "duration": 10,
    "start_time": "2022-06-06T11:37:17.067Z"
   },
   {
    "duration": 7,
    "start_time": "2022-06-06T11:37:17.079Z"
   },
   {
    "duration": 61,
    "start_time": "2022-06-06T11:37:17.087Z"
   },
   {
    "duration": 28,
    "start_time": "2022-06-06T11:37:17.150Z"
   },
   {
    "duration": 67,
    "start_time": "2022-06-06T11:37:17.180Z"
   },
   {
    "duration": 22,
    "start_time": "2022-06-06T11:37:17.249Z"
   },
   {
    "duration": 1235,
    "start_time": "2022-06-06T11:39:22.124Z"
   },
   {
    "duration": 178,
    "start_time": "2022-06-06T11:39:23.361Z"
   },
   {
    "duration": 16,
    "start_time": "2022-06-06T11:39:23.541Z"
   },
   {
    "duration": 24,
    "start_time": "2022-06-06T11:39:23.558Z"
   },
   {
    "duration": 127,
    "start_time": "2022-06-06T11:39:23.585Z"
   },
   {
    "duration": 37,
    "start_time": "2022-06-06T11:39:23.714Z"
   },
   {
    "duration": 3,
    "start_time": "2022-06-06T11:39:23.753Z"
   },
   {
    "duration": 47,
    "start_time": "2022-06-06T11:39:23.758Z"
   },
   {
    "duration": 107,
    "start_time": "2022-06-06T11:39:23.807Z"
   },
   {
    "duration": 3,
    "start_time": "2022-06-06T11:39:23.916Z"
   },
   {
    "duration": 94,
    "start_time": "2022-06-06T11:39:23.941Z"
   },
   {
    "duration": 81,
    "start_time": "2022-06-06T11:39:24.041Z"
   },
   {
    "duration": 28,
    "start_time": "2022-06-06T11:39:24.123Z"
   },
   {
    "duration": 6,
    "start_time": "2022-06-06T11:39:24.154Z"
   },
   {
    "duration": 10,
    "start_time": "2022-06-06T11:39:24.162Z"
   },
   {
    "duration": 8,
    "start_time": "2022-06-06T11:39:24.174Z"
   },
   {
    "duration": 36,
    "start_time": "2022-06-06T11:39:24.184Z"
   },
   {
    "duration": 30,
    "start_time": "2022-06-06T11:39:24.242Z"
   },
   {
    "duration": 45,
    "start_time": "2022-06-06T11:39:24.274Z"
   },
   {
    "duration": 23,
    "start_time": "2022-06-06T11:39:24.341Z"
   },
   {
    "duration": 14,
    "start_time": "2022-06-06T11:39:31.416Z"
   },
   {
    "duration": 1137,
    "start_time": "2022-06-06T11:40:45.257Z"
   },
   {
    "duration": 183,
    "start_time": "2022-06-06T11:40:46.396Z"
   },
   {
    "duration": 16,
    "start_time": "2022-06-06T11:40:46.581Z"
   },
   {
    "duration": 25,
    "start_time": "2022-06-06T11:40:46.598Z"
   },
   {
    "duration": 108,
    "start_time": "2022-06-06T11:40:46.626Z"
   },
   {
    "duration": 33,
    "start_time": "2022-06-06T11:40:46.735Z"
   },
   {
    "duration": 3,
    "start_time": "2022-06-06T11:40:46.770Z"
   },
   {
    "duration": 31,
    "start_time": "2022-06-06T11:40:46.774Z"
   },
   {
    "duration": 109,
    "start_time": "2022-06-06T11:40:46.808Z"
   },
   {
    "duration": 3,
    "start_time": "2022-06-06T11:40:46.919Z"
   },
   {
    "duration": 94,
    "start_time": "2022-06-06T11:40:46.940Z"
   },
   {
    "duration": 79,
    "start_time": "2022-06-06T11:40:47.041Z"
   },
   {
    "duration": 23,
    "start_time": "2022-06-06T11:40:47.123Z"
   },
   {
    "duration": 4,
    "start_time": "2022-06-06T11:40:47.148Z"
   },
   {
    "duration": 16,
    "start_time": "2022-06-06T11:40:47.154Z"
   },
   {
    "duration": 25,
    "start_time": "2022-06-06T11:40:47.171Z"
   },
   {
    "duration": 30,
    "start_time": "2022-06-06T11:40:47.198Z"
   },
   {
    "duration": 36,
    "start_time": "2022-06-06T11:40:47.230Z"
   },
   {
    "duration": 55,
    "start_time": "2022-06-06T11:40:47.268Z"
   },
   {
    "duration": 32,
    "start_time": "2022-06-06T11:40:47.325Z"
   },
   {
    "duration": 24,
    "start_time": "2022-06-06T11:40:47.359Z"
   },
   {
    "duration": 1169,
    "start_time": "2022-06-06T11:42:39.125Z"
   },
   {
    "duration": 170,
    "start_time": "2022-06-06T11:42:40.296Z"
   },
   {
    "duration": 14,
    "start_time": "2022-06-06T11:42:40.467Z"
   },
   {
    "duration": 29,
    "start_time": "2022-06-06T11:42:40.483Z"
   },
   {
    "duration": 104,
    "start_time": "2022-06-06T11:42:40.514Z"
   },
   {
    "duration": 35,
    "start_time": "2022-06-06T11:42:40.621Z"
   },
   {
    "duration": 12,
    "start_time": "2022-06-06T11:42:40.657Z"
   },
   {
    "duration": 32,
    "start_time": "2022-06-06T11:42:40.670Z"
   },
   {
    "duration": 100,
    "start_time": "2022-06-06T11:42:40.704Z"
   },
   {
    "duration": 3,
    "start_time": "2022-06-06T11:42:40.806Z"
   },
   {
    "duration": 107,
    "start_time": "2022-06-06T11:42:40.811Z"
   },
   {
    "duration": 85,
    "start_time": "2022-06-06T11:42:40.919Z"
   },
   {
    "duration": 13,
    "start_time": "2022-06-06T11:42:41.006Z"
   },
   {
    "duration": 7,
    "start_time": "2022-06-06T11:42:41.021Z"
   },
   {
    "duration": 8,
    "start_time": "2022-06-06T11:42:41.041Z"
   },
   {
    "duration": 8,
    "start_time": "2022-06-06T11:42:41.050Z"
   },
   {
    "duration": 31,
    "start_time": "2022-06-06T11:42:41.059Z"
   },
   {
    "duration": 56,
    "start_time": "2022-06-06T11:42:41.091Z"
   },
   {
    "duration": 47,
    "start_time": "2022-06-06T11:42:41.149Z"
   },
   {
    "duration": 23,
    "start_time": "2022-06-06T11:42:41.198Z"
   },
   {
    "duration": 14,
    "start_time": "2022-06-06T11:42:41.242Z"
   },
   {
    "duration": 3,
    "start_time": "2022-06-06T11:42:41.258Z"
   },
   {
    "duration": 1244,
    "start_time": "2022-06-06T11:43:40.463Z"
   },
   {
    "duration": 177,
    "start_time": "2022-06-06T11:43:41.709Z"
   },
   {
    "duration": 15,
    "start_time": "2022-06-06T11:43:41.888Z"
   },
   {
    "duration": 40,
    "start_time": "2022-06-06T11:43:41.905Z"
   },
   {
    "duration": 113,
    "start_time": "2022-06-06T11:43:41.947Z"
   },
   {
    "duration": 29,
    "start_time": "2022-06-06T11:43:42.062Z"
   },
   {
    "duration": 16,
    "start_time": "2022-06-06T11:43:42.093Z"
   },
   {
    "duration": 60,
    "start_time": "2022-06-06T11:43:42.111Z"
   },
   {
    "duration": 122,
    "start_time": "2022-06-06T11:43:42.172Z"
   },
   {
    "duration": 3,
    "start_time": "2022-06-06T11:43:42.296Z"
   },
   {
    "duration": 116,
    "start_time": "2022-06-06T11:43:42.301Z"
   },
   {
    "duration": 83,
    "start_time": "2022-06-06T11:43:42.418Z"
   },
   {
    "duration": 14,
    "start_time": "2022-06-06T11:43:42.503Z"
   },
   {
    "duration": 43,
    "start_time": "2022-06-06T11:43:42.520Z"
   },
   {
    "duration": 43,
    "start_time": "2022-06-06T11:43:42.564Z"
   },
   {
    "duration": 25,
    "start_time": "2022-06-06T11:43:42.608Z"
   },
   {
    "duration": 48,
    "start_time": "2022-06-06T11:43:42.635Z"
   },
   {
    "duration": 66,
    "start_time": "2022-06-06T11:43:42.685Z"
   },
   {
    "duration": 63,
    "start_time": "2022-06-06T11:43:42.752Z"
   },
   {
    "duration": 48,
    "start_time": "2022-06-06T11:43:42.816Z"
   },
   {
    "duration": 31,
    "start_time": "2022-06-06T11:43:42.866Z"
   },
   {
    "duration": 40,
    "start_time": "2022-06-06T11:43:42.900Z"
   },
   {
    "duration": 1365,
    "start_time": "2022-06-06T11:43:42.942Z"
   },
   {
    "duration": 1259,
    "start_time": "2022-06-06T11:43:58.200Z"
   },
   {
    "duration": 1563,
    "start_time": "2022-06-06T11:44:12.592Z"
   },
   {
    "duration": 1391,
    "start_time": "2022-06-06T11:44:29.187Z"
   },
   {
    "duration": 1421,
    "start_time": "2022-06-06T11:44:37.499Z"
   },
   {
    "duration": 1154,
    "start_time": "2022-06-06T11:45:40.165Z"
   },
   {
    "duration": 196,
    "start_time": "2022-06-06T11:45:41.322Z"
   },
   {
    "duration": 24,
    "start_time": "2022-06-06T11:45:41.520Z"
   },
   {
    "duration": 34,
    "start_time": "2022-06-06T11:45:41.545Z"
   },
   {
    "duration": 130,
    "start_time": "2022-06-06T11:45:41.582Z"
   },
   {
    "duration": 39,
    "start_time": "2022-06-06T11:45:41.713Z"
   },
   {
    "duration": 4,
    "start_time": "2022-06-06T11:45:41.754Z"
   },
   {
    "duration": 42,
    "start_time": "2022-06-06T11:45:41.759Z"
   },
   {
    "duration": 104,
    "start_time": "2022-06-06T11:45:41.803Z"
   },
   {
    "duration": 4,
    "start_time": "2022-06-06T11:45:41.908Z"
   },
   {
    "duration": 107,
    "start_time": "2022-06-06T11:45:41.913Z"
   },
   {
    "duration": 80,
    "start_time": "2022-06-06T11:45:42.021Z"
   },
   {
    "duration": 13,
    "start_time": "2022-06-06T11:45:42.103Z"
   },
   {
    "duration": 23,
    "start_time": "2022-06-06T11:45:42.118Z"
   },
   {
    "duration": 13,
    "start_time": "2022-06-06T11:45:42.143Z"
   },
   {
    "duration": 7,
    "start_time": "2022-06-06T11:45:42.158Z"
   },
   {
    "duration": 31,
    "start_time": "2022-06-06T11:45:42.166Z"
   },
   {
    "duration": 51,
    "start_time": "2022-06-06T11:45:42.198Z"
   },
   {
    "duration": 44,
    "start_time": "2022-06-06T11:45:42.251Z"
   },
   {
    "duration": 21,
    "start_time": "2022-06-06T11:45:42.297Z"
   },
   {
    "duration": 31,
    "start_time": "2022-06-06T11:45:42.320Z"
   },
   {
    "duration": 3,
    "start_time": "2022-06-06T11:45:42.353Z"
   },
   {
    "duration": 1396,
    "start_time": "2022-06-06T11:45:42.357Z"
   },
   {
    "duration": 1226,
    "start_time": "2022-06-06T11:45:51.700Z"
   },
   {
    "duration": 13,
    "start_time": "2022-06-06T11:46:24.226Z"
   },
   {
    "duration": 1140,
    "start_time": "2022-06-06T11:46:39.569Z"
   },
   {
    "duration": 172,
    "start_time": "2022-06-06T11:46:40.711Z"
   },
   {
    "duration": 14,
    "start_time": "2022-06-06T11:46:40.885Z"
   },
   {
    "duration": 22,
    "start_time": "2022-06-06T11:46:40.901Z"
   },
   {
    "duration": 104,
    "start_time": "2022-06-06T11:46:40.942Z"
   },
   {
    "duration": 28,
    "start_time": "2022-06-06T11:46:41.048Z"
   },
   {
    "duration": 3,
    "start_time": "2022-06-06T11:46:41.078Z"
   },
   {
    "duration": 27,
    "start_time": "2022-06-06T11:46:41.082Z"
   },
   {
    "duration": 110,
    "start_time": "2022-06-06T11:46:41.110Z"
   },
   {
    "duration": 3,
    "start_time": "2022-06-06T11:46:41.223Z"
   },
   {
    "duration": 108,
    "start_time": "2022-06-06T11:46:41.227Z"
   },
   {
    "duration": 75,
    "start_time": "2022-06-06T11:46:41.341Z"
   },
   {
    "duration": 27,
    "start_time": "2022-06-06T11:46:41.418Z"
   },
   {
    "duration": 6,
    "start_time": "2022-06-06T11:46:41.447Z"
   },
   {
    "duration": 10,
    "start_time": "2022-06-06T11:46:41.454Z"
   },
   {
    "duration": 8,
    "start_time": "2022-06-06T11:46:41.465Z"
   },
   {
    "duration": 30,
    "start_time": "2022-06-06T11:46:41.474Z"
   },
   {
    "duration": 60,
    "start_time": "2022-06-06T11:46:41.506Z"
   },
   {
    "duration": 46,
    "start_time": "2022-06-06T11:46:41.567Z"
   },
   {
    "duration": 35,
    "start_time": "2022-06-06T11:46:41.614Z"
   },
   {
    "duration": 13,
    "start_time": "2022-06-06T11:46:41.650Z"
   },
   {
    "duration": 5,
    "start_time": "2022-06-06T11:46:41.664Z"
   },
   {
    "duration": 1397,
    "start_time": "2022-06-06T11:46:41.671Z"
   },
   {
    "duration": 1359,
    "start_time": "2022-06-06T11:46:55.814Z"
   },
   {
    "duration": 4,
    "start_time": "2022-06-06T11:47:23.369Z"
   },
   {
    "duration": 5,
    "start_time": "2022-06-06T11:47:51.801Z"
   },
   {
    "duration": 1562,
    "start_time": "2022-06-06T11:49:08.985Z"
   },
   {
    "duration": 1647,
    "start_time": "2022-06-06T11:49:20.861Z"
   },
   {
    "duration": 1671,
    "start_time": "2022-06-06T11:50:11.809Z"
   },
   {
    "duration": 1324,
    "start_time": "2022-06-06T11:50:22.941Z"
   },
   {
    "duration": 1427,
    "start_time": "2022-06-06T11:50:28.456Z"
   },
   {
    "duration": 3,
    "start_time": "2022-06-06T11:52:41.986Z"
   },
   {
    "duration": 182,
    "start_time": "2022-06-06T11:52:41.991Z"
   },
   {
    "duration": 10,
    "start_time": "2022-06-06T11:52:42.175Z"
   },
   {
    "duration": 25,
    "start_time": "2022-06-06T11:52:42.187Z"
   },
   {
    "duration": 101,
    "start_time": "2022-06-06T11:52:42.215Z"
   },
   {
    "duration": 31,
    "start_time": "2022-06-06T11:52:42.318Z"
   },
   {
    "duration": 3,
    "start_time": "2022-06-06T11:52:42.351Z"
   },
   {
    "duration": 28,
    "start_time": "2022-06-06T11:52:42.357Z"
   },
   {
    "duration": 107,
    "start_time": "2022-06-06T11:52:42.388Z"
   },
   {
    "duration": 4,
    "start_time": "2022-06-06T11:52:42.497Z"
   },
   {
    "duration": 117,
    "start_time": "2022-06-06T11:52:42.502Z"
   },
   {
    "duration": 87,
    "start_time": "2022-06-06T11:52:42.621Z"
   },
   {
    "duration": 13,
    "start_time": "2022-06-06T11:52:42.710Z"
   },
   {
    "duration": 3,
    "start_time": "2022-06-06T11:52:42.742Z"
   },
   {
    "duration": 11,
    "start_time": "2022-06-06T11:52:42.746Z"
   },
   {
    "duration": 7,
    "start_time": "2022-06-06T11:52:42.759Z"
   },
   {
    "duration": 31,
    "start_time": "2022-06-06T11:52:42.768Z"
   },
   {
    "duration": 56,
    "start_time": "2022-06-06T11:52:42.801Z"
   },
   {
    "duration": 199,
    "start_time": "2022-06-06T11:52:42.859Z"
   },
   {
    "duration": 43,
    "start_time": "2022-06-06T11:52:43.060Z"
   },
   {
    "duration": 13,
    "start_time": "2022-06-06T11:52:54.018Z"
   },
   {
    "duration": 4,
    "start_time": "2022-06-06T11:53:08.054Z"
   },
   {
    "duration": 214,
    "start_time": "2022-06-06T11:53:08.063Z"
   },
   {
    "duration": 11,
    "start_time": "2022-06-06T11:53:08.279Z"
   },
   {
    "duration": 22,
    "start_time": "2022-06-06T11:53:08.291Z"
   },
   {
    "duration": 117,
    "start_time": "2022-06-06T11:53:08.315Z"
   },
   {
    "duration": 28,
    "start_time": "2022-06-06T11:53:08.434Z"
   },
   {
    "duration": 3,
    "start_time": "2022-06-06T11:53:08.464Z"
   },
   {
    "duration": 29,
    "start_time": "2022-06-06T11:53:08.469Z"
   },
   {
    "duration": 124,
    "start_time": "2022-06-06T11:53:08.499Z"
   },
   {
    "duration": 3,
    "start_time": "2022-06-06T11:53:08.625Z"
   },
   {
    "duration": 106,
    "start_time": "2022-06-06T11:53:08.630Z"
   },
   {
    "duration": 78,
    "start_time": "2022-06-06T11:53:08.738Z"
   },
   {
    "duration": 24,
    "start_time": "2022-06-06T11:53:08.818Z"
   },
   {
    "duration": 5,
    "start_time": "2022-06-06T11:53:08.844Z"
   },
   {
    "duration": 24,
    "start_time": "2022-06-06T11:53:08.852Z"
   },
   {
    "duration": 8,
    "start_time": "2022-06-06T11:53:08.879Z"
   },
   {
    "duration": 34,
    "start_time": "2022-06-06T11:53:08.889Z"
   },
   {
    "duration": 39,
    "start_time": "2022-06-06T11:53:08.925Z"
   },
   {
    "duration": 215,
    "start_time": "2022-06-06T11:53:08.966Z"
   },
   {
    "duration": 29,
    "start_time": "2022-06-06T11:53:09.183Z"
   },
   {
    "duration": 28,
    "start_time": "2022-06-06T11:53:09.214Z"
   },
   {
    "duration": 151,
    "start_time": "2022-06-06T11:53:21.595Z"
   },
   {
    "duration": 171,
    "start_time": "2022-06-06T11:54:02.518Z"
   },
   {
    "duration": 140,
    "start_time": "2022-06-06T11:55:45.568Z"
   },
   {
    "duration": 2,
    "start_time": "2022-06-06T11:56:06.353Z"
   },
   {
    "duration": 172,
    "start_time": "2022-06-06T11:56:06.365Z"
   },
   {
    "duration": 10,
    "start_time": "2022-06-06T11:56:06.539Z"
   },
   {
    "duration": 22,
    "start_time": "2022-06-06T11:56:06.551Z"
   },
   {
    "duration": 107,
    "start_time": "2022-06-06T11:56:06.575Z"
   },
   {
    "duration": 18,
    "start_time": "2022-06-06T11:56:06.684Z"
   },
   {
    "duration": 3,
    "start_time": "2022-06-06T11:56:06.704Z"
   },
   {
    "duration": 42,
    "start_time": "2022-06-06T11:56:06.709Z"
   },
   {
    "duration": 96,
    "start_time": "2022-06-06T11:56:06.753Z"
   },
   {
    "duration": 4,
    "start_time": "2022-06-06T11:56:06.851Z"
   },
   {
    "duration": 98,
    "start_time": "2022-06-06T11:56:06.856Z"
   },
   {
    "duration": 71,
    "start_time": "2022-06-06T11:56:06.956Z"
   },
   {
    "duration": 23,
    "start_time": "2022-06-06T11:56:07.029Z"
   },
   {
    "duration": 3,
    "start_time": "2022-06-06T11:56:07.054Z"
   },
   {
    "duration": 23,
    "start_time": "2022-06-06T11:56:07.060Z"
   },
   {
    "duration": 14,
    "start_time": "2022-06-06T11:56:07.084Z"
   },
   {
    "duration": 41,
    "start_time": "2022-06-06T11:56:07.100Z"
   },
   {
    "duration": 31,
    "start_time": "2022-06-06T11:56:07.143Z"
   },
   {
    "duration": 210,
    "start_time": "2022-06-06T11:56:07.176Z"
   },
   {
    "duration": 29,
    "start_time": "2022-06-06T11:56:07.388Z"
   },
   {
    "duration": 24,
    "start_time": "2022-06-06T11:56:07.418Z"
   },
   {
    "duration": 16,
    "start_time": "2022-06-06T11:56:07.444Z"
   },
   {
    "duration": 12,
    "start_time": "2022-06-06T11:56:15.671Z"
   },
   {
    "duration": 161,
    "start_time": "2022-06-06T11:56:46.369Z"
   },
   {
    "duration": 1185,
    "start_time": "2022-06-06T12:03:17.806Z"
   },
   {
    "duration": 174,
    "start_time": "2022-06-06T12:03:18.994Z"
   },
   {
    "duration": 14,
    "start_time": "2022-06-06T12:03:19.170Z"
   },
   {
    "duration": 23,
    "start_time": "2022-06-06T12:03:19.187Z"
   },
   {
    "duration": 115,
    "start_time": "2022-06-06T12:03:19.212Z"
   },
   {
    "duration": 31,
    "start_time": "2022-06-06T12:03:19.329Z"
   },
   {
    "duration": 3,
    "start_time": "2022-06-06T12:03:19.362Z"
   },
   {
    "duration": 27,
    "start_time": "2022-06-06T12:03:19.367Z"
   },
   {
    "duration": 117,
    "start_time": "2022-06-06T12:03:19.395Z"
   },
   {
    "duration": 3,
    "start_time": "2022-06-06T12:03:19.515Z"
   },
   {
    "duration": 108,
    "start_time": "2022-06-06T12:03:19.520Z"
   },
   {
    "duration": 80,
    "start_time": "2022-06-06T12:03:19.630Z"
   },
   {
    "duration": 27,
    "start_time": "2022-06-06T12:03:19.712Z"
   },
   {
    "duration": 13,
    "start_time": "2022-06-06T12:03:19.741Z"
   },
   {
    "duration": 16,
    "start_time": "2022-06-06T12:03:19.756Z"
   },
   {
    "duration": 17,
    "start_time": "2022-06-06T12:03:19.774Z"
   },
   {
    "duration": 35,
    "start_time": "2022-06-06T12:03:19.792Z"
   },
   {
    "duration": 335,
    "start_time": "2022-06-06T12:03:30.334Z"
   },
   {
    "duration": 387,
    "start_time": "2022-06-06T12:04:02.775Z"
   },
   {
    "duration": 150,
    "start_time": "2022-06-06T12:04:18.251Z"
   },
   {
    "duration": 16,
    "start_time": "2022-06-06T12:04:31.762Z"
   },
   {
    "duration": 24,
    "start_time": "2022-06-06T12:06:10.036Z"
   },
   {
    "duration": 50,
    "start_time": "2022-06-06T12:06:33.110Z"
   },
   {
    "duration": 310,
    "start_time": "2022-06-06T12:06:42.275Z"
   },
   {
    "duration": 277,
    "start_time": "2022-06-06T12:08:09.089Z"
   },
   {
    "duration": 3,
    "start_time": "2022-06-06T12:09:03.166Z"
   },
   {
    "duration": 165,
    "start_time": "2022-06-06T12:09:03.171Z"
   },
   {
    "duration": 12,
    "start_time": "2022-06-06T12:09:03.338Z"
   },
   {
    "duration": 22,
    "start_time": "2022-06-06T12:09:03.352Z"
   },
   {
    "duration": 108,
    "start_time": "2022-06-06T12:09:03.376Z"
   },
   {
    "duration": 22,
    "start_time": "2022-06-06T12:09:03.486Z"
   },
   {
    "duration": 5,
    "start_time": "2022-06-06T12:09:03.510Z"
   },
   {
    "duration": 44,
    "start_time": "2022-06-06T12:09:03.516Z"
   },
   {
    "duration": 89,
    "start_time": "2022-06-06T12:09:03.561Z"
   },
   {
    "duration": 3,
    "start_time": "2022-06-06T12:09:03.651Z"
   },
   {
    "duration": 106,
    "start_time": "2022-06-06T12:09:03.656Z"
   },
   {
    "duration": 88,
    "start_time": "2022-06-06T12:09:03.764Z"
   },
   {
    "duration": 13,
    "start_time": "2022-06-06T12:09:03.854Z"
   },
   {
    "duration": 18,
    "start_time": "2022-06-06T12:09:03.870Z"
   },
   {
    "duration": 11,
    "start_time": "2022-06-06T12:09:03.890Z"
   },
   {
    "duration": 7,
    "start_time": "2022-06-06T12:09:03.902Z"
   },
   {
    "duration": 43,
    "start_time": "2022-06-06T12:09:03.911Z"
   },
   {
    "duration": 2,
    "start_time": "2022-06-06T12:09:03.956Z"
   },
   {
    "duration": 5,
    "start_time": "2022-06-06T12:09:03.959Z"
   },
   {
    "duration": 4,
    "start_time": "2022-06-06T12:09:03.966Z"
   },
   {
    "duration": 8,
    "start_time": "2022-06-06T12:09:03.972Z"
   },
   {
    "duration": 6,
    "start_time": "2022-06-06T12:09:03.981Z"
   },
   {
    "duration": 9,
    "start_time": "2022-06-06T12:09:03.988Z"
   },
   {
    "duration": 266,
    "start_time": "2022-06-06T12:09:03.998Z"
   },
   {
    "duration": 269,
    "start_time": "2022-06-06T12:09:26.522Z"
   },
   {
    "duration": 270,
    "start_time": "2022-06-06T12:09:37.813Z"
   },
   {
    "duration": 221,
    "start_time": "2022-06-06T12:09:52.932Z"
   },
   {
    "duration": 3,
    "start_time": "2022-06-06T12:10:02.745Z"
   },
   {
    "duration": 168,
    "start_time": "2022-06-06T12:10:02.750Z"
   },
   {
    "duration": 11,
    "start_time": "2022-06-06T12:10:02.920Z"
   },
   {
    "duration": 23,
    "start_time": "2022-06-06T12:10:02.940Z"
   },
   {
    "duration": 200,
    "start_time": "2022-06-06T12:10:02.965Z"
   },
   {
    "duration": 16,
    "start_time": "2022-06-06T12:10:03.166Z"
   },
   {
    "duration": 3,
    "start_time": "2022-06-06T12:10:03.185Z"
   },
   {
    "duration": 30,
    "start_time": "2022-06-06T12:10:03.190Z"
   },
   {
    "duration": 103,
    "start_time": "2022-06-06T12:10:03.221Z"
   },
   {
    "duration": 3,
    "start_time": "2022-06-06T12:10:03.326Z"
   },
   {
    "duration": 101,
    "start_time": "2022-06-06T12:10:03.341Z"
   },
   {
    "duration": 73,
    "start_time": "2022-06-06T12:10:03.443Z"
   },
   {
    "duration": 28,
    "start_time": "2022-06-06T12:10:03.519Z"
   },
   {
    "duration": 6,
    "start_time": "2022-06-06T12:10:03.549Z"
   },
   {
    "duration": 13,
    "start_time": "2022-06-06T12:10:03.556Z"
   },
   {
    "duration": 7,
    "start_time": "2022-06-06T12:10:03.571Z"
   },
   {
    "duration": 34,
    "start_time": "2022-06-06T12:10:03.579Z"
   },
   {
    "duration": 3,
    "start_time": "2022-06-06T12:10:03.614Z"
   },
   {
    "duration": 2,
    "start_time": "2022-06-06T12:10:03.641Z"
   },
   {
    "duration": 5,
    "start_time": "2022-06-06T12:10:03.645Z"
   },
   {
    "duration": 5,
    "start_time": "2022-06-06T12:10:03.651Z"
   },
   {
    "duration": 5,
    "start_time": "2022-06-06T12:10:03.658Z"
   },
   {
    "duration": 6,
    "start_time": "2022-06-06T12:10:03.664Z"
   },
   {
    "duration": 281,
    "start_time": "2022-06-06T12:10:03.671Z"
   },
   {
    "duration": 215,
    "start_time": "2022-06-06T12:16:28.136Z"
   },
   {
    "duration": 3,
    "start_time": "2022-06-06T12:16:34.043Z"
   },
   {
    "duration": 184,
    "start_time": "2022-06-06T12:16:34.050Z"
   },
   {
    "duration": 10,
    "start_time": "2022-06-06T12:16:34.240Z"
   },
   {
    "duration": 29,
    "start_time": "2022-06-06T12:16:34.252Z"
   },
   {
    "duration": 97,
    "start_time": "2022-06-06T12:16:34.282Z"
   },
   {
    "duration": 21,
    "start_time": "2022-06-06T12:16:34.382Z"
   },
   {
    "duration": 16,
    "start_time": "2022-06-06T12:16:34.405Z"
   },
   {
    "duration": 42,
    "start_time": "2022-06-06T12:16:34.423Z"
   },
   {
    "duration": 84,
    "start_time": "2022-06-06T12:16:34.467Z"
   },
   {
    "duration": 3,
    "start_time": "2022-06-06T12:16:34.553Z"
   },
   {
    "duration": 100,
    "start_time": "2022-06-06T12:16:34.557Z"
   },
   {
    "duration": 72,
    "start_time": "2022-06-06T12:16:34.659Z"
   },
   {
    "duration": 14,
    "start_time": "2022-06-06T12:16:34.742Z"
   },
   {
    "duration": 14,
    "start_time": "2022-06-06T12:16:34.757Z"
   },
   {
    "duration": 24,
    "start_time": "2022-06-06T12:16:34.773Z"
   },
   {
    "duration": 12,
    "start_time": "2022-06-06T12:16:34.798Z"
   },
   {
    "duration": 43,
    "start_time": "2022-06-06T12:16:34.812Z"
   },
   {
    "duration": 4,
    "start_time": "2022-06-06T12:16:34.857Z"
   },
   {
    "duration": 17,
    "start_time": "2022-06-06T12:16:34.863Z"
   },
   {
    "duration": 6,
    "start_time": "2022-06-06T12:16:34.882Z"
   },
   {
    "duration": 6,
    "start_time": "2022-06-06T12:16:34.890Z"
   },
   {
    "duration": 6,
    "start_time": "2022-06-06T12:16:34.898Z"
   },
   {
    "duration": 8,
    "start_time": "2022-06-06T12:16:34.906Z"
   },
   {
    "duration": 23,
    "start_time": "2022-06-06T12:16:34.916Z"
   },
   {
    "duration": 3,
    "start_time": "2022-06-06T12:16:42.416Z"
   },
   {
    "duration": 213,
    "start_time": "2022-06-06T12:16:42.423Z"
   },
   {
    "duration": 13,
    "start_time": "2022-06-06T12:16:42.638Z"
   },
   {
    "duration": 26,
    "start_time": "2022-06-06T12:16:42.652Z"
   },
   {
    "duration": 106,
    "start_time": "2022-06-06T12:16:42.680Z"
   },
   {
    "duration": 20,
    "start_time": "2022-06-06T12:16:42.787Z"
   },
   {
    "duration": 3,
    "start_time": "2022-06-06T12:16:42.808Z"
   },
   {
    "duration": 42,
    "start_time": "2022-06-06T12:16:42.813Z"
   },
   {
    "duration": 94,
    "start_time": "2022-06-06T12:16:42.857Z"
   },
   {
    "duration": 4,
    "start_time": "2022-06-06T12:16:42.953Z"
   },
   {
    "duration": 103,
    "start_time": "2022-06-06T12:16:42.959Z"
   },
   {
    "duration": 78,
    "start_time": "2022-06-06T12:16:43.063Z"
   },
   {
    "duration": 13,
    "start_time": "2022-06-06T12:16:43.144Z"
   },
   {
    "duration": 6,
    "start_time": "2022-06-06T12:16:43.158Z"
   },
   {
    "duration": 9,
    "start_time": "2022-06-06T12:16:43.165Z"
   },
   {
    "duration": 8,
    "start_time": "2022-06-06T12:16:43.176Z"
   },
   {
    "duration": 29,
    "start_time": "2022-06-06T12:16:43.186Z"
   },
   {
    "duration": 2,
    "start_time": "2022-06-06T12:16:43.241Z"
   },
   {
    "duration": 6,
    "start_time": "2022-06-06T12:16:43.244Z"
   },
   {
    "duration": 6,
    "start_time": "2022-06-06T12:16:43.252Z"
   },
   {
    "duration": 10,
    "start_time": "2022-06-06T12:16:43.259Z"
   },
   {
    "duration": 5,
    "start_time": "2022-06-06T12:16:43.270Z"
   },
   {
    "duration": 6,
    "start_time": "2022-06-06T12:16:43.276Z"
   },
   {
    "duration": 48,
    "start_time": "2022-06-06T12:16:43.284Z"
   },
   {
    "duration": 227,
    "start_time": "2022-06-06T12:16:43.333Z"
   },
   {
    "duration": 4,
    "start_time": "2022-06-06T12:18:53.826Z"
   },
   {
    "duration": 177,
    "start_time": "2022-06-06T12:18:53.833Z"
   },
   {
    "duration": 11,
    "start_time": "2022-06-06T12:18:54.012Z"
   },
   {
    "duration": 24,
    "start_time": "2022-06-06T12:18:54.025Z"
   },
   {
    "duration": 104,
    "start_time": "2022-06-06T12:18:54.051Z"
   },
   {
    "duration": 21,
    "start_time": "2022-06-06T12:18:54.156Z"
   },
   {
    "duration": 4,
    "start_time": "2022-06-06T12:18:54.178Z"
   },
   {
    "duration": 36,
    "start_time": "2022-06-06T12:18:54.183Z"
   },
   {
    "duration": 99,
    "start_time": "2022-06-06T12:18:54.220Z"
   },
   {
    "duration": 3,
    "start_time": "2022-06-06T12:18:54.321Z"
   },
   {
    "duration": 110,
    "start_time": "2022-06-06T12:18:54.327Z"
   },
   {
    "duration": 72,
    "start_time": "2022-06-06T12:18:54.439Z"
   },
   {
    "duration": 14,
    "start_time": "2022-06-06T12:18:54.514Z"
   },
   {
    "duration": 4,
    "start_time": "2022-06-06T12:18:54.542Z"
   },
   {
    "duration": 9,
    "start_time": "2022-06-06T12:18:54.547Z"
   },
   {
    "duration": 7,
    "start_time": "2022-06-06T12:18:54.558Z"
   },
   {
    "duration": 36,
    "start_time": "2022-06-06T12:18:54.567Z"
   },
   {
    "duration": 2,
    "start_time": "2022-06-06T12:18:54.605Z"
   },
   {
    "duration": 3,
    "start_time": "2022-06-06T12:18:54.642Z"
   },
   {
    "duration": 4,
    "start_time": "2022-06-06T12:18:54.647Z"
   },
   {
    "duration": 6,
    "start_time": "2022-06-06T12:18:54.652Z"
   },
   {
    "duration": 4,
    "start_time": "2022-06-06T12:18:54.660Z"
   },
   {
    "duration": 4,
    "start_time": "2022-06-06T12:18:54.666Z"
   },
   {
    "duration": 45,
    "start_time": "2022-06-06T12:18:54.671Z"
   },
   {
    "duration": 1305,
    "start_time": "2022-06-06T12:18:54.717Z"
   },
   {
    "duration": 1228,
    "start_time": "2022-06-06T12:19:22.917Z"
   },
   {
    "duration": 1113,
    "start_time": "2022-06-06T12:19:52.747Z"
   },
   {
    "duration": 1243,
    "start_time": "2022-06-06T12:20:10.086Z"
   },
   {
    "duration": 1058,
    "start_time": "2022-06-06T12:20:22.932Z"
   },
   {
    "duration": 1163,
    "start_time": "2022-06-06T12:20:57.251Z"
   },
   {
    "duration": 1142,
    "start_time": "2022-06-06T12:21:04.513Z"
   },
   {
    "duration": 1197,
    "start_time": "2022-06-06T12:24:01.912Z"
   },
   {
    "duration": 173,
    "start_time": "2022-06-06T12:24:03.111Z"
   },
   {
    "duration": 13,
    "start_time": "2022-06-06T12:24:03.286Z"
   },
   {
    "duration": 21,
    "start_time": "2022-06-06T12:24:03.301Z"
   },
   {
    "duration": 113,
    "start_time": "2022-06-06T12:24:03.323Z"
   },
   {
    "duration": 28,
    "start_time": "2022-06-06T12:24:03.441Z"
   },
   {
    "duration": 5,
    "start_time": "2022-06-06T12:24:03.470Z"
   },
   {
    "duration": 26,
    "start_time": "2022-06-06T12:24:03.477Z"
   },
   {
    "duration": 105,
    "start_time": "2022-06-06T12:24:03.505Z"
   },
   {
    "duration": 3,
    "start_time": "2022-06-06T12:24:03.612Z"
   },
   {
    "duration": 102,
    "start_time": "2022-06-06T12:24:03.617Z"
   },
   {
    "duration": 80,
    "start_time": "2022-06-06T12:24:03.721Z"
   },
   {
    "duration": 13,
    "start_time": "2022-06-06T12:24:03.803Z"
   },
   {
    "duration": 6,
    "start_time": "2022-06-06T12:24:03.818Z"
   },
   {
    "duration": 7,
    "start_time": "2022-06-06T12:24:03.841Z"
   },
   {
    "duration": 7,
    "start_time": "2022-06-06T12:24:03.849Z"
   },
   {
    "duration": 28,
    "start_time": "2022-06-06T12:24:03.857Z"
   },
   {
    "duration": 2,
    "start_time": "2022-06-06T12:24:03.887Z"
   },
   {
    "duration": 4,
    "start_time": "2022-06-06T12:24:03.891Z"
   },
   {
    "duration": 4,
    "start_time": "2022-06-06T12:24:03.897Z"
   },
   {
    "duration": 4,
    "start_time": "2022-06-06T12:24:03.903Z"
   },
   {
    "duration": 32,
    "start_time": "2022-06-06T12:24:03.909Z"
   },
   {
    "duration": 2,
    "start_time": "2022-06-06T12:24:03.943Z"
   },
   {
    "duration": 48,
    "start_time": "2022-06-06T12:24:03.947Z"
   },
   {
    "duration": 478,
    "start_time": "2022-06-06T12:24:03.997Z"
   },
   {
    "duration": 1206,
    "start_time": "2022-06-06T12:24:24.322Z"
   },
   {
    "duration": 177,
    "start_time": "2022-06-06T12:24:25.530Z"
   },
   {
    "duration": 13,
    "start_time": "2022-06-06T12:24:25.709Z"
   },
   {
    "duration": 30,
    "start_time": "2022-06-06T12:24:25.724Z"
   },
   {
    "duration": 112,
    "start_time": "2022-06-06T12:24:25.755Z"
   },
   {
    "duration": 29,
    "start_time": "2022-06-06T12:24:25.869Z"
   },
   {
    "duration": 3,
    "start_time": "2022-06-06T12:24:25.900Z"
   },
   {
    "duration": 47,
    "start_time": "2022-06-06T12:24:25.904Z"
   },
   {
    "duration": 113,
    "start_time": "2022-06-06T12:24:25.953Z"
   },
   {
    "duration": 4,
    "start_time": "2022-06-06T12:24:26.068Z"
   },
   {
    "duration": 122,
    "start_time": "2022-06-06T12:24:26.073Z"
   },
   {
    "duration": 85,
    "start_time": "2022-06-06T12:24:26.197Z"
   },
   {
    "duration": 15,
    "start_time": "2022-06-06T12:24:26.283Z"
   },
   {
    "duration": 15,
    "start_time": "2022-06-06T12:24:26.301Z"
   },
   {
    "duration": 27,
    "start_time": "2022-06-06T12:24:26.317Z"
   },
   {
    "duration": 31,
    "start_time": "2022-06-06T12:24:26.346Z"
   },
   {
    "duration": 70,
    "start_time": "2022-06-06T12:24:26.378Z"
   },
   {
    "duration": 17,
    "start_time": "2022-06-06T12:24:26.450Z"
   },
   {
    "duration": 13,
    "start_time": "2022-06-06T12:24:26.469Z"
   },
   {
    "duration": 23,
    "start_time": "2022-06-06T12:24:26.484Z"
   },
   {
    "duration": 10,
    "start_time": "2022-06-06T12:24:26.509Z"
   },
   {
    "duration": 14,
    "start_time": "2022-06-06T12:24:26.522Z"
   },
   {
    "duration": 8,
    "start_time": "2022-06-06T12:24:26.538Z"
   },
   {
    "duration": 55,
    "start_time": "2022-06-06T12:24:26.547Z"
   },
   {
    "duration": 1192,
    "start_time": "2022-06-06T12:30:31.713Z"
   },
   {
    "duration": 170,
    "start_time": "2022-06-06T12:30:32.907Z"
   },
   {
    "duration": 15,
    "start_time": "2022-06-06T12:30:33.079Z"
   },
   {
    "duration": 25,
    "start_time": "2022-06-06T12:30:33.096Z"
   },
   {
    "duration": 111,
    "start_time": "2022-06-06T12:30:33.123Z"
   },
   {
    "duration": 30,
    "start_time": "2022-06-06T12:30:33.236Z"
   },
   {
    "duration": 3,
    "start_time": "2022-06-06T12:30:33.268Z"
   },
   {
    "duration": 27,
    "start_time": "2022-06-06T12:30:33.273Z"
   },
   {
    "duration": 104,
    "start_time": "2022-06-06T12:30:33.302Z"
   },
   {
    "duration": 3,
    "start_time": "2022-06-06T12:30:33.408Z"
   },
   {
    "duration": 103,
    "start_time": "2022-06-06T12:30:33.413Z"
   },
   {
    "duration": 81,
    "start_time": "2022-06-06T12:30:33.518Z"
   },
   {
    "duration": 14,
    "start_time": "2022-06-06T12:30:33.601Z"
   },
   {
    "duration": 25,
    "start_time": "2022-06-06T12:30:33.617Z"
   },
   {
    "duration": 14,
    "start_time": "2022-06-06T12:30:33.644Z"
   },
   {
    "duration": 7,
    "start_time": "2022-06-06T12:30:33.660Z"
   },
   {
    "duration": 30,
    "start_time": "2022-06-06T12:30:33.669Z"
   },
   {
    "duration": 2,
    "start_time": "2022-06-06T12:30:33.701Z"
   },
   {
    "duration": 7,
    "start_time": "2022-06-06T12:30:33.704Z"
   },
   {
    "duration": 30,
    "start_time": "2022-06-06T12:30:33.712Z"
   },
   {
    "duration": 5,
    "start_time": "2022-06-06T12:30:33.744Z"
   },
   {
    "duration": 5,
    "start_time": "2022-06-06T12:30:33.751Z"
   },
   {
    "duration": 5,
    "start_time": "2022-06-06T12:30:33.758Z"
   },
   {
    "duration": 48,
    "start_time": "2022-06-06T12:30:33.764Z"
   },
   {
    "duration": 398,
    "start_time": "2022-06-06T12:30:33.814Z"
   },
   {
    "duration": 213,
    "start_time": "2022-06-06T12:31:04.798Z"
   },
   {
    "duration": 364,
    "start_time": "2022-06-06T12:32:06.407Z"
   },
   {
    "duration": 214,
    "start_time": "2022-06-06T12:32:14.785Z"
   },
   {
    "duration": 225,
    "start_time": "2022-06-06T12:32:46.859Z"
   },
   {
    "duration": 238,
    "start_time": "2022-06-06T12:33:00.833Z"
   },
   {
    "duration": 214,
    "start_time": "2022-06-06T12:34:08.094Z"
   },
   {
    "duration": 1181,
    "start_time": "2022-06-06T12:34:53.129Z"
   },
   {
    "duration": 163,
    "start_time": "2022-06-06T12:34:54.313Z"
   },
   {
    "duration": 16,
    "start_time": "2022-06-06T12:34:54.478Z"
   },
   {
    "duration": 25,
    "start_time": "2022-06-06T12:34:54.496Z"
   },
   {
    "duration": 136,
    "start_time": "2022-06-06T12:34:54.523Z"
   },
   {
    "duration": 29,
    "start_time": "2022-06-06T12:34:54.661Z"
   },
   {
    "duration": 3,
    "start_time": "2022-06-06T12:34:54.692Z"
   },
   {
    "duration": 46,
    "start_time": "2022-06-06T12:34:54.697Z"
   },
   {
    "duration": 103,
    "start_time": "2022-06-06T12:34:54.745Z"
   },
   {
    "duration": 3,
    "start_time": "2022-06-06T12:34:54.851Z"
   },
   {
    "duration": 104,
    "start_time": "2022-06-06T12:34:54.856Z"
   },
   {
    "duration": 94,
    "start_time": "2022-06-06T12:34:54.962Z"
   },
   {
    "duration": 13,
    "start_time": "2022-06-06T12:34:55.058Z"
   },
   {
    "duration": 6,
    "start_time": "2022-06-06T12:34:55.073Z"
   },
   {
    "duration": 19,
    "start_time": "2022-06-06T12:34:55.080Z"
   },
   {
    "duration": 7,
    "start_time": "2022-06-06T12:34:55.101Z"
   },
   {
    "duration": 50,
    "start_time": "2022-06-06T12:34:55.109Z"
   },
   {
    "duration": 2,
    "start_time": "2022-06-06T12:34:55.161Z"
   },
   {
    "duration": 14,
    "start_time": "2022-06-06T12:34:55.165Z"
   },
   {
    "duration": 8,
    "start_time": "2022-06-06T12:34:55.180Z"
   },
   {
    "duration": 6,
    "start_time": "2022-06-06T12:34:55.189Z"
   },
   {
    "duration": 9,
    "start_time": "2022-06-06T12:34:55.197Z"
   },
   {
    "duration": 12,
    "start_time": "2022-06-06T12:34:55.207Z"
   },
   {
    "duration": 51,
    "start_time": "2022-06-06T12:34:55.220Z"
   },
   {
    "duration": 418,
    "start_time": "2022-06-06T12:34:55.273Z"
   },
   {
    "duration": 218,
    "start_time": "2022-06-06T12:35:56.043Z"
   },
   {
    "duration": 229,
    "start_time": "2022-06-06T12:35:59.482Z"
   },
   {
    "duration": 1320,
    "start_time": "2022-06-06T12:37:55.827Z"
   },
   {
    "duration": 214,
    "start_time": "2022-06-06T12:38:22.958Z"
   },
   {
    "duration": 1125,
    "start_time": "2022-06-06T12:39:39.990Z"
   },
   {
    "duration": 163,
    "start_time": "2022-06-06T12:39:41.117Z"
   },
   {
    "duration": 12,
    "start_time": "2022-06-06T12:39:41.282Z"
   },
   {
    "duration": 21,
    "start_time": "2022-06-06T12:39:41.297Z"
   },
   {
    "duration": 117,
    "start_time": "2022-06-06T12:39:41.319Z"
   },
   {
    "duration": 29,
    "start_time": "2022-06-06T12:39:41.442Z"
   },
   {
    "duration": 5,
    "start_time": "2022-06-06T12:39:41.473Z"
   },
   {
    "duration": 28,
    "start_time": "2022-06-06T12:39:41.479Z"
   },
   {
    "duration": 122,
    "start_time": "2022-06-06T12:39:41.509Z"
   },
   {
    "duration": 4,
    "start_time": "2022-06-06T12:39:41.632Z"
   },
   {
    "duration": 103,
    "start_time": "2022-06-06T12:39:41.638Z"
   },
   {
    "duration": 80,
    "start_time": "2022-06-06T12:39:41.743Z"
   },
   {
    "duration": 26,
    "start_time": "2022-06-06T12:39:41.826Z"
   },
   {
    "duration": 8,
    "start_time": "2022-06-06T12:39:41.853Z"
   },
   {
    "duration": 8,
    "start_time": "2022-06-06T12:39:41.863Z"
   },
   {
    "duration": 6,
    "start_time": "2022-06-06T12:39:41.873Z"
   },
   {
    "duration": 30,
    "start_time": "2022-06-06T12:39:41.881Z"
   },
   {
    "duration": 2,
    "start_time": "2022-06-06T12:39:41.942Z"
   },
   {
    "duration": 6,
    "start_time": "2022-06-06T12:39:41.946Z"
   },
   {
    "duration": 11,
    "start_time": "2022-06-06T12:39:41.953Z"
   },
   {
    "duration": 10,
    "start_time": "2022-06-06T12:39:41.966Z"
   },
   {
    "duration": 5,
    "start_time": "2022-06-06T12:39:41.978Z"
   },
   {
    "duration": 7,
    "start_time": "2022-06-06T12:39:41.985Z"
   },
   {
    "duration": 61,
    "start_time": "2022-06-06T12:39:41.994Z"
   },
   {
    "duration": 1198,
    "start_time": "2022-06-06T12:41:04.005Z"
   },
   {
    "duration": 166,
    "start_time": "2022-06-06T12:41:05.204Z"
   },
   {
    "duration": 14,
    "start_time": "2022-06-06T12:41:05.372Z"
   },
   {
    "duration": 21,
    "start_time": "2022-06-06T12:41:05.387Z"
   },
   {
    "duration": 115,
    "start_time": "2022-06-06T12:41:05.410Z"
   },
   {
    "duration": 33,
    "start_time": "2022-06-06T12:41:05.527Z"
   },
   {
    "duration": 6,
    "start_time": "2022-06-06T12:41:05.562Z"
   },
   {
    "duration": 27,
    "start_time": "2022-06-06T12:41:05.570Z"
   },
   {
    "duration": 105,
    "start_time": "2022-06-06T12:41:05.598Z"
   },
   {
    "duration": 4,
    "start_time": "2022-06-06T12:41:05.704Z"
   },
   {
    "duration": 107,
    "start_time": "2022-06-06T12:41:05.709Z"
   },
   {
    "duration": 78,
    "start_time": "2022-06-06T12:41:05.818Z"
   },
   {
    "duration": 13,
    "start_time": "2022-06-06T12:41:05.898Z"
   },
   {
    "duration": 36,
    "start_time": "2022-06-06T12:41:05.913Z"
   },
   {
    "duration": 37,
    "start_time": "2022-06-06T12:41:05.950Z"
   },
   {
    "duration": 27,
    "start_time": "2022-06-06T12:41:05.988Z"
   },
   {
    "duration": 57,
    "start_time": "2022-06-06T12:41:06.017Z"
   },
   {
    "duration": 17,
    "start_time": "2022-06-06T12:41:06.075Z"
   },
   {
    "duration": 34,
    "start_time": "2022-06-06T12:41:06.094Z"
   },
   {
    "duration": 20,
    "start_time": "2022-06-06T12:41:06.129Z"
   },
   {
    "duration": 24,
    "start_time": "2022-06-06T12:41:06.150Z"
   },
   {
    "duration": 43,
    "start_time": "2022-06-06T12:41:06.175Z"
   },
   {
    "duration": 29,
    "start_time": "2022-06-06T12:41:06.220Z"
   },
   {
    "duration": 65,
    "start_time": "2022-06-06T12:41:06.251Z"
   },
   {
    "duration": 1359,
    "start_time": "2022-06-06T12:41:06.317Z"
   },
   {
    "duration": 3,
    "start_time": "2022-06-06T12:41:12.192Z"
   },
   {
    "duration": 178,
    "start_time": "2022-06-06T12:41:12.197Z"
   },
   {
    "duration": 10,
    "start_time": "2022-06-06T12:41:12.377Z"
   },
   {
    "duration": 21,
    "start_time": "2022-06-06T12:41:12.389Z"
   },
   {
    "duration": 186,
    "start_time": "2022-06-06T12:41:12.412Z"
   },
   {
    "duration": 23,
    "start_time": "2022-06-06T12:41:12.600Z"
   },
   {
    "duration": 17,
    "start_time": "2022-06-06T12:41:12.624Z"
   },
   {
    "duration": 27,
    "start_time": "2022-06-06T12:41:12.643Z"
   },
   {
    "duration": 91,
    "start_time": "2022-06-06T12:41:12.672Z"
   },
   {
    "duration": 4,
    "start_time": "2022-06-06T12:41:12.765Z"
   },
   {
    "duration": 88,
    "start_time": "2022-06-06T12:41:12.771Z"
   },
   {
    "duration": 80,
    "start_time": "2022-06-06T12:41:12.862Z"
   },
   {
    "duration": 14,
    "start_time": "2022-06-06T12:41:12.944Z"
   },
   {
    "duration": 10,
    "start_time": "2022-06-06T12:41:12.961Z"
   },
   {
    "duration": 9,
    "start_time": "2022-06-06T12:41:12.973Z"
   },
   {
    "duration": 7,
    "start_time": "2022-06-06T12:41:12.983Z"
   },
   {
    "duration": 50,
    "start_time": "2022-06-06T12:41:12.991Z"
   },
   {
    "duration": 2,
    "start_time": "2022-06-06T12:41:13.043Z"
   },
   {
    "duration": 7,
    "start_time": "2022-06-06T12:41:13.047Z"
   },
   {
    "duration": 6,
    "start_time": "2022-06-06T12:41:13.055Z"
   },
   {
    "duration": 7,
    "start_time": "2022-06-06T12:41:13.062Z"
   },
   {
    "duration": 6,
    "start_time": "2022-06-06T12:41:13.071Z"
   },
   {
    "duration": 7,
    "start_time": "2022-06-06T12:41:13.079Z"
   },
   {
    "duration": 53,
    "start_time": "2022-06-06T12:41:13.088Z"
   },
   {
    "duration": 1212,
    "start_time": "2022-06-06T12:41:13.143Z"
   },
   {
    "duration": 1128,
    "start_time": "2022-06-06T12:44:10.808Z"
   },
   {
    "duration": 1266,
    "start_time": "2022-06-06T12:44:20.413Z"
   },
   {
    "duration": 1111,
    "start_time": "2022-06-06T12:44:32.420Z"
   },
   {
    "duration": 1129,
    "start_time": "2022-06-06T12:45:23.676Z"
   },
   {
    "duration": 170,
    "start_time": "2022-06-06T12:45:24.807Z"
   },
   {
    "duration": 14,
    "start_time": "2022-06-06T12:45:24.979Z"
   },
   {
    "duration": 23,
    "start_time": "2022-06-06T12:45:24.995Z"
   },
   {
    "duration": 122,
    "start_time": "2022-06-06T12:45:25.021Z"
   },
   {
    "duration": 29,
    "start_time": "2022-06-06T12:45:25.144Z"
   },
   {
    "duration": 8,
    "start_time": "2022-06-06T12:45:25.175Z"
   },
   {
    "duration": 33,
    "start_time": "2022-06-06T12:45:25.185Z"
   },
   {
    "duration": 94,
    "start_time": "2022-06-06T12:45:25.220Z"
   },
   {
    "duration": 3,
    "start_time": "2022-06-06T12:45:25.315Z"
   },
   {
    "duration": 110,
    "start_time": "2022-06-06T12:45:25.320Z"
   },
   {
    "duration": 79,
    "start_time": "2022-06-06T12:45:25.432Z"
   },
   {
    "duration": 13,
    "start_time": "2022-06-06T12:45:25.513Z"
   },
   {
    "duration": 3,
    "start_time": "2022-06-06T12:45:25.543Z"
   },
   {
    "duration": 25,
    "start_time": "2022-06-06T12:45:25.548Z"
   },
   {
    "duration": 11,
    "start_time": "2022-06-06T12:45:25.575Z"
   },
   {
    "duration": 30,
    "start_time": "2022-06-06T12:45:25.588Z"
   },
   {
    "duration": 2,
    "start_time": "2022-06-06T12:45:25.619Z"
   },
   {
    "duration": 8,
    "start_time": "2022-06-06T12:45:25.623Z"
   },
   {
    "duration": 3,
    "start_time": "2022-06-06T12:45:25.640Z"
   },
   {
    "duration": 23,
    "start_time": "2022-06-06T12:45:25.644Z"
   },
   {
    "duration": 7,
    "start_time": "2022-06-06T12:45:25.668Z"
   },
   {
    "duration": 6,
    "start_time": "2022-06-06T12:45:25.676Z"
   },
   {
    "duration": 50,
    "start_time": "2022-06-06T12:45:25.683Z"
   },
   {
    "duration": 1227,
    "start_time": "2022-06-06T12:45:25.735Z"
   },
   {
    "duration": 1138,
    "start_time": "2022-06-06T12:45:34.225Z"
   },
   {
    "duration": 1174,
    "start_time": "2022-06-06T12:48:46.797Z"
   },
   {
    "duration": 1196,
    "start_time": "2022-06-06T12:49:17.054Z"
   },
   {
    "duration": 166,
    "start_time": "2022-06-06T12:49:18.252Z"
   },
   {
    "duration": 13,
    "start_time": "2022-06-06T12:49:18.419Z"
   },
   {
    "duration": 35,
    "start_time": "2022-06-06T12:49:18.434Z"
   },
   {
    "duration": 105,
    "start_time": "2022-06-06T12:49:18.471Z"
   },
   {
    "duration": 30,
    "start_time": "2022-06-06T12:49:18.578Z"
   },
   {
    "duration": 10,
    "start_time": "2022-06-06T12:49:18.609Z"
   },
   {
    "duration": 36,
    "start_time": "2022-06-06T12:49:18.620Z"
   },
   {
    "duration": 106,
    "start_time": "2022-06-06T12:49:18.658Z"
   },
   {
    "duration": 3,
    "start_time": "2022-06-06T12:49:18.767Z"
   },
   {
    "duration": 107,
    "start_time": "2022-06-06T12:49:18.771Z"
   },
   {
    "duration": 73,
    "start_time": "2022-06-06T12:49:18.879Z"
   },
   {
    "duration": 13,
    "start_time": "2022-06-06T12:49:18.954Z"
   },
   {
    "duration": 8,
    "start_time": "2022-06-06T12:49:18.969Z"
   },
   {
    "duration": 23,
    "start_time": "2022-06-06T12:49:18.979Z"
   },
   {
    "duration": 17,
    "start_time": "2022-06-06T12:49:19.003Z"
   },
   {
    "duration": 33,
    "start_time": "2022-06-06T12:49:19.021Z"
   },
   {
    "duration": 3,
    "start_time": "2022-06-06T12:49:19.055Z"
   },
   {
    "duration": 17,
    "start_time": "2022-06-06T12:49:19.059Z"
   },
   {
    "duration": 6,
    "start_time": "2022-06-06T12:49:19.078Z"
   },
   {
    "duration": 4,
    "start_time": "2022-06-06T12:49:19.086Z"
   },
   {
    "duration": 5,
    "start_time": "2022-06-06T12:49:19.092Z"
   },
   {
    "duration": 4,
    "start_time": "2022-06-06T12:49:19.099Z"
   },
   {
    "duration": 66,
    "start_time": "2022-06-06T12:49:19.105Z"
   },
   {
    "duration": 1297,
    "start_time": "2022-06-06T12:49:24.477Z"
   },
   {
    "duration": 3,
    "start_time": "2022-06-06T12:49:54.492Z"
   },
   {
    "duration": 202,
    "start_time": "2022-06-06T12:49:54.497Z"
   },
   {
    "duration": 15,
    "start_time": "2022-06-06T12:49:54.702Z"
   },
   {
    "duration": 43,
    "start_time": "2022-06-06T12:49:54.720Z"
   },
   {
    "duration": 131,
    "start_time": "2022-06-06T12:49:54.765Z"
   },
   {
    "duration": 21,
    "start_time": "2022-06-06T12:49:54.898Z"
   },
   {
    "duration": 3,
    "start_time": "2022-06-06T12:49:54.921Z"
   },
   {
    "duration": 27,
    "start_time": "2022-06-06T12:49:54.941Z"
   },
   {
    "duration": 136,
    "start_time": "2022-06-06T12:49:54.971Z"
   },
   {
    "duration": 4,
    "start_time": "2022-06-06T12:49:55.109Z"
   },
   {
    "duration": 126,
    "start_time": "2022-06-06T12:49:55.116Z"
   },
   {
    "duration": 72,
    "start_time": "2022-06-06T12:49:55.244Z"
   },
   {
    "duration": 24,
    "start_time": "2022-06-06T12:49:55.318Z"
   },
   {
    "duration": 8,
    "start_time": "2022-06-06T12:49:55.344Z"
   },
   {
    "duration": 9,
    "start_time": "2022-06-06T12:49:55.354Z"
   },
   {
    "duration": 7,
    "start_time": "2022-06-06T12:49:55.365Z"
   },
   {
    "duration": 30,
    "start_time": "2022-06-06T12:49:55.374Z"
   },
   {
    "duration": 2,
    "start_time": "2022-06-06T12:49:55.406Z"
   },
   {
    "duration": 32,
    "start_time": "2022-06-06T12:49:55.409Z"
   },
   {
    "duration": 3,
    "start_time": "2022-06-06T12:49:55.443Z"
   },
   {
    "duration": 4,
    "start_time": "2022-06-06T12:49:55.448Z"
   },
   {
    "duration": 4,
    "start_time": "2022-06-06T12:49:55.454Z"
   },
   {
    "duration": 10,
    "start_time": "2022-06-06T12:49:55.460Z"
   },
   {
    "duration": 307,
    "start_time": "2022-06-06T12:49:55.473Z"
   },
   {
    "duration": 1134,
    "start_time": "2022-06-06T12:50:00.131Z"
   },
   {
    "duration": 1400,
    "start_time": "2022-06-06T12:50:07.232Z"
   },
   {
    "duration": 3,
    "start_time": "2022-06-06T12:50:20.797Z"
   },
   {
    "duration": 183,
    "start_time": "2022-06-06T12:50:20.802Z"
   },
   {
    "duration": 10,
    "start_time": "2022-06-06T12:50:20.987Z"
   },
   {
    "duration": 20,
    "start_time": "2022-06-06T12:50:20.999Z"
   },
   {
    "duration": 125,
    "start_time": "2022-06-06T12:50:21.021Z"
   },
   {
    "duration": 21,
    "start_time": "2022-06-06T12:50:21.147Z"
   },
   {
    "duration": 4,
    "start_time": "2022-06-06T12:50:21.170Z"
   },
   {
    "duration": 30,
    "start_time": "2022-06-06T12:50:21.175Z"
   },
   {
    "duration": 113,
    "start_time": "2022-06-06T12:50:21.207Z"
   },
   {
    "duration": 5,
    "start_time": "2022-06-06T12:50:21.322Z"
   },
   {
    "duration": 116,
    "start_time": "2022-06-06T12:50:21.329Z"
   },
   {
    "duration": 76,
    "start_time": "2022-06-06T12:50:21.446Z"
   },
   {
    "duration": 23,
    "start_time": "2022-06-06T12:50:21.524Z"
   },
   {
    "duration": 6,
    "start_time": "2022-06-06T12:50:21.549Z"
   },
   {
    "duration": 20,
    "start_time": "2022-06-06T12:50:21.556Z"
   },
   {
    "duration": 16,
    "start_time": "2022-06-06T12:50:21.578Z"
   },
   {
    "duration": 46,
    "start_time": "2022-06-06T12:50:21.595Z"
   },
   {
    "duration": 3,
    "start_time": "2022-06-06T12:50:21.643Z"
   },
   {
    "duration": 7,
    "start_time": "2022-06-06T12:50:21.647Z"
   },
   {
    "duration": 12,
    "start_time": "2022-06-06T12:50:21.655Z"
   },
   {
    "duration": 6,
    "start_time": "2022-06-06T12:50:21.669Z"
   },
   {
    "duration": 6,
    "start_time": "2022-06-06T12:50:21.677Z"
   },
   {
    "duration": 11,
    "start_time": "2022-06-06T12:50:21.684Z"
   },
   {
    "duration": 36,
    "start_time": "2022-06-06T12:50:21.698Z"
   },
   {
    "duration": 1418,
    "start_time": "2022-06-06T12:50:21.736Z"
   },
   {
    "duration": 1114,
    "start_time": "2022-06-06T12:50:33.380Z"
   },
   {
    "duration": 179,
    "start_time": "2022-06-06T12:50:34.496Z"
   },
   {
    "duration": 14,
    "start_time": "2022-06-06T12:50:34.677Z"
   },
   {
    "duration": 21,
    "start_time": "2022-06-06T12:50:34.693Z"
   },
   {
    "duration": 113,
    "start_time": "2022-06-06T12:50:34.716Z"
   },
   {
    "duration": 38,
    "start_time": "2022-06-06T12:50:34.830Z"
   },
   {
    "duration": 3,
    "start_time": "2022-06-06T12:50:34.870Z"
   },
   {
    "duration": 28,
    "start_time": "2022-06-06T12:50:34.875Z"
   },
   {
    "duration": 107,
    "start_time": "2022-06-06T12:50:34.905Z"
   },
   {
    "duration": 5,
    "start_time": "2022-06-06T12:50:35.015Z"
   },
   {
    "duration": 107,
    "start_time": "2022-06-06T12:50:35.022Z"
   },
   {
    "duration": 83,
    "start_time": "2022-06-06T12:50:35.131Z"
   },
   {
    "duration": 13,
    "start_time": "2022-06-06T12:50:35.215Z"
   },
   {
    "duration": 3,
    "start_time": "2022-06-06T12:50:35.242Z"
   },
   {
    "duration": 13,
    "start_time": "2022-06-06T12:50:35.247Z"
   },
   {
    "duration": 7,
    "start_time": "2022-06-06T12:50:35.261Z"
   },
   {
    "duration": 31,
    "start_time": "2022-06-06T12:50:35.269Z"
   },
   {
    "duration": 2,
    "start_time": "2022-06-06T12:50:35.302Z"
   },
   {
    "duration": 8,
    "start_time": "2022-06-06T12:50:35.305Z"
   },
   {
    "duration": 34,
    "start_time": "2022-06-06T12:50:35.314Z"
   },
   {
    "duration": 5,
    "start_time": "2022-06-06T12:50:35.349Z"
   },
   {
    "duration": 7,
    "start_time": "2022-06-06T12:50:35.356Z"
   },
   {
    "duration": 8,
    "start_time": "2022-06-06T12:50:35.365Z"
   },
   {
    "duration": 33,
    "start_time": "2022-06-06T12:50:35.374Z"
   },
   {
    "duration": 1416,
    "start_time": "2022-06-06T12:50:35.408Z"
   },
   {
    "duration": 116,
    "start_time": "2022-06-06T12:51:05.961Z"
   },
   {
    "duration": 1282,
    "start_time": "2022-06-06T12:51:09.162Z"
   },
   {
    "duration": 862,
    "start_time": "2022-06-06T12:52:01.780Z"
   },
   {
    "duration": 4,
    "start_time": "2022-06-06T12:55:16.125Z"
   },
   {
    "duration": 30,
    "start_time": "2022-06-06T12:55:45.537Z"
   },
   {
    "duration": 14,
    "start_time": "2022-06-06T12:56:13.224Z"
   },
   {
    "duration": 2,
    "start_time": "2022-06-06T12:58:32.360Z"
   },
   {
    "duration": 170,
    "start_time": "2022-06-06T12:58:32.372Z"
   },
   {
    "duration": 10,
    "start_time": "2022-06-06T12:58:32.544Z"
   },
   {
    "duration": 22,
    "start_time": "2022-06-06T12:58:32.556Z"
   },
   {
    "duration": 180,
    "start_time": "2022-06-06T12:58:32.580Z"
   },
   {
    "duration": 12,
    "start_time": "2022-06-06T12:58:32.762Z"
   },
   {
    "duration": 3,
    "start_time": "2022-06-06T12:58:32.776Z"
   },
   {
    "duration": 29,
    "start_time": "2022-06-06T12:58:32.780Z"
   },
   {
    "duration": 101,
    "start_time": "2022-06-06T12:58:32.810Z"
   },
   {
    "duration": 4,
    "start_time": "2022-06-06T12:58:32.912Z"
   },
   {
    "duration": 112,
    "start_time": "2022-06-06T12:58:32.917Z"
   },
   {
    "duration": 71,
    "start_time": "2022-06-06T12:58:33.030Z"
   },
   {
    "duration": 14,
    "start_time": "2022-06-06T12:58:33.103Z"
   },
   {
    "duration": 24,
    "start_time": "2022-06-06T12:58:33.118Z"
   },
   {
    "duration": 10,
    "start_time": "2022-06-06T12:58:33.144Z"
   },
   {
    "duration": 6,
    "start_time": "2022-06-06T12:58:33.156Z"
   },
   {
    "duration": 30,
    "start_time": "2022-06-06T12:58:33.164Z"
   },
   {
    "duration": 802,
    "start_time": "2022-06-06T12:58:33.195Z"
   },
   {
    "duration": 56,
    "start_time": "2022-06-06T12:58:33.999Z"
   },
   {
    "duration": 22,
    "start_time": "2022-06-06T12:58:36.669Z"
   },
   {
    "duration": 4,
    "start_time": "2022-06-06T12:58:51.857Z"
   },
   {
    "duration": 3,
    "start_time": "2022-06-06T12:59:00.230Z"
   },
   {
    "duration": 13,
    "start_time": "2022-06-06T12:59:04.343Z"
   },
   {
    "duration": 29,
    "start_time": "2022-06-06T12:59:15.073Z"
   },
   {
    "duration": 4,
    "start_time": "2022-06-06T12:59:20.575Z"
   },
   {
    "duration": 3,
    "start_time": "2022-06-06T12:59:40.803Z"
   },
   {
    "duration": 197,
    "start_time": "2022-06-06T12:59:40.808Z"
   },
   {
    "duration": 11,
    "start_time": "2022-06-06T12:59:41.007Z"
   },
   {
    "duration": 43,
    "start_time": "2022-06-06T12:59:41.020Z"
   },
   {
    "duration": 98,
    "start_time": "2022-06-06T12:59:41.065Z"
   },
   {
    "duration": 25,
    "start_time": "2022-06-06T12:59:41.165Z"
   },
   {
    "duration": 3,
    "start_time": "2022-06-06T12:59:41.192Z"
   },
   {
    "duration": 48,
    "start_time": "2022-06-06T12:59:41.196Z"
   },
   {
    "duration": 95,
    "start_time": "2022-06-06T12:59:41.245Z"
   },
   {
    "duration": 4,
    "start_time": "2022-06-06T12:59:41.341Z"
   },
   {
    "duration": 102,
    "start_time": "2022-06-06T12:59:41.347Z"
   },
   {
    "duration": 76,
    "start_time": "2022-06-06T12:59:41.451Z"
   },
   {
    "duration": 21,
    "start_time": "2022-06-06T12:59:41.530Z"
   },
   {
    "duration": 18,
    "start_time": "2022-06-06T12:59:41.553Z"
   },
   {
    "duration": 16,
    "start_time": "2022-06-06T12:59:41.573Z"
   },
   {
    "duration": 16,
    "start_time": "2022-06-06T12:59:41.591Z"
   },
   {
    "duration": 35,
    "start_time": "2022-06-06T12:59:41.609Z"
   },
   {
    "duration": 849,
    "start_time": "2022-06-06T12:59:41.646Z"
   },
   {
    "duration": 2,
    "start_time": "2022-06-06T12:59:42.497Z"
   },
   {
    "duration": 5,
    "start_time": "2022-06-06T12:59:42.501Z"
   },
   {
    "duration": 8,
    "start_time": "2022-06-06T12:59:42.508Z"
   },
   {
    "duration": 7,
    "start_time": "2022-06-06T12:59:42.518Z"
   },
   {
    "duration": 121,
    "start_time": "2022-06-06T12:59:42.541Z"
   },
   {
    "duration": 0,
    "start_time": "2022-06-06T12:59:42.663Z"
   },
   {
    "duration": 22,
    "start_time": "2022-06-06T13:01:01.261Z"
   },
   {
    "duration": 65,
    "start_time": "2022-06-06T13:01:05.299Z"
   },
   {
    "duration": 3,
    "start_time": "2022-06-06T13:01:28.054Z"
   },
   {
    "duration": 178,
    "start_time": "2022-06-06T13:01:28.060Z"
   },
   {
    "duration": 11,
    "start_time": "2022-06-06T13:01:28.241Z"
   },
   {
    "duration": 22,
    "start_time": "2022-06-06T13:01:28.254Z"
   },
   {
    "duration": 109,
    "start_time": "2022-06-06T13:01:28.277Z"
   },
   {
    "duration": 16,
    "start_time": "2022-06-06T13:01:28.388Z"
   },
   {
    "duration": 3,
    "start_time": "2022-06-06T13:01:28.406Z"
   },
   {
    "duration": 38,
    "start_time": "2022-06-06T13:01:28.410Z"
   },
   {
    "duration": 93,
    "start_time": "2022-06-06T13:01:28.451Z"
   },
   {
    "duration": 5,
    "start_time": "2022-06-06T13:01:28.546Z"
   },
   {
    "duration": 116,
    "start_time": "2022-06-06T13:01:28.552Z"
   },
   {
    "duration": 81,
    "start_time": "2022-06-06T13:01:28.670Z"
   },
   {
    "duration": 12,
    "start_time": "2022-06-06T13:01:28.753Z"
   },
   {
    "duration": 7,
    "start_time": "2022-06-06T13:01:28.767Z"
   },
   {
    "duration": 10,
    "start_time": "2022-06-06T13:01:28.775Z"
   },
   {
    "duration": 8,
    "start_time": "2022-06-06T13:01:28.787Z"
   },
   {
    "duration": 55,
    "start_time": "2022-06-06T13:01:28.796Z"
   },
   {
    "duration": 760,
    "start_time": "2022-06-06T13:01:28.853Z"
   },
   {
    "duration": 3,
    "start_time": "2022-06-06T13:01:29.616Z"
   },
   {
    "duration": 66,
    "start_time": "2022-06-06T13:01:29.621Z"
   },
   {
    "duration": 4,
    "start_time": "2022-06-06T13:01:29.689Z"
   },
   {
    "duration": 4,
    "start_time": "2022-06-06T13:02:52.521Z"
   },
   {
    "duration": 5,
    "start_time": "2022-06-06T13:04:08.010Z"
   },
   {
    "duration": 5,
    "start_time": "2022-06-06T13:04:21.925Z"
   },
   {
    "duration": 4,
    "start_time": "2022-06-06T13:04:29.794Z"
   },
   {
    "duration": 5,
    "start_time": "2022-06-06T13:04:32.295Z"
   },
   {
    "duration": 5,
    "start_time": "2022-06-06T13:04:35.433Z"
   },
   {
    "duration": 5,
    "start_time": "2022-06-06T13:04:38.910Z"
   },
   {
    "duration": 34,
    "start_time": "2022-06-06T13:12:05.948Z"
   },
   {
    "duration": 5,
    "start_time": "2022-06-06T13:12:26.824Z"
   },
   {
    "duration": 4,
    "start_time": "2022-06-06T13:13:09.299Z"
   },
   {
    "duration": 4,
    "start_time": "2022-06-06T13:13:15.829Z"
   },
   {
    "duration": 13,
    "start_time": "2022-06-06T13:13:29.213Z"
   },
   {
    "duration": 14,
    "start_time": "2022-06-06T13:15:29.483Z"
   },
   {
    "duration": 15,
    "start_time": "2022-06-06T13:17:03.634Z"
   },
   {
    "duration": 8,
    "start_time": "2022-06-06T13:17:39.120Z"
   },
   {
    "duration": 20,
    "start_time": "2022-06-06T13:21:09.668Z"
   },
   {
    "duration": 3,
    "start_time": "2022-06-06T13:21:15.805Z"
   },
   {
    "duration": 181,
    "start_time": "2022-06-06T13:21:15.811Z"
   },
   {
    "duration": 10,
    "start_time": "2022-06-06T13:21:15.994Z"
   },
   {
    "duration": 38,
    "start_time": "2022-06-06T13:21:16.006Z"
   },
   {
    "duration": 102,
    "start_time": "2022-06-06T13:21:16.046Z"
   },
   {
    "duration": 24,
    "start_time": "2022-06-06T13:21:16.150Z"
   },
   {
    "duration": 3,
    "start_time": "2022-06-06T13:21:16.176Z"
   },
   {
    "duration": 29,
    "start_time": "2022-06-06T13:21:16.181Z"
   },
   {
    "duration": 102,
    "start_time": "2022-06-06T13:21:16.211Z"
   },
   {
    "duration": 3,
    "start_time": "2022-06-06T13:21:16.315Z"
   },
   {
    "duration": 111,
    "start_time": "2022-06-06T13:21:16.320Z"
   },
   {
    "duration": 78,
    "start_time": "2022-06-06T13:21:16.440Z"
   },
   {
    "duration": 20,
    "start_time": "2022-06-06T13:21:16.520Z"
   },
   {
    "duration": 5,
    "start_time": "2022-06-06T13:21:16.542Z"
   },
   {
    "duration": 8,
    "start_time": "2022-06-06T13:21:16.550Z"
   },
   {
    "duration": 7,
    "start_time": "2022-06-06T13:21:16.560Z"
   },
   {
    "duration": 38,
    "start_time": "2022-06-06T13:21:16.568Z"
   },
   {
    "duration": 801,
    "start_time": "2022-06-06T13:21:16.608Z"
   },
   {
    "duration": 4,
    "start_time": "2022-06-06T13:21:17.411Z"
   },
   {
    "duration": 77,
    "start_time": "2022-06-06T13:21:17.416Z"
   },
   {
    "duration": 7,
    "start_time": "2022-06-06T13:21:17.495Z"
   },
   {
    "duration": 4,
    "start_time": "2022-06-06T13:21:17.504Z"
   },
   {
    "duration": 35,
    "start_time": "2022-06-06T13:21:17.510Z"
   },
   {
    "duration": 16,
    "start_time": "2022-06-06T13:22:24.920Z"
   },
   {
    "duration": 15,
    "start_time": "2022-06-06T13:22:31.666Z"
   },
   {
    "duration": 14,
    "start_time": "2022-06-06T13:22:35.257Z"
   },
   {
    "duration": 4,
    "start_time": "2022-06-06T13:22:39.116Z"
   },
   {
    "duration": 4,
    "start_time": "2022-06-06T13:22:43.269Z"
   },
   {
    "duration": 3,
    "start_time": "2022-06-06T13:22:46.202Z"
   },
   {
    "duration": 174,
    "start_time": "2022-06-06T13:22:46.207Z"
   },
   {
    "duration": 11,
    "start_time": "2022-06-06T13:22:46.383Z"
   },
   {
    "duration": 26,
    "start_time": "2022-06-06T13:22:46.396Z"
   },
   {
    "duration": 113,
    "start_time": "2022-06-06T13:22:46.424Z"
   },
   {
    "duration": 15,
    "start_time": "2022-06-06T13:22:46.542Z"
   },
   {
    "duration": 3,
    "start_time": "2022-06-06T13:22:46.559Z"
   },
   {
    "duration": 34,
    "start_time": "2022-06-06T13:22:46.563Z"
   },
   {
    "duration": 117,
    "start_time": "2022-06-06T13:22:46.600Z"
   },
   {
    "duration": 3,
    "start_time": "2022-06-06T13:22:46.720Z"
   },
   {
    "duration": 104,
    "start_time": "2022-06-06T13:22:46.725Z"
   },
   {
    "duration": 75,
    "start_time": "2022-06-06T13:22:46.831Z"
   },
   {
    "duration": 13,
    "start_time": "2022-06-06T13:22:46.908Z"
   },
   {
    "duration": 21,
    "start_time": "2022-06-06T13:22:46.923Z"
   },
   {
    "duration": 12,
    "start_time": "2022-06-06T13:22:46.946Z"
   },
   {
    "duration": 7,
    "start_time": "2022-06-06T13:22:46.960Z"
   },
   {
    "duration": 30,
    "start_time": "2022-06-06T13:22:46.968Z"
   },
   {
    "duration": 795,
    "start_time": "2022-06-06T13:22:47.000Z"
   },
   {
    "duration": 3,
    "start_time": "2022-06-06T13:22:47.797Z"
   },
   {
    "duration": 82,
    "start_time": "2022-06-06T13:22:47.801Z"
   },
   {
    "duration": 10,
    "start_time": "2022-06-06T13:22:47.886Z"
   },
   {
    "duration": 12,
    "start_time": "2022-06-06T13:22:47.898Z"
   },
   {
    "duration": 34,
    "start_time": "2022-06-06T13:22:47.912Z"
   },
   {
    "duration": 7,
    "start_time": "2022-06-06T13:24:19.049Z"
   },
   {
    "duration": 8,
    "start_time": "2022-06-06T13:24:22.493Z"
   },
   {
    "duration": 8,
    "start_time": "2022-06-06T13:24:53.042Z"
   },
   {
    "duration": 10,
    "start_time": "2022-06-06T13:25:15.973Z"
   },
   {
    "duration": 8,
    "start_time": "2022-06-06T13:25:37.853Z"
   },
   {
    "duration": 11,
    "start_time": "2022-06-06T13:25:43.083Z"
   },
   {
    "duration": 3,
    "start_time": "2022-06-06T14:06:00.927Z"
   },
   {
    "duration": 179,
    "start_time": "2022-06-06T14:06:00.932Z"
   },
   {
    "duration": 12,
    "start_time": "2022-06-06T14:06:01.113Z"
   },
   {
    "duration": 35,
    "start_time": "2022-06-06T14:06:01.127Z"
   },
   {
    "duration": 106,
    "start_time": "2022-06-06T14:06:01.163Z"
   },
   {
    "duration": 24,
    "start_time": "2022-06-06T14:06:01.271Z"
   },
   {
    "duration": 3,
    "start_time": "2022-06-06T14:06:01.297Z"
   },
   {
    "duration": 46,
    "start_time": "2022-06-06T14:06:01.302Z"
   },
   {
    "duration": 102,
    "start_time": "2022-06-06T14:06:01.350Z"
   },
   {
    "duration": 3,
    "start_time": "2022-06-06T14:06:01.454Z"
   },
   {
    "duration": 109,
    "start_time": "2022-06-06T14:06:01.459Z"
   },
   {
    "duration": 78,
    "start_time": "2022-06-06T14:06:01.570Z"
   },
   {
    "duration": 14,
    "start_time": "2022-06-06T14:06:01.650Z"
   },
   {
    "duration": 7,
    "start_time": "2022-06-06T14:06:01.665Z"
   },
   {
    "duration": 17,
    "start_time": "2022-06-06T14:06:01.674Z"
   },
   {
    "duration": 11,
    "start_time": "2022-06-06T14:06:01.693Z"
   },
   {
    "duration": 53,
    "start_time": "2022-06-06T14:06:01.706Z"
   },
   {
    "duration": 3,
    "start_time": "2022-06-06T14:07:10.647Z"
   },
   {
    "duration": 177,
    "start_time": "2022-06-06T14:07:10.652Z"
   },
   {
    "duration": 12,
    "start_time": "2022-06-06T14:07:10.830Z"
   },
   {
    "duration": 29,
    "start_time": "2022-06-06T14:07:10.844Z"
   },
   {
    "duration": 191,
    "start_time": "2022-06-06T14:07:10.875Z"
   },
   {
    "duration": 13,
    "start_time": "2022-06-06T14:07:11.068Z"
   },
   {
    "duration": 3,
    "start_time": "2022-06-06T14:07:11.083Z"
   },
   {
    "duration": 36,
    "start_time": "2022-06-06T14:07:11.087Z"
   },
   {
    "duration": 93,
    "start_time": "2022-06-06T14:07:11.125Z"
   },
   {
    "duration": 3,
    "start_time": "2022-06-06T14:07:11.220Z"
   },
   {
    "duration": 95,
    "start_time": "2022-06-06T14:07:11.224Z"
   },
   {
    "duration": 80,
    "start_time": "2022-06-06T14:07:11.321Z"
   },
   {
    "duration": 14,
    "start_time": "2022-06-06T14:07:11.403Z"
   },
   {
    "duration": 18,
    "start_time": "2022-06-06T14:07:11.418Z"
   },
   {
    "duration": 13,
    "start_time": "2022-06-06T14:07:11.440Z"
   },
   {
    "duration": 14,
    "start_time": "2022-06-06T14:07:11.455Z"
   },
   {
    "duration": 41,
    "start_time": "2022-06-06T14:07:11.470Z"
   },
   {
    "duration": 22,
    "start_time": "2022-06-06T14:07:12.976Z"
   },
   {
    "duration": 29,
    "start_time": "2022-06-06T14:07:18.355Z"
   },
   {
    "duration": 42,
    "start_time": "2022-06-06T14:08:47.954Z"
   },
   {
    "duration": 31,
    "start_time": "2022-06-06T14:08:59.121Z"
   },
   {
    "duration": 41,
    "start_time": "2022-06-06T14:11:16.498Z"
   },
   {
    "duration": 30,
    "start_time": "2022-06-06T14:11:22.778Z"
   },
   {
    "duration": 241,
    "start_time": "2022-06-06T14:12:13.038Z"
   },
   {
    "duration": 31,
    "start_time": "2022-06-06T14:12:45.634Z"
   },
   {
    "duration": 248,
    "start_time": "2022-06-06T14:12:49.125Z"
   },
   {
    "duration": 32,
    "start_time": "2022-06-06T14:13:00.001Z"
   },
   {
    "duration": 261,
    "start_time": "2022-06-06T14:13:00.625Z"
   },
   {
    "duration": 14,
    "start_time": "2022-06-06T14:30:29.357Z"
   },
   {
    "duration": 14,
    "start_time": "2022-06-06T14:37:53.219Z"
   },
   {
    "duration": 33,
    "start_time": "2022-06-06T14:38:05.814Z"
   },
   {
    "duration": 30,
    "start_time": "2022-06-06T14:39:34.003Z"
   },
   {
    "duration": 30,
    "start_time": "2022-06-06T14:39:43.901Z"
   },
   {
    "duration": 36,
    "start_time": "2022-06-06T14:40:14.650Z"
   },
   {
    "duration": 29,
    "start_time": "2022-06-06T14:40:27.539Z"
   },
   {
    "duration": 14,
    "start_time": "2022-06-06T14:43:49.695Z"
   },
   {
    "duration": 44,
    "start_time": "2022-06-06T14:44:54.096Z"
   },
   {
    "duration": 79,
    "start_time": "2022-06-06T14:53:14.200Z"
   },
   {
    "duration": 40,
    "start_time": "2022-06-06T14:53:23.426Z"
   },
   {
    "duration": 77,
    "start_time": "2022-06-06T14:54:17.731Z"
   },
   {
    "duration": 17,
    "start_time": "2022-06-06T14:59:58.240Z"
   },
   {
    "duration": 13,
    "start_time": "2022-06-06T15:00:22.561Z"
   },
   {
    "duration": 19,
    "start_time": "2022-06-06T15:01:07.882Z"
   },
   {
    "duration": 15,
    "start_time": "2022-06-06T15:01:18.608Z"
   },
   {
    "duration": 13,
    "start_time": "2022-06-06T15:01:30.202Z"
   },
   {
    "duration": 5,
    "start_time": "2022-06-06T15:22:47.920Z"
   },
   {
    "duration": 8,
    "start_time": "2022-06-06T15:22:52.828Z"
   },
   {
    "duration": 44,
    "start_time": "2022-06-06T15:25:37.576Z"
   },
   {
    "duration": 10,
    "start_time": "2022-06-06T15:27:38.764Z"
   },
   {
    "duration": 9,
    "start_time": "2022-06-06T15:27:49.155Z"
   },
   {
    "duration": 13,
    "start_time": "2022-06-06T15:28:17.058Z"
   },
   {
    "duration": 9,
    "start_time": "2022-06-06T15:30:39.177Z"
   },
   {
    "duration": 9,
    "start_time": "2022-06-06T15:30:59.406Z"
   },
   {
    "duration": 10,
    "start_time": "2022-06-06T15:31:09.679Z"
   },
   {
    "duration": 11,
    "start_time": "2022-06-06T15:31:20.116Z"
   },
   {
    "duration": 4,
    "start_time": "2022-06-06T15:37:30.216Z"
   },
   {
    "duration": 4,
    "start_time": "2022-06-06T15:38:30.384Z"
   },
   {
    "duration": 6,
    "start_time": "2022-06-06T15:38:58.435Z"
   },
   {
    "duration": 6,
    "start_time": "2022-06-06T15:39:41.059Z"
   },
   {
    "duration": 7,
    "start_time": "2022-06-06T15:39:59.853Z"
   },
   {
    "duration": 7,
    "start_time": "2022-06-06T15:41:37.316Z"
   },
   {
    "duration": 7,
    "start_time": "2022-06-06T15:45:01.441Z"
   },
   {
    "duration": 8,
    "start_time": "2022-06-06T15:45:05.253Z"
   },
   {
    "duration": 4,
    "start_time": "2022-06-06T15:45:45.179Z"
   },
   {
    "duration": 12,
    "start_time": "2022-06-06T15:45:54.949Z"
   },
   {
    "duration": 7,
    "start_time": "2022-06-06T15:46:50.897Z"
   },
   {
    "duration": 18,
    "start_time": "2022-06-06T15:46:54.545Z"
   },
   {
    "duration": 18,
    "start_time": "2022-06-06T15:47:46.716Z"
   },
   {
    "duration": 24,
    "start_time": "2022-06-06T15:48:00.831Z"
   },
   {
    "duration": 3,
    "start_time": "2022-06-06T15:48:16.858Z"
   },
   {
    "duration": 225,
    "start_time": "2022-06-06T15:48:16.865Z"
   },
   {
    "duration": 11,
    "start_time": "2022-06-06T15:48:17.092Z"
   },
   {
    "duration": 37,
    "start_time": "2022-06-06T15:48:17.105Z"
   },
   {
    "duration": 103,
    "start_time": "2022-06-06T15:48:17.157Z"
   },
   {
    "duration": 22,
    "start_time": "2022-06-06T15:48:17.262Z"
   },
   {
    "duration": 3,
    "start_time": "2022-06-06T15:48:17.286Z"
   },
   {
    "duration": 33,
    "start_time": "2022-06-06T15:48:17.291Z"
   },
   {
    "duration": 93,
    "start_time": "2022-06-06T15:48:17.341Z"
   },
   {
    "duration": 7,
    "start_time": "2022-06-06T15:48:17.444Z"
   },
   {
    "duration": 102,
    "start_time": "2022-06-06T15:48:17.453Z"
   },
   {
    "duration": 74,
    "start_time": "2022-06-06T15:48:17.557Z"
   },
   {
    "duration": 31,
    "start_time": "2022-06-06T15:48:17.633Z"
   },
   {
    "duration": 3,
    "start_time": "2022-06-06T15:48:17.666Z"
   },
   {
    "duration": 9,
    "start_time": "2022-06-06T15:48:17.673Z"
   },
   {
    "duration": 7,
    "start_time": "2022-06-06T15:48:17.684Z"
   },
   {
    "duration": 60,
    "start_time": "2022-06-06T15:48:17.692Z"
   },
   {
    "duration": 31,
    "start_time": "2022-06-06T15:48:17.754Z"
   },
   {
    "duration": 321,
    "start_time": "2022-06-06T15:48:17.786Z"
   },
   {
    "duration": 4,
    "start_time": "2022-06-06T15:48:18.109Z"
   },
   {
    "duration": 83,
    "start_time": "2022-06-06T15:48:18.114Z"
   },
   {
    "duration": 10,
    "start_time": "2022-06-06T15:48:18.199Z"
   },
   {
    "duration": 7,
    "start_time": "2022-06-06T15:48:18.210Z"
   },
   {
    "duration": 38,
    "start_time": "2022-06-06T15:48:18.218Z"
   },
   {
    "duration": 7,
    "start_time": "2022-06-06T15:48:18.257Z"
   },
   {
    "duration": 37,
    "start_time": "2022-06-06T15:48:18.265Z"
   },
   {
    "duration": 89,
    "start_time": "2022-06-06T15:48:18.303Z"
   },
   {
    "duration": 14,
    "start_time": "2022-06-06T15:48:18.394Z"
   },
   {
    "duration": 8,
    "start_time": "2022-06-06T15:48:18.409Z"
   },
   {
    "duration": 12,
    "start_time": "2022-06-06T15:48:37.789Z"
   },
   {
    "duration": 17,
    "start_time": "2022-06-06T15:48:44.978Z"
   },
   {
    "duration": 15,
    "start_time": "2022-06-06T15:49:18.492Z"
   },
   {
    "duration": 5,
    "start_time": "2022-06-06T15:56:51.081Z"
   },
   {
    "duration": 6,
    "start_time": "2022-06-06T15:57:13.956Z"
   },
   {
    "duration": 5,
    "start_time": "2022-06-06T15:58:28.815Z"
   },
   {
    "duration": 4,
    "start_time": "2022-06-06T15:58:34.859Z"
   },
   {
    "duration": 4,
    "start_time": "2022-06-06T15:58:39.034Z"
   },
   {
    "duration": 5,
    "start_time": "2022-06-06T15:59:06.154Z"
   },
   {
    "duration": 4,
    "start_time": "2022-06-06T15:59:12.052Z"
   },
   {
    "duration": 34,
    "start_time": "2022-06-06T15:59:32.454Z"
   },
   {
    "duration": 4,
    "start_time": "2022-06-06T15:59:35.981Z"
   },
   {
    "duration": 16,
    "start_time": "2022-06-06T16:02:35.539Z"
   },
   {
    "duration": 12,
    "start_time": "2022-06-06T16:04:07.506Z"
   },
   {
    "duration": 5,
    "start_time": "2022-06-06T16:04:52.897Z"
   },
   {
    "duration": 6,
    "start_time": "2022-06-06T16:04:55.295Z"
   },
   {
    "duration": 3,
    "start_time": "2022-06-06T16:07:30.566Z"
   },
   {
    "duration": 227,
    "start_time": "2022-06-06T16:07:30.570Z"
   },
   {
    "duration": 11,
    "start_time": "2022-06-06T16:07:30.799Z"
   },
   {
    "duration": 49,
    "start_time": "2022-06-06T16:07:30.813Z"
   },
   {
    "duration": 14,
    "start_time": "2022-06-06T16:07:46.360Z"
   },
   {
    "duration": 3,
    "start_time": "2022-06-06T16:08:36.425Z"
   },
   {
    "duration": 194,
    "start_time": "2022-06-06T16:08:36.434Z"
   },
   {
    "duration": 24,
    "start_time": "2022-06-06T16:08:36.631Z"
   },
   {
    "duration": 24,
    "start_time": "2022-06-06T16:08:36.657Z"
   },
   {
    "duration": 111,
    "start_time": "2022-06-06T16:08:36.684Z"
   },
   {
    "duration": 28,
    "start_time": "2022-06-06T16:08:36.796Z"
   },
   {
    "duration": 3,
    "start_time": "2022-06-06T16:08:36.826Z"
   },
   {
    "duration": 33,
    "start_time": "2022-06-06T16:08:36.842Z"
   },
   {
    "duration": 102,
    "start_time": "2022-06-06T16:08:36.877Z"
   },
   {
    "duration": 4,
    "start_time": "2022-06-06T16:08:36.981Z"
   },
   {
    "duration": 106,
    "start_time": "2022-06-06T16:08:36.987Z"
   },
   {
    "duration": 88,
    "start_time": "2022-06-06T16:08:37.094Z"
   },
   {
    "duration": 12,
    "start_time": "2022-06-06T16:08:37.184Z"
   },
   {
    "duration": 6,
    "start_time": "2022-06-06T16:08:37.198Z"
   },
   {
    "duration": 10,
    "start_time": "2022-06-06T16:08:37.206Z"
   },
   {
    "duration": 36,
    "start_time": "2022-06-06T16:08:37.218Z"
   },
   {
    "duration": 32,
    "start_time": "2022-06-06T16:08:37.257Z"
   },
   {
    "duration": 29,
    "start_time": "2022-06-06T16:08:37.291Z"
   },
   {
    "duration": 278,
    "start_time": "2022-06-06T16:08:37.322Z"
   },
   {
    "duration": 4,
    "start_time": "2022-06-06T16:08:37.602Z"
   },
   {
    "duration": 79,
    "start_time": "2022-06-06T16:08:37.607Z"
   },
   {
    "duration": 10,
    "start_time": "2022-06-06T16:08:37.688Z"
   },
   {
    "duration": 5,
    "start_time": "2022-06-06T16:08:37.699Z"
   },
   {
    "duration": 18,
    "start_time": "2022-06-06T16:08:37.705Z"
   },
   {
    "duration": 16,
    "start_time": "2022-06-06T16:08:37.741Z"
   },
   {
    "duration": 45,
    "start_time": "2022-06-06T16:08:37.759Z"
   },
   {
    "duration": 125,
    "start_time": "2022-06-06T16:08:37.805Z"
   },
   {
    "duration": 30,
    "start_time": "2022-06-06T16:08:37.932Z"
   },
   {
    "duration": 10,
    "start_time": "2022-06-06T16:08:37.966Z"
   },
   {
    "duration": 22,
    "start_time": "2022-06-06T16:08:37.978Z"
   },
   {
    "duration": 22,
    "start_time": "2022-06-06T16:08:38.002Z"
   },
   {
    "duration": 17,
    "start_time": "2022-06-06T16:08:38.026Z"
   },
   {
    "duration": 31,
    "start_time": "2022-06-06T16:08:38.046Z"
   },
   {
    "duration": 13,
    "start_time": "2022-06-06T16:08:38.080Z"
   },
   {
    "duration": 34,
    "start_time": "2022-06-06T16:11:02.587Z"
   },
   {
    "duration": 30,
    "start_time": "2022-06-06T16:11:07.701Z"
   },
   {
    "duration": 3,
    "start_time": "2022-06-06T16:27:31.963Z"
   },
   {
    "duration": 176,
    "start_time": "2022-06-06T16:27:31.970Z"
   },
   {
    "duration": 10,
    "start_time": "2022-06-06T16:27:32.148Z"
   },
   {
    "duration": 24,
    "start_time": "2022-06-06T16:27:32.160Z"
   },
   {
    "duration": 101,
    "start_time": "2022-06-06T16:27:32.186Z"
   },
   {
    "duration": 29,
    "start_time": "2022-06-06T16:27:32.288Z"
   },
   {
    "duration": 6,
    "start_time": "2022-06-06T16:27:32.319Z"
   },
   {
    "duration": 26,
    "start_time": "2022-06-06T16:27:32.361Z"
   },
   {
    "duration": 81,
    "start_time": "2022-06-06T16:27:32.389Z"
   },
   {
    "duration": 4,
    "start_time": "2022-06-06T16:27:32.472Z"
   },
   {
    "duration": 99,
    "start_time": "2022-06-06T16:27:32.478Z"
   },
   {
    "duration": 92,
    "start_time": "2022-06-06T16:27:32.580Z"
   },
   {
    "duration": 18,
    "start_time": "2022-06-06T16:27:32.674Z"
   },
   {
    "duration": 4,
    "start_time": "2022-06-06T16:27:32.694Z"
   },
   {
    "duration": 14,
    "start_time": "2022-06-06T16:27:32.701Z"
   },
   {
    "duration": 9,
    "start_time": "2022-06-06T16:27:33.142Z"
   },
   {
    "duration": 32,
    "start_time": "2022-06-06T16:27:33.154Z"
   },
   {
    "duration": 32,
    "start_time": "2022-06-06T16:27:33.188Z"
   },
   {
    "duration": 260,
    "start_time": "2022-06-06T16:27:33.242Z"
   },
   {
    "duration": 3,
    "start_time": "2022-06-06T16:27:33.504Z"
   },
   {
    "duration": 74,
    "start_time": "2022-06-06T16:27:33.509Z"
   },
   {
    "duration": 9,
    "start_time": "2022-06-06T16:27:33.585Z"
   },
   {
    "duration": 16,
    "start_time": "2022-06-06T16:27:33.596Z"
   },
   {
    "duration": 29,
    "start_time": "2022-06-06T16:27:33.614Z"
   },
   {
    "duration": 8,
    "start_time": "2022-06-06T16:27:33.645Z"
   },
   {
    "duration": 50,
    "start_time": "2022-06-06T16:27:33.654Z"
   },
   {
    "duration": 99,
    "start_time": "2022-06-06T16:27:33.706Z"
   },
   {
    "duration": 13,
    "start_time": "2022-06-06T16:27:33.807Z"
   },
   {
    "duration": 22,
    "start_time": "2022-06-06T16:27:33.822Z"
   },
   {
    "duration": 23,
    "start_time": "2022-06-06T16:27:33.847Z"
   },
   {
    "duration": 41,
    "start_time": "2022-06-06T16:27:33.871Z"
   },
   {
    "duration": 16,
    "start_time": "2022-06-06T16:27:33.914Z"
   },
   {
    "duration": 33,
    "start_time": "2022-06-06T16:27:33.931Z"
   },
   {
    "duration": 31,
    "start_time": "2022-06-06T16:27:34.345Z"
   },
   {
    "duration": 90,
    "start_time": "2022-06-06T16:39:44.091Z"
   },
   {
    "duration": 96,
    "start_time": "2022-06-06T16:40:16.492Z"
   },
   {
    "duration": 90,
    "start_time": "2022-06-06T16:41:12.515Z"
   },
   {
    "duration": 89,
    "start_time": "2022-06-06T16:41:58.155Z"
   },
   {
    "duration": 100,
    "start_time": "2022-06-06T16:43:15.166Z"
   },
   {
    "duration": 8,
    "start_time": "2022-06-06T16:44:45.857Z"
   },
   {
    "duration": 5,
    "start_time": "2022-06-06T16:45:25.829Z"
   },
   {
    "duration": 7,
    "start_time": "2022-06-06T16:45:33.994Z"
   },
   {
    "duration": 14,
    "start_time": "2022-06-06T16:47:32.775Z"
   },
   {
    "duration": 33,
    "start_time": "2022-06-06T16:49:26.214Z"
   },
   {
    "duration": 14,
    "start_time": "2022-06-06T16:49:36.936Z"
   },
   {
    "duration": 4,
    "start_time": "2022-06-06T16:49:56.637Z"
   },
   {
    "duration": 12,
    "start_time": "2022-06-06T16:50:03.367Z"
   },
   {
    "duration": 688,
    "start_time": "2022-06-06T16:52:50.845Z"
   },
   {
    "duration": 678,
    "start_time": "2022-06-06T16:53:04.045Z"
   },
   {
    "duration": 15,
    "start_time": "2022-06-06T16:54:04.615Z"
   },
   {
    "duration": 4,
    "start_time": "2022-06-06T16:55:33.570Z"
   },
   {
    "duration": 170,
    "start_time": "2022-06-06T16:55:33.575Z"
   },
   {
    "duration": 10,
    "start_time": "2022-06-06T16:55:33.747Z"
   },
   {
    "duration": 23,
    "start_time": "2022-06-06T16:55:33.759Z"
   },
   {
    "duration": 199,
    "start_time": "2022-06-06T16:55:33.784Z"
   },
   {
    "duration": 15,
    "start_time": "2022-06-06T16:55:33.985Z"
   },
   {
    "duration": 3,
    "start_time": "2022-06-06T16:55:34.001Z"
   },
   {
    "duration": 46,
    "start_time": "2022-06-06T16:55:34.006Z"
   },
   {
    "duration": 99,
    "start_time": "2022-06-06T16:55:34.055Z"
   },
   {
    "duration": 5,
    "start_time": "2022-06-06T16:55:34.156Z"
   },
   {
    "duration": 98,
    "start_time": "2022-06-06T16:55:34.163Z"
   },
   {
    "duration": 88,
    "start_time": "2022-06-06T16:55:34.263Z"
   },
   {
    "duration": 15,
    "start_time": "2022-06-06T16:55:34.353Z"
   },
   {
    "duration": 6,
    "start_time": "2022-06-06T16:55:34.370Z"
   },
   {
    "duration": 9,
    "start_time": "2022-06-06T16:55:34.378Z"
   },
   {
    "duration": 8,
    "start_time": "2022-06-06T16:55:34.389Z"
   },
   {
    "duration": 70,
    "start_time": "2022-06-06T16:55:34.401Z"
   },
   {
    "duration": 31,
    "start_time": "2022-06-06T16:55:34.473Z"
   },
   {
    "duration": 294,
    "start_time": "2022-06-06T16:55:34.506Z"
   },
   {
    "duration": 3,
    "start_time": "2022-06-06T16:55:34.802Z"
   },
   {
    "duration": 70,
    "start_time": "2022-06-06T16:55:34.806Z"
   },
   {
    "duration": 9,
    "start_time": "2022-06-06T16:55:34.878Z"
   },
   {
    "duration": 4,
    "start_time": "2022-06-06T16:55:34.889Z"
   },
   {
    "duration": 19,
    "start_time": "2022-06-06T16:55:34.895Z"
   },
   {
    "duration": 28,
    "start_time": "2022-06-06T16:55:34.915Z"
   },
   {
    "duration": 43,
    "start_time": "2022-06-06T16:55:34.945Z"
   },
   {
    "duration": 102,
    "start_time": "2022-06-06T16:55:34.990Z"
   },
   {
    "duration": 13,
    "start_time": "2022-06-06T16:55:35.094Z"
   },
   {
    "duration": 9,
    "start_time": "2022-06-06T16:55:35.108Z"
   },
   {
    "duration": 32,
    "start_time": "2022-06-06T16:55:35.118Z"
   },
   {
    "duration": 18,
    "start_time": "2022-06-06T16:55:35.152Z"
   },
   {
    "duration": 8,
    "start_time": "2022-06-06T16:55:35.172Z"
   },
   {
    "duration": 38,
    "start_time": "2022-06-06T16:55:35.182Z"
   },
   {
    "duration": 102,
    "start_time": "2022-06-06T16:55:35.240Z"
   },
   {
    "duration": 6,
    "start_time": "2022-06-06T16:55:35.345Z"
   },
   {
    "duration": 20,
    "start_time": "2022-06-06T16:55:35.353Z"
   },
   {
    "duration": 10,
    "start_time": "2022-06-06T16:55:39.733Z"
   },
   {
    "duration": 14,
    "start_time": "2022-06-06T16:56:54.788Z"
   },
   {
    "duration": 3,
    "start_time": "2022-06-06T16:57:05.798Z"
   },
   {
    "duration": 176,
    "start_time": "2022-06-06T16:57:05.803Z"
   },
   {
    "duration": 12,
    "start_time": "2022-06-06T16:57:05.981Z"
   },
   {
    "duration": 27,
    "start_time": "2022-06-06T16:57:05.995Z"
   },
   {
    "duration": 104,
    "start_time": "2022-06-06T16:57:06.024Z"
   },
   {
    "duration": 35,
    "start_time": "2022-06-06T16:57:06.130Z"
   },
   {
    "duration": 4,
    "start_time": "2022-06-06T16:57:06.166Z"
   },
   {
    "duration": 27,
    "start_time": "2022-06-06T16:57:06.172Z"
   },
   {
    "duration": 98,
    "start_time": "2022-06-06T16:57:06.200Z"
   },
   {
    "duration": 3,
    "start_time": "2022-06-06T16:57:06.299Z"
   },
   {
    "duration": 107,
    "start_time": "2022-06-06T16:57:06.305Z"
   },
   {
    "duration": 86,
    "start_time": "2022-06-06T16:57:06.414Z"
   },
   {
    "duration": 17,
    "start_time": "2022-06-06T16:57:06.502Z"
   },
   {
    "duration": 21,
    "start_time": "2022-06-06T16:57:06.521Z"
   },
   {
    "duration": 9,
    "start_time": "2022-06-06T16:57:06.544Z"
   },
   {
    "duration": 8,
    "start_time": "2022-06-06T16:57:06.555Z"
   },
   {
    "duration": 33,
    "start_time": "2022-06-06T16:57:06.565Z"
   },
   {
    "duration": 55,
    "start_time": "2022-06-06T16:57:06.600Z"
   },
   {
    "duration": 268,
    "start_time": "2022-06-06T16:57:06.657Z"
   },
   {
    "duration": 14,
    "start_time": "2022-06-06T16:57:06.928Z"
   },
   {
    "duration": 73,
    "start_time": "2022-06-06T16:57:06.944Z"
   },
   {
    "duration": 11,
    "start_time": "2022-06-06T16:57:07.021Z"
   },
   {
    "duration": 18,
    "start_time": "2022-06-06T16:57:07.034Z"
   },
   {
    "duration": 24,
    "start_time": "2022-06-06T16:57:07.054Z"
   },
   {
    "duration": 18,
    "start_time": "2022-06-06T16:57:07.080Z"
   },
   {
    "duration": 41,
    "start_time": "2022-06-06T16:57:07.100Z"
   },
   {
    "duration": 91,
    "start_time": "2022-06-06T16:57:07.143Z"
   },
   {
    "duration": 13,
    "start_time": "2022-06-06T16:57:07.236Z"
   },
   {
    "duration": 9,
    "start_time": "2022-06-06T16:57:07.251Z"
   },
   {
    "duration": 37,
    "start_time": "2022-06-06T16:57:07.262Z"
   },
   {
    "duration": 36,
    "start_time": "2022-06-06T16:57:07.301Z"
   },
   {
    "duration": 17,
    "start_time": "2022-06-06T16:57:07.339Z"
   },
   {
    "duration": 58,
    "start_time": "2022-06-06T16:57:07.358Z"
   },
   {
    "duration": 86,
    "start_time": "2022-06-06T16:57:07.418Z"
   },
   {
    "duration": 5,
    "start_time": "2022-06-06T16:57:07.506Z"
   },
   {
    "duration": 56,
    "start_time": "2022-06-06T16:57:07.512Z"
   },
   {
    "duration": 13,
    "start_time": "2022-06-06T16:57:20.432Z"
   },
   {
    "duration": 14,
    "start_time": "2022-06-06T16:57:31.632Z"
   },
   {
    "duration": 3,
    "start_time": "2022-06-06T16:57:34.854Z"
   },
   {
    "duration": 171,
    "start_time": "2022-06-06T16:57:34.859Z"
   },
   {
    "duration": 19,
    "start_time": "2022-06-06T16:57:35.032Z"
   },
   {
    "duration": 20,
    "start_time": "2022-06-06T16:57:35.053Z"
   },
   {
    "duration": 101,
    "start_time": "2022-06-06T16:57:35.076Z"
   },
   {
    "duration": 21,
    "start_time": "2022-06-06T16:57:35.178Z"
   },
   {
    "duration": 3,
    "start_time": "2022-06-06T16:57:35.200Z"
   },
   {
    "duration": 43,
    "start_time": "2022-06-06T16:57:35.204Z"
   },
   {
    "duration": 93,
    "start_time": "2022-06-06T16:57:35.249Z"
   },
   {
    "duration": 3,
    "start_time": "2022-06-06T16:57:35.344Z"
   },
   {
    "duration": 100,
    "start_time": "2022-06-06T16:57:35.348Z"
   },
   {
    "duration": 73,
    "start_time": "2022-06-06T16:57:35.450Z"
   },
   {
    "duration": 27,
    "start_time": "2022-06-06T16:57:35.526Z"
   },
   {
    "duration": 8,
    "start_time": "2022-06-06T16:57:35.556Z"
   },
   {
    "duration": 10,
    "start_time": "2022-06-06T16:57:35.565Z"
   },
   {
    "duration": 11,
    "start_time": "2022-06-06T16:57:35.577Z"
   },
   {
    "duration": 30,
    "start_time": "2022-06-06T16:57:35.589Z"
   },
   {
    "duration": 29,
    "start_time": "2022-06-06T16:57:35.642Z"
   },
   {
    "duration": 270,
    "start_time": "2022-06-06T16:57:35.673Z"
   },
   {
    "duration": 12,
    "start_time": "2022-06-06T16:57:35.945Z"
   },
   {
    "duration": 63,
    "start_time": "2022-06-06T16:57:35.959Z"
   },
   {
    "duration": 7,
    "start_time": "2022-06-06T16:57:36.024Z"
   },
   {
    "duration": 5,
    "start_time": "2022-06-06T16:57:36.042Z"
   },
   {
    "duration": 18,
    "start_time": "2022-06-06T16:57:36.049Z"
   },
   {
    "duration": 8,
    "start_time": "2022-06-06T16:57:36.069Z"
   },
   {
    "duration": 65,
    "start_time": "2022-06-06T16:57:36.079Z"
   },
   {
    "duration": 69,
    "start_time": "2022-06-06T16:57:36.146Z"
   },
   {
    "duration": 30,
    "start_time": "2022-06-06T16:57:36.217Z"
   },
   {
    "duration": 7,
    "start_time": "2022-06-06T16:57:36.249Z"
   },
   {
    "duration": 12,
    "start_time": "2022-06-06T16:57:36.258Z"
   },
   {
    "duration": 13,
    "start_time": "2022-06-06T16:57:36.273Z"
   },
   {
    "duration": 5,
    "start_time": "2022-06-06T16:57:36.288Z"
   },
   {
    "duration": 59,
    "start_time": "2022-06-06T16:57:36.295Z"
   },
   {
    "duration": 85,
    "start_time": "2022-06-06T16:57:36.727Z"
   },
   {
    "duration": 5,
    "start_time": "2022-06-06T16:57:36.815Z"
   },
   {
    "duration": 27,
    "start_time": "2022-06-06T16:57:36.822Z"
   },
   {
    "duration": 9,
    "start_time": "2022-06-06T16:57:38.752Z"
   },
   {
    "duration": 2057,
    "start_time": "2022-06-06T18:27:45.142Z"
   },
   {
    "duration": 1503,
    "start_time": "2022-06-06T18:27:47.215Z"
   },
   {
    "duration": 25,
    "start_time": "2022-06-06T18:27:48.734Z"
   },
   {
    "duration": 136,
    "start_time": "2022-06-06T18:27:48.765Z"
   },
   {
    "duration": 197,
    "start_time": "2022-06-06T18:27:48.907Z"
   },
   {
    "duration": 34,
    "start_time": "2022-06-06T18:27:49.110Z"
   },
   {
    "duration": 29,
    "start_time": "2022-06-06T18:27:49.151Z"
   },
   {
    "duration": 193,
    "start_time": "2022-06-06T18:27:49.189Z"
   },
   {
    "duration": 164,
    "start_time": "2022-06-06T18:27:49.384Z"
   },
   {
    "duration": 4,
    "start_time": "2022-06-06T18:27:49.552Z"
   },
   {
    "duration": 151,
    "start_time": "2022-06-06T18:27:49.559Z"
   },
   {
    "duration": 133,
    "start_time": "2022-06-06T18:27:49.716Z"
   },
   {
    "duration": 24,
    "start_time": "2022-06-06T18:27:49.855Z"
   },
   {
    "duration": 115,
    "start_time": "2022-06-06T18:27:49.886Z"
   },
   {
    "duration": 36,
    "start_time": "2022-06-06T18:27:50.005Z"
   },
   {
    "duration": 81,
    "start_time": "2022-06-06T18:27:50.044Z"
   },
   {
    "duration": 126,
    "start_time": "2022-06-06T18:27:50.127Z"
   },
   {
    "duration": 107,
    "start_time": "2022-06-06T18:27:50.257Z"
   },
   {
    "duration": 640,
    "start_time": "2022-06-06T18:27:50.371Z"
   },
   {
    "duration": 9,
    "start_time": "2022-06-06T18:27:51.019Z"
   },
   {
    "duration": 337,
    "start_time": "2022-06-06T18:27:51.037Z"
   },
   {
    "duration": 35,
    "start_time": "2022-06-06T18:27:51.395Z"
   },
   {
    "duration": 36,
    "start_time": "2022-06-06T18:27:51.437Z"
   },
   {
    "duration": 100,
    "start_time": "2022-06-06T18:27:51.484Z"
   },
   {
    "duration": 23,
    "start_time": "2022-06-06T18:27:51.586Z"
   },
   {
    "duration": 111,
    "start_time": "2022-06-06T18:27:51.615Z"
   },
   {
    "duration": 172,
    "start_time": "2022-06-06T18:27:51.733Z"
   },
   {
    "duration": 65,
    "start_time": "2022-06-06T18:27:51.912Z"
   },
   {
    "duration": 176,
    "start_time": "2022-06-06T18:27:51.983Z"
   },
   {
    "duration": 51,
    "start_time": "2022-06-06T18:27:52.173Z"
   },
   {
    "duration": 39,
    "start_time": "2022-06-06T18:27:52.233Z"
   },
   {
    "duration": 66,
    "start_time": "2022-06-06T18:27:52.280Z"
   },
   {
    "duration": 182,
    "start_time": "2022-06-06T18:27:52.348Z"
   },
   {
    "duration": 263,
    "start_time": "2022-06-06T18:27:52.537Z"
   },
   {
    "duration": 16,
    "start_time": "2022-06-06T18:27:52.807Z"
   },
   {
    "duration": 70,
    "start_time": "2022-06-06T18:27:52.830Z"
   },
   {
    "duration": 83,
    "start_time": "2022-06-06T18:27:52.907Z"
   },
   {
    "duration": 134,
    "start_time": "2022-06-06T18:27:53.007Z"
   },
   {
    "duration": 181,
    "start_time": "2022-06-06T18:28:09.252Z"
   },
   {
    "duration": 12,
    "start_time": "2022-06-06T18:31:32.190Z"
   },
   {
    "duration": 8,
    "start_time": "2022-06-06T18:32:53.807Z"
   },
   {
    "duration": 35,
    "start_time": "2022-06-06T18:36:20.659Z"
   },
   {
    "duration": 25,
    "start_time": "2022-06-06T18:36:54.841Z"
   },
   {
    "duration": 16,
    "start_time": "2022-06-06T18:41:05.539Z"
   },
   {
    "duration": 12,
    "start_time": "2022-06-06T18:42:40.879Z"
   },
   {
    "duration": 9,
    "start_time": "2022-06-06T18:43:15.203Z"
   },
   {
    "duration": 33,
    "start_time": "2022-06-06T18:44:54.038Z"
   },
   {
    "duration": 234,
    "start_time": "2022-06-06T18:44:54.077Z"
   },
   {
    "duration": 27,
    "start_time": "2022-06-06T18:45:05.747Z"
   },
   {
    "duration": 14,
    "start_time": "2022-06-06T18:45:10.989Z"
   },
   {
    "duration": 10,
    "start_time": "2022-06-06T18:45:16.399Z"
   },
   {
    "duration": 12,
    "start_time": "2022-06-06T18:46:56.851Z"
   },
   {
    "duration": 25,
    "start_time": "2022-06-06T18:46:58.633Z"
   },
   {
    "duration": 11,
    "start_time": "2022-06-06T18:47:58.185Z"
   },
   {
    "duration": 1477,
    "start_time": "2022-06-06T18:48:20.108Z"
   },
   {
    "duration": 245,
    "start_time": "2022-06-06T18:48:21.590Z"
   },
   {
    "duration": 29,
    "start_time": "2022-06-06T18:48:21.841Z"
   },
   {
    "duration": 35,
    "start_time": "2022-06-06T18:48:21.875Z"
   },
   {
    "duration": 152,
    "start_time": "2022-06-06T18:48:21.913Z"
   },
   {
    "duration": 32,
    "start_time": "2022-06-06T18:48:22.074Z"
   },
   {
    "duration": 48,
    "start_time": "2022-06-06T18:48:22.108Z"
   },
   {
    "duration": 55,
    "start_time": "2022-06-06T18:48:22.159Z"
   },
   {
    "duration": 133,
    "start_time": "2022-06-06T18:48:22.216Z"
   },
   {
    "duration": 4,
    "start_time": "2022-06-06T18:48:22.351Z"
   },
   {
    "duration": 190,
    "start_time": "2022-06-06T18:48:22.357Z"
   },
   {
    "duration": 127,
    "start_time": "2022-06-06T18:48:22.548Z"
   },
   {
    "duration": 24,
    "start_time": "2022-06-06T18:48:22.686Z"
   },
   {
    "duration": 65,
    "start_time": "2022-06-06T18:48:22.718Z"
   },
   {
    "duration": 46,
    "start_time": "2022-06-06T18:48:22.785Z"
   },
   {
    "duration": 115,
    "start_time": "2022-06-06T18:48:22.842Z"
   },
   {
    "duration": 67,
    "start_time": "2022-06-06T18:48:22.966Z"
   },
   {
    "duration": 53,
    "start_time": "2022-06-06T18:48:23.039Z"
   },
   {
    "duration": 490,
    "start_time": "2022-06-06T18:48:23.094Z"
   },
   {
    "duration": 4,
    "start_time": "2022-06-06T18:48:23.586Z"
   },
   {
    "duration": 110,
    "start_time": "2022-06-06T18:48:23.591Z"
   },
   {
    "duration": 12,
    "start_time": "2022-06-06T18:48:23.703Z"
   },
   {
    "duration": 14,
    "start_time": "2022-06-06T18:48:23.717Z"
   },
   {
    "duration": 40,
    "start_time": "2022-06-06T18:48:23.733Z"
   },
   {
    "duration": 26,
    "start_time": "2022-06-06T18:48:23.783Z"
   },
   {
    "duration": 73,
    "start_time": "2022-06-06T18:48:23.812Z"
   },
   {
    "duration": 171,
    "start_time": "2022-06-06T18:48:23.890Z"
   },
   {
    "duration": 30,
    "start_time": "2022-06-06T18:48:24.066Z"
   },
   {
    "duration": 23,
    "start_time": "2022-06-06T18:48:24.098Z"
   },
   {
    "duration": 26,
    "start_time": "2022-06-06T18:48:24.136Z"
   },
   {
    "duration": 43,
    "start_time": "2022-06-06T18:48:24.167Z"
   },
   {
    "duration": 61,
    "start_time": "2022-06-06T18:48:24.213Z"
   },
   {
    "duration": 60,
    "start_time": "2022-06-06T18:48:24.276Z"
   },
   {
    "duration": 140,
    "start_time": "2022-06-06T18:48:24.341Z"
   },
   {
    "duration": 8,
    "start_time": "2022-06-06T18:48:24.487Z"
   },
   {
    "duration": 46,
    "start_time": "2022-06-06T18:48:24.501Z"
   },
   {
    "duration": 32,
    "start_time": "2022-06-06T18:48:24.554Z"
   },
   {
    "duration": 15,
    "start_time": "2022-06-06T18:48:24.589Z"
   },
   {
    "duration": 132,
    "start_time": "2022-06-06T18:48:24.607Z"
   },
   {
    "duration": 10,
    "start_time": "2022-06-06T18:49:03.577Z"
   },
   {
    "duration": 15,
    "start_time": "2022-06-06T18:49:20.551Z"
   },
   {
    "duration": 4,
    "start_time": "2022-06-06T18:54:34.833Z"
   },
   {
    "duration": 224,
    "start_time": "2022-06-06T18:54:34.838Z"
   },
   {
    "duration": 14,
    "start_time": "2022-06-06T18:54:35.067Z"
   },
   {
    "duration": 33,
    "start_time": "2022-06-06T18:54:35.083Z"
   },
   {
    "duration": 116,
    "start_time": "2022-06-06T18:54:35.118Z"
   },
   {
    "duration": 30,
    "start_time": "2022-06-06T18:54:35.237Z"
   },
   {
    "duration": 11,
    "start_time": "2022-06-06T18:54:35.269Z"
   },
   {
    "duration": 57,
    "start_time": "2022-06-06T18:54:35.283Z"
   },
   {
    "duration": 135,
    "start_time": "2022-06-06T18:54:35.342Z"
   },
   {
    "duration": 6,
    "start_time": "2022-06-06T18:54:35.480Z"
   },
   {
    "duration": 118,
    "start_time": "2022-06-06T18:54:35.489Z"
   },
   {
    "duration": 107,
    "start_time": "2022-06-06T18:54:35.609Z"
   },
   {
    "duration": 15,
    "start_time": "2022-06-06T18:54:35.722Z"
   },
   {
    "duration": 11,
    "start_time": "2022-06-06T18:54:35.738Z"
   },
   {
    "duration": 15,
    "start_time": "2022-06-06T18:54:35.751Z"
   },
   {
    "duration": 10,
    "start_time": "2022-06-06T18:54:35.770Z"
   },
   {
    "duration": 72,
    "start_time": "2022-06-06T18:54:35.781Z"
   },
   {
    "duration": 49,
    "start_time": "2022-06-06T18:54:35.855Z"
   },
   {
    "duration": 465,
    "start_time": "2022-06-06T18:54:35.906Z"
   },
   {
    "duration": 3,
    "start_time": "2022-06-06T18:54:36.373Z"
   },
   {
    "duration": 128,
    "start_time": "2022-06-06T18:54:36.380Z"
   },
   {
    "duration": 17,
    "start_time": "2022-06-06T18:54:36.511Z"
   },
   {
    "duration": 6,
    "start_time": "2022-06-06T18:54:36.531Z"
   },
   {
    "duration": 24,
    "start_time": "2022-06-06T18:54:36.539Z"
   },
   {
    "duration": 12,
    "start_time": "2022-06-06T18:54:36.564Z"
   },
   {
    "duration": 70,
    "start_time": "2022-06-06T18:54:36.578Z"
   },
   {
    "duration": 157,
    "start_time": "2022-06-06T18:54:36.650Z"
   },
   {
    "duration": 21,
    "start_time": "2022-06-06T18:54:36.809Z"
   },
   {
    "duration": 13,
    "start_time": "2022-06-06T18:54:36.835Z"
   },
   {
    "duration": 17,
    "start_time": "2022-06-06T18:54:36.850Z"
   },
   {
    "duration": 30,
    "start_time": "2022-06-06T18:54:36.869Z"
   },
   {
    "duration": 9,
    "start_time": "2022-06-06T18:54:36.901Z"
   },
   {
    "duration": 52,
    "start_time": "2022-06-06T18:54:36.924Z"
   },
   {
    "duration": 135,
    "start_time": "2022-06-06T18:54:36.978Z"
   },
   {
    "duration": 8,
    "start_time": "2022-06-06T18:54:37.123Z"
   },
   {
    "duration": 25,
    "start_time": "2022-06-06T18:54:37.134Z"
   },
   {
    "duration": 14,
    "start_time": "2022-06-06T18:54:37.164Z"
   },
   {
    "duration": 7,
    "start_time": "2022-06-06T18:54:37.180Z"
   },
   {
    "duration": 23,
    "start_time": "2022-06-06T18:54:37.188Z"
   },
   {
    "duration": 3,
    "start_time": "2022-06-06T19:04:37.851Z"
   },
   {
    "duration": 198,
    "start_time": "2022-06-06T19:04:37.856Z"
   },
   {
    "duration": 10,
    "start_time": "2022-06-06T19:04:38.056Z"
   },
   {
    "duration": 21,
    "start_time": "2022-06-06T19:04:38.067Z"
   },
   {
    "duration": 122,
    "start_time": "2022-06-06T19:04:38.091Z"
   },
   {
    "duration": 26,
    "start_time": "2022-06-06T19:04:38.215Z"
   },
   {
    "duration": 5,
    "start_time": "2022-06-06T19:04:38.246Z"
   },
   {
    "duration": 41,
    "start_time": "2022-06-06T19:04:38.252Z"
   },
   {
    "duration": 107,
    "start_time": "2022-06-06T19:04:38.294Z"
   },
   {
    "duration": 4,
    "start_time": "2022-06-06T19:04:38.402Z"
   },
   {
    "duration": 108,
    "start_time": "2022-06-06T19:04:38.409Z"
   },
   {
    "duration": 102,
    "start_time": "2022-06-06T19:04:38.524Z"
   },
   {
    "duration": 20,
    "start_time": "2022-06-06T19:04:38.629Z"
   },
   {
    "duration": 6,
    "start_time": "2022-06-06T19:04:38.651Z"
   },
   {
    "duration": 13,
    "start_time": "2022-06-06T19:04:38.658Z"
   },
   {
    "duration": 7,
    "start_time": "2022-06-06T19:04:38.673Z"
   },
   {
    "duration": 29,
    "start_time": "2022-06-06T19:04:38.681Z"
   },
   {
    "duration": 31,
    "start_time": "2022-06-06T19:04:38.728Z"
   },
   {
    "duration": 246,
    "start_time": "2022-06-06T19:04:38.761Z"
   },
   {
    "duration": 19,
    "start_time": "2022-06-06T19:04:39.010Z"
   },
   {
    "duration": 81,
    "start_time": "2022-06-06T19:04:39.033Z"
   },
   {
    "duration": 8,
    "start_time": "2022-06-06T19:04:39.116Z"
   },
   {
    "duration": 14,
    "start_time": "2022-06-06T19:04:39.131Z"
   },
   {
    "duration": 17,
    "start_time": "2022-06-06T19:04:39.147Z"
   },
   {
    "duration": 8,
    "start_time": "2022-06-06T19:04:39.166Z"
   },
   {
    "duration": 40,
    "start_time": "2022-06-06T19:04:39.175Z"
   },
   {
    "duration": 84,
    "start_time": "2022-06-06T19:04:39.229Z"
   },
   {
    "duration": 26,
    "start_time": "2022-06-06T19:04:39.315Z"
   },
   {
    "duration": 9,
    "start_time": "2022-06-06T19:04:39.344Z"
   },
   {
    "duration": 21,
    "start_time": "2022-06-06T19:04:39.354Z"
   },
   {
    "duration": 59,
    "start_time": "2022-06-06T19:04:39.376Z"
   },
   {
    "duration": 14,
    "start_time": "2022-06-06T19:04:39.437Z"
   },
   {
    "duration": 45,
    "start_time": "2022-06-06T19:04:39.453Z"
   },
   {
    "duration": 90,
    "start_time": "2022-06-06T19:04:39.501Z"
   },
   {
    "duration": 5,
    "start_time": "2022-06-06T19:04:39.593Z"
   },
   {
    "duration": 65,
    "start_time": "2022-06-06T19:04:39.600Z"
   },
   {
    "duration": 24,
    "start_time": "2022-06-06T19:04:39.667Z"
   },
   {
    "duration": 28,
    "start_time": "2022-06-06T19:04:39.693Z"
   },
   {
    "duration": 30,
    "start_time": "2022-06-06T19:04:39.724Z"
   },
   {
    "duration": 10,
    "start_time": "2022-06-06T19:04:59.453Z"
   },
   {
    "duration": 2,
    "start_time": "2022-06-06T19:07:40.598Z"
   },
   {
    "duration": 191,
    "start_time": "2022-06-06T19:07:40.602Z"
   },
   {
    "duration": 11,
    "start_time": "2022-06-06T19:07:40.795Z"
   },
   {
    "duration": 34,
    "start_time": "2022-06-06T19:07:40.808Z"
   },
   {
    "duration": 99,
    "start_time": "2022-06-06T19:07:40.845Z"
   },
   {
    "duration": 18,
    "start_time": "2022-06-06T19:07:40.946Z"
   },
   {
    "duration": 4,
    "start_time": "2022-06-06T19:07:40.966Z"
   },
   {
    "duration": 25,
    "start_time": "2022-06-06T19:07:40.971Z"
   },
   {
    "duration": 104,
    "start_time": "2022-06-06T19:07:40.998Z"
   },
   {
    "duration": 4,
    "start_time": "2022-06-06T19:07:41.104Z"
   },
   {
    "duration": 102,
    "start_time": "2022-06-06T19:07:41.124Z"
   },
   {
    "duration": 74,
    "start_time": "2022-06-06T19:07:41.231Z"
   },
   {
    "duration": 32,
    "start_time": "2022-06-06T19:07:41.307Z"
   },
   {
    "duration": 6,
    "start_time": "2022-06-06T19:07:41.342Z"
   },
   {
    "duration": 11,
    "start_time": "2022-06-06T19:07:41.350Z"
   },
   {
    "duration": 6,
    "start_time": "2022-06-06T19:07:41.363Z"
   },
   {
    "duration": 30,
    "start_time": "2022-06-06T19:07:41.371Z"
   },
   {
    "duration": 50,
    "start_time": "2022-06-06T19:07:41.403Z"
   },
   {
    "duration": 245,
    "start_time": "2022-06-06T19:07:41.454Z"
   },
   {
    "duration": 4,
    "start_time": "2022-06-06T19:07:41.700Z"
   },
   {
    "duration": 84,
    "start_time": "2022-06-06T19:07:41.706Z"
   },
   {
    "duration": 8,
    "start_time": "2022-06-06T19:07:41.792Z"
   },
   {
    "duration": 25,
    "start_time": "2022-06-06T19:07:41.802Z"
   },
   {
    "duration": 16,
    "start_time": "2022-06-06T19:07:41.834Z"
   },
   {
    "duration": 6,
    "start_time": "2022-06-06T19:07:41.851Z"
   },
   {
    "duration": 34,
    "start_time": "2022-06-06T19:07:41.859Z"
   },
   {
    "duration": 102,
    "start_time": "2022-06-06T19:07:41.895Z"
   },
   {
    "duration": 14,
    "start_time": "2022-06-06T19:07:41.999Z"
   },
   {
    "duration": 14,
    "start_time": "2022-06-06T19:07:42.026Z"
   },
   {
    "duration": 12,
    "start_time": "2022-06-06T19:07:42.042Z"
   },
   {
    "duration": 20,
    "start_time": "2022-06-06T19:07:42.055Z"
   },
   {
    "duration": 6,
    "start_time": "2022-06-06T19:07:42.077Z"
   },
   {
    "duration": 32,
    "start_time": "2022-06-06T19:07:42.084Z"
   },
   {
    "duration": 91,
    "start_time": "2022-06-06T19:07:42.117Z"
   },
   {
    "duration": 17,
    "start_time": "2022-06-06T19:07:42.210Z"
   },
   {
    "duration": 28,
    "start_time": "2022-06-06T19:07:42.229Z"
   },
   {
    "duration": 10,
    "start_time": "2022-06-06T19:07:42.259Z"
   },
   {
    "duration": 5,
    "start_time": "2022-06-06T19:07:42.271Z"
   },
   {
    "duration": 11,
    "start_time": "2022-06-06T19:07:42.278Z"
   },
   {
    "duration": 8,
    "start_time": "2022-06-06T19:08:06.101Z"
   },
   {
    "duration": 7,
    "start_time": "2022-06-06T19:08:50.493Z"
   },
   {
    "duration": 11,
    "start_time": "2022-06-06T19:09:13.484Z"
   },
   {
    "duration": 1159,
    "start_time": "2022-06-06T19:10:04.847Z"
   },
   {
    "duration": 236,
    "start_time": "2022-06-06T19:10:06.008Z"
   },
   {
    "duration": 16,
    "start_time": "2022-06-06T19:10:06.248Z"
   },
   {
    "duration": 31,
    "start_time": "2022-06-06T19:10:06.266Z"
   },
   {
    "duration": 140,
    "start_time": "2022-06-06T19:10:06.300Z"
   },
   {
    "duration": 28,
    "start_time": "2022-06-06T19:10:06.443Z"
   },
   {
    "duration": 8,
    "start_time": "2022-06-06T19:10:06.473Z"
   },
   {
    "duration": 48,
    "start_time": "2022-06-06T19:10:06.483Z"
   },
   {
    "duration": 121,
    "start_time": "2022-06-06T19:10:06.538Z"
   },
   {
    "duration": 4,
    "start_time": "2022-06-06T19:10:06.661Z"
   },
   {
    "duration": 116,
    "start_time": "2022-06-06T19:10:06.667Z"
   },
   {
    "duration": 87,
    "start_time": "2022-06-06T19:10:06.786Z"
   },
   {
    "duration": 13,
    "start_time": "2022-06-06T19:10:06.875Z"
   },
   {
    "duration": 4,
    "start_time": "2022-06-06T19:10:06.892Z"
   },
   {
    "duration": 33,
    "start_time": "2022-06-06T19:10:06.899Z"
   },
   {
    "duration": 13,
    "start_time": "2022-06-06T19:10:06.933Z"
   },
   {
    "duration": 32,
    "start_time": "2022-06-06T19:10:06.948Z"
   },
   {
    "duration": 53,
    "start_time": "2022-06-06T19:10:06.983Z"
   },
   {
    "duration": 349,
    "start_time": "2022-06-06T19:10:07.039Z"
   },
   {
    "duration": 4,
    "start_time": "2022-06-06T19:10:07.389Z"
   },
   {
    "duration": 77,
    "start_time": "2022-06-06T19:10:07.395Z"
   },
   {
    "duration": 12,
    "start_time": "2022-06-06T19:10:07.474Z"
   },
   {
    "duration": 5,
    "start_time": "2022-06-06T19:10:07.488Z"
   },
   {
    "duration": 39,
    "start_time": "2022-06-06T19:10:07.494Z"
   },
   {
    "duration": 13,
    "start_time": "2022-06-06T19:10:07.535Z"
   },
   {
    "duration": 60,
    "start_time": "2022-06-06T19:10:07.550Z"
   },
   {
    "duration": 84,
    "start_time": "2022-06-06T19:10:07.622Z"
   },
   {
    "duration": 34,
    "start_time": "2022-06-06T19:10:07.708Z"
   },
   {
    "duration": 8,
    "start_time": "2022-06-06T19:10:07.744Z"
   },
   {
    "duration": 16,
    "start_time": "2022-06-06T19:10:07.754Z"
   },
   {
    "duration": 21,
    "start_time": "2022-06-06T19:10:07.772Z"
   },
   {
    "duration": 8,
    "start_time": "2022-06-06T19:10:07.795Z"
   },
   {
    "duration": 47,
    "start_time": "2022-06-06T19:10:07.805Z"
   },
   {
    "duration": 110,
    "start_time": "2022-06-06T19:10:07.854Z"
   },
   {
    "duration": 5,
    "start_time": "2022-06-06T19:10:07.966Z"
   },
   {
    "duration": 27,
    "start_time": "2022-06-06T19:10:07.973Z"
   },
   {
    "duration": 29,
    "start_time": "2022-06-06T19:10:08.002Z"
   },
   {
    "duration": 25,
    "start_time": "2022-06-06T19:10:08.033Z"
   },
   {
    "duration": 124,
    "start_time": "2022-06-06T19:10:08.059Z"
   },
   {
    "duration": 0,
    "start_time": "2022-06-06T19:10:08.185Z"
   },
   {
    "duration": 0,
    "start_time": "2022-06-06T19:10:08.186Z"
   },
   {
    "duration": 1155,
    "start_time": "2022-06-06T19:11:13.910Z"
   },
   {
    "duration": 172,
    "start_time": "2022-06-06T19:11:15.067Z"
   },
   {
    "duration": 14,
    "start_time": "2022-06-06T19:11:15.243Z"
   },
   {
    "duration": 20,
    "start_time": "2022-06-06T19:11:15.259Z"
   },
   {
    "duration": 128,
    "start_time": "2022-06-06T19:11:15.282Z"
   },
   {
    "duration": 39,
    "start_time": "2022-06-06T19:11:15.411Z"
   },
   {
    "duration": 4,
    "start_time": "2022-06-06T19:11:15.451Z"
   },
   {
    "duration": 49,
    "start_time": "2022-06-06T19:11:15.458Z"
   },
   {
    "duration": 101,
    "start_time": "2022-06-06T19:11:15.509Z"
   },
   {
    "duration": 12,
    "start_time": "2022-06-06T19:11:15.612Z"
   },
   {
    "duration": 105,
    "start_time": "2022-06-06T19:11:15.625Z"
   },
   {
    "duration": 77,
    "start_time": "2022-06-06T19:11:15.735Z"
   },
   {
    "duration": 24,
    "start_time": "2022-06-06T19:11:15.813Z"
   },
   {
    "duration": 11,
    "start_time": "2022-06-06T19:11:15.845Z"
   },
   {
    "duration": 21,
    "start_time": "2022-06-06T19:11:15.857Z"
   },
   {
    "duration": 16,
    "start_time": "2022-06-06T19:11:15.880Z"
   },
   {
    "duration": 86,
    "start_time": "2022-06-06T19:11:15.897Z"
   },
   {
    "duration": 34,
    "start_time": "2022-06-06T19:11:15.985Z"
   },
   {
    "duration": 353,
    "start_time": "2022-06-06T19:11:16.021Z"
   },
   {
    "duration": 4,
    "start_time": "2022-06-06T19:11:16.376Z"
   },
   {
    "duration": 83,
    "start_time": "2022-06-06T19:11:16.382Z"
   },
   {
    "duration": 9,
    "start_time": "2022-06-06T19:11:16.467Z"
   },
   {
    "duration": 5,
    "start_time": "2022-06-06T19:11:16.478Z"
   },
   {
    "duration": 39,
    "start_time": "2022-06-06T19:11:16.484Z"
   },
   {
    "duration": 15,
    "start_time": "2022-06-06T19:11:16.524Z"
   },
   {
    "duration": 41,
    "start_time": "2022-06-06T19:11:16.541Z"
   },
   {
    "duration": 89,
    "start_time": "2022-06-06T19:11:16.583Z"
   },
   {
    "duration": 12,
    "start_time": "2022-06-06T19:11:16.674Z"
   },
   {
    "duration": 7,
    "start_time": "2022-06-06T19:11:16.688Z"
   },
   {
    "duration": 30,
    "start_time": "2022-06-06T19:11:16.696Z"
   },
   {
    "duration": 21,
    "start_time": "2022-06-06T19:11:16.728Z"
   },
   {
    "duration": 9,
    "start_time": "2022-06-06T19:11:16.750Z"
   },
   {
    "duration": 34,
    "start_time": "2022-06-06T19:11:16.760Z"
   },
   {
    "duration": 93,
    "start_time": "2022-06-06T19:11:16.796Z"
   },
   {
    "duration": 5,
    "start_time": "2022-06-06T19:11:16.891Z"
   },
   {
    "duration": 28,
    "start_time": "2022-06-06T19:11:16.898Z"
   },
   {
    "duration": 32,
    "start_time": "2022-06-06T19:11:16.930Z"
   },
   {
    "duration": 8,
    "start_time": "2022-06-06T19:11:16.964Z"
   },
   {
    "duration": 15,
    "start_time": "2022-06-06T19:11:16.974Z"
   },
   {
    "duration": 11,
    "start_time": "2022-06-06T19:11:16.991Z"
   },
   {
    "duration": 7,
    "start_time": "2022-06-06T19:11:17.005Z"
   },
   {
    "duration": 7,
    "start_time": "2022-06-06T19:19:49.545Z"
   },
   {
    "duration": 4,
    "start_time": "2022-06-06T19:20:47.344Z"
   },
   {
    "duration": 164,
    "start_time": "2022-06-06T19:20:47.350Z"
   },
   {
    "duration": 16,
    "start_time": "2022-06-06T19:20:47.516Z"
   },
   {
    "duration": 28,
    "start_time": "2022-06-06T19:20:47.534Z"
   },
   {
    "duration": 99,
    "start_time": "2022-06-06T19:20:47.564Z"
   },
   {
    "duration": 21,
    "start_time": "2022-06-06T19:20:47.665Z"
   },
   {
    "duration": 3,
    "start_time": "2022-06-06T19:20:47.688Z"
   },
   {
    "duration": 48,
    "start_time": "2022-06-06T19:20:47.692Z"
   },
   {
    "duration": 97,
    "start_time": "2022-06-06T19:20:47.741Z"
   },
   {
    "duration": 3,
    "start_time": "2022-06-06T19:20:47.840Z"
   },
   {
    "duration": 116,
    "start_time": "2022-06-06T19:20:47.847Z"
   },
   {
    "duration": 106,
    "start_time": "2022-06-06T19:20:47.965Z"
   },
   {
    "duration": 13,
    "start_time": "2022-06-06T19:20:48.073Z"
   },
   {
    "duration": 12,
    "start_time": "2022-06-06T19:20:48.087Z"
   },
   {
    "duration": 9,
    "start_time": "2022-06-06T19:20:48.100Z"
   },
   {
    "duration": 21,
    "start_time": "2022-06-06T19:20:48.110Z"
   },
   {
    "duration": 39,
    "start_time": "2022-06-06T19:20:48.133Z"
   },
   {
    "duration": 27,
    "start_time": "2022-06-06T19:20:48.174Z"
   },
   {
    "duration": 245,
    "start_time": "2022-06-06T19:20:48.203Z"
   },
   {
    "duration": 3,
    "start_time": "2022-06-06T19:20:48.450Z"
   },
   {
    "duration": 80,
    "start_time": "2022-06-06T19:20:48.455Z"
   },
   {
    "duration": 7,
    "start_time": "2022-06-06T19:20:48.537Z"
   },
   {
    "duration": 4,
    "start_time": "2022-06-06T19:20:48.546Z"
   },
   {
    "duration": 16,
    "start_time": "2022-06-06T19:20:48.552Z"
   },
   {
    "duration": 6,
    "start_time": "2022-06-06T19:20:48.570Z"
   },
   {
    "duration": 60,
    "start_time": "2022-06-06T19:20:48.577Z"
   },
   {
    "duration": 70,
    "start_time": "2022-06-06T19:20:48.640Z"
   },
   {
    "duration": 25,
    "start_time": "2022-06-06T19:20:48.712Z"
   },
   {
    "duration": 9,
    "start_time": "2022-06-06T19:20:48.741Z"
   },
   {
    "duration": 14,
    "start_time": "2022-06-06T19:20:48.752Z"
   },
   {
    "duration": 13,
    "start_time": "2022-06-06T19:20:48.767Z"
   },
   {
    "duration": 7,
    "start_time": "2022-06-06T19:20:48.781Z"
   },
   {
    "duration": 49,
    "start_time": "2022-06-06T19:20:48.789Z"
   },
   {
    "duration": 87,
    "start_time": "2022-06-06T19:20:48.840Z"
   },
   {
    "duration": 9,
    "start_time": "2022-06-06T19:20:48.931Z"
   },
   {
    "duration": 20,
    "start_time": "2022-06-06T19:20:48.942Z"
   },
   {
    "duration": 9,
    "start_time": "2022-06-06T19:20:48.963Z"
   },
   {
    "duration": 8,
    "start_time": "2022-06-06T19:20:48.973Z"
   },
   {
    "duration": 15,
    "start_time": "2022-06-06T19:20:48.983Z"
   },
   {
    "duration": 29,
    "start_time": "2022-06-06T19:20:49.000Z"
   },
   {
    "duration": 0,
    "start_time": "2022-06-06T19:20:49.031Z"
   },
   {
    "duration": 9,
    "start_time": "2022-06-06T19:21:12.813Z"
   },
   {
    "duration": 3,
    "start_time": "2022-06-06T19:21:16.393Z"
   },
   {
    "duration": 182,
    "start_time": "2022-06-06T19:21:16.398Z"
   },
   {
    "duration": 9,
    "start_time": "2022-06-06T19:21:16.582Z"
   },
   {
    "duration": 33,
    "start_time": "2022-06-06T19:21:16.593Z"
   },
   {
    "duration": 91,
    "start_time": "2022-06-06T19:21:16.627Z"
   },
   {
    "duration": 25,
    "start_time": "2022-06-06T19:21:16.724Z"
   },
   {
    "duration": 3,
    "start_time": "2022-06-06T19:21:16.751Z"
   },
   {
    "duration": 26,
    "start_time": "2022-06-06T19:21:16.755Z"
   },
   {
    "duration": 107,
    "start_time": "2022-06-06T19:21:16.783Z"
   },
   {
    "duration": 4,
    "start_time": "2022-06-06T19:21:16.891Z"
   },
   {
    "duration": 117,
    "start_time": "2022-06-06T19:21:16.896Z"
   },
   {
    "duration": 80,
    "start_time": "2022-06-06T19:21:17.014Z"
   },
   {
    "duration": 14,
    "start_time": "2022-06-06T19:21:17.096Z"
   },
   {
    "duration": 5,
    "start_time": "2022-06-06T19:21:17.123Z"
   },
   {
    "duration": 19,
    "start_time": "2022-06-06T19:21:17.130Z"
   },
   {
    "duration": 7,
    "start_time": "2022-06-06T19:21:17.151Z"
   },
   {
    "duration": 28,
    "start_time": "2022-06-06T19:21:17.159Z"
   },
   {
    "duration": 48,
    "start_time": "2022-06-06T19:21:17.189Z"
   },
   {
    "duration": 243,
    "start_time": "2022-06-06T19:21:17.239Z"
   },
   {
    "duration": 4,
    "start_time": "2022-06-06T19:21:17.484Z"
   },
   {
    "duration": 77,
    "start_time": "2022-06-06T19:21:17.490Z"
   },
   {
    "duration": 8,
    "start_time": "2022-06-06T19:21:17.569Z"
   },
   {
    "duration": 4,
    "start_time": "2022-06-06T19:21:17.578Z"
   },
   {
    "duration": 15,
    "start_time": "2022-06-06T19:21:17.585Z"
   },
   {
    "duration": 30,
    "start_time": "2022-06-06T19:21:17.601Z"
   },
   {
    "duration": 37,
    "start_time": "2022-06-06T19:21:17.637Z"
   },
   {
    "duration": 80,
    "start_time": "2022-06-06T19:21:17.676Z"
   },
   {
    "duration": 12,
    "start_time": "2022-06-06T19:21:17.758Z"
   },
   {
    "duration": 10,
    "start_time": "2022-06-06T19:21:17.772Z"
   },
   {
    "duration": 13,
    "start_time": "2022-06-06T19:21:17.784Z"
   },
   {
    "duration": 30,
    "start_time": "2022-06-06T19:21:17.824Z"
   },
   {
    "duration": 15,
    "start_time": "2022-06-06T19:21:17.856Z"
   },
   {
    "duration": 40,
    "start_time": "2022-06-06T19:21:17.872Z"
   },
   {
    "duration": 99,
    "start_time": "2022-06-06T19:21:17.914Z"
   },
   {
    "duration": 12,
    "start_time": "2022-06-06T19:21:18.015Z"
   },
   {
    "duration": 18,
    "start_time": "2022-06-06T19:21:18.035Z"
   },
   {
    "duration": 12,
    "start_time": "2022-06-06T19:21:18.055Z"
   },
   {
    "duration": 5,
    "start_time": "2022-06-06T19:21:18.069Z"
   },
   {
    "duration": 15,
    "start_time": "2022-06-06T19:21:18.075Z"
   },
   {
    "duration": 15,
    "start_time": "2022-06-06T19:21:18.092Z"
   },
   {
    "duration": 11,
    "start_time": "2022-06-06T19:21:18.109Z"
   },
   {
    "duration": 1204,
    "start_time": "2022-06-07T09:18:37.065Z"
   },
   {
    "duration": 510,
    "start_time": "2022-06-07T09:18:38.271Z"
   },
   {
    "duration": 12,
    "start_time": "2022-06-07T09:18:38.783Z"
   },
   {
    "duration": 45,
    "start_time": "2022-06-07T09:18:38.797Z"
   },
   {
    "duration": 98,
    "start_time": "2022-06-07T09:18:38.844Z"
   },
   {
    "duration": 25,
    "start_time": "2022-06-07T09:18:38.944Z"
   },
   {
    "duration": 19,
    "start_time": "2022-06-07T09:18:38.971Z"
   },
   {
    "duration": 45,
    "start_time": "2022-06-07T09:18:38.992Z"
   },
   {
    "duration": 95,
    "start_time": "2022-06-07T09:18:39.039Z"
   },
   {
    "duration": 3,
    "start_time": "2022-06-07T09:18:39.136Z"
   },
   {
    "duration": 120,
    "start_time": "2022-06-07T09:18:39.140Z"
   },
   {
    "duration": 68,
    "start_time": "2022-06-07T09:18:39.262Z"
   },
   {
    "duration": 13,
    "start_time": "2022-06-07T09:18:39.332Z"
   },
   {
    "duration": 21,
    "start_time": "2022-06-07T09:18:39.348Z"
   },
   {
    "duration": 40,
    "start_time": "2022-06-07T09:18:39.370Z"
   },
   {
    "duration": 26,
    "start_time": "2022-06-07T09:18:39.412Z"
   },
   {
    "duration": 51,
    "start_time": "2022-06-07T09:18:39.440Z"
   },
   {
    "duration": 43,
    "start_time": "2022-06-07T09:18:39.493Z"
   },
   {
    "duration": 309,
    "start_time": "2022-06-07T09:18:39.538Z"
   },
   {
    "duration": 4,
    "start_time": "2022-06-07T09:18:39.848Z"
   },
   {
    "duration": 86,
    "start_time": "2022-06-07T09:18:39.853Z"
   },
   {
    "duration": 9,
    "start_time": "2022-06-07T09:18:39.941Z"
   },
   {
    "duration": 24,
    "start_time": "2022-06-07T09:18:39.951Z"
   },
   {
    "duration": 24,
    "start_time": "2022-06-07T09:18:39.977Z"
   },
   {
    "duration": 27,
    "start_time": "2022-06-07T09:18:40.003Z"
   },
   {
    "duration": 55,
    "start_time": "2022-06-07T09:18:40.032Z"
   },
   {
    "duration": 88,
    "start_time": "2022-06-07T09:18:40.089Z"
   },
   {
    "duration": 12,
    "start_time": "2022-06-07T09:18:40.179Z"
   },
   {
    "duration": 29,
    "start_time": "2022-06-07T09:18:40.193Z"
   },
   {
    "duration": 22,
    "start_time": "2022-06-07T09:18:40.224Z"
   },
   {
    "duration": 32,
    "start_time": "2022-06-07T09:18:40.247Z"
   },
   {
    "duration": 39,
    "start_time": "2022-06-07T09:18:40.281Z"
   },
   {
    "duration": 45,
    "start_time": "2022-06-07T09:18:40.321Z"
   },
   {
    "duration": 84,
    "start_time": "2022-06-07T09:18:40.368Z"
   },
   {
    "duration": 4,
    "start_time": "2022-06-07T09:18:40.454Z"
   },
   {
    "duration": 31,
    "start_time": "2022-06-07T09:18:40.459Z"
   },
   {
    "duration": 32,
    "start_time": "2022-06-07T09:18:40.491Z"
   },
   {
    "duration": 33,
    "start_time": "2022-06-07T09:18:40.524Z"
   },
   {
    "duration": 25,
    "start_time": "2022-06-07T09:18:40.558Z"
   },
   {
    "duration": 15,
    "start_time": "2022-06-07T09:18:40.584Z"
   },
   {
    "duration": 18,
    "start_time": "2022-06-07T09:18:40.602Z"
   },
   {
    "duration": 10,
    "start_time": "2022-06-07T09:23:52.926Z"
   },
   {
    "duration": 7,
    "start_time": "2022-06-07T09:29:19.904Z"
   },
   {
    "duration": 9,
    "start_time": "2022-06-07T09:30:11.024Z"
   },
   {
    "duration": 1116,
    "start_time": "2022-06-07T09:38:24.540Z"
   },
   {
    "duration": 159,
    "start_time": "2022-06-07T09:38:25.658Z"
   },
   {
    "duration": 15,
    "start_time": "2022-06-07T09:38:25.819Z"
   },
   {
    "duration": 38,
    "start_time": "2022-06-07T09:38:25.836Z"
   },
   {
    "duration": 95,
    "start_time": "2022-06-07T09:38:25.876Z"
   },
   {
    "duration": 24,
    "start_time": "2022-06-07T09:38:25.972Z"
   },
   {
    "duration": 30,
    "start_time": "2022-06-07T09:38:25.998Z"
   },
   {
    "duration": 43,
    "start_time": "2022-06-07T09:38:26.029Z"
   },
   {
    "duration": 98,
    "start_time": "2022-06-07T09:38:26.074Z"
   },
   {
    "duration": 3,
    "start_time": "2022-06-07T09:38:26.174Z"
   },
   {
    "duration": 92,
    "start_time": "2022-06-07T09:38:26.178Z"
   },
   {
    "duration": 76,
    "start_time": "2022-06-07T09:38:26.271Z"
   },
   {
    "duration": 12,
    "start_time": "2022-06-07T09:38:26.349Z"
   },
   {
    "duration": 6,
    "start_time": "2022-06-07T09:38:26.363Z"
   },
   {
    "duration": 11,
    "start_time": "2022-06-07T09:38:26.370Z"
   },
   {
    "duration": 7,
    "start_time": "2022-06-07T09:38:26.382Z"
   },
   {
    "duration": 55,
    "start_time": "2022-06-07T09:38:26.390Z"
   },
   {
    "duration": 28,
    "start_time": "2022-06-07T09:38:26.446Z"
   },
   {
    "duration": 317,
    "start_time": "2022-06-07T09:38:26.476Z"
   },
   {
    "duration": 4,
    "start_time": "2022-06-07T09:38:26.794Z"
   },
   {
    "duration": 90,
    "start_time": "2022-06-07T09:38:26.799Z"
   },
   {
    "duration": 9,
    "start_time": "2022-06-07T09:38:26.890Z"
   },
   {
    "duration": 5,
    "start_time": "2022-06-07T09:38:26.901Z"
   },
   {
    "duration": 25,
    "start_time": "2022-06-07T09:38:26.907Z"
   },
   {
    "duration": 7,
    "start_time": "2022-06-07T09:38:26.934Z"
   },
   {
    "duration": 35,
    "start_time": "2022-06-07T09:38:26.942Z"
   },
   {
    "duration": 88,
    "start_time": "2022-06-07T09:38:26.978Z"
   },
   {
    "duration": 12,
    "start_time": "2022-06-07T09:38:27.069Z"
   },
   {
    "duration": 7,
    "start_time": "2022-06-07T09:38:27.083Z"
   },
   {
    "duration": 39,
    "start_time": "2022-06-07T09:38:27.091Z"
   },
   {
    "duration": 18,
    "start_time": "2022-06-07T09:38:27.132Z"
   },
   {
    "duration": 8,
    "start_time": "2022-06-07T09:38:27.151Z"
   },
   {
    "duration": 33,
    "start_time": "2022-06-07T09:38:27.161Z"
   },
   {
    "duration": 91,
    "start_time": "2022-06-07T09:38:27.195Z"
   },
   {
    "duration": 5,
    "start_time": "2022-06-07T09:38:27.287Z"
   },
   {
    "duration": 21,
    "start_time": "2022-06-07T09:38:27.293Z"
   },
   {
    "duration": 8,
    "start_time": "2022-06-07T09:38:27.327Z"
   },
   {
    "duration": 6,
    "start_time": "2022-06-07T09:38:27.337Z"
   },
   {
    "duration": 13,
    "start_time": "2022-06-07T09:38:27.345Z"
   },
   {
    "duration": 18,
    "start_time": "2022-06-07T09:38:27.359Z"
   },
   {
    "duration": 17,
    "start_time": "2022-06-07T09:38:27.378Z"
   },
   {
    "duration": 12,
    "start_time": "2022-06-07T09:38:27.397Z"
   },
   {
    "duration": 9,
    "start_time": "2022-06-07T09:38:27.426Z"
   },
   {
    "duration": 10,
    "start_time": "2022-06-07T09:38:27.436Z"
   },
   {
    "duration": 11,
    "start_time": "2022-06-07T09:38:27.448Z"
   },
   {
    "duration": 11,
    "start_time": "2022-06-07T09:38:27.461Z"
   },
   {
    "duration": 9,
    "start_time": "2022-06-07T09:38:27.474Z"
   },
   {
    "duration": 7,
    "start_time": "2022-06-07T09:40:59.995Z"
   },
   {
    "duration": 1339,
    "start_time": "2022-06-07T10:59:27.162Z"
   },
   {
    "duration": 549,
    "start_time": "2022-06-07T10:59:28.503Z"
   },
   {
    "duration": 14,
    "start_time": "2022-06-07T10:59:29.053Z"
   },
   {
    "duration": 31,
    "start_time": "2022-06-07T10:59:29.069Z"
   },
   {
    "duration": 91,
    "start_time": "2022-06-07T10:59:29.102Z"
   },
   {
    "duration": 25,
    "start_time": "2022-06-07T10:59:29.195Z"
   },
   {
    "duration": 11,
    "start_time": "2022-06-07T10:59:29.222Z"
   },
   {
    "duration": 38,
    "start_time": "2022-06-07T10:59:29.234Z"
   },
   {
    "duration": 81,
    "start_time": "2022-06-07T10:59:29.274Z"
   },
   {
    "duration": 3,
    "start_time": "2022-06-07T10:59:29.364Z"
   },
   {
    "duration": 106,
    "start_time": "2022-06-07T10:59:29.369Z"
   },
   {
    "duration": 70,
    "start_time": "2022-06-07T10:59:29.476Z"
   },
   {
    "duration": 21,
    "start_time": "2022-06-07T10:59:29.548Z"
   },
   {
    "duration": 3,
    "start_time": "2022-06-07T10:59:29.571Z"
   },
   {
    "duration": 25,
    "start_time": "2022-06-07T10:59:29.576Z"
   },
   {
    "duration": 22,
    "start_time": "2022-06-07T10:59:29.603Z"
   },
   {
    "duration": 46,
    "start_time": "2022-06-07T10:59:29.627Z"
   },
   {
    "duration": 30,
    "start_time": "2022-06-07T10:59:29.674Z"
   },
   {
    "duration": 328,
    "start_time": "2022-06-07T10:59:29.705Z"
   },
   {
    "duration": 3,
    "start_time": "2022-06-07T10:59:30.035Z"
   },
   {
    "duration": 76,
    "start_time": "2022-06-07T10:59:30.040Z"
   },
   {
    "duration": 15,
    "start_time": "2022-06-07T10:59:30.118Z"
   },
   {
    "duration": 19,
    "start_time": "2022-06-07T10:59:30.135Z"
   },
   {
    "duration": 31,
    "start_time": "2022-06-07T10:59:30.157Z"
   },
   {
    "duration": 14,
    "start_time": "2022-06-07T10:59:30.190Z"
   },
   {
    "duration": 65,
    "start_time": "2022-06-07T10:59:30.205Z"
   },
   {
    "duration": 121,
    "start_time": "2022-06-07T10:59:30.272Z"
   },
   {
    "duration": 13,
    "start_time": "2022-06-07T10:59:30.397Z"
   },
   {
    "duration": 29,
    "start_time": "2022-06-07T10:59:30.411Z"
   },
   {
    "duration": 49,
    "start_time": "2022-06-07T10:59:30.442Z"
   },
   {
    "duration": 33,
    "start_time": "2022-06-07T10:59:30.492Z"
   },
   {
    "duration": 30,
    "start_time": "2022-06-07T10:59:30.527Z"
   },
   {
    "duration": 61,
    "start_time": "2022-06-07T10:59:30.560Z"
   },
   {
    "duration": 117,
    "start_time": "2022-06-07T10:59:30.623Z"
   },
   {
    "duration": 5,
    "start_time": "2022-06-07T10:59:30.742Z"
   },
   {
    "duration": 43,
    "start_time": "2022-06-07T10:59:30.749Z"
   },
   {
    "duration": 59,
    "start_time": "2022-06-07T10:59:30.794Z"
   },
   {
    "duration": 25,
    "start_time": "2022-06-07T10:59:30.855Z"
   },
   {
    "duration": 55,
    "start_time": "2022-06-07T10:59:30.882Z"
   },
   {
    "duration": 74,
    "start_time": "2022-06-07T10:59:30.939Z"
   },
   {
    "duration": 35,
    "start_time": "2022-06-07T10:59:31.015Z"
   },
   {
    "duration": 35,
    "start_time": "2022-06-07T10:59:31.052Z"
   },
   {
    "duration": 25,
    "start_time": "2022-06-07T10:59:31.089Z"
   },
   {
    "duration": 33,
    "start_time": "2022-06-07T10:59:31.116Z"
   },
   {
    "duration": 35,
    "start_time": "2022-06-07T10:59:31.151Z"
   },
   {
    "duration": 40,
    "start_time": "2022-06-07T10:59:31.188Z"
   },
   {
    "duration": 24,
    "start_time": "2022-06-07T10:59:31.230Z"
   },
   {
    "duration": 22,
    "start_time": "2022-06-07T10:59:31.256Z"
   },
   {
    "duration": 21,
    "start_time": "2022-06-07T10:59:31.279Z"
   },
   {
    "duration": 3,
    "start_time": "2022-06-07T10:59:51.606Z"
   },
   {
    "duration": 4,
    "start_time": "2022-06-07T11:00:24.303Z"
   },
   {
    "duration": 4,
    "start_time": "2022-06-07T11:00:47.013Z"
   },
   {
    "duration": 5,
    "start_time": "2022-06-07T11:00:59.314Z"
   },
   {
    "duration": 4,
    "start_time": "2022-06-07T11:02:59.832Z"
   },
   {
    "duration": 8,
    "start_time": "2022-06-07T11:03:09.441Z"
   },
   {
    "duration": 3,
    "start_time": "2022-06-07T11:05:31.326Z"
   },
   {
    "duration": 188,
    "start_time": "2022-06-07T11:05:31.331Z"
   },
   {
    "duration": 10,
    "start_time": "2022-06-07T11:05:31.521Z"
   },
   {
    "duration": 43,
    "start_time": "2022-06-07T11:05:31.533Z"
   },
   {
    "duration": 95,
    "start_time": "2022-06-07T11:05:31.578Z"
   },
   {
    "duration": 18,
    "start_time": "2022-06-07T11:05:31.675Z"
   },
   {
    "duration": 3,
    "start_time": "2022-06-07T11:05:31.694Z"
   },
   {
    "duration": 37,
    "start_time": "2022-06-07T11:05:31.698Z"
   },
   {
    "duration": 92,
    "start_time": "2022-06-07T11:05:31.736Z"
   },
   {
    "duration": 4,
    "start_time": "2022-06-07T11:05:31.830Z"
   },
   {
    "duration": 107,
    "start_time": "2022-06-07T11:05:31.835Z"
   },
   {
    "duration": 71,
    "start_time": "2022-06-07T11:05:31.944Z"
   },
   {
    "duration": 12,
    "start_time": "2022-06-07T11:05:32.017Z"
   },
   {
    "duration": 3,
    "start_time": "2022-06-07T11:05:32.032Z"
   },
   {
    "duration": 9,
    "start_time": "2022-06-07T11:05:32.036Z"
   },
   {
    "duration": 7,
    "start_time": "2022-06-07T11:05:32.064Z"
   },
   {
    "duration": 33,
    "start_time": "2022-06-07T11:05:32.072Z"
   },
   {
    "duration": 28,
    "start_time": "2022-06-07T11:05:32.106Z"
   },
   {
    "duration": 257,
    "start_time": "2022-06-07T11:05:32.136Z"
   },
   {
    "duration": 3,
    "start_time": "2022-06-07T11:05:32.395Z"
   },
   {
    "duration": 66,
    "start_time": "2022-06-07T11:05:32.399Z"
   },
   {
    "duration": 7,
    "start_time": "2022-06-07T11:05:32.466Z"
   },
   {
    "duration": 7,
    "start_time": "2022-06-07T11:05:32.475Z"
   },
   {
    "duration": 18,
    "start_time": "2022-06-07T11:05:32.483Z"
   },
   {
    "duration": 5,
    "start_time": "2022-06-07T11:05:32.503Z"
   },
   {
    "duration": 35,
    "start_time": "2022-06-07T11:05:32.510Z"
   },
   {
    "duration": 72,
    "start_time": "2022-06-07T11:05:32.566Z"
   },
   {
    "duration": 11,
    "start_time": "2022-06-07T11:05:32.640Z"
   },
   {
    "duration": 8,
    "start_time": "2022-06-07T11:05:32.665Z"
   },
   {
    "duration": 15,
    "start_time": "2022-06-07T11:05:32.675Z"
   },
   {
    "duration": 14,
    "start_time": "2022-06-07T11:05:32.692Z"
   },
   {
    "duration": 5,
    "start_time": "2022-06-07T11:05:32.708Z"
   },
   {
    "duration": 33,
    "start_time": "2022-06-07T11:05:32.715Z"
   },
   {
    "duration": 92,
    "start_time": "2022-06-07T11:05:32.750Z"
   },
   {
    "duration": 5,
    "start_time": "2022-06-07T11:05:32.844Z"
   },
   {
    "duration": 13,
    "start_time": "2022-06-07T11:05:32.864Z"
   },
   {
    "duration": 8,
    "start_time": "2022-06-07T11:05:32.879Z"
   },
   {
    "duration": 8,
    "start_time": "2022-06-07T11:05:32.889Z"
   },
   {
    "duration": 12,
    "start_time": "2022-06-07T11:05:32.898Z"
   },
   {
    "duration": 14,
    "start_time": "2022-06-07T11:05:32.911Z"
   },
   {
    "duration": 7,
    "start_time": "2022-06-07T11:05:32.928Z"
   },
   {
    "duration": 7,
    "start_time": "2022-06-07T11:05:32.965Z"
   },
   {
    "duration": 9,
    "start_time": "2022-06-07T11:05:32.974Z"
   },
   {
    "duration": 9,
    "start_time": "2022-06-07T11:05:32.984Z"
   },
   {
    "duration": 10,
    "start_time": "2022-06-07T11:05:32.995Z"
   },
   {
    "duration": 14,
    "start_time": "2022-06-07T11:05:33.006Z"
   },
   {
    "duration": 14,
    "start_time": "2022-06-07T11:05:33.021Z"
   },
   {
    "duration": 13,
    "start_time": "2022-06-07T11:05:33.037Z"
   },
   {
    "duration": 5,
    "start_time": "2022-06-07T11:05:33.065Z"
   },
   {
    "duration": 15,
    "start_time": "2022-06-07T11:05:33.071Z"
   },
   {
    "duration": 9,
    "start_time": "2022-06-07T11:05:33.087Z"
   },
   {
    "duration": 8,
    "start_time": "2022-06-07T11:05:33.098Z"
   },
   {
    "duration": 10,
    "start_time": "2022-06-07T11:05:33.107Z"
   },
   {
    "duration": 5,
    "start_time": "2022-06-07T11:07:25.235Z"
   },
   {
    "duration": 1113,
    "start_time": "2022-06-07T11:08:56.412Z"
   },
   {
    "duration": 163,
    "start_time": "2022-06-07T11:08:57.528Z"
   },
   {
    "duration": 15,
    "start_time": "2022-06-07T11:08:57.693Z"
   },
   {
    "duration": 24,
    "start_time": "2022-06-07T11:08:57.711Z"
   },
   {
    "duration": 113,
    "start_time": "2022-06-07T11:08:57.737Z"
   },
   {
    "duration": 33,
    "start_time": "2022-06-07T11:08:57.851Z"
   },
   {
    "duration": 9,
    "start_time": "2022-06-07T11:08:57.886Z"
   },
   {
    "duration": 32,
    "start_time": "2022-06-07T11:08:57.897Z"
   },
   {
    "duration": 102,
    "start_time": "2022-06-07T11:08:57.931Z"
   },
   {
    "duration": 3,
    "start_time": "2022-06-07T11:08:58.036Z"
   },
   {
    "duration": 101,
    "start_time": "2022-06-07T11:08:58.041Z"
   },
   {
    "duration": 78,
    "start_time": "2022-06-07T11:08:58.144Z"
   },
   {
    "duration": 14,
    "start_time": "2022-06-07T11:08:58.224Z"
   },
   {
    "duration": 26,
    "start_time": "2022-06-07T11:08:58.240Z"
   },
   {
    "duration": 19,
    "start_time": "2022-06-07T11:08:58.268Z"
   },
   {
    "duration": 14,
    "start_time": "2022-06-07T11:08:58.289Z"
   },
   {
    "duration": 41,
    "start_time": "2022-06-07T11:08:58.305Z"
   },
   {
    "duration": 29,
    "start_time": "2022-06-07T11:08:58.348Z"
   },
   {
    "duration": 338,
    "start_time": "2022-06-07T11:08:58.378Z"
   },
   {
    "duration": 4,
    "start_time": "2022-06-07T11:08:58.718Z"
   },
   {
    "duration": 68,
    "start_time": "2022-06-07T11:08:58.723Z"
   },
   {
    "duration": 10,
    "start_time": "2022-06-07T11:08:58.793Z"
   },
   {
    "duration": 5,
    "start_time": "2022-06-07T11:08:58.805Z"
   },
   {
    "duration": 15,
    "start_time": "2022-06-07T11:08:58.812Z"
   },
   {
    "duration": 39,
    "start_time": "2022-06-07T11:08:58.829Z"
   },
   {
    "duration": 49,
    "start_time": "2022-06-07T11:08:58.871Z"
   },
   {
    "duration": 103,
    "start_time": "2022-06-07T11:08:58.923Z"
   },
   {
    "duration": 14,
    "start_time": "2022-06-07T11:08:59.030Z"
   },
   {
    "duration": 21,
    "start_time": "2022-06-07T11:08:59.046Z"
   },
   {
    "duration": 18,
    "start_time": "2022-06-07T11:08:59.069Z"
   },
   {
    "duration": 20,
    "start_time": "2022-06-07T11:08:59.089Z"
   },
   {
    "duration": 6,
    "start_time": "2022-06-07T11:08:59.111Z"
   },
   {
    "duration": 73,
    "start_time": "2022-06-07T11:08:59.118Z"
   },
   {
    "duration": 92,
    "start_time": "2022-06-07T11:08:59.194Z"
   },
   {
    "duration": 4,
    "start_time": "2022-06-07T11:08:59.288Z"
   },
   {
    "duration": 19,
    "start_time": "2022-06-07T11:08:59.294Z"
   },
   {
    "duration": 9,
    "start_time": "2022-06-07T11:08:59.315Z"
   },
   {
    "duration": 8,
    "start_time": "2022-06-07T11:08:59.326Z"
   },
   {
    "duration": 8,
    "start_time": "2022-06-07T11:09:03.904Z"
   },
   {
    "duration": 7,
    "start_time": "2022-06-07T11:09:16.770Z"
   },
   {
    "duration": 7,
    "start_time": "2022-06-07T11:09:26.391Z"
   },
   {
    "duration": 7,
    "start_time": "2022-06-07T11:09:35.396Z"
   },
   {
    "duration": 7,
    "start_time": "2022-06-07T11:09:38.212Z"
   },
   {
    "duration": 6,
    "start_time": "2022-06-07T11:09:41.950Z"
   },
   {
    "duration": 10,
    "start_time": "2022-06-07T11:10:08.999Z"
   },
   {
    "duration": 9,
    "start_time": "2022-06-07T11:10:12.046Z"
   },
   {
    "duration": 8,
    "start_time": "2022-06-07T11:10:16.882Z"
   },
   {
    "duration": 4,
    "start_time": "2022-06-07T11:10:26.728Z"
   },
   {
    "duration": 5,
    "start_time": "2022-06-07T11:10:31.596Z"
   },
   {
    "duration": 8,
    "start_time": "2022-06-07T11:10:55.644Z"
   },
   {
    "duration": 8,
    "start_time": "2022-06-07T11:11:08.540Z"
   },
   {
    "duration": 11,
    "start_time": "2022-06-07T11:11:14.556Z"
   },
   {
    "duration": 8,
    "start_time": "2022-06-07T11:11:17.409Z"
   },
   {
    "duration": 4,
    "start_time": "2022-06-07T11:11:23.006Z"
   },
   {
    "duration": 4,
    "start_time": "2022-06-07T12:05:19.359Z"
   },
   {
    "duration": 4,
    "start_time": "2022-06-07T12:14:45.762Z"
   },
   {
    "duration": 1624,
    "start_time": "2022-06-07T12:56:09.362Z"
   },
   {
    "duration": 260,
    "start_time": "2022-06-07T12:56:10.989Z"
   },
   {
    "duration": 21,
    "start_time": "2022-06-07T12:56:11.252Z"
   },
   {
    "duration": 33,
    "start_time": "2022-06-07T12:56:11.275Z"
   },
   {
    "duration": 186,
    "start_time": "2022-06-07T12:56:11.311Z"
   },
   {
    "duration": 31,
    "start_time": "2022-06-07T12:56:11.499Z"
   },
   {
    "duration": 4,
    "start_time": "2022-06-07T12:56:11.533Z"
   },
   {
    "duration": 60,
    "start_time": "2022-06-07T12:56:11.540Z"
   },
   {
    "duration": 139,
    "start_time": "2022-06-07T12:56:11.602Z"
   },
   {
    "duration": 7,
    "start_time": "2022-06-07T12:56:11.743Z"
   },
   {
    "duration": 156,
    "start_time": "2022-06-07T12:56:11.752Z"
   },
   {
    "duration": 29,
    "start_time": "2022-06-07T12:56:11.910Z"
   },
   {
    "duration": 179,
    "start_time": "2022-06-07T12:58:31.469Z"
   },
   {
    "duration": 4,
    "start_time": "2022-06-07T12:58:45.414Z"
   },
   {
    "duration": 249,
    "start_time": "2022-06-07T12:58:45.420Z"
   },
   {
    "duration": 17,
    "start_time": "2022-06-07T12:58:45.672Z"
   },
   {
    "duration": 29,
    "start_time": "2022-06-07T12:58:45.691Z"
   },
   {
    "duration": 277,
    "start_time": "2022-06-07T12:58:45.724Z"
   },
   {
    "duration": 18,
    "start_time": "2022-06-07T12:58:46.004Z"
   },
   {
    "duration": 27,
    "start_time": "2022-06-07T12:58:46.025Z"
   },
   {
    "duration": 46,
    "start_time": "2022-06-07T12:58:46.057Z"
   },
   {
    "duration": 130,
    "start_time": "2022-06-07T12:58:46.105Z"
   },
   {
    "duration": 5,
    "start_time": "2022-06-07T12:58:46.237Z"
   },
   {
    "duration": 147,
    "start_time": "2022-06-07T12:58:46.244Z"
   },
   {
    "duration": 28,
    "start_time": "2022-06-07T12:58:46.394Z"
   },
   {
    "duration": 13,
    "start_time": "2022-06-07T12:58:48.017Z"
   },
   {
    "duration": 61,
    "start_time": "2022-06-07T12:59:10.028Z"
   },
   {
    "duration": 15,
    "start_time": "2022-06-07T12:59:25.464Z"
   },
   {
    "duration": 50,
    "start_time": "2022-06-07T12:59:53.400Z"
   },
   {
    "duration": 15,
    "start_time": "2022-06-07T12:59:55.356Z"
   },
   {
    "duration": 3,
    "start_time": "2022-06-07T13:00:01.658Z"
   },
   {
    "duration": 315,
    "start_time": "2022-06-07T13:00:01.664Z"
   },
   {
    "duration": 16,
    "start_time": "2022-06-07T13:00:01.981Z"
   },
   {
    "duration": 71,
    "start_time": "2022-06-07T13:00:02.000Z"
   },
   {
    "duration": 123,
    "start_time": "2022-06-07T13:00:02.074Z"
   },
   {
    "duration": 26,
    "start_time": "2022-06-07T13:00:02.199Z"
   },
   {
    "duration": 20,
    "start_time": "2022-06-07T13:00:02.228Z"
   },
   {
    "duration": 62,
    "start_time": "2022-06-07T13:00:02.251Z"
   },
   {
    "duration": 137,
    "start_time": "2022-06-07T13:00:02.316Z"
   },
   {
    "duration": 12,
    "start_time": "2022-06-07T13:00:02.455Z"
   },
   {
    "duration": 127,
    "start_time": "2022-06-07T13:00:02.469Z"
   },
   {
    "duration": 33,
    "start_time": "2022-06-07T13:00:02.598Z"
   },
   {
    "duration": 80,
    "start_time": "2022-06-07T13:00:02.633Z"
   },
   {
    "duration": 16,
    "start_time": "2022-06-07T13:00:02.716Z"
   },
   {
    "duration": 4,
    "start_time": "2022-06-07T13:00:26.609Z"
   },
   {
    "duration": 263,
    "start_time": "2022-06-07T13:00:26.616Z"
   },
   {
    "duration": 15,
    "start_time": "2022-06-07T13:00:26.882Z"
   },
   {
    "duration": 25,
    "start_time": "2022-06-07T13:00:26.899Z"
   },
   {
    "duration": 133,
    "start_time": "2022-06-07T13:00:26.927Z"
   },
   {
    "duration": 32,
    "start_time": "2022-06-07T13:00:27.066Z"
   },
   {
    "duration": 5,
    "start_time": "2022-06-07T13:00:27.101Z"
   },
   {
    "duration": 63,
    "start_time": "2022-06-07T13:00:27.108Z"
   },
   {
    "duration": 106,
    "start_time": "2022-06-07T13:00:27.173Z"
   },
   {
    "duration": 8,
    "start_time": "2022-06-07T13:00:27.282Z"
   },
   {
    "duration": 153,
    "start_time": "2022-06-07T13:00:27.292Z"
   },
   {
    "duration": 32,
    "start_time": "2022-06-07T13:00:27.448Z"
   },
   {
    "duration": 82,
    "start_time": "2022-06-07T13:00:27.483Z"
   },
   {
    "duration": 14,
    "start_time": "2022-06-07T13:00:27.566Z"
   },
   {
    "duration": 18,
    "start_time": "2022-06-07T13:00:27.582Z"
   },
   {
    "duration": 13,
    "start_time": "2022-06-07T13:00:27.602Z"
   },
   {
    "duration": 10,
    "start_time": "2022-06-07T13:00:27.617Z"
   },
   {
    "duration": 4,
    "start_time": "2022-06-07T13:00:47.904Z"
   },
   {
    "duration": 181,
    "start_time": "2022-06-07T13:00:47.910Z"
   },
   {
    "duration": 12,
    "start_time": "2022-06-07T13:00:48.093Z"
   },
   {
    "duration": 38,
    "start_time": "2022-06-07T13:00:48.107Z"
   },
   {
    "duration": 146,
    "start_time": "2022-06-07T13:00:48.168Z"
   },
   {
    "duration": 13,
    "start_time": "2022-06-07T13:00:48.316Z"
   },
   {
    "duration": 3,
    "start_time": "2022-06-07T13:00:48.331Z"
   },
   {
    "duration": 44,
    "start_time": "2022-06-07T13:00:48.336Z"
   },
   {
    "duration": 90,
    "start_time": "2022-06-07T13:00:48.382Z"
   },
   {
    "duration": 4,
    "start_time": "2022-06-07T13:00:48.474Z"
   },
   {
    "duration": 105,
    "start_time": "2022-06-07T13:00:48.479Z"
   },
   {
    "duration": 22,
    "start_time": "2022-06-07T13:00:48.587Z"
   },
   {
    "duration": 67,
    "start_time": "2022-06-07T13:00:48.611Z"
   },
   {
    "duration": 18,
    "start_time": "2022-06-07T13:00:48.682Z"
   },
   {
    "duration": 4,
    "start_time": "2022-06-07T13:00:48.702Z"
   },
   {
    "duration": 24,
    "start_time": "2022-06-07T13:00:48.708Z"
   },
   {
    "duration": 32,
    "start_time": "2022-06-07T13:00:48.734Z"
   },
   {
    "duration": 55,
    "start_time": "2022-06-07T13:00:48.768Z"
   },
   {
    "duration": 73,
    "start_time": "2022-06-07T13:00:48.825Z"
   },
   {
    "duration": 351,
    "start_time": "2022-06-07T13:00:48.901Z"
   },
   {
    "duration": 12,
    "start_time": "2022-06-07T13:00:49.254Z"
   },
   {
    "duration": 97,
    "start_time": "2022-06-07T13:00:49.268Z"
   },
   {
    "duration": 14,
    "start_time": "2022-06-07T13:00:49.367Z"
   },
   {
    "duration": 6,
    "start_time": "2022-06-07T13:00:49.383Z"
   },
   {
    "duration": 21,
    "start_time": "2022-06-07T13:00:49.390Z"
   },
   {
    "duration": 8,
    "start_time": "2022-06-07T13:00:49.413Z"
   },
   {
    "duration": 56,
    "start_time": "2022-06-07T13:00:49.423Z"
   },
   {
    "duration": 101,
    "start_time": "2022-06-07T13:01:03.708Z"
   },
   {
    "duration": 19,
    "start_time": "2022-06-07T13:01:11.953Z"
   },
   {
    "duration": 4,
    "start_time": "2022-06-07T13:02:30.623Z"
   },
   {
    "duration": 328,
    "start_time": "2022-06-07T13:02:30.630Z"
   },
   {
    "duration": 19,
    "start_time": "2022-06-07T13:02:30.960Z"
   },
   {
    "duration": 77,
    "start_time": "2022-06-07T13:02:30.982Z"
   },
   {
    "duration": 178,
    "start_time": "2022-06-07T13:02:31.061Z"
   },
   {
    "duration": 36,
    "start_time": "2022-06-07T13:02:31.242Z"
   },
   {
    "duration": 21,
    "start_time": "2022-06-07T13:02:31.281Z"
   },
   {
    "duration": 113,
    "start_time": "2022-06-07T13:02:31.304Z"
   },
   {
    "duration": 134,
    "start_time": "2022-06-07T13:02:31.419Z"
   },
   {
    "duration": 11,
    "start_time": "2022-06-07T13:02:31.556Z"
   },
   {
    "duration": 159,
    "start_time": "2022-06-07T13:02:31.569Z"
   },
   {
    "duration": 23,
    "start_time": "2022-06-07T13:02:31.730Z"
   },
   {
    "duration": 103,
    "start_time": "2022-06-07T13:02:31.767Z"
   },
   {
    "duration": 21,
    "start_time": "2022-06-07T13:02:31.872Z"
   },
   {
    "duration": 58,
    "start_time": "2022-06-07T13:02:31.895Z"
   },
   {
    "duration": 52,
    "start_time": "2022-06-07T13:02:31.955Z"
   },
   {
    "duration": 39,
    "start_time": "2022-06-07T13:02:32.009Z"
   },
   {
    "duration": 92,
    "start_time": "2022-06-07T13:02:32.050Z"
   },
   {
    "duration": 40,
    "start_time": "2022-06-07T13:02:32.144Z"
   },
   {
    "duration": 305,
    "start_time": "2022-06-07T13:02:32.186Z"
   },
   {
    "duration": 6,
    "start_time": "2022-06-07T13:02:32.493Z"
   },
   {
    "duration": 107,
    "start_time": "2022-06-07T13:02:32.501Z"
   },
   {
    "duration": 10,
    "start_time": "2022-06-07T13:02:32.610Z"
   },
   {
    "duration": 21,
    "start_time": "2022-06-07T13:02:32.622Z"
   },
   {
    "duration": 38,
    "start_time": "2022-06-07T13:02:32.645Z"
   },
   {
    "duration": 27,
    "start_time": "2022-06-07T13:02:32.685Z"
   },
   {
    "duration": 45,
    "start_time": "2022-06-07T13:02:33.591Z"
   },
   {
    "duration": 33,
    "start_time": "2022-06-07T13:02:38.472Z"
   },
   {
    "duration": 47,
    "start_time": "2022-06-07T13:02:42.019Z"
   },
   {
    "duration": 114,
    "start_time": "2022-06-07T13:02:55.457Z"
   },
   {
    "duration": 13,
    "start_time": "2022-06-07T13:02:57.853Z"
   },
   {
    "duration": 17,
    "start_time": "2022-06-07T13:03:04.101Z"
   },
   {
    "duration": 18,
    "start_time": "2022-06-07T13:03:08.506Z"
   },
   {
    "duration": 4,
    "start_time": "2022-06-07T13:04:38.210Z"
   },
   {
    "duration": 191,
    "start_time": "2022-06-07T13:04:38.216Z"
   },
   {
    "duration": 10,
    "start_time": "2022-06-07T13:04:38.408Z"
   },
   {
    "duration": 30,
    "start_time": "2022-06-07T13:04:38.420Z"
   },
   {
    "duration": 100,
    "start_time": "2022-06-07T13:04:38.451Z"
   },
   {
    "duration": 35,
    "start_time": "2022-06-07T13:04:38.554Z"
   },
   {
    "duration": 3,
    "start_time": "2022-06-07T13:04:38.591Z"
   },
   {
    "duration": 35,
    "start_time": "2022-06-07T13:04:38.596Z"
   },
   {
    "duration": 98,
    "start_time": "2022-06-07T13:04:38.633Z"
   },
   {
    "duration": 3,
    "start_time": "2022-06-07T13:04:38.733Z"
   },
   {
    "duration": 119,
    "start_time": "2022-06-07T13:04:38.739Z"
   },
   {
    "duration": 26,
    "start_time": "2022-06-07T13:04:38.860Z"
   },
   {
    "duration": 87,
    "start_time": "2022-06-07T13:04:38.888Z"
   },
   {
    "duration": 17,
    "start_time": "2022-06-07T13:04:38.977Z"
   },
   {
    "duration": 12,
    "start_time": "2022-06-07T13:04:38.996Z"
   },
   {
    "duration": 19,
    "start_time": "2022-06-07T13:04:39.010Z"
   },
   {
    "duration": 20,
    "start_time": "2022-06-07T13:04:39.032Z"
   },
   {
    "duration": 51,
    "start_time": "2022-06-07T13:04:39.054Z"
   },
   {
    "duration": 30,
    "start_time": "2022-06-07T13:04:39.107Z"
   },
   {
    "duration": 266,
    "start_time": "2022-06-07T13:04:39.139Z"
   },
   {
    "duration": 4,
    "start_time": "2022-06-07T13:04:39.407Z"
   },
   {
    "duration": 70,
    "start_time": "2022-06-07T13:04:39.412Z"
   },
   {
    "duration": 7,
    "start_time": "2022-06-07T13:04:39.484Z"
   },
   {
    "duration": 4,
    "start_time": "2022-06-07T13:04:39.494Z"
   },
   {
    "duration": 17,
    "start_time": "2022-06-07T13:04:39.500Z"
   },
   {
    "duration": 12,
    "start_time": "2022-06-07T13:04:39.519Z"
   },
   {
    "duration": 32,
    "start_time": "2022-06-07T13:04:39.564Z"
   },
   {
    "duration": 23,
    "start_time": "2022-06-07T13:04:39.598Z"
   },
   {
    "duration": 86,
    "start_time": "2022-06-07T13:04:39.622Z"
   },
   {
    "duration": 12,
    "start_time": "2022-06-07T13:04:39.709Z"
   },
   {
    "duration": 8,
    "start_time": "2022-06-07T13:04:39.723Z"
   },
   {
    "duration": 38,
    "start_time": "2022-06-07T13:04:39.733Z"
   },
   {
    "duration": 14,
    "start_time": "2022-06-07T13:04:39.772Z"
   },
   {
    "duration": 6,
    "start_time": "2022-06-07T13:04:39.788Z"
   },
   {
    "duration": 4,
    "start_time": "2022-06-07T13:05:12.173Z"
   },
   {
    "duration": 4,
    "start_time": "2022-06-07T13:11:26.807Z"
   },
   {
    "duration": 188,
    "start_time": "2022-06-07T13:11:26.813Z"
   },
   {
    "duration": 11,
    "start_time": "2022-06-07T13:11:27.002Z"
   },
   {
    "duration": 24,
    "start_time": "2022-06-07T13:11:27.015Z"
   },
   {
    "duration": 209,
    "start_time": "2022-06-07T13:11:27.043Z"
   },
   {
    "duration": 25,
    "start_time": "2022-06-07T13:11:27.254Z"
   },
   {
    "duration": 3,
    "start_time": "2022-06-07T13:11:27.281Z"
   },
   {
    "duration": 35,
    "start_time": "2022-06-07T13:11:27.286Z"
   },
   {
    "duration": 117,
    "start_time": "2022-06-07T13:11:27.323Z"
   },
   {
    "duration": 4,
    "start_time": "2022-06-07T13:11:27.442Z"
   },
   {
    "duration": 118,
    "start_time": "2022-06-07T13:11:27.448Z"
   },
   {
    "duration": 20,
    "start_time": "2022-06-07T13:11:27.568Z"
   },
   {
    "duration": 57,
    "start_time": "2022-06-07T13:11:27.590Z"
   },
   {
    "duration": 14,
    "start_time": "2022-06-07T13:11:27.666Z"
   },
   {
    "duration": 4,
    "start_time": "2022-06-07T13:11:27.683Z"
   },
   {
    "duration": 12,
    "start_time": "2022-06-07T13:11:27.689Z"
   },
   {
    "duration": 9,
    "start_time": "2022-06-07T13:11:27.703Z"
   },
   {
    "duration": 86,
    "start_time": "2022-06-07T13:11:27.714Z"
   },
   {
    "duration": 30,
    "start_time": "2022-06-07T13:11:27.801Z"
   },
   {
    "duration": 282,
    "start_time": "2022-06-07T13:11:27.833Z"
   },
   {
    "duration": 4,
    "start_time": "2022-06-07T13:11:28.116Z"
   },
   {
    "duration": 72,
    "start_time": "2022-06-07T13:11:28.122Z"
   },
   {
    "duration": 8,
    "start_time": "2022-06-07T13:11:28.196Z"
   },
   {
    "duration": 4,
    "start_time": "2022-06-07T13:11:28.206Z"
   },
   {
    "duration": 25,
    "start_time": "2022-06-07T13:11:28.213Z"
   },
   {
    "duration": 34,
    "start_time": "2022-06-07T13:11:28.240Z"
   },
   {
    "duration": 24,
    "start_time": "2022-06-07T13:11:28.276Z"
   },
   {
    "duration": 38,
    "start_time": "2022-06-07T13:11:28.302Z"
   },
   {
    "duration": 79,
    "start_time": "2022-06-07T13:11:28.341Z"
   },
   {
    "duration": 12,
    "start_time": "2022-06-07T13:11:28.422Z"
   },
   {
    "duration": 3,
    "start_time": "2022-06-07T13:11:28.436Z"
   },
   {
    "duration": 30,
    "start_time": "2022-06-07T13:11:28.441Z"
   },
   {
    "duration": 12,
    "start_time": "2022-06-07T13:11:28.473Z"
   },
   {
    "duration": 16,
    "start_time": "2022-06-07T13:11:28.486Z"
   },
   {
    "duration": 10,
    "start_time": "2022-06-07T13:11:28.504Z"
   },
   {
    "duration": 82,
    "start_time": "2022-06-07T13:11:28.517Z"
   },
   {
    "duration": 99,
    "start_time": "2022-06-07T13:11:28.601Z"
   },
   {
    "duration": 5,
    "start_time": "2022-06-07T13:11:28.702Z"
   },
   {
    "duration": 18,
    "start_time": "2022-06-07T13:11:28.709Z"
   },
   {
    "duration": 10,
    "start_time": "2022-06-07T13:11:28.729Z"
   },
   {
    "duration": 6,
    "start_time": "2022-06-07T13:11:28.764Z"
   },
   {
    "duration": 12,
    "start_time": "2022-06-07T13:11:28.772Z"
   },
   {
    "duration": 13,
    "start_time": "2022-06-07T13:11:28.787Z"
   },
   {
    "duration": 12,
    "start_time": "2022-06-07T13:11:28.802Z"
   },
   {
    "duration": 13,
    "start_time": "2022-06-07T13:11:28.815Z"
   },
   {
    "duration": 41,
    "start_time": "2022-06-07T13:11:28.830Z"
   },
   {
    "duration": 24,
    "start_time": "2022-06-07T13:11:28.873Z"
   },
   {
    "duration": 40,
    "start_time": "2022-06-07T13:11:28.899Z"
   },
   {
    "duration": 19,
    "start_time": "2022-06-07T13:11:28.942Z"
   },
   {
    "duration": 19,
    "start_time": "2022-06-07T13:11:28.964Z"
   },
   {
    "duration": 18,
    "start_time": "2022-06-07T13:11:28.984Z"
   },
   {
    "duration": 21,
    "start_time": "2022-06-07T13:11:29.005Z"
   },
   {
    "duration": 23,
    "start_time": "2022-06-07T13:11:29.029Z"
   },
   {
    "duration": 11,
    "start_time": "2022-06-07T13:11:29.054Z"
   },
   {
    "duration": 11,
    "start_time": "2022-06-07T13:11:29.067Z"
   },
   {
    "duration": 11,
    "start_time": "2022-06-07T13:11:29.080Z"
   },
   {
    "duration": 19,
    "start_time": "2022-06-07T13:11:29.093Z"
   },
   {
    "duration": 4,
    "start_time": "2022-06-07T13:13:25.931Z"
   },
   {
    "duration": 169,
    "start_time": "2022-06-07T13:13:25.951Z"
   },
   {
    "duration": 12,
    "start_time": "2022-06-07T13:13:26.122Z"
   },
   {
    "duration": 41,
    "start_time": "2022-06-07T13:13:26.135Z"
   },
   {
    "duration": 111,
    "start_time": "2022-06-07T13:13:26.178Z"
   },
   {
    "duration": 24,
    "start_time": "2022-06-07T13:13:26.291Z"
   },
   {
    "duration": 6,
    "start_time": "2022-06-07T13:13:26.317Z"
   },
   {
    "duration": 43,
    "start_time": "2022-06-07T13:13:26.325Z"
   },
   {
    "duration": 99,
    "start_time": "2022-06-07T13:13:26.370Z"
   },
   {
    "duration": 4,
    "start_time": "2022-06-07T13:13:26.471Z"
   },
   {
    "duration": 107,
    "start_time": "2022-06-07T13:13:26.478Z"
   },
   {
    "duration": 30,
    "start_time": "2022-06-07T13:13:26.588Z"
   },
   {
    "duration": 84,
    "start_time": "2022-06-07T13:13:26.620Z"
   },
   {
    "duration": 15,
    "start_time": "2022-06-07T13:13:26.707Z"
   },
   {
    "duration": 6,
    "start_time": "2022-06-07T13:13:26.724Z"
   },
   {
    "duration": 33,
    "start_time": "2022-06-07T13:13:26.732Z"
   },
   {
    "duration": 8,
    "start_time": "2022-06-07T13:13:26.767Z"
   },
   {
    "duration": 35,
    "start_time": "2022-06-07T13:13:26.777Z"
   },
   {
    "duration": 52,
    "start_time": "2022-06-07T13:13:26.814Z"
   },
   {
    "duration": 273,
    "start_time": "2022-06-07T13:13:26.869Z"
   },
   {
    "duration": 3,
    "start_time": "2022-06-07T13:13:27.144Z"
   },
   {
    "duration": 64,
    "start_time": "2022-06-07T13:13:27.149Z"
   },
   {
    "duration": 19,
    "start_time": "2022-06-07T13:13:27.214Z"
   },
   {
    "duration": 7,
    "start_time": "2022-06-07T13:13:27.236Z"
   },
   {
    "duration": 37,
    "start_time": "2022-06-07T13:13:27.246Z"
   },
   {
    "duration": 9,
    "start_time": "2022-06-07T13:13:27.286Z"
   },
   {
    "duration": 22,
    "start_time": "2022-06-07T13:13:27.298Z"
   },
   {
    "duration": 56,
    "start_time": "2022-06-07T13:13:27.323Z"
   },
   {
    "duration": 66,
    "start_time": "2022-06-07T13:13:27.385Z"
   },
   {
    "duration": 25,
    "start_time": "2022-06-07T13:13:27.452Z"
   },
   {
    "duration": 10,
    "start_time": "2022-06-07T13:13:27.479Z"
   },
   {
    "duration": 10,
    "start_time": "2022-06-07T13:13:27.494Z"
   },
   {
    "duration": 22,
    "start_time": "2022-06-07T13:13:27.506Z"
   },
   {
    "duration": 36,
    "start_time": "2022-06-07T13:13:27.530Z"
   },
   {
    "duration": 5,
    "start_time": "2022-06-07T13:13:27.568Z"
   },
   {
    "duration": 37,
    "start_time": "2022-06-07T13:13:27.575Z"
   },
   {
    "duration": 98,
    "start_time": "2022-06-07T13:13:27.615Z"
   },
   {
    "duration": 4,
    "start_time": "2022-06-07T13:13:27.715Z"
   },
   {
    "duration": 21,
    "start_time": "2022-06-07T13:13:27.721Z"
   },
   {
    "duration": 25,
    "start_time": "2022-06-07T13:13:27.743Z"
   },
   {
    "duration": 8,
    "start_time": "2022-06-07T13:13:27.770Z"
   },
   {
    "duration": 8,
    "start_time": "2022-06-07T13:15:14.870Z"
   },
   {
    "duration": 66,
    "start_time": "2022-06-07T13:16:10.821Z"
   },
   {
    "duration": 4,
    "start_time": "2022-06-07T13:19:12.422Z"
   },
   {
    "duration": 189,
    "start_time": "2022-06-07T13:19:12.451Z"
   },
   {
    "duration": 13,
    "start_time": "2022-06-07T13:19:12.642Z"
   },
   {
    "duration": 26,
    "start_time": "2022-06-07T13:19:12.665Z"
   },
   {
    "duration": 184,
    "start_time": "2022-06-07T13:19:12.695Z"
   },
   {
    "duration": 35,
    "start_time": "2022-06-07T13:19:12.881Z"
   },
   {
    "duration": 5,
    "start_time": "2022-06-07T13:19:12.919Z"
   },
   {
    "duration": 66,
    "start_time": "2022-06-07T13:19:12.926Z"
   },
   {
    "duration": 129,
    "start_time": "2022-06-07T13:19:12.994Z"
   },
   {
    "duration": 3,
    "start_time": "2022-06-07T13:19:13.125Z"
   },
   {
    "duration": 96,
    "start_time": "2022-06-07T13:19:13.131Z"
   },
   {
    "duration": 19,
    "start_time": "2022-06-07T13:19:13.229Z"
   },
   {
    "duration": 86,
    "start_time": "2022-06-07T13:19:13.265Z"
   },
   {
    "duration": 24,
    "start_time": "2022-06-07T13:19:13.353Z"
   },
   {
    "duration": 8,
    "start_time": "2022-06-07T13:19:13.380Z"
   },
   {
    "duration": 15,
    "start_time": "2022-06-07T13:19:13.391Z"
   },
   {
    "duration": 10,
    "start_time": "2022-06-07T13:19:13.407Z"
   },
   {
    "duration": 60,
    "start_time": "2022-06-07T13:19:13.419Z"
   },
   {
    "duration": 55,
    "start_time": "2022-06-07T13:19:13.481Z"
   },
   {
    "duration": 308,
    "start_time": "2022-06-07T13:19:13.538Z"
   },
   {
    "duration": 4,
    "start_time": "2022-06-07T13:19:13.848Z"
   },
   {
    "duration": 77,
    "start_time": "2022-06-07T13:19:13.854Z"
   },
   {
    "duration": 33,
    "start_time": "2022-06-07T13:19:13.933Z"
   },
   {
    "duration": 6,
    "start_time": "2022-06-07T13:19:13.969Z"
   },
   {
    "duration": 29,
    "start_time": "2022-06-07T13:19:13.977Z"
   },
   {
    "duration": 11,
    "start_time": "2022-06-07T13:19:14.008Z"
   },
   {
    "duration": 74,
    "start_time": "2022-06-07T13:19:14.021Z"
   },
   {
    "duration": 123,
    "start_time": "2022-06-07T13:19:14.098Z"
   },
   {
    "duration": 18,
    "start_time": "2022-06-07T13:19:14.227Z"
   },
   {
    "duration": 19,
    "start_time": "2022-06-07T13:19:14.247Z"
   },
   {
    "duration": 14,
    "start_time": "2022-06-07T13:19:14.268Z"
   },
   {
    "duration": 12,
    "start_time": "2022-06-07T13:19:14.284Z"
   },
   {
    "duration": 16,
    "start_time": "2022-06-07T13:19:14.298Z"
   },
   {
    "duration": 6,
    "start_time": "2022-06-07T13:19:14.316Z"
   },
   {
    "duration": 4,
    "start_time": "2022-06-07T13:20:20.663Z"
   },
   {
    "duration": 162,
    "start_time": "2022-06-07T13:20:20.670Z"
   },
   {
    "duration": 10,
    "start_time": "2022-06-07T13:20:20.834Z"
   },
   {
    "duration": 19,
    "start_time": "2022-06-07T13:20:20.865Z"
   },
   {
    "duration": 99,
    "start_time": "2022-06-07T13:20:20.888Z"
   },
   {
    "duration": 23,
    "start_time": "2022-06-07T13:20:20.989Z"
   },
   {
    "duration": 4,
    "start_time": "2022-06-07T13:20:21.014Z"
   },
   {
    "duration": 47,
    "start_time": "2022-06-07T13:20:21.020Z"
   },
   {
    "duration": 95,
    "start_time": "2022-06-07T13:20:21.070Z"
   },
   {
    "duration": 4,
    "start_time": "2022-06-07T13:20:21.167Z"
   },
   {
    "duration": 98,
    "start_time": "2022-06-07T13:20:21.173Z"
   },
   {
    "duration": 20,
    "start_time": "2022-06-07T13:20:21.273Z"
   },
   {
    "duration": 70,
    "start_time": "2022-06-07T13:20:21.295Z"
   },
   {
    "duration": 14,
    "start_time": "2022-06-07T13:20:21.366Z"
   },
   {
    "duration": 10,
    "start_time": "2022-06-07T13:20:21.381Z"
   },
   {
    "duration": 14,
    "start_time": "2022-06-07T13:20:21.393Z"
   },
   {
    "duration": 7,
    "start_time": "2022-06-07T13:20:21.409Z"
   },
   {
    "duration": 54,
    "start_time": "2022-06-07T13:20:21.418Z"
   },
   {
    "duration": 28,
    "start_time": "2022-06-07T13:20:21.476Z"
   },
   {
    "duration": 264,
    "start_time": "2022-06-07T13:20:21.505Z"
   },
   {
    "duration": 4,
    "start_time": "2022-06-07T13:20:21.771Z"
   },
   {
    "duration": 113,
    "start_time": "2022-06-07T13:20:21.777Z"
   },
   {
    "duration": 10,
    "start_time": "2022-06-07T13:20:21.893Z"
   },
   {
    "duration": 9,
    "start_time": "2022-06-07T13:20:21.907Z"
   },
   {
    "duration": 17,
    "start_time": "2022-06-07T13:20:21.918Z"
   },
   {
    "duration": 29,
    "start_time": "2022-06-07T13:20:21.937Z"
   },
   {
    "duration": 25,
    "start_time": "2022-06-07T13:20:21.967Z"
   },
   {
    "duration": 88,
    "start_time": "2022-06-07T13:20:21.994Z"
   },
   {
    "duration": 13,
    "start_time": "2022-06-07T13:20:22.083Z"
   },
   {
    "duration": 4,
    "start_time": "2022-06-07T13:20:22.098Z"
   },
   {
    "duration": 11,
    "start_time": "2022-06-07T13:20:22.103Z"
   },
   {
    "duration": 19,
    "start_time": "2022-06-07T13:20:22.115Z"
   },
   {
    "duration": 13,
    "start_time": "2022-06-07T13:20:22.164Z"
   },
   {
    "duration": 8,
    "start_time": "2022-06-07T13:20:22.180Z"
   },
   {
    "duration": 4,
    "start_time": "2022-06-07T13:22:28.399Z"
   },
   {
    "duration": 183,
    "start_time": "2022-06-07T13:22:28.406Z"
   },
   {
    "duration": 11,
    "start_time": "2022-06-07T13:22:28.591Z"
   },
   {
    "duration": 33,
    "start_time": "2022-06-07T13:22:28.605Z"
   },
   {
    "duration": 119,
    "start_time": "2022-06-07T13:22:28.640Z"
   },
   {
    "duration": 23,
    "start_time": "2022-06-07T13:22:28.765Z"
   },
   {
    "duration": 3,
    "start_time": "2022-06-07T13:22:28.790Z"
   },
   {
    "duration": 31,
    "start_time": "2022-06-07T13:22:28.795Z"
   },
   {
    "duration": 125,
    "start_time": "2022-06-07T13:22:28.828Z"
   },
   {
    "duration": 11,
    "start_time": "2022-06-07T13:22:28.955Z"
   },
   {
    "duration": 132,
    "start_time": "2022-06-07T13:22:28.968Z"
   },
   {
    "duration": 22,
    "start_time": "2022-06-07T13:22:29.101Z"
   },
   {
    "duration": 73,
    "start_time": "2022-06-07T13:22:29.126Z"
   },
   {
    "duration": 19,
    "start_time": "2022-06-07T13:22:29.202Z"
   },
   {
    "duration": 5,
    "start_time": "2022-06-07T13:22:29.223Z"
   },
   {
    "duration": 13,
    "start_time": "2022-06-07T13:22:29.230Z"
   },
   {
    "duration": 7,
    "start_time": "2022-06-07T13:22:29.265Z"
   },
   {
    "duration": 30,
    "start_time": "2022-06-07T13:22:29.274Z"
   },
   {
    "duration": 30,
    "start_time": "2022-06-07T13:22:29.306Z"
   },
   {
    "duration": 271,
    "start_time": "2022-06-07T13:22:29.338Z"
   },
   {
    "duration": 4,
    "start_time": "2022-06-07T13:22:29.611Z"
   },
   {
    "duration": 70,
    "start_time": "2022-06-07T13:22:29.616Z"
   },
   {
    "duration": 8,
    "start_time": "2022-06-07T13:22:29.688Z"
   },
   {
    "duration": 10,
    "start_time": "2022-06-07T13:22:29.698Z"
   },
   {
    "duration": 22,
    "start_time": "2022-06-07T13:22:29.710Z"
   },
   {
    "duration": 7,
    "start_time": "2022-06-07T13:22:29.733Z"
   },
   {
    "duration": 48,
    "start_time": "2022-06-07T13:22:29.741Z"
   },
   {
    "duration": 83,
    "start_time": "2022-06-07T13:22:29.791Z"
   },
   {
    "duration": 13,
    "start_time": "2022-06-07T13:22:29.876Z"
   },
   {
    "duration": 4,
    "start_time": "2022-06-07T13:22:29.891Z"
   },
   {
    "duration": 17,
    "start_time": "2022-06-07T13:22:29.897Z"
   },
   {
    "duration": 3,
    "start_time": "2022-06-07T13:26:57.266Z"
   },
   {
    "duration": 4,
    "start_time": "2022-06-07T13:27:06.207Z"
   },
   {
    "duration": 11,
    "start_time": "2022-06-07T13:27:56.807Z"
   },
   {
    "duration": 13,
    "start_time": "2022-06-07T13:29:00.844Z"
   },
   {
    "duration": 13,
    "start_time": "2022-06-07T13:29:08.447Z"
   },
   {
    "duration": 3,
    "start_time": "2022-06-07T13:29:12.052Z"
   },
   {
    "duration": 165,
    "start_time": "2022-06-07T13:29:12.057Z"
   },
   {
    "duration": 10,
    "start_time": "2022-06-07T13:29:12.223Z"
   },
   {
    "duration": 30,
    "start_time": "2022-06-07T13:29:12.235Z"
   },
   {
    "duration": 179,
    "start_time": "2022-06-07T13:29:12.268Z"
   },
   {
    "duration": 31,
    "start_time": "2022-06-07T13:29:12.448Z"
   },
   {
    "duration": 2,
    "start_time": "2022-06-07T13:29:12.481Z"
   },
   {
    "duration": 33,
    "start_time": "2022-06-07T13:29:12.485Z"
   },
   {
    "duration": 85,
    "start_time": "2022-06-07T13:29:12.520Z"
   },
   {
    "duration": 4,
    "start_time": "2022-06-07T13:29:12.607Z"
   },
   {
    "duration": 113,
    "start_time": "2022-06-07T13:29:12.613Z"
   },
   {
    "duration": 18,
    "start_time": "2022-06-07T13:29:12.728Z"
   },
   {
    "duration": 63,
    "start_time": "2022-06-07T13:29:12.749Z"
   },
   {
    "duration": 13,
    "start_time": "2022-06-07T13:29:12.814Z"
   },
   {
    "duration": 8,
    "start_time": "2022-06-07T13:29:12.829Z"
   },
   {
    "duration": 26,
    "start_time": "2022-06-07T13:29:12.839Z"
   },
   {
    "duration": 11,
    "start_time": "2022-06-07T13:29:12.867Z"
   },
   {
    "duration": 37,
    "start_time": "2022-06-07T13:29:12.880Z"
   },
   {
    "duration": 49,
    "start_time": "2022-06-07T13:29:12.919Z"
   },
   {
    "duration": 247,
    "start_time": "2022-06-07T13:29:12.970Z"
   },
   {
    "duration": 3,
    "start_time": "2022-06-07T13:29:13.219Z"
   },
   {
    "duration": 78,
    "start_time": "2022-06-07T13:29:13.223Z"
   },
   {
    "duration": 8,
    "start_time": "2022-06-07T13:29:13.302Z"
   },
   {
    "duration": 9,
    "start_time": "2022-06-07T13:29:13.312Z"
   },
   {
    "duration": 21,
    "start_time": "2022-06-07T13:29:13.322Z"
   },
   {
    "duration": 22,
    "start_time": "2022-06-07T13:29:13.345Z"
   },
   {
    "duration": 26,
    "start_time": "2022-06-07T13:29:13.368Z"
   },
   {
    "duration": 77,
    "start_time": "2022-06-07T13:29:13.396Z"
   },
   {
    "duration": 12,
    "start_time": "2022-06-07T13:29:13.475Z"
   },
   {
    "duration": 5,
    "start_time": "2022-06-07T13:29:13.488Z"
   },
   {
    "duration": 12,
    "start_time": "2022-06-07T13:29:15.768Z"
   },
   {
    "duration": 15,
    "start_time": "2022-06-07T13:30:11.390Z"
   },
   {
    "duration": 17,
    "start_time": "2022-06-07T13:30:55.912Z"
   },
   {
    "duration": 3,
    "start_time": "2022-06-07T13:31:09.595Z"
   },
   {
    "duration": 168,
    "start_time": "2022-06-07T13:31:09.611Z"
   },
   {
    "duration": 10,
    "start_time": "2022-06-07T13:31:09.781Z"
   },
   {
    "duration": 34,
    "start_time": "2022-06-07T13:31:09.793Z"
   },
   {
    "duration": 103,
    "start_time": "2022-06-07T13:31:09.829Z"
   },
   {
    "duration": 33,
    "start_time": "2022-06-07T13:31:09.935Z"
   },
   {
    "duration": 3,
    "start_time": "2022-06-07T13:31:09.970Z"
   },
   {
    "duration": 69,
    "start_time": "2022-06-07T13:31:09.975Z"
   },
   {
    "duration": 96,
    "start_time": "2022-06-07T13:31:10.047Z"
   },
   {
    "duration": 4,
    "start_time": "2022-06-07T13:31:10.145Z"
   },
   {
    "duration": 94,
    "start_time": "2022-06-07T13:31:10.150Z"
   },
   {
    "duration": 19,
    "start_time": "2022-06-07T13:31:10.246Z"
   },
   {
    "duration": 61,
    "start_time": "2022-06-07T13:31:10.267Z"
   },
   {
    "duration": 11,
    "start_time": "2022-06-07T13:31:10.330Z"
   },
   {
    "duration": 18,
    "start_time": "2022-06-07T13:31:10.344Z"
   },
   {
    "duration": 17,
    "start_time": "2022-06-07T13:31:10.364Z"
   },
   {
    "duration": 16,
    "start_time": "2022-06-07T13:31:10.383Z"
   },
   {
    "duration": 47,
    "start_time": "2022-06-07T13:31:10.401Z"
   },
   {
    "duration": 29,
    "start_time": "2022-06-07T13:31:10.450Z"
   },
   {
    "duration": 242,
    "start_time": "2022-06-07T13:31:10.481Z"
   },
   {
    "duration": 3,
    "start_time": "2022-06-07T13:31:10.725Z"
   },
   {
    "duration": 61,
    "start_time": "2022-06-07T13:31:10.730Z"
   },
   {
    "duration": 17,
    "start_time": "2022-06-07T13:31:10.793Z"
   },
   {
    "duration": 24,
    "start_time": "2022-06-07T13:31:10.812Z"
   },
   {
    "duration": 23,
    "start_time": "2022-06-07T13:31:10.838Z"
   },
   {
    "duration": 15,
    "start_time": "2022-06-07T13:31:10.863Z"
   },
   {
    "duration": 38,
    "start_time": "2022-06-07T13:31:10.879Z"
   },
   {
    "duration": 72,
    "start_time": "2022-06-07T13:31:10.919Z"
   },
   {
    "duration": 12,
    "start_time": "2022-06-07T13:31:10.993Z"
   },
   {
    "duration": 6,
    "start_time": "2022-06-07T13:31:11.007Z"
   },
   {
    "duration": 59,
    "start_time": "2022-06-07T13:31:21.299Z"
   },
   {
    "duration": 3,
    "start_time": "2022-06-07T13:31:31.211Z"
   },
   {
    "duration": 188,
    "start_time": "2022-06-07T13:31:31.216Z"
   },
   {
    "duration": 11,
    "start_time": "2022-06-07T13:31:31.406Z"
   },
   {
    "duration": 48,
    "start_time": "2022-06-07T13:31:31.419Z"
   },
   {
    "duration": 108,
    "start_time": "2022-06-07T13:31:31.469Z"
   },
   {
    "duration": 23,
    "start_time": "2022-06-07T13:31:31.579Z"
   },
   {
    "duration": 4,
    "start_time": "2022-06-07T13:31:31.604Z"
   },
   {
    "duration": 31,
    "start_time": "2022-06-07T13:31:31.610Z"
   },
   {
    "duration": 124,
    "start_time": "2022-06-07T13:31:31.643Z"
   },
   {
    "duration": 4,
    "start_time": "2022-06-07T13:31:31.768Z"
   },
   {
    "duration": 104,
    "start_time": "2022-06-07T13:31:31.774Z"
   },
   {
    "duration": 22,
    "start_time": "2022-06-07T13:31:31.881Z"
   },
   {
    "duration": 87,
    "start_time": "2022-06-07T13:31:31.907Z"
   },
   {
    "duration": 16,
    "start_time": "2022-06-07T13:31:31.996Z"
   },
   {
    "duration": 18,
    "start_time": "2022-06-07T13:31:32.014Z"
   },
   {
    "duration": 16,
    "start_time": "2022-06-07T13:31:32.034Z"
   },
   {
    "duration": 17,
    "start_time": "2022-06-07T13:31:32.052Z"
   },
   {
    "duration": 44,
    "start_time": "2022-06-07T13:31:32.071Z"
   },
   {
    "duration": 33,
    "start_time": "2022-06-07T13:31:32.117Z"
   },
   {
    "duration": 255,
    "start_time": "2022-06-07T13:31:32.152Z"
   },
   {
    "duration": 3,
    "start_time": "2022-06-07T13:31:32.408Z"
   },
   {
    "duration": 76,
    "start_time": "2022-06-07T13:31:32.413Z"
   },
   {
    "duration": 9,
    "start_time": "2022-06-07T13:31:32.491Z"
   },
   {
    "duration": 7,
    "start_time": "2022-06-07T13:31:32.502Z"
   },
   {
    "duration": 19,
    "start_time": "2022-06-07T13:31:32.511Z"
   },
   {
    "duration": 35,
    "start_time": "2022-06-07T13:31:32.531Z"
   },
   {
    "duration": 31,
    "start_time": "2022-06-07T13:31:32.568Z"
   },
   {
    "duration": 78,
    "start_time": "2022-06-07T13:31:32.601Z"
   },
   {
    "duration": 12,
    "start_time": "2022-06-07T13:31:32.680Z"
   },
   {
    "duration": 39,
    "start_time": "2022-06-07T13:31:32.694Z"
   },
   {
    "duration": 15,
    "start_time": "2022-06-07T13:31:34.356Z"
   },
   {
    "duration": 9,
    "start_time": "2022-06-07T13:35:24.507Z"
   },
   {
    "duration": 12,
    "start_time": "2022-06-07T13:38:11.555Z"
   },
   {
    "duration": 12,
    "start_time": "2022-06-07T13:38:38.247Z"
   },
   {
    "duration": 12,
    "start_time": "2022-06-07T13:38:46.619Z"
   },
   {
    "duration": 16,
    "start_time": "2022-06-07T13:39:29.591Z"
   },
   {
    "duration": 13,
    "start_time": "2022-06-07T13:39:33.285Z"
   },
   {
    "duration": 3,
    "start_time": "2022-06-07T13:42:02.656Z"
   },
   {
    "duration": 178,
    "start_time": "2022-06-07T13:42:02.662Z"
   },
   {
    "duration": 11,
    "start_time": "2022-06-07T13:42:02.842Z"
   },
   {
    "duration": 30,
    "start_time": "2022-06-07T13:42:02.864Z"
   },
   {
    "duration": 136,
    "start_time": "2022-06-07T13:42:02.897Z"
   },
   {
    "duration": 36,
    "start_time": "2022-06-07T13:42:03.035Z"
   },
   {
    "duration": 3,
    "start_time": "2022-06-07T13:42:03.073Z"
   },
   {
    "duration": 26,
    "start_time": "2022-06-07T13:42:03.078Z"
   },
   {
    "duration": 93,
    "start_time": "2022-06-07T13:42:03.106Z"
   },
   {
    "duration": 3,
    "start_time": "2022-06-07T13:42:03.200Z"
   },
   {
    "duration": 92,
    "start_time": "2022-06-07T13:42:03.205Z"
   },
   {
    "duration": 18,
    "start_time": "2022-06-07T13:42:03.299Z"
   },
   {
    "duration": 69,
    "start_time": "2022-06-07T13:42:03.321Z"
   },
   {
    "duration": 15,
    "start_time": "2022-06-07T13:42:03.392Z"
   },
   {
    "duration": 9,
    "start_time": "2022-06-07T13:42:03.409Z"
   },
   {
    "duration": 12,
    "start_time": "2022-06-07T13:42:03.420Z"
   },
   {
    "duration": 9,
    "start_time": "2022-06-07T13:42:03.433Z"
   },
   {
    "duration": 46,
    "start_time": "2022-06-07T13:42:03.443Z"
   },
   {
    "duration": 31,
    "start_time": "2022-06-07T13:42:03.491Z"
   },
   {
    "duration": 290,
    "start_time": "2022-06-07T13:42:03.525Z"
   },
   {
    "duration": 4,
    "start_time": "2022-06-07T13:42:03.817Z"
   },
   {
    "duration": 65,
    "start_time": "2022-06-07T13:42:03.822Z"
   },
   {
    "duration": 7,
    "start_time": "2022-06-07T13:42:03.889Z"
   },
   {
    "duration": 12,
    "start_time": "2022-06-07T13:42:03.898Z"
   },
   {
    "duration": 20,
    "start_time": "2022-06-07T13:42:03.911Z"
   },
   {
    "duration": 7,
    "start_time": "2022-06-07T13:42:03.932Z"
   },
   {
    "duration": 44,
    "start_time": "2022-06-07T13:42:03.940Z"
   },
   {
    "duration": 63,
    "start_time": "2022-06-07T13:42:03.985Z"
   },
   {
    "duration": 13,
    "start_time": "2022-06-07T13:42:04.065Z"
   },
   {
    "duration": 4,
    "start_time": "2022-06-07T13:42:04.079Z"
   },
   {
    "duration": 21,
    "start_time": "2022-06-07T13:42:04.084Z"
   },
   {
    "duration": 13,
    "start_time": "2022-06-07T13:42:04.107Z"
   },
   {
    "duration": 12,
    "start_time": "2022-06-07T13:42:04.122Z"
   },
   {
    "duration": 13,
    "start_time": "2022-06-07T13:42:04.164Z"
   },
   {
    "duration": 5,
    "start_time": "2022-06-07T13:42:40.300Z"
   },
   {
    "duration": 3,
    "start_time": "2022-06-07T13:44:40.403Z"
   },
   {
    "duration": 4,
    "start_time": "2022-06-07T13:45:59.410Z"
   },
   {
    "duration": 5,
    "start_time": "2022-06-07T13:47:29.295Z"
   },
   {
    "duration": 5,
    "start_time": "2022-06-07T13:47:48.260Z"
   },
   {
    "duration": 4,
    "start_time": "2022-06-07T13:48:18.402Z"
   },
   {
    "duration": 167,
    "start_time": "2022-06-07T13:48:18.445Z"
   },
   {
    "duration": 9,
    "start_time": "2022-06-07T13:48:18.614Z"
   },
   {
    "duration": 50,
    "start_time": "2022-06-07T13:48:18.625Z"
   },
   {
    "duration": 94,
    "start_time": "2022-06-07T13:48:18.677Z"
   },
   {
    "duration": 24,
    "start_time": "2022-06-07T13:48:18.774Z"
   },
   {
    "duration": 22,
    "start_time": "2022-06-07T13:48:18.799Z"
   },
   {
    "duration": 62,
    "start_time": "2022-06-07T13:48:18.823Z"
   },
   {
    "duration": 124,
    "start_time": "2022-06-07T13:48:18.887Z"
   },
   {
    "duration": 4,
    "start_time": "2022-06-07T13:48:19.013Z"
   },
   {
    "duration": 101,
    "start_time": "2022-06-07T13:48:19.019Z"
   },
   {
    "duration": 18,
    "start_time": "2022-06-07T13:48:19.122Z"
   },
   {
    "duration": 75,
    "start_time": "2022-06-07T13:48:19.142Z"
   },
   {
    "duration": 13,
    "start_time": "2022-06-07T13:48:19.219Z"
   },
   {
    "duration": 21,
    "start_time": "2022-06-07T13:48:19.235Z"
   },
   {
    "duration": 28,
    "start_time": "2022-06-07T13:48:19.258Z"
   },
   {
    "duration": 22,
    "start_time": "2022-06-07T13:48:19.287Z"
   },
   {
    "duration": 45,
    "start_time": "2022-06-07T13:48:19.310Z"
   },
   {
    "duration": 30,
    "start_time": "2022-06-07T13:48:19.357Z"
   },
   {
    "duration": 252,
    "start_time": "2022-06-07T13:48:19.389Z"
   },
   {
    "duration": 3,
    "start_time": "2022-06-07T13:48:19.643Z"
   },
   {
    "duration": 75,
    "start_time": "2022-06-07T13:48:19.648Z"
   },
   {
    "duration": 16,
    "start_time": "2022-06-07T13:48:19.725Z"
   },
   {
    "duration": 29,
    "start_time": "2022-06-07T13:48:19.743Z"
   },
   {
    "duration": 41,
    "start_time": "2022-06-07T13:48:19.774Z"
   },
   {
    "duration": 19,
    "start_time": "2022-06-07T13:48:19.816Z"
   },
   {
    "duration": 40,
    "start_time": "2022-06-07T13:48:19.837Z"
   },
   {
    "duration": 90,
    "start_time": "2022-06-07T13:48:19.878Z"
   },
   {
    "duration": 14,
    "start_time": "2022-06-07T13:48:19.969Z"
   },
   {
    "duration": 12,
    "start_time": "2022-06-07T13:48:19.985Z"
   },
   {
    "duration": 40,
    "start_time": "2022-06-07T13:48:19.999Z"
   },
   {
    "duration": 37,
    "start_time": "2022-06-07T13:48:20.041Z"
   },
   {
    "duration": 31,
    "start_time": "2022-06-07T13:48:20.079Z"
   },
   {
    "duration": 38,
    "start_time": "2022-06-07T13:48:20.111Z"
   },
   {
    "duration": 20,
    "start_time": "2022-06-07T13:48:20.150Z"
   },
   {
    "duration": 28,
    "start_time": "2022-06-07T13:48:20.172Z"
   },
   {
    "duration": 34,
    "start_time": "2022-06-07T13:48:20.202Z"
   },
   {
    "duration": 76,
    "start_time": "2022-06-07T13:48:20.238Z"
   },
   {
    "duration": 69,
    "start_time": "2022-06-07T13:48:20.316Z"
   },
   {
    "duration": 4,
    "start_time": "2022-06-07T13:48:20.387Z"
   },
   {
    "duration": 41,
    "start_time": "2022-06-07T13:48:20.392Z"
   },
   {
    "duration": 45,
    "start_time": "2022-06-07T13:48:20.436Z"
   },
   {
    "duration": 4,
    "start_time": "2022-06-07T13:49:05.009Z"
   },
   {
    "duration": 3,
    "start_time": "2022-06-07T13:52:28.364Z"
   },
   {
    "duration": 5,
    "start_time": "2022-06-07T13:52:37.952Z"
   },
   {
    "duration": 9,
    "start_time": "2022-06-07T13:52:59.416Z"
   },
   {
    "duration": 8,
    "start_time": "2022-06-07T13:53:22.956Z"
   },
   {
    "duration": 23,
    "start_time": "2022-06-07T13:55:35.665Z"
   },
   {
    "duration": 3,
    "start_time": "2022-06-07T13:55:42.196Z"
   },
   {
    "duration": 171,
    "start_time": "2022-06-07T13:55:42.201Z"
   },
   {
    "duration": 9,
    "start_time": "2022-06-07T13:55:42.374Z"
   },
   {
    "duration": 22,
    "start_time": "2022-06-07T13:55:42.385Z"
   },
   {
    "duration": 194,
    "start_time": "2022-06-07T13:55:42.409Z"
   },
   {
    "duration": 24,
    "start_time": "2022-06-07T13:55:42.604Z"
   },
   {
    "duration": 3,
    "start_time": "2022-06-07T13:55:42.631Z"
   },
   {
    "duration": 52,
    "start_time": "2022-06-07T13:55:42.636Z"
   },
   {
    "duration": 88,
    "start_time": "2022-06-07T13:55:42.690Z"
   },
   {
    "duration": 4,
    "start_time": "2022-06-07T13:55:42.779Z"
   },
   {
    "duration": 92,
    "start_time": "2022-06-07T13:55:42.784Z"
   },
   {
    "duration": 19,
    "start_time": "2022-06-07T13:55:42.878Z"
   },
   {
    "duration": 68,
    "start_time": "2022-06-07T13:55:42.901Z"
   },
   {
    "duration": 12,
    "start_time": "2022-06-07T13:55:42.970Z"
   },
   {
    "duration": 17,
    "start_time": "2022-06-07T13:55:42.984Z"
   },
   {
    "duration": 10,
    "start_time": "2022-06-07T13:55:43.002Z"
   },
   {
    "duration": 7,
    "start_time": "2022-06-07T13:55:43.014Z"
   },
   {
    "duration": 44,
    "start_time": "2022-06-07T13:55:43.022Z"
   },
   {
    "duration": 28,
    "start_time": "2022-06-07T13:55:43.068Z"
   },
   {
    "duration": 257,
    "start_time": "2022-06-07T13:55:43.098Z"
   },
   {
    "duration": 10,
    "start_time": "2022-06-07T13:55:43.356Z"
   },
   {
    "duration": 58,
    "start_time": "2022-06-07T13:55:43.368Z"
   },
   {
    "duration": 9,
    "start_time": "2022-06-07T13:55:43.427Z"
   },
   {
    "duration": 27,
    "start_time": "2022-06-07T13:55:43.438Z"
   },
   {
    "duration": 24,
    "start_time": "2022-06-07T13:55:43.467Z"
   },
   {
    "duration": 7,
    "start_time": "2022-06-07T13:55:43.492Z"
   },
   {
    "duration": 25,
    "start_time": "2022-06-07T13:55:43.501Z"
   },
   {
    "duration": 73,
    "start_time": "2022-06-07T13:55:43.528Z"
   },
   {
    "duration": 18,
    "start_time": "2022-06-07T13:55:43.603Z"
   },
   {
    "duration": 4,
    "start_time": "2022-06-07T13:55:43.623Z"
   },
   {
    "duration": 40,
    "start_time": "2022-06-07T13:55:43.628Z"
   },
   {
    "duration": 16,
    "start_time": "2022-06-07T13:55:43.670Z"
   },
   {
    "duration": 39,
    "start_time": "2022-06-07T13:55:43.688Z"
   },
   {
    "duration": 16,
    "start_time": "2022-06-07T13:55:43.729Z"
   },
   {
    "duration": 9,
    "start_time": "2022-06-07T13:55:43.746Z"
   },
   {
    "duration": 13,
    "start_time": "2022-06-07T13:55:43.756Z"
   },
   {
    "duration": 5,
    "start_time": "2022-06-07T13:55:43.772Z"
   },
   {
    "duration": 33,
    "start_time": "2022-06-07T13:55:43.778Z"
   },
   {
    "duration": 83,
    "start_time": "2022-06-07T13:55:43.813Z"
   },
   {
    "duration": 4,
    "start_time": "2022-06-07T13:55:43.898Z"
   },
   {
    "duration": 17,
    "start_time": "2022-06-07T13:55:43.904Z"
   },
   {
    "duration": 11,
    "start_time": "2022-06-07T13:55:43.923Z"
   },
   {
    "duration": 8,
    "start_time": "2022-06-07T13:55:43.935Z"
   },
   {
    "duration": 24,
    "start_time": "2022-06-07T13:55:43.944Z"
   },
   {
    "duration": 17,
    "start_time": "2022-06-07T13:55:45.788Z"
   },
   {
    "duration": 1180,
    "start_time": "2022-06-07T13:55:58.565Z"
   },
   {
    "duration": 167,
    "start_time": "2022-06-07T13:55:59.747Z"
   },
   {
    "duration": 15,
    "start_time": "2022-06-07T13:55:59.915Z"
   },
   {
    "duration": 22,
    "start_time": "2022-06-07T13:55:59.932Z"
   },
   {
    "duration": 105,
    "start_time": "2022-06-07T13:55:59.966Z"
   },
   {
    "duration": 29,
    "start_time": "2022-06-07T13:56:00.072Z"
   },
   {
    "duration": 3,
    "start_time": "2022-06-07T13:56:00.103Z"
   },
   {
    "duration": 33,
    "start_time": "2022-06-07T13:56:00.108Z"
   },
   {
    "duration": 110,
    "start_time": "2022-06-07T13:56:00.143Z"
   },
   {
    "duration": 3,
    "start_time": "2022-06-07T13:56:00.266Z"
   },
   {
    "duration": 122,
    "start_time": "2022-06-07T13:56:00.270Z"
   },
   {
    "duration": 20,
    "start_time": "2022-06-07T13:56:00.395Z"
   },
   {
    "duration": 78,
    "start_time": "2022-06-07T13:56:00.417Z"
   },
   {
    "duration": 14,
    "start_time": "2022-06-07T13:56:00.499Z"
   },
   {
    "duration": 27,
    "start_time": "2022-06-07T13:56:00.515Z"
   },
   {
    "duration": 26,
    "start_time": "2022-06-07T13:56:00.544Z"
   },
   {
    "duration": 34,
    "start_time": "2022-06-07T13:56:00.572Z"
   },
   {
    "duration": 57,
    "start_time": "2022-06-07T13:56:00.608Z"
   },
   {
    "duration": 38,
    "start_time": "2022-06-07T13:56:00.667Z"
   },
   {
    "duration": 327,
    "start_time": "2022-06-07T13:56:00.707Z"
   },
   {
    "duration": 4,
    "start_time": "2022-06-07T13:56:01.036Z"
   },
   {
    "duration": 85,
    "start_time": "2022-06-07T13:56:01.041Z"
   },
   {
    "duration": 11,
    "start_time": "2022-06-07T13:56:01.127Z"
   },
   {
    "duration": 21,
    "start_time": "2022-06-07T13:56:01.139Z"
   },
   {
    "duration": 37,
    "start_time": "2022-06-07T13:56:01.162Z"
   },
   {
    "duration": 31,
    "start_time": "2022-06-07T13:56:01.201Z"
   },
   {
    "duration": 44,
    "start_time": "2022-06-07T13:56:01.233Z"
   },
   {
    "duration": 103,
    "start_time": "2022-06-07T13:56:01.279Z"
   },
   {
    "duration": 14,
    "start_time": "2022-06-07T13:56:01.383Z"
   },
   {
    "duration": 5,
    "start_time": "2022-06-07T13:56:01.399Z"
   },
   {
    "duration": 47,
    "start_time": "2022-06-07T13:56:01.406Z"
   },
   {
    "duration": 39,
    "start_time": "2022-06-07T13:56:01.454Z"
   },
   {
    "duration": 55,
    "start_time": "2022-06-07T13:56:01.495Z"
   },
   {
    "duration": 44,
    "start_time": "2022-06-07T13:56:01.551Z"
   },
   {
    "duration": 39,
    "start_time": "2022-06-07T13:56:01.597Z"
   },
   {
    "duration": 31,
    "start_time": "2022-06-07T13:56:01.638Z"
   },
   {
    "duration": 97,
    "start_time": "2022-06-07T13:56:01.671Z"
   },
   {
    "duration": 82,
    "start_time": "2022-06-07T13:56:01.769Z"
   },
   {
    "duration": 126,
    "start_time": "2022-06-07T13:56:01.853Z"
   },
   {
    "duration": 7,
    "start_time": "2022-06-07T13:56:01.980Z"
   },
   {
    "duration": 25,
    "start_time": "2022-06-07T13:56:01.991Z"
   },
   {
    "duration": 26,
    "start_time": "2022-06-07T13:56:02.017Z"
   },
   {
    "duration": 12,
    "start_time": "2022-06-07T13:56:02.045Z"
   },
   {
    "duration": 13,
    "start_time": "2022-06-07T13:56:02.058Z"
   },
   {
    "duration": 19,
    "start_time": "2022-06-07T13:56:14.564Z"
   },
   {
    "duration": 3,
    "start_time": "2022-06-07T13:57:30.045Z"
   },
   {
    "duration": 173,
    "start_time": "2022-06-07T13:57:30.054Z"
   },
   {
    "duration": 9,
    "start_time": "2022-06-07T13:57:30.230Z"
   },
   {
    "duration": 33,
    "start_time": "2022-06-07T13:57:30.241Z"
   },
   {
    "duration": 110,
    "start_time": "2022-06-07T13:57:30.276Z"
   },
   {
    "duration": 19,
    "start_time": "2022-06-07T13:57:30.388Z"
   },
   {
    "duration": 12,
    "start_time": "2022-06-07T13:57:30.409Z"
   },
   {
    "duration": 45,
    "start_time": "2022-06-07T13:57:30.423Z"
   },
   {
    "duration": 112,
    "start_time": "2022-06-07T13:57:30.470Z"
   },
   {
    "duration": 4,
    "start_time": "2022-06-07T13:57:30.585Z"
   },
   {
    "duration": 120,
    "start_time": "2022-06-07T13:57:30.591Z"
   },
   {
    "duration": 18,
    "start_time": "2022-06-07T13:57:30.712Z"
   },
   {
    "duration": 78,
    "start_time": "2022-06-07T13:57:30.732Z"
   },
   {
    "duration": 14,
    "start_time": "2022-06-07T13:57:30.812Z"
   },
   {
    "duration": 15,
    "start_time": "2022-06-07T13:57:30.830Z"
   },
   {
    "duration": 39,
    "start_time": "2022-06-07T13:57:30.847Z"
   },
   {
    "duration": 12,
    "start_time": "2022-06-07T13:57:30.888Z"
   },
   {
    "duration": 63,
    "start_time": "2022-06-07T13:57:30.902Z"
   },
   {
    "duration": 52,
    "start_time": "2022-06-07T13:57:30.968Z"
   },
   {
    "duration": 354,
    "start_time": "2022-06-07T13:57:31.022Z"
   },
   {
    "duration": 3,
    "start_time": "2022-06-07T13:57:31.378Z"
   },
   {
    "duration": 74,
    "start_time": "2022-06-07T13:57:31.383Z"
   },
   {
    "duration": 11,
    "start_time": "2022-06-07T13:57:31.459Z"
   },
   {
    "duration": 26,
    "start_time": "2022-06-07T13:57:31.471Z"
   },
   {
    "duration": 71,
    "start_time": "2022-06-07T13:57:31.499Z"
   },
   {
    "duration": 42,
    "start_time": "2022-06-07T13:57:31.572Z"
   },
   {
    "duration": 53,
    "start_time": "2022-06-07T13:57:31.616Z"
   },
   {
    "duration": 104,
    "start_time": "2022-06-07T13:57:31.671Z"
   },
   {
    "duration": 11,
    "start_time": "2022-06-07T13:57:31.777Z"
   },
   {
    "duration": 56,
    "start_time": "2022-06-07T13:57:31.790Z"
   },
   {
    "duration": 44,
    "start_time": "2022-06-07T13:57:31.848Z"
   },
   {
    "duration": 36,
    "start_time": "2022-06-07T13:57:31.894Z"
   },
   {
    "duration": 43,
    "start_time": "2022-06-07T13:57:31.932Z"
   },
   {
    "duration": 23,
    "start_time": "2022-06-07T13:57:31.977Z"
   },
   {
    "duration": 22,
    "start_time": "2022-06-07T13:57:32.002Z"
   },
   {
    "duration": 21,
    "start_time": "2022-06-07T13:57:32.026Z"
   },
   {
    "duration": 16,
    "start_time": "2022-06-07T13:57:32.049Z"
   },
   {
    "duration": 46,
    "start_time": "2022-06-07T13:57:32.067Z"
   },
   {
    "duration": 78,
    "start_time": "2022-06-07T13:57:32.115Z"
   },
   {
    "duration": 5,
    "start_time": "2022-06-07T13:57:32.195Z"
   },
   {
    "duration": 42,
    "start_time": "2022-06-07T13:57:32.201Z"
   },
   {
    "duration": 26,
    "start_time": "2022-06-07T13:57:32.247Z"
   },
   {
    "duration": 23,
    "start_time": "2022-06-07T13:57:32.275Z"
   },
   {
    "duration": 11,
    "start_time": "2022-06-07T13:57:34.908Z"
   },
   {
    "duration": 129,
    "start_time": "2022-06-07T13:58:52.736Z"
   },
   {
    "duration": 15,
    "start_time": "2022-06-07T13:59:00.256Z"
   },
   {
    "duration": 4,
    "start_time": "2022-06-07T13:59:06.588Z"
   },
   {
    "duration": 171,
    "start_time": "2022-06-07T13:59:06.594Z"
   },
   {
    "duration": 10,
    "start_time": "2022-06-07T13:59:06.767Z"
   },
   {
    "duration": 23,
    "start_time": "2022-06-07T13:59:06.779Z"
   },
   {
    "duration": 112,
    "start_time": "2022-06-07T13:59:06.805Z"
   },
   {
    "duration": 17,
    "start_time": "2022-06-07T13:59:06.918Z"
   },
   {
    "duration": 3,
    "start_time": "2022-06-07T13:59:06.937Z"
   },
   {
    "duration": 43,
    "start_time": "2022-06-07T13:59:06.941Z"
   },
   {
    "duration": 94,
    "start_time": "2022-06-07T13:59:06.986Z"
   },
   {
    "duration": 4,
    "start_time": "2022-06-07T13:59:07.081Z"
   },
   {
    "duration": 110,
    "start_time": "2022-06-07T13:59:07.086Z"
   },
   {
    "duration": 18,
    "start_time": "2022-06-07T13:59:07.198Z"
   },
   {
    "duration": 70,
    "start_time": "2022-06-07T13:59:07.218Z"
   },
   {
    "duration": 17,
    "start_time": "2022-06-07T13:59:07.291Z"
   },
   {
    "duration": 5,
    "start_time": "2022-06-07T13:59:07.310Z"
   },
   {
    "duration": 12,
    "start_time": "2022-06-07T13:59:07.316Z"
   },
   {
    "duration": 8,
    "start_time": "2022-06-07T13:59:07.330Z"
   },
   {
    "duration": 38,
    "start_time": "2022-06-07T13:59:07.366Z"
   },
   {
    "duration": 29,
    "start_time": "2022-06-07T13:59:07.406Z"
   },
   {
    "duration": 283,
    "start_time": "2022-06-07T13:59:07.436Z"
   },
   {
    "duration": 3,
    "start_time": "2022-06-07T13:59:07.721Z"
   },
   {
    "duration": 67,
    "start_time": "2022-06-07T13:59:07.726Z"
   },
   {
    "duration": 8,
    "start_time": "2022-06-07T13:59:07.795Z"
   },
   {
    "duration": 4,
    "start_time": "2022-06-07T13:59:07.804Z"
   },
   {
    "duration": 17,
    "start_time": "2022-06-07T13:59:07.810Z"
   },
   {
    "duration": 7,
    "start_time": "2022-06-07T13:59:07.829Z"
   },
   {
    "duration": 27,
    "start_time": "2022-06-07T13:59:07.865Z"
   },
   {
    "duration": 76,
    "start_time": "2022-06-07T13:59:07.893Z"
   },
   {
    "duration": 12,
    "start_time": "2022-06-07T13:59:07.971Z"
   },
   {
    "duration": 4,
    "start_time": "2022-06-07T13:59:07.985Z"
   },
   {
    "duration": 15,
    "start_time": "2022-06-07T13:59:07.990Z"
   },
   {
    "duration": 11,
    "start_time": "2022-06-07T13:59:08.007Z"
   },
   {
    "duration": 14,
    "start_time": "2022-06-07T13:59:08.020Z"
   },
   {
    "duration": 40,
    "start_time": "2022-06-07T13:59:08.035Z"
   },
   {
    "duration": 8,
    "start_time": "2022-06-07T13:59:08.077Z"
   },
   {
    "duration": 7,
    "start_time": "2022-06-07T13:59:08.087Z"
   },
   {
    "duration": 7,
    "start_time": "2022-06-07T13:59:08.095Z"
   },
   {
    "duration": 33,
    "start_time": "2022-06-07T13:59:08.103Z"
   },
   {
    "duration": 93,
    "start_time": "2022-06-07T13:59:08.138Z"
   },
   {
    "duration": 4,
    "start_time": "2022-06-07T13:59:08.233Z"
   },
   {
    "duration": 34,
    "start_time": "2022-06-07T13:59:08.240Z"
   },
   {
    "duration": 14,
    "start_time": "2022-06-07T13:59:08.275Z"
   },
   {
    "duration": 10,
    "start_time": "2022-06-07T13:59:08.291Z"
   },
   {
    "duration": 15,
    "start_time": "2022-06-07T13:59:10.553Z"
   },
   {
    "duration": 3,
    "start_time": "2022-06-07T13:59:33.364Z"
   },
   {
    "duration": 182,
    "start_time": "2022-06-07T13:59:33.369Z"
   },
   {
    "duration": 12,
    "start_time": "2022-06-07T13:59:33.553Z"
   },
   {
    "duration": 31,
    "start_time": "2022-06-07T13:59:33.567Z"
   },
   {
    "duration": 111,
    "start_time": "2022-06-07T13:59:33.601Z"
   },
   {
    "duration": 22,
    "start_time": "2022-06-07T13:59:33.713Z"
   },
   {
    "duration": 9,
    "start_time": "2022-06-07T13:59:33.737Z"
   },
   {
    "duration": 39,
    "start_time": "2022-06-07T13:59:33.748Z"
   },
   {
    "duration": 94,
    "start_time": "2022-06-07T13:59:33.789Z"
   },
   {
    "duration": 3,
    "start_time": "2022-06-07T13:59:33.885Z"
   },
   {
    "duration": 103,
    "start_time": "2022-06-07T13:59:33.890Z"
   },
   {
    "duration": 17,
    "start_time": "2022-06-07T13:59:33.995Z"
   },
   {
    "duration": 74,
    "start_time": "2022-06-07T13:59:34.014Z"
   },
   {
    "duration": 13,
    "start_time": "2022-06-07T13:59:34.090Z"
   },
   {
    "duration": 21,
    "start_time": "2022-06-07T13:59:34.105Z"
   },
   {
    "duration": 30,
    "start_time": "2022-06-07T13:59:34.128Z"
   },
   {
    "duration": 13,
    "start_time": "2022-06-07T13:59:34.160Z"
   },
   {
    "duration": 42,
    "start_time": "2022-06-07T13:59:34.175Z"
   },
   {
    "duration": 35,
    "start_time": "2022-06-07T13:59:34.219Z"
   },
   {
    "duration": 250,
    "start_time": "2022-06-07T13:59:34.256Z"
   },
   {
    "duration": 3,
    "start_time": "2022-06-07T13:59:34.508Z"
   },
   {
    "duration": 67,
    "start_time": "2022-06-07T13:59:34.512Z"
   },
   {
    "duration": 8,
    "start_time": "2022-06-07T13:59:34.580Z"
   },
   {
    "duration": 4,
    "start_time": "2022-06-07T13:59:34.589Z"
   },
   {
    "duration": 26,
    "start_time": "2022-06-07T13:59:34.595Z"
   },
   {
    "duration": 5,
    "start_time": "2022-06-07T13:59:34.623Z"
   },
   {
    "duration": 43,
    "start_time": "2022-06-07T13:59:34.631Z"
   },
   {
    "duration": 58,
    "start_time": "2022-06-07T13:59:34.676Z"
   },
   {
    "duration": 12,
    "start_time": "2022-06-07T13:59:34.736Z"
   },
   {
    "duration": 6,
    "start_time": "2022-06-07T13:59:34.765Z"
   },
   {
    "duration": 15,
    "start_time": "2022-06-07T13:59:34.772Z"
   },
   {
    "duration": 11,
    "start_time": "2022-06-07T13:59:34.789Z"
   },
   {
    "duration": 12,
    "start_time": "2022-06-07T13:59:34.802Z"
   },
   {
    "duration": 12,
    "start_time": "2022-06-07T13:59:34.816Z"
   },
   {
    "duration": 7,
    "start_time": "2022-06-07T13:59:34.829Z"
   },
   {
    "duration": 29,
    "start_time": "2022-06-07T13:59:34.837Z"
   },
   {
    "duration": 4,
    "start_time": "2022-06-07T13:59:34.871Z"
   },
   {
    "duration": 32,
    "start_time": "2022-06-07T13:59:34.877Z"
   },
   {
    "duration": 95,
    "start_time": "2022-06-07T13:59:34.911Z"
   },
   {
    "duration": 5,
    "start_time": "2022-06-07T13:59:35.008Z"
   },
   {
    "duration": 28,
    "start_time": "2022-06-07T13:59:35.015Z"
   },
   {
    "duration": 13,
    "start_time": "2022-06-07T13:59:35.045Z"
   },
   {
    "duration": 10,
    "start_time": "2022-06-07T13:59:35.065Z"
   },
   {
    "duration": 15,
    "start_time": "2022-06-07T13:59:39.832Z"
   },
   {
    "duration": 6,
    "start_time": "2022-06-07T14:01:46.395Z"
   },
   {
    "duration": 9,
    "start_time": "2022-06-07T14:01:48.592Z"
   },
   {
    "duration": 8,
    "start_time": "2022-06-07T14:02:25.413Z"
   },
   {
    "duration": 8,
    "start_time": "2022-06-07T14:03:00.267Z"
   },
   {
    "duration": 9,
    "start_time": "2022-06-07T14:04:05.196Z"
   },
   {
    "duration": 7,
    "start_time": "2022-06-07T14:04:34.213Z"
   },
   {
    "duration": 8,
    "start_time": "2022-06-07T14:05:00.198Z"
   },
   {
    "duration": 11,
    "start_time": "2022-06-07T14:05:18.997Z"
   },
   {
    "duration": 11,
    "start_time": "2022-06-07T14:05:41.471Z"
   },
   {
    "duration": 7,
    "start_time": "2022-06-07T14:07:07.957Z"
   },
   {
    "duration": 9,
    "start_time": "2022-06-07T14:07:48.734Z"
   },
   {
    "duration": 7,
    "start_time": "2022-06-07T14:08:04.113Z"
   },
   {
    "duration": 8,
    "start_time": "2022-06-07T14:08:24.498Z"
   },
   {
    "duration": 8,
    "start_time": "2022-06-07T14:09:09.849Z"
   },
   {
    "duration": 9,
    "start_time": "2022-06-07T14:09:26.487Z"
   },
   {
    "duration": 3,
    "start_time": "2022-06-07T14:11:16.541Z"
   },
   {
    "duration": 177,
    "start_time": "2022-06-07T14:11:16.547Z"
   },
   {
    "duration": 10,
    "start_time": "2022-06-07T14:11:16.726Z"
   },
   {
    "duration": 40,
    "start_time": "2022-06-07T14:11:16.739Z"
   },
   {
    "duration": 103,
    "start_time": "2022-06-07T14:11:16.781Z"
   },
   {
    "duration": 27,
    "start_time": "2022-06-07T14:11:16.886Z"
   },
   {
    "duration": 3,
    "start_time": "2022-06-07T14:11:16.915Z"
   },
   {
    "duration": 46,
    "start_time": "2022-06-07T14:11:16.920Z"
   },
   {
    "duration": 86,
    "start_time": "2022-06-07T14:11:16.968Z"
   },
   {
    "duration": 4,
    "start_time": "2022-06-07T14:11:17.067Z"
   },
   {
    "duration": 102,
    "start_time": "2022-06-07T14:11:17.073Z"
   },
   {
    "duration": 18,
    "start_time": "2022-06-07T14:11:17.177Z"
   },
   {
    "duration": 68,
    "start_time": "2022-06-07T14:11:17.197Z"
   },
   {
    "duration": 15,
    "start_time": "2022-06-07T14:11:17.266Z"
   },
   {
    "duration": 7,
    "start_time": "2022-06-07T14:11:17.283Z"
   },
   {
    "duration": 12,
    "start_time": "2022-06-07T14:11:17.292Z"
   },
   {
    "duration": 7,
    "start_time": "2022-06-07T14:11:17.305Z"
   },
   {
    "duration": 57,
    "start_time": "2022-06-07T14:11:17.314Z"
   },
   {
    "duration": 33,
    "start_time": "2022-06-07T14:11:17.372Z"
   },
   {
    "duration": 361,
    "start_time": "2022-06-07T14:11:17.407Z"
   },
   {
    "duration": 4,
    "start_time": "2022-06-07T14:11:17.771Z"
   },
   {
    "duration": 68,
    "start_time": "2022-06-07T14:11:17.776Z"
   },
   {
    "duration": 23,
    "start_time": "2022-06-07T14:11:17.846Z"
   },
   {
    "duration": 7,
    "start_time": "2022-06-07T14:11:17.870Z"
   },
   {
    "duration": 26,
    "start_time": "2022-06-07T14:11:17.879Z"
   },
   {
    "duration": 6,
    "start_time": "2022-06-07T14:11:17.907Z"
   },
   {
    "duration": 50,
    "start_time": "2022-06-07T14:11:17.915Z"
   },
   {
    "duration": 60,
    "start_time": "2022-06-07T14:11:17.969Z"
   },
   {
    "duration": 12,
    "start_time": "2022-06-07T14:11:18.031Z"
   },
   {
    "duration": 22,
    "start_time": "2022-06-07T14:11:18.044Z"
   },
   {
    "duration": 16,
    "start_time": "2022-06-07T14:11:18.068Z"
   },
   {
    "duration": 12,
    "start_time": "2022-06-07T14:11:18.086Z"
   },
   {
    "duration": 13,
    "start_time": "2022-06-07T14:11:18.099Z"
   },
   {
    "duration": 16,
    "start_time": "2022-06-07T14:11:18.114Z"
   },
   {
    "duration": 6,
    "start_time": "2022-06-07T14:11:18.131Z"
   },
   {
    "duration": 29,
    "start_time": "2022-06-07T14:11:18.138Z"
   },
   {
    "duration": 10,
    "start_time": "2022-06-07T14:11:18.169Z"
   },
   {
    "duration": 32,
    "start_time": "2022-06-07T14:11:18.180Z"
   },
   {
    "duration": 95,
    "start_time": "2022-06-07T14:11:18.215Z"
   },
   {
    "duration": 4,
    "start_time": "2022-06-07T14:11:18.312Z"
   },
   {
    "duration": 20,
    "start_time": "2022-06-07T14:11:18.318Z"
   },
   {
    "duration": 11,
    "start_time": "2022-06-07T14:11:18.340Z"
   },
   {
    "duration": 10,
    "start_time": "2022-06-07T14:11:18.365Z"
   },
   {
    "duration": 22,
    "start_time": "2022-06-07T14:11:18.376Z"
   },
   {
    "duration": 10,
    "start_time": "2022-06-07T14:11:18.400Z"
   },
   {
    "duration": 8,
    "start_time": "2022-06-07T14:11:20.802Z"
   },
   {
    "duration": 7,
    "start_time": "2022-06-07T14:11:29.730Z"
   },
   {
    "duration": 8,
    "start_time": "2022-06-07T14:11:34.745Z"
   },
   {
    "duration": 8,
    "start_time": "2022-06-07T14:11:40.065Z"
   },
   {
    "duration": 8,
    "start_time": "2022-06-07T14:11:47.198Z"
   },
   {
    "duration": 9,
    "start_time": "2022-06-07T14:11:53.849Z"
   },
   {
    "duration": 9,
    "start_time": "2022-06-07T14:11:59.566Z"
   },
   {
    "duration": 8,
    "start_time": "2022-06-07T14:12:09.149Z"
   },
   {
    "duration": 8,
    "start_time": "2022-06-07T14:12:14.566Z"
   },
   {
    "duration": 13,
    "start_time": "2022-06-07T14:12:18.988Z"
   },
   {
    "duration": 10,
    "start_time": "2022-06-07T14:13:31.401Z"
   },
   {
    "duration": 10,
    "start_time": "2022-06-07T14:13:48.313Z"
   },
   {
    "duration": 9,
    "start_time": "2022-06-07T14:14:16.099Z"
   },
   {
    "duration": 12,
    "start_time": "2022-06-07T14:14:42.370Z"
   },
   {
    "duration": 8,
    "start_time": "2022-06-07T14:16:06.481Z"
   },
   {
    "duration": 1133,
    "start_time": "2022-06-07T15:18:09.011Z"
   },
   {
    "duration": 133,
    "start_time": "2022-06-07T15:18:10.146Z"
   },
   {
    "duration": 17,
    "start_time": "2022-06-07T15:18:10.281Z"
   },
   {
    "duration": 19,
    "start_time": "2022-06-07T15:18:10.300Z"
   },
   {
    "duration": 116,
    "start_time": "2022-06-07T15:18:10.321Z"
   },
   {
    "duration": 25,
    "start_time": "2022-06-07T15:18:10.439Z"
   },
   {
    "duration": 12,
    "start_time": "2022-06-07T15:18:10.466Z"
   },
   {
    "duration": 36,
    "start_time": "2022-06-07T15:18:10.479Z"
   },
   {
    "duration": 125,
    "start_time": "2022-06-07T15:18:10.516Z"
   },
   {
    "duration": 3,
    "start_time": "2022-06-07T15:18:10.643Z"
   },
   {
    "duration": 92,
    "start_time": "2022-06-07T15:18:10.648Z"
   },
   {
    "duration": 19,
    "start_time": "2022-06-07T15:18:10.744Z"
   },
   {
    "duration": 68,
    "start_time": "2022-06-07T15:18:10.764Z"
   },
   {
    "duration": 14,
    "start_time": "2022-06-07T15:18:10.834Z"
   },
   {
    "duration": 10,
    "start_time": "2022-06-07T15:18:10.850Z"
   },
   {
    "duration": 16,
    "start_time": "2022-06-07T15:18:10.862Z"
   },
   {
    "duration": 16,
    "start_time": "2022-06-07T15:18:10.880Z"
   },
   {
    "duration": 30,
    "start_time": "2022-06-07T15:18:10.898Z"
   },
   {
    "duration": 29,
    "start_time": "2022-06-07T15:18:10.930Z"
   },
   {
    "duration": 313,
    "start_time": "2022-06-07T15:18:10.962Z"
   },
   {
    "duration": 2,
    "start_time": "2022-06-07T15:18:11.277Z"
   },
   {
    "duration": 61,
    "start_time": "2022-06-07T15:18:11.281Z"
   },
   {
    "duration": 21,
    "start_time": "2022-06-07T15:18:11.344Z"
   },
   {
    "duration": 6,
    "start_time": "2022-06-07T15:18:11.367Z"
   },
   {
    "duration": 24,
    "start_time": "2022-06-07T15:18:11.375Z"
   },
   {
    "duration": 6,
    "start_time": "2022-06-07T15:18:11.401Z"
   },
   {
    "duration": 41,
    "start_time": "2022-06-07T15:18:11.408Z"
   },
   {
    "duration": 77,
    "start_time": "2022-06-07T15:18:11.454Z"
   },
   {
    "duration": 12,
    "start_time": "2022-06-07T15:18:11.533Z"
   },
   {
    "duration": 4,
    "start_time": "2022-06-07T15:18:11.547Z"
   },
   {
    "duration": 25,
    "start_time": "2022-06-07T15:18:11.553Z"
   },
   {
    "duration": 25,
    "start_time": "2022-06-07T15:18:11.580Z"
   },
   {
    "duration": 22,
    "start_time": "2022-06-07T15:18:11.607Z"
   },
   {
    "duration": 22,
    "start_time": "2022-06-07T15:18:11.631Z"
   },
   {
    "duration": 10,
    "start_time": "2022-06-07T15:18:11.655Z"
   },
   {
    "duration": 6,
    "start_time": "2022-06-07T15:18:11.667Z"
   },
   {
    "duration": 8,
    "start_time": "2022-06-07T15:18:11.675Z"
   },
   {
    "duration": 37,
    "start_time": "2022-06-07T15:18:11.695Z"
   },
   {
    "duration": 102,
    "start_time": "2022-06-07T15:18:11.734Z"
   },
   {
    "duration": 6,
    "start_time": "2022-06-07T15:18:11.838Z"
   },
   {
    "duration": 20,
    "start_time": "2022-06-07T15:18:11.846Z"
   },
   {
    "duration": 9,
    "start_time": "2022-06-07T15:18:11.868Z"
   },
   {
    "duration": 26,
    "start_time": "2022-06-07T15:18:11.878Z"
   },
   {
    "duration": 13,
    "start_time": "2022-06-07T15:18:11.905Z"
   },
   {
    "duration": 12,
    "start_time": "2022-06-07T15:18:11.920Z"
   },
   {
    "duration": 10,
    "start_time": "2022-06-07T15:18:11.934Z"
   },
   {
    "duration": 11,
    "start_time": "2022-06-07T15:18:11.946Z"
   },
   {
    "duration": 11,
    "start_time": "2022-06-07T15:18:11.958Z"
   },
   {
    "duration": 9,
    "start_time": "2022-06-07T15:18:11.994Z"
   },
   {
    "duration": 13,
    "start_time": "2022-06-07T15:18:12.005Z"
   },
   {
    "duration": 15,
    "start_time": "2022-06-07T15:18:12.020Z"
   },
   {
    "duration": 14,
    "start_time": "2022-06-07T15:18:12.036Z"
   },
   {
    "duration": 12,
    "start_time": "2022-06-07T15:18:12.052Z"
   },
   {
    "duration": 21,
    "start_time": "2022-06-07T15:18:12.066Z"
   },
   {
    "duration": 13,
    "start_time": "2022-06-07T15:18:12.088Z"
   },
   {
    "duration": 9,
    "start_time": "2022-06-07T15:18:12.103Z"
   },
   {
    "duration": 10,
    "start_time": "2022-06-07T15:18:12.113Z"
   },
   {
    "duration": 8,
    "start_time": "2022-06-07T15:18:12.125Z"
   },
   {
    "duration": 14,
    "start_time": "2022-06-07T15:18:12.134Z"
   },
   {
    "duration": 9,
    "start_time": "2022-06-07T15:18:12.149Z"
   },
   {
    "duration": 38,
    "start_time": "2022-06-07T15:18:12.159Z"
   },
   {
    "duration": 13,
    "start_time": "2022-06-07T15:18:12.199Z"
   },
   {
    "duration": 9,
    "start_time": "2022-06-07T15:18:12.214Z"
   },
   {
    "duration": 1309,
    "start_time": "2022-06-07T19:38:02.938Z"
   },
   {
    "duration": 791,
    "start_time": "2022-06-07T19:38:04.249Z"
   },
   {
    "duration": 20,
    "start_time": "2022-06-07T19:38:05.042Z"
   },
   {
    "duration": 35,
    "start_time": "2022-06-07T19:38:05.064Z"
   },
   {
    "duration": 205,
    "start_time": "2022-06-07T19:38:05.102Z"
   },
   {
    "duration": 28,
    "start_time": "2022-06-07T19:38:05.308Z"
   },
   {
    "duration": 6,
    "start_time": "2022-06-07T19:38:05.338Z"
   },
   {
    "duration": 40,
    "start_time": "2022-06-07T19:38:05.346Z"
   },
   {
    "duration": 98,
    "start_time": "2022-06-07T19:38:05.388Z"
   },
   {
    "duration": 4,
    "start_time": "2022-06-07T19:38:05.488Z"
   },
   {
    "duration": 109,
    "start_time": "2022-06-07T19:38:05.494Z"
   },
   {
    "duration": 28,
    "start_time": "2022-06-07T19:38:05.604Z"
   },
   {
    "duration": 58,
    "start_time": "2022-06-07T19:38:05.633Z"
   },
   {
    "duration": 33,
    "start_time": "2022-06-07T19:38:05.694Z"
   },
   {
    "duration": 4,
    "start_time": "2022-06-07T19:38:05.729Z"
   },
   {
    "duration": 11,
    "start_time": "2022-06-07T19:38:05.735Z"
   },
   {
    "duration": 9,
    "start_time": "2022-06-07T19:38:05.749Z"
   },
   {
    "duration": 81,
    "start_time": "2022-06-07T19:38:05.761Z"
   },
   {
    "duration": 28,
    "start_time": "2022-06-07T19:38:05.845Z"
   },
   {
    "duration": 294,
    "start_time": "2022-06-07T19:38:05.875Z"
   },
   {
    "duration": 3,
    "start_time": "2022-06-07T19:38:06.171Z"
   },
   {
    "duration": 65,
    "start_time": "2022-06-07T19:38:06.176Z"
   },
   {
    "duration": 10,
    "start_time": "2022-06-07T19:38:06.242Z"
   },
   {
    "duration": 5,
    "start_time": "2022-06-07T19:38:06.254Z"
   },
   {
    "duration": 20,
    "start_time": "2022-06-07T19:38:06.261Z"
   },
   {
    "duration": 8,
    "start_time": "2022-06-07T19:38:06.283Z"
   },
   {
    "duration": 63,
    "start_time": "2022-06-07T19:38:06.293Z"
   },
   {
    "duration": 118,
    "start_time": "2022-06-07T19:38:06.359Z"
   },
   {
    "duration": 15,
    "start_time": "2022-06-07T19:38:06.481Z"
   },
   {
    "duration": 7,
    "start_time": "2022-06-07T19:38:06.498Z"
   },
   {
    "duration": 40,
    "start_time": "2022-06-07T19:38:06.507Z"
   },
   {
    "duration": 33,
    "start_time": "2022-06-07T19:38:06.549Z"
   },
   {
    "duration": 24,
    "start_time": "2022-06-07T19:38:06.584Z"
   },
   {
    "duration": 52,
    "start_time": "2022-06-07T19:38:06.610Z"
   },
   {
    "duration": 30,
    "start_time": "2022-06-07T19:38:06.664Z"
   },
   {
    "duration": 27,
    "start_time": "2022-06-07T19:38:06.697Z"
   },
   {
    "duration": 19,
    "start_time": "2022-06-07T19:38:06.726Z"
   },
   {
    "duration": 24,
    "start_time": "2022-06-07T19:38:06.747Z"
   },
   {
    "duration": 130,
    "start_time": "2022-06-07T19:38:51.156Z"
   },
   {
    "duration": 35,
    "start_time": "2022-06-07T19:40:51.980Z"
   },
   {
    "duration": 45,
    "start_time": "2022-06-07T19:42:06.557Z"
   },
   {
    "duration": 3,
    "start_time": "2022-06-07T19:42:56.100Z"
   },
   {
    "duration": 139,
    "start_time": "2022-06-07T19:42:56.109Z"
   },
   {
    "duration": 9,
    "start_time": "2022-06-07T19:42:56.250Z"
   },
   {
    "duration": 27,
    "start_time": "2022-06-07T19:42:56.260Z"
   },
   {
    "duration": 98,
    "start_time": "2022-06-07T19:42:56.289Z"
   },
   {
    "duration": 13,
    "start_time": "2022-06-07T19:42:56.388Z"
   },
   {
    "duration": 4,
    "start_time": "2022-06-07T19:42:56.403Z"
   },
   {
    "duration": 30,
    "start_time": "2022-06-07T19:42:56.409Z"
   },
   {
    "duration": 95,
    "start_time": "2022-06-07T19:42:56.441Z"
   },
   {
    "duration": 5,
    "start_time": "2022-06-07T19:42:56.538Z"
   },
   {
    "duration": 146,
    "start_time": "2022-06-07T19:42:56.546Z"
   },
   {
    "duration": 17,
    "start_time": "2022-06-07T19:42:56.694Z"
   },
   {
    "duration": 61,
    "start_time": "2022-06-07T19:42:56.712Z"
   },
   {
    "duration": 13,
    "start_time": "2022-06-07T19:42:56.775Z"
   },
   {
    "duration": 6,
    "start_time": "2022-06-07T19:42:56.789Z"
   },
   {
    "duration": 30,
    "start_time": "2022-06-07T19:42:56.797Z"
   },
   {
    "duration": 8,
    "start_time": "2022-06-07T19:42:56.829Z"
   },
   {
    "duration": 30,
    "start_time": "2022-06-07T19:42:56.839Z"
   },
   {
    "duration": 24,
    "start_time": "2022-06-07T19:42:56.870Z"
   },
   {
    "duration": 239,
    "start_time": "2022-06-07T19:42:56.895Z"
   },
   {
    "duration": 4,
    "start_time": "2022-06-07T19:42:57.135Z"
   },
   {
    "duration": 49,
    "start_time": "2022-06-07T19:42:57.140Z"
   },
   {
    "duration": 8,
    "start_time": "2022-06-07T19:42:57.191Z"
   },
   {
    "duration": 9,
    "start_time": "2022-06-07T19:42:57.200Z"
   },
   {
    "duration": 12,
    "start_time": "2022-06-07T19:42:57.226Z"
   },
   {
    "duration": 5,
    "start_time": "2022-06-07T19:42:57.239Z"
   },
   {
    "duration": 22,
    "start_time": "2022-06-07T19:42:57.246Z"
   },
   {
    "duration": 78,
    "start_time": "2022-06-07T19:42:57.269Z"
   },
   {
    "duration": 10,
    "start_time": "2022-06-07T19:42:57.350Z"
   },
   {
    "duration": 3,
    "start_time": "2022-06-07T19:42:57.362Z"
   },
   {
    "duration": 13,
    "start_time": "2022-06-07T19:42:57.366Z"
   },
   {
    "duration": 13,
    "start_time": "2022-06-07T19:42:57.381Z"
   },
   {
    "duration": 31,
    "start_time": "2022-06-07T19:42:57.395Z"
   },
   {
    "duration": 11,
    "start_time": "2022-06-07T19:42:57.428Z"
   },
   {
    "duration": 7,
    "start_time": "2022-06-07T19:42:57.440Z"
   },
   {
    "duration": 7,
    "start_time": "2022-06-07T19:42:57.448Z"
   },
   {
    "duration": 8,
    "start_time": "2022-06-07T19:42:57.457Z"
   },
   {
    "duration": 37,
    "start_time": "2022-06-07T19:43:03.359Z"
   },
   {
    "duration": 33,
    "start_time": "2022-06-07T19:44:18.990Z"
   },
   {
    "duration": 1273,
    "start_time": "2022-07-25T08:10:41.661Z"
   },
   {
    "duration": 488,
    "start_time": "2022-07-25T08:10:42.936Z"
   },
   {
    "duration": 13,
    "start_time": "2022-07-25T08:10:43.426Z"
   },
   {
    "duration": 18,
    "start_time": "2022-07-25T08:10:43.440Z"
   },
   {
    "duration": 98,
    "start_time": "2022-07-25T08:10:43.460Z"
   },
   {
    "duration": 30,
    "start_time": "2022-07-25T08:10:43.560Z"
   }
  ],
  "kernelspec": {
   "display_name": "Python 3 (ipykernel)",
   "language": "python",
   "name": "python3"
  },
  "language_info": {
   "codemirror_mode": {
    "name": "ipython",
    "version": 3
   },
   "file_extension": ".py",
   "mimetype": "text/x-python",
   "name": "python",
   "nbconvert_exporter": "python",
   "pygments_lexer": "ipython3",
   "version": "3.9.7"
  },
  "toc": {
   "base_numbering": 1,
   "nav_menu": {},
   "number_sections": true,
   "sideBar": true,
   "skip_h1_title": true,
   "title_cell": "Table of Contents",
   "title_sidebar": "Contents",
   "toc_cell": false,
   "toc_position": {},
   "toc_section_display": true,
   "toc_window_display": true
  }
 },
 "nbformat": 4,
 "nbformat_minor": 2
}
